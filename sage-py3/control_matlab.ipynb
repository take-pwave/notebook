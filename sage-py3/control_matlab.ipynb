{
 "cells": [
  {
   "cell_type": "code",
   "execution_count": 1,
   "metadata": {},
   "outputs": [
    {
     "name": "stdout",
     "output_type": "stream",
     "text": [
      "Collecting control\n",
      "\u001b[?25l  Downloading https://files.pythonhosted.org/packages/e8/b0/32a903138505dd4ea523f8a3fc156c4272aa58b10100ef24ff74ced2fae8/control-0.8.3.tar.gz (249kB)\n",
      "\u001b[K    100% |████████████████████████████████| 256kB 3.3MB/s ta 0:00:01\n",
      "\u001b[?25hRequirement already satisfied: numpy in /home/sage/sage/local/lib/python3.7/site-packages (from control) (1.16.1)\n",
      "Requirement already satisfied: scipy in /home/sage/sage/local/lib/python3.7/site-packages (from control) (1.2.0)\n",
      "Requirement already satisfied: matplotlib in /home/sage/sage/local/lib/python3.7/site-packages (from control) (2.2.4)\n",
      "Requirement already satisfied: cycler>=0.10 in /home/sage/sage/local/lib/python3.7/site-packages (from matplotlib->control) (0.10.0)\n",
      "Requirement already satisfied: pyparsing!=2.0.4,!=2.1.2,!=2.1.6,>=2.0.1 in /home/sage/sage/local/lib/python3.7/site-packages (from matplotlib->control) (2.3.0)\n",
      "Requirement already satisfied: python-dateutil>=2.1 in /home/sage/sage/local/lib/python3.7/site-packages (from matplotlib->control) (2.8.1)\n",
      "Requirement already satisfied: pytz in /home/sage/sage/local/lib/python3.7/site-packages (from matplotlib->control) (2018.7)\n",
      "Requirement already satisfied: six>=1.10 in /home/sage/sage/local/lib/python3.7/site-packages (from matplotlib->control) (1.12.0)\n",
      "Requirement already satisfied: kiwisolver>=1.0.1 in /home/sage/sage/local/lib/python3.7/site-packages (from matplotlib->control) (1.0.1)\n",
      "Requirement already satisfied: setuptools in /home/sage/sage/local/lib/python3.7/site-packages (from kiwisolver>=1.0.1->matplotlib->control) (46.1.3)\n",
      "Building wheels for collected packages: control\n",
      "  Running setup.py bdist_wheel for control ... \u001b[?25ldone\n",
      "\u001b[?25h  Stored in directory: /home/sage/.cache/pip/wheels/c2/d9/cc/90b28cb139a6320a3af2285428b6da87eee8d8920c78bb0223\n",
      "Successfully built control\n",
      "Installing collected packages: control\n",
      "Successfully installed control-0.8.3\n"
     ]
    }
   ],
   "source": [
    "! pip install control"
   ]
  },
  {
   "cell_type": "code",
   "execution_count": 2,
   "metadata": {},
   "outputs": [
    {
     "name": "stdout",
     "output_type": "stream",
     "text": [
      "Collecting slycot\n",
      "\u001b[?25l  Downloading https://files.pythonhosted.org/packages/85/21/4e7110462f3529b2fbcff8a519b61bf64e0604b8fcbe9a07649c9bed9d7a/slycot-0.4.0.0.tar.gz (1.5MB)\n",
      "\u001b[K    100% |████████████████████████████████| 1.6MB 10.3MB/s ta 0:00:01\n",
      "\u001b[?25h  Installing build dependencies ... \u001b[?25ldone\n",
      "\u001b[?25hRequirement already satisfied: numpy in /home/sage/sage/local/lib/python3.7/site-packages (from slycot) (1.16.1)\n",
      "Building wheels for collected packages: slycot\n",
      "  Running setup.py bdist_wheel for slycot ... \u001b[?25ldone\n",
      "\u001b[?25h  Stored in directory: /home/sage/.cache/pip/wheels/a2/46/56/f82cbb2fd06556f4f3952a2eb2396e8fd29264fffecbaad3cf\n",
      "Successfully built slycot\n",
      "Installing collected packages: slycot\n",
      "Successfully installed slycot-0.4.0\n"
     ]
    }
   ],
   "source": [
    "! pip install slycot"
   ]
  },
  {
   "cell_type": "markdown",
   "metadata": {},
   "source": [
    "## Python Control\n",
    "依存ライブラリ\n",
    "- slycot\n",
    "\n",
    "MATLAB互換関数マニュアル\n",
    "- http://python-control.sourceforge.net/manual/matlab_strings.html?highlight=margin#matlab.margin\n"
   ]
  },
  {
   "cell_type": "code",
   "execution_count": 1,
   "metadata": {},
   "outputs": [
    {
     "name": "stdout",
     "output_type": "stream",
     "text": [
      "\n",
      "    1\n",
      "---------\n",
      "0.5 s + 1\n",
      "\n"
     ]
    }
   ],
   "source": [
    "import numpy as np\n",
    "from control import matlab\n",
    "from matplotlib import pyplot as plt\n",
    "%matplotlib inline\n",
    "\n",
    "# パラメータ\n",
    "K = 1.0\n",
    "T = 0.5\n",
    "\n",
    "# 伝達関数モデル作成(sageから使う場合[]の配列ではなく、np.arrayを使う)\n",
    "num = np.array([K])\n",
    "den = np.array([T, 1])\n",
    "G1st = matlab.tf(num, den)\n",
    "print(G1st)"
   ]
  },
  {
   "cell_type": "code",
   "execution_count": 2,
   "metadata": {},
   "outputs": [
    {
     "data": {
      "image/png": "[encoded data removed]",
      "text/plain": [
       "<Figure size 432x288 with 1 Axes>"
      ]
     },
     "metadata": {},
     "output_type": "display_data"
    }
   ],
   "source": [
    "# ステップ応答波形\n",
    "t = np.linspace(0, 5.0, 1000)\n",
    "(output, t) = matlab.step(G1st, t)\n",
    "\n",
    "# 出力パラメータ\n",
    "plt.plot(t, output)\n",
    "plt.show()\n",
    "# 時定数は、Yが(1 - 1/e)の値になるまでの時間\n",
    "# 以下の例では0.5の時に0.63になっている"
   ]
  },
  {
   "cell_type": "code",
   "execution_count": 3,
   "metadata": {},
   "outputs": [
    {
     "data": {
      "text/html": [
       "<html><script type=\"math/tex; mode=display\">\\newcommand{\\Bold}[1]{\\mathbf{#1}}\\left(\\begin{array}{rrr}\n",
       "1 & 1 & 2 \\\\\n",
       "2 & 1 & 1 \\\\\n",
       "3 & 4 & 5\n",
       "\\end{array}\\right)</script></html>"
      ],
      "text/plain": [
       "[1 1 2]\n",
       "[2 1 1]\n",
       "[3 4 5]"
      ]
     },
     "metadata": {},
     "output_type": "display_data"
    },
    {
     "data": {
      "text/html": [
       "<html><script type=\"math/tex; mode=display\">\\newcommand{\\Bold}[1]{\\mathbf{#1}}\\left(\\begin{array}{r}\n",
       "2 \\\\\n",
       "0 \\\\\n",
       "1\n",
       "\\end{array}\\right)</script></html>"
      ],
      "text/plain": [
       "[2]\n",
       "[0]\n",
       "[1]"
      ]
     },
     "metadata": {},
     "output_type": "display_data"
    },
    {
     "data": {
      "text/html": [
       "<html><script type=\"math/tex; mode=display\">\\newcommand{\\Bold}[1]{\\mathbf{#1}}\\left(\\begin{array}{rrr}\n",
       "1 & 1 & 0\n",
       "\\end{array}\\right)</script></html>"
      ],
      "text/plain": [
       "[1 1 0]"
      ]
     },
     "metadata": {},
     "output_type": "display_data"
    },
    {
     "data": {
      "text/html": [
       "<html><script type=\"math/tex; mode=display\">\\newcommand{\\Bold}[1]{\\mathbf{#1}}\\left(\\begin{array}{r}\n",
       "0\n",
       "\\end{array}\\right)</script></html>"
      ],
      "text/plain": [
       "[0]"
      ]
     },
     "metadata": {},
     "output_type": "display_data"
    },
    {
     "data": {
      "text/plain": [
       "A = [[1. 1. 2.]\n",
       " [2. 1. 1.]\n",
       " [3. 4. 5.]]\n",
       "\n",
       "B = [[2.]\n",
       " [0.]\n",
       " [1.]]\n",
       "\n",
       "C = [[1. 1. 0.]]\n",
       "\n",
       "D = [[0.]]\n"
      ]
     },
     "execution_count": 3,
     "metadata": {},
     "output_type": "execute_result"
    }
   ],
   "source": [
    "# sageのmatrixでも動いた！\n",
    "A = matrix([[1, 1, 2], [2, 1, 1], [3, 4, 5]])\n",
    "B = matrix([[2], [0], [1]])\n",
    "C = matrix([[1, 1, 0]])\n",
    "D = matrix([[0]])\n",
    "show(A); show(B); show(C); show(D)\n",
    "P = matlab.ss(A, B, C, D)\n",
    "P"
   ]
  },
  {
   "cell_type": "code",
   "execution_count": 4,
   "metadata": {},
   "outputs": [
    {
     "data": {
      "image/png": "[encoded data removed]",
      "text/plain": [
       "<Figure size 432x288 with 1 Axes>"
      ]
     },
     "metadata": {},
     "output_type": "display_data"
    }
   ],
   "source": [
    "# ステップ応答をプロット\n",
    "(Y, T) = matlab.step(P, T=np.linspace(0,10,100))\n",
    "\n",
    "plt.plot(T, Y)\n",
    "plt.show()"
   ]
  },
  {
   "cell_type": "code",
   "execution_count": 5,
   "metadata": {},
   "outputs": [
    {
     "data": {
      "text/plain": [
       "0.632120558828558"
      ]
     },
     "execution_count": 5,
     "metadata": {},
     "output_type": "execute_result"
    }
   ],
   "source": [
    "N(1 - 1/e)"
   ]
  },
  {
   "cell_type": "code",
   "execution_count": 6,
   "metadata": {},
   "outputs": [],
   "source": [
    "matlab.lsim?"
   ]
  },
  {
   "cell_type": "code",
   "execution_count": 7,
   "metadata": {},
   "outputs": [],
   "source": [
    "A = matrix([[0, 1], [-4, -5]])\n",
    "B = matrix([[0], [1]])\n",
    "C = matrix.identity(2)\n",
    "D = matrix([[0], [0]])\n",
    "P = matlab.ss(A, B, C, D)"
   ]
  },
  {
   "cell_type": "code",
   "execution_count": 8,
   "metadata": {},
   "outputs": [
    {
     "data": {
      "image/png": "[encoded data removed]",
      "text/plain": [
       "<Figure size 432x288 with 1 Axes>"
      ]
     },
     "metadata": {},
     "output_type": "display_data"
    }
   ],
   "source": [
    "# 初期値を(0, 0)とし、入力u(t)をステップ関数とした時の応答\n",
    "T=np.linspace(0,5,500)\n",
    "(Y, T) = matlab.step(P, T)\n",
    "plt.plot(T, Y)\n",
    "plt.show()"
   ]
  },
  {
   "cell_type": "code",
   "execution_count": 9,
   "metadata": {},
   "outputs": [
    {
     "data": {
      "image/png": "[encoded data removed]",
      "text/plain": [
       "<Figure size 432x288 with 1 Axes>"
      ]
     },
     "metadata": {},
     "output_type": "display_data"
    }
   ],
   "source": [
    "# 初期値X0を与えた状態応答（零入力応答+零状態応答）\n",
    "Ud = 1*(T > 0)\n",
    "X0 = [-0.3, 0.4]\n",
    "(Y, T, _) = matlab.lsim(P, Ud, T, X0)\n",
    "plt.plot(T, Y)\n",
    "plt.show()"
   ]
  },
  {
   "cell_type": "code",
   "execution_count": 10,
   "metadata": {},
   "outputs": [
    {
     "name": "stdout",
     "output_type": "stream",
     "text": [
      "A = [[ 0.  1.]\n",
      " [-4. -5.]]\n",
      "\n",
      "B = [[0.]\n",
      " [1.]]\n",
      "\n",
      "C = [[1. 0.]\n",
      " [0. 1.]]\n",
      "\n",
      "D = [[0.]\n",
      " [0.]]\n",
      "\n",
      "[-1. -4.]\n"
     ]
    }
   ],
   "source": [
    "print(P)\n",
    "print(matlab.pole(P))"
   ]
  },
  {
   "cell_type": "code",
   "execution_count": 11,
   "metadata": {},
   "outputs": [
    {
     "data": {
      "text/plain": [
       "-T/(T*s + 1) + 1/s"
      ]
     },
     "execution_count": 11,
     "metadata": {},
     "output_type": "execute_result"
    }
   ],
   "source": [
    "# sageでの部分分数分解\n",
    "var('s T')\n",
    "P = 1/((1+T*s)*s)\n",
    "P.partial_fraction(s)"
   ]
  },
  {
   "cell_type": "markdown",
   "metadata": {},
   "source": [
    "## 本の例題\n",
    "図5.6のP制御の例\n",
    "$$\n",
    "J \\ddot{y(t)} + \\mu \\dot{y(t)} + M g l y(t) = u(t)\n",
    "$$\n",
    "をラプラス変換すると\n",
    "$$\n",
    "J s^2 y(s) + \\mu s + M g l y(s) = u(s)\n",
    "$$\n",
    "これから伝達率$P(s) = \\frac{y(s)}{u(s)}$を求めると\n",
    "$$\n",
    "P(s) =  \\frac{y(s)}{u(s)} = \\frac{1}{J s^2 + \\mu s + M g l}\n",
    "$$"
   ]
  },
  {
   "cell_type": "code",
   "execution_count": 12,
   "metadata": {},
   "outputs": [
    {
     "data": {
      "text/latex": [
       "$$\\frac{1}{0.01 s^2 + 0.015 s + 0.98}$$"
      ],
      "text/plain": [
       "\n",
       "            1\n",
       "-------------------------\n",
       "0.01 s^2 + 0.015 s + 0.98\n"
      ]
     },
     "execution_count": 12,
     "metadata": {},
     "output_type": "execute_result"
    }
   ],
   "source": [
    "g = 9.8\n",
    "l  = 0.2\n",
    "M = 0.5\n",
    "mu = 1.5E-2\n",
    "J = 1.0E-2\n",
    "\n",
    "# sageの配列からnp.arrayへの変換が必要\n",
    "P = matlab.tf(np.array([1]), np.array([J, mu, M*g*l]))\n",
    "P"
   ]
  },
  {
   "cell_type": "markdown",
   "metadata": {},
   "source": [
    "### フィードバック\n",
    "入力X(s)に対してG(s)の変換を加えてその出力Y(s)にH(s)のフィードバックを入力から引く、このときG(s)への入力をE(s)とする以下の式が成り立つ。\n",
    "$$\n",
    "E(s) = X(s) - H(s)Y(s), Y(s) = G(s)E(s)\n",
    "$$\n",
    "組み合わせると、\n",
    "$$\n",
    "Y(s) = G(s)(X(s) - H(s)Y(s))\n",
    "$$\n",
    "Y(s)とX(s)の関係に整理すると\n",
    "$$\n",
    "(1+G(s)H(s))Y(s) = G(s) X(s)\n",
    "$$\n",
    "したがってフィードバックの伝達関数$\\frac{Y(s)}{X(s)}$は、以下の様に求まります。\n",
    "$$\n",
    "F(s) = \\frac{Y(s)}{X(s)} = \\frac{G(s)}{1 + G(s) H(s)}\n",
    "$$"
   ]
  },
  {
   "cell_type": "code",
   "execution_count": 13,
   "metadata": {},
   "outputs": [
    {
     "name": "stdout",
     "output_type": "stream",
     "text": [
      "\n",
      "            2\n",
      "-------------------------\n",
      "0.01 s^2 + 0.015 s + 0.98\n",
      "\n",
      "\n",
      "            2\n",
      "-------------------------\n",
      "0.01 s^2 + 0.015 s + 2.98\n",
      "\n"
     ]
    }
   ],
   "source": [
    "Kp = 2\n",
    "K = matlab.tf(np.array([Kp]), np.array([1]))\n",
    "G = matlab.feedback(P*K)\n",
    "print(P*K)\n",
    "print(G)"
   ]
  },
  {
   "cell_type": "markdown",
   "metadata": {},
   "source": [
    "### P制御"
   ]
  },
  {
   "cell_type": "code",
   "execution_count": 14,
   "metadata": {},
   "outputs": [
    {
     "data": {
      "image/png": "[encoded data removed]",
      "text/plain": [
       "<Figure size 432x288 with 1 Axes>"
      ]
     },
     "metadata": {},
     "output_type": "display_data"
    }
   ],
   "source": [
    "# 可視化\n",
    "y, t = matlab.step(G, np.arange(0, 2, 0.02))\n",
    "plt.plot(t, y)\n",
    "plt.show()"
   ]
  },
  {
   "cell_type": "markdown",
   "metadata": {},
   "source": [
    "### PD制御\n",
    "制御K(s)が以下の様な形式となります。\n",
    "$$\n",
    "K_P +  K_D \\, s\n",
    "$$\n",
    "これを伝達関数tfで表すと以下の様になります。\n",
    "$$\n",
    "K(s) = \\frac{K_D \\, s  + K_P}{1}\n",
    "$$"
   ]
  },
  {
   "cell_type": "code",
   "execution_count": 15,
   "metadata": {},
   "outputs": [
    {
     "data": {
      "text/latex": [
       "$$\\frac{0.1 s + 2}{0.01 s^2 + 0.115 s + 2.98}$$"
      ],
      "text/plain": [
       "\n",
       "        0.1 s + 2\n",
       "-------------------------\n",
       "0.01 s^2 + 0.115 s + 2.98\n"
      ]
     },
     "execution_count": 15,
     "metadata": {},
     "output_type": "execute_result"
    }
   ],
   "source": [
    "Kd = 0.1\n",
    "K = matlab.tf(np.array([Kd, Kp]), np.array([1]))\n",
    "G = matlab.feedback(P*K)\n",
    "G"
   ]
  },
  {
   "cell_type": "code",
   "execution_count": 16,
   "metadata": {},
   "outputs": [
    {
     "data": {
      "image/png": "[encoded data removed]",
      "text/plain": [
       "<Figure size 432x288 with 1 Axes>"
      ]
     },
     "metadata": {},
     "output_type": "display_data"
    }
   ],
   "source": [
    "# 可視化\n",
    "y, t = matlab.step(G, np.arange(0, 2, 0.02))\n",
    "plt.plot(t, y)\n",
    "plt.show()"
   ]
  },
  {
   "cell_type": "markdown",
   "metadata": {},
   "source": [
    "### PID制御\n",
    "制御K(s)が以下の様な形式となります。\n",
    "$$\n",
    "K_P + K_D s + K_I \\frac{1}{s}\n",
    "$$\n",
    "これを伝達関数tfで表すと以下の様になります。\n",
    "$$\n",
    "K(s) = \\frac{K_D s^2 + K_P s + K_I}{s}\n",
    "$$"
   ]
  },
  {
   "cell_type": "code",
   "execution_count": 17,
   "metadata": {},
   "outputs": [
    {
     "data": {
      "text/latex": [
       "$$\\frac{0.1 s^2 + 2 s + 10}{0.01 s^3 + 0.115 s^2 + 2.98 s + 10}$$"
      ],
      "text/plain": [
       "\n",
       "        0.1 s^2 + 2 s + 10\n",
       "----------------------------------\n",
       "0.01 s^3 + 0.115 s^2 + 2.98 s + 10\n"
      ]
     },
     "execution_count": 17,
     "metadata": {},
     "output_type": "execute_result"
    }
   ],
   "source": [
    "Ki = 10\n",
    "K = matlab.tf(np.array([Kd, Kp, Ki]), np.array([1, 0]))\n",
    "G = matlab.feedback(P*K)\n",
    "G"
   ]
  },
  {
   "cell_type": "code",
   "execution_count": 18,
   "metadata": {},
   "outputs": [
    {
     "data": {
      "image/png": "[encoded data removed]",
      "text/plain": [
       "<Figure size 432x288 with 1 Axes>"
      ]
     },
     "metadata": {},
     "output_type": "display_data"
    }
   ],
   "source": [
    "# 可視化\n",
    "y, t = matlab.step(G, np.arange(0, 2, 0.02))\n",
    "plt.plot(t, y)\n",
    "plt.show()"
   ]
  },
  {
   "cell_type": "markdown",
   "metadata": {},
   "source": [
    "## 最適レギュレータ\n"
   ]
  },
  {
   "cell_type": "code",
   "execution_count": 19,
   "metadata": {},
   "outputs": [
    {
     "data": {
      "text/plain": [
       "A = [[ 0.  1.]\n",
       " [-4.  5.]]\n",
       "\n",
       "B = [[0.]\n",
       " [1.]]\n",
       "\n",
       "C = [[1. 0.]\n",
       " [0. 1.]]\n",
       "\n",
       "D = [[0.]\n",
       " [1.]]\n"
      ]
     },
     "execution_count": 19,
     "metadata": {},
     "output_type": "execute_result"
    }
   ],
   "source": [
    "A = matrix([[0, 1], [-4, 5]])\n",
    "B = matrix([[0], [1]])\n",
    "C = matrix([[1, 0], [0, 1]])\n",
    "D = matrix([[0], [1]])\n",
    "P = matlab.ss(A, B, C, D)\n",
    "P"
   ]
  },
  {
   "cell_type": "code",
   "execution_count": 20,
   "metadata": {},
   "outputs": [
    {
     "data": {
      "text/plain": [
       "matrix([[ -6.77032961, -11.28813639]])"
      ]
     },
     "execution_count": 20,
     "metadata": {},
     "output_type": "execute_result"
    }
   ],
   "source": [
    "Q = matrix([[100, 0], [0, 1]])\n",
    "R = 1\n",
    "F, X, E = matlab.lqr(P.A, P.B, Q, R)\n",
    "F = -F\n",
    "F"
   ]
  },
  {
   "cell_type": "code",
   "execution_count": 21,
   "metadata": {},
   "outputs": [
    {
     "name": "stdout",
     "output_type": "stream",
     "text": [
      "[[ -6.77032961 -11.28813639]]\n"
     ]
    }
   ],
   "source": [
    "# リッカチの方程式の解 -(1/R)*B^T Xと一致する\n",
    "print(-(1/R)*P.B.T * X)"
   ]
  },
  {
   "cell_type": "code",
   "execution_count": 22,
   "metadata": {},
   "outputs": [
    {
     "data": {
      "text/plain": [
       "matrix([[87.72530155,  6.77032961],\n",
       "        [ 6.77032961, 11.28813639]])"
      ]
     },
     "execution_count": 22,
     "metadata": {},
     "output_type": "execute_result"
    }
   ],
   "source": [
    "X"
   ]
  },
  {
   "cell_type": "code",
   "execution_count": 23,
   "metadata": {},
   "outputs": [
    {
     "data": {
      "text/plain": [
       "array([-3.1440682+0.94083196j, -3.1440682-0.94083196j], dtype=complex64)"
      ]
     },
     "execution_count": 23,
     "metadata": {},
     "output_type": "execute_result"
    }
   ],
   "source": [
    "E"
   ]
  },
  {
   "cell_type": "code",
   "execution_count": 24,
   "metadata": {},
   "outputs": [
    {
     "data": {
      "text/plain": [
       "array([-3.14406819+0.94083198j, -3.14406819-0.94083198j])"
      ]
     },
     "execution_count": 24,
     "metadata": {},
     "output_type": "execute_result"
    }
   ],
   "source": [
    "np.linalg.eigvals(P.A+P.B*F)"
   ]
  },
  {
   "cell_type": "code",
   "execution_count": 25,
   "metadata": {},
   "outputs": [
    {
     "data": {
      "text/plain": [
       "array([[ 0,  1,  0],\n",
       "       [-4,  5,  1]])"
      ]
     },
     "execution_count": 25,
     "metadata": {},
     "output_type": "execute_result"
    }
   ],
   "source": [
    "np.hstack((A, B))"
   ]
  },
  {
   "cell_type": "code",
   "execution_count": 26,
   "metadata": {},
   "outputs": [
    {
     "ename": "TypeError",
     "evalue": "tf2ss(sys): sys must be a TransferFunction object.",
     "output_type": "error",
     "traceback": [
      "\u001b[0;31m---------------------------------------------------------------------------\u001b[0m",
      "\u001b[0;31mTypeError\u001b[0m                                 Traceback (most recent call last)",
      "\u001b[0;32m<ipython-input-26-d7ec2680f03d>\u001b[0m in \u001b[0;36m<module>\u001b[0;34m()\u001b[0m\n\u001b[0;32m----> 1\u001b[0;31m \u001b[0mPss\u001b[0m \u001b[0;34m=\u001b[0m \u001b[0mmatlab\u001b[0m\u001b[0;34m.\u001b[0m\u001b[0mtf2ss\u001b[0m\u001b[0;34m(\u001b[0m\u001b[0mP\u001b[0m\u001b[0;34m)\u001b[0m\u001b[0;34m\u001b[0m\u001b[0;34m\u001b[0m\u001b[0m\n\u001b[0m\u001b[1;32m      2\u001b[0m \u001b[0mPss\u001b[0m\u001b[0;34m\u001b[0m\u001b[0;34m\u001b[0m\u001b[0m\n",
      "\u001b[0;32m/home/sage/sage/local/lib/python3.7/site-packages/control/statesp.py\u001b[0m in \u001b[0;36mtf2ss\u001b[0;34m(*args)\u001b[0m\n\u001b[1;32m   1393\u001b[0m         \u001b[0;32mif\u001b[0m \u001b[0;32mnot\u001b[0m \u001b[0misinstance\u001b[0m\u001b[0;34m(\u001b[0m\u001b[0msys\u001b[0m\u001b[0;34m,\u001b[0m \u001b[0mTransferFunction\u001b[0m\u001b[0;34m)\u001b[0m\u001b[0;34m:\u001b[0m\u001b[0;34m\u001b[0m\u001b[0;34m\u001b[0m\u001b[0m\n\u001b[1;32m   1394\u001b[0m             raise TypeError(\"tf2ss(sys): sys must be a TransferFunction \\\n\u001b[0;32m-> 1395\u001b[0;31m object.\")\n\u001b[0m\u001b[1;32m   1396\u001b[0m         \u001b[0;32mreturn\u001b[0m \u001b[0m_convertToStateSpace\u001b[0m\u001b[0;34m(\u001b[0m\u001b[0msys\u001b[0m\u001b[0;34m)\u001b[0m\u001b[0;34m\u001b[0m\u001b[0;34m\u001b[0m\u001b[0m\n\u001b[1;32m   1397\u001b[0m     \u001b[0;32melse\u001b[0m\u001b[0;34m:\u001b[0m\u001b[0;34m\u001b[0m\u001b[0;34m\u001b[0m\u001b[0m\n",
      "\u001b[0;31mTypeError\u001b[0m: tf2ss(sys): sys must be a TransferFunction object."
     ]
    }
   ],
   "source": [
    "Pss = matlab.tf2ss(P)\n",
    "Pss"
   ]
  },
  {
   "cell_type": "markdown",
   "metadata": {},
   "source": [
    "### 常微分方程式の解\n",
    "1階連立方程式を解く。$x(t)$はベクトルで振子では$[\\theta(t), \\dot{\\theta(t)}]$となります。\n",
    "$$\n",
    "\\dot{x(t)} = X x(t)\n",
    "$$\n",
    "\n",
    "非線形方程式の線形化（$sin \\theta = \\theta$)では$\\theta$が大きくなるにつれて誤差が大きくなっているのが分かります。"
   ]
  },
  {
   "cell_type": "code",
   "execution_count": 27,
   "metadata": {},
   "outputs": [],
   "source": [
    "from scipy.integrate import odeint"
   ]
  },
  {
   "cell_type": "code",
   "execution_count": 28,
   "metadata": {},
   "outputs": [],
   "source": [
    "g = 9.8 #重力加速度\n",
    "l = 1.0 #振り子の長さ\n",
    "q0 = 90/180.0*pi #初期角度\n",
    "dq0 = 0.0 #初期角速度\n",
    "x0 = [q0, dq0] #初期値ベクトル\n",
    "t = np.arange(0,10,0.01) # 時間\n",
    "\n",
    "# 振り子の運動方程式の右辺\n",
    "def rhs1(x,t) :\n",
    "  return [x[1], -g/l*sin(x[0])]\n",
    "\n",
    "# 微小振幅として線形化した場合\n",
    "def rhs2(x,t) :\n",
    "  return [x[1], -g/l*x[0]]\n",
    "\n",
    "# 数値積分の実行\n",
    "x1 = odeint(rhs1, x0, t)\n",
    "x2 = odeint(rhs2, x0, t)"
   ]
  },
  {
   "cell_type": "code",
   "execution_count": 29,
   "metadata": {},
   "outputs": [
    {
     "data": {
      "image/png": "[encoded data removed]",
      "text/plain": [
       "<Figure size 432x288 with 1 Axes>"
      ]
     },
     "metadata": {},
     "output_type": "display_data"
    }
   ],
   "source": [
    "plt.plot(t, x1[:,0], label='ex')\n",
    "plt.plot(t, x2[:,0], label='app')\n",
    "plt.grid(True, color='gray', linestyle='dashed')\n",
    "plt.legend(loc='upper right')\n",
    "plt.show()"
   ]
  },
  {
   "cell_type": "code",
   "execution_count": 30,
   "metadata": {},
   "outputs": [],
   "source": [
    "import sympy as sp\n",
    "from sympy.abc import t"
   ]
  },
  {
   "cell_type": "code",
   "execution_count": 31,
   "metadata": {},
   "outputs": [],
   "source": [
    "sp.init_printing()"
   ]
  },
  {
   "cell_type": "code",
   "execution_count": 32,
   "metadata": {},
   "outputs": [],
   "source": [
    "m, L, g, t = sp.var(\"m L g t\")\n",
    "thF, dThF = sp.var(\"thF, dTHF\")\n",
    "th = sp.Function(\"th\")"
   ]
  },
  {
   "cell_type": "code",
   "execution_count": 33,
   "metadata": {},
   "outputs": [],
   "source": [
    "#運動エネルギーの定義\n",
    "\n",
    "x(t) = L*sp.sin(th(t))\n",
    "y(t) = L*sp.cos(th(t))\n",
    "J = (1/3)*m*L^2\n",
    "T(t) = (1/2)*m*(sp.diff(x, t)^2 + sp.diff(y,t)^2)+(1/2)*J*sp.diff(th(t), t)^2\n",
    "# ポテンシャルエネルギーの定義\n",
    "V = m*g*L*sp.cos(th(t))\n",
    "# ラグランジュ方程式の定義\n",
    "L = T - V\n"
   ]
  },
  {
   "cell_type": "code",
   "execution_count": 34,
   "metadata": {},
   "outputs": [
    {
     "data": {
      "text/plain": [
       "t |--> 1/3*L^2*m*diff(th(t), t)*diff(th(t), t, t) + (L^2*cos(th(t))^2*diff(th(t), t)*diff(th(t), t, t) + L^2*sin(th(t))^2*diff(th(t), t)*diff(th(t), t, t))*m"
      ]
     },
     "execution_count": 34,
     "metadata": {},
     "output_type": "execute_result"
    }
   ],
   "source": [
    "sp.diff(T, t)"
   ]
  },
  {
   "cell_type": "code",
   "execution_count": 35,
   "metadata": {},
   "outputs": [
    {
     "data": {
      "text/html": [
       "<html><script type=\"math/tex; mode=display\">\\newcommand{\\Bold}[1]{\\mathbf{#1}}t \\ {\\mapsto}\\ \\frac{1}{3} \\, L^{2} m \\frac{\\partial}{\\partial t}{\\rm th}\\left(t\\right) \\frac{\\partial^{2}}{(\\partial t)^{2}}{\\rm th}\\left(t\\right) + {\\left(L^{2} \\cos\\left({\\rm th}\\left(t\\right)\\right)^{2} \\frac{\\partial}{\\partial t}{\\rm th}\\left(t\\right) \\frac{\\partial^{2}}{(\\partial t)^{2}}{\\rm th}\\left(t\\right) + L^{2} \\sin\\left({\\rm th}\\left(t\\right)\\right)^{2} \\frac{\\partial}{\\partial t}{\\rm th}\\left(t\\right) \\frac{\\partial^{2}}{(\\partial t)^{2}}{\\rm th}\\left(t\\right)\\right)} m</script></html>"
      ],
      "text/plain": [
       "t |--> 1/3*L^2*m*diff(th(t), t)*diff(th(t), t, t) + (L^2*cos(th(t))^2*diff(th(t), t)*diff(th(t), t, t) + L^2*sin(th(t))^2*diff(th(t), t)*diff(th(t), t, t))*m"
      ]
     },
     "metadata": {},
     "output_type": "display_data"
    }
   ],
   "source": [
    "show(sp.diff(T, t))"
   ]
  },
  {
   "cell_type": "code",
   "execution_count": null,
   "metadata": {},
   "outputs": [],
   "source": []
  }
 ],
 "metadata": {
  "kernelspec": {
   "display_name": "SageMath 9.0",
   "language": "sage",
   "name": "sagemath"
  },
  "language_info": {
   "codemirror_mode": {
    "name": "ipython",
    "version": 3
   },
   "file_extension": ".py",
   "mimetype": "text/x-python",
   "name": "python",
   "nbconvert_exporter": "python",
   "pygments_lexer": "ipython3",
   "version": "3.7.3"
  }
 },
 "nbformat": 4,
 "nbformat_minor": 2
}
