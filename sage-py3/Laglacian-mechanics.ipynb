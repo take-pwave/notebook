{
 "cells": [
  {
   "cell_type": "markdown",
   "metadata": {},
   "source": [
    "## 倒立振子\n",
    "倒立振子問題をsagemathを使って解いてみます。\n",
    "\n",
    "参考にしたのは、以下の記事です。この記事では、MAXIMAを使用していますが、ここではsagemathで「倒立振子」問題に取り組んでみます。\n",
    "\n",
    "- <a href=\"http://cacsd2.sakura.ne.jp/category/%E5%88%B6%E5%BE%A1%E6%8A%80%E8%A1%93%E3%82%BB%E3%83%9F%E3%83%8A%E3%83%BC/%E6%BC%94%E7%BF%92%E6%9B%B8/\">７ 非線形システムの線形化</a>\n",
    "\n",
    "\n",
    "\n",
    "\n",
    "<img src=\"images/fig.7-1.png\" width=\"250\"/>\n",
    "（「７ 非線形システムの線形化」 から引用）\n",
    "\n",
    "### 振子のラグランジュ方程式\n",
    "\n",
    "運動エネルギー$ T = \\frac{1}{2}J \\dot{\\theta}^2 (J=\\frac{1}{3} m l ^2)$ 、ポテンシャルエネルギー$V= m g cos\\theta$から、ラグランジュ関数$ L = T - V$から以下のラグランジュ方程式となります。\n",
    "\n",
    "$$\n",
    "\\begin{equation*}\n",
    "\\frac{d}{dt} \\left ( \\frac{\\partial L} { \\partial \\dot{\\theta} } \\right )  - \\frac{\\partial L} { \\partial  \\theta } = 0\n",
    "\\label{eq:vector_ray} \\tag{1}\n",
    "\\end{equation*}\n",
    "$$\n",
    "\n",
    "\n",
    "\n",
    "### diff_fで対応\n",
    "MAXIMAとsagemathの微分関数diffを比べると、sagemathのdiffが関数で微分できません。\n",
    "\n",
    "これをクリアする方法を検索した結果、以下の記事が見つかりました。\n",
    "- https://ask.sagemath.org/question/7856/lagranian-mechanics/\n",
    "\n",
    "要約すると、$\\theta(t)$の関数を変数で宣言し、あとで関数を代入することで対応するというものです。\n",
    "\n",
    "\n",
    "式を関数で微分するために、diff_f関数を用意します。\n",
    "\n",
    "diff_fには、微分対象の式(eq)、微分したい関数(f)、微分用に関数を置き換えための変数(v)を引数とします。"
   ]
  },
  {
   "cell_type": "code",
   "execution_count": 1,
   "metadata": {},
   "outputs": [],
   "source": [
    "def diff_f(eq, f, v):\n",
    "    n_eq = eq.subs(f == v)\n",
    "    d_eq = diff(n_eq, v).subs(v == f)\n",
    "    return d_eq"
   ]
  },
  {
   "cell_type": "markdown",
   "metadata": {},
   "source": [
    "### sageでの解法\n",
    "最初に変数m, l, g, tと関数用変数th_fun$\\theta(t)$, thdot_fuc$\\dot{\\theta(t)}$を定義し、\n",
    "関数thを定義します。\n",
    "\n",
    "次に棒の中心座標（x, y）から運動エネルギーTとポテンシャルエネルギーを定義します。\n",
    "\n",
    "最後にラグランジュ方程式EulerLagrangeをdiff_fを使って定義すると、以下のようになります。"
   ]
  },
  {
   "cell_type": "code",
   "execution_count": 3,
   "metadata": {
    "scrolled": true
   },
   "outputs": [
    {
     "data": {
      "text/html": [
       "<html><script type=\"math/tex; mode=display\">\\newcommand{\\Bold}[1]{\\mathbf{#1}}-g l m \\sin\\left({\\rm th}\\left(t\\right)\\right) + \\frac{4}{3} \\, l^{2} m \\frac{\\partial^{2}}{(\\partial t)^{2}}{\\rm th}\\left(t\\right) = 0</script></html>"
      ],
      "text/plain": [
       "-g*l*m*sin(th(t)) + 4/3*l^2*m*diff(th(t), t, t) == 0"
      ]
     },
     "metadata": {},
     "output_type": "display_data"
    }
   ],
   "source": [
    "# https://ask.sagemath.org/question/7856/lagranian-mechanics/\n",
    "# 変数定義\n",
    "var('m l g t')\n",
    "var('th_fun thdot_fun')\n",
    "# 関数定義\n",
    "th = function('th')(t)\n",
    "# 運動エネルギーの定義\n",
    "\n",
    "x = l*sin(th(t))\n",
    "y = l*cos(th(t))\n",
    "J = (1/3)*m*l^2\n",
    "T = (1/2)*m*(diff(x, t)^2 + diff(y,t)^2)+(1/2)*J*diff(th(t), t)^2\n",
    "# ポテンシャルエネルギーの定義\n",
    "V = m*g*l*cos(th(t))\n",
    "# ラグランジュ方程式の定義\n",
    "L = T - V\n",
    "EulerLagrange = diff(diff_f(L, diff(th, t), thdot_fun), t) - diff_f(L, th(t), th_fun) == 0\n",
    "# 結果を表示\n",
    "show(EulerLagrange.simplify_full())"
   ]
  },
  {
   "cell_type": "markdown",
   "metadata": {},
   "source": [
    "$\\ddot{\\theta}$で式を整理すると以下のようになります。\n",
    "\n",
    "sinの中に$\\theta$が入る非線形方程式になります。"
   ]
  },
  {
   "cell_type": "code",
   "execution_count": 60,
   "metadata": {},
   "outputs": [
    {
     "data": {
      "text/html": [
       "<html><script type=\"math/tex; mode=display\">\\newcommand{\\Bold}[1]{\\mathbf{#1}}\\frac{\\partial^{2}}{(\\partial t)^{2}}{\\rm th}\\left(t\\right) = \\frac{3 \\, g \\sin\\left({\\rm th}\\left(t\\right)\\right)}{4 \\, l}</script></html>"
      ],
      "text/plain": [
       "diff(th(t), t, t) == 3/4*g*sin(th(t))/l"
      ]
     },
     "metadata": {},
     "output_type": "display_data"
    }
   ],
   "source": [
    "sol = solve(EulerLagrange.simplify_full(), diff(th, t,2))[0]\n",
    "show(sol)"
   ]
  },
  {
   "cell_type": "code",
   "execution_count": 68,
   "metadata": {},
   "outputs": [
    {
     "data": {
      "text/html": [
       "<html><script type=\"math/tex; mode=display\">\\newcommand{\\Bold}[1]{\\mathbf{#1}}\\left(\\begin{array}{r}\n",
       "\\frac{\\partial}{\\partial t}{\\rm th}\\left(t\\right) \\\\\n",
       "\\frac{3 \\, g \\sin\\left({\\rm th}\\left(t\\right)\\right)}{4 \\, l}\n",
       "\\end{array}\\right)</script></html>"
      ],
      "text/plain": [
       "[    diff(th(t), t)]\n",
       "[3/4*g*sin(th(t))/l]"
      ]
     },
     "metadata": {},
     "output_type": "display_data"
    },
    {
     "data": {
      "text/plain": [
       "3/4*g*cos(th(t))/l"
      ]
     },
     "execution_count": 68,
     "metadata": {},
     "output_type": "execute_result"
    }
   ],
   "source": [
    "f = matrix([[diff(th, t)], [sol.rhs()]])\n",
    "show(f)\n",
    "diff_f(f[1,0], th,th_fun)"
   ]
  },
  {
   "cell_type": "code",
   "execution_count": 50,
   "metadata": {},
   "outputs": [
    {
     "data": {
      "text/plain": [
       "diff(th(t), t, t) == 29.4000000000000*sin(th(t))"
      ]
     },
     "execution_count": 50,
     "metadata": {},
     "output_type": "execute_result"
    }
   ],
   "source": [
    "sol[0].subs(l=0.25, g=9.8)"
   ]
  },
  {
   "cell_type": "markdown",
   "metadata": {},
   "source": [
    "### 数値解析\n",
    "非線形微分方程式は、数値計算で近似します。\n",
    "\n",
    "2階常微分方程式を二つの1階微分方程式に分解します。\n",
    "$$\n",
    "\\left[\n",
    "    \\begin{array} {c}\n",
    "        \\dot{\\theta} \\\\\n",
    "        \\ddot{\\theta}\n",
    "    \\end{array}\n",
    "\\right]\n",
    "    =\n",
    "\\left[   \n",
    "    \\begin{array} {c}\n",
    "        \\dot{\\theta} \\\\\n",
    "        \\frac{3 g} {4 l} sin \\theta\n",
    "    \\end{array}\n",
    "\\right]\n",
    "$$\n",
    "\n",
    "eulers_method_2x2_plotの使い方\n",
    "```\n",
    "eulers_method_2x2_plot(f, g, t0, x0, y0, h, t1)\n",
    "2階常微分方程式を( x=z, y=z′ として)二つの1階微分方程式に分解してからオイラー法を適用します。\n",
    "x' = f(t, x, y), y' = g(t, x, y)とし、t0, x0, y0は初期値、hは時間刻み、t1計算終了時刻\n",
    "```\n",
    "\n",
    "ここで、x=$\\theta$、y=$\\dot{\\theta}$とすると、関数f、gは以下のようになります。\n",
    "\n",
    "どうも発散しているように思われます。刻みが0.1秒では難しいのかも知れませんが、0.05にすると計算が終了しません。"
   ]
  },
  {
   "cell_type": "code",
   "execution_count": 5,
   "metadata": {},
   "outputs": [
    {
     "data": {
      "image/png": "[encoded data removed]",
      "text/plain": [
       "Graphics object consisting of 2 graphics primitives"
      ]
     },
     "metadata": {},
     "output_type": "display_data"
    }
   ],
   "source": [
    "f = lambda z: z[2]\n",
    "g = lambda z: 29.4*sin(z[1])\n",
    "P = eulers_method_2x2_plot(f,g, 0.0, (3/180)*pi, 0.0, 0.1, 2.0)\n",
    "(P[0]+P[1]).show()"
   ]
  },
  {
   "cell_type": "code",
   "execution_count": 6,
   "metadata": {},
   "outputs": [
    {
     "data": {
      "image/png": "[encoded data removed]",
      "text/plain": [
       "Graphics object consisting of 2 graphics primitives"
      ]
     },
     "metadata": {},
     "output_type": "display_data"
    }
   ],
   "source": [
    "P = eulers_method_2x2_plot(f,g, 0.0, (177/180)*pi, 0.0, 0.1, 2.0)\n",
    "(P[0]+P[1]).show()"
   ]
  },
  {
   "cell_type": "markdown",
   "metadata": {},
   "source": [
    "### ルンゲクッタで計算\n",
    "そこで、連立一次常微分方程式を解く関数desolve_system_rk4を使って計算することにしました。\n",
    "\n",
    "```\n",
    "desolve_system_rk4(des, vars, ics=None, ivar=None, end_points=None, step=0.1)\n",
    "des: 連立一次常微分方程式の右辺\n",
    "vars: 変数（例ではth, th_dot）\n",
    "ics: t, th, th_dotの初期値\n",
    "```\n",
    "\n",
    "こんどは、きれいな振動が表示されました。オイラー法でも1.5秒程度までは計算できていますが、それ以降は発散していることがわかります。"
   ]
  },
  {
   "cell_type": "code",
   "execution_count": 7,
   "metadata": {},
   "outputs": [
    {
     "data": {
      "image/png": "[encoded data removed]",
      "text/plain": [
       "Graphics object consisting of 2 graphics primitives"
      ]
     },
     "metadata": {},
     "output_type": "display_data"
    }
   ],
   "source": [
    "(th,th_dot,t) = var('th th_dot t')\n",
    "P=desolve_system_rk4([th_dot, 29.4*sin(th)],[th, th_dot],ics=[0,(177/180)*pi,0],ivar=t,end_points=4)\n",
    "plt_f = list_plot([(i,j) for i, j, k in P], plotjoined=True, linestyle ='-')\n",
    "plt_g = list_plot([(i,k) for i, j, k in P], plotjoined=True, linestyle =':')\n",
    "(plt_f+plt_g).show(figsize=5)"
   ]
  },
  {
   "cell_type": "code",
   "execution_count": 8,
   "metadata": {
    "scrolled": true
   },
   "outputs": [
    {
     "data": {
      "image/png": "[encoded data removed]",
      "text/plain": [
       "Graphics object consisting of 2 graphics primitives"
      ]
     },
     "metadata": {},
     "output_type": "display_data"
    }
   ],
   "source": [
    "(th,th_dot,t) = var('th th_dot t')\n",
    "P=desolve_system_rk4([th_dot, 29.4*sin(th)],[th, th_dot],ics=[0,(3/180)*pi,0],ivar=t,end_points=4)\n",
    "plt_f = list_plot([(i,j) for i, j, k in P], plotjoined=True, linestyle ='-')\n",
    "plt_g = list_plot([(i,k) for i, j, k in P], plotjoined=True, linestyle =':')\n",
    "(plt_f+plt_g).show(figsize=5)"
   ]
  },
  {
   "cell_type": "markdown",
   "metadata": {},
   "source": [
    "## 倒立振子台車\n"
   ]
  },
  {
   "cell_type": "code",
   "execution_count": 47,
   "metadata": {},
   "outputs": [
    {
     "data": {
      "text/html": [
       "<html><script type=\"math/tex; mode=display\">\\newcommand{\\Bold}[1]{\\mathbf{#1}}-l m \\sin\\left({\\rm th}\\left(t\\right)\\right) \\frac{\\partial}{\\partial t}{\\rm th}\\left(t\\right)^{2} + l m \\cos\\left({\\rm th}\\left(t\\right)\\right) \\frac{\\partial^{2}}{(\\partial t)^{2}}{\\rm th}\\left(t\\right) + {\\left(M + m\\right)} \\frac{\\partial^{2}}{(\\partial t)^{2}}r\\left(t\\right) = F\\left(t\\right)</script></html>"
      ],
      "text/plain": [
       "-l*m*sin(th(t))*diff(th(t), t)^2 + l*m*cos(th(t))*diff(th(t), t, t) + (M + m)*diff(r(t), t, t) == F(t)"
      ]
     },
     "metadata": {},
     "output_type": "display_data"
    },
    {
     "data": {
      "text/html": [
       "<html><script type=\"math/tex; mode=display\">\\newcommand{\\Bold}[1]{\\mathbf{#1}}-g l m \\sin\\left({\\rm th}\\left(t\\right)\\right) + l m \\cos\\left({\\rm th}\\left(t\\right)\\right) \\frac{\\partial^{2}}{(\\partial t)^{2}}r\\left(t\\right) + \\frac{4}{3} \\, l^{2} m \\frac{\\partial^{2}}{(\\partial t)^{2}}{\\rm th}\\left(t\\right) = 0</script></html>"
      ],
      "text/plain": [
       "-g*l*m*sin(th(t)) + l*m*cos(th(t))*diff(r(t), t, t) + 4/3*l^2*m*diff(th(t), t, t) == 0"
      ]
     },
     "metadata": {},
     "output_type": "display_data"
    }
   ],
   "source": [
    "# 変数定義\n",
    "var('m M l g t')\n",
    "var('thF dthF ddthF rF drF ddrF')\n",
    "# 関数定義\n",
    "th = function('th')(t)\n",
    "r = function('r')(t)\n",
    "F = function('F')(t)\n",
    "# 台車の運動エネルギー\n",
    "Tcart = 1/2*M*diff(r,t)^2\n",
    "# 振子の運動エネルギー\n",
    "x = r(t) + l*sin(th(t))\n",
    "y = l*cos(th(t))\n",
    "J = (1/3)*m*l^2\n",
    "Tpen = (1/2)*m*(diff(x, t)^2 + diff(y,t)^2)+(1/2)*J*diff(th(t), t)^2\n",
    "# ポテンシャルエネルギーの定義\n",
    "Upen = m*g*l*cos(th(t))\n",
    "# ラグランジュ関数\n",
    "L = Tcart + Tpen - Upen\n",
    "# ラグランジュ方程式\n",
    "LEr = diff(diff_f(L, diff(r, t), drF), t) - diff_f(L, r(t), rF) == F\n",
    "LEth = diff(diff_f(L, diff(th, t), dthF), t) - diff_f(L, th(t), thF) == 0\n",
    "# 結果を表示\n",
    "show(LEr.simplify_full())\n",
    "show(LEth.simplify_full())"
   ]
  },
  {
   "cell_type": "code",
   "execution_count": 98,
   "metadata": {},
   "outputs": [
    {
     "data": {
      "text/html": [
       "<html><script type=\"math/tex; mode=display\">\\newcommand{\\Bold}[1]{\\mathbf{#1}}\\mathit{ddrF} = -\\frac{{\\left(4 \\, \\mathit{dthF}^{2} l m - 3 \\, g m \\cos\\left(\\mathit{thF}\\right)\\right)} \\sin\\left(\\mathit{thF}\\right) + 4 \\, F\\left(t\\right)}{3 \\, m \\cos\\left(\\mathit{thF}\\right)^{2} - 4 \\, M - 4 \\, m}</script></html>"
      ],
      "text/plain": [
       "ddrF == -((4*dthF^2*l*m - 3*g*m*cos(thF))*sin(thF) + 4*F(t))/(3*m*cos(thF)^2 - 4*M - 4*m)"
      ]
     },
     "metadata": {},
     "output_type": "display_data"
    },
    {
     "data": {
      "text/html": [
       "<html><script type=\"math/tex; mode=display\">\\newcommand{\\Bold}[1]{\\mathbf{#1}}\\mathit{ddthF} = \\frac{3 \\, {\\left(F\\left(t\\right) \\cos\\left(\\mathit{thF}\\right) + {\\left(\\mathit{dthF}^{2} l m \\cos\\left(\\mathit{thF}\\right) - M g - g m\\right)} \\sin\\left(\\mathit{thF}\\right)\\right)}}{3 \\, l m \\cos\\left(\\mathit{thF}\\right)^{2} - 4 \\, M l - 4 \\, l m}</script></html>"
      ],
      "text/plain": [
       "ddthF == 3*(F(t)*cos(thF) + (dthF^2*l*m*cos(thF) - M*g - g*m)*sin(thF))/(3*l*m*cos(thF)^2 - 4*M*l - 4*l*m)"
      ]
     },
     "metadata": {},
     "output_type": "display_data"
    }
   ],
   "source": [
    "# th(t) = thF, dth(t) = dthF, ddth(t) = ddthF, r(t) = rF, dr(t) = drF, ddr(t) =ddrFに置換して解く\n",
    "subDict = {th(t): thF, diff(th, t):dthF, diff(th,t,2):ddthF, r(t): rF, diff(r,t): drF, diff(r, t, 2): ddrF}\n",
    "eq = [LEr.simplify_full().subs(subDict), LEth.simplify_full().subs(subDict)]\n",
    "#show(eq)\n",
    "sol = solve(eq, [ddrF, ddthF])[0]\n",
    "show(sol[0])\n",
    "show(sol[1])"
   ]
  },
  {
   "cell_type": "code",
   "execution_count": 116,
   "metadata": {},
   "outputs": [
    {
     "data": {
      "text/html": [
       "<html><script type=\"math/tex; mode=display\">\\newcommand{\\Bold}[1]{\\mathbf{#1}}\\left(\\begin{array}{rrrr}\n",
       "0 & 0 & 1 & 0 \\\\\n",
       "0 & 0 & 0 & 1 \\\\\n",
       "0 & -\\frac{3 \\, g m}{4 \\, M + m} & 0 & 0 \\\\\n",
       "0 & \\frac{3 \\, {\\left(M g + g m\\right)}}{4 \\, M l + l m} & 0 & 0\n",
       "\\end{array}\\right)</script></html>"
      ],
      "text/plain": [
       "[                          0                           0                           1                           0]\n",
       "[                          0                           0                           0                           1]\n",
       "[                          0            -3*g*m/(4*M + m)                           0                           0]\n",
       "[                          0 3*(M*g + g*m)/(4*M*l + l*m)                           0                           0]"
      ]
     },
     "metadata": {},
     "output_type": "display_data"
    }
   ],
   "source": [
    "f1 = drF\n",
    "f2 = dthF\n",
    "f3 = sol[0].rhs()\n",
    "f4 = sol[1].rhs()\n",
    "ff = [f1, f2, f3, f4]\n",
    "vv = [rF, thF, drF, dthF]\n",
    "# 平衡状態 + θの値\n",
    "subeq = [rF == 0, drF == 0, dthF == 0, F == 0, thF == 0]\n",
    "# 線形状態方程式\n",
    "A = matrix([[ diff(f, v).subs(subeq) for v in vv] for f in ff])\n",
    "show(A)\n"
   ]
  },
  {
   "cell_type": "code",
   "execution_count": null,
   "metadata": {},
   "outputs": [],
   "source": []
  },
  {
   "cell_type": "markdown",
   "metadata": {},
   "source": [
    "### リッカチの方程式\n",
    "\n",
    "以下のサイトを参考にリッカチの方程式を使った最適化の方法をみてみましょう。\n",
    "- <a href=\"http://mech.u-fukui.ac.jp/~Kawa-Lab/education/robust/pdf/chap5f.pdf\">最適レギュレータ</a>\n",
    "\n",
    "リッカチの方程式は、正則な解Xが存在する時、以下の関係が成り立ちます。\n",
    "\n",
    "$$\n",
    "\\begin{equation*}\n",
    "A^TX + XA - XBR^{-1}B^TX + Q = 0\n",
    "\\label{eq:riccati_equation} \\tag{2}\n",
    "\\end{equation*}\n",
    "$$\n",
    "\n",
    "### 最適化問題\n",
    "状態方程式が以下のように与えられた場合、\n",
    "\n",
    "$$\n",
    "\\begin{equation*}\n",
    "\\dot{x} = A x + B u\n",
    "\\label{eq:state_equation} \\tag{3}\n",
    "\\end{equation*}\n",
    "$$\n",
    "\n",
    "評価関数Jを最小にする操作量uを求めます。ここでQは準正則、Rは正則対称行列とします。\n",
    "\n",
    "$$\n",
    "\\begin{equation*}\n",
    "J = \\int_0^{\\infty} (x^T Q x + u^T R u) dt\n",
    "\\label{eq:cost_equation} \\tag{4}\n",
    "\\end{equation*}\n",
    "$$\n",
    "\n",
    "以下の行列の微分を考えます。\n",
    "\n",
    "$$\n",
    "\\begin{equation*}\n",
    "\\frac{d}{dt}(x(t)^T X x(t)) = \\dot{x}^T X x + x^T X \\dot{x}\n",
    "\\tag{5}\n",
    "\\end{equation*}\n",
    "$$\n",
    "\n",
    "このXに$\\eqref{eq:state_equation}$を代入すると、\n",
    "$$\n",
    "\\begin{equation*}\n",
    "\\frac{d}{dt}(x(t)^T X x(t)) = (A x + B u)^T X x + x^T X  (A x + B u)\n",
    "\\tag{6}\n",
    "\\end{equation*}\n",
    "$$\n",
    "\n",
    "となり、転置行列の$(A B)^T = B^TA^T$を使って、これを展開すると以下のようになります。\n",
    "$$\n",
    "\\begin{eqnarray}\n",
    "\\frac{d}{dt}(x(t)^T X x(t)) & = & x^TA^T X x + u^TB^T X x +  x^T X A x + x^T X B u \\\\\n",
    "& = & x^T(A^T X x + X A x) +  u^TB^T X x  + x^T X B u\n",
    "\\tag{7}\n",
    "\\end{eqnarray}\n",
    "$$\n",
    "\n",
    "ここにリッカチの方程式から$A^T + X A = -Q + X B R^{-1} B T X$を代入し、$u^T R u - u^T Ru$を足すと以下のようになります。\n",
    "$$\n",
    "\\begin{equation*}\n",
    "\\frac{d}{dt}(x(t)^T X x(t)) = -(x^T Q + u^T R u) + x^T X B R^{-1} B^T X x + u^T R u + u^T B^T X x + x^T X B u\n",
    "\\tag{8}\n",
    "\\end{equation*}\n",
    "$$"
   ]
  },
  {
   "cell_type": "markdown",
   "metadata": {},
   "source": [
    "ここで、Rが対称行列なので、$(R^{-1})^T = (R^T)^{-1} = R^{-1}$を使って行列順序を入れ替えていくと以下のようになります。\n",
    "$$\n",
    "\\begin{eqnarray}\n",
    "(u + R^{-1} B^T X x)^T R (u + R^{-1} B^T X x) & = & (u^TR + (R^{-1} B^T X x)^TR)(u + R^{-1} B^T X x) \\\\\n",
    "& = & u^T R u +(R^{-1}B^TX x)^T R u + u^T R R^{-1} B^T X x+ (R^{-1} B^T X x)^T R R^{-1} B^T X x \\\\\n",
    "& = & u^T R u +(R^{-1}B^TX x)^T R u + u^T B^T X x + (R^{-1} B^T X x)^T B^T X x \\\\\n",
    "& = & u^T R u + (X x)^T(R^{-1}B^T)^T Ru + u^T B^T X x + (X x)^T (R^{-1}B^T)^T B^T X x \\\\\n",
    "& = & u^T R u + x^T X^T B R^{-1} R u +  u^T B^T X x + x^T X^T B R^{-1} B^T X x \\\\\n",
    "& = & u^T R u + x^T X^T B u +  u^T B^T X x + x^T X^T B R^{-1} B^T X x \n",
    "\\tag{9}\n",
    "\\end{eqnarray}\n",
    "$$\n",
    "\n",
    "従って$\\frac{d}{dt}(x(t)^T X x(t))$は、以下のようになります。\n",
    "$$\n",
    "\\begin{equation*}\n",
    "\\frac{d}{dt}(x(t)^T X x(t)) = -(x^T Q + u^T R u) + (u + R^{-1} B^T X x)^T R (u + R^{-1} B^T X x)\n",
    "\\tag{10}\n",
    "\\end{equation*}\n",
    "$$\n",
    "\n",
    "評価関数Jは、以下のようになります。\n",
    "$$\n",
    "\\begin{equation*}\n",
    "J = \\left [ -x^T(t) X x(t) \\right ]_0^{\\infty} + \\int_0^{\\infty} (u + R^{-1} B^T X x)^T R (u + R^{-1} B^T X x) dt\n",
    "\\tag{10}\n",
    "\\end{equation*}\n",
    "$$\n",
    "\n",
    "この式から、評価関数Jを最小にする操作量uは、以下のようになります。\n",
    "\n",
    "$$\n",
    "\\begin{equation*}\n",
    "u =  -R^{-1} B^T X x\n",
    "\\tag{11}\n",
    "\\end{equation*}\n",
    "$$\n",
    "\n",
    "ゲインの定義($u = -K x$)から、最適操作量uのゲインKは以下のようになります。\n",
    "$$\n",
    "\\begin{equation*}\n",
    "K = R^{-1} B^T X\n",
    "\\tag{12}\n",
    "\\end{equation*}\n",
    "$$"
   ]
  },
  {
   "cell_type": "code",
   "execution_count": null,
   "metadata": {},
   "outputs": [],
   "source": []
  }
 ],
 "metadata": {
  "kernelspec": {
   "display_name": "SageMath 9.0",
   "language": "sage",
   "name": "sagemath"
  },
  "language_info": {
   "codemirror_mode": {
    "name": "ipython",
    "version": 3
   },
   "file_extension": ".py",
   "mimetype": "text/x-python",
   "name": "python",
   "nbconvert_exporter": "python",
   "pygments_lexer": "ipython3",
   "version": "3.7.3"
  }
 },
 "nbformat": 4,
 "nbformat_minor": 2
}
