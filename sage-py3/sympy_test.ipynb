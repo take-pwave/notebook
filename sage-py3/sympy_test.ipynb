{
 "cells": [
  {
   "cell_type": "code",
   "execution_count": 1,
   "metadata": {},
   "outputs": [],
   "source": [
    "import sympy as sp"
   ]
  },
  {
   "cell_type": "code",
   "execution_count": 2,
   "metadata": {},
   "outputs": [],
   "source": [
    "sp.init_printing()"
   ]
  },
  {
   "cell_type": "code",
   "execution_count": 3,
   "metadata": {},
   "outputs": [],
   "source": [
    "m, L, g, t = sp.var(\"m L g t\")\n",
    "thF, dthF, ddthF = sp.var(\"thF, dthF, ddthF\")\n",
    "th = sp.Function(\"th\")"
   ]
  },
  {
   "cell_type": "code",
   "execution_count": 4,
   "metadata": {},
   "outputs": [
    {
     "data": {
      "image/png": "[encoded data removed]",
      "text/latex": [
       "$\\displaystyle 0.166666666666667 L^{2} m \\left(\\frac{d}{d t} \\operatorname{th}{\\left(t \\right)}\\right)^{2} - L g m \\cos{\\left(\\operatorname{th}{\\left(t \\right)} \\right)} + 0.5 m \\left(L^{2} \\sin^{2}{\\left(\\operatorname{th}{\\left(t \\right)} \\right)} \\left(\\frac{d}{d t} \\operatorname{th}{\\left(t \\right)}\\right)^{2} + L^{2} \\cos^{2}{\\left(\\operatorname{th}{\\left(t \\right)} \\right)} \\left(\\frac{d}{d t} \\operatorname{th}{\\left(t \\right)}\\right)^{2}\\right)$"
      ],
      "text/plain": [
       "                                  2                            ⎛              \n",
       "                   2   ⎛d        ⎞                             ⎜ 2    2       \n",
       "0.166666666666667⋅L ⋅m⋅⎜──(th(t))⎟  - L⋅g⋅m⋅cos(th(t)) + 0.5⋅m⋅⎜L ⋅sin (th(t))\n",
       "                       ⎝dt       ⎠                             ⎝              \n",
       "\n",
       "            2                             2⎞\n",
       " ⎛d        ⎞     2    2        ⎛d        ⎞ ⎟\n",
       "⋅⎜──(th(t))⎟  + L ⋅cos (th(t))⋅⎜──(th(t))⎟ ⎟\n",
       " ⎝dt       ⎠                   ⎝dt       ⎠ ⎠"
      ]
     },
     "execution_count": 4,
     "metadata": {},
     "output_type": "execute_result"
    }
   ],
   "source": [
    "#運動エネルギーの定義\n",
    "\n",
    "x = L*sp.sin(th(t))\n",
    "y = L*sp.cos(th(t))\n",
    "J = (1/3)*m*L**2\n",
    "T = (1/2)*m*(sp.diff(x, t)**2 + sp.diff(y,t)**2)+(1/2)*J*sp.diff(th(t), t)**2\n",
    "# ポテンシャルエネルギーの定義\n",
    "V = m*g*L*sp.cos(th(t))\n",
    "# ラグランジュ方程式の定義\n",
    "L = T - V\n",
    "L"
   ]
  },
  {
   "cell_type": "code",
   "execution_count": 5,
   "metadata": {},
   "outputs": [],
   "source": [
    "def diff_f(eq, f, v):\n",
    "    n_eq = eq.subs({f : v})\n",
    "    d_eq = sp.diff(n_eq, v).subs({v : f})\n",
    "    return d_eq"
   ]
  },
  {
   "cell_type": "code",
   "execution_count": 6,
   "metadata": {},
   "outputs": [],
   "source": [
    "dL = sp.diff(diff_f(L, sp.diff(th(t), t), dthF), t) - diff_f(L, th(t), thF)"
   ]
  },
  {
   "cell_type": "code",
   "execution_count": 7,
   "metadata": {},
   "outputs": [
    {
     "data": {
      "image/png": "[encoded data removed]",
      "text/latex": [
       "$\\displaystyle L m \\left(1.33333333333333 L \\frac{d^{2}}{d t^{2}} \\operatorname{th}{\\left(t \\right)} - g \\sin{\\left(\\operatorname{th}{\\left(t \\right)} \\right)}\\right)$"
      ],
      "text/plain": [
       "    ⎛                     2                      ⎞\n",
       "    ⎜                    d                       ⎟\n",
       "L⋅m⋅⎜1.33333333333333⋅L⋅───(th(t)) - g⋅sin(th(t))⎟\n",
       "    ⎜                     2                      ⎟\n",
       "    ⎝                   dt                       ⎠"
      ]
     },
     "execution_count": 7,
     "metadata": {},
     "output_type": "execute_result"
    }
   ],
   "source": [
    "dL.simplify()"
   ]
  },
  {
   "cell_type": "code",
   "execution_count": 8,
   "metadata": {},
   "outputs": [
    {
     "name": "stdout",
     "output_type": "stream",
     "text": [
      "L*m*(1.33333333333333*L*ddthF - g*sin(thF))\n"
     ]
    }
   ],
   "source": [
    "dLs = dL.simplify().subs({sp.diff(th(t), t, 2): ddthF, th(t): thF})\n",
    "print(dLs)"
   ]
  },
  {
   "cell_type": "code",
   "execution_count": 9,
   "metadata": {},
   "outputs": [
    {
     "data": {
      "image/png": "[encoded data removed]",
      "text/latex": [
       "$\\displaystyle \\frac{0.75 g \\sin{\\left(thF \\right)}}{L}$"
      ],
      "text/plain": [
       "0.75⋅g⋅sin(thF)\n",
       "───────────────\n",
       "       L       "
      ]
     },
     "execution_count": 9,
     "metadata": {},
     "output_type": "execute_result"
    }
   ],
   "source": [
    "sol = sp.solve(dLs, ddthF)[0]\n",
    "sol"
   ]
  },
  {
   "cell_type": "code",
   "execution_count": 10,
   "metadata": {},
   "outputs": [
    {
     "data": {
      "image/png": "[encoded data removed]",
      "text/latex": [
       "$\\displaystyle \\frac{0.75 g \\cos{\\left(thF \\right)}}{L}$"
      ],
      "text/plain": [
       "0.75⋅g⋅cos(thF)\n",
       "───────────────\n",
       "       L       "
      ]
     },
     "execution_count": 10,
     "metadata": {},
     "output_type": "execute_result"
    }
   ],
   "source": [
    "sp.diff(sol, thF)"
   ]
  },
  {
   "cell_type": "code",
   "execution_count": 11,
   "metadata": {},
   "outputs": [
    {
     "data": {
      "text/latex": [
       "$\\displaystyle \\left[\\begin{matrix}\\sin{\\left(t \\right)} & 2\\\\3 & 4\\end{matrix}\\right]$"
      ],
      "text/plain": [
       "⎡sin(t)  2⎤\n",
       "⎢         ⎥\n",
       "⎣  3     4⎦"
      ]
     },
     "execution_count": 11,
     "metadata": {},
     "output_type": "execute_result"
    }
   ],
   "source": [
    "m = sp.Matrix([[sp.sin(t), 2], [3, 4]])\n",
    "m"
   ]
  },
  {
   "cell_type": "code",
   "execution_count": null,
   "metadata": {},
   "outputs": [],
   "source": []
  }
 ],
 "metadata": {
  "kernelspec": {
   "display_name": "Python 3",
   "language": "python",
   "name": "python3"
  },
  "language_info": {
   "codemirror_mode": {
    "name": "ipython",
    "version": 3
   },
   "file_extension": ".py",
   "mimetype": "text/x-python",
   "name": "python",
   "nbconvert_exporter": "python",
   "pygments_lexer": "ipython3",
   "version": "3.7.3"
  }
 },
 "nbformat": 4,
 "nbformat_minor": 2
}
