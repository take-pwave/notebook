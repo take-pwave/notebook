{
 "cells": [
  {
   "cell_type": "markdown",
   "metadata": {},
   "source": [
    "<html id=\"** 数の計算・基本的な関数\">\n",
    "\t<author>Hiroshi TAKEMOTO</author>\n",
    "\t(<email>take.pwave@gmail.com</email>)\n",
    "\t<h2>数の計算・基本的な関数</h2>\n",
    "</html>\n",
    "\n",
    "<html>\n",
    "    <h3>準備</h3>\n",
    "    <p>\n",
    "      jupyterでhtml.tableを使うと以前のようにcssが有効にならないので、table関連のCSSを最初に読み込みます。\n",
    "    </p>\n",
    "    <p>\n",
    "      また、jupyterのノートブックでもSageのノートブック同様に使えるようにsage_util.pyを読み込みます。\n",
    "    </p>\n",
    "</html>"
   ]
  },
  {
   "cell_type": "code",
   "execution_count": 1,
   "metadata": {
    "collapsed": false
   },
   "outputs": [
    {
     "data": {
      "text/html": [
       "<link rel=\"stylesheet\" type=\"text/css\" href=\"css/sage_table_form.css\">"
      ],
      "text/plain": [
       "<IPython.core.display.HTML object>"
      ]
     },
     "metadata": {},
     "output_type": "display_data"
    }
   ],
   "source": [
    "%%HTML\n",
    "<link rel=\"stylesheet\" type=\"text/css\" href=\"css/sage_table_form.css\">"
   ]
  },
  {
   "cell_type": "code",
   "execution_count": 2,
   "metadata": {
    "collapsed": true
   },
   "outputs": [],
   "source": [
    "# ユーティリティ\n",
    "load('script/sage_util.py')"
   ]
  },
  {
   "cell_type": "markdown",
   "metadata": {},
   "source": [
    "<html id=\"*** よく使われる定数\">\n",
    "\t<h3>よく使われる定数</h3>\n",
    "\t<p>\n",
    "\t\t数式でよく使われる定数をSageで使うには以下の様に表します。\n",
    "\t</p>\n",
    "    <p>\n",
    "      注意）無限大は、oを2個並べたooです。\n",
    "    <p>\n",
    "</html>"
   ]
  },
  {
   "cell_type": "code",
   "execution_count": 3,
   "metadata": {
    "collapsed": false
   },
   "outputs": [
    {
     "data": {
      "text/html": [
       "<table class='table_form'><tbody><tr class='row-a'><td>円周率</td><td>$\\pi$</td><td>pi</td></tr><tr class='row-b'><td>自然体数の底</td><td>$e$</td><td>e</td></tr><tr class='row-a'><td>虚数単位</td><td>$i$</td><td>I</td></tr><tr class='row-b'><td>無限大</td><td>$+\\infty$</td><td>+Infinity</td></tr></tbody></table>"
      ],
      "text/plain": [
       "<__main__.Table2Html instance at 0x7f9277ed0098>"
      ]
     },
     "execution_count": 3,
     "metadata": {},
     "output_type": "execute_result"
    }
   ],
   "source": [
    "# jupyter用のdisplayメソッド\n",
    "hdr=[\"円周率\", \"自然体数の底\", \"虚数単位\", \"無限大\"]\n",
    "sts=[pi, e, I, oo]\n",
    "# sage_util.pyのTable2Htmlを使用\n",
    "Table2Html([(h, \"$%s$\"%latex(st), str(st)) for (h, st) in zip(hdr, sts)])"
   ]
  },
  {
   "cell_type": "markdown",
   "metadata": {
    "collapsed": true
   },
   "source": [
    "<html id=\"*** 基本的な計算\">\n",
    "\t<h3>基本的な計算</h3>\n",
    "\t<p>\n",
    "\t\t四則演算をはじめ、Sageで使われる基本的な計算の表現方法を以下に示します。\n",
    "\t</p>\n",
    "</html>\n"
   ]
  },
  {
   "cell_type": "code",
   "execution_count": 4,
   "metadata": {
    "collapsed": false
   },
   "outputs": [
    {
     "data": {
      "text/html": [
       "<table class='table_form'><tbody><tr class='row-a'><td>積</td><td>$a b$</td><td>a*b</td></tr><tr class='row-b'><td>商</td><td>$\\frac{a}{b}$</td><td>a/b</td></tr><tr class='row-a'><td>累乗</td><td>$a^{b}$</td><td>a^b</td></tr><tr class='row-b'><td>平方根</td><td>$\\sqrt{x}$</td><td>sqrt(x)</td></tr><tr class='row-a'><td>n乗根</td><td>$x^{\\left(\\frac{1}{n}\\right)}$</td><td>x^(1/n)</td></tr><tr class='row-b'><td>絶対値</td><td>${\\left| x \\right|}$</td><td>abs(x)</td></tr><tr class='row-a'><td>自然対数</td><td>$\\log\\left(x\\right)$</td><td>log(x)</td></tr><tr class='row-b'><td>階乗</td><td>$n!$</td><td>factorial(n)</td></tr></tbody></table>"
      ],
      "text/plain": [
       "<__main__.Table2Html instance at 0x7f927768ecf8>"
      ]
     },
     "execution_count": 4,
     "metadata": {},
     "output_type": "execute_result"
    }
   ],
   "source": [
    "# よく使われる表現\n",
    "var('a b x n')\n",
    "hdr=[\"積\", \"商\", \"累乗\", \"平方根\", \"n乗根\", \"絶対値\", \"自然対数\", \"階乗\"]\n",
    "sts=[a*b, a/b, a^b, sqrt(x), x^(1/n), abs(x), log(x), factorial(n)]\n",
    "Table2Html([(h, \"$%s$\"%latex(st), str(st)) for (h, st) in zip(hdr, sts)])"
   ]
  },
  {
   "cell_type": "markdown",
   "metadata": {},
   "source": [
    "1から10までの和は55ですが、これをリストとsum関数を使って計算すると、 以下の様になります。"
   ]
  },
  {
   "cell_type": "code",
   "execution_count": 5,
   "metadata": {
    "collapsed": false
   },
   "outputs": [
    {
     "name": "stdout",
     "output_type": "stream",
     "text": [
      "55\n",
      "[1, 2, 3, 4, 5, 6, 7, 8, 9, 10]\n",
      "55\n"
     ]
    }
   ],
   "source": [
    "# 1から10までの和を計算\n",
    "print( 1+2+3+4+5+6+7+8+9+10 )\n",
    "# リスト使って計算\n",
    "L = range(1,11); print L \n",
    "print sum(L)         # リストLの和を求める "
   ]
  },
  {
   "cell_type": "markdown",
   "metadata": {},
   "source": [
    "<html>\n",
    "\t<p>\n",
    "\t\tリスト内包を使うと簡単にリストの要素を変更することができます。\n",
    "\t\t先ほどのリストLの要素を自乗に変えて、和を求めてみましょう。\n",
    "<pre>\n",
    "\tリスト内包の書式\n",
    "\t[ 式 for 変数 in リスト ]\n",
    "</pre>\n",
    "\t</p>\n",
    "\n",
    "</html>"
   ]
  },
  {
   "cell_type": "code",
   "execution_count": 6,
   "metadata": {
    "collapsed": false
   },
   "outputs": [
    {
     "name": "stdout",
     "output_type": "stream",
     "text": [
      "[1, 4, 9, 16, 25, 36, 49, 64, 81, 100]\n",
      "385\n"
     ]
    }
   ],
   "source": [
    "L2 = [i^2 for i in L]; print L2 \n",
    "print sum(L2) "
   ]
  },
  {
   "cell_type": "markdown",
   "metadata": {},
   "source": [
    "<html>\n",
    "\t<p>\n",
    "\t\tsumと並んでリストの要素の積を求めるprodもよく使われます。\n",
    "\t\t1から5までの積をprodを使って計算してみましょう。\n",
    "\t</p>\n",
    "\t<p>\n",
    "\t\t今回は、range関数の代わりにジェネレータを使って１から５までの\n",
    "\t\tリストを生成し、計算してみます。\n",
    "<pre>\n",
    "\t(1..5)\n",
    "</pre>\n",
    "\t\t\n",
    "\t</p>\n",
    "</html>"
   ]
  },
  {
   "cell_type": "code",
   "execution_count": 7,
   "metadata": {
    "collapsed": false
   },
   "outputs": [
    {
     "name": "stdout",
     "output_type": "stream",
     "text": [
      "120\n",
      "120\n"
     ]
    }
   ],
   "source": [
    "# 1から5までの積を計算\n",
    "print 1*2*3*4*5 \n",
    "# リスト生成をまとめて\n",
    "print prod(1..5) "
   ]
  },
  {
   "cell_type": "markdown",
   "metadata": {},
   "source": [
    "<html id=\"** 式の計算・簡素化\">\n",
    "\t<h2>式の計算・簡素化</h2>\n",
    "\t<p>\n",
    "\t\t次に中学で習った式の因数分解や展開もSageを使うと簡単に計算することができます。\n",
    "\t</p>\n",
    "</html>\n",
    "\n",
    "<html>\n",
    "\t<h3>展開</h3>\n",
    "\t<p>\n",
    "\t\t以下の関数f1をSageを使って展開してみます。展開にはexpand関数を使います。\n",
    "$$\n",
    "\t\tf1(x) = (x - 1)(x^2 -1)\n",
    "$$\t\t\n",
    "\t</p>\n",
    "</html>"
   ]
  },
  {
   "cell_type": "code",
   "execution_count": 8,
   "metadata": {
    "collapsed": false
   },
   "outputs": [
    {
     "data": {
      "text/html": [
       "<html><script type=\"math/tex; mode=display\">\\newcommand{\\Bold}[1]{\\mathbf{#1}}{\\left(x^{2} - 1\\right)} {\\left(x - 1\\right)}</script></html>"
      ],
      "text/plain": [
       "(x^2 - 1)*(x - 1)"
      ]
     },
     "metadata": {},
     "output_type": "display_data"
    },
    {
     "data": {
      "text/html": [
       "<html><script type=\"math/tex; mode=display\">\\newcommand{\\Bold}[1]{\\mathbf{#1}}x^{3} - x^{2} - x + 1</script></html>"
      ],
      "text/plain": [
       "x^3 - x^2 - x + 1"
      ]
     },
     "metadata": {},
     "output_type": "display_data"
    }
   ],
   "source": [
    "f1 = (x - 1)*(x^2 - 1); show(f1)    # f1を定義\n",
    "f2 = expand(f1); show(f2)             # f1を展開し、f2に代入"
   ]
  },
  {
   "cell_type": "markdown",
   "metadata": {},
   "source": [
    "<html>\n",
    "\t<p>\n",
    "\t\t多項式の係数は、coefficientsやcoefficient関数で取得できます。\n",
    "\t</p>\n",
    "\t<p>\n",
    "\t\t以下に、f2の係数をcoeeficents関数で取得する方法とxの2次の項の係数をcoefficient関数で取得する方法を例として示します。\n",
    "\t</p>\n",
    "</html>\n"
   ]
  },
  {
   "cell_type": "code",
   "execution_count": 9,
   "metadata": {
    "collapsed": false
   },
   "outputs": [
    {
     "name": "stdout",
     "output_type": "stream",
     "text": [
      "[[1, 0], [-1, 1], [-1, 2], [1, 3]]\n",
      "-1\n"
     ]
    }
   ],
   "source": [
    "# 多項式の係数\n",
    "print f2.coefficients(x)           # 変数の[係数, 次数]のペアのリストを返す\n",
    "print f2.coefficient(x, 2)        # 変数と次数を指定して係数をを返す"
   ]
  },
  {
   "cell_type": "markdown",
   "metadata": {},
   "source": [
    "<html>\n",
    "\t<h3>因数分解</h3>\n",
    "\t<p>\n",
    "\t\tf1を展開した結果f2を因数分解してみましょう。因数分解にはfactor関数を使用します。\n",
    "\t</p>\n",
    "\t<p>\n",
    "\t\t結果がf1と異なりますが、\n",
    "$$\n",
    "\t\t(x^2 - 1) = (x - 1)(x + 1)\n",
    "$$\t\t\n",
    "\t\tの関係から、正しい結果になっていることが分かります。\n",
    "\t</p>\n",
    "</html>"
   ]
  },
  {
   "cell_type": "code",
   "execution_count": 10,
   "metadata": {
    "collapsed": false
   },
   "outputs": [
    {
     "data": {
      "text/html": [
       "<html><script type=\"math/tex; mode=display\">\\newcommand{\\Bold}[1]{\\mathbf{#1}}{\\left(x + 1\\right)} {\\left(x - 1\\right)}^{2}</script></html>"
      ],
      "text/plain": [
       "(x + 1)*(x - 1)^2"
      ]
     },
     "metadata": {},
     "output_type": "display_data"
    }
   ],
   "source": [
    "show(factor(f2))                 # f2を因数分解する"
   ]
  },
  {
   "cell_type": "markdown",
   "metadata": {},
   "source": [
    "<html>\n",
    "\t<h3>部分分数分解</h3>\n",
    "\t<p>\n",
    "\t\t分数で表される式の積分やラブラス逆変換では部分分数分解を利用することがあります。\n",
    "\t</p>\n",
    "\t<p>\n",
    "\t\t以下の様な関数f3を因数分解して、分数式f4に変えます。\n",
    "$$\n",
    "\t\tf3(x) = \\frac{1}{(x - 2)} + \\frac{1}{(x + 2)}\n",
    "$$\t\t\n",
    "\t</p>\n",
    "</html>"
   ]
  },
  {
   "cell_type": "code",
   "execution_count": 11,
   "metadata": {
    "collapsed": false
   },
   "outputs": [
    {
     "data": {
      "text/html": [
       "<html><script type=\"math/tex; mode=display\">\\newcommand{\\Bold}[1]{\\mathbf{#1}}\\frac{1}{x + 2} + \\frac{1}{x - 2}</script></html>"
      ],
      "text/plain": [
       "1/(x + 2) + 1/(x - 2)"
      ]
     },
     "metadata": {},
     "output_type": "display_data"
    }
   ],
   "source": [
    "# 分数の因数分解\n",
    "f3 = 1/(x+2)+1/(x-2)\n",
    "show(f3)"
   ]
  },
  {
   "cell_type": "markdown",
   "metadata": {},
   "source": [
    "<html>\n",
    "\t<p>\n",
    "\t\t式の部分分数分解には、prtial_fraction()メソッドを使います。f4にprtial_fractionメソッドを呼び出すとf3と同じ結果となります。\n",
    "\t</p>\n",
    "</html>\n"
   ]
  },
  {
   "cell_type": "code",
   "execution_count": 12,
   "metadata": {
    "collapsed": false
   },
   "outputs": [
    {
     "data": {
      "text/html": [
       "<html><script type=\"math/tex; mode=display\">\\newcommand{\\Bold}[1]{\\mathbf{#1}}\\frac{2 \\, x}{{\\left(x + 2\\right)} {\\left(x - 2\\right)}}</script></html>"
      ],
      "text/plain": [
       "2*x/((x + 2)*(x - 2))"
      ]
     },
     "metadata": {},
     "output_type": "display_data"
    },
    {
     "data": {
      "text/html": [
       "<html><script type=\"math/tex; mode=display\">\\newcommand{\\Bold}[1]{\\mathbf{#1}}\\frac{1}{x + 2} + \\frac{1}{x - 2}</script></html>"
      ],
      "text/plain": [
       "1/(x + 2) + 1/(x - 2)"
      ]
     },
     "metadata": {},
     "output_type": "display_data"
    }
   ],
   "source": [
    "f4 = factor(f3); show(f4)            # 分数式f3の因数分解\n",
    "show(f4.partial_fraction())         # 部分分数分解"
   ]
  },
  {
   "cell_type": "markdown",
   "metadata": {},
   "source": [
    "<html>\n",
    "\t<h3>式の整理</h3>\n",
    "\t<p>\n",
    "\t\t式を整理して簡単化する関数として、simplifyがあります。simplifyでは不要な項を消去するだけなので、\n",
    "\t\tf1のような因数分解で整理されて式の場合には結果が変わりません。\n",
    "\t</p>\n",
    "\t<p>\n",
    "\t\tさらに突っ込んだ整理をする場合には、simplify_fullメソッドを使います。\n",
    "\t</p>\n",
    "</html>"
   ]
  },
  {
   "cell_type": "code",
   "execution_count": 13,
   "metadata": {
    "collapsed": false
   },
   "outputs": [
    {
     "data": {
      "text/html": [
       "<html><script type=\"math/tex; mode=display\">\\newcommand{\\Bold}[1]{\\mathbf{#1}}i</script></html>"
      ],
      "text/plain": [
       "I"
      ]
     },
     "metadata": {},
     "output_type": "display_data"
    },
    {
     "data": {
      "text/html": [
       "<html><script type=\"math/tex; mode=display\">\\newcommand{\\Bold}[1]{\\mathbf{#1}}{\\left(x^{2} - 1\\right)} {\\left(x - 1\\right)}</script></html>"
      ],
      "text/plain": [
       "(x^2 - 1)*(x - 1)"
      ]
     },
     "metadata": {},
     "output_type": "display_data"
    },
    {
     "data": {
      "text/html": [
       "<html><script type=\"math/tex; mode=display\">\\newcommand{\\Bold}[1]{\\mathbf{#1}}x^{3} - x^{2} - x + 1</script></html>"
      ],
      "text/plain": [
       "x^3 - x^2 - x + 1"
      ]
     },
     "metadata": {},
     "output_type": "display_data"
    }
   ],
   "source": [
    "show(simplify(I + x -x))             # 簡単化で不要な項を消去\n",
    "show(simplify(f1))                     # 簡単化ではf1はそのまま\n",
    "show(f1.simplify_full())            # simplify_fullメソッドを使うと展開されて整理される "
   ]
  },
  {
   "cell_type": "markdown",
   "metadata": {},
   "source": [
    "<html id=\"*** 三角関数の簡単化\">\n",
    "\t<h3>三角関数</h3>\n",
    "\t<p>\n",
    "\t\t三角関数も数式として計算するため、$ sin (\\pi/4) $も数値ではなく、\n",
    "\t\t$ \\frac{1}{2} \\sqrt{2} $の式が返ってきます。\n",
    "\t</p>\n",
    "\t<p>\n",
    "\t\t値を得るには、N関数を使用します。\n",
    "\t</p>\n",
    "</html>\n"
   ]
  },
  {
   "cell_type": "code",
   "execution_count": 14,
   "metadata": {
    "collapsed": false
   },
   "outputs": [
    {
     "name": "stdout",
     "output_type": "stream",
     "text": [
      "1/2*sqrt(2) 0.707106781186548\n"
     ]
    }
   ],
   "source": [
    "print sin(pi/4), N(sin(pi/4)) "
   ]
  },
  {
   "cell_type": "markdown",
   "metadata": {},
   "source": [
    "<html>\n",
    "\t<p>\n",
    "\t\tまた三角関数への入力単位は度ではなく、ラジアンで指定します。\n",
    "\t</p>\n",
    "\t<p>\n",
    "\t\t度とラジアンの変換には、以下の様な関数rad, degを定義すると便利です。\n",
    "\t</p>\n",
    "</html>"
   ]
  },
  {
   "cell_type": "code",
   "execution_count": 15,
   "metadata": {
    "collapsed": true
   },
   "outputs": [],
   "source": [
    "# 度とラジアンの変換関数\n",
    "rad(x) = x*pi/180\n",
    "deg(x) = x*180/pi"
   ]
  },
  {
   "cell_type": "code",
   "execution_count": 16,
   "metadata": {
    "collapsed": false
   },
   "outputs": [
    {
     "name": "stdout",
     "output_type": "stream",
     "text": [
      "1/2*sqrt(2) 1/2*sqrt(2)\n",
      "1/4*pi 45\n"
     ]
    }
   ],
   "source": [
    "print sin(rad(45)), sin(pi/4)\n",
    "print atan(1), deg(atan(1))"
   ]
  },
  {
   "cell_type": "markdown",
   "metadata": {},
   "source": [
    "<html>\n",
    "\t<h3>三角関数の簡単化</h3>\n",
    "\t<p>\n",
    "\t\t三角関数や指数関数を含む式の簡単化には simplify_fullメソッドを使います。\n",
    "\t</p>\n",
    "\t<p>\n",
    "\t\t例として、sin関数の倍角公式をsimplify_fullメソッドで求めてみます。\n",
    "\t</p>\n",
    "</html>"
   ]
  },
  {
   "cell_type": "code",
   "execution_count": 17,
   "metadata": {
    "collapsed": false
   },
   "outputs": [
    {
     "data": {
      "text/html": [
       "<html><script type=\"math/tex; mode=display\">\\newcommand{\\Bold}[1]{\\mathbf{#1}}\\sin\\left(2 \\, x\\right)</script></html>"
      ],
      "text/plain": [
       "sin(2*x)"
      ]
     },
     "metadata": {},
     "output_type": "display_data"
    },
    {
     "data": {
      "text/html": [
       "<html><script type=\"math/tex; mode=display\">\\newcommand{\\Bold}[1]{\\mathbf{#1}}2 \\, \\cos\\left(x\\right) \\sin\\left(x\\right)</script></html>"
      ],
      "text/plain": [
       "2*cos(x)*sin(x)"
      ]
     },
     "metadata": {},
     "output_type": "display_data"
    }
   ],
   "source": [
    "# 倍角公式\n",
    "fs = sin(2*x)\n",
    "show(fs)\n",
    "show(fs.simplify_full())"
   ]
  },
  {
   "cell_type": "markdown",
   "metadata": {},
   "source": [
    "<html>\n",
    "\t<p>\n",
    "\t\t更に、simplify_fullでは三角関数の公式を活用して式を整理します。\n",
    "\t</p>\n",
    "\t<p>\n",
    "\t\t以下の例では、以下の三角関数の公式を使って簡単化しています。\n",
    "$$\n",
    "\t\tcos^2 x + sin^2 x = 1\n",
    "$$\t\n",
    "\t</p>\n",
    "</html>"
   ]
  },
  {
   "cell_type": "code",
   "execution_count": 18,
   "metadata": {
    "collapsed": false
   },
   "outputs": [
    {
     "data": {
      "text/html": [
       "<html><script type=\"math/tex; mode=display\">\\newcommand{\\Bold}[1]{\\mathbf{#1}}\\cos\\left(x\\right)^{2} - \\sin\\left(x\\right)^{2}</script></html>"
      ],
      "text/plain": [
       "cos(x)^2 - sin(x)^2"
      ]
     },
     "metadata": {},
     "output_type": "display_data"
    },
    {
     "data": {
      "text/html": [
       "<html><script type=\"math/tex; mode=display\">\\newcommand{\\Bold}[1]{\\mathbf{#1}}2 \\, \\cos\\left(x\\right)^{2} - 1</script></html>"
      ],
      "text/plain": [
       "2*cos(x)^2 - 1"
      ]
     },
     "metadata": {},
     "output_type": "display_data"
    }
   ],
   "source": [
    "f4 = cos(x)^2-sin(x)^2\n",
    "show(f4)                                 # cos(x)^2 + sin(x)^2 = 1を使って\n",
    "show(f4.simplify_full())        # 簡素化する"
   ]
  },
  {
   "cell_type": "markdown",
   "metadata": {},
   "source": [
    "<html id=\"*** limit\">\n",
    "\t<h3>導関数</h3>\n",
    "\t<p>\n",
    "\t\t高校で習った、導関数をSageを使って導いてみましょう。\n",
    "\t\t関数f(x)と平均変化率g(x)を以下の様に定義します。\n",
    "$$\n",
    "\t\tf(x) = \\frac{1}{2} x^3\n",
    "$$\n",
    "$$\n",
    "\t\tg(x)= \\frac{f(x+h)−f(x)}{h}\n",
    "$$\n",
    "\t</p>\n",
    "\t<p>\n",
    "\t\t変数x, hと関数f, gをSageで定義します。\n",
    "\t</p>\n",
    "</html>"
   ]
  },
  {
   "cell_type": "code",
   "execution_count": 19,
   "metadata": {
    "collapsed": false
   },
   "outputs": [
    {
     "data": {
      "text/html": [
       "<html><script type=\"math/tex; mode=display\">\\newcommand{\\Bold}[1]{\\mathbf{#1}}x \\ {\\mapsto}\\ \\frac{1}{2} \\, x^{3}</script></html>"
      ],
      "text/plain": [
       "x |--> 1/2*x^3"
      ]
     },
     "metadata": {},
     "output_type": "display_data"
    }
   ],
   "source": [
    "x, h = var('x h')\n",
    "f(x) = x^3/2\n",
    "show(f)"
   ]
  },
  {
   "cell_type": "code",
   "execution_count": 20,
   "metadata": {
    "collapsed": false
   },
   "outputs": [
    {
     "data": {
      "text/html": [
       "<html><script type=\"math/tex; mode=display\">\\newcommand{\\Bold}[1]{\\mathbf{#1}}\\frac{{\\left(h + x\\right)}^{3} - x^{3}}{2 \\, h}</script></html>"
      ],
      "text/plain": [
       "1/2*((h + x)^3 - x^3)/h"
      ]
     },
     "metadata": {},
     "output_type": "display_data"
    }
   ],
   "source": [
    "# 平均変化率\n",
    "g =(f(x + h) - f(x))/h\n",
    "show(g)"
   ]
  },
  {
   "cell_type": "markdown",
   "metadata": {},
   "source": [
    "<html>\n",
    "\t<p>\n",
    "\t\tgを展開して整理すると以下の様になり、h→0の極値（limit）をとった時、hが掛からないxの2次の項のみが残ります。\n",
    "\t</p>\n",
    "</html>"
   ]
  },
  {
   "cell_type": "code",
   "execution_count": 21,
   "metadata": {
    "collapsed": false
   },
   "outputs": [
    {
     "data": {
      "text/html": [
       "<html><script type=\"math/tex; mode=display\">\\newcommand{\\Bold}[1]{\\mathbf{#1}}\\frac{1}{2} \\, h^{2} + \\frac{3}{2} \\, h x + \\frac{3}{2} \\, x^{2}</script></html>"
      ],
      "text/plain": [
       "1/2*h^2 + 3/2*h*x + 3/2*x^2"
      ]
     },
     "metadata": {},
     "output_type": "display_data"
    }
   ],
   "source": [
    "# 展開して整理すると\n",
    "g1 = g.simplify_full()\n",
    "show(g1)"
   ]
  },
  {
   "cell_type": "markdown",
   "metadata": {},
   "source": [
    "<html>\n",
    "\t<p>\n",
    "\t\t求める導関数は、以下の様になります。\n",
    "\t</p>\n",
    "</html>"
   ]
  },
  {
   "cell_type": "code",
   "execution_count": 22,
   "metadata": {
    "collapsed": false
   },
   "outputs": [
    {
     "data": {
      "text/html": [
       "<html><script type=\"math/tex; mode=display\">\\newcommand{\\Bold}[1]{\\mathbf{#1}}\\frac{3}{2} \\, x^{2}</script></html>"
      ],
      "text/plain": [
       "3/2*x^2"
      ]
     },
     "metadata": {},
     "output_type": "display_data"
    }
   ],
   "source": [
    "# h→0の極値を取ると導関数が求まる\n",
    "g2 = limit(g1, h=0)\n",
    "show(g2)"
   ]
  },
  {
   "cell_type": "markdown",
   "metadata": {},
   "source": [
    "<html>\n",
    "\t<h3>特殊な関数のリミット</h3>\n",
    "\t<p>\n",
    "\t\t次のような特殊な関数fを考えます。\n",
    "$$\n",
    "\t\tf(x) = \\frac{sin(x)}{x}\n",
    "$$\t\t\n",
    "\t</p>\n",
    "\t<p>\n",
    "\t\tこの関数にx=0を代入するとゼロ割のエラーとなりますが、limitを使ってx→0を求めると1となります。\n",
    "\t</p>\n",
    "\t<p>\n",
    "\t\tSageではグラフの表示でも極値をきちんと計算しているので、上記のf(x)もきちんと表示することができます。\n",
    "\t</p>\n",
    "</html>"
   ]
  },
  {
   "cell_type": "code",
   "execution_count": 23,
   "metadata": {
    "collapsed": false
   },
   "outputs": [
    {
     "ename": "ValueError",
     "evalue": "power::eval(): division by zero",
     "output_type": "error",
     "traceback": [
      "\u001b[1;31m---------------------------------------------------------------------------\u001b[0m",
      "\u001b[1;31mValueError\u001b[0m                                Traceback (most recent call last)",
      "\u001b[1;32m<ipython-input-23-954d108a24d1>\u001b[0m in \u001b[0;36m<module>\u001b[1;34m()\u001b[0m\n\u001b[0;32m      1\u001b[0m \u001b[1;31m# 特殊な関数のリミット\u001b[0m\u001b[1;33m\u001b[0m\u001b[1;33m\u001b[0m\u001b[0m\n\u001b[0;32m      2\u001b[0m \u001b[0mf\u001b[0m \u001b[1;33m=\u001b[0m \u001b[0msin\u001b[0m\u001b[1;33m(\u001b[0m\u001b[0mx\u001b[0m\u001b[1;33m)\u001b[0m\u001b[1;33m/\u001b[0m\u001b[0mx\u001b[0m\u001b[1;33m\u001b[0m\u001b[0m\n\u001b[1;32m----> 3\u001b[1;33m \u001b[1;32mprint\u001b[0m \u001b[0mf\u001b[0m\u001b[1;33m(\u001b[0m\u001b[0mx\u001b[0m\u001b[1;33m=\u001b[0m\u001b[0mInteger\u001b[0m\u001b[1;33m(\u001b[0m\u001b[1;36m0\u001b[0m\u001b[1;33m)\u001b[0m\u001b[1;33m)\u001b[0m\u001b[1;33m\u001b[0m\u001b[0m\n\u001b[0m",
      "\u001b[1;32m/usr/lib/sagemath/src/sage/symbolic/expression.pyx\u001b[0m in \u001b[0;36msage.symbolic.expression.Expression.__call__ (/usr/lib/sagemath//src/build/cythonized/sage/symbolic/expression.cpp:28301)\u001b[1;34m()\u001b[0m\n\u001b[0;32m   4974\u001b[0m             \u001b[0mz\u001b[0m\u001b[1;33m^\u001b[0m\u001b[1;36m2\u001b[0m \u001b[1;33m+\u001b[0m \u001b[0mx\u001b[0m\u001b[1;33m^\u001b[0m\u001b[0my\u001b[0m\u001b[1;33m\u001b[0m\u001b[0m\n\u001b[0;32m   4975\u001b[0m         \"\"\"\n\u001b[1;32m-> 4976\u001b[1;33m         \u001b[1;32mreturn\u001b[0m \u001b[0mself\u001b[0m\u001b[1;33m.\u001b[0m\u001b[0m_parent\u001b[0m\u001b[1;33m.\u001b[0m\u001b[0m_call_element_\u001b[0m\u001b[1;33m(\u001b[0m\u001b[0mself\u001b[0m\u001b[1;33m,\u001b[0m \u001b[1;33m*\u001b[0m\u001b[0margs\u001b[0m\u001b[1;33m,\u001b[0m \u001b[1;33m**\u001b[0m\u001b[0mkwds\u001b[0m\u001b[1;33m)\u001b[0m\u001b[1;33m\u001b[0m\u001b[0m\n\u001b[0m\u001b[0;32m   4977\u001b[0m \u001b[1;33m\u001b[0m\u001b[0m\n\u001b[0;32m   4978\u001b[0m     \u001b[1;32mdef\u001b[0m \u001b[0mvariables\u001b[0m\u001b[1;33m(\u001b[0m\u001b[0mself\u001b[0m\u001b[1;33m)\u001b[0m\u001b[1;33m:\u001b[0m\u001b[1;33m\u001b[0m\u001b[0m\n",
      "\u001b[1;32m/usr/lib/sagemath/src/sage/symbolic/ring.pyx\u001b[0m in \u001b[0;36msage.symbolic.ring.SymbolicRing._call_element_ (/usr/lib/sagemath//src/build/cythonized/sage/symbolic/ring.cpp:10250)\u001b[1;34m()\u001b[0m\n\u001b[0;32m    867\u001b[0m                     \u001b[1;32mraise\u001b[0m \u001b[0mValueError\u001b[0m\u001b[1;33m(\u001b[0m\u001b[1;34m\"the number of arguments must be less than or equal to %s\"\u001b[0m\u001b[1;33m%\u001b[0m\u001b[0mlen\u001b[0m\u001b[1;33m(\u001b[0m\u001b[0mvars\u001b[0m\u001b[1;33m)\u001b[0m\u001b[1;33m)\u001b[0m\u001b[1;33m\u001b[0m\u001b[0m\n\u001b[0;32m    868\u001b[0m \u001b[1;33m\u001b[0m\u001b[0m\n\u001b[1;32m--> 869\u001b[1;33m         \u001b[1;32mreturn\u001b[0m \u001b[0m_the_element\u001b[0m\u001b[1;33m.\u001b[0m\u001b[0msubs\u001b[0m\u001b[1;33m(\u001b[0m\u001b[0md\u001b[0m\u001b[1;33m,\u001b[0m \u001b[1;33m**\u001b[0m\u001b[0mkwds\u001b[0m\u001b[1;33m)\u001b[0m\u001b[1;33m\u001b[0m\u001b[0m\n\u001b[0m\u001b[0;32m    870\u001b[0m \u001b[1;33m\u001b[0m\u001b[0m\n\u001b[0;32m    871\u001b[0m     \u001b[1;32mdef\u001b[0m \u001b[0msubring\u001b[0m\u001b[1;33m(\u001b[0m\u001b[0mself\u001b[0m\u001b[1;33m,\u001b[0m \u001b[1;33m*\u001b[0m\u001b[0margs\u001b[0m\u001b[1;33m,\u001b[0m \u001b[1;33m**\u001b[0m\u001b[0mkwds\u001b[0m\u001b[1;33m)\u001b[0m\u001b[1;33m:\u001b[0m\u001b[1;33m\u001b[0m\u001b[0m\n",
      "\u001b[1;32m/usr/lib/sagemath/src/sage/symbolic/expression.pyx\u001b[0m in \u001b[0;36msage.symbolic.expression.Expression.substitute (/usr/lib/sagemath//src/build/cythonized/sage/symbolic/expression.cpp:27844)\u001b[1;34m()\u001b[0m\n\u001b[0;32m   4883\u001b[0m \u001b[1;33m\u001b[0m\u001b[0m\n\u001b[0;32m   4884\u001b[0m         return new_Expression_from_GEx(self._parent,\n\u001b[1;32m-> 4885\u001b[1;33m                                        self._gobj.subs_map(smap, 0))\n\u001b[0m\u001b[0;32m   4886\u001b[0m \u001b[1;33m\u001b[0m\u001b[0m\n\u001b[0;32m   4887\u001b[0m     \u001b[0msubs\u001b[0m \u001b[1;33m=\u001b[0m \u001b[0msubstitute\u001b[0m\u001b[1;33m\u001b[0m\u001b[0m\n",
      "\u001b[1;31mValueError\u001b[0m: power::eval(): division by zero"
     ]
    }
   ],
   "source": [
    "# 特殊な関数のリミット\n",
    "f = sin(x)/x\n",
    "print f(x=0)"
   ]
  },
  {
   "cell_type": "code",
   "execution_count": 24,
   "metadata": {
    "collapsed": false
   },
   "outputs": [
    {
     "data": {
      "text/plain": [
       "1"
      ]
     },
     "execution_count": 24,
     "metadata": {},
     "output_type": "execute_result"
    }
   ],
   "source": [
    "limit(f, x=0) "
   ]
  },
  {
   "cell_type": "code",
   "execution_count": 25,
   "metadata": {
    "collapsed": false
   },
   "outputs": [
    {
     "data": {
      "image/png": "[encoded data removed]",
      "text/plain": [
       "Graphics object consisting of 1 graphics primitive"
      ]
     },
     "execution_count": 25,
     "metadata": {},
     "output_type": "execute_result"
    }
   ],
   "source": [
    "plot(f, [x, -10, 10], figsize=5) "
   ]
  },
  {
   "cell_type": "markdown",
   "metadata": {},
   "source": [
    "<html>\n",
    "\t<h3>関係式</h3>\n",
    "\t<p>\n",
    "\t\tSageでの関係式の扱い方を以下の関係式eqを例に示します。\n",
    "$$\n",
    "\t\tx + 2 \\le 0\n",
    "$$\n",
    "\t</p>\n",
    "\t<p>\n",
    "\t\tこれをSageで表現すると以下の様になります。\n",
    "\t</p>\n",
    "</html>"
   ]
  },
  {
   "cell_type": "code",
   "execution_count": 26,
   "metadata": {
    "collapsed": true
   },
   "outputs": [],
   "source": [
    "eq = x + 2 <= 0"
   ]
  },
  {
   "cell_type": "markdown",
   "metadata": {},
   "source": [
    "<html>\n",
    "\t<p>\n",
    "\t\t関係式から左辺、等号、不等号のオペレータ、左辺を取得するには、それぞれlhs, operator, rhs関数を使用します。\n",
    "\t</p>\n",
    "</html>"
   ]
  },
  {
   "cell_type": "code",
   "execution_count": 27,
   "metadata": {
    "collapsed": false
   },
   "outputs": [
    {
     "name": "stdout",
     "output_type": "stream",
     "text": [
      "x + 2\n",
      "<built-in function le>\n",
      "0\n"
     ]
    }
   ],
   "source": [
    "print eq.lhs()               # 左辺\n",
    "print eq.operator()    # 等号、不等号などのオペレータ\n",
    "print eq.rhs()              # 右辺"
   ]
  },
  {
   "cell_type": "code",
   "execution_count": null,
   "metadata": {
    "collapsed": true
   },
   "outputs": [],
   "source": []
  }
 ],
 "metadata": {
  "kernelspec": {
   "display_name": "SageMath 7.2",
   "language": "",
   "name": "sagemath"
  },
  "language_info": {
   "codemirror_mode": {
    "name": "ipython",
    "version": 2
   },
   "file_extension": ".py",
   "mimetype": "text/x-python",
   "name": "python",
   "nbconvert_exporter": "python",
   "pygments_lexer": "ipython2",
   "version": "2.7.10"
  }
 },
 "nbformat": 4,
 "nbformat_minor": 0
}
