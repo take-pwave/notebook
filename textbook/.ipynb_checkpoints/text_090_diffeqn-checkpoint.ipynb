{
 "cells": [
  {
   "cell_type": "markdown",
   "metadata": {},
   "source": [
    "<html id=\"* graph_euler_method\">\n",
    "\t<author>Hiroshi TAKEMOTO</author>\n",
    "\t(<email>take.pwave@gmail.com</email>)\n",
    "\t\n",
    "\t<h1>微分方程式</h1>\n",
    "\t<p>\n",
    "\t\tSageを使って微分方程式を解く方法を紹介します。微分方程式の性質から解析的な解が求まらない場合等に備え、\n",
    "\t\t数値的に微分方程式を方法についても取り上げます。\n",
    "\t</p>\n",
    "</html>"
   ]
  },
  {
   "cell_type": "markdown",
   "metadata": {},
   "source": [
    "<html>\n",
    "\t<h2>desolveを使った微分方程式の解法</h2>\n",
    "\t<p>\n",
    "\t\t最初にSageで微分方程式を解くときに一般的に使用されるdesolve関数の使い方について説明します。\t\t\n",
    "\t</p>\n",
    "\t<p>\n",
    "\t\t例として以下のような2次の微分方程式をSageで表してみます。\n",
    "$$\n",
    "\t\t\\ddot z + \\dot z + z = u(t)\n",
    "$$\n",
    "\t\tここで外部からの変位u(t)を、$u(t) = 1, t \\ge 0$のステップ関数とすると上記の微分方程式は\n",
    "\t\t以下のように定義されます。\n",
    "\t</p>\n",
    "\t<p>\n",
    "\t\tdesolveでは、変数tをvar関数で、変数tの関数ｚをfunction関数で定義し、\n",
    "\t\t微分方程式deに$\\ddot z + \\dot z + a = 1$の関係式をセットし、\n",
    "\t\t初期条件icsに$[ t_0, z(t_0), \\dot z(t_0)]$を与えて解きます。\n",
    "\t</p>\n",
    "</html>"
   ]
  },
  {
   "cell_type": "code",
   "execution_count": 1,
   "metadata": {
    "collapsed": false
   },
   "outputs": [
    {
     "name": "stderr",
     "output_type": "stream",
     "text": [
      "/usr/lib/sagemath/local/lib/python2.7/site-packages/IPython/core/interactiveshell.py:2885: DeprecationWarning: Calling function('f',x) is deprecated. Use function('f')(x) instead.\n",
      "See http://trac.sagemath.org/17447 for details.\n",
      "  exec(code_obj, self.user_global_ns, self.user_ns)\n"
     ]
    },
    {
     "data": {
      "text/html": [
       "<html><script type=\"math/tex; mode=display\">\\newcommand{\\Bold}[1]{\\mathbf{#1}}-\\frac{1}{3} \\, {\\left(\\sqrt{3} \\sin\\left(\\frac{1}{2} \\, \\sqrt{3} t\\right) + 3 \\, \\cos\\left(\\frac{1}{2} \\, \\sqrt{3} t\\right)\\right)} e^{\\left(-\\frac{1}{2} \\, t\\right)} + 1</script></html>"
      ],
      "text/plain": [
       "-1/3*(sqrt(3)*sin(1/2*sqrt(3)*t) + 3*cos(1/2*sqrt(3)*t))*e^(-1/2*t) + 1"
      ]
     },
     "metadata": {},
     "output_type": "display_data"
    }
   ],
   "source": [
    "t = var('t')\n",
    "# deprecateのエラーがでますが、このままで実行します。\n",
    "z(t) = function('z', t)\n",
    "de = diff(z, t, 2) + diff(z, t) + z == 1\n",
    "sol = desolve(de, z, ics=[0,0,0])\n",
    "show(sol)"
   ]
  },
  {
   "cell_type": "markdown",
   "metadata": {},
   "source": [
    "<html>\n",
    "\t<p>\n",
    "\t\t求まった解$z(t)$とその微分$\\dot z(t)$をプロットしてみます。\n",
    "\t</p>\n",
    "\t<p>\n",
    "\t\t$z(t)$は、最初は振動していますが、t=10になると定常状態に収まって１となっています。\n",
    "\t</p>\n",
    "</html>"
   ]
  },
  {
   "cell_type": "code",
   "execution_count": 2,
   "metadata": {
    "collapsed": false
   },
   "outputs": [
    {
     "data": {
      "image/png": "[encoded data removed]",
      "text/plain": [
       "Graphics object consisting of 2 graphics primitives"
      ]
     },
     "metadata": {},
     "output_type": "display_data"
    }
   ],
   "source": [
    "plt_sol1 = plot(sol, [t, 0, 20], linestyle ='-')\n",
    "plt_sol2 = plot(diff(sol,t), [t, 0, 20], linestyle =':')\n",
    "(plt_sol1 + plt_sol2).show(figsize=5)"
   ]
  },
  {
   "cell_type": "markdown",
   "metadata": {},
   "source": [
    "<html>\n",
    "\t<h2>伝達関数H(s)を使った解法</h2>\n",
    "\t<p>\n",
    "\t\t次に、ラプラス変換と伝達関数を使って同じ微分方程式を解いてみましょう。\n",
    "$$\n",
    "\t\t\\ddot z + \\dot z + z = u(t)\n",
    "$$\n",
    "\t\tの両辺をラプラス変換します。zのラブラス変換をZ, uのラブラス変換をUとすると以下の様になります。\n",
    "$$\n",
    "\t\ts^2 Z + s Z + Z = U\n",
    "$$\n",
    "\t\tここで伝達関数$H(s) = \\frac{Z}{U}$を計算します。\n",
    "$$\n",
    "\t\tH(s) = \\frac{1}{s^2 + s + 1}\n",
    "$$\n",
    "\t\t単位ステップ応答のラブラス変換は、$\\frac{1}{s}$なので、$Z(s)$は以下の様に求めまります。\n",
    "$$\n",
    "\t\tZ(s) = H(s) U(s) = H(s) \\frac{1}{s} = \\frac{1}{s^3 + s^2 + s}\n",
    "$$\n",
    "\t\t最後に$Z(s)$をラプラス逆変換すると$z(t)$の解析解が求まります。\n",
    "\t</p>\n",
    "\t<p>\n",
    "\t\t上記の処理をSageを使って行ってみます。\n",
    "\t</p>\n",
    "</html>"
   ]
  },
  {
   "cell_type": "code",
   "execution_count": 3,
   "metadata": {
    "collapsed": false
   },
   "outputs": [
    {
     "data": {
      "text/html": [
       "<html><script type=\"math/tex; mode=display\">\\newcommand{\\Bold}[1]{\\mathbf{#1}}-\\frac{1}{3} \\, {\\left(\\sqrt{3} \\sin\\left(\\frac{1}{2} \\, \\sqrt{3} t\\right) + 3 \\, \\cos\\left(\\frac{1}{2} \\, \\sqrt{3} t\\right)\\right)} e^{\\left(-\\frac{1}{2} \\, t\\right)} + 1</script></html>"
      ],
      "text/plain": [
       "-1/3*(sqrt(3)*sin(1/2*sqrt(3)*t) + 3*cos(1/2*sqrt(3)*t))*e^(-1/2*t) + 1"
      ]
     },
     "metadata": {},
     "output_type": "display_data"
    }
   ],
   "source": [
    "(s, t) = var('s t')\n",
    "P = 1/(s*s + s + 1)\n",
    "# 単位ステップ応答は伝達関数/sの逆ラプラス変換で得られる\n",
    "ip = inverse_laplace(P/s, s, t)\n",
    "show(ip)"
   ]
  },
  {
   "cell_type": "markdown",
   "metadata": {},
   "source": [
    "<html>\n",
    "\t<h3>結果のプロット</h3>\n",
    "\t<p>\n",
    "\t\t求まった解をプロットするとdesolveの同じ結果と同じ結果を得ることができました。\n",
    "\t</p>\n",
    "</html>"
   ]
  },
  {
   "cell_type": "code",
   "execution_count": 4,
   "metadata": {
    "collapsed": false
   },
   "outputs": [
    {
     "data": {
      "image/png": "[encoded data removed]",
      "text/plain": [
       "Graphics object consisting of 2 graphics primitives"
      ]
     },
     "metadata": {},
     "output_type": "display_data"
    }
   ],
   "source": [
    "plt_1 = plot(ip, [t, 0, 20], linestyle ='-')\n",
    "plt_2 = plot(diff(ip,t), [t, 0, 20], linestyle =':')\n",
    "(plt_1 + plt_2).show(figsize=5)"
   ]
  },
  {
   "cell_type": "markdown",
   "metadata": {},
   "source": [
    "<html>\n",
    "\t<h2>微分方程式の数値解法</h2>\n",
    "\t<h3>desolve_system_rk4を使った解法</h3>\n",
    "\t<p>\n",
    "\t\tdesolve_system_rk4は、ルンゲクッタ法を使って効率よく微分方程式の数値解をもとめる関数です。\n",
    "\t</p>\n",
    "\t<p>\n",
    "\t\t例題の微分方程式を$\\ddot z, \\dot z$について見てみます。\n",
    "$$\n",
    "\t\t\\ddot z + \\dot z + z = u(t)\n",
    "$$\n",
    "\t\t以下のような等価な連立微分方式を得ることができます。\n",
    "$$\n",
    "\t\t\\left\\{\\begin{array}{l}\n",
    "\t\t\t\\dot z = \\dot z\\\\\n",
    "\t\t\t\\ddot z = - z - \\dot z + u(t)\n",
    "\t\t\t\\end{array} \\right.\n",
    "$$\n",
    "\t</p>\n",
    "\t<p>\n",
    "\t\tこれをdesolve_system_rk4関数を使って定義すると以下のようになります。\n",
    "\t\t初期条件icsは$[ t_0, z(t_0), \\dot z(t_0)]$として解きます。\n",
    "\t</p>\n",
    "</html>"
   ]
  },
  {
   "cell_type": "code",
   "execution_count": 5,
   "metadata": {
    "collapsed": false
   },
   "outputs": [
    {
     "data": {
      "image/png": "[encoded data removed]",
      "text/plain": [
       "Graphics object consisting of 2 graphics primitives"
      ]
     },
     "metadata": {},
     "output_type": "display_data"
    }
   ],
   "source": [
    "# 連立一次常微分方程式を解く関数desolve_system_rk4を使った例\n",
    "(z,z_dot,t) = var('z z_dot t')\n",
    "P=desolve_system_rk4([z_dot,-z - z_dot + 1],[z,z_dot],ics=[0,0,0],ivar=t,end_points=20)\n",
    "plt_f = list_plot([(i,j) for i, j, k in P], plotjoined=True, linestyle ='-')\n",
    "plt_g = list_plot([(i,k) for i, j, k in P], plotjoined=True, linestyle =':')\n",
    "(plt_f+plt_g).show(figsize=5)"
   ]
  },
  {
   "cell_type": "markdown",
   "metadata": {},
   "source": [
    "<html>\n",
    "\t<h3>連立微分方程式の行列とベクトルを使った表現</h3>\n",
    "\t<p>\n",
    "\t\t先の連立微分方程式を行列とベクトルで表現すると以下のようになります。\n",
    "$$\n",
    "\t\t\\left[\\begin{array}{c}\n",
    "\t\t\t\\dot z\\\\\n",
    "\t\t\t\\ddot z\n",
    "\t\t\t\\end{array}\\right]\n",
    "\t\t = \\left[\\begin{array}{cc}\n",
    "\t\t\t\t0 & 1\\\\\n",
    "\t\t\t\t-1 & -1\n",
    "\t\t\t\\end{array}\\right]\n",
    "\t\t\t \\left[\\begin{array}{c}\n",
    "\t\t\t\tz\\\\\n",
    "\t\t\t\t\\dot z\n",
    "\t\t\t\\end{array}\\right]\n",
    "\t\t  + \\left[\\begin{array}{c}\n",
    "\t\t\t\t0\\\\\n",
    "\t\t\t\t1\n",
    "\t\t\t\t\\end{array}\\right]\n",
    "\t\t  u(t), \\left[\\begin{array}{c}\n",
    "\t\t\t\tz\\\\\n",
    "\t\t\t\t\\dot z\n",
    "\t\t\t\t\\end{array}\\right]\n",
    "\t\t\t = \\left[\\begin{array}{c}\n",
    "\t\t\t\t0\\\\\n",
    "\t\t\t\t0\n",
    "\t\t\t\t\\end{array}\\right]\n",
    "\t\t , u(t) = 1, t \\ge 0\n",
    "$$\t\t\n",
    "\t</p>\n",
    "\t<p>\n",
    "\t\tここでベクトル$x(t)$を以下のように定義します。\n",
    "$$\n",
    "\t\tx(t) = \\left[\\begin{array}{c}\n",
    "\t\t\t\tz(t)\\\\\n",
    "\t\t\t\t\\dot z (t)\n",
    "\t\t\t\t\\end{array}\\right]\t\n",
    "$$\t\t\n",
    "\t\t$x(t)$で連立微分方程式を表すと以下のように簡単になります。\n",
    "$$\n",
    "\t\t\\dot x(t) = \\left[\\begin{array}{cc}\n",
    "\t\t\t\t\t0 & 1\\\\\n",
    "\t\t\t\t\t-1 & -1\n",
    "\t\t\t\t\t\\end{array}\\right]\n",
    "\t\t\tx(t) + \\left[\\begin{array}{c}\n",
    "\t\t\t\t\t0\\\\\n",
    "\t\t\t\t\t1\n",
    "\t\t\t\t\t\\end{array}\\right]\n",
    "\t\t\tu(t), x(0) = \\left[\\begin{array}{c}\n",
    "\t\t\t\t\t0\\\\\n",
    "\t\t\t\t\t0\n",
    "\t\t\t\t\t\\end{array}\\right]\n",
    "\t\t\t, u(t) = 1, t \\ge 0\n",
    "$$\t\t\n",
    "\t</p>\n",
    "</html>"
   ]
  },
  {
   "cell_type": "markdown",
   "metadata": {},
   "source": [
    "<html>\n",
    "\t<h3>オイラー法を使った解法</h3>\n",
    "\t<p>\n",
    "\t\tオイラー法は、以下のように行列とベクトルで表現された連立一次常微分方程式を差分近似式を使って解く方法です。\n",
    "$$\n",
    "\t\t\\dot x(t) = A x(t) + B u(t), x(0) = x_0\n",
    "$$\n",
    "\t\tこれを差分近似で表現すると以下のようになります。\n",
    "$$\n",
    "\t\tx(t +  \\Delta t) \\simeq x(t) + (A x(t) + B u(t)) \\Delta t\n",
    "$$\t\t\t\t\n",
    "\t</p>\n",
    "\t<p>\n",
    "\t\tそれでは、オイラー法を使って先の微分方程式を解いてみましょう。\n",
    "\t\tA, Bを以下のように定義し、刻み幅$\\Delta t$ = 0.05, 終了時刻$t_f$ = 20で計算します。\n",
    "$$\n",
    "\t\tA =  \\left[\\begin{array}{cc}\n",
    "\t\t\t0 & 1\\\\\n",
    "\t\t\t-1 & -1\n",
    "\t\t\\end{array}\\right]\n",
    "$$\n",
    "$$\n",
    "\t\tB = \\left[\\begin{array}{c}\n",
    "\t\t\t0\\\\\n",
    "\t\t\t1\n",
    "\t\t\\end{array}\\right]\n",
    "$$\t\t\n",
    "\t</p>\n",
    "</html>"
   ]
  },
  {
   "cell_type": "code",
   "execution_count": 6,
   "metadata": {
    "collapsed": false
   },
   "outputs": [
    {
     "data": {
      "image/png": "[encoded data removed]",
      "text/plain": [
       "Graphics object consisting of 2 graphics primitives"
      ]
     },
     "metadata": {},
     "output_type": "display_data"
    }
   ],
   "source": [
    "# オイラー法での解法、インタラクティブにdtを変更できるようにした例\n",
    "from pylab import arange\n",
    "A = matrix([[0, 1], [-1, -1]])\n",
    "B = vector([0, 1])\n",
    "u = 1\n",
    "tf = 20\n",
    "dt = 0.05\n",
    "\n",
    "# 微分方程式をEuler法で解く\n",
    "x = vector([0, 0])\n",
    "xx = []\n",
    "for t in arange(0, tf, dt):\n",
    "    xx.append(x.list())\n",
    "    dx = A*x + B*u\n",
    "    x = x + dx*dt\n",
    "# 結果をプロット\n",
    "t = arange(0, tf, dt)\n",
    "x1_lst = [v[0] for v in xx]\n",
    "x2_lst = [v[1] for v in xx]\n",
    "lst_plt1 = list_plot(zip(t, x1_lst), plotjoined=True, linestyle ='-')\n",
    "lst_plt2 = list_plot(zip(t, x2_lst), plotjoined=True, linestyle =':')\n",
    "(lst_plt1 + lst_plt2).show(figsize=5)\n"
   ]
  },
  {
   "cell_type": "code",
   "execution_count": null,
   "metadata": {
    "collapsed": true
   },
   "outputs": [],
   "source": []
  }
 ],
 "metadata": {
  "kernelspec": {
   "display_name": "SageMath 7.2",
   "language": "",
   "name": "sagemath"
  },
  "language_info": {
   "codemirror_mode": {
    "name": "ipython",
    "version": 2
   },
   "file_extension": ".py",
   "mimetype": "text/x-python",
   "name": "python",
   "nbconvert_exporter": "python",
   "pygments_lexer": "ipython2",
   "version": "2.7.10"
  }
 },
 "nbformat": 4,
 "nbformat_minor": 0
}
