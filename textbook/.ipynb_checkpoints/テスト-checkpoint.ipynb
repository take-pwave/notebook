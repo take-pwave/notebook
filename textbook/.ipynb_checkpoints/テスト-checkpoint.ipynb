{
 "cells": [
  {
   "cell_type": "code",
   "execution_count": 201,
   "metadata": {
    "collapsed": false
   },
   "outputs": [
    {
     "name": "stdout",
     "output_type": "stream",
     "text": [
      "The sage extension is already loaded. To reload it, use:\n",
      "  %reload_ext sage\n"
     ]
    }
   ],
   "source": [
    "%load_ext sage"
   ]
  },
  {
   "cell_type": "code",
   "execution_count": 202,
   "metadata": {
    "collapsed": false
   },
   "outputs": [],
   "source": [
    "from sage.misc.latex import latex\n",
    "latex.add_package_to_preamble_if_available(\"tikz\")\n",
    "latex.add_to_mathjax_avoid_list(\"tikz\")\n",
    "sage.misc.latex.EMBEDDED_MODE = True"
   ]
  },
  {
   "cell_type": "code",
   "execution_count": 203,
   "metadata": {
    "collapsed": false
   },
   "outputs": [],
   "source": [
    "from IPython.display import display, Latex, HTML, Math, JSON"
   ]
  },
  {
   "cell_type": "code",
   "execution_count": 204,
   "metadata": {
    "collapsed": true
   },
   "outputs": [],
   "source": [
    "load('JinjaMagics.py')"
   ]
  },
  {
   "cell_type": "code",
   "execution_count": 205,
   "metadata": {
    "collapsed": true
   },
   "outputs": [],
   "source": [
    "# 以下のコメントを外すとJinjaMagicsが作成され、ロードされる\n",
    "## %load JinjaMagics\n",
    "from IPython import display\n",
    "from IPython.core.magic import register_cell_magic, Magics, magics_class, cell_magic\n",
    "import jinja2\n",
    "\n",
    "@magics_class\n",
    "class JinjaMagics(Magics):\n",
    "    '''Magics class containing the jinja2 magic and state'''\n",
    "    \n",
    "    def __init__(self, shell):\n",
    "        super(JinjaMagics, self).__init__(shell)\n",
    "        \n",
    "        # create a jinja2 environment to use for rendering\n",
    "        # this can be modified for desired effects (ie: using different variable syntax)\n",
    "        self.env = jinja2.Environment(loader=jinja2.FileSystemLoader('.'))\n",
    "        \n",
    "        # possible output types\n",
    "        self.display_functions = dict(html=display.HTML, \n",
    "                                      latex=display.Latex,\n",
    "                                      json=display.JSON,\n",
    "                                      pretty=display.Pretty,\n",
    "                                      display=display.display)\n",
    "\n",
    "    \n",
    "    @cell_magic\n",
    "    def jinja(self, line, cell):\n",
    "        '''\n",
    "        jinja2 cell magic function.  Contents of cell are rendered by jinja2, and \n",
    "        the line can be used to specify output type.\n",
    "\n",
    "        ie: \"%%jinja html\" will return the rendered cell wrapped in an HTML object.\n",
    "        '''\n",
    "        f = self.display_functions.get(line.lower().strip(), display.display)\n",
    "        \n",
    "        tmp = self.env.from_string(cell)\n",
    "        rend = tmp.render(dict((k,v) for (k,v) in self.shell.user_ns.items() \n",
    "                                        if not k.startswith('_') and k not in self.shell.user_ns_hidden))\n",
    "        \n",
    "        return f(rend)\n",
    "        \n",
    "    \n",
    "ip = get_ipython()\n",
    "ip.register_magics(JinjaMagics)\n"
   ]
  },
  {
   "cell_type": "code",
   "execution_count": 206,
   "metadata": {
    "collapsed": true
   },
   "outputs": [],
   "source": [
    "names = ['alice','bob']"
   ]
  },
  {
   "cell_type": "code",
   "execution_count": 211,
   "metadata": {
    "collapsed": false
   },
   "outputs": [
    {
     "data": {
      "text/html": [
       "<html>\n",
       "<head>\n",
       "<title></title>\n",
       "</head>\n",
       "<body>\n",
       "\n",
       "\n",
       "Hello alice <br/>\n",
       "\n",
       "\n",
       "\n",
       "Hello bob <br/>\n",
       "\n",
       " \n",
       "</body>\n",
       "</html>"
      ],
      "text/plain": [
       "<IPython.core.display.HTML object>"
      ]
     },
     "execution_count": 211,
     "metadata": {},
     "output_type": "execute_result"
    }
   ],
   "source": [
    "%%jinja html\n",
    "<html>\n",
    "<head>\n",
    "<title>{{ title }}</title>\n",
    "</head>\n",
    "<body>\n",
    "{% for name in names %}\n",
    "\n",
    "Hello {{ name }} <br/>\n",
    "\n",
    "{% endfor %} \n",
    "</body>\n",
    "</html>"
   ]
  },
  {
   "cell_type": "code",
   "execution_count": 87,
   "metadata": {
    "collapsed": false
   },
   "outputs": [],
   "source": [
    "hdr=[\"円周率\", \"自然体数の底\", \"虚数単位\", \"無限大\"]\n",
    "sts=[pi, e, I, oo]\n"
   ]
  },
  {
   "cell_type": "code",
   "execution_count": 178,
   "metadata": {
    "collapsed": false
   },
   "outputs": [
    {
     "data": {
      "text/plain": []
     },
     "execution_count": 178,
     "metadata": {},
     "output_type": "execute_result"
    }
   ],
   "source": [
    "%%capture output\n",
    "html.table([(h, str(st), \"$%s$\"%latex(st) ) for (h, st) in zip(hdr, sts)]) "
   ]
  },
  {
   "cell_type": "code",
   "execution_count": 179,
   "metadata": {
    "collapsed": false
   },
   "outputs": [
    {
     "ename": "UnicodeDecodeError",
     "evalue": "'ascii' codec can't decode byte 0xe5 in position 96: ordinal not in range(128)",
     "output_type": "error",
     "traceback": [
      "\u001b[0;31m---------------------------------------------------------------------------\u001b[0m",
      "\u001b[0;31mUnicodeDecodeError\u001b[0m                        Traceback (most recent call last)",
      "\u001b[0;32m<ipython-input-179-5021ccdd5f3c>\u001b[0m in \u001b[0;36m<module>\u001b[0;34m()\u001b[0m\n\u001b[0;32m----> 1\u001b[0;31m \u001b[0mHTML\u001b[0m\u001b[0;34m(\u001b[0m\u001b[0moutput\u001b[0m\u001b[0;34m.\u001b[0m\u001b[0mstdout\u001b[0m\u001b[0;34m)\u001b[0m\u001b[0;34m\u001b[0m\u001b[0m\n\u001b[0m",
      "\u001b[0;32m/Users/take/local/sage-6.9/local/lib/python2.7/site-packages/IPython/core/displayhook.pyc\u001b[0m in \u001b[0;36m__call__\u001b[0;34m(self, result)\u001b[0m\n\u001b[1;32m    250\u001b[0m                 \u001b[0mself\u001b[0m\u001b[0;34m.\u001b[0m\u001b[0mwrite_format_data\u001b[0m\u001b[0;34m(\u001b[0m\u001b[0mformat_dict\u001b[0m\u001b[0;34m,\u001b[0m \u001b[0mmd_dict\u001b[0m\u001b[0;34m)\u001b[0m\u001b[0;34m\u001b[0m\u001b[0m\n\u001b[1;32m    251\u001b[0m                 \u001b[0mself\u001b[0m\u001b[0;34m.\u001b[0m\u001b[0mlog_output\u001b[0m\u001b[0;34m(\u001b[0m\u001b[0mformat_dict\u001b[0m\u001b[0;34m)\u001b[0m\u001b[0;34m\u001b[0m\u001b[0m\n\u001b[0;32m--> 252\u001b[0;31m             \u001b[0mself\u001b[0m\u001b[0;34m.\u001b[0m\u001b[0mfinish_displayhook\u001b[0m\u001b[0;34m(\u001b[0m\u001b[0;34m)\u001b[0m\u001b[0;34m\u001b[0m\u001b[0m\n\u001b[0m\u001b[1;32m    253\u001b[0m \u001b[0;34m\u001b[0m\u001b[0m\n\u001b[1;32m    254\u001b[0m     \u001b[0;32mdef\u001b[0m \u001b[0mcull_cache\u001b[0m\u001b[0;34m(\u001b[0m\u001b[0mself\u001b[0m\u001b[0;34m)\u001b[0m\u001b[0;34m:\u001b[0m\u001b[0;34m\u001b[0m\u001b[0m\n",
      "\u001b[0;32m/Users/take/local/sage-6.9/local/lib/python2.7/site-packages/ipykernel/displayhook.pyc\u001b[0m in \u001b[0;36mfinish_displayhook\u001b[0;34m(self)\u001b[0m\n\u001b[1;32m     70\u001b[0m         \u001b[0msys\u001b[0m\u001b[0;34m.\u001b[0m\u001b[0mstderr\u001b[0m\u001b[0;34m.\u001b[0m\u001b[0mflush\u001b[0m\u001b[0;34m(\u001b[0m\u001b[0;34m)\u001b[0m\u001b[0;34m\u001b[0m\u001b[0m\n\u001b[1;32m     71\u001b[0m         \u001b[0;32mif\u001b[0m \u001b[0mself\u001b[0m\u001b[0;34m.\u001b[0m\u001b[0mmsg\u001b[0m\u001b[0;34m[\u001b[0m\u001b[0;34m'content'\u001b[0m\u001b[0;34m]\u001b[0m\u001b[0;34m[\u001b[0m\u001b[0;34m'data'\u001b[0m\u001b[0;34m]\u001b[0m\u001b[0;34m:\u001b[0m\u001b[0;34m\u001b[0m\u001b[0m\n\u001b[0;32m---> 72\u001b[0;31m             \u001b[0mself\u001b[0m\u001b[0;34m.\u001b[0m\u001b[0msession\u001b[0m\u001b[0;34m.\u001b[0m\u001b[0msend\u001b[0m\u001b[0;34m(\u001b[0m\u001b[0mself\u001b[0m\u001b[0;34m.\u001b[0m\u001b[0mpub_socket\u001b[0m\u001b[0;34m,\u001b[0m \u001b[0mself\u001b[0m\u001b[0;34m.\u001b[0m\u001b[0mmsg\u001b[0m\u001b[0;34m,\u001b[0m \u001b[0mident\u001b[0m\u001b[0;34m=\u001b[0m\u001b[0mself\u001b[0m\u001b[0;34m.\u001b[0m\u001b[0mtopic\u001b[0m\u001b[0;34m)\u001b[0m\u001b[0;34m\u001b[0m\u001b[0m\n\u001b[0m\u001b[1;32m     73\u001b[0m         \u001b[0mself\u001b[0m\u001b[0;34m.\u001b[0m\u001b[0mmsg\u001b[0m \u001b[0;34m=\u001b[0m \u001b[0mNone\u001b[0m\u001b[0;34m\u001b[0m\u001b[0m\n",
      "\u001b[0;32m/Users/take/local/sage-6.9/local/lib/python2.7/site-packages/jupyter_client/session.pyc\u001b[0m in \u001b[0;36msend\u001b[0;34m(self, stream, msg_or_type, content, parent, ident, buffers, track, header, metadata)\u001b[0m\n\u001b[1;32m    663\u001b[0m         \u001b[0;32mif\u001b[0m \u001b[0mself\u001b[0m\u001b[0;34m.\u001b[0m\u001b[0madapt_version\u001b[0m\u001b[0;34m:\u001b[0m\u001b[0;34m\u001b[0m\u001b[0m\n\u001b[1;32m    664\u001b[0m             \u001b[0mmsg\u001b[0m \u001b[0;34m=\u001b[0m \u001b[0madapt\u001b[0m\u001b[0;34m(\u001b[0m\u001b[0mmsg\u001b[0m\u001b[0;34m,\u001b[0m \u001b[0mself\u001b[0m\u001b[0;34m.\u001b[0m\u001b[0madapt_version\u001b[0m\u001b[0;34m)\u001b[0m\u001b[0;34m\u001b[0m\u001b[0m\n\u001b[0;32m--> 665\u001b[0;31m         \u001b[0mto_send\u001b[0m \u001b[0;34m=\u001b[0m \u001b[0mself\u001b[0m\u001b[0;34m.\u001b[0m\u001b[0mserialize\u001b[0m\u001b[0;34m(\u001b[0m\u001b[0mmsg\u001b[0m\u001b[0;34m,\u001b[0m \u001b[0mident\u001b[0m\u001b[0;34m)\u001b[0m\u001b[0;34m\u001b[0m\u001b[0m\n\u001b[0m\u001b[1;32m    666\u001b[0m         \u001b[0mto_send\u001b[0m\u001b[0;34m.\u001b[0m\u001b[0mextend\u001b[0m\u001b[0;34m(\u001b[0m\u001b[0mbuffers\u001b[0m\u001b[0;34m)\u001b[0m\u001b[0;34m\u001b[0m\u001b[0m\n\u001b[1;32m    667\u001b[0m         \u001b[0mlongest\u001b[0m \u001b[0;34m=\u001b[0m \u001b[0mmax\u001b[0m\u001b[0;34m(\u001b[0m\u001b[0;34m[\u001b[0m \u001b[0mlen\u001b[0m\u001b[0;34m(\u001b[0m\u001b[0ms\u001b[0m\u001b[0;34m)\u001b[0m \u001b[0;32mfor\u001b[0m \u001b[0ms\u001b[0m \u001b[0;32min\u001b[0m \u001b[0mto_send\u001b[0m \u001b[0;34m]\u001b[0m\u001b[0;34m)\u001b[0m\u001b[0;34m\u001b[0m\u001b[0m\n",
      "\u001b[0;32m/Users/take/local/sage-6.9/local/lib/python2.7/site-packages/jupyter_client/session.pyc\u001b[0m in \u001b[0;36mserialize\u001b[0;34m(self, msg, ident)\u001b[0m\n\u001b[1;32m    566\u001b[0m             \u001b[0mcontent\u001b[0m \u001b[0;34m=\u001b[0m \u001b[0mself\u001b[0m\u001b[0;34m.\u001b[0m\u001b[0mnone\u001b[0m\u001b[0;34m\u001b[0m\u001b[0m\n\u001b[1;32m    567\u001b[0m         \u001b[0;32melif\u001b[0m \u001b[0misinstance\u001b[0m\u001b[0;34m(\u001b[0m\u001b[0mcontent\u001b[0m\u001b[0;34m,\u001b[0m \u001b[0mdict\u001b[0m\u001b[0;34m)\u001b[0m\u001b[0;34m:\u001b[0m\u001b[0;34m\u001b[0m\u001b[0m\n\u001b[0;32m--> 568\u001b[0;31m             \u001b[0mcontent\u001b[0m \u001b[0;34m=\u001b[0m \u001b[0mself\u001b[0m\u001b[0;34m.\u001b[0m\u001b[0mpack\u001b[0m\u001b[0;34m(\u001b[0m\u001b[0mcontent\u001b[0m\u001b[0;34m)\u001b[0m\u001b[0;34m\u001b[0m\u001b[0m\n\u001b[0m\u001b[1;32m    569\u001b[0m         \u001b[0;32melif\u001b[0m \u001b[0misinstance\u001b[0m\u001b[0;34m(\u001b[0m\u001b[0mcontent\u001b[0m\u001b[0;34m,\u001b[0m \u001b[0mbytes\u001b[0m\u001b[0;34m)\u001b[0m\u001b[0;34m:\u001b[0m\u001b[0;34m\u001b[0m\u001b[0m\n\u001b[1;32m    570\u001b[0m             \u001b[0;31m# content is already packed, as in a relayed message\u001b[0m\u001b[0;34m\u001b[0m\u001b[0;34m\u001b[0m\u001b[0m\n",
      "\u001b[0;32m/Users/take/local/sage-6.9/local/lib/python2.7/site-packages/jupyter_client/session.pyc\u001b[0m in \u001b[0;36m<lambda>\u001b[0;34m(obj)\u001b[0m\n\u001b[1;32m     93\u001b[0m \u001b[0;31m# disallow nan, because it's not actually valid JSON\u001b[0m\u001b[0;34m\u001b[0m\u001b[0;34m\u001b[0m\u001b[0m\n\u001b[1;32m     94\u001b[0m json_packer = lambda obj: jsonapi.dumps(obj, default=date_default,\n\u001b[0;32m---> 95\u001b[0;31m     \u001b[0mensure_ascii\u001b[0m\u001b[0;34m=\u001b[0m\u001b[0mFalse\u001b[0m\u001b[0;34m,\u001b[0m \u001b[0mallow_nan\u001b[0m\u001b[0;34m=\u001b[0m\u001b[0mFalse\u001b[0m\u001b[0;34m,\u001b[0m\u001b[0;34m\u001b[0m\u001b[0m\n\u001b[0m\u001b[1;32m     96\u001b[0m )\n\u001b[1;32m     97\u001b[0m \u001b[0mjson_unpacker\u001b[0m \u001b[0;34m=\u001b[0m \u001b[0;32mlambda\u001b[0m \u001b[0ms\u001b[0m\u001b[0;34m:\u001b[0m \u001b[0mjsonapi\u001b[0m\u001b[0;34m.\u001b[0m\u001b[0mloads\u001b[0m\u001b[0;34m(\u001b[0m\u001b[0ms\u001b[0m\u001b[0;34m)\u001b[0m\u001b[0;34m\u001b[0m\u001b[0m\n",
      "\u001b[0;32m/Users/take/local/sage-6.9/local/lib/python2.7/site-packages/zmq/utils/jsonapi.pyc\u001b[0m in \u001b[0;36mdumps\u001b[0;34m(o, **kwargs)\u001b[0m\n\u001b[1;32m     53\u001b[0m         \u001b[0mkwargs\u001b[0m\u001b[0;34m[\u001b[0m\u001b[0;34m'separators'\u001b[0m\u001b[0;34m]\u001b[0m \u001b[0;34m=\u001b[0m \u001b[0;34m(\u001b[0m\u001b[0;34m','\u001b[0m\u001b[0;34m,\u001b[0m \u001b[0;34m':'\u001b[0m\u001b[0;34m)\u001b[0m\u001b[0;34m\u001b[0m\u001b[0m\n\u001b[1;32m     54\u001b[0m \u001b[0;34m\u001b[0m\u001b[0m\n\u001b[0;32m---> 55\u001b[0;31m     \u001b[0ms\u001b[0m \u001b[0;34m=\u001b[0m \u001b[0mjsonmod\u001b[0m\u001b[0;34m.\u001b[0m\u001b[0mdumps\u001b[0m\u001b[0;34m(\u001b[0m\u001b[0mo\u001b[0m\u001b[0;34m,\u001b[0m \u001b[0;34m**\u001b[0m\u001b[0mkwargs\u001b[0m\u001b[0;34m)\u001b[0m\u001b[0;34m\u001b[0m\u001b[0m\n\u001b[0m\u001b[1;32m     56\u001b[0m \u001b[0;34m\u001b[0m\u001b[0m\n\u001b[1;32m     57\u001b[0m     \u001b[0;32mif\u001b[0m \u001b[0misinstance\u001b[0m\u001b[0;34m(\u001b[0m\u001b[0ms\u001b[0m\u001b[0;34m,\u001b[0m \u001b[0municode\u001b[0m\u001b[0;34m)\u001b[0m\u001b[0;34m:\u001b[0m\u001b[0;34m\u001b[0m\u001b[0m\n",
      "\u001b[0;32m/Users/take/local/sage-6.9/local/lib/python/json/__init__.pyc\u001b[0m in \u001b[0;36mdumps\u001b[0;34m(obj, skipkeys, ensure_ascii, check_circular, allow_nan, cls, indent, separators, encoding, default, sort_keys, **kw)\u001b[0m\n\u001b[1;32m    248\u001b[0m         \u001b[0mcheck_circular\u001b[0m\u001b[0;34m=\u001b[0m\u001b[0mcheck_circular\u001b[0m\u001b[0;34m,\u001b[0m \u001b[0mallow_nan\u001b[0m\u001b[0;34m=\u001b[0m\u001b[0mallow_nan\u001b[0m\u001b[0;34m,\u001b[0m \u001b[0mindent\u001b[0m\u001b[0;34m=\u001b[0m\u001b[0mindent\u001b[0m\u001b[0;34m,\u001b[0m\u001b[0;34m\u001b[0m\u001b[0m\n\u001b[1;32m    249\u001b[0m         \u001b[0mseparators\u001b[0m\u001b[0;34m=\u001b[0m\u001b[0mseparators\u001b[0m\u001b[0;34m,\u001b[0m \u001b[0mencoding\u001b[0m\u001b[0;34m=\u001b[0m\u001b[0mencoding\u001b[0m\u001b[0;34m,\u001b[0m \u001b[0mdefault\u001b[0m\u001b[0;34m=\u001b[0m\u001b[0mdefault\u001b[0m\u001b[0;34m,\u001b[0m\u001b[0;34m\u001b[0m\u001b[0m\n\u001b[0;32m--> 250\u001b[0;31m         sort_keys=sort_keys, **kw).encode(obj)\n\u001b[0m\u001b[1;32m    251\u001b[0m \u001b[0;34m\u001b[0m\u001b[0m\n\u001b[1;32m    252\u001b[0m \u001b[0;34m\u001b[0m\u001b[0m\n",
      "\u001b[0;32m/Users/take/local/sage-6.9/local/lib/python/json/encoder.pyc\u001b[0m in \u001b[0;36mencode\u001b[0;34m(self, o)\u001b[0m\n\u001b[1;32m    208\u001b[0m         \u001b[0;32mif\u001b[0m \u001b[0;32mnot\u001b[0m \u001b[0misinstance\u001b[0m\u001b[0;34m(\u001b[0m\u001b[0mchunks\u001b[0m\u001b[0;34m,\u001b[0m \u001b[0;34m(\u001b[0m\u001b[0mlist\u001b[0m\u001b[0;34m,\u001b[0m \u001b[0mtuple\u001b[0m\u001b[0;34m)\u001b[0m\u001b[0;34m)\u001b[0m\u001b[0;34m:\u001b[0m\u001b[0;34m\u001b[0m\u001b[0m\n\u001b[1;32m    209\u001b[0m             \u001b[0mchunks\u001b[0m \u001b[0;34m=\u001b[0m \u001b[0mlist\u001b[0m\u001b[0;34m(\u001b[0m\u001b[0mchunks\u001b[0m\u001b[0;34m)\u001b[0m\u001b[0;34m\u001b[0m\u001b[0m\n\u001b[0;32m--> 210\u001b[0;31m         \u001b[0;32mreturn\u001b[0m \u001b[0;34m''\u001b[0m\u001b[0;34m.\u001b[0m\u001b[0mjoin\u001b[0m\u001b[0;34m(\u001b[0m\u001b[0mchunks\u001b[0m\u001b[0;34m)\u001b[0m\u001b[0;34m\u001b[0m\u001b[0m\n\u001b[0m\u001b[1;32m    211\u001b[0m \u001b[0;34m\u001b[0m\u001b[0m\n\u001b[1;32m    212\u001b[0m     \u001b[0;32mdef\u001b[0m \u001b[0miterencode\u001b[0m\u001b[0;34m(\u001b[0m\u001b[0mself\u001b[0m\u001b[0;34m,\u001b[0m \u001b[0mo\u001b[0m\u001b[0;34m,\u001b[0m \u001b[0m_one_shot\u001b[0m\u001b[0;34m=\u001b[0m\u001b[0mFalse\u001b[0m\u001b[0;34m)\u001b[0m\u001b[0;34m:\u001b[0m\u001b[0;34m\u001b[0m\u001b[0m\n",
      "\u001b[0;31mUnicodeDecodeError\u001b[0m: 'ascii' codec can't decode byte 0xe5 in position 96: ordinal not in range(128)"
     ]
    }
   ],
   "source": [
    "HTML(output.stdout)"
   ]
  },
  {
   "cell_type": "code",
   "execution_count": 193,
   "metadata": {
    "collapsed": false
   },
   "outputs": [],
   "source": [
    "#import matplotlib.pyplot as plt\n",
    "#from io import BytesIO\n",
    "#import urllib, base64\n",
    "from IPython.display import Image\n",
    "\n",
    "def _to_png(fig):\n",
    "    filename = os.path.join(SAGE_TMP, 'junk.png')\n",
    "    fig.save_image(filename)\n",
    "    img = Image(filename)\n",
    "    return \"<img src='data:image/png;base64,\" +  base64.b64encode(img.data) + \"'/>\""
   ]
  },
  {
   "cell_type": "code",
   "execution_count": 194,
   "metadata": {
    "collapsed": false,
    "scrolled": false
   },
   "outputs": [
    {
     "data": {
      "text/plain": []
     },
     "execution_count": 194,
     "metadata": {},
     "output_type": "execute_result"
    }
   ],
   "source": [
    "%%capture output\n",
    "html.table([[_to_png(s_plt), _to_png(c_plt)]], header=[\"sin\", \"cos\"])"
   ]
  },
  {
   "cell_type": "code",
   "execution_count": 192,
   "metadata": {
    "collapsed": false
   },
   "outputs": [
    {
     "data": {
      "text/html": [
       "<div class=\"notruncate\">\n",
       "<table  class=\"table_form\">\n",
       "<tbody>\n",
       "<tr>\n",
       "<th>sin</th>\n",
       "<th>cos</th>\n",
       "</tr>\n",
       "<tr class =\"row-a\">\n",
       "<td><img src='data:image/png;base64,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'/></td>\n",
       "<td><img src='data:image/png;base64,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'/></td>\n",
       "</tr>\n",
       "</tbody>\n",
       "</table>\n",
       "</div>\n"
      ],
      "text/plain": [
       "<IPython.core.display.HTML object>"
      ]
     },
     "execution_count": 192,
     "metadata": {},
     "output_type": "execute_result"
    }
   ],
   "source": [
    "HTML(output.stdout)"
   ]
  },
  {
   "cell_type": "code",
   "execution_count": 221,
   "metadata": {
    "collapsed": true
   },
   "outputs": [],
   "source": [
    "class Graphics2Html:\n",
    "    def __init__(self, graphics):\n",
    "        filename = os.path.join(SAGE_TMP, 'junk.png')\n",
    "        graphics.save_image(filename)\n",
    "        _img = Image(filename)\n",
    "        self._html = \"<img src='data:image/png;base64,\" +  base64.b64encode(_img.data) + \"'/>\"\n",
    "        os.remove(filename)\n",
    "    \n",
    "    def _repr_html_(self):\n",
    "        return self._html"
   ]
  },
  {
   "cell_type": "code",
   "execution_count": 228,
   "metadata": {
    "collapsed": false
   },
   "outputs": [
    {
     "data": {
      "text/html": [
       "<img src='data:image/png;base64,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'/>"
      ],
      "text/plain": [
       "<__main__.Graphics2Html instance at 0x11a0eb9e0>"
      ]
     },
     "execution_count": 228,
     "metadata": {},
     "output_type": "execute_result"
    }
   ],
   "source": [
    "Graphics2Html(s_plt)"
   ]
  },
  {
   "cell_type": "code",
   "execution_count": 226,
   "metadata": {
    "collapsed": false
   },
   "outputs": [
    {
     "data": {
      "text/plain": []
     },
     "execution_count": 226,
     "metadata": {},
     "output_type": "execute_result"
    }
   ],
   "source": [
    "%%capture output\n",
    "html.table([Graphics2Html(s_plt)._repr_html_(), Graphics2Html(c_plt)._repr_html_()])"
   ]
  },
  {
   "cell_type": "code",
   "execution_count": 227,
   "metadata": {
    "collapsed": false
   },
   "outputs": [
    {
     "data": {
      "text/html": [
       "<div class=\"notruncate\">\n",
       "<table  class=\"table_form\">\n",
       "<tbody>\n",
       "<tr class =\"row-a\">\n",
       "<td><img src='data:image/png;base64,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'/></td>\n",
       "<td><img src='data:image/png;base64,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'/></td>\n",
       "</tr>\n",
       "</tbody>\n",
       "</table>\n",
       "</div>\n"
      ],
      "text/plain": [
       "<IPython.core.display.HTML object>"
      ]
     },
     "execution_count": 227,
     "metadata": {},
     "output_type": "execute_result"
    }
   ],
   "source": [
    "HTML(output.stdout)"
   ]
  },
  {
   "cell_type": "code",
   "execution_count": 90,
   "metadata": {
    "collapsed": false
   },
   "outputs": [],
   "source": [
    "s_plt = plot(sin(x), [x, -pi, pi], figsize=4)\n",
    "c_plt = plot(cos(x), [x, -pi, pi], figsize=4)"
   ]
  },
  {
   "cell_type": "code",
   "execution_count": 94,
   "metadata": {
    "collapsed": false,
    "scrolled": false
   },
   "outputs": [
    {
     "name": "stdout",
     "output_type": "stream",
     "text": [
      "Graphics object consisting of 1 graphics primitive\n"
     ]
    }
   ],
   "source": [
    "print(s_plt)"
   ]
  },
  {
   "cell_type": "code",
   "execution_count": 65,
   "metadata": {
    "collapsed": false
   },
   "outputs": [],
   "source": [
    "import IPython.display"
   ]
  },
  {
   "cell_type": "code",
   "execution_count": 67,
   "metadata": {
    "collapsed": false
   },
   "outputs": [
    {
     "name": "stdout",
     "output_type": "stream",
     "text": [
      "Graphics object consisting of 1 graphics primitive\n"
     ]
    }
   ],
   "source": [
    "s_plt.show()"
   ]
  },
  {
   "cell_type": "code",
   "execution_count": 50,
   "metadata": {
    "collapsed": false
   },
   "outputs": [
    {
     "data": {
      "text/plain": [
       "<IPython.core.display.DisplayObject object>"
      ]
     },
     "execution_count": 50,
     "metadata": {},
     "output_type": "execute_result"
    }
   ],
   "source": [
    "IPython.display."
   ]
  },
  {
   "cell_type": "code",
   "execution_count": 48,
   "metadata": {
    "collapsed": true
   },
   "outputs": [],
   "source": [
    "s_plt.save_image?"
   ]
  },
  {
   "cell_type": "code",
   "execution_count": 38,
   "metadata": {
    "collapsed": false
   },
   "outputs": [
    {
     "ename": "NameError",
     "evalue": "name 'output' is not defined",
     "output_type": "error",
     "traceback": [
      "\u001b[0;31m---------------------------------------------------------------------------\u001b[0m",
      "\u001b[0;31mNameError\u001b[0m                                 Traceback (most recent call last)",
      "\u001b[0;32m<ipython-input-38-ea55acea7fb4>\u001b[0m in \u001b[0;36m<module>\u001b[0;34m()\u001b[0m\n\u001b[0;32m----> 1\u001b[0;31m \u001b[0mHTML\u001b[0m\u001b[0;34m(\u001b[0m\u001b[0mstr\u001b[0m\u001b[0;34m(\u001b[0m\u001b[0moutput\u001b[0m\u001b[0;34m)\u001b[0m\u001b[0;34m)\u001b[0m\u001b[0;34m\u001b[0m\u001b[0m\n\u001b[0m",
      "\u001b[0;31mNameError\u001b[0m: name 'output' is not defined"
     ]
    }
   ],
   "source": [
    "HTML(str(output))"
   ]
  },
  {
   "cell_type": "code",
   "execution_count": 16,
   "metadata": {
    "collapsed": false
   },
   "outputs": [
    {
     "data": {
      "text/plain": [
       "u'0.17.1'"
      ]
     },
     "execution_count": 16,
     "metadata": {},
     "output_type": "execute_result"
    }
   ],
   "source": [
    "import pandas as pd\n",
    "import numpy as np\n",
    "\n",
    "np.__version__\n",
    "# '1.10.1'\n",
    "\n",
    "pd.__version__\n",
    "# u'0.17.1'\n",
    "\n"
   ]
  },
  {
   "cell_type": "code",
   "execution_count": 17,
   "metadata": {
    "collapsed": false
   },
   "outputs": [
    {
     "data": {
      "text/plain": [
       "  name   values1   values2\n",
       "0    a -0.281494 -1.037772\n",
       "1    b -0.298142 -1.182853\n",
       "2    c  0.484058 -0.619206\n",
       "3    d  0.733423  0.031425\n",
       "4    e  0.998706 -0.655828\n",
       "5    f  0.563424  0.177234\n",
       "6    g  0.292926  0.951065"
      ]
     },
     "execution_count": 17,
     "metadata": {},
     "output_type": "execute_result"
    }
   ],
   "source": [
    "df = pd.DataFrame({'name': list('abcdefg'),\n",
    "                   'values1': np.random.randn(7), \n",
    "                   'values2': np.random.randn(7)})\n",
    "df"
   ]
  },
  {
   "cell_type": "code",
   "execution_count": 18,
   "metadata": {
    "collapsed": false
   },
   "outputs": [
    {
     "data": {
      "text/plain": [
       "<pandas.core.style.Styler object at 0x11a027650>"
      ]
     },
     "execution_count": 18,
     "metadata": {},
     "output_type": "execute_result"
    }
   ],
   "source": [
    "type(df.style)\n",
    "# pandas.core.style.Styler\n",
    "\n",
    "df.style.background_gradient(cmap='winter')"
   ]
  },
  {
   "cell_type": "code",
   "execution_count": null,
   "metadata": {
    "collapsed": true
   },
   "outputs": [],
   "source": []
  }
 ],
 "metadata": {
  "kernelspec": {
   "display_name": "Python 2",
   "language": "python",
   "name": "python2"
  },
  "language_info": {
   "codemirror_mode": {
    "name": "ipython",
    "version": 2
   },
   "file_extension": ".py",
   "mimetype": "text/x-python",
   "name": "python",
   "nbconvert_exporter": "python",
   "pygments_lexer": "ipython2",
   "version": "2.7.9"
  }
 },
 "nbformat": 4,
 "nbformat_minor": 0
}
