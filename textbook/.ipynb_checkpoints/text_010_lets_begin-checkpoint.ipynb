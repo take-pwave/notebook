{
 "cells": [
  {
   "cell_type": "markdown",
   "metadata": {},
   "source": [
    "<html id=\"** 表記方法\">\n",
    "\t<author>Hiroshi TAKEMOTO</author>\n",
    "\t(<email>take.pwave@gmail.com</email>)\n",
    "</html>\n",
    "# Sageを使ってみよう\n",
    "## ブラウザーで使える数式処理システムSage\n",
    "Sageの最大の特徴は、 FirefoxやInternet Explorer等のブラウザーからSage Notebook Serverにアクセスして、 気軽に数式処理を楽しむことが出来ることです。\n",
    "\n",
    "ノートブックは、Sageでの一連の計算を記録したノートであり、計算に関する説明文を挿入したり、 値を変更して再計算することができます。"
   ]
  },
  {
   "cell_type": "markdown",
   "metadata": {
    "collapsed": false
   },
   "source": [
    "## 新規ノートブックの作成\n",
    "新規にノートブックを作成するには、「Files」タグの右端にある「New」プルダウンメニューから「SageMath 7.2」を選択します。\n",
    "\n",
    "![New Button](images/New_Menu.png)"
   ]
  },
  {
   "cell_type": "markdown",
   "metadata": {
    "collapsed": true
   },
   "source": [
    "## セルを評価してみよう\n",
    "In[ ]: と表示されている入力用セルに式を入力して、その値を評価してみましょう。\n",
    "\n",
    "以下の2行を入力して、シフトキーを押さえながらリターンキーを押してください（以下shift-returnと表します）。または既に入力されているIn [n]のセルの式をクリックして選択した後、shift-returnを押します。\n",
    "\n",
    "5/6と数値ではなく、分数で返ってくるところが数式システムならではの芸当です。"
   ]
  },
  {
   "cell_type": "code",
   "execution_count": 1,
   "metadata": {
    "collapsed": false
   },
   "outputs": [
    {
     "data": {
      "text/plain": [
       "5/6"
      ]
     },
     "execution_count": 1,
     "metadata": {},
     "output_type": "execute_result"
    }
   ],
   "source": [
    "a = 1/2 + 1/3\n",
    "a"
   ]
  },
  {
   "cell_type": "markdown",
   "metadata": {},
   "source": [
    "複雑な数式を入力すると、テキストベースの結果では分かりづらいです。そんな時には、show関数を使って表示すると数式がきれいに表示されます。"
   ]
  },
  {
   "cell_type": "code",
   "execution_count": 2,
   "metadata": {
    "collapsed": false
   },
   "outputs": [
    {
     "data": {
      "text/html": [
       "<html><script type=\"math/tex; mode=display\">\\newcommand{\\Bold}[1]{\\mathbf{#1}}\\frac{5}{6}</script></html>"
      ],
      "text/plain": [
       "5/6"
      ]
     },
     "metadata": {},
     "output_type": "display_data"
    }
   ],
   "source": [
    "show(a)"
   ]
  },
  {
   "cell_type": "markdown",
   "metadata": {},
   "source": [
    "## 多項式\n",
    "中学の数学に出てきた多項式をSageで処理してみましょう。\n",
    "\n",
    "以下の様な3次多項式を持つ関数$f(x)$をSageで定義します。\n",
    "$$\n",
    "f(x) = x^3 - x^2 - 2x\n",
    "$$\n",
    "\n",
    "最初に変数xをvar関数で定義します。次に上記の多項式を変数fにセットします。"
   ]
  },
  {
   "cell_type": "code",
   "execution_count": 3,
   "metadata": {
    "collapsed": false
   },
   "outputs": [
    {
     "data": {
      "text/html": [
       "<html><script type=\"math/tex; mode=display\">\\newcommand{\\Bold}[1]{\\mathbf{#1}}x^{3} - x^{2} - 2 \\, x</script></html>"
      ],
      "text/plain": [
       "x^3 - x^2 - 2*x"
      ]
     },
     "metadata": {},
     "output_type": "display_data"
    }
   ],
   "source": [
    "x = var('x')\n",
    "f(x) = x^3 - x^2 - 2*x\n",
    "show(f(x))"
   ]
  },
  {
   "cell_type": "markdown",
   "metadata": {},
   "source": [
    "多項式の因数分解には、factor関数を使います。\n",
    "\n",
    "因数分解の結果から、関数fはx=-1, x=0, x=2でX軸と交わります。"
   ]
  },
  {
   "cell_type": "code",
   "execution_count": 4,
   "metadata": {
    "collapsed": false
   },
   "outputs": [
    {
     "data": {
      "text/plain": [
       "(x + 1)*(x - 2)*x"
      ]
     },
     "execution_count": 4,
     "metadata": {},
     "output_type": "execute_result"
    }
   ],
   "source": [
    "factor(f)"
   ]
  },
  {
   "cell_type": "markdown",
   "metadata": {},
   "source": [
    "## 多項式のグラフ\n",
    "先ほどの3次多項式$f(x)$をプロットして、X軸と交差する位置を確認してみましょう。\n",
    "\n",
    "plot関数には、表示したい関数とその範囲を指定します。ここではx=-2.5からx=2.5の範囲を指定します。\n",
    "\n",
    "Sageの図化機能を使うことで簡単に$f(x)$の特徴を理解することができます。\n",
    "\n",
    "一番最初は、以下の様なワーニングがでますが、2回目以降はでません。\n",
    "```\n",
    "/usr/lib/sagemath/local/lib/python2.7/site-packages/matplotlib-1.5.1-py2.7-linux-x86_64.egg/matplotlib/font_manager.py:273: UserWarning: Matplotlib is building the font cache using fc-list. This may take a moment.\n",
    "  warnings.warn('Matplotlib is building the font cache using fc-list. This may take a moment.')\n",
    "```"
   ]
  },
  {
   "cell_type": "code",
   "execution_count": 5,
   "metadata": {
    "collapsed": false
   },
   "outputs": [
    {
     "data": {
      "image/png": "[encoded data removed]",
      "text/plain": [
       "Graphics object consisting of 1 graphics primitive"
      ]
     },
     "execution_count": 5,
     "metadata": {},
     "output_type": "execute_result"
    }
   ],
   "source": [
    "plot(f, [x, -2.5, 2.5], figsize=5)"
   ]
  },
  {
   "cell_type": "markdown",
   "metadata": {},
   "source": [
    "## 関数の極\n",
    "3次多項式$f(x)$の極は、関数の接線の傾きが０（傾きがX軸と平行）の場所です。 関数の極を求めるには$f(x)$を微分し、その値が０となるｘを求めます。\n",
    "\n",
    "関数の微分には、diff関数を使います。diff関数には、微分したい関数とその変数を引数とします。"
   ]
  },
  {
   "cell_type": "code",
   "execution_count": 6,
   "metadata": {
    "collapsed": false
   },
   "outputs": [
    {
     "data": {
      "text/html": [
       "<html><script type=\"math/tex; mode=display\">\\newcommand{\\Bold}[1]{\\mathbf{#1}}3 \\, x^{2} - 2 \\, x - 2</script></html>"
      ],
      "text/plain": [
       "3*x^2 - 2*x - 2"
      ]
     },
     "metadata": {},
     "output_type": "display_data"
    }
   ],
   "source": [
    "df(x) = diff(f, x)\n",
    "show(df(x))"
   ]
  },
  {
   "cell_type": "markdown",
   "metadata": {},
   "source": [
    "## 関数の解\n",
    "関数solverは関数が０となる変数の値を求めます。solverの引数は、解を求めたい関数とその変数を指定します。\n",
    "\n",
    "関数fとそれを微分した関数dfのグラフを比べると関数dfがX軸と交わる点で、 関数fの接線の傾きが0となっていることが見て取れます。"
   ]
  },
  {
   "cell_type": "code",
   "execution_count": 7,
   "metadata": {
    "collapsed": false
   },
   "outputs": [
    {
     "data": {
      "text/html": [
       "<html><script type=\"math/tex; mode=display\">\\newcommand{\\Bold}[1]{\\mathbf{#1}}\\left[x = -\\frac{1}{3} \\, \\sqrt{7} + \\frac{1}{3}, x = \\frac{1}{3} \\, \\sqrt{7} + \\frac{1}{3}\\right]</script></html>"
      ],
      "text/plain": [
       "[x == -1/3*sqrt(7) + 1/3, x == 1/3*sqrt(7) + 1/3]"
      ]
     },
     "metadata": {},
     "output_type": "display_data"
    },
    {
     "data": {
      "image/png": "[encoded data removed]",
      "text/plain": [
       "Graphics object consisting of 1 graphics primitive"
      ]
     },
     "execution_count": 7,
     "metadata": {},
     "output_type": "execute_result"
    }
   ],
   "source": [
    "sol = solve(df, x)\n",
    "show(sol)\n",
    "plot(df, [x, -2.5, 2.5], figsize=5)"
   ]
  },
  {
   "cell_type": "markdown",
   "metadata": {},
   "source": [
    "## 数値解\n",
    "Sageは数式処理システムなので、関数solverの結果が数式で返ってきます。 数値解が欲しい場合にはfind_root関数を使います。\n",
    "\n",
    "このようにSageを使って関数fをプロットしたり、解を求めることによって関数fの理解を深めることができます。"
   ]
  },
  {
   "cell_type": "code",
   "execution_count": 8,
   "metadata": {
    "collapsed": false
   },
   "outputs": [
    {
     "name": "stdout",
     "output_type": "stream",
     "text": [
      "(-0.5485837703548542, 1.2152504370215302)\n"
     ]
    }
   ],
   "source": [
    "print(  find_root(df, -2, 0), find_root(df, 0, 2) )"
   ]
  },
  {
   "cell_type": "code",
   "execution_count": null,
   "metadata": {
    "collapsed": true
   },
   "outputs": [],
   "source": []
  }
 ],
 "metadata": {
  "kernelspec": {
   "display_name": "SageMath 7.2",
   "language": "",
   "name": "sagemath"
  },
  "language_info": {
   "codemirror_mode": {
    "name": "ipython",
    "version": 2
   },
   "file_extension": ".py",
   "mimetype": "text/x-python",
   "name": "python",
   "nbconvert_exporter": "python",
   "pygments_lexer": "ipython2",
   "version": "2.7.10"
  }
 },
 "nbformat": 4,
 "nbformat_minor": 0
}
