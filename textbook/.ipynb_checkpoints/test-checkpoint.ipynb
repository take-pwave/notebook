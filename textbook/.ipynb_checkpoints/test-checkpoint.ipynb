{
 "cells": [
  {
   "cell_type": "code",
   "execution_count": 1,
   "metadata": {
    "collapsed": false
   },
   "outputs": [],
   "source": [
    "%load_ext sage"
   ]
  },
  {
   "cell_type": "code",
   "execution_count": 2,
   "metadata": {
    "collapsed": false
   },
   "outputs": [],
   "source": [
    "from sage.misc.latex import latex\n",
    "latex.add_package_to_preamble_if_available(\"tikz\")\n",
    "latex.add_to_mathjax_avoid_list(\"tikz\")\n",
    "sage.misc.latex.EMBEDDED_MODE = True"
   ]
  },
  {
   "cell_type": "code",
   "execution_count": 3,
   "metadata": {
    "collapsed": false
   },
   "outputs": [],
   "source": [
    "from IPython.display import display, Latex, HTML, Math, JSON"
   ]
  },
  {
   "cell_type": "code",
   "execution_count": 4,
   "metadata": {
    "collapsed": true
   },
   "outputs": [],
   "source": [
    "load('JinjaMagics.py')"
   ]
  },
  {
   "cell_type": "code",
   "execution_count": 5,
   "metadata": {
    "collapsed": true
   },
   "outputs": [],
   "source": [
    "# 以下のコメントを外すとJinjaMagicsが作成され、ロードされる\n",
    "## %load JinjaMagics\n",
    "from IPython import display\n",
    "from IPython.core.magic import register_cell_magic, Magics, magics_class, cell_magic\n",
    "import jinja2\n",
    "\n",
    "@magics_class\n",
    "class JinjaMagics(Magics):\n",
    "    '''Magics class containing the jinja2 magic and state'''\n",
    "    \n",
    "    def __init__(self, shell):\n",
    "        super(JinjaMagics, self).__init__(shell)\n",
    "        \n",
    "        # create a jinja2 environment to use for rendering\n",
    "        # this can be modified for desired effects (ie: using different variable syntax)\n",
    "        self.env = jinja2.Environment(loader=jinja2.FileSystemLoader('.'))\n",
    "        \n",
    "        # possible output types\n",
    "        self.display_functions = dict(html=display.HTML, \n",
    "                                      latex=display.Latex,\n",
    "                                      json=display.JSON,\n",
    "                                      pretty=display.Pretty,\n",
    "                                      display=display.display)\n",
    "\n",
    "    \n",
    "    @cell_magic\n",
    "    def jinja(self, line, cell):\n",
    "        '''\n",
    "        jinja2 cell magic function.  Contents of cell are rendered by jinja2, and \n",
    "        the line can be used to specify output type.\n",
    "\n",
    "        ie: \"%%jinja html\" will return the rendered cell wrapped in an HTML object.\n",
    "        '''\n",
    "        f = self.display_functions.get(line.lower().strip(), display.display)\n",
    "        \n",
    "        tmp = self.env.from_string(cell)\n",
    "        rend = tmp.render(dict((k,v) for (k,v) in self.shell.user_ns.items() \n",
    "                                        if not k.startswith('_') and k not in self.shell.user_ns_hidden))\n",
    "        \n",
    "        return f(rend)\n",
    "        \n",
    "    \n",
    "ip = get_ipython()\n",
    "ip.register_magics(JinjaMagics)\n"
   ]
  },
  {
   "cell_type": "code",
   "execution_count": 6,
   "metadata": {
    "collapsed": true
   },
   "outputs": [],
   "source": [
    "names = ['alice','bob']"
   ]
  },
  {
   "cell_type": "code",
   "execution_count": 7,
   "metadata": {
    "collapsed": false
   },
   "outputs": [
    {
     "data": {
      "text/html": [
       "<html>\n",
       "<head>\n",
       "<title></title>\n",
       "</head>\n",
       "<body>\n",
       "\n",
       "\n",
       "Hello alice <br/>\n",
       "\n",
       "\n",
       "\n",
       "Hello bob <br/>\n",
       "\n",
       " \n",
       "</body>\n",
       "</html>"
      ],
      "text/plain": [
       "<IPython.core.display.HTML object>"
      ]
     },
     "execution_count": 7,
     "metadata": {},
     "output_type": "execute_result"
    }
   ],
   "source": [
    "%%jinja html\n",
    "<html>\n",
    "<head>\n",
    "<title>{{ title }}</title>\n",
    "</head>\n",
    "<body>\n",
    "{% for name in names %}\n",
    "\n",
    "Hello {{ name }} <br/>\n",
    "\n",
    "{% endfor %} \n",
    "</body>\n",
    "</html>"
   ]
  },
  {
   "cell_type": "code",
   "execution_count": 28,
   "metadata": {
    "collapsed": false
   },
   "outputs": [],
   "source": [
    "hdr=[\"円周率\", \"自然体数の底\", \"虚数単位\", \"無限大\"]\n",
    "sts=[pi, e, I, oo]\n"
   ]
  },
  {
   "cell_type": "code",
   "execution_count": 29,
   "metadata": {
    "collapsed": false
   },
   "outputs": [
    {
     "data": {
      "text/plain": []
     },
     "execution_count": 29,
     "metadata": {},
     "output_type": "execute_result"
    }
   ],
   "source": [
    "%%capture output\n",
    "html.table([(h, str(st), \"$%s$\"%latex(st) ) for (h, st) in zip(hdr, sts)]) "
   ]
  },
  {
   "cell_type": "code",
   "execution_count": 30,
   "metadata": {
    "collapsed": false
   },
   "outputs": [
    {
     "data": {
      "text/html": [
       "<div class=\"notruncate\">\n",
       "<table  class=\"table_form\">\n",
       "<tbody>\n",
       "<tr class =\"row-a\">\n",
       "<td>円周率</td>\n",
       "<td>pi</td>\n",
       "<td><script type=\"math/tex\">\\pi</script></td>\n",
       "</tr>\n",
       "<tr class =\"row-b\">\n",
       "<td>自然体数の底</td>\n",
       "<td>e</td>\n",
       "<td><script type=\"math/tex\">e</script></td>\n",
       "</tr>\n",
       "<tr class =\"row-a\">\n",
       "<td>虚数単位</td>\n",
       "<td>I</td>\n",
       "<td><script type=\"math/tex\">i</script></td>\n",
       "</tr>\n",
       "<tr class =\"row-b\">\n",
       "<td>無限大</td>\n",
       "<td>+Infinity</td>\n",
       "<td><script type=\"math/tex\">+\\infty</script></td>\n",
       "</tr>\n",
       "</tbody>\n",
       "</table>\n",
       "</div>\n"
      ],
      "text/plain": [
       "<IPython.core.display.HTML object>"
      ]
     },
     "execution_count": 30,
     "metadata": {},
     "output_type": "execute_result"
    }
   ],
   "source": [
    "HTML(output.stdout)"
   ]
  },
  {
   "cell_type": "code",
   "execution_count": 11,
   "metadata": {
    "collapsed": false
   },
   "outputs": [],
   "source": [
    "#import matplotlib.pyplot as plt\n",
    "#from io import BytesIO\n",
    "import urllib, base64\n",
    "from IPython.display import Image\n",
    "\n",
    "def _to_png(fig):\n",
    "    filename = os.path.join(SAGE_TMP, 'junk.png')\n",
    "    fig.save_image(filename)\n",
    "    img = Image(filename)\n",
    "    return \"<img src='data:image/png;base64,\" +  base64.b64encode(img.data) + \"'/>\""
   ]
  },
  {
   "cell_type": "code",
   "execution_count": 12,
   "metadata": {
    "collapsed": true
   },
   "outputs": [],
   "source": [
    "s_plt = plot(sin(x), [x, -pi, pi], figsize=4)\n",
    "c_plt = plot(cos(x), [x, -pi, pi], figsize=4)"
   ]
  },
  {
   "cell_type": "code",
   "execution_count": 13,
   "metadata": {
    "collapsed": false,
    "scrolled": false
   },
   "outputs": [
    {
     "data": {
      "text/plain": []
     },
     "execution_count": 13,
     "metadata": {},
     "output_type": "execute_result"
    }
   ],
   "source": [
    "%%capture output\n",
    "html.table([[_to_png(s_plt), _to_png(c_plt)]], header=[\"sin\", \"cos\"])"
   ]
  },
  {
   "cell_type": "code",
   "execution_count": 14,
   "metadata": {
    "collapsed": false
   },
   "outputs": [
    {
     "data": {
      "text/html": [
       "<div class=\"notruncate\">\n",
       "<table  class=\"table_form\">\n",
       "<tbody>\n",
       "<tr>\n",
       "<th>sin</th>\n",
       "<th>cos</th>\n",
       "</tr>\n",
       "<tr class =\"row-a\">\n",
       "<td><img src='data:image/png;base64,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'/></td>\n",
       "<td><img src='data:image/png;base64,iVBORw0KGgoAAAANSUhEUgAAAYAAAAEcCAYAAADOY2OHAAAABHNCSVQICAgIfAhkiAAAAAlwSFlzAAAPYQAAD2EBqD+naQAAIABJREFUeJzt3XmYzXX7B/D3OTMyGWPKNsMglKUUw/TYokSW+T0ZWzRTSD2V5UEyRCKJHioMhcfykH2rLCNZh6axM1mzJwzTDCPMNMzmfH9/3I3IMts55/Nd3q/rcnVxnTnnPs053/t7f5b7Y9M0TQMREVmOXXUARESkBhMAEZFFMQEQEVkUEwARkUUxARARWRQTABGRRTEBEBFZFBMAEZFFMQEQEVkUEwBZlqZpSE5OBjfDk1UxAZBpxMTEICQkBAEBAbDb7YiMjLzv41NSUuDr64uUlBQ3RUikL0wAZBqpqakIDAzElClTYLPZVIdDpHueqgMgcpZWrVqhVatWAMBhHaJcYAVARGRRrADIMjIygLNngdOngZQU4PJl+fdvvwUeeQQoXx549FHAztsisggmADKtjAxgzRpg3Tpg2zZg3z4gM/POx73xRhUANgAB8PAIgI8PUL9+GPr2DcMLLwCFCrk7ciL3sPFAGDKbvXuBOnXs8PZegdTUEFSoADz3HPCPfwBPPAFUqgT4+gLp6ckICPDF2bNXkZFRDKdOAQcPSqL44QcgLg4oVQp45RXgtdeAwECAc8tkJkwAZAqaBkRGAqNGAXv2AIAd7duvwIgRIahR4+4X7uTkZPj6+uLq1asoVqzYHc934AAwdy6wYAGQmAgEBQHvvw+0a8dhIjIHfozJ8DZuBJ5+GmjbNhXAfkyYsA82G9C48SncuLEf587F5fk5bTagVi1g3Djg3Dlg1SqgWDHgpZfktbZscf77IHI3JgAyrPh4IDQUaN4cePBBICJiD2Jja6N//yDYbDaEh4ejTp06GD58eIFex9MTePFFYNMmICYG8PAAGjeWoaG4vOcWIt3gEBAZjqYBM2cC/fsDXl5yl965c97H5+83BHQ/DgcwZ44MB6WmApMmAV27cn6AjIcVABlKcrLceb/1FtCpE3DsGNCli3svvnY78Prr8todOgDdugFhYcCVK+6LgcgZmADIMH76CahTB1i9Gli8GPjf/4CHH1YXj68vMHu2xLJ2rcwZ7NqlLh6ivGICIEOYMwdo0AB46CFZ5vnyy6oj+svLL8uKoYAAWW76zTeqIyLKHSYA0jVNA0aMkGGWrl2BrVtlt67eVKggk8Tt2gEdOwJjxkjsRHrGncCkW5mZwNtvyzDLJ5/IpKueJ1q9vGTPQJUqEuvx48DUqcADD6iOjOjumABIl9LT5U567Vpg/nzg1VdVR5Q7NptULFWqAG+8AVy6BCxdChQurDoyojtxCIh0JyNDLv7r18vuXqNc/G/VuTOwcqX0IWrfHkhLUx0R0Z2YAEhXMjJkeee6dcCKFcCf7f1dKjQ0FCEhIVi0aJFTnzc4WBLYpk1A27bA9etOfXqiAuNGMNKNjAxZUfP993LxDw527evldyNYXkVFAa1bA82aAcuXy85iIj1gBUC64HBIx83vv5eLpKsv/u7UrBmwbJnMZ7z9NlcHkX4wAZBymgaEhwNLlgALFwL/93+qI3K+Vq2Ar76SPx98oDoaIsFilJSLiAAmTAAmT5bWCmbVuTNw4YIkOz8/4J13VEdEVscEQEpFRgIDBgCDBgG9eqmOxvX69wcSEoB33wUeewz45z9VR0RWxklgUmbfPqBRI6BlS+Drr91/yIq7JoH/zuGQpaGbNwM7dgCPP+62lya6DRMAKXH5sjR2K14c+PFHwNvb/TGoSgCAHErfoIGsfNq5U21TO7IuTgKT2zkc0tfn6lXg22/VXPxV8/GRjWKXLkkr6Rs3VEdEVsQEQG43Zgzw3XfS4qFiRdXRqPPoo9ImYuNGYMgQ1dGQFTEBkFtFRQHDhgFDh5pzuWdeNWsGfPop8NlnsgeCyJ04B0Buc/48ULu2HJyydq2crauSyjmAW2kaEBICbN8uE+PlyikLhSyGCYDcIjMTeP554PRpOdClVCnVEf2VAIKDg+Hp6YmwsDCEhYUpieXSJSAwEKhUSXoHsV0EuQMTALnF4MFyeHt0NNCwoepohF4qgGxbtgBNmshZAiNHqo6GrIBzAORyP/wgY9yjRunn4q9HjRrJhf+TT2RpLJGrsQIgl7p8GahZU1a8REWpH/e/ld4qAECWgzZpIvMlBw4ARYuqjojMjBUAuVTfvrLpae5cfV389crDQ47ATEwEBg5UHQ2ZHRMAuUz2Wv+JE+XQdMqdRx8FPv9czhPesEF1NGRmHAIil7hyBahRQ5Z8rl6tz8Pc9TgElM3hAFq0AI4dAw4dAnx9VUdEZsQKgFxiwAAZ+pk2TZ8Xf72z24FZs6Rdxrvvqo6GzIoJgJxu/Xpg5kxZ9lm+vOpojKtCBTkr4auvZDiNyNk4BEROlZICPPkkUKWKjF/r+e5fz0NA2TQNePFF4KefgMOH2TWUnIsVADnV4MGyq3XGDH1f/I3CZgOmTwdSU9kwjpyPCYCcJjoamDJFun1WqqQ6GvMICJDNYdOmyQEyRM7CISByiowMWfFTsqQkAnef7pUfRhgCynbjBlCvHpCVBezZw15B5BwG+JqSEUREACdOSAVghIv/rUJDQxESEoJFixapDuWePDxkX8CBA8CXX6qOhsyCFQAVWFwcUL060L07MH686mhyz0gVQLbevYE5c4AjR9g2mgqOCYAKrGNHYOtW4OhRwCDXUQDGTABXr0qyfeYZ4JtvVEdDRmewYp30Zv16uRCNG2esi79R+frKcNu338oOa6KCYAVA+ZaeDjz1lKxS2bTJeMs+jVgBALI3oEUL4ORJ2Rvw4IOqIyKjYgVA+TZuHPDrr8CkSca7+BuZzQZMniwto8eNUx0NGRkTAOXL2bNywEu/ftL0jdyralVptT16tCQCovzgEBDlS1iYnPR1/Djg46M6mvwx6hBQtqtXpeVGcLCsDCLKK1YAlGfbtwOLF8vuVKNe/M3A11eqsLlzgV27VEdDRsQKgPJE0+Rc37Q02ZFq5FO+jF4BALJDuE4dwNtbluJyLobyghUA5cnixdKPZvx4Y1/8zcLDA5gw4a+qjCgvWAFQrl2/DlSrJnecK1aojqbgzFABZGvfHti9W04QK1JEdTRkFKwAKNfGjwd++03OqzUTI/QCysnnn8tB8hMnqo6EjIQVAOXKhQtyWPmbb8pOVDMwUwUAAO+8A8yeDfzyi3RlJcoJKwDKlVGjpMvn0KGqI6F7GTpUJuk/+UR1JGQUTACUo19/lVbEgwYBJUqojobupVQpOZFt8mTg1CnV0ZARcAiIctSlC7Bxo/Se8fZWHY3zmG0ICACuXZPNYc89ByxcqDoa0jtWAHRfBw4ACxYAH35orou/WRUpAowYASxaBMTGqo6G9I4VAN3Xiy/K0sLDh4FChVRH41xmrAAAOTayZk2gbFmp3IjuhRUA3VNMjPScHzXKfBd/M/P0BP7zHyAqSvo1Ed0LEwDdlabJhGKdOnLilwqTJ09GpUqV8OCDD6J+/frYvXv3PR8bHR0Nu91+2x8PDw9cuHDBjRHrR5s2QFAQMGyY/C6J7oYJgO5q1Spg2zZgzBg1h7wvWbIE4eHhGDFiBPbu3YtatWqhZcuWSEpKuufP2Gw2nDhxAgkJCUhISMBvv/2G0qVLuzFq/bDZgJEjgS1b5NQ2orvhHADd4cYNoFYtwM9PxpBVNBirX78+6tWrh4l/bm3VNA3ly5dH37598d57793x+OjoaDRt2hSXL1/O9Xi+WecAsmmanB2clQXs3MlGcXQnVgB0h6VLgZ9/lnFkFReNzMxMxMbGolmzZjf/zWaz4YUXXsD27dvv+XOapiEwMBBly5ZFixYtsG3bNneEq1s2m8zf7N4NfPed6mhIj5gA6DZZWcBHHwH//CdQr56aGJKSknDjxg34+fnd9u9+fn5ISEi468+UKVMG06ZNw7fffotly5ahfPnyaNKkCfbt2+eOkHWraVOgSROZC3A4VEdDeuOpOgDSl0WL5JQvo20iqlq1KqpWrXrz7/Xr18cvv/yCiIgIzMnhuKwqVarAZrMhICAAAQEBAICwsDCEhYW5NGZ3GTkSaNwYWLYMeOkl1dGQnjAB0E1ZWcDHH/+1gkSVkiVLwsPDA4mJibf9e2JiIvz9/XP9PHXr1sXWrVtzfNyJEydMOQeQrVEjoGVL2czXrh3PcaC/cAiIbpo/X9o9fPSR2jgKFSqEoKAgREVF3fw3TdMQFRWFhg0b5vp59u3bhzJlyrgiRMP5+GPgyBEeGkO3YwVAAIDMTLlIdOgABAaqjgbo378/unXrhqCgINStWxcRERG4du0aunXrBgB4//33ER8ff3N4Z+LEiahUqRJq1KiBtLQ0zJgxA5s3b8aGDRsUvgv9qFsXCAmR5P7yy7JZjIgfAwIAzJkDnD4NREaqjkR06tQJSUlJ+PDDD5GYmIjAwECsW7cOpUqVAgAkJCQgLi7u5uMzMjIQHh6O+Ph4FClSBDVr1kRUVBSeffZZVW9Bdz7+WJL73LnAG2+ojob0gPsACBkZ0kGyQQNrDRGYfR/A3XTqBOzaJRP9DzygOhpSjXMAhK++AuLigOHDVUdCrvbRR8DZs3JyGBErAIvLzPzr7t/AR+LmixUrAEDmALKrADb5szZWABY3fz5w5gzwwQeqIyF3GTpU5nvmz1cdCanGCsDCbtwAqlcHnnpKNglZjVUrAABo3x44eFCWhnJFkHWxArCwpUtl3T/v/q1n6FD53S9ZojoSUokVgEU5HHJq1COPyKEvVmTlCgAAWreWJHDoEHcHWxUrAItasUI6fg4dqjoSUmXYMODoUeDbb1VHQqqwArAgTZNePw8/LMcGWlV2BRAcHAxPT09TNYDLrVatgPPngf371Rz8Q2oxAVjQ6tVy2PumTcDzz6uORh2rDwEBcmJY48ayA7x1a9XRkLsxAViMpsmaf09POfTdyqdEMQGIRo1kTmjrVmt/HqyIRZ/FbNokxwMOHcovO4n33we2b5cbArIWVgAW07QpkJwsxwRaPQGwAhCaJmdABwQAa9aojobciRWAhezaBWzeLHd8Vr/4019sNmDwYGDtWsDiJ2haDisAC+nQ4a/dn1z3zQrgVllZQNWqcm6AlTrCWh0rAIs4dgxYvhx47z1e/OlOnp7AwIHA11/L5jCyBiYAixg7FvD3B7p0UR0J6dXrrwOlSgGff646EnIXJgALiI+XU6D69QMKF1YdDemVl5d8RmbPls8MmR8TgAVMmCBf7u7dVUdCetezp3xWIiJUR0LuwARgcleuAFOnyhfb11d1NKR3vr5Ar17ymbl8WXU05GpMACY3dSqQng68847qSPQrNDQUISEhWGS1I9HuoV8/OSlu8mTVkZCrcRmoiaWlARUrAiEhwPTpqqPRHy4DvbdevWRF0JkzQJEiqqMhV2EFYGJz5wIXLgADBqiOhIxm4EAZApo5U3Uk5EqsAEwq+7jHwEC5k6M7sQK4v86dpT/QyZM8PN6sWAGY1PLl8sUdNEh1JGRUAwcCZ8/yBsLMWAGYkKbJlv5ixax94EtOWAHkrEULICkJiI1l/ygzYgVgQps2AXv28O6fCm7gQGDvXmkiSObDCsCEeNeWO6wAcqZpMo8UEAB8/73qaMjZWAGYzN69wIYN0vSNF38qKJtNVpGtWQMcOqQ6GnI2JgCTGTsWqFQJeOkl1ZGQWYSGSgUwbpzqSMjZmABMJC4OWLpUdnJ6eqqOhsyiUCH5TC1YwCZxZsMEYCJffgl4e0tbXyJneustaRL3xReqIyFnYgIwiZQUaffQvTvg46M6GjIbX1/5bE2dKp81MgcmAJOYNQtITQX69FEdifGwGVzu9O0rnzG2hzAPLgM1gawsoEoV4JlngPnzVUdjHFwGmnddugA//sj2EGbBCsAEVqwATp8G+vdXHQmZ3YAB0h7im29UR0LOwArABBo0kAk67tbMG1YA+dOiBXDpkuw2514TY2MFYHDbtwM7dvDun9xnwADgp594w2EGrAAM7qWXgIMHgSNHADvTeZ6wAsgftocwD14yDOzUKWn7/O67vPiT+7A9hHnwsmFgEycCDz8MdO2qOhKympdflgpg/HjVkVBBMAEYVPZxfb168cxWcr8HHpB9AQsWAAkJqqOh/GICMKgZM4DMTEkARCq8/bYkgkmTVEdC+cUEYEAZGdKTpXNnwN9fdTRkVQ89BPzrX8B//ys7hMl4mAAM6OuvgfPnZfKXSKV33gGuXAHmzFEdCeUHl4EajKYBQUFA6dLA2rWqozG27GWgwcHB8PT0RFhYGMLCwlSHZTidOslBREePAh4eqqOhvGACMJgffgCefx5Yt052ZFL+cR+Ac+zcCdSvL0uS27ZVHQ3lBROAwbRuLX1/DhzgNvyCYgJwnkaN5PMYE6M6EsoLzgEYyNGjwHffSdsHXvxJT8LDgS1bgF27VEdCecEEYCATJsiqn1deUR0J0e1CQoBHH+W5wUbDBGAQFy/KSovevYHChVVHQ3Q7Dw9ZlfbNNzJEScbABGAQU6fKsE+PHqojIbq7bt3k6MiJE1VHQrnllgRg9qP2XP3+0tJkt2W3bkCJEi59qTuY/Xdndu78/Xl7Az17Av/7n+wNcDWzfzbd8f6YAJzA1e9v4UIZAurXz6Uvc1dm/92Znbt/f717y071GTNc/1pm/2yaJgFQ/mmadFxs3RqoWlV1NET3V6aMLFL44gvpVUX6lu8E4KrslJfn1cNj8yqvcaxbB/z8c84nfrnq/Z0/f94lz5vXx+vh96eXePXw+7vfY/v3B86dA5Yude7z/l1e3psr49DD+8vvZ54JoICPzau8xjF+vLR+ePZZ5z5vbjEBuD4GsyWAp56SXerjxkkFq4fPZl6fWw+PdUcC8MzNgzRNQ0pKym3/lpWVheTk5Fy9iJkf68rn/v33LGzdmowZM4C//e93Wwyaphnu/1tuH5v9GNWfIVf+f3PV7y+nx/boAbRvD6xerY/PZl6fWw+PLejvzsfHB7YcdozmqhVE9pZ5IiIyhty0OMlVArhbBUCulZAA1KgBfPihtNwl50tOTkb58uURFxfHXkAusGCBHFi0axdQrZrqaKzHaRUAud/QobKhJi5ODt4g52MzONdKTwcqVpQVbNOnq46G7obLQHUoNVVOWXrzTV78ybgKFwb69AHmzgUuXFAdDd0NE4AOzZkjOyn79lUdCVHB9OghfYKmTFEdCd0NE4DOOBxARATQoQNQqZLqaIgKpnhx4PXXgcmTgevXVUdDf8cEoDOrVgEnT+a88YvIKPr1Ay5dAubNUx0J/Z3LE8CIESPw+OOPo2jRoihevDiaN2+OXSY4NSIrKwuDBg1CzZo1UbRoUQQEBOC1117Db7/9VqDnHT8eaNhQjthTbfny5WjZsiVKliwJu92OAwcOqA6JciEmJgYhISEICAiA3W5HZGSk0ngee0yOioyIkAq3IEaPHo26deuiWLFi8PPzQ7t27XD8+HHnBKoDU6dORa1ateDr6wtfX180bNgQa114+LfLE0C1atUwefJkHDp0CFu3bkXFihXRokULXLp0ydUv7VLXrl3Dvn37MHz4cOzduxfLly/HsWPH0KZNm3w/5549wI8/6ufuPzU1FY0bN8Znn32W43Iy0o/U1FQEBgZiypQpuvm9hYfLiXZr1hTseWJiYtCnTx/s3LkTGzduRGZmJlq0aIHrJhlfKl++PD799FP89NNPiI2NRdOmTdGmTRscOXLENS+ouVlycrJms9m0TZs2ufulXW737t2a3W7X4uLi8vXzoaGaVrmypmVlOTmwAjp9+rRms9m0/fv3qw7Fqa5evaoB0K5evao6FJex2WzaypUrVYehORyaVq+epj3/vHOf9+LFi5rNZtNiYmKc+8Q6Urx4cW3WrFkueW63zgFkZmZi2rRpeOihh1CrVi13vrRbXLlyBTabDQ/lY+3m2bPA11/LeKmHhwuCI1LIZpMqYPNmYO9e5z1v9neuePHizntSnXA4HFi8eDGuXbuGBg0auOQ13JIAVq9eDR8fH3h5eWHixInYsGGD6X5h6enpGDx4MF555RUULVo0zz8/cSLg4yMrJojMqF072RjmrHODNU1Dv3790KhRIzzxxBPOeVIdOHToEHx8fFC4cGH06tULy5cvR/Xq1V3yWk5NAAsXLoSPjw98fHxQrFgxbN26FQDQtGlT7N+/H9u3b0erVq3QsWNHJCUlOfOlXe5e7w2QCeGOHTvCZrNhSj4WPF+9Kgdo9OgB5CN3OMX93p/ZhYaGIiQkxPQHjKjm6SltTZYskXbRBdWrVy8cPnwYixcvLviT6Uj16tWxf/9+7Nq1Cz179kTXrl1x9OhR17yYM8eT/vjjD+2XX365+SctLe2uj6tSpYo2ZswYZ760y93rvWVmZmpt27bVAgMDtd9//z1fzz12rKYVKqRp5887M+K8ud/vjnMAxqWXOYBsycma5uuraQMHFux5/v3vf2sVKlTQzpw545zAdOyFF17QevTo4ZLnzlU76Nzy9vZG5cqVc3ycw+FAenq6M1/a5e723rLv/E+dOoXNmzfj4YcfzvPzZmbK8E9YGFC2rLOizbucfnd6WU1CxubjA7z9tvQGGjZM/p5XvXv3xsqVKxEdHY0KFSo4P0idceX10qkJ4O+uXbuGTz75BCEhIShTpgySkpIwadIkxMfHo2PHjq58aZfLyspChw4dsG/fPnz33XfIzMxEYmIiAKB48eIoVKhQrp7nm2+k4Zteln7e6vLlyzh79izOnz8PTdNw9OhRaJoGf39/+Pn5qQ6P7iE1NRUnT56E9mefx1OnTmH//v0oXrw4ypcvrzg6aXESEQHMnJn3c6579eqFRYsWITIyEt7e3je/c76+vvDy8nJBtO41ZMgQBAcHo0KFCkhJScGCBQsQHR2N9evXu+YFXVJX/CktLU1r3769Vq5cOc3Ly0sLCAjQ2rZtq8XGxrryZd3i9OnTmt1uv+2PzWbT7Ha7Fh0dnavncDg0LShI0154wcXB5tPs2bNvvqdb/4wYMUJ1aE5h1iGgH3744a6/t9dff111aDe9+qqmPfKIpmVm5u3n7va+7Ha7NmfOHJfE6W7/+te/tEqVKmleXl6an5+f1rx5cy0qKsplr8d20ApFRwNNmsjmmFatVEdjPWwHrc7evUCdOjIh3KmT6misiwlAoZAQ4NQp4OBBWSdN7sUEoFbTptL6fMcOfv5VYTM4RY4dk8Zv/fvzw0/WFB4up4VZaMWx7jABKBIRAfj5Aa++qjoSIjWCg4Hq1Z23MYzyjglAgYsX5dCX3r3l1CQiK7LbpQJeuRI4cUJ1NNbEBKDAf/8rwz49e6qOhEitLl2AkiWBCRNUR2JNTABulpYmpyN16waUKKE6GiK1vLyAf/8b+OorOTSG3IsJwM3mz5choHffVR0JkT706gVoGjB1qupIrIfLQN3I4QCefBKoWhVYsUJ1NJS9DDQ4OBienp4ICwtDWFiY6rAsqXt3IDISOH2a82LuxATgRqtXAy++KKd+NW6sOhriPgD9OHoUePxxYNYstkR3JyYAN3r2WSArS9Y9c+2/ekwA+tK6tVQABw7w++EunANwk+3bgZgY4L33+OEmupvwcODQIcBVfc/oTqwA3KRdO+DIEeDwYVn/TOqxAtAXTQOeflpWxzEJuAcvRW5w9Khsdhk4kBd/onvJPjd4wwYZBiLX4+XIDcaOBfz9gc6dVUdCpG8dOwLlygHjx6uOxBqYAFwsPh6YN08OvuDyNqL7K1RIzg1euFC+O+RaTAAu9sUXstuxe3fVkRAZw1tvyXdm0iTVkZgfE4ALXb0qfX969AB8fVVHQ2QMvr7Am2/KzuDUVNXRmBsTgAtNnw5cvy4lLRHl3jvvAMnJsjGMXIcJwEXS06Xnf5cuQNmyqqMhMpZHHgFeflkWUGRmqo7GvJgAXGTBAuC332TpJ+lbaGgoQkJCsGjRItWh0C0GDwbOnpUJYXINbgRzAYcDeOIJOe2ITd/0ixvB9C8kRA6L+fln7qFxBf4vdYFVq+TM3/feUx0JkbENGSIbKXkj5RqsAFzgmWfkbiUmRnUkdD+sAIzh+eeBP/6QA+TZR8u5WAE42ZYtwLZtvPsncpYhQ4A9e4CNG1VHYj6sAJwsOBiIi5NeJhyz1DdWAMagacA//gEUKwZs2qQ6GnPhJcqJYmOBtWvljoUXfyLnsNnkO7V5M7Bjh+pozIUVgBN16ADs3y+TVp6eqqOhnLACMA6HA6hRQ45TXblSdTTmwftUJ/n5Z2DZMlm7zIs/kXPZ7fLdioyUQ2PIOVgBOEnnzkB0NPDLL8ADD6iOhnKDFYCxZGYCjz0m52nPn686GnNgBeAEv/wCLFoku3558SdyjUKF5Du2aBFw6pTqaMyBCcAJPv0UKFlSOhgSkeu88YYcGfn556ojMQcmgAI6dw6YPRvo3x8oUkR1NETmVqSIHK40a5b02qKCYQIooLFjAW9voGdP1ZFQfrEZnLH06iUHxowbpzoS4+MkcAFcuABUrCjjkiNGqI6G8oqTwMb1wQfAhAnA6dNAqVKqozEuVgAFEBEhy9P69lUdCZG19O8v372xY1VHYmxMAPmUlCRnlvbqJZNSROQ+JUrIjdekScDFi6qjMS4mgHwaP156lPDAFyI1WAUUHBNAPiQlAV9+CfTuzfFHIlVKlAD69GEVUBBMAPkwbpzc/Q8YoDoSImvLrgK4Iih/mADyKPvuv08f2fxFrvHhhx+ibNmyKFKkCJo3b46TJ0/e9/Fz5syB3W6Hh4cH7HY77HY7inBjhumVLMkqoCCYAPJo7FhpTxserjoS8/r0008xadIkTJ8+Hbt27YK3tzdatmyJjIyM+/6cr68vEhISbv45c+aMmyImlfr3l/+yCsg7JoA8uHhR7jR49+9aEydOxLBhw/Diiy/iySefxNy5cxEfH48VORwMa7PZUKpUKZQuXRqlS5dGKU7QWMKtVUBSkupojIUJIA/GjePdv6v9+uuvSEhIQLNmzW7+W7FixVA8/yf5AAALjUlEQVSvXj1s3779vj/7xx9/oGLFiqhQoQLatm2Lw4cPuzpc0ons7ySrgLxhAsil7Lv/vn257t+VEhISYLPZ4Ofnd9u/+/n5ISEh4Z4/V61aNcyaNQuRkZFYsGABHA4HGjZsiPj4eFeHTDqQXQV8+SXnAvKCCSCXPvtM7v6zxxvJORYuXAgfHx/4+PigWLFiyMzMzNfz1K9fH507d0bNmjXRuHFjLFu2DKVKlcK0adNy/NkqVarA398fQUFBCAkJYV8ggwoPl+/omDGqIzEOnl2VC+fOyZ3F4MG8+3e2Nm3aoH79+jf/npaWBk3TkJiYeFsVkJiYiNq1a+f6eT09PVG7du0cVw8BwIkTJ9gLyARKlpSl2aNHS8fQ8uVVR6R/rABy4eOPAR8f3v27gre3NypXrnzzzxNPPAF/f39ERUXdfExycjJ27tyJhg0b5vp5HQ4HDh48iDJlyrgibNKp/v3lu8rmjLnDBJCD48el9/iQIQBvEt2jX79+GDVqFFatWoWDBw+ia9euKFeuHNq0aXPzMa+99hqGDBly8+8jR47Ehg0b8Ouvv2Lv3r149dVXcfbsWbzJU3osxcdHOoV+9RVw9KjqaPSPQ0A5GDYMKFuW/f7d6b333sO1a9fQvXt3XLlyBY0bN8aaNWvwwC3nbcbFxcHDw+Pm3y9fvoy3334bCQkJePjhhxEUFITt27ejevXqKt4CKdSjh3TqHTYM+Ppr1dHoG88DuI+ffgKCgoCZM+UoOjIXngdgXl99Jd/Z3buBp59WHY1+MQHcR3CwHDhx8CDgyVrJdJgAzCsrC6hZEyhXDli/XnU0+sU5gHuIjgbWrgVGjuTFn8hoPD2BTz4BNmwANm1SHY1+sQK4C00DnnkGyMiQEtJmUx0RuQIrAHPTNCB7hfGOHfwe3w0rgLtYtQrYvl3WE/NDQ2RMNpt8h3ftAlauVB2NPrEC+JusLKBWLcDfH9i4kQnAzFgBWEPz5sD58zKXd8vCMQIrgDv873/AkSPA55/z4k9kBmPGyHd65kzVkegPK4BbXL0KVKkC/N//AbNnq46GXI0VgHV07QqsWwecOMENnbdiBXCL0aOBP/6Q1QNkHaGhoWwAZ3L/+Q+QkiL/pb+wAvjT6dNA9erAoEHsI2IVrACsZfhwGQ46ehSoVEl1NPrABPCnsDBZ+3/8OFC0qOpoyB2YAKwlNRWoWhVo1AhYskR1NPrAISDIGuHFi4FRo3jxJzIrb28ZAlq6FNi6VXU0+mD5CsDhkE1f168DsbFcJmYlrACsx+EA/vEP+Z7v2AHYLX4LbPG3D8yZIx+EiRN58ScyO7tdOoXu3g0sXKg6GvUsXQFcvixjgi1bAvPnq46G3I0VgHV17Ahs2SITwr6+qqNRx9IVwNChQHq6bPoiIusYP16WhX74oepI1LJsAoiNBf77XznukacGEllL+fLARx8BkyYBe/eqjkYdSw4BORxAw4bAtWty6AvbPVsTh4CsLTMTqF1bVv5t22bNCWELvmU5LWjnTsn+vPgTWVOhQjIKsHOndfsEWa4C+P13mfgNDgbmzVMdDanECoAAoFs3IDISOHYMKFVKdTTuZbkK4IMPpPTjxC9lYy8ga/vsMzk8ZvBg1ZG4n6UqgC1bgMaNZc1/376qoyHVWAFQtqlTgZ49ZYdww4aqo3EfyySA69eBwECgRAkgJoabvogJgP5y4wbQoIEsDImNBQoXVh2Re1hmCGjECOn4OXMmL/5EdDsPDzkM6vhxa7WDt0QCiI0Fxo6VTR+PP646GiLSo5o1ZY5w9Ghg3z7V0biH6YeAMjOl+RMg/T8KFVIbD+kHh4Do7zIy5Hpht8th8ma/Xpi+Avj0U+DQIWDWLPP/MomoYB54QPYJHTwo1w6zM3UC2L9fWj0MHAjUqaM6GiIygjp15GTAjz+Wa4iZmXYIKD399qEfq8zqU+5xCIjuJT0dqFtXVgft3g08+KDqiFzDtBXABx9Iq9d583jxJ6K8KVxYzgs4edLcG8RMmQDWrAHGjZMDoGvVUh0NERlRjRqyS/iLL4C1a1VH4xqmGwJKSJDlXE8/DXz3nTU7/FHucAiIcqJp0jds3z6ZGDZbryBTXR4dDqBrV9nUMXs2L/5EVDA2m6wKunFDmsY5HKojci5TXSLHjgU2bpRx/9KlVUdDRsFmcHQ/ZcoAc+cC339vvqWhphkCio4GmjUDBgyQsX+inHAIiPLigw/k2hIVBTRpojoa5zBFAjh3DggKkkmb9et5yAvlDhMA5UVWFtCiBXD4sMwJ+PurjqjgDD8ElJ4OdOggy7aWLOHFn4hcw9NTlobabMBLL0nbCKMzdALQNKBPH9mtt2yZ+WboiUhf/P3lWrN7N9Crl1yDjMzQCWD8eGDGDGDKFFn2SUTkag0aANOnS2v5SZNUR1Mwhh0wWbpUJnzffx944w3V0RCRlbz2GnDgANCvH1CxItC6teqI8seQk8AxMcALL8g43Lx5XO9P+cNJYCqIGzeAl18GVq+WlUFGPErScAng2DEpwWrVku3Z7PND+cUEQAWVlga0bCkt57dsMd6BU4a6dz5/XrZllykDLF/Oiz8RqeXlBaxcCQQESCI4f151RHljmAQQHw80bSprcdesAR56SHVERERyLVqzRpaHNm8u/ciMwhAJ4Lff5OJ/7Rrwww9AhQqqIyIi+ktAALBhA5CcDDz3nHEqAd0ngIQEufj/8QeweTNQubLqiMhs2AuInKFqVWlJk5YGPPsscOaM6ohyputJ4BMnZFwtPV3u/KtUUR0RmQkngckVzpz5a7h60ybg0UdVR3Rvuq0Adu2SZVWFCwPbtvHiT0TG8MgjUgl4eQHPPAPs2KE6onvTZQJYtgx4/nkpqbZulf+hRERGUa6c7Fd67DHpHDp/vuqI7k5XCSAzU3b3dugA/POf0tu/eHHVURER5V3p0rJBLCwM6NJFuhbo7UAZ3bSCiI+XXXU7dgAREcA778iyKiIioypcGJg1C3jySWDgQCA2Vk4YCwhQHZnQRQWwfDlQuzZw6pRM9vbrx4s/EZmDzQaEhwPr1gE//ww89RTw9deqoxJKE0B8PBAaCrRvD9SvD+zdK5MmRERm07y5NJBr1gzo1EmGhuLj1cakJAFcuwb85z8yyRsVJYcsrFjBc3wp/5YvX46WLVuiZMmSsNvtOHDggOqQiO5QooR0Mp43T6591aoBo0cDKSlq4nFrAkhOlkOVK1YEhg8HuneXtf5hYRzyoYJJTU1F48aN8dlnn8HGDxPpmM0GdO4MHD8ureyHD5eVjh9/DFy+7OZYXL0RzOGQNbHz5gHffCOburp1AwYN4q5ecr4zZ86gUqVK2LdvH2rWrHnfx3IjGOnBuXPA55/LITOFCgGvvioJomFD198YOz0BaBrw66/Anj0yobtqlbzBypXlTb31lqyRJXIFJgAyqoQE4Msv5WY5Lk5GSoKDpbdQUJBcQ5199kmBE8DIkbJT99o1mdA4d056YQCye7dFC+CVV6SHPytzcjUmADI6hwP48UdZKbR+PXDypPy7lxdQsqTMI5QoIZtlhw4t2GsVeB+AzQY8+KAEVK+erG+tVg0IDJQDlImcbeHChejevTsAwGazYc2aNXimAMvHQkND4el5+1chLCwMYWFhBYqTKD/sdtk93KSJ/P3iRVkheeQIcOkSkJQk/3UGXTeDI7qb1NRUJCYm3vx7QEAACv95OhArAKLc081OYKLc8vb2RuX7rCDgKiCi3GECIFO4fPkyzp49i/Pnz0PTNBw9ehSapsHf3x9+fn6qwyPSJV20giAqqMjISNSuXRutW7eGzWZDWFgY6tSpg2nTpqkOjUi3OAdAlsU5ALI6JgCyLE3TkJKSAh8fH84bkCUxARARWRTnAIiILIoJgIjIopgAiIgsigmAiMiimACIiCyKCYCIyKKYAIiILIoJgIjIopgAiIgs6v8Bt/tPr5xn2akAAAAASUVORK5CYII='/></td>\n",
       "</tr>\n",
       "</tbody>\n",
       "</table>\n",
       "</div>\n"
      ],
      "text/plain": [
       "<IPython.core.display.HTML object>"
      ]
     },
     "execution_count": 14,
     "metadata": {},
     "output_type": "execute_result"
    }
   ],
   "source": [
    "HTML(output.stdout)"
   ]
  },
  {
   "cell_type": "code",
   "execution_count": 15,
   "metadata": {
    "collapsed": true
   },
   "outputs": [],
   "source": [
    "import urllib, base64\n",
    "from IPython.display import Image\n",
    "class Graphics2Html:\n",
    "    def __init__(self, graphics):\n",
    "        filename = os.path.join(SAGE_TMP, 'junk.png')\n",
    "        graphics.save_image(filename)\n",
    "        _img = Image(filename)\n",
    "        self._html = \"<img src='data:image/png;base64,\" +  base64.b64encode(_img.data) + \"'/>\"\n",
    "        os.remove(filename)\n",
    "    \n",
    "    def _repr_html_(self):\n",
    "        return self._html"
   ]
  },
  {
   "cell_type": "code",
   "execution_count": 16,
   "metadata": {
    "collapsed": false
   },
   "outputs": [
    {
     "data": {
      "text/html": [
       "<img src='data:image/png;base64,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'/>"
      ],
      "text/plain": [
       "<__main__.Graphics2Html instance at 0x7f39fc6005a8>"
      ]
     },
     "execution_count": 16,
     "metadata": {},
     "output_type": "execute_result"
    }
   ],
   "source": [
    "Graphics2Html(c_plt)"
   ]
  },
  {
   "cell_type": "code",
   "execution_count": 23,
   "metadata": {
    "collapsed": false
   },
   "outputs": [
    {
     "data": {
      "text/plain": []
     },
     "execution_count": 23,
     "metadata": {},
     "output_type": "execute_result"
    }
   ],
   "source": [
    "%%capture output\n",
    "html.table([Graphics2Html(s_plt)._repr_html_(), Graphics2Html(c_plt)._repr_html_()])"
   ]
  },
  {
   "cell_type": "code",
   "execution_count": 17,
   "metadata": {
    "collapsed": false
   },
   "outputs": [
    {
     "data": {
      "text/html": [
       "<div class=\"notruncate\">\n",
       "<table  class=\"table_form\">\n",
       "<tbody>\n",
       "<tr>\n",
       "<th>sin</th>\n",
       "<th>cos</th>\n",
       "</tr>\n",
       "<tr class =\"row-a\">\n",
       "<td><img src='data:image/png;base64,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'/></td>\n",
       "<td><img src='data:image/png;base64,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'/></td>\n",
       "</tr>\n",
       "</tbody>\n",
       "</table>\n",
       "</div>\n"
      ],
      "text/plain": [
       "<IPython.core.display.HTML object>"
      ]
     },
     "execution_count": 17,
     "metadata": {},
     "output_type": "execute_result"
    }
   ],
   "source": [
    "HTML(output.stdout)"
   ]
  },
  {
   "cell_type": "code",
   "execution_count": 24,
   "metadata": {
    "collapsed": false
   },
   "outputs": [
    {
     "name": "stdout",
     "output_type": "stream",
     "text": [
      "1.11.0\n",
      "0.18.1\n"
     ]
    }
   ],
   "source": [
    "import pandas as pd\n",
    "import numpy as np\n",
    "\n",
    "print np.__version__\n",
    "# '1.11.0'\n",
    "\n",
    "print pd.__version__\n",
    "# u'0.18.1'"
   ]
  },
  {
   "cell_type": "code",
   "execution_count": 25,
   "metadata": {
    "collapsed": false
   },
   "outputs": [
    {
     "data": {
      "text/html": [
       "<div>\n",
       "<table border=\"1\" class=\"dataframe\">\n",
       "  <thead>\n",
       "    <tr style=\"text-align: right;\">\n",
       "      <th></th>\n",
       "      <th>name</th>\n",
       "      <th>values1</th>\n",
       "      <th>values2</th>\n",
       "    </tr>\n",
       "  </thead>\n",
       "  <tbody>\n",
       "    <tr>\n",
       "      <th>0</th>\n",
       "      <td>a</td>\n",
       "      <td>-0.892890</td>\n",
       "      <td>0.883825</td>\n",
       "    </tr>\n",
       "    <tr>\n",
       "      <th>1</th>\n",
       "      <td>b</td>\n",
       "      <td>1.087999</td>\n",
       "      <td>0.228684</td>\n",
       "    </tr>\n",
       "    <tr>\n",
       "      <th>2</th>\n",
       "      <td>c</td>\n",
       "      <td>1.960706</td>\n",
       "      <td>-1.527038</td>\n",
       "    </tr>\n",
       "    <tr>\n",
       "      <th>3</th>\n",
       "      <td>d</td>\n",
       "      <td>-0.285177</td>\n",
       "      <td>-0.842414</td>\n",
       "    </tr>\n",
       "    <tr>\n",
       "      <th>4</th>\n",
       "      <td>e</td>\n",
       "      <td>0.086347</td>\n",
       "      <td>1.410369</td>\n",
       "    </tr>\n",
       "    <tr>\n",
       "      <th>5</th>\n",
       "      <td>f</td>\n",
       "      <td>-0.669986</td>\n",
       "      <td>-0.619968</td>\n",
       "    </tr>\n",
       "    <tr>\n",
       "      <th>6</th>\n",
       "      <td>g</td>\n",
       "      <td>0.674367</td>\n",
       "      <td>-0.067392</td>\n",
       "    </tr>\n",
       "  </tbody>\n",
       "</table>\n",
       "</div>"
      ],
      "text/plain": [
       "  name   values1   values2\n",
       "0    a -0.892890  0.883825\n",
       "1    b  1.087999  0.228684\n",
       "2    c  1.960706 -1.527038\n",
       "3    d -0.285177 -0.842414\n",
       "4    e  0.086347  1.410369\n",
       "5    f -0.669986 -0.619968\n",
       "6    g  0.674367 -0.067392"
      ]
     },
     "execution_count": 25,
     "metadata": {},
     "output_type": "execute_result"
    }
   ],
   "source": [
    "df = pd.DataFrame({'name': list('abcdefg'),\n",
    "                   'values1': np.random.randn(7), \n",
    "                   'values2': np.random.randn(7)})\n",
    "df"
   ]
  },
  {
   "cell_type": "code",
   "execution_count": 26,
   "metadata": {
    "collapsed": false
   },
   "outputs": [
    {
     "data": {
      "text/html": [
       "\n",
       "        <style  type=\"text/css\" >\n",
       "        \n",
       "        \n",
       "            #T_a4bbcd70_4043_11e6_babe_08002707be12row0_col1 {\n",
       "            \n",
       "                background-color:  #0000ff;\n",
       "            \n",
       "            }\n",
       "        \n",
       "            #T_a4bbcd70_4043_11e6_babe_08002707be12row0_col2 {\n",
       "            \n",
       "                background-color:  #00d296;\n",
       "            \n",
       "            }\n",
       "        \n",
       "            #T_a4bbcd70_4043_11e6_babe_08002707be12row1_col1 {\n",
       "            \n",
       "                background-color:  #00b1a6;\n",
       "            \n",
       "            }\n",
       "        \n",
       "            #T_a4bbcd70_4043_11e6_babe_08002707be12row1_col2 {\n",
       "            \n",
       "                background-color:  #0099b2;\n",
       "            \n",
       "            }\n",
       "        \n",
       "            #T_a4bbcd70_4043_11e6_babe_08002707be12row2_col1 {\n",
       "            \n",
       "                background-color:  #00ff80;\n",
       "            \n",
       "            }\n",
       "        \n",
       "            #T_a4bbcd70_4043_11e6_babe_08002707be12row2_col2 {\n",
       "            \n",
       "                background-color:  #0000ff;\n",
       "            \n",
       "            }\n",
       "        \n",
       "            #T_a4bbcd70_4043_11e6_babe_08002707be12row3_col1 {\n",
       "            \n",
       "                background-color:  #0036e4;\n",
       "            \n",
       "            }\n",
       "        \n",
       "            #T_a4bbcd70_4043_11e6_babe_08002707be12row3_col2 {\n",
       "            \n",
       "                background-color:  #003be2;\n",
       "            \n",
       "            }\n",
       "        \n",
       "            #T_a4bbcd70_4043_11e6_babe_08002707be12row4_col1 {\n",
       "            \n",
       "                background-color:  #0057d3;\n",
       "            \n",
       "            }\n",
       "        \n",
       "            #T_a4bbcd70_4043_11e6_babe_08002707be12row4_col2 {\n",
       "            \n",
       "                background-color:  #00ff80;\n",
       "            \n",
       "            }\n",
       "        \n",
       "            #T_a4bbcd70_4043_11e6_babe_08002707be12row5_col1 {\n",
       "            \n",
       "                background-color:  #0013f6;\n",
       "            \n",
       "            }\n",
       "        \n",
       "            #T_a4bbcd70_4043_11e6_babe_08002707be12row5_col2 {\n",
       "            \n",
       "                background-color:  #004fd8;\n",
       "            \n",
       "            }\n",
       "        \n",
       "            #T_a4bbcd70_4043_11e6_babe_08002707be12row6_col1 {\n",
       "            \n",
       "                background-color:  #008cb9;\n",
       "            \n",
       "            }\n",
       "        \n",
       "            #T_a4bbcd70_4043_11e6_babe_08002707be12row6_col2 {\n",
       "            \n",
       "                background-color:  #007fc0;\n",
       "            \n",
       "            }\n",
       "        \n",
       "        </style>\n",
       "\n",
       "        <table id=\"T_a4bbcd70_4043_11e6_babe_08002707be12\" None>\n",
       "        \n",
       "\n",
       "        <thead>\n",
       "            \n",
       "            <tr>\n",
       "                \n",
       "                <th class=\"blank\">\n",
       "                \n",
       "                <th class=\"col_heading level0 col0\">name\n",
       "                \n",
       "                <th class=\"col_heading level0 col1\">values1\n",
       "                \n",
       "                <th class=\"col_heading level0 col2\">values2\n",
       "                \n",
       "            </tr>\n",
       "            \n",
       "        </thead>\n",
       "        <tbody>\n",
       "            \n",
       "            <tr>\n",
       "                \n",
       "                <th id=\"T_a4bbcd70_4043_11e6_babe_08002707be12\" class=\"row_heading level2 row0\">\n",
       "                    0\n",
       "                \n",
       "                <td id=\"T_a4bbcd70_4043_11e6_babe_08002707be12row0_col0\" class=\"data row0 col0\">\n",
       "                    a\n",
       "                \n",
       "                <td id=\"T_a4bbcd70_4043_11e6_babe_08002707be12row0_col1\" class=\"data row0 col1\">\n",
       "                    -0.89289\n",
       "                \n",
       "                <td id=\"T_a4bbcd70_4043_11e6_babe_08002707be12row0_col2\" class=\"data row0 col2\">\n",
       "                    0.883825\n",
       "                \n",
       "            </tr>\n",
       "            \n",
       "            <tr>\n",
       "                \n",
       "                <th id=\"T_a4bbcd70_4043_11e6_babe_08002707be12\" class=\"row_heading level2 row1\">\n",
       "                    1\n",
       "                \n",
       "                <td id=\"T_a4bbcd70_4043_11e6_babe_08002707be12row1_col0\" class=\"data row1 col0\">\n",
       "                    b\n",
       "                \n",
       "                <td id=\"T_a4bbcd70_4043_11e6_babe_08002707be12row1_col1\" class=\"data row1 col1\">\n",
       "                    1.088\n",
       "                \n",
       "                <td id=\"T_a4bbcd70_4043_11e6_babe_08002707be12row1_col2\" class=\"data row1 col2\">\n",
       "                    0.228684\n",
       "                \n",
       "            </tr>\n",
       "            \n",
       "            <tr>\n",
       "                \n",
       "                <th id=\"T_a4bbcd70_4043_11e6_babe_08002707be12\" class=\"row_heading level2 row2\">\n",
       "                    2\n",
       "                \n",
       "                <td id=\"T_a4bbcd70_4043_11e6_babe_08002707be12row2_col0\" class=\"data row2 col0\">\n",
       "                    c\n",
       "                \n",
       "                <td id=\"T_a4bbcd70_4043_11e6_babe_08002707be12row2_col1\" class=\"data row2 col1\">\n",
       "                    1.96071\n",
       "                \n",
       "                <td id=\"T_a4bbcd70_4043_11e6_babe_08002707be12row2_col2\" class=\"data row2 col2\">\n",
       "                    -1.52704\n",
       "                \n",
       "            </tr>\n",
       "            \n",
       "            <tr>\n",
       "                \n",
       "                <th id=\"T_a4bbcd70_4043_11e6_babe_08002707be12\" class=\"row_heading level2 row3\">\n",
       "                    3\n",
       "                \n",
       "                <td id=\"T_a4bbcd70_4043_11e6_babe_08002707be12row3_col0\" class=\"data row3 col0\">\n",
       "                    d\n",
       "                \n",
       "                <td id=\"T_a4bbcd70_4043_11e6_babe_08002707be12row3_col1\" class=\"data row3 col1\">\n",
       "                    -0.285177\n",
       "                \n",
       "                <td id=\"T_a4bbcd70_4043_11e6_babe_08002707be12row3_col2\" class=\"data row3 col2\">\n",
       "                    -0.842414\n",
       "                \n",
       "            </tr>\n",
       "            \n",
       "            <tr>\n",
       "                \n",
       "                <th id=\"T_a4bbcd70_4043_11e6_babe_08002707be12\" class=\"row_heading level2 row4\">\n",
       "                    4\n",
       "                \n",
       "                <td id=\"T_a4bbcd70_4043_11e6_babe_08002707be12row4_col0\" class=\"data row4 col0\">\n",
       "                    e\n",
       "                \n",
       "                <td id=\"T_a4bbcd70_4043_11e6_babe_08002707be12row4_col1\" class=\"data row4 col1\">\n",
       "                    0.0863465\n",
       "                \n",
       "                <td id=\"T_a4bbcd70_4043_11e6_babe_08002707be12row4_col2\" class=\"data row4 col2\">\n",
       "                    1.41037\n",
       "                \n",
       "            </tr>\n",
       "            \n",
       "            <tr>\n",
       "                \n",
       "                <th id=\"T_a4bbcd70_4043_11e6_babe_08002707be12\" class=\"row_heading level2 row5\">\n",
       "                    5\n",
       "                \n",
       "                <td id=\"T_a4bbcd70_4043_11e6_babe_08002707be12row5_col0\" class=\"data row5 col0\">\n",
       "                    f\n",
       "                \n",
       "                <td id=\"T_a4bbcd70_4043_11e6_babe_08002707be12row5_col1\" class=\"data row5 col1\">\n",
       "                    -0.669986\n",
       "                \n",
       "                <td id=\"T_a4bbcd70_4043_11e6_babe_08002707be12row5_col2\" class=\"data row5 col2\">\n",
       "                    -0.619968\n",
       "                \n",
       "            </tr>\n",
       "            \n",
       "            <tr>\n",
       "                \n",
       "                <th id=\"T_a4bbcd70_4043_11e6_babe_08002707be12\" class=\"row_heading level2 row6\">\n",
       "                    6\n",
       "                \n",
       "                <td id=\"T_a4bbcd70_4043_11e6_babe_08002707be12row6_col0\" class=\"data row6 col0\">\n",
       "                    g\n",
       "                \n",
       "                <td id=\"T_a4bbcd70_4043_11e6_babe_08002707be12row6_col1\" class=\"data row6 col1\">\n",
       "                    0.674367\n",
       "                \n",
       "                <td id=\"T_a4bbcd70_4043_11e6_babe_08002707be12row6_col2\" class=\"data row6 col2\">\n",
       "                    -0.067392\n",
       "                \n",
       "            </tr>\n",
       "            \n",
       "        </tbody>\n",
       "        </table>\n",
       "        "
      ],
      "text/plain": [
       "<pandas.formats.style.Styler at 0x7f39f563fb90>"
      ]
     },
     "execution_count": 26,
     "metadata": {},
     "output_type": "execute_result"
    }
   ],
   "source": [
    "type(df.style)\n",
    "# pandas.core.style.Styler\n",
    "\n",
    "df.style.background_gradient(cmap='winter')"
   ]
  },
  {
   "cell_type": "code",
   "execution_count": 32,
   "metadata": {
    "collapsed": false
   },
   "outputs": [
    {
     "data": {
      "text/plain": [
       "'<div class=\"notruncate\">\\n<table  class=\"table_form\">\\n<tbody>\\n<tr class =\"row-a\">\\n<td>\\xe5\\x86\\x86\\xe5\\x91\\xa8\\xe7\\x8e\\x87</td>\\n<td>pi</td>\\n<td><script type=\"math/tex\">\\\\pi</script></td>\\n</tr>\\n<tr class =\"row-b\">\\n<td>\\xe8\\x87\\xaa\\xe7\\x84\\xb6\\xe4\\xbd\\x93\\xe6\\x95\\xb0\\xe3\\x81\\xae\\xe5\\xba\\x95</td>\\n<td>e</td>\\n<td><script type=\"math/tex\">e</script></td>\\n</tr>\\n<tr class =\"row-a\">\\n<td>\\xe8\\x99\\x9a\\xe6\\x95\\xb0\\xe5\\x8d\\x98\\xe4\\xbd\\x8d</td>\\n<td>I</td>\\n<td><script type=\"math/tex\">i</script></td>\\n</tr>\\n<tr class =\"row-b\">\\n<td>\\xe7\\x84\\xa1\\xe9\\x99\\x90\\xe5\\xa4\\xa7</td>\\n<td>+Infinity</td>\\n<td><script type=\"math/tex\">+\\\\infty</script></td>\\n</tr>\\n</tbody>\\n</table>\\n</div>\\n'"
      ]
     },
     "execution_count": 32,
     "metadata": {},
     "output_type": "execute_result"
    }
   ],
   "source": [
    "output.stdout"
   ]
  },
  {
   "cell_type": "code",
   "execution_count": 33,
   "metadata": {
    "collapsed": false
   },
   "outputs": [
    {
     "data": {
      "text/html": [
       "<style type=\"text/css\">\n",
       "<!--\n",
       "table.table_form * td { padding-top: 5px; padding-bottom: 5px; padding-left: 15px; padding-right: 15px; }\n",
       "/* line 899, ../../../../sass/src/main.scss */\n",
       "table.table_form * th { background: #a6ba4e; height: 29px; padding-left: 15px; padding-right: 15px; padding-top: 5px; padding-bottom: 5px; color: white; text-align: left; }\n",
       "/* line 909, ../../../../sass/src/main.scss */\n",
       "table.table_form * tr.row-a { background: #f8f8f8; text-align: left; }\n",
       "/* line 912, ../../../../sass/src/main.scss */\n",
       "table.table_form * tr.row-b { background: #efefef; text-align: left; }\n",
       "-->\n",
       "</style>"
      ],
      "text/plain": [
       "<IPython.core.display.HTML object>"
      ]
     },
     "metadata": {},
     "output_type": "display_data"
    }
   ],
   "source": [
    "%%HTML\n",
    "<style type=\"text/css\">\n",
    "<!--\n",
    "table.table_form * td { padding-top: 5px; padding-bottom: 5px; padding-left: 15px; padding-right: 15px; }\n",
    "/* line 899, ../../../../sass/src/main.scss */\n",
    "table.table_form * th { background: #a6ba4e; height: 29px; padding-left: 15px; padding-right: 15px; padding-top: 5px; padding-bottom: 5px; color: white; text-align: left; }\n",
    "/* line 909, ../../../../sass/src/main.scss */\n",
    "table.table_form * tr.row-a { background: #f8f8f8; text-align: left; }\n",
    "/* line 912, ../../../../sass/src/main.scss */\n",
    "table.table_form * tr.row-b { background: #efefef; text-align: left; }\n",
    "-->\n",
    "</style>"
   ]
  },
  {
   "cell_type": "code",
   "execution_count": 34,
   "metadata": {
    "collapsed": false
   },
   "outputs": [
    {
     "data": {
      "text/html": [
       "<div class=\"notruncate\">\n",
       "<table  class=\"table_form\">\n",
       "<tbody>\n",
       "<tr class =\"row-a\">\n",
       "<td>円周率</td>\n",
       "<td>pi</td>\n",
       "<td><script type=\"math/tex\">\\pi</script></td>\n",
       "</tr>\n",
       "<tr class =\"row-b\">\n",
       "<td>自然体数の底</td>\n",
       "<td>e</td>\n",
       "<td><script type=\"math/tex\">e</script></td>\n",
       "</tr>\n",
       "<tr class =\"row-a\">\n",
       "<td>虚数単位</td>\n",
       "<td>I</td>\n",
       "<td><script type=\"math/tex\">i</script></td>\n",
       "</tr>\n",
       "<tr class =\"row-b\">\n",
       "<td>無限大</td>\n",
       "<td>+Infinity</td>\n",
       "<td><script type=\"math/tex\">+\\infty</script></td>\n",
       "</tr>\n",
       "</tbody>\n",
       "</table>\n",
       "</div>\n"
      ],
      "text/plain": [
       "<IPython.core.display.HTML object>"
      ]
     },
     "execution_count": 34,
     "metadata": {},
     "output_type": "execute_result"
    }
   ],
   "source": [
    "HTML(output.stdout)"
   ]
  },
  {
   "cell_type": "code",
   "execution_count": null,
   "metadata": {
    "collapsed": true
   },
   "outputs": [],
   "source": []
  }
 ],
 "metadata": {
  "kernelspec": {
   "display_name": "Python 2",
   "language": "python",
   "name": "python2"
  },
  "language_info": {
   "codemirror_mode": {
    "name": "ipython",
    "version": 2
   },
   "file_extension": ".py",
   "mimetype": "text/x-python",
   "name": "python",
   "nbconvert_exporter": "python",
   "pygments_lexer": "ipython2",
   "version": "2.7.10"
  }
 },
 "nbformat": 4,
 "nbformat_minor": 0
}
