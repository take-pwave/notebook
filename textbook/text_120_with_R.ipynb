{
 "cells": [
  {
   "cell_type": "markdown",
   "metadata": {},
   "source": [
    "<html>\n",
    "\t<author>Hiroshi TAKEMOTO</author>\n",
    "\t(<email>take.pwave@gmail.com</email>)\n",
    "\t\n",
    "\t<h1>Rとの連携</h1>\n",
    "\t<p>\n",
    "\t\tRはフリーの統計解析ソフトで、Sageのパッケージに付属しており、SageからRのコマンドを実行するための\n",
    "\t\tインターフェースも用意されています。\n",
    "\t</p>\n",
    "\t<p>\n",
    "\t\tRの特徴に以下のものがあげられます。\n",
    "\t\t<ul>\n",
    "\t\t\t<li>強力な統計処理機能</li>\n",
    "\t\t\t<li>豊富なパッケージ群</li>\n",
    "\t\t\t<li>高い表現力を持つグラフ機能</li>\n",
    "\t\t</ul>\n",
    "\t\t\n",
    "\t\tSageからRのグラフ機能を使った例として、\"R in action\" で紹介されているグラフをSageで表示したSageのワークシート\n",
    "\t\tを<a href=\"http://www15191ue.sakura.ne.jp:8000/home/pub/14/\">ここ</a>にアップしてありますので、\n",
    "\t\t参考にしてください。\n",
    "\t</p>\n",
    "\t<p>\n",
    "\t\tここでは、SageからRのコマンドを使用する場合の注意点とRインタフェースの使用方法に説明します。\n",
    "\t</p>\n",
    "</html>\n"
   ]
  },
  {
   "cell_type": "code",
   "execution_count": null,
   "metadata": {
    "collapsed": true
   },
   "outputs": [],
   "source": [
    "%%HTML\n",
    "<link rel=\"stylesheet\" type=\"text/css\" href=\"css/sage_table_form.css\">"
   ]
  },
  {
   "cell_type": "markdown",
   "metadata": {},
   "source": [
    "<html>\n",
    "\t<h2>Rのユーティリティ関数</h2>\n",
    "\t<p>\n",
    "\t\tSageからRのコマンドを使いやすくするために、以下のユーティリティ関数を用意、RUtil.pyに納めました。\n",
    "\t\t<ul>\n",
    "\t\t\t<li>preGraph(pdfFile): グラフ表示のコマンドを実行する前に実行し、出力デバイスを指定されたPDFファイルとし、pdfファイル名を返します</li>\n",
    "\t\t\t<li>offGraph: デバイスへの出力をオフにします（グラフの終了を意味します）</li>\n",
    "\t\t\t<li>postGraph(pdfFile): 指定されたPDFファイルを表示します</li>\n",
    "\t\t\t<li>getGraph(pdfFile): 指定されたPDFファイルを表示するIMGタグを返します</li>\n",
    "\t\t\t<li>printFile(name): 指定されたファイルをプリントします</li>\n",
    "\t\t</ul>\n",
    "\t</p>\n",
    "\t<p>\n",
    "\t\tload関数を使ってRUtil.pyを読み込みます。\n",
    "\t</p>\n",
    "</html>"
   ]
  },
  {
   "cell_type": "code",
   "execution_count": 4,
   "metadata": {
    "collapsed": false
   },
   "outputs": [],
   "source": [
    "# RとPandasのデータフレームを相互に変換する関数を読み込む\n",
    "# Rの必要なライブラリ\n",
    "r('library(ggplot2)')\n",
    "r('library(jsonlite)')\n",
    "\n",
    "# jupyter用のdisplayメソッド\n",
    "from IPython.display import display, Latex, HTML, Math, JSON\n",
    "# sageユーティリティ\n",
    "load('script/sage_util.py')\n",
    "# Rユーティリティ\n",
    "load('script/RUtil.py')"
   ]
  },
  {
   "cell_type": "markdown",
   "metadata": {},
   "source": [
    "<html>\n",
    "\t<h2>Rインターフェース</h2>\n",
    "\t<p>\n",
    "\t\tRとのインタフェースとして、r関数が提供されています。\n",
    "\t\tr関数では、Rのコマンドを文字列で与えます。Rのコマンド内でダブルクォートを使っている場合には、シングルクォートでくくり、\n",
    "\t\tRのコマンド内でシングルクォートを使っている場合には、ダブルクォートを使って指定します。\n",
    "<pre>\n",
    "\tr('Rのコマンド')\n",
    "</pre>\t\t\n",
    "\t\tRのコマンドにSageの変数の文字列を代入する場合には、以下のように%を使ってセットします。\n",
    "<pre>\n",
    "\tr('Rのコマンド1%s, Rのコマンド2%s' % (変数1, 変数2))\n",
    "</pre>\t\n",
    "\t\t上記の例では、１番目の%sが変数1に、２番目の%sが変数2の値に置き換わります。\t\n",
    "\t</p>\n",
    "\t<p>\n",
    "\t\tr関数の例として、Rで計算させた2のsqrtの結果を出力します。Rの出力では最初に[1]のように番号が付いて\n",
    "\t\t表示されます。\n",
    "\t</p>\n",
    "</html>"
   ]
  },
  {
   "cell_type": "code",
   "execution_count": 5,
   "metadata": {
    "collapsed": false
   },
   "outputs": [
    {
     "data": {
      "text/plain": [
       "[1] 1.414214"
      ]
     },
     "execution_count": 5,
     "metadata": {},
     "output_type": "execute_result"
    }
   ],
   "source": [
    "# Rインターフェース\n",
    "r('sqrt(2)')"
   ]
  },
  {
   "cell_type": "markdown",
   "metadata": {},
   "source": [
    "<html>\n",
    "\t<h2>複数行のコマンド</h2>\n",
    "\t<p>\n",
    "\t\t関数定義やRの制御コマンド（ループやif文等）を含む複数行のRコマンドをSageから実行する場合には、\n",
    "\t\tファイルにまとめてワークシートにアップロードして使います。\n",
    "\t</p>\n",
    "\t<p>\n",
    "\t\t例でとして%%writefileコマンドを使って、data/mystats.txtに以下のように自乗を計算するx2関数を書いておきます。\n",
    "\t</p>\n",
    "</html>"
   ]
  },
  {
   "cell_type": "code",
   "execution_count": 6,
   "metadata": {
    "collapsed": false
   },
   "outputs": [
    {
     "name": "stdout",
     "output_type": "stream",
     "text": [
      "Writing data/mystats.txt\n"
     ]
    }
   ],
   "source": [
    "%%writefile data/mystats.txt\n",
    "x2 <- function(x) {\n",
    "    return (x^x)\n",
    "}"
   ]
  },
  {
   "cell_type": "markdown",
   "metadata": {},
   "source": [
    "<html>\n",
    "\t<h3>Rコマンドファイルの実行</h3>\n",
    "\t<p>\n",
    "\t\tファイルに定義されたRのコマンドを読み込み評価するには、Rのsourceコマンドを使用します。\n",
    "\t</p>\n",
    "\t<p>\n",
    "\t\t以下の例では、mystats.txtに書かれたx2の関数定義を実行し、リストlの各要素に関数x2を適応しています。\n",
    "\t</p>\n",
    "</html>"
   ]
  },
  {
   "cell_type": "code",
   "execution_count": 8,
   "metadata": {
    "collapsed": false
   },
   "outputs": [
    {
     "data": {
      "text/plain": [
       "[[1]]\n",
       "[1] 1\n",
       "\n",
       "[[2]]\n",
       "[1] 4\n",
       "\n",
       "[[3]]\n",
       "[1] 27\n"
      ]
     },
     "execution_count": 8,
     "metadata": {},
     "output_type": "execute_result"
    }
   ],
   "source": [
    "# Source関数でテキストファイルの内容を評価実行します\n",
    "r('source(\"data/mystats.txt\")')\n",
    "# リストlの各要素に関数x2を適応する\n",
    "r('l <- c(1, 2,  3)')\n",
    "r('lapply(l, x2)')"
   ]
  },
  {
   "cell_type": "markdown",
   "metadata": {},
   "source": [
    "<html>\n",
    "\t<h2>Sageから変数（リスト）をRに渡す</h2>\n",
    "\t<p>\n",
    "\t\tSageとRとの連携で重要なポイントはSageの変数をどうやってRに渡すかです。\n",
    "\t</p>\n",
    "\t<p>\n",
    "\t\t以下の例では、変数slに[1, 2, 3]のリストをセットし、これをr関数に渡しています。\n",
    "\t\tこのままですとrlに返されるRElementオブジェクトの名前がSagexxのように自動で\n",
    "\t\t割り当てられてしまします。\n",
    "\t</p>\n",
    "\t<p>\n",
    "\t\tそこで、name関数でRにおける変数名を指定します。\n",
    "<pre>\n",
    "\trl = r(sl).name('l')\n",
    "</pre>\t\t\n",
    "\t\t説明でRの変数とSageの変数を混同しないようにRでの変数名をlとし、r関数の返した\n",
    "\t\t値をrl変数にセットします。\n",
    "\t</p>\n",
    "\t<p>\n",
    "\t\t出力結果から、r('l')で正しくslのリストがRに渡っていることが確認できます。\n",
    "\t\tまた、rlのタイプは、sage.interfaces.r.RElementであり、その値の出力結果は\n",
    "\t\tr('l')と同じであることも確認できます。\n",
    "\t</p>\n",
    "</html>"
   ]
  },
  {
   "cell_type": "code",
   "execution_count": 9,
   "metadata": {
    "collapsed": false
   },
   "outputs": [
    {
     "name": "stdout",
     "output_type": "stream",
     "text": [
      "[1] 1 2 3\n",
      "<class 'sage.interfaces.r.RElement'>\n",
      "[1] 1 2 3\n"
     ]
    }
   ],
   "source": [
    "# Sageの変数（リスト）をRに渡す\n",
    "sl = [1, 2, 3]\n",
    "# RにSageの変数slを渡し、Rでの変数名をlとする\n",
    "rl = r(sl).name('l')\n",
    "print r('l')\n",
    "print type(rl)\n",
    "print rl"
   ]
  },
  {
   "cell_type": "markdown",
   "metadata": {},
   "source": [
    "<html>\n",
    "\t<h2>SageからマトリックスをRに渡す</h2>\n",
    "\t<p>\n",
    "\t\tリストの次にRでよく使われるのがマトリックスです。\n",
    "\t\t例として、r.matrix関数を使って[1, 2, 3, 4]のリストから、2x2のマトリックスを作成します。\n",
    "\t\tbyrow=Trueとすることで、Sageと同じ行単位での配置を指定しています。\n",
    "\t\t（RではFORTRANの影響で列単位で配列を保持しています）\n",
    "\t</p>\n",
    "</html>"
   ]
  },
  {
   "cell_type": "code",
   "execution_count": 10,
   "metadata": {
    "collapsed": false
   },
   "outputs": [
    {
     "data": {
      "text/plain": [
       "     [,1] [,2]\n",
       "[1,]    1    2\n",
       "[2,]    3    4"
      ]
     },
     "execution_count": 10,
     "metadata": {},
     "output_type": "execute_result"
    }
   ],
   "source": [
    "# マトリックスの生成も同様に生成後に名前をつけて代入すればよい\n",
    "m = r.matrix([1, 2, 3, 4], 2, 2, byrow=True).name('m'); m"
   ]
  },
  {
   "cell_type": "markdown",
   "metadata": {},
   "source": [
    "<html>\n",
    "\t<p>\n",
    "\t\tRに定義された変数mの値を出力すると、上記の出力と同じことであることが確認できます。\n",
    "\t</p>\n",
    "</html>"
   ]
  },
  {
   "cell_type": "code",
   "execution_count": 11,
   "metadata": {
    "collapsed": false
   },
   "outputs": [
    {
     "data": {
      "text/plain": [
       "     [,1] [,2]\n",
       "[1,]    1    2\n",
       "[2,]    3    4"
      ]
     },
     "execution_count": 11,
     "metadata": {},
     "output_type": "execute_result"
    }
   ],
   "source": [
    "# rでも同じ変数名が定義される\n",
    "r('m')"
   ]
  },
  {
   "cell_type": "markdown",
   "metadata": {},
   "source": [
    "<html>\n",
    "\t<h2>RのマトリックスからSageのマトリックスへの変換</h2>\n",
    "\t<p>\n",
    "\t\t次にRのマトリックスをSageのマトリックスに変換する方法を示します。\n",
    "\t</p>\n",
    "\t<p>\n",
    "\t\t先に定義されたRのマトリックスmをsageobj関数を使ってSageのマトリックスに変換します。\n",
    "\t\t以下の例では、r('m')で返されたRElementをsageobjでSageの変数smに代入し、\n",
    "\t\tその値とタイプを確認しています。smは正しく変換され、smのタイプも\n",
    "\t\tsage.matrix.matrix_integer_dense.Matrix_integer_denseとなっていることが\n",
    "\t\t確認できます。\n",
    "\t</p>\n",
    "</html>"
   ]
  },
  {
   "cell_type": "code",
   "execution_count": 12,
   "metadata": {
    "collapsed": false
   },
   "outputs": [
    {
     "name": "stdout",
     "output_type": "stream",
     "text": [
      "<class 'sage.interfaces.r.RElement'>\n"
     ]
    },
    {
     "data": {
      "text/html": [
       "<html><script type=\"math/tex; mode=display\">\\newcommand{\\Bold}[1]{\\mathbf{#1}}\\left(\\begin{array}{rr}\n",
       "1 & 2 \\\\\n",
       "3 & 4\n",
       "\\end{array}\\right)</script></html>"
      ],
      "text/plain": [
       "[1 2]\n",
       "[3 4]"
      ]
     },
     "metadata": {},
     "output_type": "display_data"
    },
    {
     "name": "stdout",
     "output_type": "stream",
     "text": [
      "<type 'sage.matrix.matrix_integer_dense.Matrix_integer_dense'>\n"
     ]
    }
   ],
   "source": [
    "# Rのマトリックス変数をsageの変数に変換する\n",
    "print type(m)\n",
    "sm = sageobj(m)\n",
    "show(sm)\n",
    "print type(sm)"
   ]
  },
  {
   "cell_type": "markdown",
   "metadata": {},
   "source": [
    "<html>\n",
    "\t<h3>Sageのマトリックス変数からRのマトリックスへの変換</h3>\n",
    "\t<p>\n",
    "\t\tSageの変数smからRのマトリックスに変換する場合には、listメソッドを使ってマトリックスsm\n",
    "\t\tをリストに変換し、smの行、sm列を使ってRのマトリックスに変換します。\n",
    "\t</p>\n",
    "</html>"
   ]
  },
  {
   "cell_type": "code",
   "execution_count": 13,
   "metadata": {
    "collapsed": false
   },
   "outputs": [
    {
     "data": {
      "text/plain": [
       "     [,1] [,2]\n",
       "[1,]    1    2\n",
       "[2,]    3    4"
      ]
     },
     "execution_count": 13,
     "metadata": {},
     "output_type": "execute_result"
    }
   ],
   "source": [
    "# Sage => Rの場合には、listメソッドでマトリックスからリストに変換する\n",
    "r.matrix(sm.list(), sm.nrows(), sm.ncols(), byrow=True)"
   ]
  },
  {
   "cell_type": "markdown",
   "metadata": {},
   "source": [
    "<html>\n",
    "\t<h2>文字列リストの変換</h2>\n",
    "\t<p>\n",
    "\t\t残念ながら、Sageの文字列リストは、そのままではRの文字列リストに変換されません。\n",
    "\t\tそこで、文字列リストをstr関数を使って文字列に変換し、最初[と最後の]を取り除いて、\n",
    "\t\tr('c(%s)'%文字列リスト)を使ってRの文字列リストに変換します。\n",
    "\t</p>\n",
    "</html>"
   ]
  },
  {
   "cell_type": "code",
   "execution_count": 14,
   "metadata": {
    "collapsed": false,
    "scrolled": true
   },
   "outputs": [
    {
     "name": "stdout",
     "output_type": "stream",
     "text": [
      "'a', 'b'\n",
      "[1] \"a\" \"b\"\n",
      "['a', 'b']\n"
     ]
    }
   ],
   "source": [
    "# 文字列のリストの場合には、上記の方法では上手くいかない\n",
    "ary = [\"a\", \"b\"]\n",
    "ss = str(ary)[1:-1]; print ss # リストを文字列に変換して[、]を取り除く\n",
    "rary = r('c(%s)'%ss).name('rary')\n",
    "print rary # Rに変換した配列\n",
    "sary = sageobj(rary)\n",
    "print sary # sageに戻した配列"
   ]
  },
  {
   "cell_type": "markdown",
   "metadata": {},
   "source": [
    "<html>\n",
    "\t<h2>Rのプロット関数</h2>\n",
    "\t<p>\n",
    "\t\tRのプロット関数を使う場合には、preGraphとpostGraphで挟むようにします。\n",
    "\t</p>\n",
    "</html>"
   ]
  },
  {
   "cell_type": "code",
   "execution_count": 22,
   "metadata": {
    "collapsed": false,
    "scrolled": true
   },
   "outputs": [
    {
     "data": {
      "image/png": "[encoded data removed]",
      "text/plain": [
       "<wand.image.Image: 28cf8e3 'PDF' (504x504)>"
      ]
     },
     "execution_count": 22,
     "metadata": {},
     "output_type": "execute_result"
    }
   ],
   "source": [
    "# 正規分布をRインターフェースを使って表示\n",
    "graph = preGraph(\"images/ch12_fig1.pdf\")\n",
    "r('x <- pretty(c(-3,3), 30)')\n",
    "r('y <- dnorm(x)')\n",
    "r('plot(x, y, type = \"l\", xlab = \"Normal Deviate\", ylab = \"Density\", yaxs = \"i\")')\n",
    "postGraph(graph)"
   ]
  },
  {
   "cell_type": "markdown",
   "metadata": {
    "collapsed": true
   },
   "source": [
    "<html>\n",
    "\t<h3>Rの関数を使ってSageでプロット</h3>\n",
    "\t<p>\n",
    "\t\t上記と同じことをRの関数dnormの値を使ってSageのplot関数でプロットした例を以下に示します。\n",
    "\t</p>\n",
    "</html>"
   ]
  },
  {
   "cell_type": "code",
   "execution_count": 18,
   "metadata": {
    "collapsed": false
   },
   "outputs": [
    {
     "data": {
      "image/png": "[encoded data removed]",
      "text/plain": [
       "Graphics object consisting of 1 graphics primitive"
      ]
     },
     "execution_count": 18,
     "metadata": {},
     "output_type": "execute_result"
    }
   ],
   "source": [
    "# 同じグラフをRと連携して表示した例（計算にRの関数を使用）\n",
    "# Sage 6.7ではN()を使った数値化が失敗するため、sageobjを使ってrの戻り値を数値に変換\n",
    "x = var('x')\n",
    "f = lambda x: sageobj(r.dnorm(x))    # r.dnormを使ってRのdnorm関数を呼び出す\n",
    "plot(f, [x, -3, 3], axes_labels=[\"Normal Deviate\", \"Density\"], figsize=6)"
   ]
  },
  {
   "cell_type": "markdown",
   "metadata": {},
   "source": [
    "<html>\n",
    "\t<h3>r.plot関数を使ったプロット</h3>\n",
    "\t<p>\n",
    "\t\t次に、r.plotを使ったプロットの例を示します。X軸にage、Y軸にweightを表示します。\n",
    "\t\tr.plotにX, Yにsageの変数age, weightを使った場合、軸ラベル名にsagexxのような\n",
    "\t\t名前が表示されます。\n",
    "\t</p>\n",
    "</html>"
   ]
  },
  {
   "cell_type": "code",
   "execution_count": 23,
   "metadata": {
    "collapsed": false
   },
   "outputs": [
    {
     "data": {
      "image/png": "[encoded data removed]",
      "text/plain": [
       "<wand.image.Image: 00fde65 'PDF' (504x504)>"
      ]
     },
     "execution_count": 23,
     "metadata": {},
     "output_type": "execute_result"
    }
   ],
   "source": [
    "# グラフ表示(軸ラベルが正しく表示されていない)\n",
    "age = [1,3,5,2,11,9,3,9,12,3]\n",
    "weight = [4.4,5.3,7.2,5.2,8.5,7.3,6.0,10.4,10.2,6.1]\n",
    "graph = preGraph(\"images/ch12_fig2.pdf\")\n",
    "r.plot(age, weight)\n",
    "postGraph(graph)"
   ]
  },
  {
   "cell_type": "markdown",
   "metadata": {},
   "source": [
    "<html>\n",
    "\t<h3>変数名を付けてr.plotでプロット</h3>\n",
    "\t<p>\n",
    "\t\tage, weightにnameコマンドでRの変数名をセットすると、軸ラベルがage, weightと\n",
    "\t\t表示されます。\n",
    "\t</p>\n",
    "</html>"
   ]
  },
  {
   "cell_type": "code",
   "execution_count": 24,
   "metadata": {
    "collapsed": false
   },
   "outputs": [
    {
     "data": {
      "image/png": "[encoded data removed]",
      "text/plain": [
       "<wand.image.Image: f4e9ada 'PDF' (504x504)>"
      ]
     },
     "execution_count": 24,
     "metadata": {},
     "output_type": "execute_result"
    }
   ],
   "source": [
    "# データのセット\n",
    "age = r([1,3,5,2,11,9,3,9,12,3]).name('age')\n",
    "weight = r([4.4,5.3,7.2,5.2,8.5,7.3,6.0,10.4,10.2,6.1]).name('weight')\n",
    "# グラフ表示\n",
    "graph = preGraph(\"images/ch12_fig3.pdf\")\n",
    "r.plot(age, weight)\n",
    "postGraph(graph)"
   ]
  },
  {
   "cell_type": "markdown",
   "metadata": {},
   "source": [
    "<html>\n",
    "\t<h3>plotのオプションを指定</h3>\n",
    "\t<p>\n",
    "\t\tRのplot関数にタイトル等のオプションを指定する場合には、r関数を使って以下のように表示します。\n",
    "\t</p>\n",
    "</html>"
   ]
  },
  {
   "cell_type": "code",
   "execution_count": 26,
   "metadata": {
    "collapsed": false
   },
   "outputs": [
    {
     "data": {
      "image/png": "[encoded data removed]",
      "text/plain": [
       "<wand.image.Image: f3340cc 'PDF' (504x504)>"
      ]
     },
     "execution_count": 26,
     "metadata": {},
     "output_type": "execute_result"
    }
   ],
   "source": [
    "# タイトル等グラフオプションを指定する場合には、r.plotではなくr関数を使用する\n",
    "graph = preGraph(\"images/ch12_fig4.pdf\")\n",
    "# r('par(family=\"Japan1Ryumin\")')\n",
    "r(\"plot(age, weight, main='Test plot')\")\n",
    "postGraph(graph)"
   ]
  },
  {
   "cell_type": "markdown",
   "metadata": {},
   "source": [
    "<html>\n",
    "\t<h2>データファイルからの集計</h2>\n",
    "\t<p>\n",
    "\t\tRの得意とする集計処理を以下のようなデータファイルを読み込み、\n",
    "\t\tクロス集計を作成してみましょう。\n",
    "\t</p>\n",
    "</html>"
   ]
  },
  {
   "cell_type": "code",
   "execution_count": 27,
   "metadata": {
    "collapsed": false
   },
   "outputs": [
    {
     "name": "stdout",
     "output_type": "stream",
     "text": [
      "Writing data/ch12_data.txt\n"
     ]
    }
   ],
   "source": [
    "%%writefile data/ch12_data.txt\n",
    "diabetes    status\n",
    "Type1    Poor\n",
    "Type2    Improved\n",
    "Type1    Excellent\n",
    "Type1    Poor"
   ]
  },
  {
   "cell_type": "markdown",
   "metadata": {},
   "source": [
    "<html>\n",
    "\t<h3>データファイルの読み込み</h3>\n",
    "\t<p>\n",
    "\t\tデータファイルの読み込みは、Rのread.table関数を使用します。\n",
    "\t\theader=Tを付けて、１行目がヘッダであり、\n",
    "\t\t１列目がdiabetes、２行目がstatusと名前付けします。\n",
    "\t</p>\n",
    "</html>"
   ]
  },
  {
   "cell_type": "code",
   "execution_count": 29,
   "metadata": {
    "collapsed": false
   },
   "outputs": [
    {
     "data": {
      "text/plain": [
       "  diabetes    status\n",
       "1    Type1      Poor\n",
       "2    Type2  Improved\n",
       "3    Type1 Excellent\n",
       "4    Type1      Poor"
      ]
     },
     "execution_count": 29,
     "metadata": {},
     "output_type": "execute_result"
    }
   ],
   "source": [
    "# データファイルの読み込み\n",
    "d = r(\"d<-read.table('data/ch12_data.txt', header=T)\") ; d\n"
   ]
  },
  {
   "cell_type": "markdown",
   "metadata": {},
   "source": [
    "<html>\n",
    "\t<h3>クロス集計</h3>\n",
    "\t<p>\n",
    "\t\tクロス集計には、table関数を使用し、データセットdの変数、\n",
    "\t\tdiabetes, statusを指定します。\n",
    "\t</p>\n",
    "</html>"
   ]
  },
  {
   "cell_type": "code",
   "execution_count": 30,
   "metadata": {
    "collapsed": false
   },
   "outputs": [
    {
     "data": {
      "text/plain": [
       "       \n",
       "        Excellent Improved Poor\n",
       "  Type1         1        0    2\n",
       "  Type2         0        1    0"
      ]
     },
     "execution_count": 30,
     "metadata": {},
     "output_type": "execute_result"
    }
   ],
   "source": [
    "# クロス集計\n",
    "r('table(d$diabetes, d$status)')"
   ]
  },
  {
   "cell_type": "code",
   "execution_count": null,
   "metadata": {
    "collapsed": true
   },
   "outputs": [],
   "source": []
  }
 ],
 "metadata": {
  "kernelspec": {
   "display_name": "SageMath 7.2",
   "language": "",
   "name": "sagemath"
  },
  "language_info": {
   "codemirror_mode": {
    "name": "ipython",
    "version": 2
   },
   "file_extension": ".py",
   "mimetype": "text/x-python",
   "name": "python",
   "nbconvert_exporter": "python",
   "pygments_lexer": "ipython2",
   "version": "2.7.10"
  }
 },
 "nbformat": 4,
 "nbformat_minor": 0
}
