{
 "cells": [
  {
   "cell_type": "markdown",
   "metadata": {},
   "source": [
    "<html>\n",
    "\t<author>Hiroshi TAKEMOTO</author>\n",
    "\t(<email>take.pwave@gmail.com</email>)\n",
    "\t<h2>ベクトルと行列</h2>\n",
    "\t<p>\n",
    "\t\tベクトルと行列の計算は、幅広い分野で使われています。\n",
    "\t\tSageを使ってベクトルと行列の特徴的な計算方法について見ていきましょう。\t\t\n",
    "\t</p>\n",
    "\t\n",
    "\t<h3>ベクトルの生成</h3>\n",
    "\t<p>\n",
    "\tsageでベクトルを生成する関数は、vector関数です。vector関数の使い方を以下に示します。\n",
    "<pre>\n",
    "vector(値のリスト)\n",
    "または、\n",
    "vector(環, 値のリスト)\n",
    "</pre>\n",
    "\t\n",
    "\t</p>\n",
    "\t<p>\n",
    "\t\tベクトルの生成例として、$v=(2, 1, 3), w=(1, 1,-4)$の例を以下に示します。環については後ほど紹介します。\t\t\n",
    "\t</p>\n",
    "</html>"
   ]
  },
  {
   "cell_type": "code",
   "execution_count": 33,
   "metadata": {
    "collapsed": true
   },
   "outputs": [],
   "source": [
    "# jupyter用のdisplayメソッド\n",
    "from IPython.display import display, Latex, HTML, Math, JSON"
   ]
  },
  {
   "cell_type": "code",
   "execution_count": 1,
   "metadata": {
    "collapsed": false
   },
   "outputs": [
    {
     "data": {
      "text/plain": [
       "(2, 1, 3)"
      ]
     },
     "execution_count": 1,
     "metadata": {},
     "output_type": "execute_result"
    }
   ],
   "source": [
    "# ベクトルと行列\n",
    "v = vector([2,1,3]); v"
   ]
  },
  {
   "cell_type": "code",
   "execution_count": 2,
   "metadata": {
    "collapsed": false
   },
   "outputs": [
    {
     "data": {
      "text/plain": [
       "(1, 1, -4)"
      ]
     },
     "execution_count": 2,
     "metadata": {},
     "output_type": "execute_result"
    }
   ],
   "source": [
    "w = vector([1,1,-4]); w"
   ]
  },
  {
   "cell_type": "code",
   "execution_count": 3,
   "metadata": {
    "collapsed": false
   },
   "outputs": [
    {
     "data": {
      "text/plain": [
       "(3, 2, -1)"
      ]
     },
     "execution_count": 3,
     "metadata": {},
     "output_type": "execute_result"
    }
   ],
   "source": [
    "# ベクトルの和\n",
    "v+w"
   ]
  },
  {
   "cell_type": "markdown",
   "metadata": {},
   "source": [
    "<html>\n",
    "\t<h3>ベクトルの計算</h3>\n",
    "\t<p>\n",
    "\t\tSageではベクトルの和と差は通常の変数と同じように+, -記号で表すこととができます。\n",
    "\t</p>\n",
    "\t<p>\n",
    "\t\tベクトルのスカラー倍は、ベクトルの各要素にスカラを掛けた形になります。\n",
    "\t</p>\n",
    "\t<p>\n",
    "\t\tベクトルの絶対値は、ベクトル用各要素の自乗の和を平方根となり、ベクトルの距離は２つのベクトルの差の絶対値となります。\n",
    "\t</p>\n",
    "\t<p>\n",
    "\t\tこのようにSageではベクトルに対して、変数と同じように計算ができる点が特徴です。\n",
    "\t</p>\n",
    "</html>"
   ]
  },
  {
   "cell_type": "code",
   "execution_count": 4,
   "metadata": {
    "collapsed": false
   },
   "outputs": [
    {
     "data": {
      "text/html": [
       "<html><script type=\"math/tex; mode=display\">\\newcommand{\\Bold}[1]{\\mathbf{#1}}\\left(a_{1} + b_{1},\\,a_{2} + b_{2},\\,a_{3} + b_{3}\\right)</script></html>"
      ],
      "text/plain": [
       "(a1 + b1, a2 + b2, a3 + b3)"
      ]
     },
     "metadata": {},
     "output_type": "display_data"
    },
    {
     "data": {
      "text/html": [
       "<html><script type=\"math/tex; mode=display\">\\newcommand{\\Bold}[1]{\\mathbf{#1}}\\left(a_{1} c,\\,a_{2} c,\\,a_{3} c\\right)</script></html>"
      ],
      "text/plain": [
       "(a1*c, a2*c, a3*c)"
      ]
     },
     "metadata": {},
     "output_type": "display_data"
    },
    {
     "data": {
      "text/html": [
       "<html><script type=\"math/tex; mode=display\">\\newcommand{\\Bold}[1]{\\mathbf{#1}}\\sqrt{a_{1}^{2} + a_{2}^{2} + a_{3}^{2}}</script></html>"
      ],
      "text/plain": [
       "sqrt(a1^2 + a2^2 + a3^2)"
      ]
     },
     "metadata": {},
     "output_type": "display_data"
    },
    {
     "data": {
      "text/html": [
       "<html><script type=\"math/tex; mode=display\">\\newcommand{\\Bold}[1]{\\mathbf{#1}}\\sqrt{{\\left(a_{1} - b_{1}\\right)}^{2} + {\\left(a_{2} - b_{2}\\right)}^{2} + {\\left(a_{3} - b_{3}\\right)}^{2}}</script></html>"
      ],
      "text/plain": [
       "sqrt((a1 - b1)^2 + (a2 - b2)^2 + (a3 - b3)^2)"
      ]
     },
     "metadata": {},
     "output_type": "display_data"
    }
   ],
   "source": [
    "var('a1 a2 a3 b1 b2 b3 c')\n",
    "A = vector([a1, a2, a3])\n",
    "B = vector([b1, b2, b3])\n",
    "show (A+B)            # ベクトルの和\n",
    "show (c*A)             # ベクトルのスカラー倍\n",
    "show (abs(A))       # ベクトルの絶対値\n",
    "show (abs(A-B))   # ベクトルの距離"
   ]
  },
  {
   "cell_type": "markdown",
   "metadata": {},
   "source": [
    "<html>\n",
    "\t<h3>ベクトルの内積</h3>\n",
    "\t<p>\n",
    "\t\tベクトルには、内積と外積という特徴的な２つの演算があります。\n",
    "\t</p>\n",
    "\t<p>\n",
    "\t\t内積は、２つのベクトルの各要素の積の和として、以下のように定義されます。\n",
    "$$\n",
    "\t\t\\mathbf{v}\\cdot\\mathbf{w} = \\Sigma_{i=1}^N v_i w_i\n",
    "$$\n",
    "\t</p>\n",
    "\t<p>\n",
    "\t\t先に生成したベクトルA, Bに対して内積を取ると、定義どおりの結果が得られます。\n",
    "\t</p>\n",
    "</html>"
   ]
  },
  {
   "cell_type": "code",
   "execution_count": 6,
   "metadata": {
    "collapsed": false
   },
   "outputs": [
    {
     "data": {
      "text/html": [
       "<html><script type=\"math/tex; mode=display\">\\newcommand{\\Bold}[1]{\\mathbf{#1}}a_{1} b_{1} + a_{2} b_{2} + a_{3} b_{3}</script></html>"
      ],
      "text/plain": [
       "a1*b1 + a2*b2 + a3*b3"
      ]
     },
     "metadata": {},
     "output_type": "display_data"
    }
   ],
   "source": [
    "AdB = A.dot_product(B)\n",
    "show(AdB)"
   ]
  },
  {
   "cell_type": "markdown",
   "metadata": {},
   "source": [
    "<html>\n",
    "\t<p>\n",
    "\t\t内積の大きな特徴に、２つのベクトルのなす角度$\\theta$との間に以下の関係があります。\n",
    "$$\n",
    "\t\t\\mathbf{v}\\cdot\\mathbf{w} = |\\mathbf{v}||\\mathbf{w}| cos \\theta\n",
    "$$\t\t\n",
    "\t\tこの性質を使って、ベクトルの類似を計算するのに、$cos(\\theta)$がよく使われます。\n",
    "\t</p>\n",
    "\t<p>\n",
    "\t\tまた、２つのベクトルが直行する場合には、$cos \\theta = 0$から、\n",
    "\t\tベクトルの内積はベクトルの直交判定にもよく利用されます。\n",
    "\t</p>\n",
    "\t<p>\n",
    "\t\t以下に、$v=(2, 1, 3), w=(1, 1,-4)$の内積の結果とベクトルv, wのなす角度$\\theta$を\n",
    "\t\t求めています。\n",
    "\t</p>\n",
    "</html>"
   ]
  },
  {
   "cell_type": "code",
   "execution_count": 7,
   "metadata": {
    "collapsed": false
   },
   "outputs": [
    {
     "data": {
      "text/plain": [
       "-9"
      ]
     },
     "execution_count": 7,
     "metadata": {},
     "output_type": "execute_result"
    }
   ],
   "source": [
    "v.dot_product(w)"
   ]
  },
  {
   "cell_type": "code",
   "execution_count": 8,
   "metadata": {
    "collapsed": false
   },
   "outputs": [
    {
     "name": "stdout",
     "output_type": "stream",
     "text": [
      "124.537583786181\n"
     ]
    }
   ],
   "source": [
    "deg = lambda x : N(x * 180/pi)\n",
    "# vとwからcos(th)を計算\n",
    "cos_th = v.dot_product(w)/(abs(v)*abs(w))\n",
    "th = arccos(cos_th)\n",
    "print deg(th)"
   ]
  },
  {
   "cell_type": "markdown",
   "metadata": {},
   "source": [
    "<html>\n",
    "\t<p>\n",
    "\t\t３次元プロットで、ベクトルv,wをプロットしたのが以下の図です。\n",
    "\t\t２つのベクトルのなす角度が約120度であることが、見て取れます。\n",
    "\t</p>\n",
    "</html>"
   ]
  },
  {
   "cell_type": "code",
   "execution_count": 10,
   "metadata": {
    "collapsed": false
   },
   "outputs": [
    {
     "data": {
      "text/html": [
       "\n",
       "<iframe srcdoc=\"\n",
       "<html>\n",
       "<head>\n",
       "  <style>\n",
       "    * {\n",
       "      margin: 0;\n",
       "      padding: 0;\n",
       "      overflow: hidden;\n",
       "    }\n",
       "    body, html {      \n",
       "      height: 100%;\n",
       "      width: 100%;\n",
       "    }\n",
       "  </style>\n",
       "  <script type=&quot;text/javascript&quot; src=&quot;/nbextensions/jsmol/JSmol.min.js&quot;></script>\n",
       "</head>\n",
       "<body>\n",
       "  <script type=&quot;text/javascript&quot;>\n",
       "    var script = [\n",
       "  'data &quot;model list&quot;',\n",
       "  '10',\n",
       "  'empty',\n",
       "  'Xx -0.857142857143 -1.42857142857 -3.0',\n",
       "  'Xx 0.0 -1.42857142857 -3.0',\n",
       "  'Xx 0.857142857143 -1.42857142857 -3.0',\n",
       "  'Xx 1.85714285714 -0.428571428571 -3.0',\n",
       "  'Xx 1.85714285714 0.0 -3.0',\n",
       "  'Xx 1.85714285714 0.428571428571 -3.0',\n",
       "  'Xx -1.85714285714 -0.428571428571 -3.0',\n",
       "  'Xx -1.85714285714 -0.428571428571 0.0',\n",
       "  'Xx -1.85714285714 -0.428571428571 3.0',\n",
       "  'Xx 5.5 5.5 5.5',\n",
       "  'end &quot;model list&quot;; show data',\n",
       "  'select *',\n",
       "  'wireframe off; spacefill off',\n",
       "  'set labelOffset 0 0',\n",
       "  'background [255,255,255]',\n",
       "  'spin OFF',\n",
       "  'moveto 0 -764 -346 -545 76.39',\n",
       "  'centerAt absolute {0 0 0}',\n",
       "  'zoom 100',\n",
       "  'frank OFF',\n",
       "  'set perspectivedepth ON',\n",
       "  'draw line_1 diameter 1 curve {-0.857142857143 -0.428571428571 0.428571428571}  {0.857142857143 0.428571428571 3.0} ',\n",
       "  'color $line_1  [0,0,255]',\n",
       "  'draw line_2 diameter 1 curve {-0.857142857143 -0.428571428571 0.428571428571}  {0.0 0.428571428571 -3.0} ',\n",
       "  'color $line_2  [0,128,0]',\n",
       "  'draw line_3 diameter 1 curve {-0.857142857143 -0.428571428571 -3.0}  {-0.857142857143 0.428571428571 -3.0} ',\n",
       "  'color $line_3 translucent 0.5 [0,0,0]',\n",
       "  'draw line_4 diameter 1 curve {-0.857142857143 0.428571428571 -3.0}  {0.857142857143 0.428571428571 -3.0} ',\n",
       "  'color $line_4 translucent 0.5 [0,0,0]',\n",
       "  'draw line_5 diameter 1 curve {0.857142857143 0.428571428571 -3.0}  {0.857142857143 -0.428571428571 -3.0} ',\n",
       "  'color $line_5 translucent 0.5 [0,0,0]',\n",
       "  'draw line_6 diameter 1 curve {0.857142857143 -0.428571428571 -3.0}  {-0.857142857143 -0.428571428571 -3.0} ',\n",
       "  'color $line_6 translucent 0.5 [0,0,0]',\n",
       "  'draw line_7 diameter 1 curve {-0.857142857143 -0.428571428571 -3.0}  {-0.857142857143 -0.428571428571 3.0} ',\n",
       "  'color $line_7 translucent 0.5 [0,0,0]',\n",
       "  'draw line_8 diameter 1 curve {-0.857142857143 -0.428571428571 3.0}  {-0.857142857143 0.428571428571 3.0} ',\n",
       "  'color $line_8 translucent 0.5 [0,0,0]',\n",
       "  'draw line_9 diameter 1 curve {-0.857142857143 0.428571428571 3.0}  {0.857142857143 0.428571428571 3.0} ',\n",
       "  'color $line_9 translucent 0.5 [0,0,0]',\n",
       "  'draw line_10 diameter 1 curve {0.857142857143 0.428571428571 3.0}  {0.857142857143 -0.428571428571 3.0} ',\n",
       "  'color $line_10 translucent 0.5 [0,0,0]',\n",
       "  'draw line_11 diameter 1 curve {0.857142857143 -0.428571428571 3.0}  {-0.857142857143 -0.428571428571 3.0} ',\n",
       "  'color $line_11 translucent 0.5 [0,0,0]',\n",
       "  'draw line_12 diameter 1 curve {-0.857142857143 -0.428571428571 3.0} ',\n",
       "  'color $line_12 translucent 0.5 [0,0,0]',\n",
       "  'draw line_13 diameter 1 curve {-0.857142857143 0.428571428571 -3.0}  {-0.857142857143 0.428571428571 3.0} ',\n",
       "  'color $line_13 translucent 0.5 [0,0,0]',\n",
       "  'draw line_14 diameter 1 curve {0.857142857143 -0.428571428571 -3.0}  {0.857142857143 -0.428571428571 3.0} ',\n",
       "  'color $line_14 translucent 0.5 [0,0,0]',\n",
       "  'draw line_15 diameter 1 curve {0.857142857143 0.428571428571 -3.0}  {0.857142857143 0.428571428571 3.0} ',\n",
       "  'color $line_15 translucent 0.5 [0,0,0]',\n",
       "  'select atomno = 1',\n",
       "  'color atom  [76,76,76]',\n",
       "  'label &quot;0.0&quot;',\n",
       "  'select atomno = 2',\n",
       "  'color atom  [76,76,76]',\n",
       "  'label &quot;1.0&quot;',\n",
       "  'select atomno = 3',\n",
       "  'color atom  [76,76,76]',\n",
       "  'label &quot;2.0&quot;',\n",
       "  'select atomno = 4',\n",
       "  'color atom  [76,76,76]',\n",
       "  'label &quot;0.00&quot;',\n",
       "  'select atomno = 5',\n",
       "  'color atom  [76,76,76]',\n",
       "  'label &quot;0.50&quot;',\n",
       "  'select atomno = 6',\n",
       "  'color atom  [76,76,76]',\n",
       "  'label &quot;1.00&quot;',\n",
       "  'select atomno = 7',\n",
       "  'color atom  [76,76,76]',\n",
       "  'label &quot;-4.0&quot;',\n",
       "  'select atomno = 8',\n",
       "  'color atom  [76,76,76]',\n",
       "  'label &quot;-0.5&quot;',\n",
       "  'select atomno = 9',\n",
       "  'color atom  [76,76,76]',\n",
       "  'label &quot;3.0&quot;',\n",
       "  'isosurface fullylit; pmesh o* fullylit; set antialiasdisplay on;',\n",
       "].join('\\n');;\n",
       "    var Info = {\n",
       "      width: '100%',\n",
       "      height: '500',\n",
       "      debug: false,\n",
       "      disableInitialConsole: true,   // very slow when used with inline mesh\n",
       "      color: '#3131ff',\n",
       "      addSelectionOptions: false,\n",
       "      use: 'HTML5',\n",
       "      j2sPath: '/nbextensions/jsmol/j2s',\n",
       "      script: script,\n",
       "    };\n",
       "    var jmolApplet0 = Jmol.getApplet('jmolApplet0', Info);\n",
       "  </script>\n",
       "</body>\n",
       "</html>\n",
       "\" \n",
       "        width=\"100%\"\n",
       "        height=\"500\"\n",
       "        style=\"border: 0;\">\n",
       "</iframe>\n"
      ],
      "text/plain": [
       "Graphics3d Object"
      ]
     },
     "metadata": {},
     "output_type": "display_data"
    }
   ],
   "source": [
    "ZERO = vector([0, 0, 0])\n",
    "v_line = line([ZERO, v], rgbcolor='blue')\n",
    "w_line = line([ZERO, w], rgbcolor='green')\n",
    "vw_line = line([ZERO, v.cross_product(w)], rgbcolor='red')\n",
    "(v_line+w_line).show(aspect_ratio=1)"
   ]
  },
  {
   "cell_type": "markdown",
   "metadata": {},
   "source": [
    "<html>\n",
    "\t<h3>ベクトルの外積</h3>\n",
    "\t<p>\n",
    "\t\t同様にベクトルの外積$\\mathbf{v}\\times\\mathbf{w}$は、cross_product関数で計算します。\n",
    "\t</p>\n",
    "\t<p>\n",
    "\t\t３次元ベクトルAとBの外積の結果は、以下のようなります。\n",
    "\t</p>\n",
    "</html>"
   ]
  },
  {
   "cell_type": "code",
   "execution_count": 11,
   "metadata": {
    "collapsed": false
   },
   "outputs": [
    {
     "data": {
      "text/html": [
       "<html><script type=\"math/tex; mode=display\">\\newcommand{\\Bold}[1]{\\mathbf{#1}}\\left(-a_{3} b_{2} + a_{2} b_{3},\\,a_{3} b_{1} - a_{1} b_{3},\\,-a_{2} b_{1} + a_{1} b_{2}\\right)</script></html>"
      ],
      "text/plain": [
       "(-a3*b2 + a2*b3, a3*b1 - a1*b3, -a2*b1 + a1*b2)"
      ]
     },
     "metadata": {},
     "output_type": "display_data"
    }
   ],
   "source": [
    "AcB = A.cross_product(B)\n",
    "show(AcB)"
   ]
  },
  {
   "cell_type": "markdown",
   "metadata": {},
   "source": [
    "<html>\n",
    "\t<p>\n",
    "\t\tちょっと覚えにくいので、以下の性質を使って覚えると良いでしょう。\n",
    "$$\n",
    "\t\t\\mathbf{A}\\times\\mathbf{B} = \n",
    "\t\t\t\\left| \\begin{array}{ccc}\n",
    "\t\t\t\ti & j & k \\\\\n",
    "\t\t\t\ta_{1} & a_{2} & a_{3} \\\\\n",
    "\t\t\t\tb_{1} & b_{2} & b_{3}\n",
    "\t\t\t\\end{array} \\right|\n",
    "$$\t\t\n",
    "\t</p>\n",
    "\t<p>\n",
    "\t\tx, y, z方向の単位ベクトルU=(i, j, k)を定義し、U, A, Bからなる行列mを作り、\n",
    "\t\tそのdetを求める、結果をそれぞれ、$i, j, k$でまとめると、\n",
    "$$\n",
    "\t\t(a_2 b_3 - a_3 b_2) i + (-a_1 b_3 + a_3 b_1) j + (a_1 b_2 - a_2 b_1) k\n",
    "$$\n",
    "\t\tと先の外積の結果と対応することが分かります。\n",
    "\t</p>\n",
    "</html>"
   ]
  },
  {
   "cell_type": "code",
   "execution_count": 12,
   "metadata": {
    "collapsed": false
   },
   "outputs": [
    {
     "data": {
      "text/html": [
       "<html><script type=\"math/tex; mode=display\">\\newcommand{\\Bold}[1]{\\mathbf{#1}}\\left(\\begin{array}{rrr}\n",
       "i & j & k \\\\\n",
       "a_{1} & a_{2} & a_{3} \\\\\n",
       "b_{1} & b_{2} & b_{3}\n",
       "\\end{array}\\right)</script></html>"
      ],
      "text/plain": [
       "[ i  j  k]\n",
       "[a1 a2 a3]\n",
       "[b1 b2 b3]"
      ]
     },
     "metadata": {},
     "output_type": "display_data"
    },
    {
     "data": {
      "text/html": [
       "<html><script type=\"math/tex; mode=display\">\\newcommand{\\Bold}[1]{\\mathbf{#1}}-a_{3} b_{2} i + a_{2} b_{3} i + a_{3} b_{1} j - a_{1} b_{3} j - a_{2} b_{1} k + a_{1} b_{2} k</script></html>"
      ],
      "text/plain": [
       "-a3*b2*i + a2*b3*i + a3*b1*j - a1*b3*j - a2*b1*k + a1*b2*k"
      ]
     },
     "metadata": {},
     "output_type": "display_data"
    }
   ],
   "source": [
    "var('i j k')\n",
    "U = vector([i, j, k])\n",
    "m = matrix([U, A, B]); show(m)\n",
    "dm = det(m); show(expand(dm))"
   ]
  },
  {
   "cell_type": "markdown",
   "metadata": {},
   "source": [
    "<html>\n",
    "\t<p>\n",
    "\tベクトルの外積の図形的特徴は、外積の方向はベクトルvからベクトルwにねじを回して進む方向となり、\n",
    "\tその大きさはベクトルvとベクトルwの作る平行四辺形の面積となります。\n",
    "$$\n",
    "\t|\\mathbf{v}\\times\\mathbf{w}| = |\\mathbf{v}||\\mathbf{w}|sin(\\theta)\n",
    "$$\t\t\n",
    "\t</p>\n",
    "\t<p>\n",
    "\t\tSageを使ってベクトルv, wの外積を求め、その値が $|v||w| cos (\\theta)$と一致することを見てみましょう。\n",
    "\t</p>\n",
    "</html>"
   ]
  },
  {
   "cell_type": "code",
   "execution_count": 13,
   "metadata": {
    "collapsed": false
   },
   "outputs": [
    {
     "name": "stdout",
     "output_type": "stream",
     "text": [
      "(-7, 11, 1) 13.0766968306220 13.0766968306220\n"
     ]
    }
   ],
   "source": [
    "VcW = v.cross_product(w)\n",
    "# thは内積で求めた結果を利用\n",
    "print VcW, N(abs(VcW)), N(abs(v)*abs(w)*sin(th))"
   ]
  },
  {
   "cell_type": "markdown",
   "metadata": {},
   "source": [
    "<html>\n",
    "\t<p>\n",
    "\t\t３次元プロットで、ベクトルv,wと外積の結果をプロットしたのが以下の図です。\n",
    "\t\t図を少し回転すると、ベクトルvからベクトルwに回したときのねじの進行方向に外積ベクトルがのびている\n",
    "\t\tことが確認できます。\t\n",
    "\t</p>\n",
    "\t\n",
    "</html>"
   ]
  },
  {
   "cell_type": "code",
   "execution_count": 14,
   "metadata": {
    "collapsed": false
   },
   "outputs": [
    {
     "data": {
      "text/html": [
       "\n",
       "<iframe srcdoc=\"\n",
       "<html>\n",
       "<head>\n",
       "  <style>\n",
       "    * {\n",
       "      margin: 0;\n",
       "      padding: 0;\n",
       "      overflow: hidden;\n",
       "    }\n",
       "    body, html {      \n",
       "      height: 100%;\n",
       "      width: 100%;\n",
       "    }\n",
       "  </style>\n",
       "  <script type=&quot;text/javascript&quot; src=&quot;/nbextensions/jsmol/JSmol.min.js&quot;></script>\n",
       "</head>\n",
       "<body>\n",
       "  <script type=&quot;text/javascript&quot;>\n",
       "    var script = [\n",
       "  'data &quot;model list&quot;',\n",
       "  '10',\n",
       "  'empty',\n",
       "  'Xx -2.45454545455 -4.0 -1.90909090909',\n",
       "  'Xx 0.0 -4.0 -1.90909090909',\n",
       "  'Xx 2.45454545455 -4.0 -1.90909090909',\n",
       "  'Xx 3.45454545455 -3.0 -1.90909090909',\n",
       "  'Xx 3.45454545455 0.0 -1.90909090909',\n",
       "  'Xx 3.45454545455 3.0 -1.90909090909',\n",
       "  'Xx -3.45454545455 -3.0 -1.90909090909',\n",
       "  'Xx -3.45454545455 -3.0 0.0',\n",
       "  'Xx -3.45454545455 -3.0 1.90909090909',\n",
       "  'Xx 5.5 5.5 5.5',\n",
       "  'end &quot;model list&quot;; show data',\n",
       "  'select *',\n",
       "  'wireframe off; spacefill off',\n",
       "  'set labelOffset 0 0',\n",
       "  'background [255,255,255]',\n",
       "  'spin OFF',\n",
       "  'moveto 0 -764 -346 -545 76.39',\n",
       "  'centerAt absolute {0 0 0}',\n",
       "  'zoom 100',\n",
       "  'frank OFF',\n",
       "  'set perspectivedepth ON',\n",
       "  'draw line_1 diameter 1 curve {1.36363636364 -3.0 0.272727272727}  {2.45454545455 -2.45454545455 1.90909090909} ',\n",
       "  'color $line_1  [0,0,255]',\n",
       "  'draw line_2 diameter 1 curve {1.36363636364 -3.0 0.272727272727}  {1.90909090909 -2.45454545455 -1.90909090909} ',\n",
       "  'color $line_2  [0,128,0]',\n",
       "  'draw line_3 diameter 1 curve {1.36363636364 -3.0 0.272727272727}  {-2.45454545455 3.0 0.818181818182} ',\n",
       "  'color $line_3  [255,0,0]',\n",
       "  'draw line_4 diameter 1 curve {-2.45454545455 -3.0 -1.90909090909}  {-2.45454545455 3.0 -1.90909090909} ',\n",
       "  'color $line_4 translucent 0.5 [0,0,0]',\n",
       "  'draw line_5 diameter 1 curve {-2.45454545455 3.0 -1.90909090909}  {2.45454545455 3.0 -1.90909090909} ',\n",
       "  'color $line_5 translucent 0.5 [0,0,0]',\n",
       "  'draw line_6 diameter 1 curve {2.45454545455 3.0 -1.90909090909}  {2.45454545455 -3.0 -1.90909090909} ',\n",
       "  'color $line_6 translucent 0.5 [0,0,0]',\n",
       "  'draw line_7 diameter 1 curve {2.45454545455 -3.0 -1.90909090909}  {-2.45454545455 -3.0 -1.90909090909} ',\n",
       "  'color $line_7 translucent 0.5 [0,0,0]',\n",
       "  'draw line_8 diameter 1 curve {-2.45454545455 -3.0 -1.90909090909}  {-2.45454545455 -3.0 1.90909090909} ',\n",
       "  'color $line_8 translucent 0.5 [0,0,0]',\n",
       "  'draw line_9 diameter 1 curve {-2.45454545455 -3.0 1.90909090909}  {-2.45454545455 3.0 1.90909090909} ',\n",
       "  'color $line_9 translucent 0.5 [0,0,0]',\n",
       "  'draw line_10 diameter 1 curve {-2.45454545455 3.0 1.90909090909}  {2.45454545455 3.0 1.90909090909} ',\n",
       "  'color $line_10 translucent 0.5 [0,0,0]',\n",
       "  'draw line_11 diameter 1 curve {2.45454545455 3.0 1.90909090909}  {2.45454545455 -3.0 1.90909090909} ',\n",
       "  'color $line_11 translucent 0.5 [0,0,0]',\n",
       "  'draw line_12 diameter 1 curve {2.45454545455 -3.0 1.90909090909}  {-2.45454545455 -3.0 1.90909090909} ',\n",
       "  'color $line_12 translucent 0.5 [0,0,0]',\n",
       "  'draw line_13 diameter 1 curve {-2.45454545455 -3.0 1.90909090909} ',\n",
       "  'color $line_13 translucent 0.5 [0,0,0]',\n",
       "  'draw line_14 diameter 1 curve {-2.45454545455 3.0 -1.90909090909}  {-2.45454545455 3.0 1.90909090909} ',\n",
       "  'color $line_14 translucent 0.5 [0,0,0]',\n",
       "  'draw line_15 diameter 1 curve {2.45454545455 -3.0 -1.90909090909}  {2.45454545455 -3.0 1.90909090909} ',\n",
       "  'color $line_15 translucent 0.5 [0,0,0]',\n",
       "  'draw line_16 diameter 1 curve {2.45454545455 3.0 -1.90909090909}  {2.45454545455 3.0 1.90909090909} ',\n",
       "  'color $line_16 translucent 0.5 [0,0,0]',\n",
       "  'select atomno = 1',\n",
       "  'color atom  [76,76,76]',\n",
       "  'label &quot;-7.0&quot;',\n",
       "  'select atomno = 2',\n",
       "  'color atom  [76,76,76]',\n",
       "  'label &quot;-2.5&quot;',\n",
       "  'select atomno = 3',\n",
       "  'color atom  [76,76,76]',\n",
       "  'label &quot;2.0&quot;',\n",
       "  'select atomno = 4',\n",
       "  'color atom  [76,76,76]',\n",
       "  'label &quot;0.0&quot;',\n",
       "  'select atomno = 5',\n",
       "  'color atom  [76,76,76]',\n",
       "  'label &quot;5.5&quot;',\n",
       "  'select atomno = 6',\n",
       "  'color atom  [76,76,76]',\n",
       "  'label &quot;11.0&quot;',\n",
       "  'select atomno = 7',\n",
       "  'color atom  [76,76,76]',\n",
       "  'label &quot;-4.0&quot;',\n",
       "  'select atomno = 8',\n",
       "  'color atom  [76,76,76]',\n",
       "  'label &quot;-0.5&quot;',\n",
       "  'select atomno = 9',\n",
       "  'color atom  [76,76,76]',\n",
       "  'label &quot;3.0&quot;',\n",
       "  'isosurface fullylit; pmesh o* fullylit; set antialiasdisplay on;',\n",
       "].join('\\n');;\n",
       "    var Info = {\n",
       "      width: '100%',\n",
       "      height: '500',\n",
       "      debug: false,\n",
       "      disableInitialConsole: true,   // very slow when used with inline mesh\n",
       "      color: '#3131ff',\n",
       "      addSelectionOptions: false,\n",
       "      use: 'HTML5',\n",
       "      j2sPath: '/nbextensions/jsmol/j2s',\n",
       "      script: script,\n",
       "    };\n",
       "    var jmolApplet0 = Jmol.getApplet('jmolApplet0', Info);\n",
       "  </script>\n",
       "</body>\n",
       "</html>\n",
       "\" \n",
       "        width=\"100%\"\n",
       "        height=\"500\"\n",
       "        style=\"border: 0;\">\n",
       "</iframe>\n"
      ],
      "text/plain": [
       "Graphics3d Object"
      ]
     },
     "metadata": {},
     "output_type": "display_data"
    }
   ],
   "source": [
    "vw_line = line([ZERO, v.cross_product(w)], rgbcolor='red')\n",
    "# 図を回転しないと確認しずらいが、vからwにねじを回した方向になっている\n",
    "(v_line+w_line+vw_line).show(aspect_ratio=1)"
   ]
  },
  {
   "cell_type": "markdown",
   "metadata": {},
   "source": [
    "<html>\n",
    "\t<h3>行列の生成</h3>\n",
    "\t<p>\n",
    "\t\t行列は、matrix関数で生成します。\n",
    "\t</p>\n",
    "\t<pre>\n",
    "\tmatrix(行列の要素のリスト)\n",
    "\tまたは\n",
    "\tmatrix(環, 行列の要素のリスト)\n",
    "\t</pre>\t\t\n",
    "\t<p>\n",
    "\t\t生成された行列の要素は、配列と同じようにカギ括弧[]に要素のインデックスを指定することで、\n",
    "\t\t参照できます。行を取得する場合には、行のインデックスを指定し、列を取得するにはcolumnメソッド\n",
    "\t\t列のインデックスを指定することで所望の情報を得ることができます。\n",
    "\t</p>\n",
    "</html>"
   ]
  },
  {
   "cell_type": "code",
   "execution_count": 15,
   "metadata": {
    "collapsed": false
   },
   "outputs": [
    {
     "data": {
      "text/html": [
       "<html><script type=\"math/tex; mode=display\">\\newcommand{\\Bold}[1]{\\mathbf{#1}}\\left(\\begin{array}{rrr}\n",
       "1 & 2 & 3 \\\\\n",
       "3 & 2 & 1 \\\\\n",
       "1 & 2 & 1\n",
       "\\end{array}\\right)</script></html>"
      ],
      "text/plain": [
       "[1 2 3]\n",
       "[3 2 1]\n",
       "[1 2 1]"
      ]
     },
     "metadata": {},
     "output_type": "display_data"
    }
   ],
   "source": [
    "M = matrix([[1,2,3],[3,2,1],[1,2,1]])\n",
    "show(M)"
   ]
  },
  {
   "cell_type": "code",
   "execution_count": 16,
   "metadata": {
    "collapsed": false
   },
   "outputs": [
    {
     "name": "stdout",
     "output_type": "stream",
     "text": [
      "(3, 2, 1)\n",
      "3\n",
      "(2, 2, 2)\n"
     ]
    }
   ],
   "source": [
    "print M[1]                 # 2行目（インデックスでは1）を取得\n",
    "print M[0, 2]             # 1行目3列の要素を取得\n",
    "print M.column(1)    # 2列目を取得"
   ]
  },
  {
   "cell_type": "markdown",
   "metadata": {},
   "source": [
    "<html>\n",
    "\t<p>\n",
    "\t\t行列とベクトルの積は、*演算子を使って行い、その結果としてベクトルが返されます。\n",
    "\t</p>\n",
    "</html>"
   ]
  },
  {
   "cell_type": "code",
   "execution_count": 18,
   "metadata": {
    "collapsed": false
   },
   "outputs": [
    {
     "name": "stdout",
     "output_type": "stream",
     "text": [
      "(-9, 1, -1)\n"
     ]
    },
    {
     "data": {
      "text/plain": [
       "<type 'sage.modules.vector_integer_dense.Vector_integer_dense'>"
      ]
     },
     "execution_count": 18,
     "metadata": {},
     "output_type": "execute_result"
    }
   ],
   "source": [
    "Mw = M*w; print M*w\n",
    "type(Mw)"
   ]
  },
  {
   "cell_type": "markdown",
   "metadata": {},
   "source": [
    "<html>\n",
    "\t<h3>行列の基本演算</h3>\n",
    "\t<p>\n",
    "\t\t行列の基本計算をSageを使ってみてみましょう。行列AとBの和、スカラー倍、積の結果を\n",
    "\t\t以下に示します。行列の積は、順序によって結果が異なることに注意してください。\n",
    "\t</p>\n",
    "</html>"
   ]
  },
  {
   "cell_type": "code",
   "execution_count": 19,
   "metadata": {
    "collapsed": false
   },
   "outputs": [
    {
     "data": {
      "text/html": [
       "<html><script type=\"math/tex; mode=display\">\\newcommand{\\Bold}[1]{\\mathbf{#1}}\\left(\\begin{array}{rr}\n",
       "a_{11} & a_{12} \\\\\n",
       "a_{21} & a_{22}\n",
       "\\end{array}\\right)</script></html>"
      ],
      "text/plain": [
       "[a11 a12]\n",
       "[a21 a22]"
      ]
     },
     "metadata": {},
     "output_type": "display_data"
    },
    {
     "data": {
      "text/html": [
       "<html><script type=\"math/tex; mode=display\">\\newcommand{\\Bold}[1]{\\mathbf{#1}}\\left(\\begin{array}{rr}\n",
       "b_{11} & b_{12} \\\\\n",
       "b_{21} & b_{22}\n",
       "\\end{array}\\right)</script></html>"
      ],
      "text/plain": [
       "[b11 b12]\n",
       "[b21 b22]"
      ]
     },
     "metadata": {},
     "output_type": "display_data"
    },
    {
     "data": {
      "text/html": [
       "<html><script type=\"math/tex; mode=display\">\\newcommand{\\Bold}[1]{\\mathbf{#1}}\\left(\\begin{array}{rr}\n",
       "a_{11} + b_{11} & a_{12} + b_{12} \\\\\n",
       "a_{21} + b_{21} & a_{22} + b_{22}\n",
       "\\end{array}\\right)</script></html>"
      ],
      "text/plain": [
       "[a11 + b11 a12 + b12]\n",
       "[a21 + b21 a22 + b22]"
      ]
     },
     "metadata": {},
     "output_type": "display_data"
    },
    {
     "data": {
      "text/html": [
       "<html><script type=\"math/tex; mode=display\">\\newcommand{\\Bold}[1]{\\mathbf{#1}}\\left(\\begin{array}{rr}\n",
       "a_{11} c & a_{12} c \\\\\n",
       "a_{21} c & a_{22} c\n",
       "\\end{array}\\right)</script></html>"
      ],
      "text/plain": [
       "[a11*c a12*c]\n",
       "[a21*c a22*c]"
      ]
     },
     "metadata": {},
     "output_type": "display_data"
    },
    {
     "data": {
      "text/html": [
       "<html><script type=\"math/tex; mode=display\">\\newcommand{\\Bold}[1]{\\mathbf{#1}}\\left(\\begin{array}{rr}\n",
       "a_{11} b_{11} + a_{12} b_{21} & a_{11} b_{12} + a_{12} b_{22} \\\\\n",
       "a_{21} b_{11} + a_{22} b_{21} & a_{21} b_{12} + a_{22} b_{22}\n",
       "\\end{array}\\right)</script></html>"
      ],
      "text/plain": [
       "[a11*b11 + a12*b21 a11*b12 + a12*b22]\n",
       "[a21*b11 + a22*b21 a21*b12 + a22*b22]"
      ]
     },
     "metadata": {},
     "output_type": "display_data"
    },
    {
     "data": {
      "text/html": [
       "<html><script type=\"math/tex; mode=display\">\\newcommand{\\Bold}[1]{\\mathbf{#1}}\\left(\\begin{array}{rr}\n",
       "a_{11} b_{11} + a_{21} b_{12} & a_{12} b_{11} + a_{22} b_{12} \\\\\n",
       "a_{11} b_{21} + a_{21} b_{22} & a_{12} b_{21} + a_{22} b_{22}\n",
       "\\end{array}\\right)</script></html>"
      ],
      "text/plain": [
       "[a11*b11 + a21*b12 a12*b11 + a22*b12]\n",
       "[a11*b21 + a21*b22 a12*b21 + a22*b22]"
      ]
     },
     "metadata": {},
     "output_type": "display_data"
    }
   ],
   "source": [
    "var('a11 a12 a21 a22 b11 b12 b21 b22')\n",
    "A = matrix([[a11, a12], [a21, a22]])\n",
    "B = matrix([[b11, b12], [b21, b22]])\n",
    "show(A)\n",
    "show(B)\n",
    "show(A+B)\t# 行列の和\n",
    "show(c*A)\t# 行列のスカラー倍\n",
    "show(A*B)\t# 行列の積（AB順）\n",
    "show(B*A)\t# 行列の積（BA順）"
   ]
  },
  {
   "cell_type": "markdown",
   "metadata": {},
   "source": [
    "<html>\n",
    "\t<h3>単位行列</h3>\n",
    "\t単位行列は、identity_matrixで生成します。identity_matrixの引数には、行列の次数を指定します。\n",
    "</html>"
   ]
  },
  {
   "cell_type": "code",
   "execution_count": 21,
   "metadata": {
    "collapsed": false
   },
   "outputs": [
    {
     "data": {
      "text/html": [
       "<html><script type=\"math/tex; mode=display\">\\newcommand{\\Bold}[1]{\\mathbf{#1}}\\left(\\begin{array}{rrr}\n",
       "1 & 0 & 0 \\\\\n",
       "0 & 1 & 0 \\\\\n",
       "0 & 0 & 1\n",
       "\\end{array}\\right)</script></html>"
      ],
      "text/plain": [
       "[1 0 0]\n",
       "[0 1 0]\n",
       "[0 0 1]"
      ]
     },
     "metadata": {},
     "output_type": "display_data"
    }
   ],
   "source": [
    "Im = identity_matrix(3)\n",
    "show(Im)"
   ]
  },
  {
   "cell_type": "markdown",
   "metadata": {},
   "source": [
    "<html>\n",
    "\t<h3>対角行列</h3>\n",
    "\t対角行列は、diagonal_matrixで生成します。\n",
    "<pre>\n",
    "diagonal_matrix(対角要素のリスト)\n",
    "</pre>\n",
    "\n",
    "</html>"
   ]
  },
  {
   "cell_type": "code",
   "execution_count": 22,
   "metadata": {
    "collapsed": false
   },
   "outputs": [
    {
     "data": {
      "text/html": [
       "<html><script type=\"math/tex; mode=display\">\\newcommand{\\Bold}[1]{\\mathbf{#1}}\\left(\\begin{array}{rrr}\n",
       "1 & 0 & 0 \\\\\n",
       "0 & 2 & 0 \\\\\n",
       "0 & 0 & 3\n",
       "\\end{array}\\right)</script></html>"
      ],
      "text/plain": [
       "[1 0 0]\n",
       "[0 2 0]\n",
       "[0 0 3]"
      ]
     },
     "metadata": {},
     "output_type": "display_data"
    }
   ],
   "source": [
    "D = diagonal_matrix([1, 2, 3])\n",
    "show(D)"
   ]
  },
  {
   "cell_type": "markdown",
   "metadata": {},
   "source": [
    "<html>\n",
    "\t<h3>行列の解</h3>\n",
    "\t<p>\n",
    "\t行列MにベクトルXを掛けて、ベクトルYとなる場合、行列MとベクトルYからXを求めるメソッドがsolve_rightです。\n",
    "$$\n",
    "\t\\mathbf{M}\\mathbf{X} = \\mathbf{Y}\n",
    "$$\n",
    "\t</p>\n",
    "\t<p>\n",
    "\t\tsolve_rightの例を以下に示します。\n",
    "\t</p>\n",
    "</html>"
   ]
  },
  {
   "cell_type": "code",
   "execution_count": 23,
   "metadata": {
    "collapsed": false
   },
   "outputs": [
    {
     "data": {
      "text/html": [
       "<html><script type=\"math/tex; mode=display\">\\newcommand{\\Bold}[1]{\\mathbf{#1}}\\left(\\begin{array}{rrr}\n",
       "1 & 2 & 3 \\\\\n",
       "3 & 2 & 1 \\\\\n",
       "1 & 2 & 1\n",
       "\\end{array}\\right)</script></html>"
      ],
      "text/plain": [
       "[1 2 3]\n",
       "[3 2 1]\n",
       "[1 2 1]"
      ]
     },
     "metadata": {},
     "output_type": "display_data"
    },
    {
     "data": {
      "text/html": [
       "<html><script type=\"math/tex; mode=display\">\\newcommand{\\Bold}[1]{\\mathbf{#1}}\\left(0,\\,-4,\\,-1\\right)</script></html>"
      ],
      "text/plain": [
       "(0, -4, -1)"
      ]
     },
     "metadata": {},
     "output_type": "display_data"
    }
   ],
   "source": [
    "M = matrix([[1,2,3],[3,2,1],[1,2,1]]); show(M)\n",
    "Y = vector([0,-4,-1]); show(Y)"
   ]
  },
  {
   "cell_type": "code",
   "execution_count": 24,
   "metadata": {
    "collapsed": false
   },
   "outputs": [
    {
     "data": {
      "text/html": [
       "<html><script type=\"math/tex; mode=display\">\\newcommand{\\Bold}[1]{\\mathbf{#1}}\\left(-\\frac{3}{2},\\,0,\\,\\frac{1}{2}\\right)</script></html>"
      ],
      "text/plain": [
       "(-3/2, 0, 1/2)"
      ]
     },
     "metadata": {},
     "output_type": "display_data"
    }
   ],
   "source": [
    "# solve_rightを使って求める\n",
    "X = M.solve_right(Y); view(X)\n",
    "# octaveの左除算オペレータ\\を使って求める\n",
    "X = M \\ Y\n",
    "show(X)"
   ]
  },
  {
   "cell_type": "markdown",
   "metadata": {},
   "source": [
    "<html>\n",
    "\t$\\mathbf{M}\\mathbf{X}$を計算すると、ベクトルY(0, -4, -1)となることから解が正しいことが確認できます。\n",
    "</html>"
   ]
  },
  {
   "cell_type": "code",
   "execution_count": 26,
   "metadata": {
    "collapsed": false
   },
   "outputs": [
    {
     "data": {
      "text/plain": [
       "(0, -4, -1)"
      ]
     },
     "execution_count": 26,
     "metadata": {},
     "output_type": "execute_result"
    }
   ],
   "source": [
    "M*X"
   ]
  },
  {
   "cell_type": "markdown",
   "metadata": {},
   "source": [
    "<html>\n",
    "\t<h3>連立方程式と行列の解の関係</h3>\n",
    "\t<p>\n",
    "\t\t先の行列式は、以下のような連立方程式と一致します。\n",
    "$$\n",
    "\t\\left\\{\\begin{array}{rrr}\n",
    "\tx_1 + 2 x_2 + 3 x_3 & =  & 0 \\\\\n",
    "\t3 x_1 + 2 x_2 + x_3  & = & -4 \\\\\n",
    "\tx_1 + 2 x_2  + x_3  & = & -1\n",
    "\t\\end{array}\\right.\t\n",
    "$$\t\t\n",
    "\t</p>\n",
    "\t<p>\n",
    "\t\t上記の連立方程式をsolve関数で計算結果とXの値が同じになることをSageで確かめてみましょう。\n",
    "\t</p>\n",
    "\t\n",
    "</html>"
   ]
  },
  {
   "cell_type": "code",
   "execution_count": 27,
   "metadata": {
    "collapsed": false
   },
   "outputs": [
    {
     "data": {
      "text/html": [
       "<html><script type=\"math/tex; mode=display\">\\newcommand{\\Bold}[1]{\\mathbf{#1}}\\left[\\left[x_{1} = \\left(-\\frac{3}{2}\\right), x_{2} = 0, x_{3} = \\left(\\frac{1}{2}\\right)\\right]\\right]</script></html>"
      ],
      "text/plain": [
       "[[x1 == (-3/2), x2 == 0, x3 == (1/2)]]"
      ]
     },
     "metadata": {},
     "output_type": "display_data"
    }
   ],
   "source": [
    "(x1, x2, x3) = var('x1,x2, x3')\n",
    "eq = [ [ x1 + 2*x2 + 3*x3 == 0], [3*x1 + 2*x2 + x3 == -4], [x1 + 2*x2 + x3 == -1]]\n",
    "sol = solve(eq, [x1, x2, x3]); show(sol)"
   ]
  },
  {
   "cell_type": "markdown",
   "metadata": {},
   "source": [
    "<html>\n",
    "\t<h3>転置行列</h3>\n",
    "\t<p>\n",
    "\t\t転置行列は、transpose関数で取得できます。\n",
    "\t</p>\n",
    "\t<p>\n",
    "\t\t転置行列の性質は、\n",
    "\t\t<ul>\n",
    "\t\t<li>$(\\mathbf{A}^T)^T = \\mathbf{A}$</li>\n",
    "\t\t<li>$(\\mathbf{A}+\\mathbf{B})^T = \\mathbf{A}^T + \\mathbf{B}^T$</li>\n",
    "\t\t<li>$(\\mathbf{A}\\mathbf{B})^T = \\mathbf{B}^T\\mathbf{A}^T$</li>\n",
    "\t\t</ul>\n",
    "\t\t最後の性質は、行列の掛け合わせる順序を入れ替えるときに便利です。\t\n",
    "\t</p>\n",
    "</html>"
   ]
  },
  {
   "cell_type": "code",
   "execution_count": 28,
   "metadata": {
    "collapsed": false
   },
   "outputs": [
    {
     "data": {
      "text/html": [
       "<html><script type=\"math/tex; mode=display\">\\newcommand{\\Bold}[1]{\\mathbf{#1}}\\left(\\begin{array}{rr}\n",
       "a_{11} & a_{21} \\\\\n",
       "a_{12} & a_{22}\n",
       "\\end{array}\\right)</script></html>"
      ],
      "text/plain": [
       "[a11 a21]\n",
       "[a12 a22]"
      ]
     },
     "metadata": {},
     "output_type": "display_data"
    },
    {
     "data": {
      "text/html": [
       "<html><script type=\"math/tex; mode=display\">\\newcommand{\\Bold}[1]{\\mathbf{#1}}\\left(\\begin{array}{rr}\n",
       "b_{11} & b_{21} \\\\\n",
       "b_{12} & b_{22}\n",
       "\\end{array}\\right)</script></html>"
      ],
      "text/plain": [
       "[b11 b21]\n",
       "[b12 b22]"
      ]
     },
     "metadata": {},
     "output_type": "display_data"
    }
   ],
   "source": [
    "At = A.transpose(); show(At)           # 転置行列\n",
    "Bt = B.transpose(); show(Bt)"
   ]
  },
  {
   "cell_type": "code",
   "execution_count": 38,
   "metadata": {
    "collapsed": false
   },
   "outputs": [
    {
     "name": "stdout",
     "output_type": "stream",
     "text": [
      "(A^T)^T = A\n"
     ]
    },
    {
     "data": {
      "text/html": [
       "<html><script type=\"math/tex; mode=display\">\\newcommand{\\Bold}[1]{\\mathbf{#1}}\\left(\\begin{array}{rr}\n",
       "a_{11} & a_{12} \\\\\n",
       "a_{21} & a_{22}\n",
       "\\end{array}\\right)</script></html>"
      ],
      "text/plain": [
       "[a11 a12]\n",
       "[a21 a22]"
      ]
     },
     "metadata": {},
     "output_type": "display_data"
    },
    {
     "name": "stdout",
     "output_type": "stream",
     "text": [
      "(A+B)^T = A^T + B^T\n"
     ]
    },
    {
     "data": {
      "text/html": [
       "<html><script type=\"math/tex; mode=display\">\\newcommand{\\Bold}[1]{\\mathbf{#1}}\\left(\\begin{array}{rr}\n",
       "a_{11} + b_{11} & a_{21} + b_{21} \\\\\n",
       "a_{12} + b_{12} & a_{22} + b_{22}\n",
       "\\end{array}\\right)</script></html>"
      ],
      "text/plain": [
       "[a11 + b11 a21 + b21]\n",
       "[a12 + b12 a22 + b22]"
      ]
     },
     "metadata": {},
     "output_type": "display_data"
    },
    {
     "data": {
      "text/html": [
       "<html><script type=\"math/tex; mode=display\">\\newcommand{\\Bold}[1]{\\mathbf{#1}}\\left(\\begin{array}{rr}\n",
       "a_{11} + b_{11} & a_{21} + b_{21} \\\\\n",
       "a_{12} + b_{12} & a_{22} + b_{22}\n",
       "\\end{array}\\right)</script></html>"
      ],
      "text/plain": [
       "[a11 + b11 a21 + b21]\n",
       "[a12 + b12 a22 + b22]"
      ]
     },
     "metadata": {},
     "output_type": "display_data"
    }
   ],
   "source": [
    "print(\"(A^T)^T = A\")\n",
    "show(At.transpose())\n",
    "print(\"(A+B)^T = A^T + B^T\")\n",
    "show(At + Bt)\n",
    "show((A+B).transpose())"
   ]
  },
  {
   "cell_type": "code",
   "execution_count": 39,
   "metadata": {
    "collapsed": false
   },
   "outputs": [
    {
     "name": "stdout",
     "output_type": "stream",
     "text": [
      "(AB)^T = B^T A^T\n"
     ]
    },
    {
     "data": {
      "text/html": [
       "<html><script type=\"math/tex; mode=display\">\\newcommand{\\Bold}[1]{\\mathbf{#1}}\\left(\\begin{array}{rr}\n",
       "a_{11} b_{11} + a_{12} b_{21} & a_{21} b_{11} + a_{22} b_{21} \\\\\n",
       "a_{11} b_{12} + a_{12} b_{22} & a_{21} b_{12} + a_{22} b_{22}\n",
       "\\end{array}\\right)</script></html>"
      ],
      "text/plain": [
       "[a11*b11 + a12*b21 a21*b11 + a22*b21]\n",
       "[a11*b12 + a12*b22 a21*b12 + a22*b22]"
      ]
     },
     "metadata": {},
     "output_type": "display_data"
    },
    {
     "data": {
      "text/html": [
       "<html><script type=\"math/tex; mode=display\">\\newcommand{\\Bold}[1]{\\mathbf{#1}}\\left(\\begin{array}{rr}\n",
       "a_{11} b_{11} + a_{21} b_{12} & a_{11} b_{21} + a_{21} b_{22} \\\\\n",
       "a_{12} b_{11} + a_{22} b_{12} & a_{12} b_{21} + a_{22} b_{22}\n",
       "\\end{array}\\right)</script></html>"
      ],
      "text/plain": [
       "[a11*b11 + a21*b12 a11*b21 + a21*b22]\n",
       "[a12*b11 + a22*b12 a12*b21 + a22*b22]"
      ]
     },
     "metadata": {},
     "output_type": "display_data"
    }
   ],
   "source": [
    "print(\"(AB)^T = B^T A^T\")\n",
    "show((A*B).transpose())\n",
    "show(At*Bt)"
   ]
  },
  {
   "cell_type": "markdown",
   "metadata": {},
   "source": [
    "<html>\n",
    "\t<h3>行列式</h3>\n",
    "\t<p>\n",
    "\t行列式detは、以下のように定義されます。\n",
    "$$\n",
    "\t\tdet(\\mathbf{A}) = \n",
    "\t\t\t\\left| \\begin{array}{cc}\n",
    "\t\t\t\ta_{11} & a_{12} \\\\\n",
    "\t\t\t\ta_{21} & a_{21}\n",
    "\t\t\t\\end{array} \\right|\n",
    "$$\t\t\t\t\n",
    "\t</p>\n",
    "\t<p>\n",
    "\t\t行列式は、逆行列の計算に使われるので、よく逆行列が存在するか否かの判別に使用されます。\n",
    "\t</p>\n",
    "\t<p>\n",
    "\t\tSageでは、行列式はdet関数を使って計算されます。\n",
    "\t</p>\n",
    "\t\n",
    "</html>"
   ]
  },
  {
   "cell_type": "code",
   "execution_count": 40,
   "metadata": {
    "collapsed": false
   },
   "outputs": [
    {
     "data": {
      "text/html": [
       "<html><script type=\"math/tex; mode=display\">\\newcommand{\\Bold}[1]{\\mathbf{#1}}-a_{12} a_{21} + a_{11} a_{22}</script></html>"
      ],
      "text/plain": [
       "-a12*a21 + a11*a22"
      ]
     },
     "metadata": {},
     "output_type": "display_data"
    }
   ],
   "source": [
    "show(A.det())"
   ]
  },
  {
   "cell_type": "code",
   "execution_count": 41,
   "metadata": {
    "collapsed": false
   },
   "outputs": [
    {
     "name": "stdout",
     "output_type": "stream",
     "text": [
      "8\n"
     ]
    }
   ],
   "source": [
    "Mdet = M.det(); print Mdet"
   ]
  },
  {
   "cell_type": "markdown",
   "metadata": {},
   "source": [
    "<html>\n",
    "\t\n",
    "\t<h3>逆行列</h3>\n",
    "\t<p>\n",
    "\t\t逆行列は、inverse関数で取得できます。\n",
    "\t</p>\n",
    "\t<p>\n",
    "\t\t逆行列の性質は、以下の通りです。\n",
    "\t\t<ul>\n",
    "\t\t<li>$(\\mathbf{A}^{-1})^{-1} = \\mathbf{A}$</li>\n",
    "\t\t<li>$(\\mathbf{A}^{T})^{-1} = (\\mathbf{A}^{-1})^T$</li>\n",
    "\t\t<li>$(\\mathbf{A}\\mathbf{B})^{-1} = \\mathbf{B}^{-1}\\mathbf{A}^{-1}$</li>\n",
    "\t\t</ul>\t\t\n",
    "\t</p>\n",
    "\n",
    "</html>"
   ]
  },
  {
   "cell_type": "code",
   "execution_count": 43,
   "metadata": {
    "collapsed": false
   },
   "outputs": [
    {
     "data": {
      "text/html": [
       "<html><script type=\"math/tex; mode=display\">\\newcommand{\\Bold}[1]{\\mathbf{#1}}\\left(\\begin{array}{rrr}\n",
       "0 & \\frac{1}{2} & -\\frac{1}{2} \\\\\n",
       "-\\frac{1}{4} & -\\frac{1}{4} & 1 \\\\\n",
       "\\frac{1}{2} & 0 & -\\frac{1}{2}\n",
       "\\end{array}\\right)</script></html>"
      ],
      "text/plain": [
       "[   0  1/2 -1/2]\n",
       "[-1/4 -1/4    1]\n",
       "[ 1/2    0 -1/2]"
      ]
     },
     "metadata": {},
     "output_type": "display_data"
    }
   ],
   "source": [
    "Minv = M.inverse()\n",
    "show(Minv)"
   ]
  },
  {
   "cell_type": "code",
   "execution_count": 44,
   "metadata": {
    "collapsed": false
   },
   "outputs": [
    {
     "name": "stdout",
     "output_type": "stream",
     "text": [
      "$(A^{-1})^{-1} = A$\n"
     ]
    },
    {
     "data": {
      "text/html": [
       "<html><script type=\"math/tex; mode=display\">\\newcommand{\\Bold}[1]{\\mathbf{#1}}\\left(\\begin{array}{rrr}\n",
       "1 & 2 & 3 \\\\\n",
       "3 & 2 & 1 \\\\\n",
       "1 & 2 & 1\n",
       "\\end{array}\\right)</script></html>"
      ],
      "text/plain": [
       "[1 2 3]\n",
       "[3 2 1]\n",
       "[1 2 1]"
      ]
     },
     "metadata": {},
     "output_type": "display_data"
    }
   ],
   "source": [
    "print(\"$(A^{-1})^{-1} = A$\")\n",
    "show(Minv.inverse())"
   ]
  },
  {
   "cell_type": "code",
   "execution_count": 46,
   "metadata": {
    "collapsed": false
   },
   "outputs": [
    {
     "name": "stdout",
     "output_type": "stream",
     "text": [
      "(A^{T})^{-1} = (A^{-1})^{T}\n"
     ]
    },
    {
     "data": {
      "text/html": [
       "<html><script type=\"math/tex; mode=display\">\\newcommand{\\Bold}[1]{\\mathbf{#1}}\\left(\\begin{array}{rrr}\n",
       "0 & -\\frac{1}{4} & \\frac{1}{2} \\\\\n",
       "\\frac{1}{2} & -\\frac{1}{4} & 0 \\\\\n",
       "-\\frac{1}{2} & 1 & -\\frac{1}{2}\n",
       "\\end{array}\\right)</script></html>"
      ],
      "text/plain": [
       "[   0 -1/4  1/2]\n",
       "[ 1/2 -1/4    0]\n",
       "[-1/2    1 -1/2]"
      ]
     },
     "metadata": {},
     "output_type": "display_data"
    },
    {
     "data": {
      "text/html": [
       "<html><script type=\"math/tex; mode=display\">\\newcommand{\\Bold}[1]{\\mathbf{#1}}\\left(\\begin{array}{rrr}\n",
       "0 & -\\frac{1}{4} & \\frac{1}{2} \\\\\n",
       "\\frac{1}{2} & -\\frac{1}{4} & 0 \\\\\n",
       "-\\frac{1}{2} & 1 & -\\frac{1}{2}\n",
       "\\end{array}\\right)</script></html>"
      ],
      "text/plain": [
       "[   0 -1/4  1/2]\n",
       "[ 1/2 -1/4    0]\n",
       "[-1/2    1 -1/2]"
      ]
     },
     "metadata": {},
     "output_type": "display_data"
    }
   ],
   "source": [
    "print(\"(A^{T})^{-1} = (A^{-1})^{T}\")\n",
    "show(M.transpose().inverse())\n",
    "show(M.inverse().transpose())"
   ]
  },
  {
   "cell_type": "markdown",
   "metadata": {},
   "source": [
    "<html>\n",
    "\t<h3>環</h3>\n",
    "\t<p>\n",
    "\t\t環は、数の集合を表します。\n",
    "\t\tよく使われる環を以下に示します。\n",
    "\t\t<ul>\n",
    "\t\t<li>整数: ZZ</li>\n",
    "\t\t<li>実数: R</li>\n",
    "\t\t<li>有理数: QQ</li>\n",
    "\t\t<li>複素数: CC</li>\n",
    "\t\t<li>倍精度小数(real double): RDF</li>\n",
    "\t\t<ul>\t\t\n",
    "\t</p>\n",
    "\t\n",
    "\t<p>\n",
    "\t\t例として、有理数の環を使って行列を生成してみます。\n",
    "\t</p>\n",
    "\t\n",
    "</html>"
   ]
  },
  {
   "cell_type": "code",
   "execution_count": 47,
   "metadata": {
    "collapsed": false
   },
   "outputs": [
    {
     "data": {
      "text/html": [
       "<html><script type=\"math/tex; mode=display\">\\newcommand{\\Bold}[1]{\\mathbf{#1}}\\left(\\begin{array}{rrr}\n",
       "2 & 4 & 0 \\\\\n",
       "3 & 1 & 0 \\\\\n",
       "0 & 1 & 1\n",
       "\\end{array}\\right)</script></html>"
      ],
      "text/plain": [
       "[2 4 0]\n",
       "[3 1 0]\n",
       "[0 1 1]"
      ]
     },
     "metadata": {},
     "output_type": "display_data"
    }
   ],
   "source": [
    "A = matrix(QQ,3,3,[[2, 4, 0],[3, 1, 0], [0, 1, 1]])\n",
    "show(A)"
   ]
  },
  {
   "cell_type": "markdown",
   "metadata": {},
   "source": [
    "<html>\n",
    "\t<h3>固有値解析</h3>\n",
    "\t<p>\n",
    "\t\t与えられた正方行列Aの固有値と固有ベクトルは、つぎのように求めます。\n",
    "\t</p>\n",
    "\t<p>\n",
    "\t\t行列Aの固有方程式が０ベクトル以外の解を持つときに、\n",
    "\t\t$\\lambda$を$\\mathbf{x}$の固有値、$x$を固有ベクトルといいます。\n",
    "$$\n",
    "\t\t\\mathbf{A}\\mathbf{x} = \\lambda\\mathbf{x}\n",
    "$$\t\t\n",
    "\t</p>\n",
    "\t<p>\n",
    "\t\t固有値は、以下の固有方程式の解です。ここで、Eは単位行列です。\n",
    "$$\n",
    "\t\tdet(\\mathbf{A} - \\lambda\\mathbf{E}) = 0\n",
    "$$\t\t\n",
    "\t</p>\n",
    "\t<p>\n",
    "\t\t各々の固有値$\\lambda_i$に対して、以下の式を満たす固有ベトル$x_i$を求めます。\n",
    "$$\n",
    "\t\t(\\mathbf{A} - \\lambda_i \\mathbf{E})x_i = 0\n",
    "$$\t\t\n",
    "\t</p>\n",
    "\t<p>\n",
    "\t\t例として、以下のような行列Aを使って固有値と固有ベクトルを求めてみます。\n",
    "$$\n",
    "\t\t\\mathbf{A} = \\left(\\begin{array}{rr}\n",
    "\t\t\t\t\t\t1 & 3 \\\\\n",
    "\t\t\t\t\t\t2 & 0\n",
    "\t\t\t\t\t\\end{array}\\right)\n",
    "$$\t\t\n",
    "\t</p>\n",
    "\t<p>\n",
    "\t\t最初に固有方程式(Mdet)とその解(sol)を求めます。\n",
    "\t\tここでは、$\\lambda$の代わりに変数rとして、固有値を求めています。\n",
    "\t\trの解として、-2と３が求まりました。\n",
    "\t</p>\n",
    "</html>"
   ]
  },
  {
   "cell_type": "code",
   "execution_count": 48,
   "metadata": {
    "collapsed": false
   },
   "outputs": [
    {
     "data": {
      "text/html": [
       "<html><script type=\"math/tex; mode=display\">\\newcommand{\\Bold}[1]{\\mathbf{#1}}r^{2} - r - 6</script></html>"
      ],
      "text/plain": [
       "r^2 - r - 6"
      ]
     },
     "metadata": {},
     "output_type": "display_data"
    },
    {
     "data": {
      "text/html": [
       "<html><script type=\"math/tex; mode=display\">\\newcommand{\\Bold}[1]{\\mathbf{#1}}\\left[r = 3, r = \\left(-2\\right)\\right]</script></html>"
      ],
      "text/plain": [
       "[r == 3, r == -2]"
      ]
     },
     "metadata": {},
     "output_type": "display_data"
    }
   ],
   "source": [
    "r = var('r')\n",
    "E = identity_matrix(2)\n",
    "A = matrix([[1, 3], [2, 0]])\n",
    "eq = A - r*E\n",
    "Mdet = det(eq); show (Mdet.expand())\n",
    "sol = solve(Mdet, r); show (sol)"
   ]
  },
  {
   "cell_type": "markdown",
   "metadata": {},
   "source": [
    "<html>\n",
    "\t<p>\n",
    "\t\t次に、各固有値に対する固有ベクトルを求めます。方程式eqにr=-2を代入し、\n",
    "$$\n",
    "\t\t\\mathbf{A}_1 \\mathbf{x}_1 = 0\n",
    "$$\t\t\n",
    "\t\tを満たす$\\mathbf{x}_1$を求めるとエラーとなります。\n",
    "\t\t行列A1の１行目と２行目が比例関係であり、2x2の行列A1のランクが１となっているからです。\n",
    "\t</p>\n",
    "</html>"
   ]
  },
  {
   "cell_type": "code",
   "execution_count": 49,
   "metadata": {
    "collapsed": false
   },
   "outputs": [
    {
     "data": {
      "text/html": [
       "<html><script type=\"math/tex; mode=display\">\\newcommand{\\Bold}[1]{\\mathbf{#1}}\\left(\\begin{array}{rr}\n",
       "3 & 3 \\\\\n",
       "2 & 2\n",
       "\\end{array}\\right)</script></html>"
      ],
      "text/plain": [
       "[3 3]\n",
       "[2 2]"
      ]
     },
     "metadata": {},
     "output_type": "display_data"
    },
    {
     "name": "stdout",
     "output_type": "stream",
     "text": [
      "1\n"
     ]
    },
    {
     "data": {
      "text/plain": [
       "(0, 0)"
      ]
     },
     "execution_count": 49,
     "metadata": {},
     "output_type": "execute_result"
    }
   ],
   "source": [
    "# r = -2に対する固有ベクトル\n",
    "A1 = eq.subs(r = -2); show(A1)\n",
    "# A1のrankが１であるため、そのままでは A1*X = Zが求まらない\n",
    "print A1.rank()\n",
    "Z = vector([0, 0])\n",
    "X = A1 \\ Z; X"
   ]
  },
  {
   "cell_type": "markdown",
   "metadata": {},
   "source": [
    "<html>\n",
    "\t<p>\n",
    "\t\tそこで、right_kernelメソッドを使って、固有ベクトルを求めると(1, -1)が求まります。\n",
    "\t</p>\n",
    "\t<p>\n",
    "\t\t固有ベクトルの定数倍もまた固有ベクトルとなりますので、t(1, -1)のように定数tを付けて\n",
    "\t\t表します。\n",
    "\t</p>\n",
    "</html>"
   ]
  },
  {
   "cell_type": "code",
   "execution_count": 50,
   "metadata": {
    "collapsed": false
   },
   "outputs": [
    {
     "data": {
      "text/html": [
       "<html><script type=\"math/tex; mode=display\">\\newcommand{\\Bold}[1]{\\mathbf{#1}}\\left(\\begin{array}{r}\n",
       "1 \\\\\n",
       "-1\n",
       "\\end{array}\\right)</script></html>"
      ],
      "text/plain": [
       "[ 1]\n",
       "[-1]"
      ]
     },
     "metadata": {},
     "output_type": "display_data"
    },
    {
     "data": {
      "text/html": [
       "<html><script type=\"math/tex; mode=display\">\\newcommand{\\Bold}[1]{\\mathbf{#1}}\\left(\\begin{array}{r}\n",
       "0 \\\\\n",
       "0\n",
       "\\end{array}\\right)</script></html>"
      ],
      "text/plain": [
       "[0]\n",
       "[0]"
      ]
     },
     "metadata": {},
     "output_type": "display_data"
    }
   ],
   "source": [
    "# \\の代わりにright_kernelメソッドを使って計算\n",
    "V = A1.right_kernel(); \n",
    "V1 = V.basis_matrix().transpose(); show(V1)\n",
    "# A1*V1 = 0であることを確認\n",
    "show(A1*V1)"
   ]
  },
  {
   "cell_type": "markdown",
   "metadata": {},
   "source": [
    "<html>\n",
    "\t<p>\n",
    "\t\t同様に、固有値3に対して、固有ベクトルを求めると、t(1, 2/3)と求まります。\n",
    "\t</p>\n",
    "</html>\n"
   ]
  },
  {
   "cell_type": "code",
   "execution_count": 51,
   "metadata": {
    "collapsed": false
   },
   "outputs": [
    {
     "data": {
      "text/html": [
       "<html><script type=\"math/tex; mode=display\">\\newcommand{\\Bold}[1]{\\mathbf{#1}}\\left(\\begin{array}{rr}\n",
       "-2 & 3 \\\\\n",
       "2 & -3\n",
       "\\end{array}\\right)</script></html>"
      ],
      "text/plain": [
       "[-2  3]\n",
       "[ 2 -3]"
      ]
     },
     "metadata": {},
     "output_type": "display_data"
    },
    {
     "data": {
      "text/html": [
       "<html><script type=\"math/tex; mode=display\">\\newcommand{\\Bold}[1]{\\mathbf{#1}}\\left(\\begin{array}{r}\n",
       "1 \\\\\n",
       "\\frac{2}{3}\n",
       "\\end{array}\\right)</script></html>"
      ],
      "text/plain": [
       "[  1]\n",
       "[2/3]"
      ]
     },
     "metadata": {},
     "output_type": "display_data"
    },
    {
     "data": {
      "text/html": [
       "<html><script type=\"math/tex; mode=display\">\\newcommand{\\Bold}[1]{\\mathbf{#1}}\\left(\\begin{array}{r}\n",
       "0 \\\\\n",
       "0\n",
       "\\end{array}\\right)</script></html>"
      ],
      "text/plain": [
       "[0]\n",
       "[0]"
      ]
     },
     "metadata": {},
     "output_type": "display_data"
    }
   ],
   "source": [
    "# r = 3に対する固有ベクトル\n",
    "A2 = eq.subs(r = 3); show(A2)\n",
    "V = A2.right_kernel(); \n",
    "V2 = V.basis_matrix().transpose(); show(V2)\n",
    "# A2*V2 = 0であることを確認\n",
    "show(A2*V2)"
   ]
  },
  {
   "cell_type": "markdown",
   "metadata": {},
   "source": [
    "<html>\n",
    "\t<h3>行列Aの転置行列を使う理由</h3>\n",
    "\t<p>\n",
    "\t\tsageで固有値と固有ベクトルを取得するには、eigenmatrix_left関数を使います。\n",
    "\t\teigenmatrix_leftは、与えられた行列Aに対して、以下の関係を満たす対角行列Dと\n",
    "\t\t固有ベクトルP（各固有値に対して、固有ベクトルは行単位で返されることに注意）のタプルを返します。\n",
    "$$\n",
    "\t\t\\mathbf{P} \\mathbf{A} = \\mathbf{D} \\mathbf{P}\n",
    "$$\t\t\t\t\n",
    "\t</p>\n",
    "\t<p>\n",
    "\t\t行列Aの各固有値と固有ベクトルの関係は、以下のようになります。\n",
    "$$\n",
    "\t\t\\begin{array}{ccc}\n",
    "\t\t\t\\mathbf{A} \\mathbf{x}_1 & = & \\lambda_1 \\mathbf{x}_1 \\\\\n",
    "\t\t\t\\mathbf{A} \\mathbf{x}_2 & = & \\lambda_2 \\mathbf{x}_2 \n",
    "\t\t\\end{array}\t\t\n",
    "$$\t\n",
    "\t\tこれを1つにまとめると、以下のようになります。\n",
    "$$\n",
    "\t\t( \\mathbf{A} \\mathbf{x}_1, \\mathbf{A} \\mathbf{x}_2 ) = ( \\lambda_1 \\mathbf{x}_1, \\lambda_2 \\mathbf{x}_2 )\n",
    "$$\n",
    "\t\tこれを行列で表すと、以下のようになります。\n",
    "$$\n",
    "\t\t\\mathbf{A} (\\mathbf{x}_1, \\mathbf{x}_2) = (\\mathbf{x}_1, \\mathbf{x}_2)\n",
    "\t\t\\left(\\begin{array}{cc}\n",
    "\t\t\t\t\t\t\\lambda_1 & 0 \\\\\n",
    "\t\t\t\t\t\t0 &  \\lambda_1\n",
    "\t\t\\end{array}\\right)\t\t\n",
    "$$\t\t\n",
    "\t\t両辺の転置行列を取り、$(AB)^T = B^T A^T$の関係式より、eigenmatrix_left関数と同じ以下の形式を得ます。\n",
    "$$\n",
    "\t\t\\left(\\begin{array}{r}\n",
    "\t\t\t\t\t\t\\mathbf{x}_1 \\\\\n",
    "\t\t\t\t\t\t\\mathbf{x}_2\n",
    "\t\t\\end{array}\\right) \\mathbf{A}^T = \n",
    "\t\t\\left(\\begin{array}{cc}\n",
    "\t\t\t\t\t\t\\lambda_1 & 0 \\\\\n",
    "\t\t\t\t\t\t0 &  \\lambda_2\n",
    "\t\t\\end{array}\\right)\t\t\n",
    "\t\t\\left(\\begin{array}{r}\n",
    "\t\t\t\t\t\t\\mathbf{x}_1 \\\\\n",
    "\t\t\t\t\t\t\\mathbf{x}_2\n",
    "\t\t\\end{array}\\right)\t\t\n",
    "$$\n",
    "\t\t従って、固有ベクトルが固有ベクトルの行単位で返されるeigenmatrix_left関数を使う場合には、\n",
    "\t\t対象となる行列Aの転置行列を使って計算する必要があるのです。\n",
    "\t</p>\n",
    "\t<p>\n",
    "\t\t以下に同様の計算をeigenmatrix_left関数を使って求める方法を示します。\n",
    "\t</p>\n",
    "</html>"
   ]
  },
  {
   "cell_type": "code",
   "execution_count": 52,
   "metadata": {
    "collapsed": false
   },
   "outputs": [
    {
     "data": {
      "text/html": [
       "<html><script type=\"math/tex; mode=display\">\\newcommand{\\Bold}[1]{\\mathbf{#1}}\\left[\\left(3, \\mathrm{RowSpan}_{\\Bold{Q}}\\left(\\begin{array}{rr}\n",
       "1 & \\frac{2}{3}\n",
       "\\end{array}\\right)\\right), \\left(-2, \\mathrm{RowSpan}_{\\Bold{Q}}\\left(\\begin{array}{rr}\n",
       "1 & -1\n",
       "\\end{array}\\right)\\right)\\right]</script></html>"
      ],
      "text/plain": [
       "[\n",
       "(3, Vector space of degree 2 and dimension 1 over Rational Field\n",
       "User basis matrix:\n",
       "[  1 2/3]),\n",
       "(-2, Vector space of degree 2 and dimension 1 over Rational Field\n",
       "User basis matrix:\n",
       "[ 1 -1])\n",
       "]"
      ]
     },
     "metadata": {},
     "output_type": "display_data"
    }
   ],
   "source": [
    "# 同様の処理をeigenspaces_leftを使って求める\n",
    "At = A.transpose()\n",
    "show(At. eigenspaces_left())"
   ]
  },
  {
   "cell_type": "markdown",
   "metadata": {},
   "source": [
    "<html>\n",
    "\t<p>\n",
    "\t\t計算が正しく求まっていることは、$\\mathbf{P}\\mathbf{D}\\mathbf{P} = \\mathbf{A}^T$\n",
    "\t\tとなっていることで確かめることができます。\n",
    "\t</p>\n",
    "</html>"
   ]
  },
  {
   "cell_type": "code",
   "execution_count": 53,
   "metadata": {
    "collapsed": false
   },
   "outputs": [
    {
     "data": {
      "text/html": [
       "<html><script type=\"math/tex; mode=display\">\\newcommand{\\Bold}[1]{\\mathbf{#1}}\\left(\\begin{array}{rr}\n",
       "3 & 0 \\\\\n",
       "0 & -2\n",
       "\\end{array}\\right)</script></html>"
      ],
      "text/plain": [
       "[ 3  0]\n",
       "[ 0 -2]"
      ]
     },
     "metadata": {},
     "output_type": "display_data"
    },
    {
     "data": {
      "text/html": [
       "<html><script type=\"math/tex; mode=display\">\\newcommand{\\Bold}[1]{\\mathbf{#1}}\\left(\\begin{array}{rr}\n",
       "1 & \\frac{2}{3} \\\\\n",
       "1 & -1\n",
       "\\end{array}\\right)</script></html>"
      ],
      "text/plain": [
       "[  1 2/3]\n",
       "[  1  -1]"
      ]
     },
     "metadata": {},
     "output_type": "display_data"
    },
    {
     "data": {
      "text/html": [
       "<html><script type=\"math/tex; mode=display\">\\newcommand{\\Bold}[1]{\\mathbf{#1}}\\left(\\begin{array}{rr}\n",
       "1 & 2 \\\\\n",
       "3 & 0\n",
       "\\end{array}\\right)</script></html>"
      ],
      "text/plain": [
       "[1 2]\n",
       "[3 0]"
      ]
     },
     "metadata": {},
     "output_type": "display_data"
    }
   ],
   "source": [
    "# P*Mt = D*PとなるD, Pを求める\n",
    "(D, P) = At.eigenmatrix_left()\n",
    "show(D)\n",
    "show(P)\n",
    "# ~P*D*P = Atとなることを確認(~Pは、P.inverse()の省略形)\n",
    "show(~P*D*P)"
   ]
  },
  {
   "cell_type": "markdown",
   "metadata": {},
   "source": [
    "<html>\n",
    "\t<h3>主成分分析</h3>\n",
    "\t<p>\n",
    "\t\t主成分分析では、固有値の絶対値の大きなものから順に固有ベクトルを求めます。\n",
    "\t\tその結果、固有値の絶対値が小さなものは、行列対する寄与が小さいことから\n",
    "\t\tどの固有値までがもとになるAを表現するかを、\n",
    "\t\t固有値に係数を掛けて$\\mathbf{A} = \\mathbf{P}^{-1}\\mathbf{D}'\\mathbf{P}$\n",
    "\t\t見てみることで主要な成分を求めることができます。\n",
    "\t</p>\n",
    "\t<p>\n",
    "\t\tちょっと乱暴ですが、先の例題の-2の固有値に0.5を掛けて、$\\mathbf{D}'$を求め、\n",
    "\t\tその影響をみてみましょう。\n",
    "\t\tAを近似してはいませんが、Aの傾向はつかめていることが分かります。\n",
    "\t</p>\n",
    "</html>"
   ]
  },
  {
   "cell_type": "code",
   "execution_count": 54,
   "metadata": {
    "collapsed": false
   },
   "outputs": [
    {
     "data": {
      "text/html": [
       "<html><script type=\"math/tex; mode=display\">\\newcommand{\\Bold}[1]{\\mathbf{#1}}\\left(\\begin{array}{rr}\n",
       "1.40000000000000 & 1.60000000000000 \\\\\n",
       "2.40000000000000 & 0.600000000000000\n",
       "\\end{array}\\right)</script></html>"
      ],
      "text/plain": [
       "[ 1.40000000000000  1.60000000000000]\n",
       "[ 2.40000000000000 0.600000000000000]"
      ]
     },
     "metadata": {},
     "output_type": "display_data"
    }
   ],
   "source": [
    "D1 = diagonal_matrix([3, -2*0.5])\n",
    "show(~P*D1*P)"
   ]
  },
  {
   "cell_type": "markdown",
   "metadata": {},
   "source": [
    "<html>\n",
    "\t<h3>SVD分解</h3>\n",
    "\t<p>\n",
    "\t\t固有値を使った主成分分析は正方行列しか使えないため、n, mが異なる行列での主成分分析にはSVD分解を使います。\n",
    "$$\n",
    "\t\t\\mathbf{A} = \\mathbf{U}\\mathbf{S}\\mathbf{V}^{T}\n",
    "$$\t\n",
    "\t\tとなるU, S, Vを計算するのが、SVD関数です。\n",
    "\t\t\n",
    "\t</p>\n",
    "\t<p>\n",
    "\t\t以下にSVD関数の例を示します。\n",
    "\t</p>\n",
    "</html>"
   ]
  },
  {
   "cell_type": "code",
   "execution_count": 55,
   "metadata": {
    "collapsed": false
   },
   "outputs": [
    {
     "data": {
      "text/plain": [
       "[0.0 1.0 2.0]\n",
       "[3.0 4.0 5.0]"
      ]
     },
     "execution_count": 55,
     "metadata": {},
     "output_type": "execute_result"
    }
   ],
   "source": [
    "m = matrix(RDF, 2, range(6)); m"
   ]
  },
  {
   "cell_type": "code",
   "execution_count": 56,
   "metadata": {
    "collapsed": false
   },
   "outputs": [
    {
     "name": "stdout",
     "output_type": "stream",
     "text": [
      "U\n"
     ]
    },
    {
     "data": {
      "text/html": [
       "<html><script type=\"math/tex; mode=display\">\\newcommand{\\Bold}[1]{\\mathbf{#1}}\\left(\\begin{array}{rr}\n",
       "-0.274721127897 & -0.961523947641 \\\\\n",
       "-0.961523947641 & 0.274721127897\n",
       "\\end{array}\\right)</script></html>"
      ],
      "text/plain": [
       "[-0.2747211278973781 -0.9615239476408235]\n",
       "[-0.9615239476408234  0.2747211278973778]"
      ]
     },
     "metadata": {},
     "output_type": "display_data"
    },
    {
     "name": "stdout",
     "output_type": "stream",
     "text": [
      "S\n"
     ]
    },
    {
     "data": {
      "text/html": [
       "<html><script type=\"math/tex; mode=display\">\\newcommand{\\Bold}[1]{\\mathbf{#1}}\\left(\\begin{array}{rrr}\n",
       "7.34846922835 & 0.0 & 0.0 \\\\\n",
       "0.0 & 1.0 & 0.0\n",
       "\\end{array}\\right)</script></html>"
      ],
      "text/plain": [
       "[7.3484692283495345                0.0                0.0]\n",
       "[               0.0 0.9999999999999994                0.0]"
      ]
     },
     "metadata": {},
     "output_type": "display_data"
    },
    {
     "name": "stdout",
     "output_type": "stream",
     "text": [
      "V\n"
     ]
    },
    {
     "data": {
      "text/html": [
       "<html><script type=\"math/tex; mode=display\">\\newcommand{\\Bold}[1]{\\mathbf{#1}}\\left(\\begin{array}{rrr}\n",
       "-0.392540507864 & 0.824163383692 & 0.408248290464 \\\\\n",
       "-0.560772154092 & 0.137360563949 & -0.816496580928 \\\\\n",
       "-0.72900380032 & -0.549442255795 & 0.408248290464\n",
       "\\end{array}\\right)</script></html>"
      ],
      "text/plain": [
       "[-0.3925405078644311  0.8241633836921343 0.40824829046386296]\n",
       "[-0.5607721540920443   0.137360563948689 -0.8164965809277261]\n",
       "[-0.7290038003196575 -0.5494422557947561  0.4082482904638631]"
      ]
     },
     "metadata": {},
     "output_type": "display_data"
    }
   ],
   "source": [
    "(U, S, V) = m.SVD()\n",
    "print 'U'\n",
    "show( U)\n",
    "print 'S'\n",
    "show( S)\n",
    "print 'V'\n",
    "show( V)"
   ]
  },
  {
   "cell_type": "markdown",
   "metadata": {},
   "source": [
    "<html>\n",
    "\t<p>\n",
    "\t\t計算された$\\mathbf{U}\\mathbf{S}\\mathbf{V}^{T}$もかなり精度よく求まっています。\n",
    "\t</p>\n",
    "</html>"
   ]
  },
  {
   "cell_type": "code",
   "execution_count": 57,
   "metadata": {
    "collapsed": false
   },
   "outputs": [
    {
     "data": {
      "text/html": [
       "<html><script type=\"math/tex; mode=display\">\\newcommand{\\Bold}[1]{\\mathbf{#1}}\\left(\\begin{array}{rrr}\n",
       "5.55111512313 \\times 10^{-16} & 1.0 & 2.0 \\\\\n",
       "3.0 & 4.0 & 5.0\n",
       "\\end{array}\\right)</script></html>"
      ],
      "text/plain": [
       "[5.551115123125783e-16    1.0000000000000004                   2.0]\n",
       "[   3.0000000000000013     4.000000000000001     5.000000000000001]"
      ]
     },
     "metadata": {},
     "output_type": "display_data"
    }
   ],
   "source": [
    "show(U*S*V.transpose())"
   ]
  },
  {
   "cell_type": "code",
   "execution_count": null,
   "metadata": {
    "collapsed": true
   },
   "outputs": [],
   "source": []
  }
 ],
 "metadata": {
  "kernelspec": {
   "display_name": "SageMath 7.2",
   "language": "",
   "name": "sagemath"
  },
  "language_info": {
   "codemirror_mode": {
    "name": "ipython",
    "version": 2
   },
   "file_extension": ".py",
   "mimetype": "text/x-python",
   "name": "python",
   "nbconvert_exporter": "python",
   "pygments_lexer": "ipython2",
   "version": "2.7.10"
  }
 },
 "nbformat": 4,
 "nbformat_minor": 0
}
