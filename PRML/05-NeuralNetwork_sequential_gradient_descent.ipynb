{
 "cells": [
  {
   "cell_type": "markdown",
   "metadata": {},
   "source": [
    "オリジナルの作成: 2011/06/05"
   ]
  },
  {
   "cell_type": "markdown",
   "metadata": {},
   "source": [
    "<html id=\"* 第5章-多層パーセプトロン関数近似をSageで試す\">\n",
    "\t<author>Hiroshi TAKEMOTO</author>\n",
    "\t(<email>take.pwave@gmail.com</email>)\n",
    "\t\n",
    "\t<h1>第5章-多層パーセプトロン関数近似をSageで試す</h1>\n",
    "\t<p>\n",
    "\t\tPRMLの5章多層パーセプトロンを使った関数近似の例題、図5.3(PRMLから引用)をSageを使って試してみます。\n",
    "\n",
    "\t\t<table style=\"border-style: none;\">\n",
    "\t\t\t<tr style=\"border-style: none;\">\n",
    "\t\t\t\t<td style=\"border-style: none;\"><img src=\"images/05/Figure5.3a.png\" width=\"200\"></td>\n",
    "\t\t\t\t<td style=\"border-style: none;\"><img src=\"images/05/Figure5.3b.png\" width=\"200\"></td>\n",
    "\t\t\t</tr>\n",
    "\t\t\t<tr style=\"border-style: none;\">\n",
    "\t\t\t\t<td style=\"border-style: none;\"><img src=\"images/05/Figure5.3c.png\" width=\"200\"></td>\n",
    "\t\t\t\t<td style=\"border-style: none;\"><img src=\"images/05/Figure5.3d.png\" width=\"200\"></td>\n",
    "\t\t\t</tr>\n",
    "\t\t</table>\n",
    "\t\t\t\t\n",
    "\t</p>\t\n",
    "</html>"
   ]
  },
  {
   "cell_type": "markdown",
   "metadata": {},
   "source": [
    "<html id=\"** 計算条件\">\n",
    "\t<h2>計算条件</h2>\n",
    "\t<p>\n",
    "\t\t関数近似に使用するニューラルネットワーク（多層パーセプトロン）は、\n",
    "\t\t<ul>\n",
    "\t\t\t<li>入力ユニット数1個（バイアス項を除く）</li>\n",
    "\t\t\t<li>隠れ層ユニット3個（バイアス項を除く）</li>\n",
    "\t\t\t<li>出力ユニット1個</li>\n",
    "\t\t</ul>\n",
    "\t\tとしました。\n",
    "\t</p>\n",
    "\t<p>\n",
    "\t\t重みwの更新には、逐次的勾配降下法を使用し、学習回数は2000、学習率（η）を0.1としました。\n",
    "\t\t逐次的勾配降下法による学習は、収束が遅く、学習率の値はデータに依存します。\n",
    "\t\tまた、重みwの初期値が結果に強く影響を与えることも分かりました。\n",
    "\t</p>\n",
    "</html>"
   ]
  },
  {
   "cell_type": "code",
   "execution_count": 1,
   "metadata": {
    "collapsed": true
   },
   "outputs": [],
   "source": [
    "# ニューラルネットワーク（逐次勾配降下法による学習）\n",
    "# PRML fig. 5.3を再現\n",
    "# \n",
    "from pylab import linspace\n",
    "# 定数をセット\n",
    "N = 50\n",
    "M = 4\n",
    "LEARN_COUNT=2000\n",
    "eta = 0.1\n",
    "# 学習回数"
   ]
  },
  {
   "cell_type": "code",
   "execution_count": 2,
   "metadata": {
    "collapsed": true
   },
   "outputs": [],
   "source": [
    "# 入力1点、隠れ層3個、出力1点\n",
    "N_in = 1   \n",
    "N_h = M      \n",
    "N_out = 1\n",
    "# 隠れ層の活性化関数\n",
    "h_1(x) = tanh(x)\n",
    "# 出力層の活性化関数\n",
    "h_2(x) = x\n",
    "# 隠れ層の活性化関数の微分\n",
    "dif_h_1(x) = diff(h_1, x)"
   ]
  },
  {
   "cell_type": "markdown",
   "metadata": {},
   "source": [
    "<html id=\"** ニューラルネットワーク\">\n",
    "\t<h2>ニューラルネットワーク</h2>\n",
    "\t<p>\n",
    "\t\tニューラルネットワークでは、\n",
    "\t\t<ul>\n",
    "\t\t\t<li>フィードフォワード処理</li>\n",
    "\t\t\t<li>バックプロパゲート処理</li>\n",
    "\t\t</ul>\n",
    "\t\tを繰り返しながら重みwを更新し、関数を近似します。\n",
    "\t</p>\n",
    "\t<p>\n",
    "\t\tフィードフォワード処理では、隠れ層の活性$a_j$は\n",
    "$$\n",
    "\t\ta_j = \\sum_{i=1}^{D} w_{ji}^{(1)} + w_{j0}^{(1)}\n",
    "$$\t\n",
    "\t\tで計算され、活性化関数h{.}で変換され\n",
    "$$\n",
    "\t\tz_j = h_1(a_j)\n",
    "$$\n",
    "\t\tとなります。\t\n",
    "\t\t同様に、出力ユニットの活性は、\n",
    "$$\n",
    "\t\ta_k = \\sum_{j=1}^{M} w_{kj}^{(2)} + w_{k0}^{(2)}\n",
    "$$\n",
    "\t\tとなり、出力ユニット活性化関数h2{.}で変換さ\n",
    "$$\n",
    "\t\ty_k = h_2(a_k)\n",
    "$$\n",
    "\t\tとなります。\n",
    "\t</p>\n",
    "\t<p>\n",
    "\t\t入力パターンnに対する誤差を、式(5.44)\n",
    "$$\n",
    "\t\tE_n = \\frac{1}{2} \\sum_{k} (y_nk - t_nk)^2\n",
    "$$\n",
    "\t\tを最小にするように重みwの偏微分は、式(5.50)\n",
    "$$\n",
    "\t\t\\frac{\\partial E_n}{\\partial w_{ji}} = \\frac{\\partial E_n}{\\partial a_j} \\frac{\\partial a_j}{\\partial w_{ji}}\n",
    "$$\n",
    "\t\tは、誤差$\\delta$を使って式(5.51)\n",
    "$$\n",
    "\t\t\\delta_j \\equiv \\frac{\\partial E_n}{\\partial a_j}\n",
    "$$\n",
    "\t\tとすると、式(5.53)の変数をzからxに変更して、\n",
    "$$\n",
    "\t\t\\frac{\\partial E_n}{\\partial w_{ji}} = \\delta_j x_i\n",
    "$$\t\n",
    "\t\t出力ユニットの誤差、式(5.54)\n",
    "$$\n",
    "\t\t\\delta_k = y_k - t_k\n",
    "$$\t\n",
    "\t\tから、式(5.55)\n",
    "$$\n",
    "\t\t\\delta_j \\equiv \\frac{\\partial E_n}{\\partial a_j} = \\sum_{k} \\frac{\\partial E_n}{\\partial a_k} \\frac{\\partial a_k}{\\partial a_j}\n",
    "$$\n",
    "\t\tとなり、式(5.56)\n",
    "$$\n",
    "\t\t\\delta_j = h_1' (a_j) \\sum_{k} w_{kj} \\delta_k\n",
    "$$\n",
    "\t\tという逆伝搬（バックプロパゲート処理）で求められます。\n",
    "\t</p>\n",
    "\t<p>\n",
    "\t\t重みの更新は、\n",
    "$$\n",
    "\t\tw^{(\\tau+1)} = w^{(\\tau)} - \\eta \\nabla E_n(w^{(\\tau)})\n",
    "$$\n",
    "\t\tとなります。\n",
    "\t</p>\n",
    "\t<p>\n",
    "\t\tsageのベクトル計算を使うことで、フィードフォワード処理、バックプロパゲート処理がほぼ上記の式の通りに\n",
    "\t\t記述することができます。\n",
    "\t</p>\n",
    "</html>"
   ]
  },
  {
   "cell_type": "code",
   "execution_count": 3,
   "metadata": {
    "collapsed": true
   },
   "outputs": [],
   "source": [
    "# 逐次勾配降下法を使ったニューラルネットワークの定義\n",
    "def _learn_sg(X, T, w_1, w_2, N_in, N_h, N_out, LEARN_COUNT):\n",
    "    # 作業用ベクトルの定義\n",
    "    x_i = vector(RDF, N_in+1); y_k = vector(RDF, N_out)\n",
    "    z_j = vector(RDF, N_h); z_j[0] = 1\n",
    "    d_j = vector(RDF, N_h); d_k = vector(RDF, N_out)    \n",
    "    \n",
    "    # 指定回数学習する\n",
    "    for m in range(LEARN_COUNT):\n",
    "        for n in range(len(X)):\n",
    "            # 変数のセット\n",
    "            x_i = vector(RDF, flatten([1, X[n]]))\n",
    "            t = vector(RDF, flatten([T[n]]))\n",
    "            # フィードフォワード処理\n",
    "            for j in range(1, N_h):           \n",
    "                z_j[j] = h_1(w_1.row(j)*x_i).n()\n",
    "            for k in range(N_out):\n",
    "                y_k[k] = h_2(w_2.row(k)*z_j).n()\n",
    "            # バックプロパゲート処理\n",
    "            d_k = y_k - t\n",
    "            for j in range(N_h):\n",
    "                d_j[j] = dif_h_1(z_j[j])*w_2.column(j)*d_k\n",
    "            # 重みの更新\n",
    "            for j in range(N_h):\n",
    "                w_1.set_row(j, w_1[j] - eta*d_j[j]*x_i)\n",
    "            for k in range(N_out):\n",
    "                w_2.set_row(k, w_2[k] - eta*d_k[k]*z_j)"
   ]
  },
  {
   "cell_type": "markdown",
   "metadata": {},
   "source": [
    "<html id=\"** 関数定義\">\n",
    "\t<h2>関数定義</h2>\n",
    "\t<p>\n",
    "\t\t出力関数は、フィードフォワード処理で指定されたｘの値を計算します。\n",
    "\t</p>\n",
    "\t<p>\n",
    "\t\tプロット関数では、重み$w^{(1)}$をw_1、$w^{(2)}$をw_2を初期化（-1から1の一様分布）\n",
    "\t\tし、与えられた観測データにフィットする重みを計算し、その結果をプロットします。\n",
    "\t</p>\n",
    "</html>"
   ]
  },
  {
   "cell_type": "code",
   "execution_count": 4,
   "metadata": {
    "collapsed": true
   },
   "outputs": [],
   "source": [
    "# 出力関数の定義\n",
    "def _f(x, w_1, w_2, N_in, N_h, N_out):\n",
    "    x_i = vector(RDF, flatten([1, x]))\n",
    "    z_j = vector(RDF, N_h); z_j[0] = 1\n",
    "    y_k = vector(RDF, N_out)\n",
    "    # 隠れ層の値を計算\n",
    "    for j in range(1, N_h):\n",
    "        z_j[j] = h_1(w_1.row(j)*x_i).n()\n",
    "    # 出力層の計算\n",
    "    for k in range(N_out):\n",
    "        y_k[k] = h_2(w_2.row(k)*z_j)\n",
    "    return y_k[0]"
   ]
  },
  {
   "cell_type": "markdown",
   "metadata": {},
   "source": [
    "<html id=\"** 計算結果\">\n",
    "\t<h2>計算結果</h2>\n",
    "\t<p>\n",
    "\t\t以下の関数\n",
    "\t\t<ul>\n",
    "\t\t\t<li>ヘヴィサイドステップ関数</li>\n",
    "\t\t\t<li>$f(x) = |x|$</li>\n",
    "\t\t\t<li>$f(x) = sin(3/4*pi*x)$</li>\n",
    "\t\t\t<li>$f(x) = x^2$</li>\n",
    "\t\t</ul>\n",
    "\t\tを近似した結果を以下に示します。\n",
    "\t</p>\n",
    "\t<p>\n",
    "\t\tニューラルネットワークのような単純なアルゴリズムでも良く近似できるものだと関心しました。\n",
    "\t</p>\n",
    "</html>"
   ]
  },
  {
   "cell_type": "code",
   "execution_count": 5,
   "metadata": {
    "collapsed": true
   },
   "outputs": [],
   "source": [
    "def _plot_nn(X, T, N_in, N_h, N_out, COUNT):\n",
    "    # 重みの初期化(バイアス項を含む)\n",
    "    w_1 = matrix(RDF, [[(random()-0.5)*2 for i in range(N_in+1)] for j in range(N_h)])\n",
    "    w_2 = matrix(RDF, [[(random()-0.5)*2 for j in range(N_h)] for k in range(N_out)])\n",
    "    # 学習\n",
    "    _learn_sg(X, T, w_1, w_2, N_in, N_h, N_out, COUNT)\n",
    "    # トレーニングデータのプロット\n",
    "    data_plt = list_plot(zip(X, T))\n",
    "    # 結果のプロット\n",
    "    var('x')\n",
    "    f_plt = plot(lambda x : _f(x, w_1, w_2, N_in, N_h, N_out), [x, -1, 1], color='red')\n",
    "    (data_plt + f_plt).show(figsize=4)"
   ]
  },
  {
   "cell_type": "code",
   "execution_count": 13,
   "metadata": {
    "collapsed": false
   },
   "outputs": [
    {
     "data": {
      "image/png": "[encoded data removed]",
      "text/plain": [
       "Graphics object consisting of 2 graphics primitives"
      ]
     },
     "metadata": {},
     "output_type": "display_data"
    }
   ],
   "source": [
    "# トレーニングデータ\n",
    "# 1番目は、heavisizeのステップ関数\n",
    "X = linspace(-1, 1, N)\n",
    "T = [heaviside(float(x)) for x in X]\n",
    "# 計算とプロット\n",
    "_plot_nn(X, T, N_in, N_h, N_out, LEARN_COUNT)"
   ]
  },
  {
   "cell_type": "code",
   "execution_count": 15,
   "metadata": {
    "collapsed": false
   },
   "outputs": [
    {
     "data": {
      "image/png": "[encoded data removed]",
      "text/plain": [
       "Graphics object consisting of 2 graphics primitives"
      ]
     },
     "metadata": {},
     "output_type": "display_data"
    }
   ],
   "source": [
    "# 2番目は、絶対値\n",
    "X = linspace(-1, 1, N)\n",
    "T = [abs(x) for x in X]\n",
    "# 計算とプロット\n",
    "_plot_nn(X, T, N_in, N_h, N_out, LEARN_COUNT)"
   ]
  },
  {
   "cell_type": "code",
   "execution_count": 16,
   "metadata": {
    "collapsed": false
   },
   "outputs": [
    {
     "data": {
      "image/png": "[encoded data removed]",
      "text/plain": [
       "Graphics object consisting of 2 graphics primitives"
      ]
     },
     "metadata": {},
     "output_type": "display_data"
    }
   ],
   "source": [
    "# 3番目は、sin(3/4πx)\n",
    "X = linspace(-1, 1, N)\n",
    "T = [sin(3/4*pi*x) for x in X]\n",
    "# 計算とプロット\n",
    "_plot_nn(X, T, N_in, N_h, N_out, LEARN_COUNT)"
   ]
  },
  {
   "cell_type": "code",
   "execution_count": 17,
   "metadata": {
    "collapsed": false
   },
   "outputs": [
    {
     "data": {
      "image/png": "[encoded data removed]",
      "text/plain": [
       "Graphics object consisting of 3 graphics primitives"
      ]
     },
     "metadata": {},
     "output_type": "display_data"
    }
   ],
   "source": [
    "# 4番目は、2次曲線\n",
    "X = linspace(-1, 1, N)\n",
    "T = [x*x for x in X]\n",
    "# 計算とプロット\n",
    "_plot_nn(X, T, N_in, N_h, N_out, LEARN_COUNT)"
   ]
  },
  {
   "cell_type": "code",
   "execution_count": null,
   "metadata": {
    "collapsed": true
   },
   "outputs": [],
   "source": []
  }
 ],
 "metadata": {
  "kernelspec": {
   "display_name": "SageMath 7.5.1",
   "language": "",
   "name": "sagemath"
  },
  "language_info": {
   "codemirror_mode": {
    "name": "ipython",
    "version": 2
   },
   "file_extension": ".py",
   "mimetype": "text/x-python",
   "name": "python",
   "nbconvert_exporter": "python",
   "pygments_lexer": "ipython2",
   "version": "2.7.13"
  }
 },
 "nbformat": 4,
 "nbformat_minor": 0
}
