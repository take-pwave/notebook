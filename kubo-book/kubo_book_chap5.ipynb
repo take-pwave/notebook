{
 "cells": [
  {
   "cell_type": "markdown",
   "metadata": {},
   "source": [
    "<html id=\"* graph_euler_method\">\n",
    "\t<author>Hiroshi TAKEMOTO</author>\n",
    "\t(<email>take.pwave@gmail.com</email>)\n",
    "\t\n",
    "\t<h1>Sageでグラフを再現してみよう：データ解析のための統計モデリング入門第５章</h1>\n",
    "\t<p>\n",
    "\t\tこの企画は、雑誌や教科書にでているグラフをSageで再現し、\n",
    "\t\tグラフの意味を理解すると共にSageの使い方をマスターすることを目的としています。\n",
    "\t</p>\n",
    "\t<p>\n",
    "\t\t前回に続き、<a href=\"http://www.amazon.co.jp/dp/400006973X/\">データ解析のための統計モデリング入門</a>\n",
    "\t\t（以下、久保本と書きます）\n",
    "\t\tの第5章の例題をSageを使って再現してみます。\n",
    "\t</p>\n",
    "\t<p>\n",
    "\t\t私が統計を嫌いになったのは、χ二乗検定が原因です。\n",
    "\t\tどうしてそうなるのかも説明されないまま検定をすることに納得がいかず拒否していたのを覚えています。\t\n",
    "\t\t\t\t\n",
    "\t</p>\n",
    "\t<p>\n",
    "\t\t久保本はそれをすぱっと解決してくれました。今回の目標はずばり図５．４です（久保本から引用）。\n",
    "\t\t<img src=\"images/Fig-5.4.png\"/>\n",
    "\t</p>\n",
    "\t<p>\n",
    "\t\t数式処理システムSageのノートブックは、計算結果を表示するだけではなく、実際に動かすことができるのが大きな特徴です。\n",
    "\t\tこの機会にSageを分析に活用してみてはいかがでしょう。\n",
    "\t</p>\n",
    "</html>\n",
    "\n",
    "<html>\n",
    "\t<h2>前準備</h2>\n",
    "\t<p>\n",
    "\t\t最初に必要なライブラリーやパッケージをロードしておきます。\n",
    "\t</p>\n",
    "</html>"
   ]
  },
  {
   "cell_type": "code",
   "execution_count": 1,
   "metadata": {
    "collapsed": true
   },
   "outputs": [],
   "source": [
    "# RとPandasのデータフレームを相互に変換する関数を読み込む\n",
    "# Rの必要なライブラリ\n",
    "r('library(ggplot2)')\n",
    "r('library(jsonlite)')\n",
    "\n",
    "# python用のパッケージ\n",
    "import pandas as pd\n",
    "import numpy as np\n",
    "import matplotlib.pyplot as plt \n",
    "import seaborn as sns\n",
    "# statsmodelsを使ってglmを計算します\n",
    "import statsmodels.formula.api as smf\n",
    "import statsmodels.api as sm\n",
    "from scipy.stats.stats import pearsonr\n",
    "%matplotlib inline\n",
    "\n",
    "# jupyter用のdisplayメソッド\n",
    "from IPython.display import display, Latex, HTML, Math, JSON\n",
    "# sageユーティリティ\n",
    "load('script/sage_util.py')\n",
    "# Rユーティリティ\n",
    "load('script/RUtil.py')"
   ]
  },
  {
   "cell_type": "markdown",
   "metadata": {},
   "source": [
    "<html>\n",
    "\t<h2>尤度比検定がすごい</h2>\n",
    "\t<p>\n",
    "\t\tどんな統計モデルにも使える尤度比検定が、5章のテーマです。ターゲットの統計モデル（xモデル）と一定値を使った意味の無いモデル\n",
    "\t\t：帰無仮説の尤度比を使って帰無仮説棄却の可否を判断します。\n",
    "\t\t（久保本では「無に帰される」から帰無仮説と説明があり昔の人はよい名前を付けるなぁと感動！）\n",
    "\t</p>\n",
    "\t<p>\n",
    "\t\t今回は、3章の例題で一定モデルとｘモデルを比較します。対数尤度は、以下の様になり、\n",
    "$$\n",
    "\t\\frac{L^*_1}{L^*_2} = \\frac{一定モデルの最大尤度}{ｘモデルの最大尤度}\n",
    "$$\t\n",
    "\t\tこれの対数に-2を掛けた値（逸脱度の差）を使って検定をします。\n",
    "$$\n",
    "\t\\Delta D_{1,2} = -2 \\times ( log L^*_1 - log L^*_2)\n",
    "$$\t\t\t\n",
    "\t</p>\n",
    "\t<p>\n",
    "\t\t逸脱度の差は、以下の計算で4.5とでました。\n",
    "\t</p>\n",
    "</html>"
   ]
  },
  {
   "cell_type": "code",
   "execution_count": 2,
   "metadata": {
    "collapsed": true
   },
   "outputs": [],
   "source": [
    "# 3章のデータをもう一度読み込む\n",
    "d = pd.read_csv('http://hosho.ees.hokudai.ac.jp/~kubo/stat/iwanamibook/fig/poisson/data3a.csv')"
   ]
  },
  {
   "cell_type": "code",
   "execution_count": 3,
   "metadata": {
    "collapsed": true
   },
   "outputs": [],
   "source": [
    "# 一定モデル（k=1）でのglm回帰を実行\n",
    "fit1 = smf.glm('y ~ 1', data=d, family=sm.families.Poisson(link=sm.families.links.log)).fit()"
   ]
  },
  {
   "cell_type": "code",
   "execution_count": 4,
   "metadata": {
    "collapsed": true
   },
   "outputs": [],
   "source": [
    "# xモデル\n",
    "fit2 = smf.glm('y ~ x', data=d, family=sm.families.Poisson(link=sm.families.links.log)).fit()"
   ]
  },
  {
   "cell_type": "markdown",
   "metadata": {},
   "source": [
    "逸脱度の差$\\Delta D_{1,2}$が4.5ぐらいと求まる。"
   ]
  },
  {
   "cell_type": "code",
   "execution_count": 5,
   "metadata": {
    "collapsed": false
   },
   "outputs": [
    {
     "data": {
      "text/plain": [
       "4.5139410788519854"
      ]
     },
     "execution_count": 5,
     "metadata": {},
     "output_type": "execute_result"
    }
   ],
   "source": [
    "# 逸脱度（-2logL）\n",
    "-2*(fit1.llf - fit2.llf)"
   ]
  },
  {
   "cell_type": "code",
   "execution_count": 6,
   "metadata": {
    "collapsed": false
   },
   "outputs": [
    {
     "data": {
      "text/html": [
       "<table class=\"simpletable\">\n",
       "<tr>\n",
       "        <td>Model:</td>               <td>GLM</td>            <td>AIC:</td>       <td>477.2864</td> \n",
       "</tr>\n",
       "<tr>\n",
       "    <td>Link Function:</td>           <td>log</td>            <td>BIC:</td>       <td>-366.4049</td>\n",
       "</tr>\n",
       "<tr>\n",
       "  <td>Dependent Variable:</td>         <td>y</td>        <td>Log-Likelihood:</td>  <td>-237.64</td> \n",
       "</tr>\n",
       "<tr>\n",
       "         <td>Date:</td>        <td>2016-07-17 06:17</td>    <td>LL-Null:</td>      <td>-237.64</td> \n",
       "</tr>\n",
       "<tr>\n",
       "   <td>No. Observations:</td>         <td>100</td>          <td>Deviance:</td>     <td>89.507</td>  \n",
       "</tr>\n",
       "<tr>\n",
       "       <td>Df Model:</td>              <td>0</td>         <td>Pearson chi2:</td>    <td>87.1</td>   \n",
       "</tr>\n",
       "<tr>\n",
       "     <td>Df Residuals:</td>           <td>99</td>            <td>Scale:</td>       <td>1.0000</td>  \n",
       "</tr>\n",
       "<tr>\n",
       "        <td>Method:</td>             <td>IRLS</td>              <td></td>             <td></td>     \n",
       "</tr>\n",
       "</table>\n",
       "<table class=\"simpletable\">\n",
       "<tr>\n",
       "      <td></td>       <th>Coef.</th> <th>Std.Err.</th>    <th>z</th>     <th>P>|z|</th> <th>[0.025</th> <th>0.975]</th>\n",
       "</tr>\n",
       "<tr>\n",
       "  <th>Intercept</th> <td>2.0580</td>  <td>0.0357</td>  <td>57.5862</td> <td>0.0000</td> <td>1.9879</td> <td>2.1280</td>\n",
       "</tr>\n",
       "</table>"
      ],
      "text/plain": [
       "<class 'statsmodels.iolib.summary2.Summary'>\n",
       "\"\"\"\n",
       "               Results: Generalized linear model\n",
       "==============================================================\n",
       "Model:              GLM              AIC:            477.2864 \n",
       "Link Function:      log              BIC:            -366.4049\n",
       "Dependent Variable: y                Log-Likelihood: -237.64  \n",
       "Date:               2016-07-17 06:17 LL-Null:        -237.64  \n",
       "No. Observations:   100              Deviance:       89.507   \n",
       "Df Model:           0                Pearson chi2:   87.1     \n",
       "Df Residuals:       99               Scale:          1.0000   \n",
       "Method:             IRLS                                      \n",
       "---------------------------------------------------------------\n",
       "              Coef.   Std.Err.     z     P>|z|   [0.025  0.975]\n",
       "---------------------------------------------------------------\n",
       "Intercept     2.0580    0.0357  57.5862  0.0000  1.9879  2.1280\n",
       "==============================================================\n",
       "\n",
       "\"\"\""
      ]
     },
     "execution_count": 6,
     "metadata": {},
     "output_type": "execute_result"
    }
   ],
   "source": [
    "# 一定モデル（fit1）の切片beta_2の推定値2.058となり、exp(2.058)がd.yの平均とほぼ一致していることを確認\n",
    "fit1.summary2()"
   ]
  },
  {
   "cell_type": "code",
   "execution_count": 7,
   "metadata": {
    "collapsed": false
   },
   "outputs": [
    {
     "name": "stdout",
     "output_type": "stream",
     "text": [
      "7.83029355218137 7.83\n"
     ]
    }
   ],
   "source": [
    "print exp(2.058), d.y.mean()"
   ]
  },
  {
   "cell_type": "markdown",
   "metadata": {},
   "source": [
    "<html>\n",
    "\t<h2>帰無仮説を棄却させる手順</h2>\n",
    "\t<p>\n",
    "\t\t第一種の過誤の検討に専念して、以下の手順で帰無仮説を棄却します。\n",
    "\t\t<ol>\n",
    "\t\t\t<li>帰無仮説（今回は一定モデル）が正しいものと仮定する</li>\n",
    "\t\t\t<li>観測データに帰無モデルをあてはめ、$\\hat{\\beta_1}=2.058$を得て、これが真のモデルとする</li>\n",
    "\t\t\t<li>上記の真のモデルからサンプルデータを生成し、その度に一定モデルをあてはめ、$\\Delta D_{1,2}$を求め、その分布を求める</li>\n",
    "\t\t\t<li>求まった分布から一定モデル（帰無モデル）とxモデルの逸脱度の差$\\Delta D_{1,2} \\geq 4.5$となる確率Pを評価する</li>\n",
    "\t\t</ol>\n",
    "\t</p>\n",
    "</html>"
   ]
  },
  {
   "cell_type": "markdown",
   "metadata": {},
   "source": [
    "<html>\n",
    "\t<h3>サンプルの生成</h3>\n",
    "\t<p>\n",
    "\t\tSageには、ポアソン分布を生成する関数が無いので、Rのrpois関数を使ってlambda_targetで指定されたλのサンプルを\n",
    "\t\tsample_size個生成する関数genSampleを以下の様に定義します。\n",
    "\t</p>\n",
    "</html>"
   ]
  },
  {
   "cell_type": "code",
   "execution_count": 8,
   "metadata": {
    "collapsed": true
   },
   "outputs": [],
   "source": [
    "# Rの乱数の種をセット\n",
    "r('set.seed(101)')\n",
    "# sageobjを使って変換する方が速いのでgenSample関数を使用する\n",
    "def genSample(lambda_target, sample_size):\n",
    "    return np.array(sageobj(r('rpois(%d, %f)'%(sample_size, lambda_target))))"
   ]
  },
  {
   "cell_type": "markdown",
   "metadata": {},
   "source": [
    "<html>\n",
    "\t<h3>パラメトリックブートストラップ法</h3>\n",
    "\t<p>\n",
    "\t\tパラメトリックブートストラップ法をSageで試してみます。4章のバイアスの計算と異なり、\n",
    "\t\t一定モデルを真のモデルとしてサンプルデータを生成し、一定モデルとxモデルにGLMを使って\n",
    "\t\t回帰分析を行い、対数尤度llfから逸脱度Dの差を求めます。\n",
    "\t\tこれをn_bootstrap回繰り返し、その分布を求めます。\n",
    "\t</p>\n",
    "</html>"
   ]
  },
  {
   "cell_type": "code",
   "execution_count": 9,
   "metadata": {
    "collapsed": true
   },
   "outputs": [],
   "source": [
    "# パラメトリックブートストラップ法\n",
    "def pb(d, n_bootstrap):\n",
    "    N = len(d)\n",
    "    y_mean = d.y.mean()\n",
    "    def sampling(d, y_mean, N):\n",
    "        # 帰無仮説を真のモデルとしてサンプルデータを生成\n",
    "        d['rnd'] = genSample(y_mean, N)\n",
    "        fit1 = smf.glm('rnd ~ 1', data=d, family=sm.families.Poisson(link=sm.families.links.log)).fit()\n",
    "        fit2 = smf.glm('rnd ~ x', data=d, family=sm.families.Poisson(link=sm.families.links.log)).fit() \n",
    "        return -2*(fit1.llf - fit2.llf)\n",
    "    return [ sampling(d, y_mean, N) for i in range(n_bootstrap)]\n"
   ]
  },
  {
   "cell_type": "code",
   "execution_count": 10,
   "metadata": {
    "collapsed": true
   },
   "outputs": [],
   "source": [
    "# 逸脱度の差を1000サンプル生成\n",
    "dd12 = pb(d, 1000)"
   ]
  },
  {
   "cell_type": "markdown",
   "metadata": {},
   "source": [
    "<html>\n",
    "\t<h3>サンプルの結果</h3>\n",
    "\t<p>\n",
    "\t\tブートストラップ法で求まった結果にdescribe（Rのsummaryに相当）を使って分布の概要を把握し、\n",
    "\t\tggplotのヒストグラムでその分布を表示してみます。\n",
    "\t</p>\n",
    "</html>"
   ]
  },
  {
   "cell_type": "code",
   "execution_count": 11,
   "metadata": {
    "collapsed": false
   },
   "outputs": [
    {
     "data": {
      "text/html": [
       "<div>\n",
       "<table border=\"1\" class=\"dataframe\">\n",
       "  <thead>\n",
       "    <tr style=\"text-align: right;\">\n",
       "      <th></th>\n",
       "      <th>x</th>\n",
       "    </tr>\n",
       "  </thead>\n",
       "  <tbody>\n",
       "    <tr>\n",
       "      <th>count</th>\n",
       "      <td>1000.000000</td>\n",
       "    </tr>\n",
       "    <tr>\n",
       "      <th>mean</th>\n",
       "      <td>0.988756</td>\n",
       "    </tr>\n",
       "    <tr>\n",
       "      <th>std</th>\n",
       "      <td>1.451894</td>\n",
       "    </tr>\n",
       "    <tr>\n",
       "      <th>min</th>\n",
       "      <td>0.000001</td>\n",
       "    </tr>\n",
       "    <tr>\n",
       "      <th>25%</th>\n",
       "      <td>0.079798</td>\n",
       "    </tr>\n",
       "    <tr>\n",
       "      <th>50%</th>\n",
       "      <td>0.412794</td>\n",
       "    </tr>\n",
       "    <tr>\n",
       "      <th>75%</th>\n",
       "      <td>1.236868</td>\n",
       "    </tr>\n",
       "    <tr>\n",
       "      <th>max</th>\n",
       "      <td>12.078559</td>\n",
       "    </tr>\n",
       "  </tbody>\n",
       "</table>\n",
       "</div>"
      ],
      "text/plain": [
       "                 x\n",
       "count  1000.000000\n",
       "mean      0.988756\n",
       "std       1.451894\n",
       "min       0.000001\n",
       "25%       0.079798\n",
       "50%       0.412794\n",
       "75%       1.236868\n",
       "max      12.078559"
      ]
     },
     "execution_count": 11,
     "metadata": {},
     "output_type": "execute_result"
    }
   ],
   "source": [
    "dd12Df = pd.DataFrame({'x' : dd12})\n",
    "dd12Df.describe()"
   ]
  },
  {
   "cell_type": "code",
   "execution_count": 12,
   "metadata": {
    "collapsed": false
   },
   "outputs": [
    {
     "data": {
      "image/png": "[encoded data removed]",
      "text/plain": [
       "Graphics object consisting of 1 graphics primitive"
      ]
     },
     "execution_count": 12,
     "metadata": {},
     "output_type": "execute_result"
    }
   ],
   "source": [
    "histogram(dd12, figsize=4, bins=20)"
   ]
  },
  {
   "cell_type": "markdown",
   "metadata": {},
   "source": [
    "<html>\n",
    "\t<h3>仮説の検証</h3>\n",
    "    <p>\n",
    "      逸脱度の差$\\Delta D_{1,2} \\ge 4.5$となる確率Pをp値と呼びます。\n",
    "    </p>\n",
    "\t<p>\n",
    "\t\t一定もでるとxモデルの逸脱度の差（4.5）以上のデータの個数は、41個でp値は、41/1000=0.041となり、95%となるｘの値は\n",
    "\t\t4.02と求まります。\n",
    "\t</p>\n",
    "\t<p>\n",
    "\t\tｐ値（0.041）が有意水準5%（0.05）よりも小さいため、帰無仮説（一定モデル）は棄却され、xモデルが採択されました。\n",
    "\t</p>\n",
    "</html>"
   ]
  },
  {
   "cell_type": "code",
   "execution_count": 13,
   "metadata": {
    "collapsed": false
   },
   "outputs": [
    {
     "data": {
      "text/plain": [
       "41"
      ]
     },
     "execution_count": 13,
     "metadata": {},
     "output_type": "execute_result"
    }
   ],
   "source": [
    "# 4.5以上のデータの個数は\n",
    "len(dd12Df[dd12Df.x >= 4.5])"
   ]
  },
  {
   "cell_type": "code",
   "execution_count": 14,
   "metadata": {
    "collapsed": false
   },
   "outputs": [
    {
     "data": {
      "text/plain": [
       "x    4.022639\n",
       "dtype: float64"
      ]
     },
     "execution_count": 14,
     "metadata": {},
     "output_type": "execute_result"
    }
   ],
   "source": [
    "# 95%となるxの値を求める\n",
    "dd12Df.quantile(0.95)"
   ]
  },
  {
   "cell_type": "markdown",
   "metadata": {},
   "source": [
    "<html>\n",
    "\t<h2>χ自乗分布を使かう方法</h2>\n",
    "   <p>\n",
    "       逸脱度の差$\\Delta D_{1,2}$の確率分布は、自由度１の$\\chi ^2$分布で近似できる場合があります。\n",
    "       anovaにtest=\"Chisq\"を渡してp値を計算します。\n",
    "   </p>\n",
    "\t<p>\n",
    "\t\t残念ながら、statsmodelsにはglmに対するanovaがないため、Rにデータを渡して、計算しました。\n",
    "\t\tp値は、0.034となり、同様に帰無仮説は棄却されました。（Rを使っているので、久保本と同じ結果になるのは当然です。）\n",
    "\t</p>\n",
    "</html>\n",
    "\n",
    "$\\chi ^2$分布の他に、anovaに渡す確率分布には以下のものがあります。\n",
    " - 平均の差を検定量とする場合、$t$分布\n",
    " - 分散比検定量とする場合、$F$分布\n"
   ]
  },
  {
   "cell_type": "code",
   "execution_count": 15,
   "metadata": {
    "collapsed": true
   },
   "outputs": [],
   "source": [
    "# Rにｄを渡して計算\n",
    "PandaDf2RDf(d, \"d\")"
   ]
  },
  {
   "cell_type": "code",
   "execution_count": 16,
   "metadata": {
    "collapsed": false
   },
   "outputs": [
    {
     "data": {
      "text/plain": [
       "Analysis of Deviance Table\n",
       "\n",
       "Model 1: y ~ 1\n",
       "Model 2: y ~ x\n",
       "  Resid. Df Resid. Dev Df Deviance Pr(>Chi)  \n",
       "1        99     89.507                       \n",
       "2        98     84.993  1   4.5139  0.03362 *\n",
       "---\n",
       "Signif. codes:  0 '***' 0.001 '**' 0.01 '*' 0.05 '.' 0.1 ' ' 1"
      ]
     },
     "execution_count": 16,
     "metadata": {},
     "output_type": "execute_result"
    }
   ],
   "source": [
    "# ANOVA(ANalysis Of VAriance)を使って逸脱度を調べる、Chisq（χ）でχ二乗分布近似を指定。\n",
    "r('fit1 <- glm(y ~ 1, data=d, family=poisson)')\n",
    "r('fit2 <- glm(y ~ x, data=d, family=poisson)')\n",
    "r('anova(fit1, fit2, test = \"Chisq\")')"
   ]
  },
  {
   "cell_type": "code",
   "execution_count": null,
   "metadata": {
    "collapsed": true
   },
   "outputs": [],
   "source": []
  }
 ],
 "metadata": {
  "kernelspec": {
   "display_name": "SageMath 7.2",
   "language": "",
   "name": "sagemath"
  },
  "language_info": {
   "codemirror_mode": {
    "name": "ipython",
    "version": 2
   },
   "file_extension": ".py",
   "mimetype": "text/x-python",
   "name": "python",
   "nbconvert_exporter": "python",
   "pygments_lexer": "ipython2",
   "version": "2.7.10"
  }
 },
 "nbformat": 4,
 "nbformat_minor": 0
}
