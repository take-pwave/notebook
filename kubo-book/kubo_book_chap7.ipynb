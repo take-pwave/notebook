{
 "cells": [
  {
   "cell_type": "markdown",
   "metadata": {},
   "source": [
    "<html id=\"* graph_euler_method\">\n",
    "\t<author>Hiroshi TAKEMOTO</author>\n",
    "\t(<email>take.pwave@gmail.com</email>)\n",
    "\t\n",
    "\t<h1>Sageでグラフを再現してみよう：データ解析のための統計モデリング入門第7章</h1>\n",
    "\t<p>\n",
    "\t\tこの企画は、雑誌や教科書にでているグラフをSageで再現し、\n",
    "\t\tグラフの意味を理解すると共にSageの使い方をマスターすることを目的としています。\n",
    "\t</p>\n",
    "\t<p>\n",
    "\t\t前回に続き、<a href=\"http://www.amazon.co.jp/dp/400006973X/\">データ解析のための統計モデリング入門</a>\n",
    "\t\t（以下、久保本と書きます）\n",
    "\t\tの第7章の例題をSageを使って再現してみます。\n",
    "\t</p>\n",
    "\t<p>\n",
    "\t\t久保本もようやくテーマの個体差が大きい場合の例題に入りました。今回のグラフは図7.10です。以下に久保本から引用します。\n",
    "\t</p>\n",
    "\t\t<img src=\"images/Fig7.10.png\"/>\n",
    "\t<p>\n",
    "\t\t数式処理システムSageのノートブックは、計算結果を表示するだけではなく、実際に動かすことができるのが大きな特徴です。\n",
    "\t\tこの機会にSageを分析に活用してみてはいかがでしょう。\n",
    "\t</p>\n",
    "</html>\n",
    "\n",
    "<html>\n",
    "\t<h2>前準備</h2>\n",
    "\t<p>\n",
    "\t\t最初に必要なライブラリーやパッケージをロードしておきます。\n",
    "\t</p>\n",
    "</html>"
   ]
  },
  {
   "cell_type": "code",
   "execution_count": 1,
   "metadata": {
    "collapsed": true
   },
   "outputs": [],
   "source": [
    "# RとPandasのデータフレームを相互に変換する関数を読み込む\n",
    "# Rの必要なライブラリ\n",
    "r('library(ggplot2)')\n",
    "r('library(jsonlite)')\n",
    "\n",
    "# python用のパッケージ\n",
    "import pandas as pd\n",
    "import numpy as np\n",
    "import matplotlib.pyplot as plt \n",
    "import seaborn as sns\n",
    "# statsmodelsを使ってglmを計算します\n",
    "import statsmodels.formula.api as smf\n",
    "import statsmodels.api as sm\n",
    "from scipy.stats.stats import pearsonr\n",
    "%matplotlib inline\n",
    "\n",
    "# jupyter用のdisplayメソッド\n",
    "from IPython.display import display, Latex, HTML, Math, JSON\n",
    "# sageユーティリティ\n",
    "load('script/sage_util.py')\n",
    "# Rユーティリティ\n",
    "load('script/RUtil.py')"
   ]
  },
  {
   "cell_type": "markdown",
   "metadata": {},
   "source": [
    "<html>\n",
    "\t<h2>個体差の大きなデータ</h2>\n",
    "\t<p>\n",
    "\t\t７章の例題は、個体$x_i$で観測された以下のデータを含みます。\n",
    "\t\t<ul>\n",
    "\t\t\t<li>調査種子数$N_i = 8$</li>\n",
    "\t\t\t<li>生存種子数$y_i$</li>\n",
    "\t\t\t<li>葉数$x_i$</li>\n",
    "\t\t\t<li>個体識別番号id</li>\n",
    "\t\t</ul>\n",
    "\t</p>\n",
    "</html>\n",
    "\n",
    "<html>\n",
    "\t<h3>データの特徴と可視化</h3>\n",
    "\t<p>\n",
    "\t\tいつもの通りデータを読み込み、その内容、統計情報をチェックします。\n",
    "\t</p>\n",
    "</html>"
   ]
  },
  {
   "cell_type": "code",
   "execution_count": 2,
   "metadata": {
    "collapsed": false
   },
   "outputs": [
    {
     "data": {
      "text/html": [
       "<div>\n",
       "<table border=\"1\" class=\"dataframe\">\n",
       "  <thead>\n",
       "    <tr style=\"text-align: right;\">\n",
       "      <th></th>\n",
       "      <th>N</th>\n",
       "      <th>y</th>\n",
       "      <th>x</th>\n",
       "      <th>id</th>\n",
       "    </tr>\n",
       "  </thead>\n",
       "  <tbody>\n",
       "    <tr>\n",
       "      <th>0</th>\n",
       "      <td>8</td>\n",
       "      <td>0</td>\n",
       "      <td>2</td>\n",
       "      <td>1</td>\n",
       "    </tr>\n",
       "    <tr>\n",
       "      <th>1</th>\n",
       "      <td>8</td>\n",
       "      <td>1</td>\n",
       "      <td>2</td>\n",
       "      <td>2</td>\n",
       "    </tr>\n",
       "    <tr>\n",
       "      <th>2</th>\n",
       "      <td>8</td>\n",
       "      <td>2</td>\n",
       "      <td>2</td>\n",
       "      <td>3</td>\n",
       "    </tr>\n",
       "    <tr>\n",
       "      <th>3</th>\n",
       "      <td>8</td>\n",
       "      <td>4</td>\n",
       "      <td>2</td>\n",
       "      <td>4</td>\n",
       "    </tr>\n",
       "    <tr>\n",
       "      <th>4</th>\n",
       "      <td>8</td>\n",
       "      <td>1</td>\n",
       "      <td>2</td>\n",
       "      <td>5</td>\n",
       "    </tr>\n",
       "  </tbody>\n",
       "</table>\n",
       "</div>"
      ],
      "text/plain": [
       "   N  y  x  id\n",
       "0  8  0  2   1\n",
       "1  8  1  2   2\n",
       "2  8  2  2   3\n",
       "3  8  4  2   4\n",
       "4  8  1  2   5"
      ]
     },
     "execution_count": 2,
     "metadata": {},
     "output_type": "execute_result"
    }
   ],
   "source": [
    "# 7章のデータを読み込む\n",
    "d = pd.read_csv('data/ch7_data.csv')\n",
    "d.head()"
   ]
  },
  {
   "cell_type": "code",
   "execution_count": 3,
   "metadata": {
    "collapsed": false
   },
   "outputs": [
    {
     "data": {
      "text/html": [
       "<div>\n",
       "<table border=\"1\" class=\"dataframe\">\n",
       "  <thead>\n",
       "    <tr style=\"text-align: right;\">\n",
       "      <th></th>\n",
       "      <th>N</th>\n",
       "      <th>y</th>\n",
       "      <th>x</th>\n",
       "      <th>id</th>\n",
       "    </tr>\n",
       "  </thead>\n",
       "  <tbody>\n",
       "    <tr>\n",
       "      <th>count</th>\n",
       "      <td>100.0</td>\n",
       "      <td>100.000000</td>\n",
       "      <td>100.000000</td>\n",
       "      <td>100.000000</td>\n",
       "    </tr>\n",
       "    <tr>\n",
       "      <th>mean</th>\n",
       "      <td>8.0</td>\n",
       "      <td>3.810000</td>\n",
       "      <td>4.000000</td>\n",
       "      <td>50.500000</td>\n",
       "    </tr>\n",
       "    <tr>\n",
       "      <th>std</th>\n",
       "      <td>0.0</td>\n",
       "      <td>3.070534</td>\n",
       "      <td>1.421338</td>\n",
       "      <td>29.011492</td>\n",
       "    </tr>\n",
       "    <tr>\n",
       "      <th>min</th>\n",
       "      <td>8.0</td>\n",
       "      <td>0.000000</td>\n",
       "      <td>2.000000</td>\n",
       "      <td>1.000000</td>\n",
       "    </tr>\n",
       "    <tr>\n",
       "      <th>25%</th>\n",
       "      <td>8.0</td>\n",
       "      <td>1.000000</td>\n",
       "      <td>3.000000</td>\n",
       "      <td>25.750000</td>\n",
       "    </tr>\n",
       "    <tr>\n",
       "      <th>50%</th>\n",
       "      <td>8.0</td>\n",
       "      <td>3.000000</td>\n",
       "      <td>4.000000</td>\n",
       "      <td>50.500000</td>\n",
       "    </tr>\n",
       "    <tr>\n",
       "      <th>75%</th>\n",
       "      <td>8.0</td>\n",
       "      <td>7.000000</td>\n",
       "      <td>5.000000</td>\n",
       "      <td>75.250000</td>\n",
       "    </tr>\n",
       "    <tr>\n",
       "      <th>max</th>\n",
       "      <td>8.0</td>\n",
       "      <td>8.000000</td>\n",
       "      <td>6.000000</td>\n",
       "      <td>100.000000</td>\n",
       "    </tr>\n",
       "  </tbody>\n",
       "</table>\n",
       "</div>"
      ],
      "text/plain": [
       "           N           y           x          id\n",
       "count  100.0  100.000000  100.000000  100.000000\n",
       "mean     8.0    3.810000    4.000000   50.500000\n",
       "std      0.0    3.070534    1.421338   29.011492\n",
       "min      8.0    0.000000    2.000000    1.000000\n",
       "25%      8.0    1.000000    3.000000   25.750000\n",
       "50%      8.0    3.000000    4.000000   50.500000\n",
       "75%      8.0    7.000000    5.000000   75.250000\n",
       "max      8.0    8.000000    6.000000  100.000000"
      ]
     },
     "execution_count": 3,
     "metadata": {},
     "output_type": "execute_result"
    }
   ],
   "source": [
    "d.describe()"
   ]
  },
  {
   "cell_type": "markdown",
   "metadata": {},
   "source": [
    "<html>\n",
    "\t<h3>同じ点に重なるデータの可視化</h3>\n",
    "\t<p>\n",
    "\t\tプロットデータを見ると、とても１００個のデータがあるようには見えません。\n",
    "\t\tこれは、種子数・葉数が整数で同じ点に複数のデータが重なっているからです。\n",
    "\t</p>\n",
    "</html>"
   ]
  },
  {
   "cell_type": "code",
   "execution_count": 4,
   "metadata": {
    "collapsed": false
   },
   "outputs": [
    {
     "data": {
      "image/png": "[encoded data removed]",
      "text/plain": [
       "<matplotlib.figure.Figure object at 0x7f22b10d94d0>"
      ]
     },
     "metadata": {},
     "output_type": "display_data"
    }
   ],
   "source": [
    "sns.lmplot('x', 'y', data=d,  fit_reg=False)\n",
    "plt.show()"
   ]
  },
  {
   "cell_type": "markdown",
   "metadata": {},
   "source": [
    "lmplotのx_jitter, y_jitterに揺れ（jitter)の量をセットすると、重なっている点がずれてプロットされます。"
   ]
  },
  {
   "cell_type": "code",
   "execution_count": 5,
   "metadata": {
    "collapsed": false
   },
   "outputs": [
    {
     "data": {
      "image/png": "[encoded data removed]",
      "text/plain": [
       "<matplotlib.figure.Figure object at 0x7f229387a450>"
      ]
     },
     "metadata": {},
     "output_type": "display_data"
    }
   ],
   "source": [
    "# jitterを使って同じポイントに重ならないようにする\n",
    "sns.lmplot('x', 'y', data=d,  fit_reg=False, x_jitter=0.2, y_jitter=0.05 )\n",
    "plt.show()"
   ]
  },
  {
   "cell_type": "markdown",
   "metadata": {},
   "source": [
    "<html>\n",
    "\t<h3>GLMを使った分析</h3>\n",
    "\t<p>\n",
    "\t\tこのデータを６章と同じようにGLMで分析してみます。\n",
    "\t\t予測値は直線となっており、６章のようなロジスティック曲線にはなっていません。\n",
    "\t</p>\n",
    "</html>"
   ]
  },
  {
   "cell_type": "code",
   "execution_count": 6,
   "metadata": {
    "collapsed": false
   },
   "outputs": [],
   "source": [
    "# Rにdを渡す\n",
    "PandaDf2RDf(d, \"d\")"
   ]
  },
  {
   "cell_type": "code",
   "execution_count": 7,
   "metadata": {
    "collapsed": false
   },
   "outputs": [
    {
     "data": {
      "text/plain": [
       "\n",
       "Call:\n",
       "glm(formula = cbind(y, N - y) ~ x, family = binomial, data = d)\n",
       "\n",
       "Deviance Residuals: \n",
       "    Min       1Q   Median       3Q      Max  \n",
       "-4.4736  -2.1182  -0.5505   2.3097   4.0966  \n",
       "\n",
       "Coefficients:\n",
       "            Estimate Std. Error z value Pr(>|z|)    \n",
       "(Intercept)  -2.1487     0.2372  -9.057   <2e-16 ***\n",
       "x             0.5104     0.0556   9.179   <2e-16 ***\n",
       "---\n",
       "Signif. codes:  0 '***' 0.001 '**' 0.01 '*' 0.05 '.' 0.1 ' ' 1\n",
       "\n",
       "(Dispersion parameter for binomial family taken to be 1)\n",
       "\n",
       "    Null deviance: 607.42  on 99  degrees of freedom\n",
       "Residual deviance: 513.84  on 98  degrees of freedom\n",
       "AIC: 649.61\n",
       "\n",
       "Number of Fisher Scoring iterations: 4\n"
      ]
     },
     "execution_count": 7,
     "metadata": {},
     "output_type": "execute_result"
    }
   ],
   "source": [
    "# 通常のGLMを使って解析\n",
    "r('fit <- glm(cbind(y, N - y) ~ x , data=d, family=binomial)')\n",
    "r('summary(fit)')"
   ]
  },
  {
   "cell_type": "code",
   "execution_count": 8,
   "metadata": {
    "collapsed": false
   },
   "outputs": [
    {
     "data": {
      "image/png": "[encoded data removed]",
      "text/plain": [
       "<wand.image.Image: dc8815d 'PDF' (504x504)>"
      ]
     },
     "execution_count": 8,
     "metadata": {},
     "output_type": "execute_result"
    }
   ],
   "source": [
    "graph = preGraph(\"images/fig7.3-R.pdf\")\n",
    "r('p <- ggplot(d, aes(x=x, y=y) )+ geom_point(position=position_jitter(width=.2, height=0), shape=21, size=2.5) + geom_line(aes(x=x, y=8*fit$fitted.values))')\n",
    "r('plot(p)')\n",
    "postGraph(graph)"
   ]
  },
  {
   "cell_type": "markdown",
   "metadata": {},
   "source": [
    "<html>\n",
    "\t<p>\n",
    "\t\t久保本に従い、$x_i = 4$のデータを抽出し、そのヒストグラムとGLMから推定された\n",
    "\t\t二項分布を表示してみましょう。\n",
    "\t</p>\n",
    "\t<p>\n",
    "\t\t以下の様にPandasの抽出機能を使ってx=4のデータを取り出し、頻度を求めます。\n",
    "\t\tこれにロジスティック_logisticと二項分布_pの２つの関数を定義します。\n",
    "\t</p>\n",
    "</html>"
   ]
  },
  {
   "cell_type": "code",
   "execution_count": 9,
   "metadata": {
    "collapsed": false
   },
   "outputs": [
    {
     "name": "stdout",
     "output_type": "stream",
     "text": [
      "y\n",
      "0    3\n",
      "1    1\n",
      "2    4\n",
      "3    2\n",
      "4    1\n",
      "5    1\n",
      "6    2\n",
      "7    3\n",
      "8    3\n",
      "dtype: int64\n"
     ]
    }
   ],
   "source": [
    "tbl4 = d[d.x==4].groupby('y').size()\n",
    "tbl4_lst = zip(tbl4.index, tbl4.tolist())\n",
    "print tbl4"
   ]
  },
  {
   "cell_type": "code",
   "execution_count": 10,
   "metadata": {
    "collapsed": true
   },
   "outputs": [],
   "source": [
    "# ロジスティック関数の定義\n",
    "def _logistic(z):\n",
    "    return 1/(1 + exp(-z))"
   ]
  },
  {
   "cell_type": "code",
   "execution_count": 11,
   "metadata": {
    "collapsed": true
   },
   "outputs": [],
   "source": [
    "# 二項分布を定義\n",
    "def _p(q, y, N):\n",
    "    return binomial(N, y)*q^y*(1-q)^(N-y)"
   ]
  },
  {
   "cell_type": "markdown",
   "metadata": {},
   "source": [
    "<html>\n",
    "\t<p>\n",
    "\t\tGLMで求まったモデルを使って、x=4でのqの値をロジスティック関数から求めます。\n",
    "\t</p>\n",
    "\t<p>\n",
    "\t\tx=4での種子数分布（青点）と推定された二項分布（_p関数の値）にデータ数（tbl4.sum()=20）を掛けた値が、\n",
    "\t\t推定された種子数になります。\n",
    "\t</p>\n",
    "\t<p>\n",
    "\t\tこのグラフからは、推定された種子数は、観測された種子数を説明しているように思えません。\n",
    "\t\t久保本の説明では、$x_i = 4$の生存種子数の平均と分散を求めてみると、平均4.05に対して、\n",
    "\t\t分散は8.37と大きく、二項分布の分散$N p (1-p)$から期待される値$8\\times0.5\\times(1-0.5)=2$と\n",
    "\t\t比べて４倍ほど大きな値となっています。久保本ではこの状態を「ばらつきが大きすぎる」過分散と呼んでいます。\n",
    "\t</p>\n",
    "</html>"
   ]
  },
  {
   "cell_type": "code",
   "execution_count": 12,
   "metadata": {
    "collapsed": false
   },
   "outputs": [
    {
     "name": "stdout",
     "output_type": "stream",
     "text": [
      "0.472527695655406\n"
     ]
    }
   ],
   "source": [
    "# x=4での生存確率qを求める\n",
    "q =  _logistic(-2.15+0.51*4)\n",
    "print q"
   ]
  },
  {
   "cell_type": "code",
   "execution_count": 13,
   "metadata": {
    "collapsed": false
   },
   "outputs": [
    {
     "data": {
      "image/png": "[encoded data removed]",
      "text/plain": [
       "Graphics object consisting of 2 graphics primitives"
      ]
     },
     "metadata": {},
     "output_type": "display_data"
    }
   ],
   "source": [
    "lst_plt = list_plot(tbl4_lst, zorder=2)\n",
    "prd_plt = list_plot([_p(q, y, 8)*tbl4.sum() for y in (0..8)], plotjoined=True, rgbcolor=\"red\")\n",
    "(lst_plt + prd_plt).show(figsize=4)"
   ]
  },
  {
   "cell_type": "code",
   "execution_count": 14,
   "metadata": {
    "collapsed": false
   },
   "outputs": [
    {
     "name": "stdout",
     "output_type": "stream",
     "text": [
      "4.05 8.36578947368\n"
     ]
    }
   ],
   "source": [
    "# x = 4 の平均と分散を求める（平均に対して分散が大きいことが分かる）\n",
    "d4 = d[d.x==4]\n",
    "print d4.y.mean(), d4.y.var()"
   ]
  },
  {
   "cell_type": "code",
   "execution_count": 15,
   "metadata": {
    "collapsed": false
   },
   "outputs": [
    {
     "name": "stdout",
     "output_type": "stream",
     "text": [
      "1.99396217995198\n"
     ]
    }
   ],
   "source": [
    "# 二項分布から期待されている分散は２なので、8.4はかなり大きい\n",
    "N = 8\n",
    "vr = N*q*(1-q) \n",
    "print vr"
   ]
  },
  {
   "cell_type": "markdown",
   "metadata": {},
   "source": [
    "<html>\n",
    "\t<h2>一般化線形混合分布（GLMM）を使った分析</h2>\n",
    "\t<p>\n",
    "\t\t個体差を考慮した分析手法として一般化線形混合分布（GLMM）が出てきます。\n",
    "\t</p>\n",
    "\t<p>\n",
    "\t\tここでは、個体$i$の個体差を$r_i$とし、以下の様なリンク関数を定義します。\n",
    "$$\n",
    "\t\tlogit(q_i) = \\beta_1 + \\beta_2 x_i + r_i\n",
    "$$\t\t\n",
    "\t</p>\n",
    "\t<p>\n",
    "\t\tここで$r_i$をどのような分布にするかですが、久保本では平均０，分散$s$の正規分布と\n",
    "\t\tしています。（統計モデルとして便利だからと理由です）\n",
    "\t</p>\n",
    "\t<p>\n",
    "\t\tglmmMLを使った分析では、個体毎に異なる独立パラメータをclusterオプションで指定します。\n",
    "\t\tここでは、idが個体を識別する指標として使われています。\n",
    "\t</p>\n",
    "</html>"
   ]
  },
  {
   "cell_type": "code",
   "execution_count": 16,
   "metadata": {
    "collapsed": false
   },
   "outputs": [
    {
     "data": {
      "text/plain": [
       " [1] \"glmmML\"    \"jsonlite\"  \"ggplot2\"   \"stats\"     \"graphics\"  \"grDevices\" \"utils\"     \"datasets\" \n",
       " [9] \"methods\"   \"base\"     "
      ]
     },
     "execution_count": 16,
     "metadata": {},
     "output_type": "execute_result"
    }
   ],
   "source": [
    "#r(\"install.packages('glmmML')\")\n",
    "r('library(glmmML)')"
   ]
  },
  {
   "cell_type": "code",
   "execution_count": 17,
   "metadata": {
    "collapsed": false
   },
   "outputs": [
    {
     "data": {
      "text/plain": [
       "\n",
       "Call:  glmmML(formula = cbind(y, N - y) ~ x, family = binomial, data = d,      cluster = id) \n",
       "\n",
       "\n",
       "              coef se(coef)      z Pr(>|z|)\n",
       "(Intercept) -4.190   0.8777 -4.774 1.81e-06\n",
       "x            1.005   0.2075  4.843 1.28e-06\n",
       "\n",
       "Scale parameter in mixing distribution:  2.408 gaussian \n",
       "Std. Error:                              0.2202 \n",
       "\n",
       "        LR p-value for H_0: sigma = 0:  2.136e-55 \n",
       "\n",
       "Residual deviance: 269.4 on 97 degrees of freedom \tAIC: 275.4 "
      ]
     },
     "execution_count": 17,
     "metadata": {},
     "output_type": "execute_result"
    }
   ],
   "source": [
    "# python版ではない、R一般線形混合モデルGLMMを使う\n",
    "# 個体差は、平均０の分散sの正規分布に従うと仮定して先の問題を扱う\n",
    "r('fit <- glmmML(cbind(y, N - y) ~ x, data = d, family = binomial, cluster = id)')"
   ]
  },
  {
   "cell_type": "markdown",
   "metadata": {},
   "source": [
    "<html>\n",
    "\t<h3>結果の可視化</h3>\n",
    "\t<p>\n",
    "\t\tGLMとの違いは、分析結果から予測される二項分布を見ると明らかです。\n",
    "\t\tGLMのようなfitted.valuesがGLMMにはないので、分析結果の二項分布をmyfuncで定義して、\n",
    "\t\tstat_function使ってプロットしてみました。\n",
    "\t</p>\n",
    "\t<p>\n",
    "\t\tきれいに二項分布が表示されました。（これが図7.10の(A)）\n",
    "\t</p>\n",
    "</html>"
   ]
  },
  {
   "cell_type": "code",
   "execution_count": 18,
   "metadata": {
    "collapsed": false
   },
   "outputs": [
    {
     "data": {
      "image/png": "[encoded data removed]",
      "text/plain": [
       "<wand.image.Image: ae0ca42 'PDF' (504x504)>"
      ]
     },
     "execution_count": 18,
     "metadata": {},
     "output_type": "execute_result"
    }
   ],
   "source": [
    "# 結果からロジスティック関数をmyfunc <- 1/(1 + exp(-(-4.190 + 1.005*z))*Nで定義\n",
    "r('myfunc <- function(z) { 8*(1/(1 + exp(-(-4.190 + 1.005*z))))}')\n",
    "# 結果をプロット\n",
    "graph = preGraph(\"images/fig7.10-R.pdf\")\n",
    "r('p <- ggplot(d, aes(x=x, y=y) )+ geom_point(position=position_jitter(width=.2, height=0), shape=21, size=2.5) + stat_function(fun=myfunc)')\n",
    "r('plot(p)')\n",
    "postGraph(graph)"
   ]
  },
  {
   "cell_type": "markdown",
   "metadata": {},
   "source": [
    "<html>\n",
    "\t<h3>$r_i$の分布</h3>\n",
    "\t<p>\n",
    "\t\tもう一つGLMMから求められた$r_i$の正規分布をプロットすると以下の様になります。\n",
    "\t\t-10, 10ではほぼ０になっています。\n",
    "\t</p>\n",
    "</html>"
   ]
  },
  {
   "cell_type": "code",
   "execution_count": 19,
   "metadata": {
    "collapsed": false
   },
   "outputs": [
    {
     "data": {
      "image/png": "[encoded data removed]",
      "text/plain": [
       "Graphics object consisting of 1 graphics primitive"
      ]
     },
     "execution_count": 19,
     "metadata": {},
     "output_type": "execute_result"
    }
   ],
   "source": [
    "# σ=2.4の正規分布\n",
    "T = RealDistribution('gaussian', 2.4, seed=100)\n",
    "plot(lambda x : T.distribution_function(x), [x, -10, 10], figsize=4)"
   ]
  },
  {
   "cell_type": "markdown",
   "metadata": {},
   "source": [
    "<html>\n",
    "\t<h3>GLMMから求められた尤度</h3>\n",
    "\t<p>\n",
    "\t\t個体毎の尤度$L_i$は、以下の様に$r_i$を積分して求めることができます。\n",
    "$$\n",
    "\t\tL_i = \\int_{-\\infty}^{\\infty} p(y_i | \\beta_1, \\beta_2, r_i) p(r_i | s) dr_i\n",
    "$$\t\t\n",
    "\t</p>\n",
    "\t<p>\n",
    "\t\tGLMMの結果からqを求める関数_qを定義し、上記の積分をSageの数値積分を使って計算する関数_Liを以下の様に\n",
    "\t\t作りました。rの積分範囲は、sの分布から-10から10としました。\n",
    "\t</p>\n",
    "\t<p>\n",
    "\t\tチェックのために、久保本図7.8にあるx=4, r={-2.20, -0.60, 1.00, 2.60}のqの値と、\n",
    "\t\ty={0, 4, 7}の尤度$L_i$を出力してみました。\n",
    "\t</p>\n",
    "\t<p>\n",
    "\t\t最後に、Liに20（個体数）を掛けた分布をx=4のヒストグラムに重ね合わせてみました。\n",
    "\t\tきれいに、図7.10(B)の通り、生存種子数を表現できているのが分かります。\n",
    "\t</p>\n",
    "\t<p>\n",
    "\t\tこのような積分を含む処理でも数式処理システムSageを使えば簡単に分析できるのが、\n",
    "\t\tご理解頂けたと思います。\n",
    "\t</p>\n",
    "</html>"
   ]
  },
  {
   "cell_type": "code",
   "execution_count": 20,
   "metadata": {
    "collapsed": true
   },
   "outputs": [],
   "source": [
    "# 回帰分析の結果からqを求める\n",
    "def _q(x, r):\n",
    "    return _logistic(-4.190 + 1.005*x + r)\n",
    "# 指定されたyの尤度を求める(上記分布から積分範囲は-10から10とした)\n",
    "def _Li(y):\n",
    "    return numerical_integral(lambda r: _p(_q(4, r), y, 8)*T.distribution_function(r), -10, 10)[0]"
   ]
  },
  {
   "cell_type": "code",
   "execution_count": 21,
   "metadata": {
    "collapsed": false
   },
   "outputs": [
    {
     "data": {
      "text/plain": [
       "(0.0854891394348065, 0.316479106263684, 0.696354929823834, 0.919086532784535)"
      ]
     },
     "execution_count": 21,
     "metadata": {},
     "output_type": "execute_result"
    }
   ],
   "source": [
    "_q(4, -2.2), _q(4, -0.6), _q(4, 1.0), _q(4, 2.6)"
   ]
  },
  {
   "cell_type": "code",
   "execution_count": 22,
   "metadata": {
    "collapsed": false
   },
   "outputs": [
    {
     "data": {
      "text/plain": [
       "(0.18814448426796998, 0.07913801041038665, 0.10840844640974827)"
      ]
     },
     "execution_count": 22,
     "metadata": {},
     "output_type": "execute_result"
    }
   ],
   "source": [
    "_Li(0), _Li(4), _Li(7)"
   ]
  },
  {
   "cell_type": "code",
   "execution_count": 23,
   "metadata": {
    "collapsed": false
   },
   "outputs": [
    {
     "data": {
      "image/png": "[encoded data removed]",
      "text/plain": [
       "Graphics object consisting of 2 graphics primitives"
      ]
     },
     "metadata": {},
     "output_type": "display_data"
    }
   ],
   "source": [
    "prd2_plt = list_plot([_Li(x)*20 for x in range(9)], plotjoined=True, rgbcolor=\"red\")\n",
    "(lst_plt + prd2_plt).show(figsize=4)"
   ]
  },
  {
   "cell_type": "code",
   "execution_count": null,
   "metadata": {
    "collapsed": true
   },
   "outputs": [],
   "source": []
  }
 ],
 "metadata": {
  "kernelspec": {
   "display_name": "SageMath 7.2",
   "language": "",
   "name": "sagemath"
  },
  "language_info": {
   "codemirror_mode": {
    "name": "ipython",
    "version": 2
   },
   "file_extension": ".py",
   "mimetype": "text/x-python",
   "name": "python",
   "nbconvert_exporter": "python",
   "pygments_lexer": "ipython2",
   "version": "2.7.10"
  }
 },
 "nbformat": 4,
 "nbformat_minor": 0
}
