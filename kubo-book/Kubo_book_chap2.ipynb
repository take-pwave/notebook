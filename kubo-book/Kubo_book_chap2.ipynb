{
 "cells": [
  {
   "cell_type": "markdown",
   "metadata": {},
   "source": [
    "<html id=\"* graph_euler_method\">\n",
    "\t<author>Hiroshi TAKEMOTO</author>\n",
    "\t(<email>take.pwave@gmail.com</email>)\n",
    "\t\n",
    "\t<h1>Sageでグラフを再現してみよう：データ解析のための統計モデリング入門第２章</h1>\n",
    "\t<p>\n",
    "\t\tこの企画は、雑誌や教科書にでているグラフをSageで再現し、\n",
    "\t\tグラフの意味を理解すると共にSageの使い方をマスターすることを目的としています。\n",
    "\t</p>\n",
    "\t<p>\n",
    "\t\t今回は、<a href=\"http://www.amazon.co.jp/dp/400006973X/\">データ解析のための統計モデリング入門</a>\n",
    "\t\t（以下、久保本と書きます）\n",
    "\t\tの第２章の例題をSageを使って再現してみます。久保氏のブログは、WinBUGSの使い方などでよく拝見していましたが、\n",
    "\t\t「データ解析のための統計モデリング入門」は自然科学を学ぶすべての人に薦めたい一冊です。まさに目から鱗の塊です。\n",
    "\t</p>\n",
    "\t<p>\n",
    "\t\t数式処理システムSageのノートブックは、計算結果を表示するだけではなく、実際に動かすことができるの大きな特徴です。\n",
    "\t\tこの機会にSageを分析に活用してみてはいかがでしょう。\n",
    "\t</p>\n",
    "</html>\n"
   ]
  },
  {
   "cell_type": "markdown",
   "metadata": {},
   "source": [
    "<html>\n",
    "<h2>お詫び</h2>\n",
    "<p>\n",
    "これまで、Rのggplot2をpythonに移植しているggplotを前面にデータの可視化に使ってきましたが、\n",
    "ヒストグラムの品質が改善されないため、可視化は以下の様な方向で行うことにします。\n",
    "<ul>\n",
    "<li>sageで表現できるものはsageを使う</li>\n",
    "<li>その次に、pandasで試す</li>\n",
    "<li>可能ならseabornを試す</li>\n",
    "<li>それでもだめなら、Rのggplot2に渡す</li>\n",
    "</ul>\n",
    "</p>\n",
    "</html>"
   ]
  },
  {
   "cell_type": "markdown",
   "metadata": {},
   "source": [
    "<html>\n",
    "\t<h2>前準備</h2>\n",
    "\t<p>\n",
    "\t\t最初に必要なライブラリーやパッケージをロードしておきます。jupyter用に新しくなったRUtil.pyも使います。\n",
    "\t</p>\n",
    "</html>"
   ]
  },
  {
   "cell_type": "code",
   "execution_count": 1,
   "metadata": {
    "collapsed": false
   },
   "outputs": [
    {
     "data": {
      "text/html": [
       "<link rel=\"stylesheet\" type=\"text/css\" href=\"css/sage_table_form.css\">"
      ],
      "text/plain": [
       "<IPython.core.display.HTML object>"
      ]
     },
     "metadata": {},
     "output_type": "display_data"
    }
   ],
   "source": [
    "%%HTML\n",
    "<link rel=\"stylesheet\" type=\"text/css\" href=\"css/sage_table_form.css\">"
   ]
  },
  {
   "cell_type": "markdown",
   "metadata": {},
   "source": [
    "seabonをインポートするだけで、sageのプロットの様相（スタイル）ががらりと変わります。"
   ]
  },
  {
   "cell_type": "code",
   "execution_count": 1,
   "metadata": {
    "collapsed": false
   },
   "outputs": [],
   "source": [
    "# RとPandasのデータフレームを相互に変換する関数を読み込む\n",
    "# Rの必要なライブラリ\n",
    "r('library(ggplot2)')\n",
    "r('library(jsonlite)')\n",
    "\n",
    "# python用のパッケージ\n",
    "import pandas as pd\n",
    "import numpy as np\n",
    "import matplotlib.pyplot as plt \n",
    "import seaborn as sns\n",
    "%matplotlib inline\n",
    "\n",
    "# jupyter用のdisplayメソッド\n",
    "from IPython.display import display, Latex, HTML, Math, JSON\n",
    "# sageユーティリティ\n",
    "load('script/sage_util.py')\n",
    "# Rユーティリティ\n",
    "load('script/RUtil.py')"
   ]
  },
  {
   "cell_type": "markdown",
   "metadata": {},
   "source": [
    "<html>\n",
    "\t<h2>例題のデータ</h2>\n",
    "\t<p>\n",
    "\t\t2章の例題に使われているデータは、架空の植物の第i番目の個体の種子数$y_i$を扱っています。\n",
    "\t\t本の図２．１を以下に引用します。\n",
    "\t</p>\n",
    "\t<p>\n",
    "\t\t<img src=\"data/Fig2.1.png\"/>\n",
    "\t</p>\n",
    "\t<p>\n",
    "\t\t2章のデータは、ネット公開されており、<a href=\"http://hosho.ees.hokudai.ac.jp/~kubo/ce/IwanamiBook.html\">本のサポートサイト</a>からダウンロードできます。\n",
    "\t\tここでは、dataディレクトリにdata.RDataをセットし、このノートブックで参照できるようにしました。\t\n",
    "\t</p>\n",
    "\t<p>\n",
    "\t\tデータをロードしたら、summary関数とvar関数を使ってデータの素性を確認します。\n",
    "\t\tここで、確認することは、以下の3項目です。\n",
    "\t\t<ul>\n",
    "\t\t\t<li>データの個数と欠損値の有無</li>\n",
    "\t\t\t<li>デーアットの平均</li>\n",
    "\t\t\t<li>データの分散</li>\n",
    "\t\t</ul>\n",
    "\t</p>\n",
    "</html>"
   ]
  },
  {
   "cell_type": "code",
   "execution_count": 3,
   "metadata": {
    "collapsed": false
   },
   "outputs": [
    {
     "name": "stdout",
     "output_type": "stream",
     "text": [
      "   Min. 1st Qu.  Median    Mean 3rd Qu.    Max. \n",
      "   0.00    2.00    3.00    3.56    4.75    7.00 \n",
      "[1] 2.986122\n"
     ]
    }
   ],
   "source": [
    "# 2章のデータdata.RDataをダウンロードし、Rにロードする\n",
    "r('load(\"data/data.RData\")')\n",
    "# summaryで平均と分散が大体同じであることがポアソン分布の特徴\n",
    "print r('summary(data)')\n",
    "print r('var(data)')\n"
   ]
  },
  {
   "cell_type": "markdown",
   "metadata": {},
   "source": [
    "<html>\n",
    "\t<h3>データの可視化</h3>\n",
    "\t<p>\n",
    "\t\tデータの分布を見るには、Rのtable関数を使って度数分布を計算すると便利です。またグラフに表示するときには、hist関数を使用します。\n",
    "\t</p>\n",
    "</html>"
   ]
  },
  {
   "cell_type": "code",
   "execution_count": 4,
   "metadata": {
    "collapsed": false
   },
   "outputs": [
    {
     "data": {
      "text/plain": [
       "data\n",
       " 0  1  2  3  4  5  6  7 \n",
       " 1  3 11 12 10  5  4  4 "
      ]
     },
     "execution_count": 4,
     "metadata": {},
     "output_type": "execute_result"
    }
   ],
   "source": [
    "# 度数分布を計算\n",
    "r('table(data)')"
   ]
  },
  {
   "cell_type": "code",
   "execution_count": 5,
   "metadata": {
    "collapsed": false
   },
   "outputs": [
    {
     "data": {
      "image/png": "[encoded data removed]",
      "text/plain": [
       "<wand.image.Image: 156fdb6 'PDF' (504x504)>"
      ]
     },
     "execution_count": 5,
     "metadata": {},
     "output_type": "execute_result"
    }
   ],
   "source": [
    "# Rのhistを使ってヒストグラムをプロットする\n",
    "graph = preGraph(\"images/ch2_fig2.2-R.pdf\")\n",
    "r('p <- hist(data, breaks = seq(-0.5, 9.5, 1))')\n",
    "postGraph(graph)"
   ]
  },
  {
   "cell_type": "markdown",
   "metadata": {},
   "source": [
    "<html>\n",
    "\t<h2>Pandasを使って同様の処理に挑戦</h2>\n",
    "\t<p>\n",
    "\t\tRのライブラリはとても豊富で実績もありますが、個人的には関数の定義が分かりずらいのであまり好きではありません。\n",
    "\t</p>\n",
    "\t<p>\n",
    "\t\tそこで、SageにPandasライブラリをインストールして、これを使って同じような処理をしてみました。\n",
    "\t</p>\n",
    "\t<p>\n",
    "\t\tRから配列データを取り出すには、sageobj関数を使います。\n",
    "\t</p>\n",
    "</html>"
   ]
  },
  {
   "cell_type": "code",
   "execution_count": 6,
   "metadata": {
    "collapsed": true
   },
   "outputs": [],
   "source": [
    "# 同様の処理をPandasを使ってやってみます\n",
    "# rからSageにデータを変換\n",
    "data = sageobj(r('data'))"
   ]
  },
  {
   "cell_type": "markdown",
   "metadata": {},
   "source": [
    "<html>\n",
    "\t<h3>データフレームに変換</h3>\n",
    "\t<p>\n",
    "\t\tRから取り込んだ2章のデータをPandasのデータフレームにします。\n",
    "\t</p>\n",
    "</html>"
   ]
  },
  {
   "cell_type": "code",
   "execution_count": 7,
   "metadata": {
    "collapsed": true
   },
   "outputs": [],
   "source": [
    "# ggplotでプロットできるようにDataFrameにする\n",
    "orgData = pd.DataFrame(data, columns = ['data'])"
   ]
  },
  {
   "cell_type": "markdown",
   "metadata": {},
   "source": [
    "<html>\n",
    "\t<p>\n",
    "\t\tデータフレームにしたorgDataからRのsummaryと同様の情報をdescribeを使って得ることができます。\n",
    "\t</p>\n",
    "</html>"
   ]
  },
  {
   "cell_type": "code",
   "execution_count": 8,
   "metadata": {
    "collapsed": false
   },
   "outputs": [
    {
     "data": {
      "text/html": [
       "<div>\n",
       "<table border=\"1\" class=\"dataframe\">\n",
       "  <thead>\n",
       "    <tr style=\"text-align: right;\">\n",
       "      <th></th>\n",
       "      <th>data</th>\n",
       "    </tr>\n",
       "  </thead>\n",
       "  <tbody>\n",
       "    <tr>\n",
       "      <th>count</th>\n",
       "      <td>50.00000</td>\n",
       "    </tr>\n",
       "    <tr>\n",
       "      <th>mean</th>\n",
       "      <td>3.56000</td>\n",
       "    </tr>\n",
       "    <tr>\n",
       "      <th>std</th>\n",
       "      <td>1.72804</td>\n",
       "    </tr>\n",
       "    <tr>\n",
       "      <th>min</th>\n",
       "      <td>0.00000</td>\n",
       "    </tr>\n",
       "    <tr>\n",
       "      <th>25%</th>\n",
       "      <td>2.00000</td>\n",
       "    </tr>\n",
       "    <tr>\n",
       "      <th>50%</th>\n",
       "      <td>3.00000</td>\n",
       "    </tr>\n",
       "    <tr>\n",
       "      <th>75%</th>\n",
       "      <td>4.75000</td>\n",
       "    </tr>\n",
       "    <tr>\n",
       "      <th>max</th>\n",
       "      <td>7.00000</td>\n",
       "    </tr>\n",
       "  </tbody>\n",
       "</table>\n",
       "</div>"
      ],
      "text/plain": [
       "           data\n",
       "count  50.00000\n",
       "mean    3.56000\n",
       "std     1.72804\n",
       "min     0.00000\n",
       "25%     2.00000\n",
       "50%     3.00000\n",
       "75%     4.75000\n",
       "max     7.00000"
      ]
     },
     "execution_count": 8,
     "metadata": {},
     "output_type": "execute_result"
    }
   ],
   "source": [
    "# RのsummaryのようにPandasのDataFrameの情報を出力するには、describeを使います\n",
    "orgData.describe()"
   ]
  },
  {
   "cell_type": "markdown",
   "metadata": {},
   "source": [
    "<html>\n",
    "\t<h3>Sageのヒストグラムを表示</h3>\n",
    "\t<p>\n",
    "\t\tようやくSageにもhistogram関数が用意されたので、これを使ってみます。\n",
    "\t</p>\n",
    "</html>"
   ]
  },
  {
   "cell_type": "code",
   "execution_count": 9,
   "metadata": {
    "collapsed": false
   },
   "outputs": [
    {
     "data": {
      "image/png": "[encoded data removed]",
      "text/plain": [
       "Graphics object consisting of 1 graphics primitive"
      ]
     },
     "metadata": {},
     "output_type": "display_data"
    }
   ],
   "source": [
    "hist_plt = histogram(orgData.data, bins= 8, figsize=4)\n",
    "hist_plt.show()"
   ]
  },
  {
   "cell_type": "markdown",
   "metadata": {},
   "source": [
    "<html>\n",
    "\t<h2>ポアソン分布の表示</h2>\n",
    "\t<p>\n",
    "\t\tデータのsummaryで平均値と分散が同じ値を示すことからデータ分布をポアソン分布と推定しています。\n",
    "\t</p>\n",
    "\t<p>\n",
    "\t\tポアソン分布では、データの平均がポアソン分布のλの値になることから、データの平均3.56のポアソン分布\n",
    "\t\tを表示してみます。\n",
    "\t</p>\n",
    "\t<p>\n",
    "\t\tyに０から9の値をセットし、r.dpoisでSageからRのdpoisを使って、Yに対するポアソン密度を計算し、その値（n()）を浮動小数に変換して\n",
    "\t\tprobにセットします。\n",
    "\t</p>\n",
    "</html>"
   ]
  },
  {
   "cell_type": "code",
   "execution_count": 10,
   "metadata": {
    "collapsed": false
   },
   "outputs": [
    {
     "data": {
      "text/plain": [
       "[0, 1, 2, 3, 4, 5, 6, 7, 8, 9]"
      ]
     },
     "execution_count": 10,
     "metadata": {},
     "output_type": "execute_result"
    }
   ],
   "source": [
    "y = range(10); y"
   ]
  },
  {
   "cell_type": "code",
   "execution_count": 11,
   "metadata": {
    "collapsed": false
   },
   "outputs": [
    {
     "data": {
      "text/plain": [
       "[1.4219412357092251,\n",
       " 5.0621107991248495,\n",
       " 9.0105572224422,\n",
       " 10.69252790396475,\n",
       " 9.51634983452865,\n",
       " 6.7756410821844,\n",
       " 4.02021370876274,\n",
       " 2.0445658290279103,\n",
       " 0.90983179391742,\n",
       " 0.35988902070511203]"
      ]
     },
     "execution_count": 11,
     "metadata": {},
     "output_type": "execute_result"
    }
   ],
   "source": [
    "# dpoisの戻り値が複素数になっているので、floatで浮動小数に変換し、50個の場合の確率にする\n",
    "prob = [50*float(sageobj(r.dpois(v, 3.56))) for v in y]; prob"
   ]
  },
  {
   "cell_type": "markdown",
   "metadata": {},
   "source": [
    "<html>\n",
    "\t<h3>ポアソン分布をプロットする</h3>\n",
    "\t<p>\n",
    "\t\tSageのlist_plotを使ってλ=3.56に対するポアソン分布をプロットします。\n",
    "\t</p>\n",
    "</html>"
   ]
  },
  {
   "cell_type": "code",
   "execution_count": 12,
   "metadata": {
    "collapsed": false,
    "scrolled": true
   },
   "outputs": [
    {
     "data": {
      "image/png": "[encoded data removed]",
      "text/plain": [
       "Graphics object consisting of 1 graphics primitive"
      ]
     },
     "metadata": {},
     "output_type": "display_data"
    }
   ],
   "source": [
    "# Sage版 Fig. 2.4\n",
    "list_plt = list_plot(zip(y, prob), rgbcolor='red', zorder=2, figsize=4)\n",
    "list_plt.show()"
   ]
  },
  {
   "cell_type": "markdown",
   "metadata": {},
   "source": [
    "<html>\n",
    "<p>\n",
    "sageのグラフの重ね合わせ機能を使って、 ヒストグラムとポアソン分布を重ねて表示してみます。\n",
    "デフォルのままだとlist_plotの結果がヒストグラムに隠れてしまいます。\n",
    "</p>\n",
    "<p>\n",
    "そこで、list_plotの引数にzorderで表示順序を指定（大きい方が前面に表示されます）します。\n",
    "</p>\n",
    "</html>"
   ]
  },
  {
   "cell_type": "code",
   "execution_count": 13,
   "metadata": {
    "collapsed": false
   },
   "outputs": [
    {
     "data": {
      "image/png": "[encoded data removed]",
      "text/plain": [
       "Graphics object consisting of 2 graphics primitives"
      ]
     },
     "metadata": {},
     "output_type": "display_data"
    }
   ],
   "source": [
    "(hist_plt+list_plt).show()"
   ]
  },
  {
   "cell_type": "markdown",
   "metadata": {},
   "source": [
    "<html>\n",
    "<p>\n",
    "同様の処理をpandasのplot機能で試してみました。pandasではx軸の情報がplot関数の戻り値に返されるので、\n",
    "これを重ねるplotのaxにセットすることで、図の重ね合わせができるようになります。\n",
    "</p>\n",
    "</html>"
   ]
  },
  {
   "cell_type": "code",
   "execution_count": 14,
   "metadata": {
    "collapsed": false,
    "scrolled": true
   },
   "outputs": [
    {
     "data": {
      "image/png": "[encoded data removed]",
      "text/plain": [
       "<matplotlib.figure.Figure object at 0x7f3ea0789610>"
      ]
     },
     "metadata": {},
     "output_type": "display_data"
    }
   ],
   "source": [
    "# yとprobからデータフレームを作る\n",
    "# pandasのplot機能を使用\n",
    "df = pd.DataFrame(zip(y, prob), columns = ['y', 'prob'])\n",
    "ax = orgData.data.hist(bins=8)\n",
    "scatter = df.plot(kind='scatter', x='y', y='prob', color='red', zorder=2, ax=ax)"
   ]
  },
  {
   "cell_type": "markdown",
   "metadata": {},
   "source": [
    "<html>\n",
    "\t<h2>ポアソン分布の特徴</h2>\n",
    "\t<p>\n",
    "\t\tポアソン分布がλを変えることでどのように分布が変わるのか、見てみましょう。\n",
    "\t\tSageのGraphisもグラフの重ね合わせたggplot同様にともて簡単です。\n",
    "\t</p>\n",
    "\t<p>\n",
    "\t\tですから、ggplotとSageの相性もとても良いのです。\n",
    "\t</p>\n",
    "</html>"
   ]
  },
  {
   "cell_type": "code",
   "execution_count": 15,
   "metadata": {
    "collapsed": true
   },
   "outputs": [],
   "source": [
    "# ポアソン関数p(y, λ)を定義\n",
    "def p(y, lam):\n",
    "    return lam^y*e^(-lam)/factorial(y)"
   ]
  },
  {
   "cell_type": "code",
   "execution_count": 16,
   "metadata": {
    "collapsed": false
   },
   "outputs": [
    {
     "data": {
      "image/png": "[encoded data removed]",
      "text/plain": [
       "Graphics object consisting of 3 graphics primitives"
      ]
     },
     "metadata": {},
     "output_type": "display_data"
    }
   ],
   "source": [
    "# 様々な平均（λ）のポアソン分布\n",
    "# Fig. 2.6\n",
    "g = Graphics()\n",
    "for lam, cls in [(3.5, 'red'), (7.7, 'blue'), (15.1, 'green')]:\n",
    "    g = g + list_plot([p(y, lam) for y in range(20)], color=cls, figsize=4)\n",
    "g.show()"
   ]
  },
  {
   "cell_type": "markdown",
   "metadata": {},
   "source": [
    "<html>\n",
    "\t<h2>ポアソン分布の最尤推定</h2>\n",
    "\t<p>\n",
    "\t\t尤度を「あてはまりの良さ」であり、L(λ)と書きます。ポアソン分布の尤度は、以下の式で与えられます。\n",
    "$$\n",
    "\tL(\\lambda) = \\prod_{i} p(y_i | \\lambda) = \\prod_{i} \\frac{\\lambda^{y_i} exp(-\\lambda)}{y_i !}\n",
    "$$\n",
    "\t</p>\n",
    "\t<p>\n",
    "\t\tL(λ) の対数とったものを対数尤度と呼び、上記の定義から以下のように表されます。\n",
    "$$\n",
    "\tlog L(\\lambda) =  \\sum_{i} \\left( y_i log \\lambda - \\lambda - \\sum_{k}^{y_i} log k \\right)\n",
    "$$\n",
    "\t</p>\n",
    "\t<p>\n",
    "\t\tこのL(λ)が最大になるλは、L(λ)をλで偏微分することで求まります。\n",
    "$$\n",
    "\t\t\\frac{\\partial log L(\\lambda)}{\\partial \\lambda} = \\sum_i \\left\\{ \\frac{y_i}{\\lambda} - 1 \\right \\} = \\frac{1}{\\lambda} \\sum_i y_i - k = 0\n",
    "$$\t\t\n",
    "\t\tこの結果は、データの標本平均$\\hat{\\lambda}$となり、例題のデータに当てはめると以下の様になります。\n",
    "$$\n",
    "\t\t\\hat{\\lambda} = \\frac{1}{50} \\sum_i y_i = データの標本平均 = 3.56\n",
    "$$\n",
    "\t</p>\n",
    "\t<p>\n",
    "\t\tこの式を例題のデータに対して、λ = 3.6としてその値の和をとると、図2.7のlogL = -97.3の値を得ます。\n",
    "\t</p>\n",
    "</html>"
   ]
  },
  {
   "cell_type": "code",
   "execution_count": 17,
   "metadata": {
    "collapsed": false
   },
   "outputs": [
    {
     "data": {
      "text/plain": [
       "[1] -97.25516"
      ]
     },
     "execution_count": 17,
     "metadata": {},
     "output_type": "execute_result"
    }
   ],
   "source": [
    "# lambda=3.6の対数尤度を計算してみる。本の図2.7のlog Lと同じ値であることを確認\n",
    "orgData.data.apply(lambda y : r.dpois(y, 3.6, log=True)).sum()"
   ]
  },
  {
   "cell_type": "markdown",
   "metadata": {},
   "source": [
    "<html>\n",
    "\t<h3>例題データの対数尤度を計算する関数logLを定義</h3>\n",
    "\t<p>\n",
    "\t\tそこで、例題データに対する対数尤度を計算するlogLを以下のように定義し、\n",
    "\t\t対数尤度が最大になるようなλを求めてみます。\n",
    "\t</p>\n",
    "</html>"
   ]
  },
  {
   "cell_type": "code",
   "execution_count": 18,
   "metadata": {
    "collapsed": true
   },
   "outputs": [],
   "source": [
    "# 対数尤度の計算\n",
    "def logL(m):\n",
    "    return sageobj(orgData.data.apply(lambda y : r.dpois(y, m, log=True)).sum())"
   ]
  },
  {
   "cell_type": "markdown",
   "metadata": {},
   "source": [
    "<html>\n",
    "\t<p>\n",
    "\t\t確認のため、 今度は$\\lambda=2.0$の対数尤度は、logL = -121.9と一致します。\n",
    "\t</p>\n",
    "</html>"
   ]
  },
  {
   "cell_type": "code",
   "execution_count": 19,
   "metadata": {
    "collapsed": false
   },
   "outputs": [
    {
     "name": "stdout",
     "output_type": "stream",
     "text": [
      "-121.881181787\n"
     ]
    }
   ],
   "source": [
    "# 関数の確認、今度はlambda=2の値でチェック\n",
    "print logL(2)"
   ]
  },
  {
   "cell_type": "markdown",
   "metadata": {},
   "source": [
    "<html>\n",
    "\t<h3>例題の最尤推定値</h3>\n",
    "\t<p>\n",
    "\t\tλの最尤推定値をグラフから求めてみます。λ=2.0から5.0を0.1刻みで計算してみます。\n",
    "\t</p>\n",
    "</html>"
   ]
  },
  {
   "cell_type": "code",
   "execution_count": 20,
   "metadata": {
    "collapsed": true
   },
   "outputs": [],
   "source": [
    "# グラフから最大となる対数尤度を求める（少し時間が掛かる）\n",
    "lams = np.arange(2.0, 5.0, 0.1)\n",
    "Ls = [logL(x) for x in lams]"
   ]
  },
  {
   "cell_type": "markdown",
   "metadata": {},
   "source": [
    "<html>\n",
    "\t<p>\n",
    "\t\t結果は、以下の様になり、標本の平均値3.56近辺で最大になっていることがわかります。\n",
    "\t</p>\n",
    "</html>"
   ]
  },
  {
   "cell_type": "code",
   "execution_count": 21,
   "metadata": {
    "collapsed": false
   },
   "outputs": [
    {
     "data": {
      "image/png": "[encoded data removed]",
      "text/plain": [
       "Graphics object consisting of 1 graphics primitive"
      ]
     },
     "execution_count": 21,
     "metadata": {},
     "output_type": "execute_result"
    }
   ],
   "source": [
    "# plotだと時間がかかるので、list_plotで代用\n",
    "# Fig. 2.8\n",
    "list_plot(zip(lams, Ls), figsize=4, plotjoined =True)"
   ]
  },
  {
   "cell_type": "markdown",
   "metadata": {},
   "source": [
    "<html>\n",
    "\t<h2>疑似乱数と最尤推定値のばらつき</h2>\n",
    "\t<p>\n",
    "\t\t久保本のすごいところは、疑似乱数を使って最尤推定値のばらつきまでみているところです。\n",
    "\t</p>\n",
    "\t<p>\n",
    "\t\t平均3.5のポアソン分布の50個のサンプルを1000セット作って、そのヒストグラムをプロット\n",
    "\t\tしてみます。\n",
    "\t</p>\n",
    "</html>"
   ]
  },
  {
   "cell_type": "code",
   "execution_count": 22,
   "metadata": {
    "collapsed": true
   },
   "outputs": [],
   "source": [
    "# 平均3.5のポアソン分布のサンプルを50個を1000セット生成して、最尤推定値のばらつきを見る\n",
    "poisSet3000 = [ sageobj(r.rpois(50, 3.5).mean()) for i in range(1000)]"
   ]
  },
  {
   "cell_type": "markdown",
   "metadata": {},
   "source": [
    "<html>\n",
    "\t<h3>最尤推定値のばらつき</h3>\n",
    "\t<p>\n",
    "\t\t今度は、Pandasの持つ、ヒストグラムプロット機能を使って最尤推定値のばらつきをプロットしてみます。\n",
    "\t</p>\n",
    "</html>"
   ]
  },
  {
   "cell_type": "code",
   "execution_count": 23,
   "metadata": {
    "collapsed": false
   },
   "outputs": [
    {
     "data": {
      "text/html": [
       "<div>\n",
       "<table border=\"1\" class=\"dataframe\">\n",
       "  <thead>\n",
       "    <tr style=\"text-align: right;\">\n",
       "      <th></th>\n",
       "      <th>lambda</th>\n",
       "    </tr>\n",
       "  </thead>\n",
       "  <tbody>\n",
       "    <tr>\n",
       "      <th>0</th>\n",
       "      <td>3.82</td>\n",
       "    </tr>\n",
       "    <tr>\n",
       "      <th>1</th>\n",
       "      <td>3.68</td>\n",
       "    </tr>\n",
       "    <tr>\n",
       "      <th>2</th>\n",
       "      <td>3.20</td>\n",
       "    </tr>\n",
       "    <tr>\n",
       "      <th>3</th>\n",
       "      <td>3.52</td>\n",
       "    </tr>\n",
       "    <tr>\n",
       "      <th>4</th>\n",
       "      <td>3.60</td>\n",
       "    </tr>\n",
       "  </tbody>\n",
       "</table>\n",
       "</div>"
      ],
      "text/plain": [
       "   lambda\n",
       "0    3.82\n",
       "1    3.68\n",
       "2    3.20\n",
       "3    3.52\n",
       "4    3.60"
      ]
     },
     "execution_count": 23,
     "metadata": {},
     "output_type": "execute_result"
    }
   ],
   "source": [
    "# Pandasのグラフ機能を使ってヒストグラムを表示する\n",
    "df3000 = pd.DataFrame({ 'lambda': np.array(poisSet3000)}); df3000.head()"
   ]
  },
  {
   "cell_type": "code",
   "execution_count": 24,
   "metadata": {
    "collapsed": false
   },
   "outputs": [
    {
     "data": {
      "image/png": "[encoded data removed]",
      "text/plain": [
       "<matplotlib.figure.Figure object at 0x7f3e9d943d90>"
      ]
     },
     "metadata": {},
     "output_type": "display_data"
    }
   ],
   "source": [
    "df3000.hist()\n",
    "plt.savefig(\"images/df3000.png\", dpi=70)"
   ]
  },
  {
   "cell_type": "markdown",
   "metadata": {
    "collapsed": true
   },
   "source": [
    "## 確率分布の選び方\n",
    "離散値の場合\n",
    "- ポアソン分布：ゼロ以上の範囲、上限なし、平均 $\\approx$ 分散\n",
    "- 二項分布：ゼロ以上で有限の範囲内、分散は平均の関数\n",
    "\n",
    "連続値の場合\n",
    "- 正規分布: 範囲が$[ -\\infty, +\\infty]$、分散は平均とは無関係に決まる\n",
    "- ガンマ分布：範囲が$[0, +\\infty]$、分散は平均の関数"
   ]
  },
  {
   "cell_type": "code",
   "execution_count": null,
   "metadata": {
    "collapsed": true
   },
   "outputs": [],
   "source": []
  }
 ],
 "metadata": {
  "kernelspec": {
   "display_name": "SageMath 7.2",
   "language": "",
   "name": "sagemath"
  },
  "language_info": {
   "codemirror_mode": {
    "name": "ipython",
    "version": 2
   },
   "file_extension": ".py",
   "mimetype": "text/x-python",
   "name": "python",
   "nbconvert_exporter": "python",
   "pygments_lexer": "ipython2",
   "version": "2.7.10"
  }
 },
 "nbformat": 4,
 "nbformat_minor": 0
}
