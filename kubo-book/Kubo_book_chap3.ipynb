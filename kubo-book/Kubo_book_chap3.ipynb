{
 "cells": [
  {
   "cell_type": "markdown",
   "metadata": {},
   "source": [
    "<html id=\"* graph_euler_method\">\n",
    "\t<author>Hiroshi TAKEMOTO</author>\n",
    "\t(<email>take.pwave@gmail.com</email>)\n",
    "\t\n",
    "\t<h1>Sageでグラフを再現してみよう：データ解析のための統計モデリング入門第３章</h1>\n",
    "\t<p>\n",
    "\t\tこの企画は、雑誌や教科書にでているグラフをSageで再現し、\n",
    "\t\tグラフの意味を理解すると共にSageの使い方をマスターすることを目的としています。\n",
    "\t</p>\n",
    "\t<p>\n",
    "\t\t前回に続き、<a href=\"http://www.amazon.co.jp/dp/400006973X/\">データ解析のための統計モデリング入門</a>\n",
    "\t\t（以下、久保本と書きます）\n",
    "\t\tの第３章の例題をSageを使って再現してみます。\n",
    "\t</p>\n",
    "\t<p>\n",
    "\t\t数式処理システムSageのノートブックは、計算結果を表示するだけではなく、実際に動かすことができるの大きな特徴です。\n",
    "\t\tこの機会にSageを分析に活用してみてはいかがでしょう。\n",
    "\t</p>\n",
    "</html>\n",
    "\n",
    "<html>\n",
    "\t<h2>前準備</h2>\n",
    "\t<p>\n",
    "\t\t最初に必要なライブラリーやパッケージをロードしておきます。jupyter用に新しくなったRUtil.pyも使います。\n",
    "\t</p>\n",
    "</html>"
   ]
  },
  {
   "cell_type": "code",
   "execution_count": 1,
   "metadata": {
    "collapsed": false
   },
   "outputs": [
    {
     "data": {
      "text/html": [
       "<link rel=\"stylesheet\" type=\"text/css\" href=\"css/sage_table_form.css\">"
      ],
      "text/plain": [
       "<IPython.core.display.HTML object>"
      ]
     },
     "metadata": {},
     "output_type": "display_data"
    }
   ],
   "source": [
    "%%HTML\n",
    "<link rel=\"stylesheet\" type=\"text/css\" href=\"css/sage_table_form.css\">"
   ]
  },
  {
   "cell_type": "code",
   "execution_count": 2,
   "metadata": {
    "collapsed": false
   },
   "outputs": [],
   "source": [
    "# RとPandasのデータフレームを相互に変換する関数を読み込む\n",
    "# Rの必要なライブラリ\n",
    "r('library(ggplot2)')\n",
    "r('library(jsonlite)')\n",
    "\n",
    "# python用のパッケージ\n",
    "import pandas as pd\n",
    "import numpy as np\n",
    "import matplotlib.pyplot as plt \n",
    "import seaborn as sns\n",
    "%matplotlib inline\n",
    "\n",
    "# jupyter用のdisplayメソッド\n",
    "from IPython.display import display, Latex, HTML, Math, JSON\n",
    "# sageユーティリティ\n",
    "load('script/sage_util.py')\n",
    "# Rユーティリティ\n",
    "load('script/RUtil.py')"
   ]
  },
  {
   "cell_type": "markdown",
   "metadata": {
    "collapsed": true
   },
   "source": [
    "<html>\n",
    "\t<h2>例題のデータ</h2>\n",
    "\t<p>\n",
    "\t\t３章の例題に使われているデータは、架空の植物の第i番目の個体のサイズ$x_i$と肥料の有無$f_i$が種子数$y_i$\n",
    "\t\tにどう影響するかを調べます。\n",
    "\t\t久保本の図３．１を以下に引用します。\n",
    "\t</p>\n",
    "\t<p>\n",
    "\t\t<img src=\"images/Fig3.1.png\"/>\n",
    "\t</p>\n",
    "\t<p>\n",
    "\t\t３章のデータは、ネット公開されており、以下の例でもネットのデータを利用します。\t\n",
    "\t</p>\n",
    "\t<p>\n",
    "\t\tデータをロードしたら、summary関数とvar関数を使ってデータの素性を確認します。\n",
    "\t\tここで、確認することは、以下の3項目です。\n",
    "\t\t<ul>\n",
    "\t\t\t<li>データの個数と欠損値の有無</li>\n",
    "\t\t\t<li>データの平均</li>\n",
    "\t\t\t<li>データの分散</li>\n",
    "\t\t</ul>\n",
    "\t</p>\n",
    "</html>\n"
   ]
  },
  {
   "cell_type": "code",
   "execution_count": 3,
   "metadata": {
    "collapsed": false
   },
   "outputs": [],
   "source": [
    "# 3章のデータをネットから取り込む\n",
    "d = pd.read_csv('http://hosho.ees.hokudai.ac.jp/~kubo/stat/iwanamibook/fig/poisson/data3a.csv')"
   ]
  },
  {
   "cell_type": "markdown",
   "metadata": {},
   "source": [
    "<html>\n",
    "\t<h3>カテゴリ</h3>\n",
    "\t<p>\n",
    "\t\t肥料の有無（施肥$f_i$）は、CとTという文字列で表されており、Rでは因子（factor）と呼んでいますが、\n",
    "\t\tアンケートなどのカテゴリと言った方分かりやすいかも知れません。\n",
    "\t</p>\n",
    "\t<p>\n",
    "\t\tPandasのデータフレームもRのData.Frameに劣らず、$y_i$は整数型、$x_i$は実数型、$f_i$は因子型と扱ってくれます。\n",
    "\t</p>\n",
    "</html>"
   ]
  },
  {
   "cell_type": "code",
   "execution_count": 4,
   "metadata": {
    "collapsed": false
   },
   "outputs": [
    {
     "data": {
      "text/html": [
       "<div>\n",
       "<table border=\"1\" class=\"dataframe\">\n",
       "  <thead>\n",
       "    <tr style=\"text-align: right;\">\n",
       "      <th></th>\n",
       "      <th>y</th>\n",
       "      <th>x</th>\n",
       "      <th>f</th>\n",
       "    </tr>\n",
       "  </thead>\n",
       "  <tbody>\n",
       "    <tr>\n",
       "      <th>0</th>\n",
       "      <td>6</td>\n",
       "      <td>8.31</td>\n",
       "      <td>C</td>\n",
       "    </tr>\n",
       "    <tr>\n",
       "      <th>1</th>\n",
       "      <td>6</td>\n",
       "      <td>9.44</td>\n",
       "      <td>C</td>\n",
       "    </tr>\n",
       "    <tr>\n",
       "      <th>2</th>\n",
       "      <td>6</td>\n",
       "      <td>9.50</td>\n",
       "      <td>C</td>\n",
       "    </tr>\n",
       "    <tr>\n",
       "      <th>3</th>\n",
       "      <td>12</td>\n",
       "      <td>9.07</td>\n",
       "      <td>C</td>\n",
       "    </tr>\n",
       "    <tr>\n",
       "      <th>4</th>\n",
       "      <td>10</td>\n",
       "      <td>10.16</td>\n",
       "      <td>C</td>\n",
       "    </tr>\n",
       "  </tbody>\n",
       "</table>\n",
       "</div>"
      ],
      "text/plain": [
       "    y      x  f\n",
       "0   6   8.31  C\n",
       "1   6   9.44  C\n",
       "2   6   9.50  C\n",
       "3  12   9.07  C\n",
       "4  10  10.16  C"
      ]
     },
     "execution_count": 4,
     "metadata": {},
     "output_type": "execute_result"
    }
   ],
   "source": [
    "# どんなデータか調べる\n",
    "d.head()"
   ]
  },
  {
   "cell_type": "code",
   "execution_count": 5,
   "metadata": {
    "collapsed": false
   },
   "outputs": [
    {
     "data": {
      "text/html": [
       "<div>\n",
       "<table border=\"1\" class=\"dataframe\">\n",
       "  <thead>\n",
       "    <tr style=\"text-align: right;\">\n",
       "      <th></th>\n",
       "      <th>y</th>\n",
       "      <th>x</th>\n",
       "    </tr>\n",
       "  </thead>\n",
       "  <tbody>\n",
       "    <tr>\n",
       "      <th>count</th>\n",
       "      <td>100.000000</td>\n",
       "      <td>100.000000</td>\n",
       "    </tr>\n",
       "    <tr>\n",
       "      <th>mean</th>\n",
       "      <td>7.830000</td>\n",
       "      <td>10.089100</td>\n",
       "    </tr>\n",
       "    <tr>\n",
       "      <th>std</th>\n",
       "      <td>2.624881</td>\n",
       "      <td>1.008049</td>\n",
       "    </tr>\n",
       "    <tr>\n",
       "      <th>min</th>\n",
       "      <td>2.000000</td>\n",
       "      <td>7.190000</td>\n",
       "    </tr>\n",
       "    <tr>\n",
       "      <th>25%</th>\n",
       "      <td>6.000000</td>\n",
       "      <td>9.427500</td>\n",
       "    </tr>\n",
       "    <tr>\n",
       "      <th>50%</th>\n",
       "      <td>8.000000</td>\n",
       "      <td>10.155000</td>\n",
       "    </tr>\n",
       "    <tr>\n",
       "      <th>75%</th>\n",
       "      <td>10.000000</td>\n",
       "      <td>10.685000</td>\n",
       "    </tr>\n",
       "    <tr>\n",
       "      <th>max</th>\n",
       "      <td>15.000000</td>\n",
       "      <td>12.400000</td>\n",
       "    </tr>\n",
       "  </tbody>\n",
       "</table>\n",
       "</div>"
      ],
      "text/plain": [
       "                y           x\n",
       "count  100.000000  100.000000\n",
       "mean     7.830000   10.089100\n",
       "std      2.624881    1.008049\n",
       "min      2.000000    7.190000\n",
       "25%      6.000000    9.427500\n",
       "50%      8.000000   10.155000\n",
       "75%     10.000000   10.685000\n",
       "max     15.000000   12.400000"
      ]
     },
     "execution_count": 5,
     "metadata": {},
     "output_type": "execute_result"
    }
   ],
   "source": [
    "# 個数と平均、最大、最小を、標準偏差をみる\n",
    "d.describe()"
   ]
  },
  {
   "cell_type": "markdown",
   "metadata": {},
   "source": [
    "<html>\n",
    "\t<h2>データの可視化</h2>\n",
    "\t<p>\n",
    "\t\t施肥の有無（C, T）別に種子種$y_i$とサイズ$x_i$の関係を散布図で表示してみます。\n",
    "\t\tseabornを使うと、このようなグラフも簡単に表示することができます。（施肥別の指定は、hue='f'で行っています）\n",
    "\t</p>\n",
    "</html>"
   ]
  },
  {
   "cell_type": "code",
   "execution_count": 6,
   "metadata": {
    "collapsed": false
   },
   "outputs": [
    {
     "data": {
      "image/png": "[encoded data removed]",
      "text/plain": [
       "<matplotlib.figure.Figure object at 0x7f3225a54810>"
      ]
     },
     "metadata": {},
     "output_type": "display_data"
    }
   ],
   "source": [
    "# F別の分布をみる\n",
    "sns.lmplot('x', 'y', data=d, hue='f', fit_reg=False )\n",
    "plt.show()"
   ]
  },
  {
   "cell_type": "markdown",
   "metadata": {},
   "source": [
    "<html>\n",
    "\t<p>\n",
    "\t\t私は箱ひげ図には馴染みがなく、最初にみたときには驚きました。\n",
    "\t\t慣れてくるとばらつきを知るには良いプロット方法だと感じるようになりました。\n",
    "\t</p>\n",
    "\t<p>\n",
    "\t\tこの分布の違いは、後で示す施肥別のヒストグラムをみると分かりやすいと思います。\n",
    "\t</p>\n",
    "</html>"
   ]
  },
  {
   "cell_type": "code",
   "execution_count": 7,
   "metadata": {
    "collapsed": false
   },
   "outputs": [
    {
     "data": {
      "image/png": "[encoded data removed]",
      "text/plain": [
       "<matplotlib.figure.Figure object at 0x7f322565c5d0>"
      ]
     },
     "metadata": {},
     "output_type": "display_data"
    }
   ],
   "source": [
    "# F別の箱ひげ図\n",
    "sns.boxplot(x='f', y='y', data=d)\n",
    "plt.show()"
   ]
  },
  {
   "cell_type": "markdown",
   "metadata": {},
   "source": [
    "<html>\n",
    "\t<h3>可視化から見えてくるもの</h3>\n",
    "\t<p>\n",
    "\t\t施肥別の散布図からは、久保本でも整理してあるとおり、\n",
    "\t\t<ul>\n",
    "\t\t\t<li>サイズxが増加すると共に種子数yが増えているように思える</li>\n",
    "\t\t\t<li>施肥fの効果はないように思われる</li>\n",
    "\t\t</ul>\n",
    "\t\tのように感じます。\n",
    "\t</p>\n",
    "\t<p>\n",
    "\t\tこのようにデータを整理することが大切です。Sageでは処理と文章が1つのドキュメントにまとめられており、\n",
    "\t\tどのようにして結果を導いたのかを後から簡単にフォローすることができます。\n",
    "\t</p>\n",
    "</html>\n"
   ]
  },
  {
   "cell_type": "markdown",
   "metadata": {},
   "source": [
    "<html>\n",
    "\t<h3>施肥の違いをもう少しみてみる</h3>\n",
    "\t<p>\n",
    "\t\tPandasのデータフレームもRのData.Frame同様にデータの絞り込みができます。\n",
    "\t</p>\n",
    "\t<p>\n",
    "\t\t施肥のあるもの$f_T$を、以下の様にfのフィールドが'T\"のものとして、d_Tにセットすることが1行で記述できます。\n",
    "\t<pre>\n",
    "\td_T = d[d['f'] == 'T']\t\t\n",
    "\t</pre>\t\t\n",
    "\t\tまた、Pandasでは、列（Series）をドット(.)で指定することもできるので、以下のようにも記述できます。\n",
    "\t<pre>\n",
    "\td_T = d[d.f == 'T']\t\n",
    "\t</pre>\t\t\n",
    "\t</p>\n",
    "</html>"
   ]
  },
  {
   "cell_type": "code",
   "execution_count": 8,
   "metadata": {
    "collapsed": false
   },
   "outputs": [
    {
     "data": {
      "text/html": [
       "<div>\n",
       "<table border=\"1\" class=\"dataframe\">\n",
       "  <thead>\n",
       "    <tr style=\"text-align: right;\">\n",
       "      <th></th>\n",
       "      <th>y</th>\n",
       "      <th>x</th>\n",
       "    </tr>\n",
       "  </thead>\n",
       "  <tbody>\n",
       "    <tr>\n",
       "      <th>count</th>\n",
       "      <td>50.00000</td>\n",
       "      <td>50.000000</td>\n",
       "    </tr>\n",
       "    <tr>\n",
       "      <th>mean</th>\n",
       "      <td>7.88000</td>\n",
       "      <td>10.370600</td>\n",
       "    </tr>\n",
       "    <tr>\n",
       "      <th>std</th>\n",
       "      <td>2.65453</td>\n",
       "      <td>0.944307</td>\n",
       "    </tr>\n",
       "    <tr>\n",
       "      <th>min</th>\n",
       "      <td>3.00000</td>\n",
       "      <td>8.520000</td>\n",
       "    </tr>\n",
       "    <tr>\n",
       "      <th>25%</th>\n",
       "      <td>6.00000</td>\n",
       "      <td>9.757500</td>\n",
       "    </tr>\n",
       "    <tr>\n",
       "      <th>50%</th>\n",
       "      <td>7.50000</td>\n",
       "      <td>10.225000</td>\n",
       "    </tr>\n",
       "    <tr>\n",
       "      <th>75%</th>\n",
       "      <td>9.00000</td>\n",
       "      <td>10.947500</td>\n",
       "    </tr>\n",
       "    <tr>\n",
       "      <th>max</th>\n",
       "      <td>15.00000</td>\n",
       "      <td>12.400000</td>\n",
       "    </tr>\n",
       "  </tbody>\n",
       "</table>\n",
       "</div>"
      ],
      "text/plain": [
       "              y          x\n",
       "count  50.00000  50.000000\n",
       "mean    7.88000  10.370600\n",
       "std     2.65453   0.944307\n",
       "min     3.00000   8.520000\n",
       "25%     6.00000   9.757500\n",
       "50%     7.50000  10.225000\n",
       "75%     9.00000  10.947500\n",
       "max    15.00000  12.400000"
      ]
     },
     "execution_count": 8,
     "metadata": {},
     "output_type": "execute_result"
    }
   ],
   "source": [
    "# 施肥の有無の違いをみる\n",
    "d_T = d[d['f'] == 'T']\n",
    "d_T.describe()"
   ]
  },
  {
   "cell_type": "code",
   "execution_count": 9,
   "metadata": {
    "collapsed": false
   },
   "outputs": [
    {
     "data": {
      "text/plain": [
       "y    7.046531\n",
       "x    0.891716\n",
       "dtype: float64"
      ]
     },
     "execution_count": 9,
     "metadata": {},
     "output_type": "execute_result"
    }
   ],
   "source": [
    "d_T.var()"
   ]
  },
  {
   "cell_type": "markdown",
   "metadata": {},
   "source": [
    "<html>\n",
    "\t<p>\n",
    "\t\t同様に施肥のないもの$f_C$を、抽出します。\n",
    "\t</p>\n",
    "\t<p>\n",
    "\t\t平均と分散がほぼ同じであることから、どちらもポアソン分布と仮定しても良さそうです。\n",
    "\t</p>\n",
    "</html>"
   ]
  },
  {
   "cell_type": "code",
   "execution_count": 10,
   "metadata": {
    "collapsed": false
   },
   "outputs": [
    {
     "data": {
      "text/html": [
       "<div>\n",
       "<table border=\"1\" class=\"dataframe\">\n",
       "  <thead>\n",
       "    <tr style=\"text-align: right;\">\n",
       "      <th></th>\n",
       "      <th>y</th>\n",
       "      <th>x</th>\n",
       "    </tr>\n",
       "  </thead>\n",
       "  <tbody>\n",
       "    <tr>\n",
       "      <th>count</th>\n",
       "      <td>50.000000</td>\n",
       "      <td>50.000000</td>\n",
       "    </tr>\n",
       "    <tr>\n",
       "      <th>mean</th>\n",
       "      <td>7.780000</td>\n",
       "      <td>9.807600</td>\n",
       "    </tr>\n",
       "    <tr>\n",
       "      <th>std</th>\n",
       "      <td>2.620874</td>\n",
       "      <td>0.999813</td>\n",
       "    </tr>\n",
       "    <tr>\n",
       "      <th>min</th>\n",
       "      <td>2.000000</td>\n",
       "      <td>7.190000</td>\n",
       "    </tr>\n",
       "    <tr>\n",
       "      <th>25%</th>\n",
       "      <td>6.000000</td>\n",
       "      <td>9.115000</td>\n",
       "    </tr>\n",
       "    <tr>\n",
       "      <th>50%</th>\n",
       "      <td>8.000000</td>\n",
       "      <td>9.880000</td>\n",
       "    </tr>\n",
       "    <tr>\n",
       "      <th>75%</th>\n",
       "      <td>10.000000</td>\n",
       "      <td>10.412500</td>\n",
       "    </tr>\n",
       "    <tr>\n",
       "      <th>max</th>\n",
       "      <td>12.000000</td>\n",
       "      <td>11.930000</td>\n",
       "    </tr>\n",
       "  </tbody>\n",
       "</table>\n",
       "</div>"
      ],
      "text/plain": [
       "               y          x\n",
       "count  50.000000  50.000000\n",
       "mean    7.780000   9.807600\n",
       "std     2.620874   0.999813\n",
       "min     2.000000   7.190000\n",
       "25%     6.000000   9.115000\n",
       "50%     8.000000   9.880000\n",
       "75%    10.000000  10.412500\n",
       "max    12.000000  11.930000"
      ]
     },
     "execution_count": 10,
     "metadata": {},
     "output_type": "execute_result"
    }
   ],
   "source": [
    "d_C = d[d['f'] == 'C']\n",
    "d_C.describe()"
   ]
  },
  {
   "cell_type": "code",
   "execution_count": 11,
   "metadata": {
    "collapsed": false
   },
   "outputs": [
    {
     "data": {
      "text/plain": [
       "y    6.868980\n",
       "x    0.999627\n",
       "dtype: float64"
      ]
     },
     "execution_count": 11,
     "metadata": {},
     "output_type": "execute_result"
    }
   ],
   "source": [
    "d_C.var()"
   ]
  },
  {
   "cell_type": "markdown",
   "metadata": {},
   "source": [
    "<html>\n",
    "\t<p>\n",
    "\t\t列の度数分布は、以下の様にgroupbyでy毎の頻度を求めることができます。\n",
    "\t</p>\n",
    "</html>"
   ]
  },
  {
   "cell_type": "code",
   "execution_count": 12,
   "metadata": {
    "collapsed": false
   },
   "outputs": [
    {
     "data": {
      "text/plain": [
       "y\n",
       "2      1\n",
       "3      2\n",
       "4      3\n",
       "5      4\n",
       "6     10\n",
       "7      1\n",
       "8      5\n",
       "9      8\n",
       "10     9\n",
       "11     4\n",
       "12     3\n",
       "dtype: int64"
      ]
     },
     "execution_count": 12,
     "metadata": {},
     "output_type": "execute_result"
    }
   ],
   "source": [
    "# 施肥なし（C）の度数を調べる\n",
    "d_C.groupby('y').size()"
   ]
  },
  {
   "cell_type": "markdown",
   "metadata": {},
   "source": [
    "<html>\n",
    "\t<h3>施肥別のヒストグラム</h3>\n",
    "\t<p>\n",
    "\t\tpandasのplot機能を使えば、施肥別のヒストグラムも以下の1行でプロットできます。\n",
    "\t</p>\n",
    "\t<p>\n",
    "\t\tbyでfを指定することで施肥別のヒストグラムを図化できます。\n",
    "\t</p>\n",
    "</html>"
   ]
  },
  {
   "cell_type": "code",
   "execution_count": 13,
   "metadata": {
    "collapsed": false
   },
   "outputs": [
    {
     "data": {
      "image/png": "[encoded data removed]",
      "text/plain": [
       "<matplotlib.figure.Figure object at 0x7f3224ada090>"
      ]
     },
     "metadata": {},
     "output_type": "display_data"
    }
   ],
   "source": [
    "# F別のヒストグラムをみる\n",
    "d.hist(column='y', by='f', sharex=True, layout=(2,1), bins=11)\n",
    "plt.show()"
   ]
  },
  {
   "cell_type": "markdown",
   "metadata": {},
   "source": [
    "<html>\n",
    "\t<h2>ポアソン回帰の統計モデル</h2>\n",
    "\t<p>\n",
    "\t\t施肥別の平均、分散からも$個体_i$の種子数$y_i$の確率$p(y_i | \\lambda_i)$は、ポアソン分布に従うとして、\n",
    "\t\t以下の式で表します。\n",
    "$$\n",
    "\t\tp(y_i | \\lambda_i) = \\frac{\\lambda_i^{y_i}exp(-\\lambda_i)}{y_i!}\n",
    "$$\t\t\n",
    "\t</p>\n",
    "</html>"
   ]
  },
  {
   "cell_type": "markdown",
   "metadata": {},
   "source": [
    "<html>\n",
    "\t<h3>$個体_iの平均種子数\\lambda_i$の式</h3>\n",
    "\t<p>\n",
    "\t\t久保本の3.4.1では、$個体_iの平均種子数\\lambda_i$を以下の様な指数関数で表しています。\n",
    "$$\n",
    "\t\t\\lambda_i = exp( \\beta_1 + \\beta_2 x_i)\n",
    "$$\t\t\n",
    "\t</p>\n",
    "\t<p>\n",
    "\t\tここで、$\\beta_1, \\beta_2$は、式を決定づけるパラメータです。図3.4では、このパラメータを変えることで、\n",
    "\t\tどうような曲線になるか示しています。これをSageを使って表示すると以下のようになります。\n",
    "\t</p>\n",
    "\t<p>\n",
    "\t\t直線よりも指数関数の表現力があるようにみえます。\n",
    "\t</p>\n",
    "</html>"
   ]
  },
  {
   "cell_type": "code",
   "execution_count": 14,
   "metadata": {
    "collapsed": false
   },
   "outputs": [
    {
     "data": {
      "image/png": "[encoded data removed]",
      "text/plain": [
       "Graphics object consisting of 2 graphics primitives"
      ]
     },
     "metadata": {},
     "output_type": "display_data"
    }
   ],
   "source": [
    "# fig3.4\n",
    "p1 = plot(lambda x: exp(-1+0.4*x), [x, -4, 5], rgbcolor='red')\n",
    "p2 = plot(lambda x: exp(-2-0.8*x), [x, -4, 5], rgbcolor='blue')\n",
    "(p1 + p2).show(figsize=4)"
   ]
  },
  {
   "cell_type": "markdown",
   "metadata": {},
   "source": [
    "<html>\n",
    "\t<h3>線形予測子とリンク関数</h3>\n",
    "\t<p>\n",
    "\t\tglmで使われるリンク関数と線形予測子の関係を整理すると以下の様になります。\n",
    "\t\t線形予測子は、パラメータが線形結合しているもので、ターゲットとなる変数\n",
    "\t\t（ここでは$\\lambda_i$）を線形予測子で表したときに、以下の関係がある場合、\n",
    "$$\n",
    "\t\t\\lambda_i = f(線形予測子)\n",
    "$$\t\t\n",
    "\t\tリンク関数は、fの逆関数を使って以下の関係にあります。\n",
    "$$\n",
    "\t\tf^{-1}(\\lambda_i) = (線形予測子)\n",
    "$$\t\t\n",
    "\t</p>\n",
    "\t<p>\n",
    "\t\tですから指数関数で表された$\\lambda_i$のリンク関数は、対数を使って以下の様になります。\n",
    "$$\n",
    "\t\tlog \\lambda_i = \\beta_1 + \\beta_2 x_i\n",
    "$$\t\t\n",
    "\t</p>\n",
    "</html>"
   ]
  },
  {
   "cell_type": "markdown",
   "metadata": {},
   "source": [
    "<html>\n",
    "\t<h3>ポアソン回帰の実行</h3>\n",
    "\t<p>\n",
    "\t\t久保本では、モデルから推定される予測の良さを重視しており、その指標として対数尤度が最大になることを目安としています。\n",
    "\t</p>\n",
    "\t<p>\n",
    "\t\t今回のデータに対する対数尤度(Log-Likelihood)は、以下の様になります。この対数尤度の最大値を追求することになります。\n",
    "$$\n",
    "\t\tlog L(\\beta_1, \\beta_2) = \\sum_i log \\frac{\\lambda_i^{y_i} exp(\\lambda_i)}{y_i !}\n",
    "$$\t\t\n",
    "\t</p>\n",
    "\t<p>\n",
    "\t\tここでは、Pythonのstatsmodelsパッケージを使ってGLM（一般化線型モデル）を使ってポアソン回帰を行います。\n",
    "\t</p>\n",
    "</html>"
   ]
  },
  {
   "cell_type": "code",
   "execution_count": 15,
   "metadata": {
    "collapsed": true
   },
   "outputs": [],
   "source": [
    "# statsmodelsを使ってglmを計算します\n",
    "import statsmodels.formula.api as smf\n",
    "import statsmodels.api as sm\n",
    "from scipy.stats.stats import pearsonr"
   ]
  },
  {
   "cell_type": "markdown",
   "metadata": {},
   "source": [
    "<html>\n",
    "\t<h3>glmの引数</h3>\n",
    "\t<p>\n",
    "\t\tglmの引数について説明すると、\n",
    "\t\t<ul>\n",
    "\t\t\t<li>fit: 回帰の結果をセットする変数</li>\n",
    "\t\t\t<li>y ~ x: モデル式を線形予測子で表現します</li>\n",
    "\t\t\t<li>data: dでデータフレームを指定します</li>\n",
    "\t\t\t<li>family: sm.families.Poissonで確率分布としてポアソン分布を指定します</li>\n",
    "\t\t\t<li>link: sm.families.links.logで対数を指定します</li>\n",
    "\t\t\t<li>fit(): 最後にfit関数で回帰を計算します</li>\n",
    "\t\t</ul>\n",
    "\t</p>\n",
    "\t<p>\n",
    "\t\t回帰の結果は、summary2関数で表示します。結果は、\n",
    "\t\t<ul>\n",
    "\t\t\t<li>対数尤度(Log-Likelihood): -235.39</li>\n",
    "\t\t\t<li>逸脱度(deviance): 84.993</li>\n",
    "\t\t\t<li>切片$\\beta_1$(Intercept): 1.2917、標準誤差は0.3637</li>\n",
    "\t\t\t<li>xの係数$\\beta_2$: 0.0757、標準誤差は0.0356</li>\n",
    "\t\t</ul>\n",
    "\t\tと求まります。\n",
    "\t</p>\n",
    "</html>"
   ]
  },
  {
   "cell_type": "code",
   "execution_count": 16,
   "metadata": {
    "collapsed": false
   },
   "outputs": [
    {
     "data": {
      "text/html": [
       "<table class=\"simpletable\">\n",
       "<tr>\n",
       "        <td>Model:</td>               <td>GLM</td>            <td>AIC:</td>       <td>474.7725</td> \n",
       "</tr>\n",
       "<tr>\n",
       "    <td>Link Function:</td>           <td>log</td>            <td>BIC:</td>       <td>-366.3137</td>\n",
       "</tr>\n",
       "<tr>\n",
       "  <td>Dependent Variable:</td>         <td>y</td>        <td>Log-Likelihood:</td>  <td>-235.39</td> \n",
       "</tr>\n",
       "<tr>\n",
       "         <td>Date:</td>        <td>2016-07-17 01:38</td>    <td>LL-Null:</td>      <td>-237.64</td> \n",
       "</tr>\n",
       "<tr>\n",
       "   <td>No. Observations:</td>         <td>100</td>          <td>Deviance:</td>     <td>84.993</td>  \n",
       "</tr>\n",
       "<tr>\n",
       "       <td>Df Model:</td>              <td>1</td>         <td>Pearson chi2:</td>    <td>83.8</td>   \n",
       "</tr>\n",
       "<tr>\n",
       "     <td>Df Residuals:</td>           <td>98</td>            <td>Scale:</td>       <td>1.0000</td>  \n",
       "</tr>\n",
       "<tr>\n",
       "        <td>Method:</td>             <td>IRLS</td>              <td></td>             <td></td>     \n",
       "</tr>\n",
       "</table>\n",
       "<table class=\"simpletable\">\n",
       "<tr>\n",
       "      <td></td>       <th>Coef.</th> <th>Std.Err.</th>    <th>z</th>    <th>P>|z|</th> <th>[0.025</th> <th>0.975]</th>\n",
       "</tr>\n",
       "<tr>\n",
       "  <th>Intercept</th> <td>1.2917</td>  <td>0.3637</td>  <td>3.5517</td> <td>0.0004</td> <td>0.5789</td> <td>2.0045</td>\n",
       "</tr>\n",
       "<tr>\n",
       "  <th>x</th>         <td>0.0757</td>  <td>0.0356</td>  <td>2.1251</td> <td>0.0336</td> <td>0.0059</td> <td>0.1454</td>\n",
       "</tr>\n",
       "</table>"
      ],
      "text/plain": [
       "<class 'statsmodels.iolib.summary2.Summary'>\n",
       "\"\"\"\n",
       "               Results: Generalized linear model\n",
       "==============================================================\n",
       "Model:              GLM              AIC:            474.7725 \n",
       "Link Function:      log              BIC:            -366.3137\n",
       "Dependent Variable: y                Log-Likelihood: -235.39  \n",
       "Date:               2016-07-17 01:38 LL-Null:        -237.64  \n",
       "No. Observations:   100              Deviance:       84.993   \n",
       "Df Model:           1                Pearson chi2:   83.8     \n",
       "Df Residuals:       98               Scale:          1.0000   \n",
       "Method:             IRLS                                      \n",
       "---------------------------------------------------------------\n",
       "               Coef.   Std.Err.    z     P>|z|   [0.025  0.975]\n",
       "---------------------------------------------------------------\n",
       "Intercept      1.2917    0.3637  3.5517  0.0004  0.5789  2.0045\n",
       "x              0.0757    0.0356  2.1251  0.0336  0.0059  0.1454\n",
       "==============================================================\n",
       "\n",
       "\"\"\""
      ]
     },
     "execution_count": 16,
     "metadata": {},
     "output_type": "execute_result"
    }
   ],
   "source": [
    "fit = smf.glm('y ~ x', data=d, family=sm.families.Poisson(link=sm.families.links.log)).fit()\n",
    "fit.summary2()"
   ]
  },
  {
   "cell_type": "code",
   "execution_count": 17,
   "metadata": {
    "collapsed": false
   },
   "outputs": [
    {
     "name": "stdout",
     "output_type": "stream",
     "text": [
      "84.9929964907 -235.38625077 474.77250154\n"
     ]
    }
   ],
   "source": [
    "# 逸脱度→deviance, 対数尤度logLik→llf, AIC→aicにセットされている\n",
    "print fit.deviance, fit.llf, fit.aic"
   ]
  },
  {
   "cell_type": "markdown",
   "metadata": {},
   "source": [
    "<html>\n",
    "\t<h3>回帰結果のプロット</h3>\n",
    "\t<p>\n",
    "\t\tλの予測値は、predict関数で取得することができます（fitのnuにセットされているみたいです）。\n",
    "\t</p>\n",
    "\t<p>\n",
    "\t\t施肥別の分布図に予測値を重ね書きします。\n",
    "\t\t予測値をyhatにセットし、pandasでソートした後、lineplotします。\n",
    "\t</p>\n",
    "</html>"
   ]
  },
  {
   "cell_type": "code",
   "execution_count": 18,
   "metadata": {
    "collapsed": true
   },
   "outputs": [],
   "source": [
    "# λの予測値nuをyhatにセット\n",
    "d['yhat'] = fit.predict()"
   ]
  },
  {
   "cell_type": "code",
   "execution_count": 19,
   "metadata": {
    "collapsed": false
   },
   "outputs": [
    {
     "data": {
      "image/png": "[encoded data removed]",
      "text/plain": [
       "<matplotlib.figure.Figure object at 0x7f3221aad910>"
      ]
     },
     "metadata": {},
     "output_type": "display_data"
    }
   ],
   "source": [
    "ax = d.sort_values(by=['x']).plot(x='x', y='yhat')\n",
    "d_T.plot(kind='scatter', x='x', y='y', c='r', ax=ax, label='T')\n",
    "d_C.plot(kind='scatter', x='x', y='y', c='b', ax=ax, label='C')\n",
    "plt.legend(loc='upper left')\n",
    "plt.show()"
   ]
  },
  {
   "cell_type": "markdown",
   "metadata": {},
   "source": [
    "<html>\n",
    "\t<h3>施肥処理Fをモデルに組み込む</h3>\n",
    "\t<p>\n",
    "\t\tつぎに施肥処理fを使ってポアソン回帰をしてみましょう。xと異なりfには数字では無くT, Cのような文字列（因子型）が入っています。\n",
    "\t</p>\n",
    "\t<p>\n",
    "\t\t因子型で線形予測子を作る場合、因子の数より1個少ない数の$d_i$というダミー変数を使って、因子の影響を線形予測子として表します。\n",
    "\t\t$d_i$が、$f_i=T$の場合1， $f_i!=T$の場合0とします。因子型ではいずれか一つの因子に当てはまる（昔のカーラジオのボタンのように）\n",
    "\t\tとしているので、$f_i$がTでなければCとなるので、因子がTとCの2個の場合ダミー変数は、$d_i$1個で足ります。\n",
    "\t</p>\n",
    "<p>\n",
    "\t\tもし、肥料が複数の場合には、ダミー変数は、$d_i,A, d_i,B, d_i,C$のように複数作らなくてはなりません。\n",
    "\t</p>\n",
    "\t<p>\n",
    "\t\tglmは、とてもお利口なので人がダミー変数を指定する代わりに因子型の変数fを指定するだけで内部的にダミー変数を考慮した計算をしてくれます。\n",
    "\t</p>\n",
    "\t<p>\n",
    "\t\tモデル式をy ~ xからy ~ fに変えてポアソン回帰を実行してみます。\n",
    "\t</p>\n",
    "\t<p>\n",
    "\t\t回帰の結果は、summary2関数で表示します。結果は、\n",
    "\t\t<ul>\n",
    "\t\t\t<li>対数尤度(Log-Likelihood): -237.63</li>\n",
    "\t\t\t<li>逸脱度(deviance): 89.475</li>\n",
    "\t\t\t<li>切片$\\beta_1$(Intercept): 2.0516、標準誤差は0.0507</li>\n",
    "\t\t\t<li>fの係数$\\beta_3$: 0.0128、標準誤差は0.0715</li>\n",
    "\t\t</ul>\n",
    "\t\t先の例と比べると、対数尤度は-237.63と小さく求まっています。\n",
    "\t</p>\n",
    "\t<p>\n",
    "\t\t久保本は、とても丁寧でこの結果をどう考えるかを解説してくれています。\n",
    "$$\n",
    "\t\t\\lambda_i = exp(2.05 + 0.0128) = exp(2.05) exp(0.0128)\n",
    "$$\t\n",
    "\t\t施肥を行った場合には、施肥を行わない場合（0.0128の項が０）の1.0128倍に若干増えると予測しています。\n",
    "$$\n",
    "\t\t\\lambda_i = exp(2.05 + 0.0128) = 1.0128 exp(2.05) \n",
    "$$\t\n",
    "\t</p>\n",
    "</html>"
   ]
  },
  {
   "cell_type": "code",
   "execution_count": 20,
   "metadata": {
    "collapsed": false
   },
   "outputs": [
    {
     "data": {
      "text/html": [
       "<table class=\"simpletable\">\n",
       "<tr>\n",
       "        <td>Model:</td>               <td>GLM</td>            <td>AIC:</td>       <td>479.2545</td> \n",
       "</tr>\n",
       "<tr>\n",
       "    <td>Link Function:</td>           <td>log</td>            <td>BIC:</td>       <td>-361.8317</td>\n",
       "</tr>\n",
       "<tr>\n",
       "  <td>Dependent Variable:</td>         <td>y</td>        <td>Log-Likelihood:</td>  <td>-237.63</td> \n",
       "</tr>\n",
       "<tr>\n",
       "         <td>Date:</td>        <td>2016-07-17 01:38</td>    <td>LL-Null:</td>      <td>-237.64</td> \n",
       "</tr>\n",
       "<tr>\n",
       "   <td>No. Observations:</td>         <td>100</td>          <td>Deviance:</td>     <td>89.475</td>  \n",
       "</tr>\n",
       "<tr>\n",
       "       <td>Df Model:</td>              <td>1</td>         <td>Pearson chi2:</td>    <td>87.1</td>   \n",
       "</tr>\n",
       "<tr>\n",
       "     <td>Df Residuals:</td>           <td>98</td>            <td>Scale:</td>       <td>1.0000</td>  \n",
       "</tr>\n",
       "<tr>\n",
       "        <td>Method:</td>             <td>IRLS</td>              <td></td>             <td></td>     \n",
       "</tr>\n",
       "</table>\n",
       "<table class=\"simpletable\">\n",
       "<tr>\n",
       "      <td></td>       <th>Coef.</th> <th>Std.Err.</th>    <th>z</th>     <th>P>|z|</th> <th>[0.025</th>  <th>0.975]</th>\n",
       "</tr>\n",
       "<tr>\n",
       "  <th>Intercept</th> <td>2.0516</td>  <td>0.0507</td>  <td>40.4630</td> <td>0.0000</td> <td>1.9522</td>  <td>2.1509</td>\n",
       "</tr>\n",
       "<tr>\n",
       "  <th>f[T.T]</th>    <td>0.0128</td>  <td>0.0715</td>  <td>0.1787</td>  <td>0.8582</td> <td>-0.1273</td> <td>0.1529</td>\n",
       "</tr>\n",
       "</table>"
      ],
      "text/plain": [
       "<class 'statsmodels.iolib.summary2.Summary'>\n",
       "\"\"\"\n",
       "               Results: Generalized linear model\n",
       "==============================================================\n",
       "Model:              GLM              AIC:            479.2545 \n",
       "Link Function:      log              BIC:            -361.8317\n",
       "Dependent Variable: y                Log-Likelihood: -237.63  \n",
       "Date:               2016-07-17 01:38 LL-Null:        -237.64  \n",
       "No. Observations:   100              Deviance:       89.475   \n",
       "Df Model:           1                Pearson chi2:   87.1     \n",
       "Df Residuals:       98               Scale:          1.0000   \n",
       "Method:             IRLS                                      \n",
       "---------------------------------------------------------------\n",
       "             Coef.   Std.Err.     z     P>|z|    [0.025  0.975]\n",
       "---------------------------------------------------------------\n",
       "Intercept    2.0516    0.0507  40.4630  0.0000   1.9522  2.1509\n",
       "f[T.T]       0.0128    0.0715   0.1787  0.8582  -0.1273  0.1529\n",
       "==============================================================\n",
       "\n",
       "\"\"\""
      ]
     },
     "execution_count": 20,
     "metadata": {},
     "output_type": "execute_result"
    }
   ],
   "source": [
    "# 施肥処理Fをモデルに組み込む\n",
    "fit_f= smf.glm('y ~ f', data=d, family=sm.families.Poisson(link=sm.families.links.log)).fit()\n",
    "fit_f.summary2() "
   ]
  },
  {
   "cell_type": "markdown",
   "metadata": {},
   "source": [
    "<html>\n",
    "\t<h2>個体のサイズと施肥を合わせたモデル</h2>\n",
    "\t<p>\n",
    "\t\t最後に個体のサイズ$x_i$と施肥$f_i$を合わせたモデルを使ってポアソン回帰を行ってみます。\n",
    "\t</p>\n",
    "\t<p>\n",
    "\t\tモデル式は、y ~ x + fとなります。\n",
    "\t</p>\n",
    "\t<p>\n",
    "\t\t結果は以下の様になります。\n",
    "$$\n",
    "\t\t\\lambda_i = 1.26 + 0.08 x_i - 0.032\n",
    "$$\t\t\n",
    "\t</p>\n",
    "</html>"
   ]
  },
  {
   "cell_type": "code",
   "execution_count": 21,
   "metadata": {
    "collapsed": false
   },
   "outputs": [
    {
     "data": {
      "text/html": [
       "<table class=\"simpletable\">\n",
       "<tr>\n",
       "        <td>Model:</td>               <td>GLM</td>            <td>AIC:</td>       <td>476.5874</td> \n",
       "</tr>\n",
       "<tr>\n",
       "    <td>Link Function:</td>           <td>log</td>            <td>BIC:</td>       <td>-361.8936</td>\n",
       "</tr>\n",
       "<tr>\n",
       "  <td>Dependent Variable:</td>         <td>y</td>        <td>Log-Likelihood:</td>  <td>-235.29</td> \n",
       "</tr>\n",
       "<tr>\n",
       "         <td>Date:</td>        <td>2016-07-17 01:38</td>    <td>LL-Null:</td>      <td>-237.64</td> \n",
       "</tr>\n",
       "<tr>\n",
       "   <td>No. Observations:</td>         <td>100</td>          <td>Deviance:</td>     <td>84.808</td>  \n",
       "</tr>\n",
       "<tr>\n",
       "       <td>Df Model:</td>              <td>2</td>         <td>Pearson chi2:</td>    <td>83.8</td>   \n",
       "</tr>\n",
       "<tr>\n",
       "     <td>Df Residuals:</td>           <td>97</td>            <td>Scale:</td>       <td>1.0000</td>  \n",
       "</tr>\n",
       "<tr>\n",
       "        <td>Method:</td>             <td>IRLS</td>              <td></td>             <td></td>     \n",
       "</tr>\n",
       "</table>\n",
       "<table class=\"simpletable\">\n",
       "<tr>\n",
       "      <td></td>       <th>Coef.</th>  <th>Std.Err.</th>    <th>z</th>     <th>P>|z|</th> <th>[0.025</th>  <th>0.975]</th>\n",
       "</tr>\n",
       "<tr>\n",
       "  <th>Intercept</th> <td>1.2631</td>   <td>0.3696</td>  <td>3.4172</td>  <td>0.0006</td> <td>0.5386</td>  <td>1.9876</td>\n",
       "</tr>\n",
       "<tr>\n",
       "  <th>f[T.T]</th>    <td>-0.0320</td>  <td>0.0744</td>  <td>-0.4302</td> <td>0.6670</td> <td>-0.1778</td> <td>0.1138</td>\n",
       "</tr>\n",
       "<tr>\n",
       "  <th>x</th>         <td>0.0801</td>   <td>0.0370</td>  <td>2.1620</td>  <td>0.0306</td> <td>0.0075</td>  <td>0.1527</td>\n",
       "</tr>\n",
       "</table>"
      ],
      "text/plain": [
       "<class 'statsmodels.iolib.summary2.Summary'>\n",
       "\"\"\"\n",
       "               Results: Generalized linear model\n",
       "==============================================================\n",
       "Model:              GLM              AIC:            476.5874 \n",
       "Link Function:      log              BIC:            -361.8936\n",
       "Dependent Variable: y                Log-Likelihood: -235.29  \n",
       "Date:               2016-07-17 01:38 LL-Null:        -237.64  \n",
       "No. Observations:   100              Deviance:       84.808   \n",
       "Df Model:           2                Pearson chi2:   83.8     \n",
       "Df Residuals:       97               Scale:          1.0000   \n",
       "Method:             IRLS                                      \n",
       "---------------------------------------------------------------\n",
       "             Coef.   Std.Err.     z     P>|z|    [0.025  0.975]\n",
       "---------------------------------------------------------------\n",
       "Intercept    1.2631    0.3696   3.4172  0.0006   0.5386  1.9876\n",
       "f[T.T]      -0.0320    0.0744  -0.4302  0.6670  -0.1778  0.1138\n",
       "x            0.0801    0.0370   2.1620  0.0306   0.0075  0.1527\n",
       "==============================================================\n",
       "\n",
       "\"\"\""
      ]
     },
     "execution_count": 21,
     "metadata": {},
     "output_type": "execute_result"
    }
   ],
   "source": [
    "# 説明変数が数量型＋因子型のモデル\n",
    "fit_all = smf.glm('y ~ x + f', data=d, family=sm.families.Poisson(link=sm.families.links.log)).fit()\n",
    "fit_all.summary2()"
   ]
  },
  {
   "cell_type": "markdown",
   "metadata": {},
   "source": [
    "<html>\n",
    "\t<h3>Nullモデルとの比較</h3>\n",
    "\t<p>\n",
    "\t\tついでなので、λが定数の場合（Nullモデル）のポアソン回帰の結果を以下に示します。\n",
    "\t</p>\n",
    "\t<p>\n",
    "\t\tここで注目するのは、Log-Likelihoodの値-237.64です。\n",
    "\t\tλが定数の場合の対数尤度と自分の考えたモデルの対数尤度を比べることで、\n",
    "\t\t自分のモデルがどの程度よいのか比較できることです。\n",
    "\t</p>\n",
    "</html>"
   ]
  },
  {
   "cell_type": "code",
   "execution_count": 22,
   "metadata": {
    "collapsed": false
   },
   "outputs": [
    {
     "data": {
      "text/html": [
       "<table class=\"simpletable\">\n",
       "<tr>\n",
       "        <td>Model:</td>               <td>GLM</td>            <td>AIC:</td>       <td>477.2864</td> \n",
       "</tr>\n",
       "<tr>\n",
       "    <td>Link Function:</td>           <td>log</td>            <td>BIC:</td>       <td>-366.4049</td>\n",
       "</tr>\n",
       "<tr>\n",
       "  <td>Dependent Variable:</td>         <td>y</td>        <td>Log-Likelihood:</td>  <td>-237.64</td> \n",
       "</tr>\n",
       "<tr>\n",
       "         <td>Date:</td>        <td>2016-07-17 01:38</td>    <td>LL-Null:</td>      <td>-237.64</td> \n",
       "</tr>\n",
       "<tr>\n",
       "   <td>No. Observations:</td>         <td>100</td>          <td>Deviance:</td>     <td>89.507</td>  \n",
       "</tr>\n",
       "<tr>\n",
       "       <td>Df Model:</td>              <td>0</td>         <td>Pearson chi2:</td>    <td>87.1</td>   \n",
       "</tr>\n",
       "<tr>\n",
       "     <td>Df Residuals:</td>           <td>99</td>            <td>Scale:</td>       <td>1.0000</td>  \n",
       "</tr>\n",
       "<tr>\n",
       "        <td>Method:</td>             <td>IRLS</td>              <td></td>             <td></td>     \n",
       "</tr>\n",
       "</table>\n",
       "<table class=\"simpletable\">\n",
       "<tr>\n",
       "      <td></td>       <th>Coef.</th> <th>Std.Err.</th>    <th>z</th>     <th>P>|z|</th> <th>[0.025</th> <th>0.975]</th>\n",
       "</tr>\n",
       "<tr>\n",
       "  <th>Intercept</th> <td>2.0580</td>  <td>0.0357</td>  <td>57.5862</td> <td>0.0000</td> <td>1.9879</td> <td>2.1280</td>\n",
       "</tr>\n",
       "</table>"
      ],
      "text/plain": [
       "<class 'statsmodels.iolib.summary2.Summary'>\n",
       "\"\"\"\n",
       "               Results: Generalized linear model\n",
       "==============================================================\n",
       "Model:              GLM              AIC:            477.2864 \n",
       "Link Function:      log              BIC:            -366.4049\n",
       "Dependent Variable: y                Log-Likelihood: -237.64  \n",
       "Date:               2016-07-17 01:38 LL-Null:        -237.64  \n",
       "No. Observations:   100              Deviance:       89.507   \n",
       "Df Model:           0                Pearson chi2:   87.1     \n",
       "Df Residuals:       99               Scale:          1.0000   \n",
       "Method:             IRLS                                      \n",
       "---------------------------------------------------------------\n",
       "              Coef.   Std.Err.     z     P>|z|   [0.025  0.975]\n",
       "---------------------------------------------------------------\n",
       "Intercept     2.0580    0.0357  57.5862  0.0000  1.9879  2.1280\n",
       "==============================================================\n",
       "\n",
       "\"\"\""
      ]
     },
     "execution_count": 22,
     "metadata": {},
     "output_type": "execute_result"
    }
   ],
   "source": [
    "# Nullモデルの逸脱度とAIC\n",
    "fit_null = smf.glm('y ~ 1', data=d, family=sm.families.Poisson(link=sm.families.links.log)).fit()\n",
    "fit_null.summary2()"
   ]
  },
  {
   "cell_type": "code",
   "execution_count": 23,
   "metadata": {
    "collapsed": false
   },
   "outputs": [
    {
     "name": "stdout",
     "output_type": "stream",
     "text": [
      "89.5069375696 -237.643221309 477.286442619\n"
     ]
    }
   ],
   "source": [
    "# 逸脱度→deviance, 対数尤度logLik→llf, AIC→aicにセットされている\n",
    "print fit_null.deviance, fit_null.llf, fit_null.aic"
   ]
  },
  {
   "cell_type": "markdown",
   "metadata": {},
   "source": [
    "<html>\n",
    "\t<h2>3章注目のグラフ</h2>\n",
    "\t<p>\n",
    "\t\t「Sageでグラフを再現してみよう」ではいろんなグラフをSageで再現してその本質を理解できるように挑戦しています。\n",
    "\t</p>\t\n",
    "\t<p>\n",
    "\t\t3章の注目のグラフは、図3.9（以下久保本から引用します）の（Ｂ）です。\n",
    "\t\t種子数λがサイズxに対して指数関数で増加するとそのポアソン分布は裾野が広く平らに分布しています。\n",
    "\t\t今回はこのグラフをSageを使って計算してみます。\n",
    "\t</p>\n",
    "\t<p>\n",
    "\t\t<img src=\"images/Fig3.9.png\"/>\n",
    "\t</p>\n",
    "\t<p>\n",
    "\t\tGLMの結果が示されていないので、$x$が0.5, 1.1, 1.7のyの値をグラフから読み取り、\n",
    "\t\t0.1, 0.5, 3.0としてポアソン分布をプロットしたのが、以下の図です。図３．９（Ｂ）のポアソン分布\n",
    "\t\tとよく似た分布になっています。\n",
    "\t</p>\n",
    "\t\n",
    "</html>"
   ]
  },
  {
   "cell_type": "code",
   "execution_count": 24,
   "metadata": {
    "collapsed": false
   },
   "outputs": [
    {
     "data": {
      "image/png": "[encoded data removed]",
      "text/plain": [
       "<matplotlib.figure.Figure object at 0x7f3221c0a990>"
      ]
     },
     "metadata": {},
     "output_type": "display_data"
    }
   ],
   "source": [
    "# 3章のメインのグラフは、図3.9だと思う。\n",
    "# 0.5, 1.1, 1.7のyを0.1, 0.5, 3.0としてポアソン分布を表示\n",
    "# Fig. 2.6\n",
    "# ポアソン関数p(y, λ)を定義\n",
    "def p(y, lam):\n",
    "    return float(lam^y*e^(-lam)/factorial(y) )\n",
    "# データフレームを作成\n",
    "df = pd.DataFrame(\n",
    "    {\n",
    "        '0.1': [p(y, 0.1) for y in range(8)],\n",
    "        '0.5': [p(y, 0.5) for y in range(8)],\n",
    "        '3.0': [p(y, 3.0) for y in range(8)]\n",
    "    })\n",
    "# データフレームのプロット\n",
    "df.plot.bar()\n",
    "plt.show()"
   ]
  },
  {
   "cell_type": "code",
   "execution_count": null,
   "metadata": {
    "collapsed": true
   },
   "outputs": [],
   "source": []
  }
 ],
 "metadata": {
  "kernelspec": {
   "display_name": "SageMath 7.2",
   "language": "",
   "name": "sagemath"
  },
  "language_info": {
   "codemirror_mode": {
    "name": "ipython",
    "version": 2
   },
   "file_extension": ".py",
   "mimetype": "text/x-python",
   "name": "python",
   "nbconvert_exporter": "python",
   "pygments_lexer": "ipython2",
   "version": "2.7.10"
  }
 },
 "nbformat": 4,
 "nbformat_minor": 0
}
