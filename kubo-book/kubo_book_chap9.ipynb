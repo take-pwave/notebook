{
 "cells": [
  {
   "cell_type": "code",
   "execution_count": 1,
   "metadata": {
    "collapsed": true
   },
   "outputs": [],
   "source": [
    "# 最初にpyjagsの使い方を習得\n",
    "# SageMath kernelはだめ、Python 2 Kernel\n",
    "import pyjags\n",
    "import numpy as np"
   ]
  },
  {
   "cell_type": "code",
   "execution_count": 2,
   "metadata": {
    "collapsed": false
   },
   "outputs": [],
   "source": [
    "np.random.seed(0)\n",
    "np.set_printoptions(precision=1)\n",
    "\n",
    "N = 500\n",
    "a = 70\n",
    "b = 4\n",
    "sigma = 50\n",
    "\n",
    "x = np.random.uniform(0, 100, size=N)\n",
    "y = np.random.normal(a + x*b, sigma, size=N)\n",
    "\n",
    "code = '''\n",
    "model {\n",
    "    for (i in 1:N) {\n",
    "        y[i] ~ dnorm(alpha + beta * x[i], tau)\n",
    "    }\n",
    "    alpha ~ dunif(-1e3, 1e3)\n",
    "    beta ~ dunif(-1e3, 1e3)\n",
    "    tau <- 1 / sigma^2\n",
    "    sigma ~ dgamma(1e-4, 1e-4)\n",
    "}\n",
    "'''"
   ]
  },
  {
   "cell_type": "code",
   "execution_count": 3,
   "metadata": {
    "collapsed": false
   },
   "outputs": [
    {
     "name": "stdout",
     "output_type": "stream",
     "text": [
      "adapting: iterations 876 of 4000, elapsed 0:00:01, remaining 0:00:03\n",
      "adapting: iterations 1864 of 4000, elapsed 0:00:02, remaining 0:00:02\n",
      "adapting: iterations 2856 of 4000, elapsed 0:00:03, remaining 0:00:01\n",
      "adapting: iterations 3844 of 4000, elapsed 0:00:04, remaining 0:00:00\n",
      "adapting: iterations 4000 of 4000, elapsed 0:00:04, remaining 0:00:00\n",
      "sampling: iterations 952 of 20000, elapsed 0:00:01, remaining 0:00:19\n",
      "sampling: iterations 1932 of 20000, elapsed 0:00:02, remaining 0:00:18\n",
      "sampling: iterations 2916 of 20000, elapsed 0:00:03, remaining 0:00:17\n",
      "sampling: iterations 3908 of 20000, elapsed 0:00:04, remaining 0:00:16\n",
      "sampling: iterations 4900 of 20000, elapsed 0:00:05, remaining 0:00:15\n",
      "sampling: iterations 5892 of 20000, elapsed 0:00:06, remaining 0:00:14\n",
      "sampling: iterations 6884 of 20000, elapsed 0:00:07, remaining 0:00:13\n",
      "sampling: iterations 7880 of 20000, elapsed 0:00:08, remaining 0:00:12\n",
      "sampling: iterations 8876 of 20000, elapsed 0:00:09, remaining 0:00:11\n",
      "sampling: iterations 9876 of 20000, elapsed 0:00:10, remaining 0:00:10\n",
      "sampling: iterations 10376 of 20000, elapsed 0:00:10, remaining 0:00:10\n",
      "sampling: iterations 10876 of 20000, elapsed 0:00:11, remaining 0:00:09\n",
      "sampling: iterations 11876 of 20000, elapsed 0:00:12, remaining 0:00:08\n",
      "sampling: iterations 12376 of 20000, elapsed 0:00:12, remaining 0:00:08\n",
      "sampling: iterations 12876 of 20000, elapsed 0:00:13, remaining 0:00:07\n",
      "sampling: iterations 13868 of 20000, elapsed 0:00:14, remaining 0:00:06\n",
      "sampling: iterations 14860 of 20000, elapsed 0:00:15, remaining 0:00:05\n",
      "sampling: iterations 15356 of 20000, elapsed 0:00:15, remaining 0:00:05\n",
      "sampling: iterations 15852 of 20000, elapsed 0:00:16, remaining 0:00:04\n",
      "sampling: iterations 16844 of 20000, elapsed 0:00:17, remaining 0:00:03\n",
      "sampling: iterations 17836 of 20000, elapsed 0:00:18, remaining 0:00:02\n",
      "sampling: iterations 18332 of 20000, elapsed 0:00:18, remaining 0:00:02\n",
      "sampling: iterations 19324 of 20000, elapsed 0:00:19, remaining 0:00:01\n",
      "sampling: iterations 19820 of 20000, elapsed 0:00:20, remaining 0:00:00\n",
      "sampling: iterations 20000 of 20000, elapsed 0:00:20, remaining 0:00:00\n"
     ]
    }
   ],
   "source": [
    "model = pyjags.Model(code, data=dict(x=x, y=y, N=N), chains=4)\n",
    "samples = model.sample(5000, vars=['alpha', 'beta', 'sigma'])"
   ]
  },
  {
   "cell_type": "code",
   "execution_count": 4,
   "metadata": {
    "collapsed": false
   },
   "outputs": [
    {
     "name": "stdout",
     "output_type": "stream",
     "text": [
      "alpha  mean =  64.3, 95% credible interval [57.1 71.4]\n",
      "beta   mean =   4.0, 95% credible interval [ 3.9  4.1]\n",
      "sigma  mean =  49.4, 95% credible interval [46.9 52.1]\n"
     ]
    }
   ],
   "source": [
    "def summary(samples, varname, p=95):\n",
    "    values = samples[varname]\n",
    "    ci = np.percentile(values, [100-p, p])\n",
    "    print('{:<6} mean = {:>5.1f}, {}% credible interval [{:>4.1f} {:>4.1f}]'.format(\n",
    "      varname, np.mean(values), p, *ci))\n",
    "\n",
    "for varname in ['alpha', 'beta', 'sigma']:\n",
    "    summary(samples, varname)"
   ]
  },
  {
   "cell_type": "code",
   "execution_count": null,
   "metadata": {
    "collapsed": true
   },
   "outputs": [],
   "source": []
  }
 ],
 "metadata": {
  "kernelspec": {
   "display_name": "Python 2",
   "language": "python",
   "name": "python2"
  },
  "language_info": {
   "codemirror_mode": {
    "name": "ipython",
    "version": 2
   },
   "file_extension": ".py",
   "mimetype": "text/x-python",
   "name": "python",
   "nbconvert_exporter": "python",
   "pygments_lexer": "ipython2",
   "version": "2.7.10"
  }
 },
 "nbformat": 4,
 "nbformat_minor": 0
}
