{
 "cells": [
  {
   "cell_type": "markdown",
   "metadata": {},
   "source": [
    "<html id=\"* graph_euler_method\">\n",
    "\t<author>Hiroshi TAKEMOTO</author>\n",
    "\t(<email>take@pwv.co.jp</email>)\n",
    "\t\n",
    "\t<h1>Sageでグラフを再現してみよう：データ解析のための統計モデリング入門第６章</h1>\n",
    "\t<p>\n",
    "\t\tこの企画は、雑誌や教科書にでているグラフをSageで再現し、\n",
    "\t\tグラフの意味を理解すると共にSageの使い方をマスターすることを目的としています。\n",
    "\t</p>\n",
    "\t<p>\n",
    "\t\t前回に続き、<a href=\"http://www.amazon.co.jp/dp/400006973X/\">データ解析のための統計モデリング入門</a>\n",
    "\t\t（以下、久保本と書きます）\n",
    "\t\tの第6章の例題をSageを使って再現してみます。\n",
    "\t</p>\n",
    "\t<p>\n",
    "\t\t数式処理システムSageのノートブックは、計算結果を表示するだけではなく、実際に動かすことができるのが大きな特徴です。\n",
    "\t\tこの機会にSageを分析に活用してみてはいかがでしょう。\n",
    "\t</p>\n",
    "</html>\n",
    "\n",
    "<html>\n",
    "\t<h2>前準備</h2>\n",
    "\t<p>\n",
    "\t\t最初に必要なライブラリーやパッケージをロードしておきます。\n",
    "\t</p>\n",
    "</html>"
   ]
  },
  {
   "cell_type": "code",
   "execution_count": 1,
   "metadata": {
    "collapsed": true
   },
   "outputs": [],
   "source": [
    "# RとPandasのデータフレームを相互に変換する関数を読み込む\n",
    "# Rの必要なライブラリ\n",
    "r('library(ggplot2)')\n",
    "r('library(jsonlite)')\n",
    "\n",
    "# python用のパッケージ\n",
    "import pandas as pd\n",
    "import numpy as np\n",
    "import matplotlib.pyplot as plt \n",
    "import seaborn as sns\n",
    "# statsmodelsを使ってglmを計算します\n",
    "import statsmodels.formula.api as smf\n",
    "import statsmodels.api as sm\n",
    "from scipy.stats.stats import pearsonr\n",
    "%matplotlib inline\n",
    "\n",
    "# jupyter用のdisplayメソッド\n",
    "from IPython.display import display, Latex, HTML, Math, JSON\n",
    "# sageユーティリティ\n",
    "load('script/sage_util.py')\n",
    "# Rユーティリティ\n",
    "load('script/RUtil.py')"
   ]
  },
  {
   "cell_type": "markdown",
   "metadata": {},
   "source": [
    "<html>\n",
    "\t<h2>上限のあるカウントデータの回帰分析</h2>\n",
    "\t<p>\n",
    "\t\t6章の最初に二項分布を使った回帰分析の例がでてきます。ポアソン分布では上限のないカウントデータでしたが、\n",
    "\t\t上限のある場合には、二項分布を使うのだと説明がありました。\n",
    "\t\t（自然界ではこのように上限のあるカウントデータが多いので、とても参考になりました）\n",
    "\t</p>\n",
    "</html>\n",
    "\n",
    "<html>\n",
    "\t<h3>二項分布用のデータについて</h3>\n",
    "\t<p>\n",
    "\t\t二項分布用のデータは、サポートページにあるdata4a.csvです。\n",
    "\t\tこれを読み込んで、データの性質と分布を表示します。\n",
    "\t</p>\n",
    "\t<p>\n",
    "\t\t直感的に施肥を施す(f=T)ことでサイズxが大きくなっているのが分かります。\n",
    "\t\tまた、サイズと種子数の右上がりの関係が見られます。（種子数の上限は8です。）\n",
    "\t</p>\n",
    "</html>"
   ]
  },
  {
   "cell_type": "code",
   "execution_count": 2,
   "metadata": {
    "collapsed": false
   },
   "outputs": [
    {
     "data": {
      "text/html": [
       "<div>\n",
       "<table border=\"1\" class=\"dataframe\">\n",
       "  <thead>\n",
       "    <tr style=\"text-align: right;\">\n",
       "      <th></th>\n",
       "      <th>N</th>\n",
       "      <th>y</th>\n",
       "      <th>x</th>\n",
       "      <th>f</th>\n",
       "    </tr>\n",
       "  </thead>\n",
       "  <tbody>\n",
       "    <tr>\n",
       "      <th>0</th>\n",
       "      <td>8</td>\n",
       "      <td>1</td>\n",
       "      <td>9.76</td>\n",
       "      <td>C</td>\n",
       "    </tr>\n",
       "    <tr>\n",
       "      <th>1</th>\n",
       "      <td>8</td>\n",
       "      <td>6</td>\n",
       "      <td>10.48</td>\n",
       "      <td>C</td>\n",
       "    </tr>\n",
       "    <tr>\n",
       "      <th>2</th>\n",
       "      <td>8</td>\n",
       "      <td>5</td>\n",
       "      <td>10.83</td>\n",
       "      <td>C</td>\n",
       "    </tr>\n",
       "    <tr>\n",
       "      <th>3</th>\n",
       "      <td>8</td>\n",
       "      <td>6</td>\n",
       "      <td>10.94</td>\n",
       "      <td>C</td>\n",
       "    </tr>\n",
       "    <tr>\n",
       "      <th>4</th>\n",
       "      <td>8</td>\n",
       "      <td>1</td>\n",
       "      <td>9.37</td>\n",
       "      <td>C</td>\n",
       "    </tr>\n",
       "  </tbody>\n",
       "</table>\n",
       "</div>"
      ],
      "text/plain": [
       "   N  y      x  f\n",
       "0  8  1   9.76  C\n",
       "1  8  6  10.48  C\n",
       "2  8  5  10.83  C\n",
       "3  8  6  10.94  C\n",
       "4  8  1   9.37  C"
      ]
     },
     "execution_count": 2,
     "metadata": {},
     "output_type": "execute_result"
    }
   ],
   "source": [
    "# 6章のデータを読み込む\n",
    "d = pd.read_csv('data/data4a.csv')\n",
    "d.head()"
   ]
  },
  {
   "cell_type": "code",
   "execution_count": 3,
   "metadata": {
    "collapsed": false
   },
   "outputs": [
    {
     "data": {
      "text/html": [
       "<div>\n",
       "<table border=\"1\" class=\"dataframe\">\n",
       "  <thead>\n",
       "    <tr style=\"text-align: right;\">\n",
       "      <th></th>\n",
       "      <th>N</th>\n",
       "      <th>y</th>\n",
       "      <th>x</th>\n",
       "    </tr>\n",
       "  </thead>\n",
       "  <tbody>\n",
       "    <tr>\n",
       "      <th>count</th>\n",
       "      <td>100.0</td>\n",
       "      <td>100.000000</td>\n",
       "      <td>100.000000</td>\n",
       "    </tr>\n",
       "    <tr>\n",
       "      <th>mean</th>\n",
       "      <td>8.0</td>\n",
       "      <td>5.080000</td>\n",
       "      <td>9.967200</td>\n",
       "    </tr>\n",
       "    <tr>\n",
       "      <th>std</th>\n",
       "      <td>0.0</td>\n",
       "      <td>2.743882</td>\n",
       "      <td>1.088954</td>\n",
       "    </tr>\n",
       "    <tr>\n",
       "      <th>min</th>\n",
       "      <td>8.0</td>\n",
       "      <td>0.000000</td>\n",
       "      <td>7.660000</td>\n",
       "    </tr>\n",
       "    <tr>\n",
       "      <th>25%</th>\n",
       "      <td>8.0</td>\n",
       "      <td>3.000000</td>\n",
       "      <td>9.337500</td>\n",
       "    </tr>\n",
       "    <tr>\n",
       "      <th>50%</th>\n",
       "      <td>8.0</td>\n",
       "      <td>6.000000</td>\n",
       "      <td>9.965000</td>\n",
       "    </tr>\n",
       "    <tr>\n",
       "      <th>75%</th>\n",
       "      <td>8.0</td>\n",
       "      <td>8.000000</td>\n",
       "      <td>10.770000</td>\n",
       "    </tr>\n",
       "    <tr>\n",
       "      <th>max</th>\n",
       "      <td>8.0</td>\n",
       "      <td>8.000000</td>\n",
       "      <td>12.440000</td>\n",
       "    </tr>\n",
       "  </tbody>\n",
       "</table>\n",
       "</div>"
      ],
      "text/plain": [
       "           N           y           x\n",
       "count  100.0  100.000000  100.000000\n",
       "mean     8.0    5.080000    9.967200\n",
       "std      0.0    2.743882    1.088954\n",
       "min      8.0    0.000000    7.660000\n",
       "25%      8.0    3.000000    9.337500\n",
       "50%      8.0    6.000000    9.965000\n",
       "75%      8.0    8.000000   10.770000\n",
       "max      8.0    8.000000   12.440000"
      ]
     },
     "execution_count": 3,
     "metadata": {},
     "output_type": "execute_result"
    }
   ],
   "source": [
    "d.describe()"
   ]
  },
  {
   "cell_type": "code",
   "execution_count": 4,
   "metadata": {
    "collapsed": false
   },
   "outputs": [
    {
     "data": {
      "image/png": "[encoded data removed]",
      "text/plain": [
       "<matplotlib.figure.Figure object at 0x7fa312f26510>"
      ]
     },
     "metadata": {},
     "output_type": "display_data"
    }
   ],
   "source": [
    "# F別の分布をみる\n",
    "sns.lmplot('x', 'y', data=d, hue='f', fit_reg=False )\n",
    "plt.show()"
   ]
  },
  {
   "cell_type": "markdown",
   "metadata": {},
   "source": [
    "<html>\n",
    "\t<h3>二項分布</h3>\n",
    "\t<p>\n",
    "\t\tここで、Sageのプロット関数を使って二項分布の確率分布がどのような形になっているか\n",
    "\t\t久保本の図6.3と同じ条件でブロットしてみます。\n",
    "\t</p>\n",
    "\t<p>\n",
    "\t\t二項分布を\n",
    "$$\n",
    "\tp(y | N, q) = \\binom{N}{y} q^y (1 -q)^{N-y}\n",
    "$$\t\t\n",
    "\t\t以下の様に_p関数で定義します。\n",
    "\t</p>\n",
    "\t<p>\n",
    "\t\tSageでプロットしてみます。Sageではグラフ（Graphics）にグラフを足すことで、重ね合わせのプロットができます。\n",
    "\t\tとても直感的にグラフを書くことができます。（ggplotも同じです）\n",
    "\t</p>\n",
    "</html>"
   ]
  },
  {
   "cell_type": "code",
   "execution_count": 5,
   "metadata": {
    "collapsed": true
   },
   "outputs": [],
   "source": [
    "# 二項分布を定義\n",
    "def _p(q, y, N):\n",
    "    return binomial(N, y)*q^y*(1-q)^(N-y)"
   ]
  },
  {
   "cell_type": "code",
   "execution_count": 6,
   "metadata": {
    "collapsed": false
   },
   "outputs": [
    {
     "data": {
      "image/png": "[encoded data removed]",
      "text/plain": [
       "Graphics object consisting of 3 graphics primitives"
      ]
     },
     "metadata": {},
     "output_type": "display_data"
    }
   ],
   "source": [
    "g = Graphics()\n",
    "g += list_plot([_p(0.8, y, 8) for y in (0..8)], plotjoined=True, rgbcolor=\"red\", legend_label =\"q=0.8\")\n",
    "g +=  list_plot([_p(0.3, y, 8) for y in (0..8)], plotjoined=True, rgbcolor=\"green\", legend_label =\"q=0.3\")\n",
    "g +=  list_plot([_p(0.1, y, 8) for y in (0..8)], plotjoined=True, rgbcolor=\"blue\", legend_label =\"q=0.1\")\n",
    "g.show(figsize=4)"
   ]
  },
  {
   "cell_type": "markdown",
   "metadata": {},
   "source": [
    "<html>\n",
    "\t<h3>ロジスティック関数</h3>\n",
    "\t<p>\n",
    "\t\tロジスティック関数\n",
    "$$\n",
    "\t\tq_i = logistic(z_i) = \\frac{1}{1 + exp(-z_i)}\n",
    "$$\t\t\n",
    "\t\tの関数を_logisticとして定義し、その分布をSageを使ってプロットします。\n",
    "\t</p>\n",
    "\t<p>\n",
    "\t\tロジスティック関数のような曲線を持つデータの場合には、二項分布の確率分布があると予測して回帰分析を行います。\n",
    "\t\tリンク関数は、ロジスティック関数の逆関数であるロジットリンク関数を指定します。\n",
    "\t</p>\n",
    "\t<p>\n",
    "\t\tロジット関数は、以下の様に表されます(式a)。\n",
    "$$\n",
    "\t\tlogit(q_i) = log \\frac{q_i}{1 - q_i}\n",
    "$$\t\t\n",
    "\t</p>\n",
    "</html>"
   ]
  },
  {
   "cell_type": "code",
   "execution_count": 7,
   "metadata": {
    "collapsed": true
   },
   "outputs": [],
   "source": [
    "# ロジスティック関数の定義\n",
    "def _logistic(z):\n",
    "    return 1/(1 + exp(-z))"
   ]
  },
  {
   "cell_type": "code",
   "execution_count": 8,
   "metadata": {
    "collapsed": false
   },
   "outputs": [
    {
     "data": {
      "image/png": "[encoded data removed]",
      "text/plain": [
       "Graphics object consisting of 1 graphics primitive"
      ]
     },
     "execution_count": 8,
     "metadata": {},
     "output_type": "execute_result"
    }
   ],
   "source": [
    "# ロジスティック曲線\n",
    "plot(_logistic(x), [x, -6, 6], figsize=4, legend_label='$q=\\\\frac{1}{1+exp(-z)}$')"
   ]
  },
  {
   "cell_type": "markdown",
   "metadata": {},
   "source": [
    "<html>\n",
    "\t<h3>パラメータ推定</h3>\n",
    "\t<p>\n",
    "\t\t残念ながら、statmodelsではcbindに相当する二項分布の解析方法が分からず、\n",
    "\t\tRを使って計算することにしました。\n",
    "\t</p>\n",
    "\t<p>\n",
    "\t\tSageの中からRの関数を使うことができるので、計算を中断することなく進めることができます。\n",
    "\t</p>\n",
    "\t<p>\n",
    "\t\t回帰の結果、$\\beta_1 = -19.536, \\beta_2 = 1.95, \\beta_3=2.02$と求まりました。\n",
    "\t</p>\n",
    "</html>"
   ]
  },
  {
   "cell_type": "code",
   "execution_count": 9,
   "metadata": {
    "collapsed": true
   },
   "outputs": [],
   "source": [
    "# statmodelsでcbind(y, N -y)の部分を表現する方法が見つからなかった\n",
    "# 0, 1の場合には、statmodelsでも解析可能です。\n",
    "# 残念ですが、Rを使って処理します。\n",
    "PandaDf2RDf(d, \"d\")"
   ]
  },
  {
   "cell_type": "code",
   "execution_count": 10,
   "metadata": {
    "collapsed": false
   },
   "outputs": [
    {
     "data": {
      "text/plain": [
       "\n",
       "Call:  glm(formula = cbind(y, N - y) ~ x + f, family = binomial, data = d)\n",
       "\n",
       "Coefficients:\n",
       "(Intercept)            x           fT  \n",
       "    -19.536        1.952        2.022  \n",
       "\n",
       "Degrees of Freedom: 99 Total (i.e. Null);  97 Residual\n",
       "Null Deviance:\t    499.2 \n",
       "Residual Deviance: 123 \tAIC: 272.2"
      ]
     },
     "execution_count": 10,
     "metadata": {},
     "output_type": "execute_result"
    }
   ],
   "source": [
    "r('glm(cbind(y, N - y) ~ x + f, data=d, family=binomial)')"
   ]
  },
  {
   "cell_type": "markdown",
   "metadata": {},
   "source": [
    "<html>\n",
    "\t<h3>結果の図化</h3>\n",
    "\t<p>\n",
    "\t\tSageを使って解析結果、施肥あり$logistic(-19.536+1.952x + 2.022)$、施肥なし$logistic(-19.536+1.952x)$をプロットしました。\n",
    "\t</p>\n",
    "</html>"
   ]
  },
  {
   "cell_type": "code",
   "execution_count": 11,
   "metadata": {
    "collapsed": false
   },
   "outputs": [
    {
     "data": {
      "image/png": "[encoded data removed]",
      "text/plain": [
       "Graphics object consisting of 4 graphics primitives"
      ]
     },
     "metadata": {},
     "output_type": "display_data"
    }
   ],
   "source": [
    "dT = d[d.f == 'T']\n",
    "dC = d[d.f == 'C']\n",
    "dT_pts = list_plot(zip(dT.x, dT.y), zorder=2)\n",
    "dC_pts = list_plot(zip(dC.x, dC.y), zorder=2, rgbcolor='red')\n",
    "dT_plt = plot(_logistic(-19.536+1.952*x + 2.022)*8, [x, 7, 13])\n",
    "dC_plt = plot(_logistic(-19.536+1.952*x)*8, [x, 7, 13], rgbcolor='red')\n",
    "(dT_pts+dT_plt+dC_pts+dC_plt).show(figsize=4)"
   ]
  },
  {
   "cell_type": "markdown",
   "metadata": {},
   "source": [
    "<html>\n",
    "\t<h3>結果の解釈</h3>\n",
    "\t<p>\n",
    "\t\t久保本のすごいところは、単に回帰をすることで終わらず、その解釈を説明しているところです。\n",
    "\t\tリンク関数がロジット関数である(式a)であることから\n",
    "$$\n",
    "\t\tlog \\frac{q_i}{1 - q_i} = \\beta_1 + \\beta_2 x_i + \\beta_3 f_i\n",
    "$$\t\t\n",
    "\t\tとなり、両辺の指数を取ると、\n",
    "$$\n",
    "\t\t\\frac{q_i}{1 - q_i} = exp(\\beta_1 + \\beta_2 x_i + \\beta_3 f_i) \n",
    "\t\t\t\t\t\t\t= exp(\\beta_1) exp(\\beta_2 x_i) exp(\\beta_3 f_i)\n",
    "$$\t\t\n",
    "\t\tとなります。$\\frac{q_i}{1 - q_i}$がオッズと呼ばれる量です。\n",
    "\t</p>\n",
    "\t<p>\n",
    "\t\t施肥の有無による違いは、exp(2.02)=7.5倍であると推定されました。\n",
    "\t</p>\n",
    "</html>"
   ]
  },
  {
   "cell_type": "markdown",
   "metadata": {},
   "source": [
    "<html>\n",
    "\t<h2>割り算を使わない方法はすごい！</h2>\n",
    "\t<p>\n",
    "\t\t久保本の6章で感動したのは、割り算を使わない方法です。\n",
    "\t\t私のようなものは、割り算を使って正規化してしまいますが、\n",
    "\t\tこのように割り算をしないで、回帰分析する方法としてオフセット項の使い方を\n",
    "\t\t紹介しています。\n",
    "\t</p>\n",
    "\t<p>\n",
    "\t\tオフセット用のデータには、data4b.csvを使います。\n",
    "\t\tこのデータは、\n",
    "\t\t<ul>\n",
    "\t\t\t<li>調査地iの面積を$A_i$</li>\n",
    "\t\t\t<li>調査地iの明るさを$x_i$</li>\n",
    "\t\t\t<li>調査地iにおける植物個体数$y_i$</li>\n",
    "\t\t</ul>\n",
    "\t\tの記録です。横軸にA, 縦軸にyを取りデータをプロットすると以下の様になります。\n",
    "\t\t面積が大きいほど植物個体数が多く、xが大きい（明るい）程植物個体数が多いことが\n",
    "\t\t見て取れます。\n",
    "\t</p>\n",
    "\t<p>\n",
    "\t\tオフセット項は、offset=np.log(オフセットのカラム)のように指定します。ここでは、オフセット値Aのlogを\n",
    "\t\t取った値が使われていますが、これは以下のような理由からです。\n",
    "\t</p>\n",
    "\t<p>\n",
    "\t\t人口密度を以下の様に表し、\n",
    "$$\n",
    "\t\t\\frac{平均個体数\\lambda_i}{A_i} = 人口密度\n",
    "$$\t\t\n",
    "\t\t平均個体数と明るさに指数関数的な関係があると仮定すると、\n",
    "$$\n",
    "\t\t\\lambda_i = A_i \\times 人口密度 = A_i exp(\\beta_1 + \\beta_2 x_i)\n",
    "$$\t\t\n",
    "\t\tここで、面積を掛けている部分にlogを使うことで\n",
    "$$\n",
    "\t\t\\lambda_i  = exp(\\beta_1 + \\beta_2 x_i + log A_i)\n",
    "$$\t\t\n",
    "\t\tと変形することができます。つまり、$log A_i$だけずれた値（オフセット項）、久保本では「げた」をはかせたと考えると\n",
    "\t\tよいとありました。\n",
    "\t</p>\n",
    "</html>"
   ]
  },
  {
   "cell_type": "code",
   "execution_count": 12,
   "metadata": {
    "collapsed": false
   },
   "outputs": [
    {
     "data": {
      "text/html": [
       "<div>\n",
       "<table border=\"1\" class=\"dataframe\">\n",
       "  <thead>\n",
       "    <tr style=\"text-align: right;\">\n",
       "      <th></th>\n",
       "      <th>y</th>\n",
       "      <th>x</th>\n",
       "      <th>A</th>\n",
       "    </tr>\n",
       "  </thead>\n",
       "  <tbody>\n",
       "    <tr>\n",
       "      <th>0</th>\n",
       "      <td>57</td>\n",
       "      <td>0.68</td>\n",
       "      <td>10.3</td>\n",
       "    </tr>\n",
       "    <tr>\n",
       "      <th>1</th>\n",
       "      <td>64</td>\n",
       "      <td>0.27</td>\n",
       "      <td>15.6</td>\n",
       "    </tr>\n",
       "    <tr>\n",
       "      <th>2</th>\n",
       "      <td>49</td>\n",
       "      <td>0.46</td>\n",
       "      <td>10.0</td>\n",
       "    </tr>\n",
       "    <tr>\n",
       "      <th>3</th>\n",
       "      <td>64</td>\n",
       "      <td>0.45</td>\n",
       "      <td>14.9</td>\n",
       "    </tr>\n",
       "    <tr>\n",
       "      <th>4</th>\n",
       "      <td>82</td>\n",
       "      <td>0.74</td>\n",
       "      <td>14.0</td>\n",
       "    </tr>\n",
       "  </tbody>\n",
       "</table>\n",
       "</div>"
      ],
      "text/plain": [
       "    y     x     A\n",
       "0  57  0.68  10.3\n",
       "1  64  0.27  15.6\n",
       "2  49  0.46  10.0\n",
       "3  64  0.45  14.9\n",
       "4  82  0.74  14.0"
      ]
     },
     "execution_count": 12,
     "metadata": {},
     "output_type": "execute_result"
    }
   ],
   "source": [
    "# オフセット用のデータを読み込む\n",
    "d2 = pd.read_csv('data/data4b.csv')\n",
    "d2.head()"
   ]
  },
  {
   "cell_type": "code",
   "execution_count": 13,
   "metadata": {
    "collapsed": false
   },
   "outputs": [
    {
     "data": {
      "image/png": "[encoded data removed]",
      "text/plain": [
       "<matplotlib.figure.Figure object at 0x7fa30fa0dd50>"
      ]
     },
     "metadata": {},
     "output_type": "display_data"
    }
   ],
   "source": [
    "# Aの値で色を変えてプロット\n",
    "sns.lmplot('A', 'y', data=d2, hue='x', fit_reg=False, legend=False)\n",
    "plt.show()"
   ]
  },
  {
   "cell_type": "markdown",
   "metadata": {
    "collapsed": true
   },
   "source": [
    "<html>\n",
    "\t<h3>推定値</h3>\n",
    "\t<p>\n",
    "\t\t推定された値をプロットすると以下のようになります。\n",
    "\t\tデータよりもはっきりと明るさによる影響がきれいに分かります。（そのようにモデルを作ったので当たり前なのですが）\n",
    "\t</p>\n",
    "</html>"
   ]
  },
  {
   "cell_type": "code",
   "execution_count": 14,
   "metadata": {
    "collapsed": false
   },
   "outputs": [
    {
     "data": {
      "text/html": [
       "<table class=\"simpletable\">\n",
       "<tr>\n",
       "        <td>Model:</td>               <td>GLM</td>            <td>AIC:</td>       <td>650.3406</td> \n",
       "</tr>\n",
       "<tr>\n",
       "    <td>Link Function:</td>           <td>log</td>            <td>BIC:</td>       <td>-369.6983</td>\n",
       "</tr>\n",
       "<tr>\n",
       "  <td>Dependent Variable:</td>         <td>y</td>        <td>Log-Likelihood:</td>  <td>-323.17</td> \n",
       "</tr>\n",
       "<tr>\n",
       "         <td>Date:</td>        <td>2016-07-17 10:01</td>    <td>LL-Null:</td>      <td>-413.09</td> \n",
       "</tr>\n",
       "<tr>\n",
       "   <td>No. Observations:</td>         <td>100</td>          <td>Deviance:</td>     <td>81.608</td>  \n",
       "</tr>\n",
       "<tr>\n",
       "       <td>Df Model:</td>              <td>1</td>         <td>Pearson chi2:</td>    <td>81.5</td>   \n",
       "</tr>\n",
       "<tr>\n",
       "     <td>Df Residuals:</td>           <td>98</td>            <td>Scale:</td>       <td>1.0000</td>  \n",
       "</tr>\n",
       "<tr>\n",
       "        <td>Method:</td>             <td>IRLS</td>              <td></td>             <td></td>     \n",
       "</tr>\n",
       "</table>\n",
       "<table class=\"simpletable\">\n",
       "<tr>\n",
       "      <td></td>       <th>Coef.</th> <th>Std.Err.</th>    <th>z</th>     <th>P>|z|</th> <th>[0.025</th> <th>0.975]</th>\n",
       "</tr>\n",
       "<tr>\n",
       "  <th>Intercept</th> <td>0.9731</td>  <td>0.0451</td>  <td>21.5999</td> <td>0.0000</td> <td>0.8848</td> <td>1.0614</td>\n",
       "</tr>\n",
       "<tr>\n",
       "  <th>x</th>         <td>1.0383</td>  <td>0.0777</td>  <td>13.3638</td> <td>0.0000</td> <td>0.8860</td> <td>1.1905</td>\n",
       "</tr>\n",
       "</table>"
      ],
      "text/plain": [
       "<class 'statsmodels.iolib.summary2.Summary'>\n",
       "\"\"\"\n",
       "               Results: Generalized linear model\n",
       "==============================================================\n",
       "Model:              GLM              AIC:            650.3406 \n",
       "Link Function:      log              BIC:            -369.6983\n",
       "Dependent Variable: y                Log-Likelihood: -323.17  \n",
       "Date:               2016-07-17 10:01 LL-Null:        -413.09  \n",
       "No. Observations:   100              Deviance:       81.608   \n",
       "Df Model:           1                Pearson chi2:   81.5     \n",
       "Df Residuals:       98               Scale:          1.0000   \n",
       "Method:             IRLS                                      \n",
       "---------------------------------------------------------------\n",
       "              Coef.   Std.Err.     z     P>|z|   [0.025  0.975]\n",
       "---------------------------------------------------------------\n",
       "Intercept     0.9731    0.0451  21.5999  0.0000  0.8848  1.0614\n",
       "x             1.0383    0.0777  13.3638  0.0000  0.8860  1.1905\n",
       "==============================================================\n",
       "\n",
       "\"\"\""
      ]
     },
     "execution_count": 14,
     "metadata": {},
     "output_type": "execute_result"
    }
   ],
   "source": [
    "fit = smf.glm('y ~ x', data=d2, offset=np.log(d2.A), family=sm.families.Poisson(link=sm.families.links.log)).fit()\n",
    "fit.summary2()"
   ]
  },
  {
   "cell_type": "code",
   "execution_count": 15,
   "metadata": {
    "collapsed": false
   },
   "outputs": [
    {
     "data": {
      "image/png": "[encoded data removed]",
      "text/plain": [
       "<matplotlib.figure.Figure object at 0x7fa30f8b4b90>"
      ]
     },
     "metadata": {},
     "output_type": "display_data"
    }
   ],
   "source": [
    "d2['pred'] = fit.predict()\n",
    "# xの値で色を変えてプロット\n",
    "sns.lmplot('A', 'pred', data=d2, hue='x', fit_reg=False, legend=False)\n",
    "plt.show()"
   ]
  },
  {
   "cell_type": "markdown",
   "metadata": {},
   "source": [
    "<html>\n",
    "\t<h2>正規分布と尤度</h2>\n",
    "\t<p>\n",
    "\t\tSageにも確率分布を扱う関数RealDistirubtionがVer.5から導入されました。（まだ一部の関数のサポートですが）\n",
    "\t\tこれを使って、正規分布の確率密度関数をプロットしていました。\n",
    "\t</p>\n",
    "</html>"
   ]
  },
  {
   "cell_type": "code",
   "execution_count": 16,
   "metadata": {
    "collapsed": true
   },
   "outputs": [],
   "source": [
    "# Sage ver.5から導入されたRealDistributionを使う\n",
    "T1 = RealDistribution('gaussian', 1, seed=101)\n",
    "T2 = RealDistribution('gaussian', 3, seed=101)"
   ]
  },
  {
   "cell_type": "code",
   "execution_count": 17,
   "metadata": {
    "collapsed": false
   },
   "outputs": [
    {
     "data": {
      "image/png": "[encoded data removed]",
      "text/plain": [
       "Graphics object consisting of 3 graphics primitives"
      ]
     },
     "metadata": {},
     "output_type": "display_data"
    }
   ],
   "source": [
    "T1_plt = plot(lambda x : T1.distribution_function(x), [x, -4, 4], rgbcolor=\"red\")\n",
    "T2_plt = plot(lambda x : T2.distribution_function(x), [x, -4, 4], rgbcolor=\"green\")\n",
    "T3_plt = plot(lambda x : T1.distribution_function(x-2), [x, -4, 4], rgbcolor=\"blue\")\n",
    "(T1_plt + T2_plt + T3_plt).show(figsize=4)"
   ]
  },
  {
   "cell_type": "markdown",
   "metadata": {},
   "source": [
    "<html>\n",
    "\t<h3>確率密度関数から確率を得る</h3>\n",
    "\t<p>\n",
    "\t\t確率密度関数から指定された範囲に含まれる確率は、その範囲の面積になります。（その範囲で積分した値）\n",
    "\t\tcum_distribution_functionは、マイナス無限大から指定された値までの確立を計算するので、\n",
    "\t\tこの関数の差を計算することで、指定範囲の確率（面積）を求めることができます。\n",
    "\t</p>\n",
    "</html>"
   ]
  },
  {
   "cell_type": "code",
   "execution_count": 18,
   "metadata": {
    "collapsed": false
   },
   "outputs": [
    {
     "data": {
      "text/plain": [
       "0.07913935110878245"
      ]
     },
     "execution_count": 18,
     "metadata": {},
     "output_type": "execute_result"
    }
   ],
   "source": [
    "# xが1.2から1.8となる確率は、cum_distribution_functionの差で計算で求まる\n",
    "T1.cum_distribution_function(1.8) - T1.cum_distribution_function(1.2)"
   ]
  },
  {
   "cell_type": "markdown",
   "metadata": {},
   "source": [
    "<html>\n",
    "\t<h3>正規分布の尤度</h3>\n",
    "\t<p>\n",
    "\t\t久保本に従って正規分布の尤度をと最尤尤度を求めてみます。\n",
    "\t\t$y_iがy_i - 0.5\\Delta y \\leq y \\leq y_i + 0.5\\Delta y$である確率は、\n",
    "$$\n",
    "\t\t\\begin{eqnarray}\n",
    "\t\t\tL(\\mu, \\sigma) & = &  \\prod_i p(y_i | \\mu, \\sigma) \\Delta y \\\\\n",
    "\t\t\t\t& = & \\prod_i \\frac{1}{\\sqrt{2 \\pi \\sigma^2}} exp\\left\\{ \\frac{(y_i - \\mu)^2}{2\\sigma^2} \\right\\} \\Delta y \\\\\n",
    "\t\t\t\t& = & \\prod_i (2 \\pi \\sigma^2)^{-\\frac{1}{2}} exp\\left\\{ \\frac{(y_i - \\mu)^2}{2\\sigma^2} \\right\\} \\Delta y\n",
    "\t\t\\end{eqnarray}\n",
    "$$\t\n",
    "\t\t両辺をlogを取って\n",
    "$$\n",
    "\\begin{eqnarray}\n",
    "\tlog L(\\mu, \\sigma)  & = & -\\frac{1}{2} \\sum_i log(2 \\pi \\sigma^2) - \\frac{1}{2 \\sigma^2} \\sum_i (y_i - \\mu)^2 + \\sum_i log(\\Delta y) \\\\\n",
    "\t\t\t\t\t\t& = & -\\frac{1}{2} N log(2 \\pi \\sigma^2) - \\frac{1}{2 \\sigma^2} \\sum_i (y_i - \\mu)^2 + N log(\\Delta y) \n",
    "\\end{eqnarray}\n",
    "$$\n",
    "\t\t$\\Delta y$の項を無視すると、\n",
    "$$\n",
    "\tlog L(\\mu, \\sigma) = -\\frac{1}{2} N log(2 \\pi \\sigma^2) - \\frac{1}{2 \\sigma^2} \\sum_i (y_i - \\mu)^2\n",
    "$$\t\t\n",
    "\t\tとなります。これを$\\mu$で偏微分し、最小となるのは、$y = \\mu$と求まります。（最小自乗法の解と同じ）\n",
    "\t</p>\n",
    "</html>"
   ]
  },
  {
   "cell_type": "markdown",
   "metadata": {},
   "source": [
    "<html>\n",
    "\t<h2>ガンマ分布</h2>\n",
    "\t<p>\n",
    "\t\tどんなときにガンマ分布を使うのかGoogleでみると、正の値で、寿命や待ち時間など経過時間に無関係一定値の場合に、\n",
    "\t\t使われるとありました。\n",
    "\t</p>\n",
    "\t<p>\n",
    "\t\tガンマ分布をSageでプロットしてみます。\n",
    "\t</p>\n",
    "</html>"
   ]
  },
  {
   "cell_type": "code",
   "execution_count": 19,
   "metadata": {
    "collapsed": true
   },
   "outputs": [],
   "source": [
    "# Rの乱数の種をセット\n",
    "r('set.seed(101)')\n",
    "# Rのdgammaを使用\n",
    "def _gamma(y, shape, rate):\n",
    "    return sageobj(r('dgamma(%s, %s, %s)' %(y, shape, rate)))"
   ]
  },
  {
   "cell_type": "code",
   "execution_count": 20,
   "metadata": {
    "collapsed": false
   },
   "outputs": [
    {
     "data": {
      "image/png": "[encoded data removed]",
      "text/plain": [
       "Graphics object consisting of 2 graphics primitives"
      ]
     },
     "metadata": {},
     "output_type": "display_data"
    }
   ],
   "source": [
    "g = Graphics()\n",
    "g += plot(lambda x: _gamma(x, 1, 1), [x, 0, 4], rgbcolor=\"red\", legend_label =\"r=s=1\")\n",
    "g += plot(lambda x: _gamma(x, 5, 5), [x, 0, 4], rgbcolor=\"green\", legend_label =\"r=s=5\")\n",
    "#g += plot(lambda x: _gamma(x, 0.1, 0.1), [x, 0, 4], rgbcolor=\"blue\", legend_label =\"r=s=0.1\")\n",
    "g.show(figsize=4)"
   ]
  },
  {
   "cell_type": "markdown",
   "metadata": {},
   "source": [
    "<html>\n",
    "\t<h3>ガンマ分布を使った回帰分析</h3>\n",
    "\t<p>\n",
    "\t\t例題では、ある個体の花の重量を$y_i$が平均$\\mu_i$のガンマ分布にしたがっていると仮定します。\n",
    "$$\n",
    "\t\t\\mu_i = A x_i^b\n",
    "$$\t\t\n",
    "\t\tで、A=exp(a)とすると、\n",
    "$$\n",
    "\t\t\\mu_i = exp(a)x_i^b = exp(a + log x_i^b) = exp(a + b log x_i)\n",
    "$$\t\t\n",
    "\t\tと表され、リンク関数は、expの逆関数のlogとなり、\n",
    "$$\n",
    "\t\tlog \\mu_i = a + b log x_i\n",
    "$$\t\t\n",
    "\t\tとなります。\n",
    "\t</p>\n",
    "\t<p>\n",
    "\t\tガンマ分布の例題データは、RData形式なので、Rで解析します。family=Gamma(link=\"log\")でリンク関数logのガンマ分布を指定します。\n",
    "\t</p>\n",
    "\t<p>\n",
    "\t\tglmを使うと複雑な分布の回帰が簡単に計算できます。しかし、どのモデルが良いかは、\n",
    "\t\tプロット結果を見ながら判断するのがよいと実感しました。人間の目で分からない違いは、尤度やAICを使うのが現実できなのでは？\n",
    "\t</p>\n",
    "</html>"
   ]
  },
  {
   "cell_type": "code",
   "execution_count": 21,
   "metadata": {
    "collapsed": false
   },
   "outputs": [
    {
     "data": {
      "text/plain": [
       "\n",
       "Call:  glm(formula = y ~ log(x), family = Gamma(link = \"log\"), data = d)\n",
       "\n",
       "Coefficients:\n",
       "(Intercept)       log(x)  \n",
       "    -1.0403       0.6833  \n",
       "\n",
       "Degrees of Freedom: 49 Total (i.e. Null);  48 Residual\n",
       "Null Deviance:\t    35.37 \n",
       "Residual Deviance: 17.25 \tAIC: -110.9"
      ]
     },
     "execution_count": 21,
     "metadata": {},
     "output_type": "execute_result"
    }
   ],
   "source": [
    "# ガンマ分布用のデータを使って回帰分析\n",
    "r('load(\"data/d.RData\")')\n",
    "r('glm(y ~ log(x), family=Gamma(link=\"log\"), data=d)')"
   ]
  },
  {
   "cell_type": "code",
   "execution_count": 23,
   "metadata": {
    "collapsed": false
   },
   "outputs": [
    {
     "data": {
      "image/png": "[encoded data removed]",
      "text/plain": [
       "<wand.image.Image: 45425b5 'PDF' (504x504)>"
      ]
     },
     "execution_count": 23,
     "metadata": {},
     "output_type": "execute_result"
    }
   ],
   "source": [
    "# 結果の図化、stat_smoothのglmを使う場合、method.argsにfamilyをセットするのに変わったみたい。\n",
    "graph = preGraph(\"images/fig-6.13.pdf\")\n",
    "r('p <- ggplot(data=d, aes(x=x, y=y)) + geom_point() + stat_smooth(method=glm, formula=y ~ log(x), method.args = list(family=Gamma(link=\"log\")))')\n",
    "r('plot(p)')\n",
    "postGraph(graph)"
   ]
  },
  {
   "cell_type": "code",
   "execution_count": null,
   "metadata": {
    "collapsed": true
   },
   "outputs": [],
   "source": []
  }
 ],
 "metadata": {
  "kernelspec": {
   "display_name": "SageMath 7.2",
   "language": "",
   "name": "sagemath"
  },
  "language_info": {
   "codemirror_mode": {
    "name": "ipython",
    "version": 2
   },
   "file_extension": ".py",
   "mimetype": "text/x-python",
   "name": "python",
   "nbconvert_exporter": "python",
   "pygments_lexer": "ipython2",
   "version": "2.7.10"
  }
 },
 "nbformat": 4,
 "nbformat_minor": 0
}
