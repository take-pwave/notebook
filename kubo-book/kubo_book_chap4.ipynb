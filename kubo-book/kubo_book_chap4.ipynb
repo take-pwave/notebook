{
 "cells": [
  {
   "cell_type": "markdown",
   "metadata": {},
   "source": [
    "<html id=\"* graph_euler_method\">\n",
    "\t<author>Hiroshi TAKEMOTO</author>\n",
    "\t(<email>take.pwave@gmail.com</email>)\n",
    "\t\n",
    "\t<h1>Sageでグラフを再現してみよう：データ解析のための統計モデリング入門第４章</h1>\n",
    "\t<p>\n",
    "\t\tこの企画は、雑誌や教科書にでているグラフをSageで再現し、\n",
    "\t\tグラフの意味を理解すると共にSageの使い方をマスターすることを目的としています。\n",
    "\t</p>\n",
    "\t<p>\n",
    "\t\t前回に続き、<a href=\"http://www.amazon.co.jp/dp/400006973X/\">データ解析のための統計モデリング入門</a>\n",
    "\t\t（以下、久保本と書きます）\n",
    "\t\tの第４章の例題をSageを使って再現してみます。\n",
    "\t</p>\n",
    "\t<p>\n",
    "\t\t4章のメインは、久保本図4.9（以下に引用）のバイアス補正とその分布にあると思います。\t\t\n",
    "\t</p>\n",
    "\t<p>\n",
    "\t\t<img src=\"images/fig-4.9.png\"/>\n",
    "\t</p>\n",
    "\t<p>\n",
    "\t\t数式処理システムSageのノートブックは、計算結果を表示するだけではなく、実際に動かすことができるの大きな特徴です。\n",
    "\t\tこの機会にSageを分析に活用してみてはいかがでしょう。\n",
    "\t</p>\n",
    "</html>\n",
    "\n",
    "<html>\n",
    "\t<h2>前準備</h2>\n",
    "\t<p>\n",
    "\t\t最初に必要なライブラリーやパッケージをロードしておきます。jupyter用に新しくなったRUtil.pyも使います。\n",
    "\t</p>\n",
    "</html>"
   ]
  },
  {
   "cell_type": "code",
   "execution_count": 1,
   "metadata": {
    "collapsed": false
   },
   "outputs": [
    {
     "data": {
      "text/html": [
       "<link rel=\"stylesheet\" type=\"text/css\" href=\"css/sage_table_form.css\">"
      ],
      "text/plain": [
       "<IPython.core.display.HTML object>"
      ]
     },
     "metadata": {},
     "output_type": "display_data"
    }
   ],
   "source": [
    "%%HTML\n",
    "<link rel=\"stylesheet\" type=\"text/css\" href=\"css/sage_table_form.css\">"
   ]
  },
  {
   "cell_type": "code",
   "execution_count": 2,
   "metadata": {
    "collapsed": true
   },
   "outputs": [],
   "source": [
    "# RとPandasのデータフレームを相互に変換する関数を読み込む\n",
    "# Rの必要なライブラリ\n",
    "r('library(ggplot2)')\n",
    "r('library(jsonlite)')\n",
    "\n",
    "# python用のパッケージ\n",
    "import pandas as pd\n",
    "import numpy as np\n",
    "import matplotlib.pyplot as plt \n",
    "import seaborn as sns\n",
    "%matplotlib inline\n",
    "\n",
    "# jupyter用のdisplayメソッド\n",
    "from IPython.display import display, Latex, HTML, Math, JSON\n",
    "# sageユーティリティ\n",
    "load('script/sage_util.py')\n",
    "# Rユーティリティ\n",
    "load('script/RUtil.py')"
   ]
  },
  {
   "cell_type": "markdown",
   "metadata": {},
   "source": [
    "<html>\n",
    "\t<h2>あてはまりの良さとモデルの複雑さ</h2>\n",
    "\t<p>\n",
    "\t\t「あてはまりの良さとモデルの複雑さ」を説明するために、３章のデータを使ってk=1とk=7の結果の比較が示されています。\n",
    "\t\tこのような図を簡単に再現できれば、実際の分析の時にも役立つと思います。\n",
    "\t</p>\n",
    "\t<p>\n",
    "\t\t3章のデータをも一度読み込み、statsmodelsのglmを使ってk=1とその結果をプロットします。\n",
    "\t</p>\n",
    "</html>"
   ]
  },
  {
   "cell_type": "code",
   "execution_count": 3,
   "metadata": {
    "collapsed": true
   },
   "outputs": [],
   "source": [
    "# 3章のデータをもう一度読み込む\n",
    "d = pd.read_csv('http://hosho.ees.hokudai.ac.jp/~kubo/stat/iwanamibook/fig/poisson/data3a.csv')\n",
    "d_C = d[d['f'] == 'C']\n",
    "d_T = d[d['f'] == 'T']"
   ]
  },
  {
   "cell_type": "code",
   "execution_count": 4,
   "metadata": {
    "collapsed": true
   },
   "outputs": [],
   "source": [
    "# statsmodelsを使ってglmを計算します\n",
    "import statsmodels.formula.api as smf\n",
    "import statsmodels.api as sm\n",
    "from scipy.stats.stats import pearsonr"
   ]
  },
  {
   "cell_type": "code",
   "execution_count": 5,
   "metadata": {
    "collapsed": true
   },
   "outputs": [],
   "source": [
    "# k=1でのglm回帰を実行\n",
    "fit_1 = smf.glm('y ~ 1', data=d, family=sm.families.Poisson(link=sm.families.links.log)).fit()\n",
    "# λの予測値をλ_1にセット\n",
    "d['lam_1'] = fit_1.predict()"
   ]
  },
  {
   "cell_type": "code",
   "execution_count": 6,
   "metadata": {
    "collapsed": false
   },
   "outputs": [
    {
     "data": {
      "image/png": "[encoded data removed]",
      "text/plain": [
       "<matplotlib.figure.Figure object at 0x7ff65b956c90>"
      ]
     },
     "metadata": {},
     "output_type": "display_data"
    }
   ],
   "source": [
    "# λの予測値と一緒にプロット\n",
    "ax = d.sort_values(by=['x']).plot(x='x', y='lam_1')\n",
    "d_T.plot(kind='scatter', x='x', y='y', c='r', ax=ax, label='T')\n",
    "d_C.plot(kind='scatter', x='x', y='y', c='b', ax=ax, label='C')\n",
    "plt.legend(loc='upper left')\n",
    "plt.show()"
   ]
  },
  {
   "cell_type": "markdown",
   "metadata": {},
   "source": [
    "<html>\n",
    "\t<h3>多次元のglmをstatsmodelsで行う</h3>\n",
    "\t<p>\n",
    "\t\t次にk=7（$log \\lambda = \\beta_1 + \\beta_2 x + ... + \\beta_7 x^6$）の計算は、$x^n$\n",
    "      を計算するカスタム関数nPwOfをformulaの中で使用することで、実現できました。\n",
    "\t</p>\n",
    "    <p>\n",
    "      予測値は、データのある点のみを結線したため、カクカクしているところもありますが、データの中心部分を通っています。\n",
    "    </p>\n",
    "    <p>\n",
    "      k=1とk=7の結果をみるとk=7の結果は、あまりにも複雑な曲線を示しており、機械学習でいうところの「過学習」 \n",
    "      （Overfitting）の状態になっています。過学習では、学習用データ（ここでいうサンプルデータ）に引きずられ、 \n",
    "      真のモデルから離れてしまいます。\n",
    "    </p>\n",
    "</html>"
   ]
  },
  {
   "cell_type": "code",
   "execution_count": 7,
   "metadata": {
    "collapsed": false
   },
   "outputs": [],
   "source": [
    "# カスタム関数nPwOfを使って多項式近似を行う\n",
    "def nPwOf(n, x):\n",
    "    return x^n\n",
    "formula = 'y ~ nPwOf(7, x) +  nPwOf(6, x) + nPwOf(5, x) + nPwOf(4, x) +  nPwOf(3, x) + nPwOf(2, x) + x'\n",
    "fit_1 = smf.glm(formula=formula, data=d, family=sm.families.Poisson(link=sm.families.links.log)).fit()\n",
    "# λの予測値をλ_1にセット\n",
    "d['lam_7'] = fit_1.predict()"
   ]
  },
  {
   "cell_type": "code",
   "execution_count": 8,
   "metadata": {
    "collapsed": false
   },
   "outputs": [
    {
     "data": {
      "image/png": "[encoded data removed]",
      "text/plain": [
       "<matplotlib.figure.Figure object at 0x7ff6581e0fd0>"
      ]
     },
     "metadata": {},
     "output_type": "display_data"
    }
   ],
   "source": [
    "# λの予測値と一緒にプロット\n",
    "ax = d.sort_values(by=['x']).plot(x='x', y='lam_7')\n",
    "d_T.plot(kind='scatter', x='x', y='y', c='r', ax=ax, label='T')\n",
    "d_C.plot(kind='scatter', x='x', y='y', c='b', ax=ax, label='C')\n",
    "plt.legend(loc='upper left')\n",
    "plt.show()"
   ]
  },
  {
   "cell_type": "markdown",
   "metadata": {},
   "source": [
    "<html>\n",
    "\t<h2>さまざまな逸脱度</h2>\n",
    "\t<p>\n",
    "\t\t逸脱度は、「あてはまりの悪さ」を表現する指標と久保本では説明されています。\n",
    "\t</p>\n",
    "\t<p>\n",
    "\t\t最大対数尤度を$log L^*$とすると、逸脱度(D)は以下の様に定義されます。\n",
    "$$\n",
    "\tD = -2 log L^*\n",
    "$$\t\t\n",
    "\t</p>\n",
    "\t<p>\n",
    "\t\t4章で登場する逸脱度を以下の表に示します。\n",
    "\t\t最大の逸脱度は、一定モデルで、最小の逸脱度はフルモデルです。\n",
    "\t</p>\n",
    "</html>"
   ]
  },
  {
   "cell_type": "code",
   "execution_count": 9,
   "metadata": {
    "collapsed": false
   },
   "outputs": [
    {
     "data": {
      "text/html": [
       "<table class='table_form'><tbody><tr><th>名前</th><th>定義</th></tr><tr class='row-a'><td>逸脱度(D)</td><td>-2 log L*</td></tr><tr class='row-b'><td>最小の逸脱度</td><td>フルモデルをあてはめたときのD</td></tr><tr class='row-a'><td>残差逸脱度</td><td>D-最小のD</td></tr><tr class='row-b'><td>最大の逸脱度</td><td>NullモデルをあてはめたときのD</td></tr><tr class='row-a'><td>Null逸脱度</td><td>最大のD - 最小のD</td></tr></tbody></table>"
      ],
      "text/plain": [
       "<__main__.Table2Html instance at 0x7ff6581e4050>"
      ]
     },
     "execution_count": 9,
     "metadata": {},
     "output_type": "execute_result"
    }
   ],
   "source": [
    "# 様々な逸脱度\n",
    "hdr = ['名前', '定義']\n",
    "tbl = [ ['逸脱度(D)', '-2 log L*'], \n",
    "            ['最小の逸脱度', 'フルモデルをあてはめたときのD'],\n",
    "            ['残差逸脱度', 'D-最小のD'],\n",
    "            ['最大の逸脱度', 'NullモデルをあてはめたときのD'],\n",
    "            ['Null逸脱度', '最大のD - 最小のD']]\n",
    "Table2Html(tbl, hdr)"
   ]
  },
  {
   "cell_type": "markdown",
   "metadata": {},
   "source": [
    "<html>\n",
    "\t<p>\n",
    "\t\t各モデルのglmのfit結果を求めて、その結果を表にまとめます。\n",
    "\t</p>\t\n",
    "\t<p>\n",
    "\t\tここで出てくるモデル選択の基準となるAIC(Akaike's information criterion)は、以下の様に定義されています。\n",
    "$$\n",
    "\tAIC = -2 { (最大対数尤度) - (最尤推定したパラメータの数)} = D + 2k\n",
    "$$\t\t\n",
    "\n",
    "\t</p>\n",
    "</html>"
   ]
  },
  {
   "cell_type": "code",
   "execution_count": 10,
   "metadata": {
    "collapsed": true
   },
   "outputs": [],
   "source": [
    "# 逸脱度（Deviance）は、-2 log L* と定義されており、glmの結果の-2*llfから計算できる\n",
    "# 各モデルに対するfitを計算してDevianceの違いを整理してみる\n",
    "fit_f = smf.glm('y ~ f', data=d, family=sm.families.Poisson(link=sm.families.links.log)).fit()\n",
    "fit_x = smf.glm('y ~ x', data=d, family=sm.families.Poisson(link=sm.families.links.log)).fit()\n",
    "fit_x_f = smf.glm('y ~ x + f', data=d, family=sm.families.Poisson(link=sm.families.links.log)).fit()"
   ]
  },
  {
   "cell_type": "markdown",
   "metadata": {},
   "source": [
    "<html>\n",
    "\t<p>\n",
    "\t\tデータの個数と同じ数のパラメータを使ってあてはめたモデルがフルモデルです。\n",
    "\t\tこれは、実際にそのようなモデルを作って計算するのでは無く、フルモデルはすべての観測値が予測値と一致するモデルであり、\n",
    "\t\tその結果、残差は０であり、対数尤度は、以下のようになります。\n",
    "\t</p>\t\n",
    "</html>"
   ]
  },
  {
   "cell_type": "code",
   "execution_count": 11,
   "metadata": {
    "collapsed": false
   },
   "outputs": [
    {
     "data": {
      "text/plain": [
       "-192.889752524496"
      ]
     },
     "execution_count": 11,
     "metadata": {},
     "output_type": "execute_result"
    }
   ],
   "source": [
    "# フルモデルの対数尤度の計算\n",
    "fullLogL = sageobj(sum([r.dpois(y, y, log=True) for y in d.y])); fullLogL"
   ]
  },
  {
   "cell_type": "markdown",
   "metadata": {},
   "source": [
    "<html>\n",
    "\t<p>\n",
    "\t\t結果をみやすくするために、小数点以下3桁を表示する関数prf3を定義します。\n",
    "\t</p>\n",
    "</html>"
   ]
  },
  {
   "cell_type": "code",
   "execution_count": 12,
   "metadata": {
    "collapsed": true
   },
   "outputs": [],
   "source": [
    "# 結果を小数点3桁で表示する\n",
    "def prf3(f):\n",
    "    return '%.3f'%f"
   ]
  },
  {
   "cell_type": "code",
   "execution_count": 13,
   "metadata": {
    "collapsed": false
   },
   "outputs": [
    {
     "data": {
      "text/html": [
       "<table class='table_form'><tbody><tr><th>モデル</th><th>k</th><th>log L*</th><th>deviance -2 log L*</th><th>residual deviance</th><th>AIC</th></tr><tr class='row-a'><td>一定</td><td>1</td><td>-231.863</td><td>463.727</td><td>77.947</td><td>479.727</td></tr><tr class='row-b'><td>f</td><td>2</td><td>-237.627</td><td>475.255</td><td>89.475</td><td>479.255</td></tr><tr class='row-a'><td>x</td><td>2</td><td>-235.386</td><td>470.773</td><td>84.993</td><td>474.773</td></tr><tr class='row-b'><td>x+f</td><td>3</td><td>-235.294</td><td>470.587</td><td>84.808</td><td>476.587</td></tr><tr class='row-a'><td>フル</td><td>100</td><td>-192.890</td><td>385.780</td><td>0</td><td>585.780</td></tr></tbody></table>"
      ],
      "text/plain": [
       "<__main__.Table2Html instance at 0x7ff65b94b488>"
      ]
     },
     "execution_count": 13,
     "metadata": {},
     "output_type": "execute_result"
    }
   ],
   "source": [
    "# フルモデルは、k=Nで結果がすべて観測値と一致します。従って残差は0となります。 \n",
    "# log L*: fit.llf, residual deviance: fit.deviance, AIC: fit.aicで取得できる\n",
    "hdr = ['モデル', 'k', \"log L*\", 'deviance -2 log L*', 'residual deviance', 'AIC']\n",
    "tbl = [['一定', '1', prf3(fit_1.llf),  prf3(-2*fit_1.llf),  prf3(fit_1.deviance), prf3(fit_1.aic)],\n",
    "            ['f', '2', prf3(fit_f.llf),  prf3(-2*fit_f.llf),  prf3(fit_f.deviance), prf3(fit_f.aic)],\n",
    "            ['x', '2', prf3(fit_x.llf),  prf3(-2*fit_x.llf),  prf3(fit_x.deviance), prf3(fit_x.aic)],\n",
    "            ['x+f', '3', prf3(fit_x_f.llf),  prf3(-2*fit_x_f.llf),  prf3(fit_x_f.deviance), prf3(fit_x_f.aic)],\n",
    "            ['フル', '100', prf3(fullLogL), prf3(-2*fullLogL), '0', prf3(-2*fullLogL+2*100)]]\n",
    "Table2Html(tbl, hdr)"
   ]
  },
  {
   "cell_type": "markdown",
   "metadata": {},
   "source": [
    "<html>\n",
    "\t<h2>平均対数尤度を使ったモデルの予測の良さ</h2>\n",
    "\t<p>\n",
    "\t\tいよいよ図４．９の計算に入ります。久保本ではモデル選択の指標としてAICが使えるのかを一定モデルを使って\n",
    "\t\t数値例で示しています。（これが久保本のすごいところ！）\n",
    "\t</p>\n",
    "\t<p>\n",
    "\t\t平均の対数尤度は、真のモデルを使って生成されたサンプルから求めた対数尤度の平均値であり、実際のモデルづくりでは\n",
    "\t\tこのようなことは不可能ですが、平均対数尤度と推定されたモデルの関係とこの差（バイアス）bの分布からAICの意味するところを\n",
    "\t\t表現しています。bの定義は以下の通りです。\n",
    "$$\n",
    "\tb = log L^* - E(Log L)\n",
    "$$\t\t\n",
    "\t</p>\t\n",
    "</html>\n",
    "<html>\n",
    "\t<h3>観測データが一つの場合</h3>\n",
    "\t<p>\n",
    "\t\t図４．９の(A)観測データが一つの場合について、真のモデルλ=8のポアソン分布から50個のサンプルを生成します。\n",
    "\t</p>\n",
    "\t<p>\n",
    "\t\t準備としてサンプル生成関数genSample, 対数尤度を計算するlogLを定義します。\n",
    "\t</p>\n",
    "</html>"
   ]
  },
  {
   "cell_type": "code",
   "execution_count": 14,
   "metadata": {
    "collapsed": true
   },
   "outputs": [],
   "source": [
    "# サンプル生成λ=8ポアソン分布のサンプルをN=50個生成する\n",
    "# sample = [ float(y.n()) for y in r.rpois(N, lambda_true)]\n",
    "# sageobjを使って変換する方が速いのでgenSample関数を使用する\n",
    "def genSample(lambda_target, sample_size):\n",
    "    return sageobj(r('rpois(%d, %f)'%(sample_size, lambda_target)))"
   ]
  },
  {
   "cell_type": "code",
   "execution_count": 15,
   "metadata": {
    "collapsed": true
   },
   "outputs": [],
   "source": [
    "# Rの乱数の種をセット\n",
    "r('set.seed(101)')\n",
    "# 真のλ=8から50個のポアソン分布のサンプルを生成する\n",
    "N = 50\n",
    "lambda_true = 8\n",
    "sample = genSample(lambda_true, N)\n",
    "sampleDf = pd.DataFrame({'y' : np.array(sample)})"
   ]
  },
  {
   "cell_type": "code",
   "execution_count": 16,
   "metadata": {
    "collapsed": true
   },
   "outputs": [],
   "source": [
    "# 対数尤度の計算\n",
    "def logL(sample, lambda_estimated):\n",
    "    return sageobj(sum([r.dpois(y, lambda_estimated, log=True) for y in sample]))"
   ]
  },
  {
   "cell_type": "markdown",
   "metadata": {},
   "source": [
    "<html>\n",
    "\t<p>\n",
    "\t\tglmを使って一定モデルの結果を取得します。ここでは対数尤度が-116.7、 $\\beta_1$の値は2.06と求まりました。\n",
    "\t</p>\n",
    "</html>"
   ]
  },
  {
   "cell_type": "code",
   "execution_count": 17,
   "metadata": {
    "collapsed": true
   },
   "outputs": [],
   "source": [
    "# k=1でのglm回帰を実行\n",
    "fit = smf.glm('y ~ 1', data=sampleDf, family=sm.families.Poisson(link=sm.families.links.log)).fit()"
   ]
  },
  {
   "cell_type": "code",
   "execution_count": 18,
   "metadata": {
    "collapsed": false
   },
   "outputs": [
    {
     "name": "stdout",
     "output_type": "stream",
     "text": [
      "-116.764129142 2.06686275947\n"
     ]
    }
   ],
   "source": [
    "# fit.summary2()\n",
    "# 最大対数尤度\n",
    "mxLogL = fit.llf\n",
    "# 切片\n",
    "beta_1 = fit.params[0]\n",
    "print mxLogL, beta_1"
   ]
  },
  {
   "cell_type": "markdown",
   "metadata": {},
   "source": [
    "<html>\n",
    "\t<p>\n",
    "\t\tこの結果を図化し、logL_pltにセットします。\n",
    "\t</p>\n",
    "</html>"
   ]
  },
  {
   "cell_type": "code",
   "execution_count": 19,
   "metadata": {
    "collapsed": true
   },
   "outputs": [],
   "source": [
    "# β= [1.95, 2.20]の範囲の対数尤度を求める\n",
    "logL_lst = [ (x,logL(sample, exp(x)) )for x in  np.arange(1.95, 2.20, 0.01)]\n",
    "# log L*の曲線プロット\n",
    "logL_plt = list_plot(logL_lst, figsize=4, plotjoined =True)"
   ]
  },
  {
   "cell_type": "markdown",
   "metadata": {},
   "source": [
    "<html>\n",
    "\t<p>\n",
    "\t\tつぎに、真のモデルから50個のサンプルを200セット生成し、平均の対数尤度を計算します。\n",
    "\t</p>\n",
    "</html>"
   ]
  },
  {
   "cell_type": "code",
   "execution_count": 20,
   "metadata": {
    "collapsed": true
   },
   "outputs": [],
   "source": [
    "# 真のλ=8から生成されたサンプル200セットにβの推定値を使って対数尤度を計算\n",
    "# logL200 = [ logL(genSample(lambda_true, N), exp(beta_1)) for i in range(50)]\n",
    "# とても遅いので、\n",
    "logL200 = [ sageobj(r('sum(log(dpois(rpois(%d, %f), %f)))'%(N, lambda_true, exp(beta_1)))) for i in range(200)]"
   ]
  },
  {
   "cell_type": "markdown",
   "metadata": {},
   "source": [
    "<html>\n",
    "\t<p>\n",
    "\t\t求まった結果を一つにプロットします。logL*を赤○で、平均対数尤度を緑○で、各対数尤度を小さな青○で示し、\n",
    "\t\t各βの対数尤度曲線と一緒に表示したのが、以下の図です。\n",
    "\t</p>\n",
    "</html>"
   ]
  },
  {
   "cell_type": "code",
   "execution_count": 21,
   "metadata": {
    "collapsed": false
   },
   "outputs": [
    {
     "data": {
      "image/png": "[encoded data removed]",
      "text/plain": [
       "Graphics object consisting of 4 graphics primitives"
      ]
     },
     "metadata": {},
     "output_type": "display_data"
    }
   ],
   "source": [
    "sample_plt = list_plot([ (beta_1, y) for y in logL200])\n",
    "logL_pt = point((beta_1, mxLogL), size=40, color=\"red\")\n",
    "logL_mean_pt = point((beta_1, mean(logL200)), size=40, color=\"green\")\n",
    "(logL_plt + sample_plt + logL_pt + logL_mean_pt).show()"
   ]
  },
  {
   "cell_type": "code",
   "execution_count": 22,
   "metadata": {
    "collapsed": true
   },
   "outputs": [],
   "source": [
    "# 実際の解析では不可能ですが、今回は真のモデルが分かっているので、評価用のデータを生成し、E(logL)を計算できます"
   ]
  },
  {
   "cell_type": "markdown",
   "metadata": {},
   "source": [
    "<html>\n",
    "\t<h3>繰り返しは簡単</h3>\n",
    "\t<p>\n",
    "\t\t次に上記の処理を繰り返した図４．９(B)を試してみます。\n",
    "\t\tSageでは、一度試した処理をコピー＆ペーストしてループに入れたり、関数にすることで結果を確認しながら\n",
    "\t\t処理を進めることで効率良く目的のグラフを得ることができます。\n",
    "\t</p>\n",
    "\t<p>\n",
    "\t\t最初に空のGraphics=gを生成し、上記の処理と同じことをして、プロット結果をgに加えていきます。\n",
    "\t\tたったこれだけで、図４．９の(B)が再現できます。\n",
    "\t</p>\n",
    "\t<p>\n",
    "\t\tRのseedをセットすることで、久保本の平均対数尤度に近い曲線が表示されました。（2016/07/17）\n",
    "\t</p>\n",
    "</html>"
   ]
  },
  {
   "cell_type": "code",
   "execution_count": 23,
   "metadata": {
    "collapsed": false
   },
   "outputs": [
    {
     "data": {
      "image/png": "[encoded data removed]",
      "text/plain": [
       "Graphics object consisting of 75 graphics primitives"
      ]
     },
     "metadata": {},
     "output_type": "display_data"
    }
   ],
   "source": [
    "#  上記の計算を25回繰り返しプロット図4.9(B)\n",
    "g = Graphics()\n",
    "for i in range(25):\n",
    "    sample = genSample(lambda_true, N)\n",
    "    sampleDf = pd.DataFrame({'y' : np.array(sample)})\n",
    "    # k=1でのglm回帰を実行\n",
    "    fit = smf.glm('y ~ 1', data=sampleDf, family=sm.families.Poisson(link=sm.families.links.log)).fit()    # 最大対数尤度\n",
    "    mxLogL = fit.llf\n",
    "    # 切片\n",
    "    beta_1 = fit.params[0]\n",
    "    logL200 = [ sageobj(r('sum(log(dpois(rpois(%d, %f), %f)))'%(N, lambda_true, exp(beta_1)))) for i in range(200)]\n",
    "    # プロット\n",
    "    g +=  list_plot([ (beta_1, y) for y in logL200])\n",
    "    g += point((beta_1, mxLogL), size=40, color=\"red\")\n",
    "    g += point((beta_1, mean(logL200)), size=40, color=\"green\")\n",
    "# 結果を表示\n",
    "g.show(figsize=4)"
   ]
  },
  {
   "cell_type": "markdown",
   "metadata": {},
   "source": [
    "<html>\n",
    "\t<h2>バイアスbの計算</h2>\n",
    "\t<p>\n",
    "\t\t非常に時間がかかったので試しに10セットのデータに対してバイアスbを計算し、その分布を表示してみました。\n",
    "\t</p>\n",
    "\t<p>\n",
    "\t\tバイアスbは、2.7と久保本の1.01とはずれています。\n",
    "\t</p>\n",
    "</html>"
   ]
  },
  {
   "cell_type": "code",
   "execution_count": 24,
   "metadata": {
    "collapsed": true
   },
   "outputs": [],
   "source": [
    "# バイアスbの計算\n",
    "def bias(lambda_true, N):\n",
    "    sample = genSample(lambda_true, N)\n",
    "    sampleDf = pd.DataFrame({'y' : np.array(sample)})\n",
    "    # k=1でのglm回帰を実行\n",
    "    fit = smf.glm('y ~ 1', data=sampleDf, family=sm.families.Poisson(link=sm.families.links.log)).fit()    \n",
    "    # 最大対数尤度\n",
    "    mxLogL = fit.llf\n",
    "    # 切片\n",
    "    beta_1 = fit.params[0]\n",
    "    logL200 = [ sageobj(r('sum(log(dpois(rpois(%d, %f), %f)))'%(N, lambda_true, exp(beta_1)))) for i in range(200)]\n",
    "    return    (mxLogL - sageobj(mean(logL200)) )"
   ]
  },
  {
   "cell_type": "code",
   "execution_count": 25,
   "metadata": {
    "collapsed": false
   },
   "outputs": [],
   "source": [
    "# 時間がかかるので、50個だけサンプルを生成しました\n",
    "bias_sample =  [bias(lambda_true, N) for i in range(50)]"
   ]
  },
  {
   "cell_type": "code",
   "execution_count": 26,
   "metadata": {
    "collapsed": false
   },
   "outputs": [
    {
     "data": {
      "text/plain": [
       "2.7066865786446273"
      ]
     },
     "execution_count": 26,
     "metadata": {},
     "output_type": "execute_result"
    }
   ],
   "source": [
    "mean(bias_sample)"
   ]
  },
  {
   "cell_type": "code",
   "execution_count": 27,
   "metadata": {
    "collapsed": false
   },
   "outputs": [
    {
     "data": {
      "image/png": "[encoded data removed]",
      "text/plain": [
       "Graphics object consisting of 1 graphics primitive"
      ]
     },
     "execution_count": 27,
     "metadata": {},
     "output_type": "execute_result"
    }
   ],
   "source": [
    "# biasのヒストグラムを表示する\n",
    "histogram(bias_sample, figsize=4)"
   ]
  },
  {
   "cell_type": "markdown",
   "metadata": {},
   "source": [
    "<html>\n",
    "\t<h3>Rで計算</h3>\n",
    "\t<p>\n",
    "\t\t久保本のサポートページにあるRの関数を使ってサンプル1000セットでバイアスbを計算してみました。\n",
    "\t\tこれでも久保本の1.01とはずれており、その分布をみると-20から20の区間でかなりぶれていることがわかります。\n",
    "\t</p>\n",
    "\t<p>\n",
    "\t\tバイアスの定義を変形すると、平均対数尤度$E(logL)$は以下の様になります。\n",
    "$$\n",
    "\tE(log L) = log L^* - b\n",
    "$$\t\t\n",
    "\t\tここで、一定モデルのk=1であることからバイアスbとkを入れ替えるとAICの定義となり、\n",
    "\t\tAICが予測の「悪さ」を表す指標となっていることがうなずけます。\n",
    "$$\n",
    "\tAIC = -2 \\times (log L^* -1)\n",
    "$$\t\t\n",
    "\t</p>\n",
    "</html>\n",
    "\n",
    "Rの関数をdata/bias.txtに定義します。"
   ]
  },
  {
   "cell_type": "code",
   "execution_count": 28,
   "metadata": {
    "collapsed": false
   },
   "outputs": [
    {
     "name": "stdout",
     "output_type": "stream",
     "text": [
      "Overwriting data/bias.txt\n"
     ]
    }
   ],
   "source": [
    "%%writefile data/bias.txt\n",
    "bias <- function(lambda.true, sample.size){\n",
    "  sample.rpois <- rpois(sample.size, lambda.true)\n",
    "  fit <- glm(sample.rpois~1, family=poisson) \n",
    "  lambda.estimated <- exp(coef(fit))\n",
    "  likelihood.mean <- mean(sapply(1:200, function(i){sum(log(dpois(rpois(N, lambda.true), lambda.estimated)))}))\n",
    "  logLik(fit) - likelihood.mean\n",
    "}"
   ]
  },
  {
   "cell_type": "code",
   "execution_count": 29,
   "metadata": {
    "collapsed": false
   },
   "outputs": [
    {
     "data": {
      "text/plain": [
       "[1] 0.7929698"
      ]
     },
     "execution_count": 29,
     "metadata": {},
     "output_type": "execute_result"
    }
   ],
   "source": [
    "# Rでbiasを計算する関数を定義すると非常に速く計算できる\n",
    "r('source(\"data/bias.txt\") ')\n",
    "# サンプリングが1000くらいでもbiasの平均は、結構ぶれる\n",
    "r('N <- 50')\n",
    "r('lambda.true <- 8')\n",
    "r('bias.sampled <- sapply(1:1000, function(i) bias(lambda.true, N))')\n",
    "r('mean(bias.sampled)')"
   ]
  },
  {
   "cell_type": "code",
   "execution_count": 30,
   "metadata": {
    "collapsed": false
   },
   "outputs": [
    {
     "data": {
      "image/png": "[encoded data removed]",
      "text/plain": [
       "<wand.image.Image: e147772 'PDF' (504x504)>"
      ]
     },
     "execution_count": 30,
     "metadata": {},
     "output_type": "execute_result"
    }
   ],
   "source": [
    "graph = preGraph(\"images/fig-4.10-R.pdf\")\n",
    "r('p <- qplot(bias.sampled, geom = \"blank\") + geom_histogram(aes(y = ..density..),  colour = \"black\", fill = \"white\") + geom_density(alpha = 0.2, fill = \"#6666FF\") +   geom_vline(aes(xintercept = mean(bias.sampled)), color = \"red\", linetype = \"dashed\",  size = 2) ')\n",
    "r('plot(p)')\n",
    "postGraph(graph)"
   ]
  },
  {
   "cell_type": "code",
   "execution_count": null,
   "metadata": {
    "collapsed": true
   },
   "outputs": [],
   "source": []
  }
 ],
 "metadata": {
  "kernelspec": {
   "display_name": "SageMath 7.2",
   "language": "",
   "name": "sagemath"
  },
  "language_info": {
   "codemirror_mode": {
    "name": "ipython",
    "version": 2
   },
   "file_extension": ".py",
   "mimetype": "text/x-python",
   "name": "python",
   "nbconvert_exporter": "python",
   "pygments_lexer": "ipython2",
   "version": "2.7.10"
  }
 },
 "nbformat": 4,
 "nbformat_minor": 0
}
