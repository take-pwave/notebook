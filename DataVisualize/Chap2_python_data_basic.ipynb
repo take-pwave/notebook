{
 "cells": [
  {
   "cell_type": "markdown",
   "metadata": {},
   "source": [
    "# データ処理の基礎\n",
    "ここでは、pythonを使ってデータを取り扱う方法を紹介します。\n",
    "\n",
    "使用するパッケージは、以下の3つです。\n",
    "\n",
    "- ggplot: データのグラフ化パッケージ\n",
    "- pandas: pythonでRのデータフレームと同様の処理をす\n",
    "- numpy: pythonで数値を処理する基本パッケージ\n",
    "\n",
    "最初に必要なパッケージをインポートします。"
   ]
  },
  {
   "cell_type": "code",
   "execution_count": 1,
   "metadata": {
    "collapsed": false
   },
   "outputs": [],
   "source": [
    "# python用のパッケージ\n",
    "import pandas as pd\n",
    "import numpy as np\n",
    "import matplotlib.pyplot as plt \n",
    "from ggplot import *\n",
    "%matplotlib inline"
   ]
  },
  {
   "cell_type": "markdown",
   "metadata": {},
   "source": [
    "## なぜExcelではなく、pythonを使うのか？ \n",
    "自然な流れとして、「なぜExcelではなく、pythonを使うのか」という疑問が湧いてくるでしょう。\n",
    "\n",
    "何でもできそうなExcelにも弱点があります。その大きなものは、カラム数の制限です。 大量のデータを処理するには、Excelのカラム数では不十分なのです。"
   ]
  },
  {
   "cell_type": "markdown",
   "metadata": {},
   "source": [
    "## データの取り込み\n",
    "pandasパッケージでは、様々なタイプのデータを取り扱うことができます。主に以下の３つのデータの取り扱い方を説明します。\n",
    "\n",
    "- CSVファイル: カンマで区切られたファイルで最もよく使われているデータ形式\n",
    "- Excelファイル: Microsoft Excelで作られたファイル\n",
    "- データベース: データベース（MySQL）のテーブルやQuery結果\n",
    "\n",
    "最初にCSVファイルを読み込む例を示します。読み込みファイルは、ローカルのファイル、 ネットワークで公開されているファイルの両方を指定することができます。\n",
    "\n",
    "CSVのファイル読み込みには、read_csv関数を使用します。この関数の戻り値は、pandasのデータフレームです。"
   ]
  },
  {
   "cell_type": "code",
   "execution_count": 2,
   "metadata": {
    "collapsed": false
   },
   "outputs": [
    {
     "data": {
      "text/plain": [
       "pandas.core.frame.DataFrame"
      ]
     },
     "execution_count": 2,
     "metadata": {},
     "output_type": "execute_result"
    }
   ],
   "source": [
    "# 久保本の3章のデータをネットから取り込む\n",
    "d = pd.read_csv('http://hosho.ees.hokudai.ac.jp/~kubo/stat/iwanamibook/fig/poisson/data3a.csv')\n",
    "type(d)"
   ]
  },
  {
   "cell_type": "markdown",
   "metadata": {},
   "source": [
    "### データの素性を知る\n",
    "読み込んだデータがどのような物なのかその素性をしるために、info、describe関数を使用します。\n",
    "\n",
    "info関数では、dには100個のレコードが入っており、x, y, fの３つのカラムからできており、 xが整数、yは実数、fにはオブジェクトが入っており、欠損値（null）はないことが分かります。"
   ]
  },
  {
   "cell_type": "code",
   "execution_count": 3,
   "metadata": {
    "collapsed": false
   },
   "outputs": [
    {
     "name": "stdout",
     "output_type": "stream",
     "text": [
      "<class 'pandas.core.frame.DataFrame'>\n",
      "RangeIndex: 100 entries, 0 to 99\n",
      "Data columns (total 3 columns):\n",
      "y    100 non-null int64\n",
      "x    100 non-null float64\n",
      "f    100 non-null object\n",
      "dtypes: float64(1), int64(1), object(1)\n",
      "memory usage: 2.4+ KB\n"
     ]
    }
   ],
   "source": [
    "# どのようなデータが入っているか調べる\n",
    "d.info()"
   ]
  },
  {
   "cell_type": "markdown",
   "metadata": {},
   "source": [
    "このデータは、「データ解析のための統計モデリング入門」から引用しており、x, y, fは、以下の様な意味を持っています。\n",
    "\n",
    "- yi: 個体iの種子数\n",
    "- xi: 個体iのサイズ\n",
    "- fi: 個体iが施肥処理ならT、肥料なしならC\n",
    "\n",
    "describe関数では、各カラム毎に個数、平均、標準偏差、最小値、25%、50%、75%の値、最大値が表示されます。"
   ]
  },
  {
   "cell_type": "code",
   "execution_count": 4,
   "metadata": {
    "collapsed": false
   },
   "outputs": [
    {
     "data": {
      "text/html": [
       "<div>\n",
       "<table border=\"1\" class=\"dataframe\">\n",
       "  <thead>\n",
       "    <tr style=\"text-align: right;\">\n",
       "      <th></th>\n",
       "      <th>y</th>\n",
       "      <th>x</th>\n",
       "    </tr>\n",
       "  </thead>\n",
       "  <tbody>\n",
       "    <tr>\n",
       "      <th>count</th>\n",
       "      <td>100.000000</td>\n",
       "      <td>100.000000</td>\n",
       "    </tr>\n",
       "    <tr>\n",
       "      <th>mean</th>\n",
       "      <td>7.830000</td>\n",
       "      <td>10.089100</td>\n",
       "    </tr>\n",
       "    <tr>\n",
       "      <th>std</th>\n",
       "      <td>2.624881</td>\n",
       "      <td>1.008049</td>\n",
       "    </tr>\n",
       "    <tr>\n",
       "      <th>min</th>\n",
       "      <td>2.000000</td>\n",
       "      <td>7.190000</td>\n",
       "    </tr>\n",
       "    <tr>\n",
       "      <th>25%</th>\n",
       "      <td>6.000000</td>\n",
       "      <td>9.427500</td>\n",
       "    </tr>\n",
       "    <tr>\n",
       "      <th>50%</th>\n",
       "      <td>8.000000</td>\n",
       "      <td>10.155000</td>\n",
       "    </tr>\n",
       "    <tr>\n",
       "      <th>75%</th>\n",
       "      <td>10.000000</td>\n",
       "      <td>10.685000</td>\n",
       "    </tr>\n",
       "    <tr>\n",
       "      <th>max</th>\n",
       "      <td>15.000000</td>\n",
       "      <td>12.400000</td>\n",
       "    </tr>\n",
       "  </tbody>\n",
       "</table>\n",
       "</div>"
      ],
      "text/plain": [
       "                y           x\n",
       "count  100.000000  100.000000\n",
       "mean     7.830000   10.089100\n",
       "std      2.624881    1.008049\n",
       "min      2.000000    7.190000\n",
       "25%      6.000000    9.427500\n",
       "50%      8.000000   10.155000\n",
       "75%     10.000000   10.685000\n",
       "max     15.000000   12.400000"
      ]
     },
     "execution_count": 4,
     "metadata": {},
     "output_type": "execute_result"
    }
   ],
   "source": [
    "# データのばらつきを見る\n",
    "d.describe()"
   ]
  },
  {
   "cell_type": "markdown",
   "metadata": {},
   "source": [
    "実際にdにどのような値が入っているか調べるには、最初のn個を表示するhead、最後のn個を表示するtailが便利です。"
   ]
  },
  {
   "cell_type": "code",
   "execution_count": 5,
   "metadata": {
    "collapsed": false,
    "scrolled": true
   },
   "outputs": [
    {
     "data": {
      "text/html": [
       "<div>\n",
       "<table border=\"1\" class=\"dataframe\">\n",
       "  <thead>\n",
       "    <tr style=\"text-align: right;\">\n",
       "      <th></th>\n",
       "      <th>y</th>\n",
       "      <th>x</th>\n",
       "      <th>f</th>\n",
       "    </tr>\n",
       "  </thead>\n",
       "  <tbody>\n",
       "    <tr>\n",
       "      <th>0</th>\n",
       "      <td>6</td>\n",
       "      <td>8.31</td>\n",
       "      <td>C</td>\n",
       "    </tr>\n",
       "    <tr>\n",
       "      <th>1</th>\n",
       "      <td>6</td>\n",
       "      <td>9.44</td>\n",
       "      <td>C</td>\n",
       "    </tr>\n",
       "    <tr>\n",
       "      <th>2</th>\n",
       "      <td>6</td>\n",
       "      <td>9.50</td>\n",
       "      <td>C</td>\n",
       "    </tr>\n",
       "  </tbody>\n",
       "</table>\n",
       "</div>"
      ],
      "text/plain": [
       "   y     x  f\n",
       "0  6  8.31  C\n",
       "1  6  9.44  C\n",
       "2  6  9.50  C"
      ]
     },
     "execution_count": 5,
     "metadata": {},
     "output_type": "execute_result"
    }
   ],
   "source": [
    "# 最初の3個を表示してみる、最後の5個の場合には、tail(5)。個数を省略すると5個分のデータが表示される\n",
    "d.head(3)"
   ]
  },
  {
   "cell_type": "markdown",
   "metadata": {},
   "source": [
    "### 行とカラム（列）の操作\n",
    "pandasのデータフレームから特定のカラムや行を取り出す方法を以下に示します。\n",
    "\n",
    "カラムの指定方法は、2通りあります。\n",
    "```\n",
    "データフレーム.カラム名\n",
    "データフレーム['カラム名']\n",
    "```"
   ]
  },
  {
   "cell_type": "code",
   "execution_count": 6,
   "metadata": {
    "collapsed": false,
    "scrolled": true
   },
   "outputs": [
    {
     "name": "stdout",
     "output_type": "stream",
     "text": [
      "0     6\n",
      "1     6\n",
      "2     6\n",
      "3    12\n",
      "4    10\n",
      "Name: y, dtype: int64\n",
      "0     6\n",
      "1     6\n",
      "2     6\n",
      "3    12\n",
      "4    10\n",
      "Name: y, dtype: int64\n"
     ]
    }
   ],
   "source": [
    "# カラム(列)を取り出す方法\n",
    "print d.y.head()\n",
    "print d['y'].head()"
   ]
  },
  {
   "cell_type": "markdown",
   "metadata": {},
   "source": [
    "特定の行を取り出す場合には、ixを使って以下の様に指定します。"
   ]
  },
  {
   "cell_type": "code",
   "execution_count": 7,
   "metadata": {
    "collapsed": false
   },
   "outputs": [
    {
     "name": "stdout",
     "output_type": "stream",
     "text": [
      "y       6\n",
      "x    8.31\n",
      "f       C\n",
      "Name: 0, dtype: object\n"
     ]
    }
   ],
   "source": [
    "# 行を取り出す方法\n",
    "print d.ix[0]"
   ]
  },
  {
   "cell_type": "markdown",
   "metadata": {},
   "source": [
    "### データの分布を知る\n",
    "データを可視化して、データの分布をみてみましょう。データの可視化には、ggplotパッケージを使用します。 ggplotは、Rのggplot2と同様の機能をpythonで使えるようにしたもので、今も開発が進んでいます。\n",
    "\n",
    "ggplotでの図化は、ggplot関数に表示したい図を足し込んでいきます。\n",
    "\n",
    "以下の例では、ggplotで、データフレームとx軸要素、y軸要素を指定し、 geom_point関数で散布図を指定し、print関数で表示すると図化されます。"
   ]
  },
  {
   "cell_type": "code",
   "execution_count": 8,
   "metadata": {
    "collapsed": false
   },
   "outputs": [
    {
     "data": {
      "image/png": "[encoded data removed]",
      "text/plain": [
       "<matplotlib.figure.Figure at 0x7f47a2e77e50>"
      ]
     },
     "metadata": {},
     "output_type": "display_data"
    },
    {
     "name": "stdout",
     "output_type": "stream",
     "text": [
      "<ggplot: (8746603280341)>\n"
     ]
    }
   ],
   "source": [
    "# データの分布を知る\n",
    "# ggplotに表示したいものを足していく（直感的な図化方法）\n",
    "p = ggplot(d, aes(x='x', y='y'))\n",
    "p += geom_point()\n",
    "print(p)"
   ]
  },
  {
   "cell_type": "markdown",
   "metadata": {},
   "source": [
    "fのタイプ（C, T）別にグラフを分けて表示するのも、facet_wrap関数を足すだけでできてしまいます。"
   ]
  },
  {
   "cell_type": "code",
   "execution_count": 9,
   "metadata": {
    "collapsed": false
   },
   "outputs": [
    {
     "data": {
      "image/png": "[encoded data removed]",
      "text/plain": [
       "<matplotlib.figure.Figure at 0x7f47d0623d90>"
      ]
     },
     "metadata": {},
     "output_type": "display_data"
    },
    {
     "name": "stdout",
     "output_type": "stream",
     "text": [
      "<ggplot: (8746602409341)>\n"
     ]
    }
   ],
   "source": [
    "# fの値でグラフを分けて表示する例\n",
    "p = ggplot(d, aes(x='x', y='y'))\n",
    "p += geom_point()\n",
    "p += facet_wrap('f')\n",
    "print(p)"
   ]
  },
  {
   "cell_type": "markdown",
   "metadata": {},
   "source": [
    "一番よく使うのは、プロットするときにf毎に色分けする方法です。\n",
    "\n",
    "ggplotでは、aesのcolor属性に色別に使うカラム名を指定することで、カラム毎の色分けプロットができます。"
   ]
  },
  {
   "cell_type": "code",
   "execution_count": 10,
   "metadata": {
    "collapsed": false
   },
   "outputs": [
    {
     "data": {
      "image/png": "[encoded data removed]",
      "text/plain": [
       "<matplotlib.figure.Figure at 0x7f47a199b550>"
      ]
     },
     "metadata": {},
     "output_type": "display_data"
    },
    {
     "name": "stdout",
     "output_type": "stream",
     "text": [
      "<ggplot: (8746601913185)>\n"
     ]
    }
   ],
   "source": [
    "# fの値で色を変えてプロット\n",
    "p = ggplot(d, aes(x='x', y='y', color='f'))\n",
    "p += geom_point()\n",
    "print(p)"
   ]
  },
  {
   "cell_type": "markdown",
   "metadata": {},
   "source": [
    "## データの加工\n",
    "データフレームを使うとデータの加工がとても簡単にできます。 以下の様な処理も一行でできてしまいます。\n",
    "\n",
    "- データの絞り込み\n",
    "- SQLのgroup byと同様な集計処理\n",
    "\n",
    "### データの絞り込み\n",
    "データの絞り込みは、以下の形式で実行します。\n",
    "```\n",
    "データフレーム[絞り込み条件]\n",
    "```\n",
    "例として、施肥のあるものd.fがTの物だけを取り出すには、以下の様にd[d.f == 'T']とするだけです。"
   ]
  },
  {
   "cell_type": "code",
   "execution_count": 11,
   "metadata": {
    "collapsed": false
   },
   "outputs": [
    {
     "data": {
      "text/html": [
       "<div>\n",
       "<table border=\"1\" class=\"dataframe\">\n",
       "  <thead>\n",
       "    <tr style=\"text-align: right;\">\n",
       "      <th></th>\n",
       "      <th>y</th>\n",
       "      <th>x</th>\n",
       "      <th>f</th>\n",
       "    </tr>\n",
       "  </thead>\n",
       "  <tbody>\n",
       "    <tr>\n",
       "      <th>50</th>\n",
       "      <td>14</td>\n",
       "      <td>10.14</td>\n",
       "      <td>T</td>\n",
       "    </tr>\n",
       "    <tr>\n",
       "      <th>51</th>\n",
       "      <td>6</td>\n",
       "      <td>9.05</td>\n",
       "      <td>T</td>\n",
       "    </tr>\n",
       "    <tr>\n",
       "      <th>52</th>\n",
       "      <td>7</td>\n",
       "      <td>9.89</td>\n",
       "      <td>T</td>\n",
       "    </tr>\n",
       "    <tr>\n",
       "      <th>53</th>\n",
       "      <td>9</td>\n",
       "      <td>8.76</td>\n",
       "      <td>T</td>\n",
       "    </tr>\n",
       "    <tr>\n",
       "      <th>54</th>\n",
       "      <td>6</td>\n",
       "      <td>12.04</td>\n",
       "      <td>T</td>\n",
       "    </tr>\n",
       "  </tbody>\n",
       "</table>\n",
       "</div>"
      ],
      "text/plain": [
       "     y      x  f\n",
       "50  14  10.14  T\n",
       "51   6   9.05  T\n",
       "52   7   9.89  T\n",
       "53   9   8.76  T\n",
       "54   6  12.04  T"
      ]
     },
     "execution_count": 11,
     "metadata": {},
     "output_type": "execute_result"
    }
   ],
   "source": [
    "# データの絞り込み\n",
    "# 施肥のあるもの（f=Tのもの）を取り出す\n",
    "d_T = d[d.f == 'T']\n",
    "d_T.head()"
   ]
  },
  {
   "cell_type": "code",
   "execution_count": 12,
   "metadata": {
    "collapsed": false
   },
   "outputs": [
    {
     "data": {
      "text/html": [
       "<div>\n",
       "<table border=\"1\" class=\"dataframe\">\n",
       "  <thead>\n",
       "    <tr style=\"text-align: right;\">\n",
       "      <th></th>\n",
       "      <th>y</th>\n",
       "      <th>x</th>\n",
       "      <th>f</th>\n",
       "    </tr>\n",
       "  </thead>\n",
       "  <tbody>\n",
       "    <tr>\n",
       "      <th>0</th>\n",
       "      <td>6</td>\n",
       "      <td>8.31</td>\n",
       "      <td>C</td>\n",
       "    </tr>\n",
       "    <tr>\n",
       "      <th>1</th>\n",
       "      <td>6</td>\n",
       "      <td>9.44</td>\n",
       "      <td>C</td>\n",
       "    </tr>\n",
       "    <tr>\n",
       "      <th>2</th>\n",
       "      <td>6</td>\n",
       "      <td>9.50</td>\n",
       "      <td>C</td>\n",
       "    </tr>\n",
       "    <tr>\n",
       "      <th>3</th>\n",
       "      <td>12</td>\n",
       "      <td>9.07</td>\n",
       "      <td>C</td>\n",
       "    </tr>\n",
       "    <tr>\n",
       "      <th>4</th>\n",
       "      <td>10</td>\n",
       "      <td>10.16</td>\n",
       "      <td>C</td>\n",
       "    </tr>\n",
       "  </tbody>\n",
       "</table>\n",
       "</div>"
      ],
      "text/plain": [
       "    y      x  f\n",
       "0   6   8.31  C\n",
       "1   6   9.44  C\n",
       "2   6   9.50  C\n",
       "3  12   9.07  C\n",
       "4  10  10.16  C"
      ]
     },
     "execution_count": 12,
     "metadata": {},
     "output_type": "execute_result"
    }
   ],
   "source": [
    "# 同様に肥料のなしのもの\n",
    "d_C = d[d.f == 'C']\n",
    "d_C.head()"
   ]
  },
  {
   "cell_type": "markdown",
   "metadata": {},
   "source": [
    "### 集計処理\n",
    "groupbyを使った集計の例として、種子数y毎の度数を計算してみましょう。\n",
    "\n",
    "size関数を使うと、groupbyで指定されたレコードの数が返されます。\n"
   ]
  },
  {
   "cell_type": "code",
   "execution_count": 13,
   "metadata": {
    "collapsed": false,
    "scrolled": true
   },
   "outputs": [
    {
     "data": {
      "text/plain": [
       "y\n",
       "2      1\n",
       "3      2\n",
       "4      3\n",
       "5      4\n",
       "6     10\n",
       "7      1\n",
       "8      5\n",
       "9      8\n",
       "10     9\n",
       "11     4\n",
       "12     3\n",
       "dtype: int64"
      ]
     },
     "execution_count": 13,
     "metadata": {},
     "output_type": "execute_result"
    }
   ],
   "source": [
    "# 肥料なしの種子数y毎の度数\n",
    "d_C.groupby('y').size()"
   ]
  },
  {
   "cell_type": "markdown",
   "metadata": {},
   "source": [
    "集計結果をggplotのヒストグラムと比較してみましょう。\n",
    "\n",
    "ヒストグラムの追加は、geom_histogram関数で行い、binwidth=1と指定することで、 yを幅=1で集計します。fill='grey'で塗りつぶしの色をグレイに指定しています。"
   ]
  },
  {
   "cell_type": "code",
   "execution_count": 14,
   "metadata": {
    "collapsed": false
   },
   "outputs": [
    {
     "data": {
      "image/png": "[encoded data removed]",
      "text/plain": [
       "<matplotlib.figure.Figure at 0x7f47a18f9590>"
      ]
     },
     "metadata": {},
     "output_type": "display_data"
    },
    {
     "name": "stdout",
     "output_type": "stream",
     "text": [
      "<ggplot: (8746601871681)>\n"
     ]
    }
   ],
   "source": [
    "# F別のヒストグラムを表示\n",
    "p = ggplot(d, aes(x='y'))\n",
    "p += geom_histogram(aes(binwidth=1), fill='grey')\n",
    "p += facet_wrap('f')\n",
    "print(p)"
   ]
  },
  {
   "cell_type": "markdown",
   "metadata": {},
   "source": [
    "残念ながら、ggplotのヒストグラムの表示には障害があるように見受けられます\n",
    "\n",
    "pandasのグラフの見栄えを良くするために、seabornをインポートし、pandasのhist関数でヒストグラムをプロットしてみます。"
   ]
  },
  {
   "cell_type": "code",
   "execution_count": 15,
   "metadata": {
    "collapsed": false,
    "scrolled": true
   },
   "outputs": [
    {
     "data": {
      "image/png": "[encoded data removed]",
      "text/plain": [
       "<matplotlib.figure.Figure at 0x7f47a1875310>"
      ]
     },
     "metadata": {},
     "output_type": "display_data"
    }
   ],
   "source": [
    "import seaborn as sns\n",
    "d.hist(column='y', by='f', sharex=True, layout=(2,1), bins=11)\n",
    "plt.show()"
   ]
  },
  {
   "cell_type": "markdown",
   "metadata": {},
   "source": [
    "集計関数の例として、y毎の平均を出してみます。これも一行で計算できます。"
   ]
  },
  {
   "cell_type": "code",
   "execution_count": 16,
   "metadata": {
    "collapsed": false
   },
   "outputs": [
    {
     "data": {
      "text/html": [
       "<div>\n",
       "<table border=\"1\" class=\"dataframe\">\n",
       "  <thead>\n",
       "    <tr style=\"text-align: right;\">\n",
       "      <th></th>\n",
       "      <th>x</th>\n",
       "    </tr>\n",
       "    <tr>\n",
       "      <th>y</th>\n",
       "      <th></th>\n",
       "    </tr>\n",
       "  </thead>\n",
       "  <tbody>\n",
       "    <tr>\n",
       "      <th>2</th>\n",
       "      <td>9.430000</td>\n",
       "    </tr>\n",
       "    <tr>\n",
       "      <th>3</th>\n",
       "      <td>8.730000</td>\n",
       "    </tr>\n",
       "    <tr>\n",
       "      <th>4</th>\n",
       "      <td>9.273333</td>\n",
       "    </tr>\n",
       "    <tr>\n",
       "      <th>5</th>\n",
       "      <td>8.282500</td>\n",
       "    </tr>\n",
       "    <tr>\n",
       "      <th>6</th>\n",
       "      <td>9.945000</td>\n",
       "    </tr>\n",
       "    <tr>\n",
       "      <th>7</th>\n",
       "      <td>9.450000</td>\n",
       "    </tr>\n",
       "    <tr>\n",
       "      <th>8</th>\n",
       "      <td>10.596000</td>\n",
       "    </tr>\n",
       "    <tr>\n",
       "      <th>9</th>\n",
       "      <td>10.088750</td>\n",
       "    </tr>\n",
       "    <tr>\n",
       "      <th>10</th>\n",
       "      <td>9.745556</td>\n",
       "    </tr>\n",
       "    <tr>\n",
       "      <th>11</th>\n",
       "      <td>10.012500</td>\n",
       "    </tr>\n",
       "    <tr>\n",
       "      <th>12</th>\n",
       "      <td>10.730000</td>\n",
       "    </tr>\n",
       "  </tbody>\n",
       "</table>\n",
       "</div>"
      ],
      "text/plain": [
       "            x\n",
       "y            \n",
       "2    9.430000\n",
       "3    8.730000\n",
       "4    9.273333\n",
       "5    8.282500\n",
       "6    9.945000\n",
       "7    9.450000\n",
       "8   10.596000\n",
       "9   10.088750\n",
       "10   9.745556\n",
       "11  10.012500\n",
       "12  10.730000"
      ]
     },
     "execution_count": 16,
     "metadata": {},
     "output_type": "execute_result"
    }
   ],
   "source": [
    "# y毎のxの平均を知る\n",
    "d_C.groupby('y').mean()"
   ]
  },
  {
   "cell_type": "markdown",
   "metadata": {},
   "source": [
    "## データの書き出し\n",
    "pandasのデータフレームでは、データを他の形式で書き出すことができます。\n",
    "\n",
    "- to_csv: CSVファイルに出力\n",
    "- to_excel: Excel形式のファイルに出力\n",
    "- to_sql: SQLを使ってデータベースに出力\n",
    "\n",
    "例として、d_C_meanのデータフレームをExcel形式のファイルに出力してみます。\n",
    "\n",
    "Excelでは、Excelのブック形式のファイルに複数のシートを保存することができ、データフレームはシート単位に保存されます。\n",
    "\n",
    "最初にExcelWriterを作成し、このwriterを使ってd_C_meanを\"mean\"というシート名で保存します。"
   ]
  },
  {
   "cell_type": "code",
   "execution_count": 17,
   "metadata": {
    "collapsed": false
   },
   "outputs": [],
   "source": [
    "# 集計結果をExcelファイルに出力する\n",
    "d_C_mean = d_C.groupby('y').mean()\n",
    "writer = pd.ExcelWriter('data/test.xls')\n",
    "d_C_mean.to_excel(writer, 'mean')\n",
    "writer.close()"
   ]
  },
  {
   "cell_type": "markdown",
   "metadata": {},
   "source": [
    "作成されたExcelファイルtest.xlsがdataフォルダーに保存されます。\n",
    "\n",
    "Excelファイルを開くと、以下の様に表示されます。\n",
    "![Sample Excelfile](images/excel.png)"
   ]
  },
  {
   "cell_type": "markdown",
   "metadata": {},
   "source": [
    "## データベース連携\n",
    "sageには、sqliteというデータベースが入っているので、これを使ってpandasのデータベース連携機能を説明します。\n",
    "\n",
    "以下の様にpandasのsqlとsqlite3をインポートします。"
   ]
  },
  {
   "cell_type": "code",
   "execution_count": 18,
   "metadata": {
    "collapsed": true
   },
   "outputs": [],
   "source": [
    "import pandas.io.sql as sql\n",
    "import sqlite3"
   ]
  },
  {
   "cell_type": "markdown",
   "metadata": {},
   "source": [
    "### データベースを使うための準備\n",
    "データベースを使うためには、データベースに接続する必要があります。 また、最後には接続conのクローズも必要です。"
   ]
  },
  {
   "cell_type": "code",
   "execution_count": 19,
   "metadata": {
    "collapsed": false
   },
   "outputs": [],
   "source": [
    "con = sqlite3.connect(\"data/chap2.db\")"
   ]
  },
  {
   "cell_type": "markdown",
   "metadata": {},
   "source": [
    "### データフレームをデータベースのテーブルに入れる\n",
    "先ほど、CSVファイルから読み込んだデータフレームdをテーブルt_dに挿入してみましょう。"
   ]
  },
  {
   "cell_type": "code",
   "execution_count": 20,
   "metadata": {
    "collapsed": false
   },
   "outputs": [],
   "source": [
    "# データフレームdをテーブルt_dに入れる\n",
    "sql.to_sql(d, con=con, name='t_d', if_exists='replace')"
   ]
  },
  {
   "cell_type": "markdown",
   "metadata": {},
   "source": [
    "### クエリーの実行\n",
    "準備ができたので、テーブルt_dから種子数y毎の頻度をSQLを使って計算してみます。\n",
    "\n",
    "SQL文は、以下のようにします。\n",
    "```\n",
    "FROM t_d\n",
    "GROUP BY y;\n",
    "```\n",
    "注意する点は、count(y)などの集計されたカラムにASを使って名前を付けておくことです。ここでは、cnt_yとしました。 このようにすることで、結果として返されたデータフレームresult_1で集計値を簡単に参照することができます。"
   ]
  },
  {
   "cell_type": "code",
   "execution_count": 21,
   "metadata": {
    "collapsed": false
   },
   "outputs": [
    {
     "name": "stdout",
     "output_type": "stream",
     "text": [
      "   y  cnt_y\n",
      "0  2      1\n",
      "1  3      3\n",
      "2  4      5\n",
      "3  5      9\n",
      "4  6     20\n",
      "0     1\n",
      "1     3\n",
      "2     5\n",
      "3     9\n",
      "4    20\n",
      "Name: cnt_y, dtype: int64\n"
     ]
    }
   ],
   "source": [
    "# クエリーの実行\n",
    "query_1 = \"\"\"\n",
    "SELECT y, count(y) AS cnt_y\n",
    "    FROM t_d\n",
    "    GROUP BY y;\n",
    "\"\"\"\n",
    "result_1 = sql.read_sql_query(query_1, con)\n",
    "print result_1.head()\n",
    "print result_1.cnt_y.head()"
   ]
  },
  {
   "cell_type": "markdown",
   "metadata": {},
   "source": [
    "最後にデータベースとの接続をクローズします。"
   ]
  },
  {
   "cell_type": "code",
   "execution_count": 22,
   "metadata": {
    "collapsed": true
   },
   "outputs": [],
   "source": [
    "# データベースのクローズ\n",
    "con.close()"
   ]
  },
  {
   "cell_type": "code",
   "execution_count": null,
   "metadata": {
    "collapsed": true
   },
   "outputs": [],
   "source": []
  }
 ],
 "metadata": {
  "kernelspec": {
   "display_name": "Python 2",
   "language": "python",
   "name": "python2"
  },
  "language_info": {
   "codemirror_mode": {
    "name": "ipython",
    "version": 2
   },
   "file_extension": ".py",
   "mimetype": "text/x-python",
   "name": "python",
   "nbconvert_exporter": "python",
   "pygments_lexer": "ipython2",
   "version": "2.7.10"
  }
 },
 "nbformat": 4,
 "nbformat_minor": 0
}
