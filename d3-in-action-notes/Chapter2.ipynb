{
 "cells": [
  {
   "cell_type": "markdown",
   "metadata": {},
   "source": [
    "# Chapter2\n",
    "D3.js in Actionの2章の勉強ノートです。\n",
    "\n"
   ]
  },
  {
   "cell_type": "code",
   "execution_count": 1,
   "metadata": {
    "collapsed": false
   },
   "outputs": [
    {
     "data": {
      "text/html": [
       "<script src=\"js/d3.v3.min.js\" charset=\"utf-8\"></script>"
      ],
      "text/plain": [
       "<IPython.core.display.HTML object>"
      ]
     },
     "metadata": {},
     "output_type": "display_data"
    }
   ],
   "source": [
    "%%html\n",
    "<script src=\"js/d3.v3.min.js\" charset=\"utf-8\"></script>"
   ]
  },
  {
   "cell_type": "markdown",
   "metadata": {},
   "source": [
    "## データの読み込み\n",
    "D3では様々なデータをサポートしています。\n",
    "- TEXT: d3.text()\n",
    "- XML: d3.xml()\n",
    "- CSV: d3.csv()\n",
    "- JSON: d3.json()\n",
    "- HTML: d3.html()\n",
    "\n",
    "pythonとのインタフェースを取ることを考えると、一般的に構造を保持できるJSONとCSVがデータの受け渡しに使われるます。\n",
    "\n",
    "例として以下のようなcities.csvを読み込んでみましょう。"
   ]
  },
  {
   "cell_type": "code",
   "execution_count": 7,
   "metadata": {
    "collapsed": false
   },
   "outputs": [
    {
     "name": "stdout",
     "output_type": "stream",
     "text": [
      "\"label\",\"population\",\"country\",\"x\",\"y\"\r\n",
      "\"San Francisco\", 750000,\"USA\",37,-122\r\n",
      "\"Fresno\", 500000,\"USA\",36,-119\r\n",
      "\"Lahore\",12500000,\"Pakistan\",31,74\r\n",
      "\"Karachi\",13000000,\"Pakistan\",24,67\r\n",
      "\"Rome\",2500000,\"Italy\",41,12\r\n",
      "\"Naples\",1000000,\"Italy\",40,14\r\n",
      "\"Rio\",12300000,\"Brazil\",-22,-43\r\n",
      "\"Sao Paolo\",12300000,\"Brazil\",-23,-46"
     ]
    }
   ],
   "source": [
    "!cat data/cities.csv"
   ]
  },
  {
   "cell_type": "markdown",
   "metadata": {},
   "source": [
    "読み込まれたデータは、function(error, data)形式のコールバックで与えられます。\n",
    "このコールバックの中で実行したい処理を記述する方式になります。"
   ]
  },
  {
   "cell_type": "code",
   "execution_count": 8,
   "metadata": {
    "collapsed": false
   },
   "outputs": [
    {
     "data": {
      "application/javascript": [
       "d3.csv(\"data/cities.csv\",function(error,data) {console.log(error,data)});"
      ],
      "text/plain": [
       "<IPython.core.display.Javascript object>"
      ]
     },
     "metadata": {},
     "output_type": "display_data"
    }
   ],
   "source": [
    "%%javascript\n",
    "d3.csv(\"data/cities.csv\",function(error,data) {console.log(error,data)});"
   ]
  },
  {
   "cell_type": "markdown",
   "metadata": {},
   "source": [
    "javascriptのコンソールに以下のようにデータの内容が出力されます。\n",
    "\n",
    "![cities console log](images/cities_log.png)"
   ]
  },
  {
   "cell_type": "markdown",
   "metadata": {},
   "source": [
    "これを見るとCSVのデータがヘッダのカラム名をキーとする辞書の配列として渡されていることがわかります。"
   ]
  },
  {
   "cell_type": "markdown",
   "metadata": {},
   "source": [
    "## Pythonデータの受け渡し\n",
    "jupyterの計算結果をD3に渡す方法を以下に紹介します。\n",
    "\n",
    "jsonとTemplateライブラリを使用します。\n"
   ]
  },
  {
   "cell_type": "code",
   "execution_count": 28,
   "metadata": {
    "collapsed": true
   },
   "outputs": [],
   "source": [
    "from IPython.core.display import HTML\n",
    "from string import Template\n",
    "import json\n",
    "import pandas as pd\n"
   ]
  },
  {
   "cell_type": "markdown",
   "metadata": {},
   "source": [
    "pandasを使ってcities.csvを読み込み、データフレームdfにセットします。"
   ]
  },
  {
   "cell_type": "code",
   "execution_count": 29,
   "metadata": {
    "collapsed": false
   },
   "outputs": [
    {
     "data": {
      "text/html": [
       "<div>\n",
       "<table border=\"1\" class=\"dataframe\">\n",
       "  <thead>\n",
       "    <tr style=\"text-align: right;\">\n",
       "      <th></th>\n",
       "      <th>label</th>\n",
       "      <th>population</th>\n",
       "      <th>country</th>\n",
       "      <th>x</th>\n",
       "      <th>y</th>\n",
       "    </tr>\n",
       "  </thead>\n",
       "  <tbody>\n",
       "    <tr>\n",
       "      <th>0</th>\n",
       "      <td>San Francisco</td>\n",
       "      <td>750000</td>\n",
       "      <td>USA</td>\n",
       "      <td>37</td>\n",
       "      <td>-122</td>\n",
       "    </tr>\n",
       "    <tr>\n",
       "      <th>1</th>\n",
       "      <td>Fresno</td>\n",
       "      <td>500000</td>\n",
       "      <td>USA</td>\n",
       "      <td>36</td>\n",
       "      <td>-119</td>\n",
       "    </tr>\n",
       "    <tr>\n",
       "      <th>2</th>\n",
       "      <td>Lahore</td>\n",
       "      <td>12500000</td>\n",
       "      <td>Pakistan</td>\n",
       "      <td>31</td>\n",
       "      <td>74</td>\n",
       "    </tr>\n",
       "    <tr>\n",
       "      <th>3</th>\n",
       "      <td>Karachi</td>\n",
       "      <td>13000000</td>\n",
       "      <td>Pakistan</td>\n",
       "      <td>24</td>\n",
       "      <td>67</td>\n",
       "    </tr>\n",
       "    <tr>\n",
       "      <th>4</th>\n",
       "      <td>Rome</td>\n",
       "      <td>2500000</td>\n",
       "      <td>Italy</td>\n",
       "      <td>41</td>\n",
       "      <td>12</td>\n",
       "    </tr>\n",
       "  </tbody>\n",
       "</table>\n",
       "</div>"
      ],
      "text/plain": [
       "           label  population   country   x    y\n",
       "0  San Francisco      750000       USA  37 -122\n",
       "1         Fresno      500000       USA  36 -119\n",
       "2         Lahore    12500000  Pakistan  31   74\n",
       "3        Karachi    13000000  Pakistan  24   67\n",
       "4           Rome     2500000     Italy  41   12"
      ]
     },
     "execution_count": 29,
     "metadata": {},
     "output_type": "execute_result"
    }
   ],
   "source": [
    "df = pd.read_csv(\"data/cities.csv\")\n",
    "df.head()"
   ]
  },
  {
   "cell_type": "markdown",
   "metadata": {},
   "source": [
    "Templateを使ってscriptタグにdfを変数dataに代入します。\n",
    "\n",
    "$python_dataの置換で、json.dumpsとto_dict(orient='records')を使用するのがポイントです。\n"
   ]
  },
  {
   "cell_type": "code",
   "execution_count": 36,
   "metadata": {
    "collapsed": false
   },
   "outputs": [],
   "source": [
    "data_text = Template('''\n",
    "<script>\n",
    "    var data = $python_data ;\n",
    "    console.log(data);\n",
    "</script>\n",
    "''')\n",
    "data_text = data_text.substitute({'python_data': json.dumps(df.to_dict(orient='records'))})"
   ]
  },
  {
   "cell_type": "code",
   "execution_count": 37,
   "metadata": {
    "collapsed": false
   },
   "outputs": [
    {
     "data": {
      "text/plain": [
       "'\\n<script>\\n    var data = [{\"y\": -122, \"country\": \"USA\", \"population\": 750000, \"x\": 37, \"label\": \"San Francisco\"}, {\"y\": -119, \"country\": \"USA\", \"population\": 500000, \"x\": 36, \"label\": \"Fresno\"}, {\"y\": 74, \"country\": \"Pakistan\", \"population\": 12500000, \"x\": 31, \"label\": \"Lahore\"}, {\"y\": 67, \"country\": \"Pakistan\", \"population\": 13000000, \"x\": 24, \"label\": \"Karachi\"}, {\"y\": 12, \"country\": \"Italy\", \"population\": 2500000, \"x\": 41, \"label\": \"Rome\"}, {\"y\": 14, \"country\": \"Italy\", \"population\": 1000000, \"x\": 40, \"label\": \"Naples\"}, {\"y\": -43, \"country\": \"Brazil\", \"population\": 12300000, \"x\": -22, \"label\": \"Rio\"}, {\"y\": -46, \"country\": \"Brazil\", \"population\": 12300000, \"x\": -23, \"label\": \"Sao Paolo\"}] ;\\n    console.log(data);\\n</script>\\n'"
      ]
     },
     "execution_count": 37,
     "metadata": {},
     "output_type": "execute_result"
    }
   ],
   "source": [
    "data_text"
   ]
  },
  {
   "cell_type": "markdown",
   "metadata": {},
   "source": [
    "以下のコマンドを実行して、javascriptのコンソールをみてください。d3で読み込んだ時と同じログが出力されています。"
   ]
  },
  {
   "cell_type": "code",
   "execution_count": 39,
   "metadata": {
    "collapsed": false
   },
   "outputs": [
    {
     "data": {
      "text/html": [
       "\n",
       "<script>\n",
       "    var data = [{\"y\": -122, \"country\": \"USA\", \"population\": 750000, \"x\": 37, \"label\": \"San Francisco\"}, {\"y\": -119, \"country\": \"USA\", \"population\": 500000, \"x\": 36, \"label\": \"Fresno\"}, {\"y\": 74, \"country\": \"Pakistan\", \"population\": 12500000, \"x\": 31, \"label\": \"Lahore\"}, {\"y\": 67, \"country\": \"Pakistan\", \"population\": 13000000, \"x\": 24, \"label\": \"Karachi\"}, {\"y\": 12, \"country\": \"Italy\", \"population\": 2500000, \"x\": 41, \"label\": \"Rome\"}, {\"y\": 14, \"country\": \"Italy\", \"population\": 1000000, \"x\": 40, \"label\": \"Naples\"}, {\"y\": -43, \"country\": \"Brazil\", \"population\": 12300000, \"x\": -22, \"label\": \"Rio\"}, {\"y\": -46, \"country\": \"Brazil\", \"population\": 12300000, \"x\": -23, \"label\": \"Sao Paolo\"}] ;\n",
       "    console.log(data);\n",
       "</script>\n"
      ],
      "text/plain": [
       "<IPython.core.display.HTML object>"
      ]
     },
     "execution_count": 39,
     "metadata": {},
     "output_type": "execute_result"
    }
   ],
   "source": [
    "HTML(data_text)"
   ]
  },
  {
   "cell_type": "markdown",
   "metadata": {},
   "source": [
    "## スケールマッピング\n",
    "D3のスケール処理はとても良くできており、データに応じて選べるようになっています。\n",
    "- d3.scale.linear(): 線形補間\n",
    "- d3.scale.quantile(): 分位数（区間で分けられた値）\n",
    "\n",
    "最初に、線形補間を見てみましょう。\n",
    "domain関数では、問題領域（ここではデータの分布領域）をrange関数で指定された範囲にマッピングします。\n",
    "\n",
    "console.logの代わりにelement.textを使うとjupyterのノートブックに出力できます（ただし１回だけ指定可能みたい）。"
   ]
  },
  {
   "cell_type": "code",
   "execution_count": 58,
   "metadata": {
    "collapsed": false
   },
   "outputs": [
    {
     "data": {
      "application/javascript": [
       "var newRamp = d3.scale.linear().domain([500000,13000000]).range([0, 500]);\n",
       "element.text(newRamp(1000000) + \", \" +newRamp(9000000)+\", \"+newRamp.invert(313));"
      ],
      "text/plain": [
       "<IPython.core.display.Javascript object>"
      ]
     },
     "metadata": {},
     "output_type": "display_data"
    }
   ],
   "source": [
    "%%javascript\n",
    "var newRamp = d3.scale.linear().domain([500000,13000000]).range([0, 500]);\n",
    "element.text(newRamp(1000000) + \", \" +newRamp(9000000)+\", \"+newRamp.invert(313));"
   ]
  },
  {
   "cell_type": "markdown",
   "metadata": {},
   "source": [
    "D３のscaleの凄いのは、数値だけでなくカラーにもマッピングできることです。"
   ]
  },
  {
   "cell_type": "code",
   "execution_count": 57,
   "metadata": {
    "collapsed": false
   },
   "outputs": [
    {
     "data": {
      "application/javascript": [
       "var newRamp = d3.scale.linear().domain([500000,13000000]).range([\"blue\",\n",
       "\"red\"]);\n",
       "element.text(newRamp(1000000) + \", \" +newRamp(9000000));"
      ],
      "text/plain": [
       "<IPython.core.display.Javascript object>"
      ]
     },
     "metadata": {},
     "output_type": "display_data"
    }
   ],
   "source": [
    "%%javascript\n",
    "var newRamp = d3.scale.linear().domain([500000,13000000]).range([\"blue\",\n",
    "\"red\"]);\n",
    "element.text(newRamp(1000000) + \", \" +newRamp(9000000));"
   ]
  },
  {
   "cell_type": "markdown",
   "metadata": {},
   "source": [
    "### カテゴリわけ\n",
    "次にquantile関数を使っていくつかのカテゴリに分けてみます。\n",
    "\n",
    "以下の例では、sampleArrayのデータを３つのグループに分けて、small, medium, largetとします。\n",
    "値ではなく、ソートした後にデータ数が等分になるようにカテゴリわけしているみたいです。\n",
    "\n",
    "[1,10,44], [58,66,124], [423, 524, 900]から\n",
    "\n",
    "(-∞..44], (44..124], (124..∞)の区間をsmall, medium, largeにマッピングしています。"
   ]
  },
  {
   "cell_type": "code",
   "execution_count": 65,
   "metadata": {
    "collapsed": false
   },
   "outputs": [
    {
     "data": {
      "application/javascript": [
       "var sampleArray = [423,124,66,424,58,10,900,44,1];\n",
       "var qScaleName =\n",
       "d3.scale.quantile().domain(sampleArray).range([\"small\",\"medium\",\"large\"]);\n",
       "element.text(qScaleName(68) + \", \" +qScaleName(20)+\", \"+qScaleName(10000));"
      ],
      "text/plain": [
       "<IPython.core.display.Javascript object>"
      ]
     },
     "metadata": {},
     "output_type": "display_data"
    }
   ],
   "source": [
    "%%javascript\n",
    "var sampleArray = [423,124,66,424,58,10,900,44,1];\n",
    "var qScaleName =\n",
    "d3.scale.quantile().domain(sampleArray).range([\"small\",\"medium\",\"large\"]);\n",
    "element.text(qScaleName(68) + \", \" +qScaleName(20)+\", \"+qScaleName(10000));"
   ]
  },
  {
   "cell_type": "code",
   "execution_count": null,
   "metadata": {
    "collapsed": true
   },
   "outputs": [],
   "source": []
  }
 ],
 "metadata": {
  "kernelspec": {
   "display_name": "Python 2",
   "language": "python",
   "name": "python2"
  },
  "language_info": {
   "codemirror_mode": {
    "name": "ipython",
    "version": 2
   },
   "file_extension": ".py",
   "mimetype": "text/x-python",
   "name": "python",
   "nbconvert_exporter": "python",
   "pygments_lexer": "ipython2",
   "version": "2.7.10"
  }
 },
 "nbformat": 4,
 "nbformat_minor": 0
}
