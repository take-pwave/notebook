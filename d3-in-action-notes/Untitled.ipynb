{
 "cells": [
  {
   "cell_type": "markdown",
   "metadata": {},
   "source": [
    "## Chapter1\n",
    "D3.js in Actionの1章の勉強ノートです。\n",
    "\n",
    "注意）ノートブックを開いたときに以下のエラーがでます。現在調査中です、しばらくお待ち下さい。\n",
    "<prep>\n",
    "Error: Mismatched anonymous define() module: [object Object] http://requirejs.org/docs/errors.html#mismatch\n",
    "</prep>"
   ]
  },
  {
   "cell_type": "markdown",
   "metadata": {},
   "source": [
    "## 要素の選択とデータバインド\n",
    "要素の選択には、select, selectAll関数が用意されいます。要素の選択パターンはjQueryと同じです。\n",
    "- #<要素のID>: 要素のIDで選択\n",
    "- <タグ>: HTMLタグ名で選択\n",
    "- .<クラス>: 要素のclass名で選択\n",
    "\n"
   ]
  },
  {
   "cell_type": "markdown",
   "metadata": {},
   "source": [
    "### リスト1.1をjupyterでためす\n"
   ]
  },
  {
   "cell_type": "code",
   "execution_count": 3,
   "metadata": {
    "collapsed": false
   },
   "outputs": [
    {
     "data": {
      "text/html": [
       "<script src=\"js/d3.v3.min.js\" charset=\"utf-8\"></script>\n",
       "<div id=\"someDiv\" style=\"width:200px;height:100px;border:black 1px solid;\">\n",
       "<input id=\"someCheckbox\" type=\"checkbox\" />\n",
       "</div>"
      ],
      "text/plain": [
       "<IPython.core.display.HTML object>"
      ]
     },
     "metadata": {},
     "output_type": "display_data"
    }
   ],
   "source": [
    "%%html\n",
    "<script src=\"js/d3.v3.min.js\" charset=\"utf-8\"></script>\n",
    "<div id=\"someDiv\" style=\"width:200px;height:100px;border:black 1px solid;\">\n",
    "<input id=\"someCheckbox\" type=\"checkbox\" />\n",
    "</div>"
   ]
  },
  {
   "cell_type": "markdown",
   "metadata": {},
   "source": [
    "javascriptのmagic関数をこんな形で使うことは考えたことがなかったので、とても重宝します。\n",
    "\n",
    "通常はhtmlのscriptタグかブラウザのconsoleでしかjavascriptを操作できないのですが、\n",
    "jupyterノートブックでは、このように結果を確認しながら処理を進めることができます。\n",
    "\n",
    "以下の例では、以下の処理をします。\n",
    "- divタグのid=someDivのstyleをborder=\"5px darkgray dashed\"に変更\n",
    "- divタグのid=someDivのidをnewIDに変更\n",
    "- inputタグのid=someCheckboxの変数checkedをtrueにセット\n"
   ]
  },
  {
   "cell_type": "code",
   "execution_count": 4,
   "metadata": {
    "collapsed": false
   },
   "outputs": [
    {
     "data": {
      "application/javascript": [
       "d3.select(\"#someDiv\").style(\"border\", \"5px darkgray dashed\");\n",
       "d3.select(\"#someDiv\").attr(\"id\", \"newID\");\n",
       "d3.select(\"#someCheckbox\").property(\"checked\", true);"
      ],
      "text/plain": [
       "<IPython.core.display.Javascript object>"
      ]
     },
     "metadata": {},
     "output_type": "display_data"
    }
   ],
   "source": [
    "%%javascript\n",
    "d3.select(\"#someDiv\").style(\"border\", \"5px darkgray dashed\");\n",
    "d3.select(\"#someDiv\").attr(\"id\", \"newID\");\n",
    "d3.select(\"#someCheckbox\").property(\"checked\", true);"
   ]
  },
  {
   "cell_type": "code",
   "execution_count": null,
   "metadata": {
    "collapsed": true
   },
   "outputs": [],
   "source": []
  }
 ],
 "metadata": {
  "kernelspec": {
   "display_name": "SageMath 7.2",
   "language": "",
   "name": "sagemath"
  },
  "language_info": {
   "codemirror_mode": {
    "name": "ipython",
    "version": 2
   },
   "file_extension": ".py",
   "mimetype": "text/x-python",
   "name": "python",
   "nbconvert_exporter": "python",
   "pygments_lexer": "ipython2",
   "version": "2.7.10"
  }
 },
 "nbformat": 4,
 "nbformat_minor": 0
}
