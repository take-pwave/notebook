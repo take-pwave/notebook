{
 "cells": [
  {
   "cell_type": "markdown",
   "metadata": {},
   "source": [
    "## Chapter9\n",
    "D3.js in Actionの9章の勉強ノートです。\n",
    "\n",
    "9章では、グラフと表を同時に表示したダッシュボックスの作成方法を説明しています。\n",
    "\n",
    "ここでは、高岡市の地図と高岡市が公開しているオープンデータ（人口分布）を使って高岡市のダッシュボックスを作成します。\n"
   ]
  },
  {
   "cell_type": "code",
   "execution_count": 2,
   "metadata": {
    "collapsed": false
   },
   "outputs": [
    {
     "name": "stdout",
     "output_type": "stream",
     "text": [
      "The sage extension is already loaded. To reload it, use:\n",
      "  %reload_ext sage\n"
     ]
    },
    {
     "data": {
      "text/html": [
       "<link media=\"all\" href=\"https://cdnjs.cloudflare.com/ajax/libs/nvd3/1.7.0/nv.d3.min.css\" type=\"text/css\"\n",
       "                        rel=\"stylesheet\"/>"
      ],
      "text/plain": [
       "<IPython.core.display.HTML object>"
      ]
     },
     "metadata": {},
     "output_type": "display_data"
    },
    {
     "data": {
      "application/javascript": [
       "$.getScript(\"https://cdnjs.cloudflare.com/ajax/libs/nvd3/1.7.0/nv.d3.min.js\")"
      ],
      "text/plain": [
       "<IPython.core.display.Javascript object>"
      ]
     },
     "metadata": {},
     "output_type": "display_data"
    },
    {
     "data": {
      "application/javascript": [
       "$.getScript(\"https://cdnjs.cloudflare.com/ajax/libs/d3/3.5.5/d3.min.js\", function() {\n",
       "                              $.getScript(\"https://cdnjs.cloudflare.com/ajax/libs/nvd3/1.7.0/nv.d3.min.js\", function() {})});"
      ],
      "text/plain": [
       "<IPython.core.display.Javascript object>"
      ]
     },
     "metadata": {},
     "output_type": "display_data"
    },
    {
     "data": {
      "text/html": [
       "<script src=\"https://cdnjs.cloudflare.com/ajax/libs/d3/3.5.5/d3.min.js\"></script>"
      ],
      "text/plain": [
       "<IPython.core.display.HTML object>"
      ]
     },
     "metadata": {},
     "output_type": "display_data"
    },
    {
     "data": {
      "text/html": [
       "<script src=\"https://cdnjs.cloudflare.com/ajax/libs/nvd3/1.7.0/nv.d3.min.js\"></script>"
      ],
      "text/plain": [
       "<IPython.core.display.HTML object>"
      ]
     },
     "metadata": {},
     "output_type": "display_data"
    }
   ],
   "source": [
    "%load_ext sage\n",
    "from IPython.core.display import HTML\n",
    "from string import Template\n",
    "import json\n",
    "import nvd3\n",
    "nvd3.ipynb.initialize_javascript(use_remote=True)"
   ]
  },
  {
   "cell_type": "markdown",
   "metadata": {},
   "source": [
    "### 高岡市のオープンデータを取り込む\n"
   ]
  },
  {
   "cell_type": "code",
   "execution_count": 3,
   "metadata": {
    "collapsed": false
   },
   "outputs": [],
   "source": [
    "# python用のパッケージ\n",
    "import pandas as pd\n",
    "import numpy as np\n",
    "import matplotlib.pyplot as plt \n",
    "import seaborn as sns\n",
    "%matplotlib inline\n"
   ]
  },
  {
   "cell_type": "markdown",
   "metadata": {},
   "source": [
    "pandasでExcelのデータを扱えるようにするために、xlsxWriter xlrdをインストールします。また、python-nvd3も合わせてインストールします。\n",
    "\n",
    "<pre>\n",
    "$ sudo sage -sh\n",
    "(sage-sh) $ pip install xlsxWriter xlrd\n",
    "</pre>\n"
   ]
  },
  {
   "cell_type": "code",
   "execution_count": 4,
   "metadata": {
    "collapsed": false
   },
   "outputs": [
    {
     "data": {
      "text/html": [
       "<div>\n",
       "<table border=\"1\" class=\"dataframe\">\n",
       "  <thead>\n",
       "    <tr style=\"text-align: right;\">\n",
       "      <th></th>\n",
       "      <th>頁</th>\n",
       "      <th>地区\n",
       "コード</th>\n",
       "      <th>地区名</th>\n",
       "      <th>人　　口</th>\n",
       "      <th>Unnamed: 4</th>\n",
       "      <th>Unnamed: 5</th>\n",
       "      <th>世帯数</th>\n",
       "    </tr>\n",
       "  </thead>\n",
       "  <tbody>\n",
       "    <tr>\n",
       "      <th>NaN</th>\n",
       "      <td>NaN</td>\n",
       "      <td>NaN</td>\n",
       "      <td>NaN</td>\n",
       "      <td>男</td>\n",
       "      <td>女</td>\n",
       "      <td>計</td>\n",
       "      <td>NaN</td>\n",
       "    </tr>\n",
       "    <tr>\n",
       "      <th>2</th>\n",
       "      <td>NaN</td>\n",
       "      <td>01 平米地区</td>\n",
       "      <td>NaN</td>\n",
       "      <td>1534</td>\n",
       "      <td>1794</td>\n",
       "      <td>3328</td>\n",
       "      <td>1581.0</td>\n",
       "    </tr>\n",
       "    <tr>\n",
       "      <th>3</th>\n",
       "      <td>NaN</td>\n",
       "      <td>02 定塚地区</td>\n",
       "      <td>NaN</td>\n",
       "      <td>4404</td>\n",
       "      <td>4902</td>\n",
       "      <td>9306</td>\n",
       "      <td>4005.0</td>\n",
       "    </tr>\n",
       "    <tr>\n",
       "      <th>4</th>\n",
       "      <td>NaN</td>\n",
       "      <td>03 下関地区</td>\n",
       "      <td>NaN</td>\n",
       "      <td>4423</td>\n",
       "      <td>4544</td>\n",
       "      <td>8967</td>\n",
       "      <td>3966.0</td>\n",
       "    </tr>\n",
       "    <tr>\n",
       "      <th>5</th>\n",
       "      <td>NaN</td>\n",
       "      <td>04 博労地区</td>\n",
       "      <td>NaN</td>\n",
       "      <td>5303</td>\n",
       "      <td>5794</td>\n",
       "      <td>11097</td>\n",
       "      <td>4622.0</td>\n",
       "    </tr>\n",
       "  </tbody>\n",
       "</table>\n",
       "</div>"
      ],
      "text/plain": [
       "      頁  地区\\nコード  地区名  人　　口 Unnamed: 4 Unnamed: 5     世帯数\n",
       "NaN NaN      NaN  NaN     男          女          計     NaN\n",
       "2   NaN  01 平米地区  NaN  1534       1794       3328  1581.0\n",
       "3   NaN  02 定塚地区  NaN  4404       4902       9306  4005.0\n",
       "4   NaN  03 下関地区  NaN  4423       4544       8967  3966.0\n",
       "5   NaN  04 博労地区  NaN  5303       5794      11097  4622.0"
      ]
     },
     "execution_count": 4,
     "metadata": {},
     "output_type": "execute_result"
    }
   ],
   "source": [
    "# 高岡市のオープンデータから平成27年7月の人口データ(h270731.xlsx)を取り込みます\n",
    "d = pd.read_excel('http://www.city.takaoka.toyama.jp/joho/shise/opendata/documents/h281031.xlsx', header=3, index_col=1)\n",
    "d.head() "
   ]
  },
  {
   "cell_type": "markdown",
   "metadata": {},
   "source": [
    "地区コードと地区名はセル結合していたり、頁が全てNaNになっているので、少し加工します。"
   ]
  },
  {
   "cell_type": "code",
   "execution_count": 5,
   "metadata": {
    "collapsed": false
   },
   "outputs": [
    {
     "data": {
      "text/html": [
       "<div>\n",
       "<table border=\"1\" class=\"dataframe\">\n",
       "  <thead>\n",
       "    <tr style=\"text-align: right;\">\n",
       "      <th></th>\n",
       "      <th>code</th>\n",
       "      <th>male</th>\n",
       "      <th>female</th>\n",
       "      <th>population</th>\n",
       "      <th>household</th>\n",
       "    </tr>\n",
       "  </thead>\n",
       "  <tbody>\n",
       "    <tr>\n",
       "      <th>2</th>\n",
       "      <td>01 平米地区</td>\n",
       "      <td>1534</td>\n",
       "      <td>1794</td>\n",
       "      <td>3328</td>\n",
       "      <td>1581.0</td>\n",
       "    </tr>\n",
       "    <tr>\n",
       "      <th>3</th>\n",
       "      <td>02 定塚地区</td>\n",
       "      <td>4404</td>\n",
       "      <td>4902</td>\n",
       "      <td>9306</td>\n",
       "      <td>4005.0</td>\n",
       "    </tr>\n",
       "    <tr>\n",
       "      <th>4</th>\n",
       "      <td>03 下関地区</td>\n",
       "      <td>4423</td>\n",
       "      <td>4544</td>\n",
       "      <td>8967</td>\n",
       "      <td>3966.0</td>\n",
       "    </tr>\n",
       "    <tr>\n",
       "      <th>5</th>\n",
       "      <td>04 博労地区</td>\n",
       "      <td>5303</td>\n",
       "      <td>5794</td>\n",
       "      <td>11097</td>\n",
       "      <td>4622.0</td>\n",
       "    </tr>\n",
       "    <tr>\n",
       "      <th>6</th>\n",
       "      <td>05 横田地区</td>\n",
       "      <td>2771</td>\n",
       "      <td>3025</td>\n",
       "      <td>5796</td>\n",
       "      <td>2288.0</td>\n",
       "    </tr>\n",
       "  </tbody>\n",
       "</table>\n",
       "</div>"
      ],
      "text/plain": [
       "      code  male female population  household\n",
       "2  01 平米地区  1534   1794       3328     1581.0\n",
       "3  02 定塚地区  4404   4902       9306     4005.0\n",
       "4  03 下関地区  4423   4544       8967     3966.0\n",
       "5  04 博労地区  5303   5794      11097     4622.0\n",
       "6  05 横田地区  2771   3025       5796     2288.0"
      ]
     },
     "execution_count": 5,
     "metadata": {},
     "output_type": "execute_result"
    }
   ],
   "source": [
    "# カラム名を付け直し、最初の5個を表示\n",
    "d.columns = ['not_used', 'code', 'region', 'male', 'female', 'population', 'household']\n",
    "# 最初の番号（index）が1より大きなcode, population, householdを抽出します。\n",
    "d1 = d[d.index > 1][['code', 'male', 'female', 'population', 'household']]\n",
    "d1.head() "
   ]
  },
  {
   "cell_type": "markdown",
   "metadata": {},
   "source": [
    "地区ごとの男性、女性、世帯数がどのように分布しているか、可視化してみましょう。"
   ]
  },
  {
   "cell_type": "code",
   "execution_count": 6,
   "metadata": {
    "collapsed": false
   },
   "outputs": [
    {
     "data": {
      "text/plain": [
       "<seaborn.axisgrid.PairGrid at 0x7f032bf2b050>"
      ]
     },
     "execution_count": 6,
     "metadata": {},
     "output_type": "execute_result"
    },
    {
     "data": {
      "image/png": "[encoded data removed]",
      "text/plain": [
       "<matplotlib.figure.Figure at 0x7f02d4daee50>"
      ]
     },
     "metadata": {},
     "output_type": "display_data"
    }
   ],
   "source": [
    "# 男性、女性、人口、世帯数を取り出し、ペアプロットを表示\n",
    "d2 = d[d.index > 1][['male', 'female', 'population', 'household']]\n",
    "d2 = d2[d2.index <36]\n",
    "\n",
    "sns.pairplot(d2, size=2)"
   ]
  },
  {
   "cell_type": "markdown",
   "metadata": {},
   "source": [
    "### データからスプレッドシートを作る\n"
   ]
  },
  {
   "cell_type": "code",
   "execution_count": 7,
   "metadata": {
    "collapsed": false
   },
   "outputs": [
    {
     "name": "stdout",
     "output_type": "stream",
     "text": [
      "Overwriting css/spreadsheet.css\n"
     ]
    }
   ],
   "source": [
    "%%writefile css/spreadsheet.css\n",
    "div.table {\n",
    "  position:relative;\n",
    "}\n",
    "div.data {\n",
    "  position: absolute;\n",
    "  width: 90px;\n",
    "  padding: 0 5px;\n",
    "}\n",
    "\n",
    "div.head {\n",
    "  position: absolute;\n",
    "}\n",
    "\n",
    "div.datarow {\n",
    "  position: relative;\n",
    "  width: 100%;\n",
    "  border-top: 2px black solid;\n",
    "  background: white;\n",
    "  height: 25px;\n",
    "  overflow: hidden;\n",
    "}"
   ]
  },
  {
   "cell_type": "code",
   "execution_count": 8,
   "metadata": {
    "collapsed": false
   },
   "outputs": [
    {
     "data": {
      "text/html": [
       "<div>\n",
       "<table border=\"1\" class=\"dataframe\">\n",
       "  <thead>\n",
       "    <tr style=\"text-align: right;\">\n",
       "      <th></th>\n",
       "      <th>code</th>\n",
       "      <th>male</th>\n",
       "      <th>female</th>\n",
       "      <th>population</th>\n",
       "      <th>household</th>\n",
       "      <th>schoolDistrict</th>\n",
       "    </tr>\n",
       "  </thead>\n",
       "  <tbody>\n",
       "    <tr>\n",
       "      <th>0</th>\n",
       "      <td>01 平米地区</td>\n",
       "      <td>1534</td>\n",
       "      <td>1794</td>\n",
       "      <td>3328</td>\n",
       "      <td>1581.0</td>\n",
       "      <td>平米小学校</td>\n",
       "    </tr>\n",
       "    <tr>\n",
       "      <th>1</th>\n",
       "      <td>02 定塚地区</td>\n",
       "      <td>4404</td>\n",
       "      <td>4902</td>\n",
       "      <td>9306</td>\n",
       "      <td>4005.0</td>\n",
       "      <td>定塚小学校</td>\n",
       "    </tr>\n",
       "    <tr>\n",
       "      <th>2</th>\n",
       "      <td>03 下関地区</td>\n",
       "      <td>4423</td>\n",
       "      <td>4544</td>\n",
       "      <td>8967</td>\n",
       "      <td>3966.0</td>\n",
       "      <td>下関小学校</td>\n",
       "    </tr>\n",
       "    <tr>\n",
       "      <th>3</th>\n",
       "      <td>04 博労地区</td>\n",
       "      <td>5303</td>\n",
       "      <td>5794</td>\n",
       "      <td>11097</td>\n",
       "      <td>4622.0</td>\n",
       "      <td>博労小学校</td>\n",
       "    </tr>\n",
       "    <tr>\n",
       "      <th>4</th>\n",
       "      <td>05 横田地区</td>\n",
       "      <td>2771</td>\n",
       "      <td>3025</td>\n",
       "      <td>5796</td>\n",
       "      <td>2288.0</td>\n",
       "      <td>横田小学校</td>\n",
       "    </tr>\n",
       "  </tbody>\n",
       "</table>\n",
       "</div>"
      ],
      "text/plain": [
       "      code  male female population  household schoolDistrict\n",
       "0  01 平米地区  1534   1794       3328     1581.0          平米小学校\n",
       "1  02 定塚地区  4404   4902       9306     4005.0          定塚小学校\n",
       "2  03 下関地区  4423   4544       8967     3966.0          下関小学校\n",
       "3  04 博労地区  5303   5794      11097     4622.0          博労小学校\n",
       "4  05 横田地区  2771   3025       5796     2288.0          横田小学校"
      ]
     },
     "execution_count": 8,
     "metadata": {},
     "output_type": "execute_result"
    }
   ],
   "source": [
    "# データをCSVにして、D3が処理しやすいようにする\n",
    "d1 = d[d.index > 1][['code', 'male', 'female', 'population', 'household']]\n",
    "d2 = d1[d1.index <35]\n",
    "# 小学校区をマージ\n",
    "schoolDistrictDf = pd.read_excel(\"data/schoolDistrict.xls\")\n",
    "d3 = pd.merge(d2, schoolDistrictDf, on=\"code\", how=\"left\")\n",
    "# CSVで保存\n",
    "d3.to_csv(\"data/d3.csv\", index=False)\n",
    "d3.head()"
   ]
  },
  {
   "cell_type": "code",
   "execution_count": 9,
   "metadata": {
    "collapsed": false,
    "scrolled": false
   },
   "outputs": [
    {
     "data": {
      "text/html": [
       "<!-- CSSの読み込み　-->\n",
       "<link type=\"text/css\" rel=\"stylesheet\" href=\"css/spreadsheet.css\" />\n",
       "<script src=\"js/d3.geo.projection.min.js\" type=\"text/javascript\"></script>\n",
       "<script src=\"js/colorbrewer.js\" type=\"text/javascript\"></script>\n",
       "<script src=\"js/tile.js\" type=\"text/javascript\"></script>\n",
       "\n",
       "<div>\n",
       "    <div id=\"map\">\n",
       "        <svg style=\"width:500px;height:1px;border:1px lightgray solid;\" />\n",
       "    </div>\n",
       "    <div style=\"height:50%;\">\n",
       "        <div id=\"spreadsheet\" ></div>\n",
       "    <div>    \n",
       "</div>"
      ],
      "text/plain": [
       "<IPython.core.display.HTML object>"
      ]
     },
     "metadata": {},
     "output_type": "display_data"
    }
   ],
   "source": [
    "%%HTML\n",
    "<!-- CSSの読み込み　-->\n",
    "<link type=\"text/css\" rel=\"stylesheet\" href=\"css/spreadsheet.css\" />\n",
    "<script src=\"js/d3.geo.projection.min.js\" type=\"text/javascript\"></script>\n",
    "<script src=\"js/colorbrewer.js\" type=\"text/javascript\"></script>\n",
    "<script src=\"js/tile.js\" type=\"text/javascript\"></script>\n",
    "\n",
    "<div>\n",
    "    <div id=\"map\">\n",
    "        <svg style=\"width:500px;height:1px;border:1px lightgray solid;\" />\n",
    "    </div>\n",
    "    <div style=\"height:50%;\">\n",
    "        <div id=\"spreadsheet\" ></div>\n",
    "    <div>    \n",
    "</div>\n"
   ]
  },
  {
   "cell_type": "markdown",
   "metadata": {},
   "source": [
    "### スプレッドシートの表示\n",
    "スプレッドシート（表）を表示します。"
   ]
  },
  {
   "cell_type": "code",
   "execution_count": 10,
   "metadata": {
    "collapsed": false
   },
   "outputs": [
    {
     "data": {
      "application/javascript": [
       "d3.csv(\"data/d3.csv\",function(error,data) { createSpreadsheet(data, \"#spreadsheet\")});\n",
       "      \n",
       "      function createSpreadsheet(incData, target) {\n",
       "        \n",
       "        var keyValues = d3.keys(incData[0])\n",
       "        \n",
       "        d3.select(target)\n",
       "        .append(\"div\")\n",
       "        .attr(\"class\", \"table\")\n",
       "\n",
       "        d3.select(target).select(\"div.table\")\n",
       "        .append(\"div\")\n",
       "        .attr(\"class\", \"head\")\n",
       "        .selectAll(\"div.data\")\n",
       "        .data(keyValues)\n",
       "        .enter()\n",
       "        .append(\"div\")\n",
       "        .attr(\"class\", \"data\")\n",
       "        .html(function (d) {return d})\n",
       "        .style(\"left\", function(d,i) {return (i * 100) + \"px\"});\n",
       "\n",
       "        d3.select(target).select(\"div.table\")\n",
       "        .selectAll(\"div.datarow\")\n",
       "        .data(incData)\n",
       "        .enter()\n",
       "        .append(\"div\")\n",
       "        .attr(\"class\", \"datarow\")\n",
       "        .style(\"top\", function(d,i) {return \"18px\"});\n",
       "        \n",
       "        d3.select(target).selectAll(\"div.datarow\")\n",
       "        .selectAll(\"div.data\")\n",
       "        .data(function(d) {return d3.entries(d)})\n",
       "        .enter()\n",
       "        .append(\"div\")\n",
       "        .attr(\"class\", \"data\")\n",
       "        .html(function (d) {return d.value})\n",
       "        .style(\"left\", function(d,i,j) {return (i * 100) + \"px\"});\n",
       "      }"
      ],
      "text/plain": [
       "<IPython.core.display.Javascript object>"
      ]
     },
     "metadata": {},
     "output_type": "display_data"
    }
   ],
   "source": [
    "%%javascript\n",
    "d3.csv(\"data/d3.csv\",function(error,data) { createSpreadsheet(data, \"#spreadsheet\")});\n",
    "      \n",
    "      function createSpreadsheet(incData, target) {\n",
    "        \n",
    "        var keyValues = d3.keys(incData[0])\n",
    "        \n",
    "        d3.select(target)\n",
    "        .append(\"div\")\n",
    "        .attr(\"class\", \"table\")\n",
    "\n",
    "        d3.select(target).select(\"div.table\")\n",
    "        .append(\"div\")\n",
    "        .attr(\"class\", \"head\")\n",
    "        .selectAll(\"div.data\")\n",
    "        .data(keyValues)\n",
    "        .enter()\n",
    "        .append(\"div\")\n",
    "        .attr(\"class\", \"data\")\n",
    "        .html(function (d) {return d})\n",
    "        .style(\"left\", function(d,i) {return (i * 100) + \"px\"});\n",
    "\n",
    "        d3.select(target).select(\"div.table\")\n",
    "        .selectAll(\"div.datarow\")\n",
    "        .data(incData)\n",
    "        .enter()\n",
    "        .append(\"div\")\n",
    "        .attr(\"class\", \"datarow\")\n",
    "        .style(\"top\", function(d,i) {return \"18px\"});\n",
    "        \n",
    "        d3.select(target).selectAll(\"div.datarow\")\n",
    "        .selectAll(\"div.data\")\n",
    "        .data(function(d) {return d3.entries(d)})\n",
    "        .enter()\n",
    "        .append(\"div\")\n",
    "        .attr(\"class\", \"data\")\n",
    "        .html(function (d) {return d.value})\n",
    "        .style(\"left\", function(d,i,j) {return (i * 100) + \"px\"});\n",
    "      }"
   ]
  },
  {
   "cell_type": "markdown",
   "metadata": {},
   "source": [
    "### 小学校区の表示\n",
    "次に小学校区を表示します。"
   ]
  },
  {
   "cell_type": "code",
   "execution_count": 11,
   "metadata": {
    "collapsed": false
   },
   "outputs": [
    {
     "data": {
      "application/javascript": [
       "var width = 500, height = 350;\n",
       "var takaokaBoundingBox = {geometry: {coordinates: [[[136.904778, 36.822525], [137.072662, 36.822525], [137.072662, 36.658552], [136.904778, 36.658552], [136.904778, 36.822525]]], type: \"Polygon\"}, id: 999999, properties:{}, type: \"Feature\"};\n",
       "\n",
       "d3.select(\"#map\").select(\"svg\").attr(\"style\", \"width:500px;height:350px;border:1px lightgray solid;\");\n",
       "d3.select(\"#map\").select(\"svg\").append(\"g\").attr(\"id\", \"tiles\");\n",
       "d3.select(\"#map\").select(\"svg\").append(\"g\").attr(\"id\", \"vectors\");\n",
       "\n",
       "var tile = d3.geo.tile()\n",
       "    .size([width, height]);\n",
       "\n",
       "var projection = d3.geo.mercator()\n",
       "    .scale((1 << 19) / 2 / Math.PI)\n",
       "    .translate([width / 2, height / 2]);\n",
       "\n",
       "var center = projection([137.025970, 36.754062]);\n",
       "\n",
       "var path = d3.geo.path()\n",
       "    .projection(projection);\n",
       "var zoom = d3.behavior.zoom()\n",
       "    .scale(projection.scale() * 2 * Math.PI)\n",
       "    .translate([width - center[0], height - center[1]])\n",
       "    .on(\"zoom\", redraw);\n",
       "d3.select(\"#map\").select(\"svg\").call(zoom);\n",
       "projection\n",
       "    .scale(1 / 2 / Math.PI)\n",
       "    .translate([0, 0]);\n",
       "\n",
       "var geoPath = d3.geo.path().projection(projection);\n",
       "\n",
       "d3.json('data/A27-10_16-g_SchoolDistrict.json', function (schoolDistnct) {\n",
       "    // console.log(schoolDistnct);\n",
       "\n",
       "    var data = schoolDistnct.features.filter(function(d) { \n",
       "           return  d.properties.A27_006==\"高岡市立\"; \n",
       "        });\n",
       "\n",
       "    d3.select(\"#map\").select(\"#vectors\").selectAll(\"path.countries\").data(data)\n",
       "        .enter()\n",
       "        .append(\"path\")\n",
       "        .attr(\"d\", geoPath)\n",
       "        .attr(\"class\", \"countries\")\n",
       "        .style(\"fill\", \"red\")\n",
       "        .style(\"stroke-width\", 3)\n",
       "        .style(\"stroke\", \"black\")\n",
       "        .style(\"fill-opacity\", .25)   \n",
       "    \n",
       "});        \n",
       "\n",
       "redraw();\n",
       "\n",
       "function redraw() {\n",
       "   var tiles = tile\n",
       "        .scale(zoom.scale())\n",
       "        .translate(zoom.translate())();\n",
       "    \n",
       "    var image = d3.select(\"#map\").select(\"#tiles\")\n",
       "        .attr(\"transform\",\n",
       "        \"scale(\" + tiles.scale + \") translate(\" + tiles.translate + \")\")\n",
       "        .selectAll(\"image\")\n",
       "        .data(tiles, function(d) { return d; });\n",
       "    \n",
       "    image.exit()\n",
       "       .remove();\n",
       "\n",
       "    image.enter().append(\"image\")\n",
       "        .attr(\"xlink:href\",\n",
       "         function(d) { return \"http://\" \n",
       "             + [\"a\", \"b\", \"c\"][Math.random() * 3 | 0] \n",
       "             + \".tile.openstreetmap.org/\" + d[2] + \"/\" + d[0] + \"/\" + d[1] \n",
       "             + \".png\"; })        \n",
       "        .attr(\"width\", 1)\n",
       "        .attr(\"height\", 1)\n",
       "        .attr(\"x\", function(d) { return d[0]; })\n",
       "        .attr(\"y\", function(d) { return d[1]; });\n",
       "    \n",
       "        projection\n",
       "            .scale(zoom.scale() / 2 / Math.PI)\n",
       "            .translate(zoom.translate());\n",
       "\n",
       "        d3.select(\"#map\").selectAll(\"path\")\n",
       "            .attr(\"d\", geoPath);\n",
       "}"
      ],
      "text/plain": [
       "<IPython.core.display.Javascript object>"
      ]
     },
     "metadata": {},
     "output_type": "display_data"
    }
   ],
   "source": [
    "%%javascript\n",
    "var width = 500, height = 350;\n",
    "var takaokaBoundingBox = {geometry: {coordinates: [[[136.904778, 36.822525], [137.072662, 36.822525], [137.072662, 36.658552], [136.904778, 36.658552], [136.904778, 36.822525]]], type: \"Polygon\"}, id: 999999, properties:{}, type: \"Feature\"};\n",
    "\n",
    "d3.select(\"#map\").select(\"svg\").attr(\"style\", \"width:500px;height:350px;border:1px lightgray solid;\");\n",
    "d3.select(\"#map\").select(\"svg\").append(\"g\").attr(\"id\", \"tiles\");\n",
    "d3.select(\"#map\").select(\"svg\").append(\"g\").attr(\"id\", \"vectors\");\n",
    "\n",
    "var tile = d3.geo.tile()\n",
    "    .size([width, height]);\n",
    "\n",
    "var projection = d3.geo.mercator()\n",
    "    .scale((1 << 19) / 2 / Math.PI)\n",
    "    .translate([width / 2, height / 2]);\n",
    "\n",
    "var center = projection([137.025970, 36.754062]);\n",
    "\n",
    "var path = d3.geo.path()\n",
    "    .projection(projection);\n",
    "var zoom = d3.behavior.zoom()\n",
    "    .scale(projection.scale() * 2 * Math.PI)\n",
    "    .translate([width - center[0], height - center[1]])\n",
    "    .on(\"zoom\", redraw);\n",
    "d3.select(\"#map\").select(\"svg\").call(zoom);\n",
    "projection\n",
    "    .scale(1 / 2 / Math.PI)\n",
    "    .translate([0, 0]);\n",
    "\n",
    "var geoPath = d3.geo.path().projection(projection);\n",
    "\n",
    "d3.json('data/A27-10_16-g_SchoolDistrict.json', function (schoolDistnct) {\n",
    "    // console.log(schoolDistnct);\n",
    "\n",
    "    var data = schoolDistnct.features.filter(function(d) { \n",
    "           return  d.properties.A27_006==\"高岡市立\"; \n",
    "        });\n",
    "\n",
    "    d3.select(\"#map\").select(\"#vectors\").selectAll(\"path.countries\").data(data)\n",
    "        .enter()\n",
    "        .append(\"path\")\n",
    "        .attr(\"d\", geoPath)\n",
    "        .attr(\"class\", \"countries\")\n",
    "        .style(\"fill\", \"red\")\n",
    "        .style(\"stroke-width\", 3)\n",
    "        .style(\"stroke\", \"black\")\n",
    "        .style(\"fill-opacity\", .25)   \n",
    "    \n",
    "});        \n",
    "\n",
    "redraw();\n",
    "\n",
    "function redraw() {\n",
    "   var tiles = tile\n",
    "        .scale(zoom.scale())\n",
    "        .translate(zoom.translate())();\n",
    "    \n",
    "    var image = d3.select(\"#map\").select(\"#tiles\")\n",
    "        .attr(\"transform\",\n",
    "        \"scale(\" + tiles.scale + \") translate(\" + tiles.translate + \")\")\n",
    "        .selectAll(\"image\")\n",
    "        .data(tiles, function(d) { return d; });\n",
    "    \n",
    "    image.exit()\n",
    "       .remove();\n",
    "\n",
    "    image.enter().append(\"image\")\n",
    "        .attr(\"xlink:href\",\n",
    "         function(d) { return \"http://\" \n",
    "             + [\"a\", \"b\", \"c\"][Math.random() * 3 | 0] \n",
    "             + \".tile.openstreetmap.org/\" + d[2] + \"/\" + d[0] + \"/\" + d[1] \n",
    "             + \".png\"; })        \n",
    "        .attr(\"width\", 1)\n",
    "        .attr(\"height\", 1)\n",
    "        .attr(\"x\", function(d) { return d[0]; })\n",
    "        .attr(\"y\", function(d) { return d[1]; });\n",
    "    \n",
    "        projection\n",
    "            .scale(zoom.scale() / 2 / Math.PI)\n",
    "            .translate(zoom.translate());\n",
    "\n",
    "        d3.select(\"#map\").selectAll(\"path\")\n",
    "            .attr(\"d\", geoPath);\n",
    "}"
   ]
  },
  {
   "cell_type": "markdown",
   "metadata": {},
   "source": [
    "### 地図にマウスイベントを追加\n",
    "地図にマウスオーバイベントを追加して、マウスの位置の小学校区と表の該当する行を青色に変えて表示します。"
   ]
  },
  {
   "cell_type": "code",
   "execution_count": 12,
   "metadata": {
    "collapsed": false
   },
   "outputs": [
    {
     "data": {
      "application/javascript": [
       "// 逆に地図からスプレッドシートの色を変えると、地区内で微妙に変化する\n",
       "d3.select(\"#vectors\").selectAll(\"path.countries\")\n",
       "    .on(\"mouseover\", hover)\n",
       "    .on(\"mouseout\", mouseOut);\n",
       "\n",
       "function hover(hoverD) {\n",
       "    d3.selectAll(\"div.datarow\")\n",
       "        .filter( function (d) { return d.schoolDistrict == hoverD.properties.A27_007})\n",
       "        .style(\"background\", \"#94B8FF\");\n",
       "    d3.select(\"#vectors\").selectAll(\"path.countries\")\n",
       "        .filter( function (d) { return d == hoverD; })\n",
       "        .style(\"fill\", \"blue\");\n",
       "};\n",
       "\n",
       "function mouseOut() {\n",
       "    d3.selectAll(\"div.datarow\").style(\"background\", \"white\");\n",
       "    d3.select(\"#vectors\").selectAll(\"path.countries\").style(\"fill\", \"red\");\n",
       "};"
      ],
      "text/plain": [
       "<IPython.core.display.Javascript object>"
      ]
     },
     "metadata": {},
     "output_type": "display_data"
    }
   ],
   "source": [
    "%%javascript\n",
    "// 逆に地図からスプレッドシートの色を変えると、地区内で微妙に変化する\n",
    "d3.select(\"#vectors\").selectAll(\"path.countries\")\n",
    "    .on(\"mouseover\", hover)\n",
    "    .on(\"mouseout\", mouseOut);\n",
    "\n",
    "function hover(hoverD) {\n",
    "    d3.selectAll(\"div.datarow\")\n",
    "        .filter( function (d) { return d.schoolDistrict == hoverD.properties.A27_007})\n",
    "        .style(\"background\", \"#94B8FF\");\n",
    "    d3.select(\"#vectors\").selectAll(\"path.countries\")\n",
    "        .filter( function (d) { return d == hoverD; })\n",
    "        .style(\"fill\", \"blue\");\n",
    "};\n",
    "\n",
    "function mouseOut() {\n",
    "    d3.selectAll(\"div.datarow\").style(\"background\", \"white\");\n",
    "    d3.select(\"#vectors\").selectAll(\"path.countries\").style(\"fill\", \"red\");\n",
    "};\n"
   ]
  },
  {
   "cell_type": "code",
   "execution_count": null,
   "metadata": {
    "collapsed": true
   },
   "outputs": [],
   "source": []
  }
 ],
 "metadata": {
  "kernelspec": {
   "display_name": "Python 2",
   "language": "python",
   "name": "python2"
  },
  "language_info": {
   "codemirror_mode": {
    "name": "ipython",
    "version": 2
   },
   "file_extension": ".py",
   "mimetype": "text/x-python",
   "name": "python",
   "nbconvert_exporter": "python",
   "pygments_lexer": "ipython2",
   "version": "2.7.10"
  }
 },
 "nbformat": 4,
 "nbformat_minor": 0
}
