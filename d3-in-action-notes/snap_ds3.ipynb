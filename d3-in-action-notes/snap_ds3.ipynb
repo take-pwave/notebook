{
 "cells": [
  {
   "cell_type": "code",
   "execution_count": 19,
   "metadata": {
    "collapsed": false
   },
   "outputs": [],
   "source": [
    "# import libraries (including our short d3_lib script)\n",
    "from IPython.core.display import HTML"
   ]
  },
  {
   "cell_type": "markdown",
   "metadata": {},
   "source": [
    "scriptタグのsrc属性指定では、うまくd3.v3.min.jsを読み込めないみたい"
   ]
  },
  {
   "cell_type": "code",
   "execution_count": 20,
   "metadata": {
    "collapsed": false
   },
   "outputs": [
    {
     "data": {
      "text/html": [
       "<script src=\"http://d3js.org/d3.v3.min.js\" charset=\"utf-8\"></script>\n",
       "<div id=\"someDiv\" style=\"width:200px;height:100px;border:black 1px solid;\">\n",
       "<input id=\"someCheckbox\" type=\"checkbox\" />\n",
       "</div>"
      ],
      "text/plain": [
       "<IPython.core.display.HTML object>"
      ]
     },
     "metadata": {},
     "output_type": "display_data"
    }
   ],
   "source": [
    "%%html\n",
    "<script src=\"http://d3js.org/d3.v3.min.js\" charset=\"utf-8\"></script>\n",
    "<div id=\"someDiv\" style=\"width:200px;height:100px;border:black 1px solid;\">\n",
    "<input id=\"someCheckbox\" type=\"checkbox\" />\n",
    "</div>"
   ]
  },
  {
   "cell_type": "code",
   "execution_count": 21,
   "metadata": {
    "collapsed": false
   },
   "outputs": [
    {
     "data": {
      "text/html": [
       "<img src=\"images/logo.png\"/>"
      ],
      "text/plain": [
       "<IPython.core.display.HTML object>"
      ]
     },
     "metadata": {},
     "output_type": "display_data"
    }
   ],
   "source": [
    "%%html\n",
    "<img src=\"images/logo.png\"/>"
   ]
  },
  {
   "cell_type": "code",
   "execution_count": 22,
   "metadata": {
    "collapsed": false
   },
   "outputs": [
    {
     "data": {
      "application/javascript": [
       "d3.select(\"#someDiv\").style(\"border\", \"5px darkgray dashed\");\n",
       "d3.select(\"#someDiv\").attr(\"id\", \"newID\");\n",
       "d3.select(\"#someCheckbox\").property(\"checked\", true);"
      ],
      "text/plain": [
       "<IPython.core.display.Javascript object>"
      ]
     },
     "metadata": {},
     "output_type": "display_data"
    }
   ],
   "source": [
    "%%javascript\n",
    "d3.select(\"#someDiv\").style(\"border\", \"5px darkgray dashed\");\n",
    "d3.select(\"#someDiv\").attr(\"id\", \"newID\");\n",
    "d3.select(\"#someCheckbox\").property(\"checked\", true);"
   ]
  },
  {
   "cell_type": "code",
   "execution_count": 25,
   "metadata": {
    "collapsed": false
   },
   "outputs": [
    {
     "data": {
      "text/html": [
       "<html>\n",
       "<div id=\"Test1\">\n",
       "    <div></div>\n",
       "</div>\n",
       "</html>"
      ],
      "text/plain": [
       "<IPython.core.display.HTML object>"
      ]
     },
     "metadata": {},
     "output_type": "display_data"
    }
   ],
   "source": [
    "%%HTML\n",
    "<html>\n",
    "<div id=\"Test1\">\n",
    "    <div></div>\n",
    "</div>\n",
    "</html>"
   ]
  },
  {
   "cell_type": "code",
   "execution_count": 27,
   "metadata": {
    "collapsed": false
   },
   "outputs": [
    {
     "data": {
      "application/javascript": [
       "d3.csv(\"data/cities.csv\",function(error,data) {dataViz(data)});\n",
       "function dataViz(incomingData) {\n",
       "    d3.select(\"#Test1\").selectAll(\"div.cities\")\n",
       "    .data(incomingData)\n",
       "    .enter()\n",
       "    .append(\"div\")\n",
       "    .attr(\"class\",\"cities\")\n",
       "    .html(function(d,i) {return d.label})\n",
       "}"
      ],
      "text/plain": [
       "<IPython.core.display.Javascript object>"
      ]
     },
     "metadata": {},
     "output_type": "display_data"
    }
   ],
   "source": [
    "%%javascript\n",
    "d3.csv(\"data/cities.csv\",function(error,data) {dataViz(data)});\n",
    "function dataViz(incomingData) {\n",
    "    d3.select(\"#Test1\").selectAll(\"div.cities\")\n",
    "    .data(incomingData)\n",
    "    .enter()\n",
    "    .append(\"div\")\n",
    "    .attr(\"class\",\"cities\")\n",
    "    .html(function(d,i) {return d.label})\n",
    "}"
   ]
  },
  {
   "cell_type": "code",
   "execution_count": null,
   "metadata": {
    "collapsed": true
   },
   "outputs": [],
   "source": []
  },
  {
   "cell_type": "code",
   "execution_count": null,
   "metadata": {
    "collapsed": true
   },
   "outputs": [],
   "source": []
  }
 ],
 "metadata": {
  "kernelspec": {
   "display_name": "Python 2",
   "language": "python",
   "name": "python2"
  },
  "language_info": {
   "codemirror_mode": {
    "name": "ipython",
    "version": 2
   },
   "file_extension": ".py",
   "mimetype": "text/x-python",
   "name": "python",
   "nbconvert_exporter": "python",
   "pygments_lexer": "ipython2",
   "version": "2.7.10"
  }
 },
 "nbformat": 4,
 "nbformat_minor": 0
}
