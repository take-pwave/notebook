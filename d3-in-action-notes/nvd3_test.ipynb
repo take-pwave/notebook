{
 "cells": [
  {
   "cell_type": "markdown",
   "metadata": {},
   "source": [
    "## Kernalはpythonでないとinitialize_javascriptが動かない\n",
    "ここではKernelをpython2とし、load_extを使ってsageの機能を後付けします。\n"
   ]
  },
  {
   "cell_type": "code",
   "execution_count": 6,
   "metadata": {
    "collapsed": false
   },
   "outputs": [
    {
     "name": "stdout",
     "output_type": "stream",
     "text": [
      "The sage extension is already loaded. To reload it, use:\n",
      "  %reload_ext sage\n"
     ]
    }
   ],
   "source": [
    "%load_ext sage"
   ]
  },
  {
   "cell_type": "code",
   "execution_count": 7,
   "metadata": {
    "collapsed": false
   },
   "outputs": [
    {
     "data": {
      "text/html": [
       "<link media=\"all\" href=\"https://cdnjs.cloudflare.com/ajax/libs/nvd3/1.7.0/nv.d3.min.css\" type=\"text/css\"\n",
       "                        rel=\"stylesheet\"/>"
      ],
      "text/plain": [
       "<IPython.core.display.HTML object>"
      ]
     },
     "metadata": {},
     "output_type": "display_data"
    },
    {
     "data": {
      "application/javascript": [
       "$.getScript(\"https://cdnjs.cloudflare.com/ajax/libs/nvd3/1.7.0/nv.d3.min.js\")"
      ],
      "text/plain": [
       "<IPython.core.display.Javascript object>"
      ]
     },
     "metadata": {},
     "output_type": "display_data"
    },
    {
     "data": {
      "application/javascript": [
       "$.getScript(\"https://cdnjs.cloudflare.com/ajax/libs/d3/3.5.5/d3.min.js\", function() {\n",
       "                              $.getScript(\"https://cdnjs.cloudflare.com/ajax/libs/nvd3/1.7.0/nv.d3.min.js\", function() {})});"
      ],
      "text/plain": [
       "<IPython.core.display.Javascript object>"
      ]
     },
     "metadata": {},
     "output_type": "display_data"
    },
    {
     "data": {
      "text/html": [
       "<script src=\"https://cdnjs.cloudflare.com/ajax/libs/d3/3.5.5/d3.min.js\"></script>"
      ],
      "text/plain": [
       "<IPython.core.display.HTML object>"
      ]
     },
     "metadata": {},
     "output_type": "display_data"
    },
    {
     "data": {
      "text/html": [
       "<script src=\"https://cdnjs.cloudflare.com/ajax/libs/nvd3/1.7.0/nv.d3.min.js\"></script>"
      ],
      "text/plain": [
       "<IPython.core.display.HTML object>"
      ]
     },
     "metadata": {},
     "output_type": "display_data"
    }
   ],
   "source": [
    "from IPython.core.display import HTML\n",
    "import nvd3\n",
    "nvd3.ipynb.initialize_javascript(use_remote=True)"
   ]
  },
  {
   "cell_type": "markdown",
   "metadata": {},
   "source": [
    "配列は、sageのままではシリアライズに失敗するので、numpyの配列で定義します。"
   ]
  },
  {
   "cell_type": "code",
   "execution_count": 8,
   "metadata": {
    "collapsed": false
   },
   "outputs": [
    {
     "name": "stdout",
     "output_type": "stream",
     "text": [
      "\n",
      "    <div id=\"piechart\"><svg style=\"width:450px;height:450px;\"></svg></div>\n",
      "\n",
      "\n",
      "    <script>\n",
      "\n",
      "\n",
      "\n",
      "    data_piechart=[{\"values\": [{\"value\": 3, \"label\": \"Orange\"}, {\"value\": 4, \"label\": \"Banana\"}, {\"value\": 0, \"label\": \"Pear\"}, {\"value\": 1, \"label\": \"Kiwi\"}, {\"value\": 5, \"label\": \"Apple\"}, {\"value\": 7, \"label\": \"Strawberry\"}, {\"value\": 3, \"label\": \"Pineapple\"}], \"key\": \"Serie 1\"}];\n",
      "\n",
      "    nv.addGraph(function() {\n",
      "        var chart = nv.models.pieChart();\n",
      "        chart.margin({top: 30, right: 60, bottom: 20, left: 60});\n",
      "        var datum = data_piechart[0].values;\n",
      "\n",
      "        chart.color(d3.scale.category20c().range());\n",
      "\n",
      "    chart.tooltipContent(function(key, y, e, graph) {\n",
      "          var x = String(key);\n",
      "              var y =  String(y)  + ' cal';\n",
      "\n",
      "              tooltip_str = '<center><b>'+x+'</b></center>' + y;\n",
      "              return tooltip_str;\n",
      "              });\n",
      "        chart.showLabels(true);\n",
      "\n",
      "            chart.donut(false);\n",
      "\n",
      "    chart.showLegend(true);\n",
      "\n",
      "\n",
      "\n",
      "\n",
      "        chart\n",
      "            .x(function(d) { return d.label })\n",
      "            .y(function(d) { return d.value });\n",
      "\n",
      "        chart.width(450);\n",
      "\n",
      "        chart.height(450);\n",
      "\n",
      "\n",
      "            d3.select('#piechart svg')\n",
      "            .datum(datum)\n",
      "            .transition().duration(500)\n",
      "            .attr('width', 450)\n",
      "            .attr('height', 450)\n",
      "            .call(chart);\n",
      "\n",
      "\n",
      "        });\n",
      "\n",
      "\n",
      "\n",
      "    </script>\n",
      "\n"
     ]
    }
   ],
   "source": [
    "from nvd3 import pieChart\n",
    "import numpy as np\n",
    "\n",
    "type = 'pieChart'\n",
    "chart = pieChart(name=type, color_category='category20c', height=450, width=450)\n",
    "xdata = np.array([\"Orange\", \"Banana\", \"Pear\", \"Kiwi\", \"Apple\", \"Strawberry\", \"Pineapple\"]) \n",
    "ydata = np.array([3, 4, 0, 1, 5, 7, 3])\n",
    "extra_serie = {\"tooltip\": {\"y_start\": \"\", \"y_end\": \" cal\"}}\n",
    "chart.add_serie(y=ydata, x=xdata, extra=extra_serie)\n",
    "chart.buildcontent()\n",
    "#HTML(chart.htmlcontent)\n",
    "print chart.htmlcontent"
   ]
  },
  {
   "cell_type": "code",
   "execution_count": 9,
   "metadata": {
    "collapsed": false
   },
   "outputs": [
    {
     "data": {
      "text/html": [
       "<!DOCTYPE html>\n",
       "<html lang=\"en\">\n",
       "    <head>\n",
       "        <meta charset=\"utf-8\" />\n",
       "        <link href=\"https://cdnjs.cloudflare.com/ajax/libs/nvd3/1.7.0/nv.d3.min.css\" rel=\"stylesheet\" />\n",
       "        <script src=\"https://cdnjs.cloudflare.com/ajax/libs/d3/3.5.5/d3.min.js\"></script>\n",
       "        <script src=\"https://cdnjs.cloudflare.com/ajax/libs/nvd3/1.7.0/nv.d3.min.js\"></script>\n",
       "    </head>\n",
       "    <body>\n",
       "        \n",
       "    <div id=\"piechart\"><svg style=\"width:450px;height:450px;\"></svg></div>\n",
       "\n",
       "\n",
       "    <script>\n",
       "\n",
       "\n",
       "\n",
       "    data_piechart=[{\"values\": [{\"value\": 3, \"label\": \"Orange\"}, {\"value\": 4, \"label\": \"Banana\"}, {\"value\": 0, \"label\": \"Pear\"}, {\"value\": 1, \"label\": \"Kiwi\"}, {\"value\": 5, \"label\": \"Apple\"}, {\"value\": 7, \"label\": \"Strawberry\"}, {\"value\": 3, \"label\": \"Pineapple\"}], \"key\": \"Serie 1\"}];\n",
       "\n",
       "    nv.addGraph(function() {\n",
       "        var chart = nv.models.pieChart();\n",
       "        chart.margin({top: 30, right: 60, bottom: 20, left: 60});\n",
       "        var datum = data_piechart[0].values;\n",
       "\n",
       "        chart.color(d3.scale.category20c().range());\n",
       "\n",
       "    chart.tooltipContent(function(key, y, e, graph) {\n",
       "          var x = String(key);\n",
       "              var y =  String(y)  + ' cal';\n",
       "\n",
       "              tooltip_str = '<center><b>'+x+'</b></center>' + y;\n",
       "              return tooltip_str;\n",
       "              });\n",
       "        chart.showLabels(true);\n",
       "\n",
       "            chart.donut(false);\n",
       "\n",
       "    chart.showLegend(true);\n",
       "\n",
       "\n",
       "\n",
       "\n",
       "        chart\n",
       "            .x(function(d) { return d.label })\n",
       "            .y(function(d) { return d.value });\n",
       "\n",
       "        chart.width(450);\n",
       "\n",
       "        chart.height(450);\n",
       "\n",
       "\n",
       "            d3.select('#piechart svg')\n",
       "            .datum(datum)\n",
       "            .transition().duration(500)\n",
       "            .attr('width', 450)\n",
       "            .attr('height', 450)\n",
       "            .call(chart);\n",
       "\n",
       "\n",
       "        });\n",
       "\n",
       "\n",
       "\n",
       "    </script>\n",
       "\n",
       "    </body>\n",
       "</html>"
      ],
      "text/plain": [
       "<nvd3.pieChart.pieChart at 0x7fbae06f4b10>"
      ]
     },
     "execution_count": 9,
     "metadata": {},
     "output_type": "execute_result"
    }
   ],
   "source": [
    "chart"
   ]
  },
  {
   "cell_type": "code",
   "execution_count": 10,
   "metadata": {
    "collapsed": false
   },
   "outputs": [
    {
     "data": {
      "text/html": [
       "<!DOCTYPE html>\n",
       "<html lang=\"en\">\n",
       "    <head>\n",
       "        <meta charset=\"utf-8\" />\n",
       "        <link href=\"https://cdnjs.cloudflare.com/ajax/libs/nvd3/1.7.0/nv.d3.min.css\" rel=\"stylesheet\" />\n",
       "        <script src=\"https://cdnjs.cloudflare.com/ajax/libs/d3/3.5.5/d3.min.js\"></script>\n",
       "        <script src=\"https://cdnjs.cloudflare.com/ajax/libs/nvd3/1.7.0/nv.d3.min.js\"></script>\n",
       "    </head>\n",
       "    <body>\n",
       "        \n",
       "    \n",
       "\n",
       "<h2>scatterChart</h2>\n",
       "\n",
       "<div id=\"scatterchart\"><svg style=\"width:800px;height:350px;\"></svg></div>\n",
       "\n",
       "\n",
       "    <script>\n",
       "\n",
       "\n",
       "\n",
       "            data_scatterchart=[{\"values\": [{\"y\": 0, \"x\": 10, \"shape\": \"circle\", \"size\": \"1\"}, {\"y\": 8, \"x\": 6, \"shape\": \"circle\", \"size\": \"1\"}, {\"y\": 20, \"x\": 4, \"shape\": \"circle\", \"size\": \"1\"}, {\"y\": 12, \"x\": 8, \"shape\": \"circle\", \"size\": \"1\"}, {\"y\": 12, \"x\": 14, \"shape\": \"circle\", \"size\": \"1\"}, {\"y\": 5, \"x\": 14, \"shape\": \"circle\", \"size\": \"1\"}, {\"y\": 6, \"x\": 7, \"shape\": \"circle\", \"size\": \"1\"}, {\"y\": 21, \"x\": 11, \"shape\": \"circle\", \"size\": \"1\"}, {\"y\": 72, \"x\": 10, \"shape\": \"circle\", \"size\": \"1\"}, {\"y\": 9, \"x\": 13, \"shape\": \"circle\", \"size\": \"1\"}, {\"y\": 30, \"x\": 13, \"shape\": \"circle\", \"size\": \"1\"}, {\"y\": 77, \"x\": 21, \"shape\": \"circle\", \"size\": \"1\"}, {\"y\": 36, \"x\": 21, \"shape\": \"circle\", \"size\": \"1\"}, {\"y\": 26, \"x\": 16, \"shape\": \"circle\", \"size\": \"1\"}, {\"y\": 98, \"x\": 19, \"shape\": \"circle\", \"size\": \"1\"}, {\"y\": 120, \"x\": 18, \"shape\": \"circle\", \"size\": \"1\"}, {\"y\": 16, \"x\": 19, \"shape\": \"circle\", \"size\": \"1\"}, {\"y\": 85, \"x\": 24, \"shape\": \"circle\", \"size\": \"1\"}, {\"y\": 54, \"x\": 19, \"shape\": \"circle\", \"size\": \"1\"}, {\"y\": 38, \"x\": 28, \"shape\": \"circle\", \"size\": \"1\"}, {\"y\": 140, \"x\": 21, \"shape\": \"circle\", \"size\": \"1\"}, {\"y\": 21, \"x\": 26, \"shape\": \"circle\", \"size\": \"1\"}, {\"y\": 154, \"x\": 31, \"shape\": \"circle\", \"size\": \"1\"}, {\"y\": 115, \"x\": 32, \"shape\": \"circle\", \"size\": \"1\"}, {\"y\": 96, \"x\": 28, \"shape\": \"circle\", \"size\": \"1\"}, {\"y\": 150, \"x\": 33, \"shape\": \"circle\", \"size\": \"1\"}, {\"y\": 26, \"x\": 31, \"shape\": \"circle\", \"size\": \"1\"}, {\"y\": 54, \"x\": 28, \"shape\": \"circle\", \"size\": \"1\"}, {\"y\": 84, \"x\": 33, \"shape\": \"circle\", \"size\": \"1\"}, {\"y\": 29, \"x\": 39, \"shape\": \"circle\", \"size\": \"1\"}, {\"y\": 150, \"x\": 32, \"shape\": \"circle\", \"size\": \"1\"}, {\"y\": 93, \"x\": 37, \"shape\": \"circle\", \"size\": \"1\"}, {\"y\": 128, \"x\": 38, \"shape\": \"circle\", \"size\": \"1\"}, {\"y\": 330, \"x\": 42, \"shape\": \"circle\", \"size\": \"1\"}, {\"y\": 306, \"x\": 35, \"shape\": \"circle\", \"size\": \"1\"}, {\"y\": 315, \"x\": 39, \"shape\": \"circle\", \"size\": \"1\"}, {\"y\": 288, \"x\": 42, \"shape\": \"circle\", \"size\": \"1\"}, {\"y\": 185, \"x\": 47, \"shape\": \"circle\", \"size\": \"1\"}, {\"y\": 152, \"x\": 46, \"shape\": \"circle\", \"size\": \"1\"}, {\"y\": 195, \"x\": 42, \"shape\": \"circle\", \"size\": \"1\"}, {\"y\": 160, \"x\": 46, \"shape\": \"circle\", \"size\": \"1\"}, {\"y\": 246, \"x\": 46, \"shape\": \"circle\", \"size\": \"1\"}, {\"y\": 378, \"x\": 49, \"shape\": \"circle\", \"size\": \"1\"}, {\"y\": 43, \"x\": 47, \"shape\": \"circle\", \"size\": \"1\"}, {\"y\": 88, \"x\": 52, \"shape\": \"circle\", \"size\": \"1\"}, {\"y\": 90, \"x\": 48, \"shape\": \"circle\", \"size\": \"1\"}, {\"y\": 184, \"x\": 47, \"shape\": \"circle\", \"size\": \"1\"}, {\"y\": 423, \"x\": 53, \"shape\": \"circle\", \"size\": \"1\"}, {\"y\": 240, \"x\": 54, \"shape\": \"circle\", \"size\": \"1\"}, {\"y\": 490, \"x\": 56, \"shape\": \"circle\", \"size\": \"1\"}], \"key\": \"serie 1\", \"yAxis\": \"1\"}, {\"values\": [{\"y\": 0, \"x\": 10, \"shape\": \"cross\", \"size\": \"10\"}, {\"y\": 16, \"x\": 6, \"shape\": \"cross\", \"size\": \"10\"}, {\"y\": 40, \"x\": 4, \"shape\": \"cross\", \"size\": \"10\"}, {\"y\": 24, \"x\": 8, \"shape\": \"cross\", \"size\": \"10\"}, {\"y\": 24, \"x\": 14, \"shape\": \"cross\", \"size\": \"10\"}, {\"y\": 10, \"x\": 14, \"shape\": \"cross\", \"size\": \"10\"}, {\"y\": 12, \"x\": 7, \"shape\": \"cross\", \"size\": \"10\"}, {\"y\": 42, \"x\": 11, \"shape\": \"cross\", \"size\": \"10\"}, {\"y\": 144, \"x\": 10, \"shape\": \"cross\", \"size\": \"10\"}, {\"y\": 18, \"x\": 13, \"shape\": \"cross\", \"size\": \"10\"}, {\"y\": 60, \"x\": 13, \"shape\": \"cross\", \"size\": \"10\"}, {\"y\": 154, \"x\": 21, \"shape\": \"cross\", \"size\": \"10\"}, {\"y\": 72, \"x\": 21, \"shape\": \"cross\", \"size\": \"10\"}, {\"y\": 52, \"x\": 16, \"shape\": \"cross\", \"size\": \"10\"}, {\"y\": 196, \"x\": 19, \"shape\": \"cross\", \"size\": \"10\"}, {\"y\": 240, \"x\": 18, \"shape\": \"cross\", \"size\": \"10\"}, {\"y\": 32, \"x\": 19, \"shape\": \"cross\", \"size\": \"10\"}, {\"y\": 170, \"x\": 24, \"shape\": \"cross\", \"size\": \"10\"}, {\"y\": 108, \"x\": 19, \"shape\": \"cross\", \"size\": \"10\"}, {\"y\": 76, \"x\": 28, \"shape\": \"cross\", \"size\": \"10\"}, {\"y\": 280, \"x\": 21, \"shape\": \"cross\", \"size\": \"10\"}, {\"y\": 42, \"x\": 26, \"shape\": \"cross\", \"size\": \"10\"}, {\"y\": 308, \"x\": 31, \"shape\": \"cross\", \"size\": \"10\"}, {\"y\": 230, \"x\": 32, \"shape\": \"cross\", \"size\": \"10\"}, {\"y\": 192, \"x\": 28, \"shape\": \"cross\", \"size\": \"10\"}, {\"y\": 300, \"x\": 33, \"shape\": \"cross\", \"size\": \"10\"}, {\"y\": 52, \"x\": 31, \"shape\": \"cross\", \"size\": \"10\"}, {\"y\": 108, \"x\": 28, \"shape\": \"cross\", \"size\": \"10\"}, {\"y\": 168, \"x\": 33, \"shape\": \"cross\", \"size\": \"10\"}, {\"y\": 58, \"x\": 39, \"shape\": \"cross\", \"size\": \"10\"}, {\"y\": 300, \"x\": 32, \"shape\": \"cross\", \"size\": \"10\"}, {\"y\": 186, \"x\": 37, \"shape\": \"cross\", \"size\": \"10\"}, {\"y\": 256, \"x\": 38, \"shape\": \"cross\", \"size\": \"10\"}, {\"y\": 660, \"x\": 42, \"shape\": \"cross\", \"size\": \"10\"}, {\"y\": 612, \"x\": 35, \"shape\": \"cross\", \"size\": \"10\"}, {\"y\": 630, \"x\": 39, \"shape\": \"cross\", \"size\": \"10\"}, {\"y\": 576, \"x\": 42, \"shape\": \"cross\", \"size\": \"10\"}, {\"y\": 370, \"x\": 47, \"shape\": \"cross\", \"size\": \"10\"}, {\"y\": 304, \"x\": 46, \"shape\": \"cross\", \"size\": \"10\"}, {\"y\": 390, \"x\": 42, \"shape\": \"cross\", \"size\": \"10\"}, {\"y\": 320, \"x\": 46, \"shape\": \"cross\", \"size\": \"10\"}, {\"y\": 492, \"x\": 46, \"shape\": \"cross\", \"size\": \"10\"}, {\"y\": 756, \"x\": 49, \"shape\": \"cross\", \"size\": \"10\"}, {\"y\": 86, \"x\": 47, \"shape\": \"cross\", \"size\": \"10\"}, {\"y\": 176, \"x\": 52, \"shape\": \"cross\", \"size\": \"10\"}, {\"y\": 180, \"x\": 48, \"shape\": \"cross\", \"size\": \"10\"}, {\"y\": 368, \"x\": 47, \"shape\": \"cross\", \"size\": \"10\"}, {\"y\": 846, \"x\": 53, \"shape\": \"cross\", \"size\": \"10\"}, {\"y\": 480, \"x\": 54, \"shape\": \"cross\", \"size\": \"10\"}, {\"y\": 980, \"x\": 56, \"shape\": \"cross\", \"size\": \"10\"}], \"key\": \"serie 2\", \"yAxis\": \"1\"}, {\"values\": [{\"y\": 0, \"x\": 10, \"shape\": \"triangle-up\", \"size\": \"100\"}, {\"y\": 40, \"x\": 6, \"shape\": \"triangle-up\", \"size\": \"100\"}, {\"y\": 100, \"x\": 4, \"shape\": \"triangle-up\", \"size\": \"100\"}, {\"y\": 60, \"x\": 8, \"shape\": \"triangle-up\", \"size\": \"100\"}, {\"y\": 60, \"x\": 14, \"shape\": \"triangle-up\", \"size\": \"100\"}, {\"y\": 25, \"x\": 14, \"shape\": \"triangle-up\", \"size\": \"100\"}, {\"y\": 30, \"x\": 7, \"shape\": \"triangle-up\", \"size\": \"100\"}, {\"y\": 105, \"x\": 11, \"shape\": \"triangle-up\", \"size\": \"100\"}, {\"y\": 360, \"x\": 10, \"shape\": \"triangle-up\", \"size\": \"100\"}, {\"y\": 45, \"x\": 13, \"shape\": \"triangle-up\", \"size\": \"100\"}, {\"y\": 150, \"x\": 13, \"shape\": \"triangle-up\", \"size\": \"100\"}, {\"y\": 385, \"x\": 21, \"shape\": \"triangle-up\", \"size\": \"100\"}, {\"y\": 180, \"x\": 21, \"shape\": \"triangle-up\", \"size\": \"100\"}, {\"y\": 130, \"x\": 16, \"shape\": \"triangle-up\", \"size\": \"100\"}, {\"y\": 490, \"x\": 19, \"shape\": \"triangle-up\", \"size\": \"100\"}, {\"y\": 600, \"x\": 18, \"shape\": \"triangle-up\", \"size\": \"100\"}, {\"y\": 80, \"x\": 19, \"shape\": \"triangle-up\", \"size\": \"100\"}, {\"y\": 425, \"x\": 24, \"shape\": \"triangle-up\", \"size\": \"100\"}, {\"y\": 270, \"x\": 19, \"shape\": \"triangle-up\", \"size\": \"100\"}, {\"y\": 190, \"x\": 28, \"shape\": \"triangle-up\", \"size\": \"100\"}, {\"y\": 700, \"x\": 21, \"shape\": \"triangle-up\", \"size\": \"100\"}, {\"y\": 105, \"x\": 26, \"shape\": \"triangle-up\", \"size\": \"100\"}, {\"y\": 770, \"x\": 31, \"shape\": \"triangle-up\", \"size\": \"100\"}, {\"y\": 575, \"x\": 32, \"shape\": \"triangle-up\", \"size\": \"100\"}, {\"y\": 480, \"x\": 28, \"shape\": \"triangle-up\", \"size\": \"100\"}, {\"y\": 750, \"x\": 33, \"shape\": \"triangle-up\", \"size\": \"100\"}, {\"y\": 130, \"x\": 31, \"shape\": \"triangle-up\", \"size\": \"100\"}, {\"y\": 270, \"x\": 28, \"shape\": \"triangle-up\", \"size\": \"100\"}, {\"y\": 420, \"x\": 33, \"shape\": \"triangle-up\", \"size\": \"100\"}, {\"y\": 145, \"x\": 39, \"shape\": \"triangle-up\", \"size\": \"100\"}, {\"y\": 750, \"x\": 32, \"shape\": \"triangle-up\", \"size\": \"100\"}, {\"y\": 465, \"x\": 37, \"shape\": \"triangle-up\", \"size\": \"100\"}, {\"y\": 640, \"x\": 38, \"shape\": \"triangle-up\", \"size\": \"100\"}, {\"y\": 1650, \"x\": 42, \"shape\": \"triangle-up\", \"size\": \"100\"}, {\"y\": 1530, \"x\": 35, \"shape\": \"triangle-up\", \"size\": \"100\"}, {\"y\": 1575, \"x\": 39, \"shape\": \"triangle-up\", \"size\": \"100\"}, {\"y\": 1440, \"x\": 42, \"shape\": \"triangle-up\", \"size\": \"100\"}, {\"y\": 925, \"x\": 47, \"shape\": \"triangle-up\", \"size\": \"100\"}, {\"y\": 760, \"x\": 46, \"shape\": \"triangle-up\", \"size\": \"100\"}, {\"y\": 975, \"x\": 42, \"shape\": \"triangle-up\", \"size\": \"100\"}, {\"y\": 800, \"x\": 46, \"shape\": \"triangle-up\", \"size\": \"100\"}, {\"y\": 1230, \"x\": 46, \"shape\": \"triangle-up\", \"size\": \"100\"}, {\"y\": 1890, \"x\": 49, \"shape\": \"triangle-up\", \"size\": \"100\"}, {\"y\": 215, \"x\": 47, \"shape\": \"triangle-up\", \"size\": \"100\"}, {\"y\": 440, \"x\": 52, \"shape\": \"triangle-up\", \"size\": \"100\"}, {\"y\": 450, \"x\": 48, \"shape\": \"triangle-up\", \"size\": \"100\"}, {\"y\": 920, \"x\": 47, \"shape\": \"triangle-up\", \"size\": \"100\"}, {\"y\": 2115, \"x\": 53, \"shape\": \"triangle-up\", \"size\": \"100\"}, {\"y\": 1200, \"x\": 54, \"shape\": \"triangle-up\", \"size\": \"100\"}, {\"y\": 2450, \"x\": 56, \"shape\": \"triangle-up\", \"size\": \"100\"}], \"key\": \"serie 3\", \"yAxis\": \"1\"}];\n",
       "\n",
       "\n",
       "        nv.addGraph(function() {\n",
       "        var chart = nv.models.scatterChart();\n",
       "\n",
       "        chart.margin({top: 30, right: 60, bottom: 20, left: 60});\n",
       "\n",
       "        var datum = data_scatterchart;\n",
       "\n",
       "\n",
       "\n",
       "                chart.xAxis\n",
       "                .tickFormat(d3.format(',.02f'));\n",
       "            chart.yAxis\n",
       "                .tickFormat(d3.format(',.02f'));\n",
       "\n",
       "\n",
       "\n",
       "          chart.showLegend(true);\n",
       "\n",
       "\n",
       "    \n",
       "\n",
       "        \n",
       "\n",
       "\n",
       "\n",
       "\n",
       "    chart\n",
       "        .showDistX(true)\n",
       "        .showDistY(true)\n",
       "        .color(d3.scale.category10().range());\n",
       "\n",
       "            d3.select('#scatterchart svg')\n",
       "            .datum(datum)\n",
       "            .transition().duration(500)\n",
       "            .attr('width', 800)\n",
       "            .attr('height', 350)\n",
       "            .call(chart);\n",
       "\n",
       "\n",
       "        });\n",
       "\n",
       "\n",
       "\n",
       "    </script>\n",
       "\n",
       "    </body>\n",
       "</html>"
      ],
      "text/plain": [
       "<nvd3.scatterChart.scatterChart at 0x7fbae06f8e90>"
      ]
     },
     "execution_count": 10,
     "metadata": {},
     "output_type": "execute_result"
    }
   ],
   "source": [
    "from nvd3 import scatterChart\n",
    "import random\n",
    "\n",
    "type = \"scatterChart\"\n",
    "chart = scatterChart(name=type, height=350, width=800, x_is_date=False)\n",
    "chart.set_containerheader(\"\\n\\n<h2>\" + type + \"</h2>\\n\\n\")\n",
    "nb_element = 50\n",
    "xdata = np.array([i + random.randint(1, 10) for i in range(nb_element)])\n",
    "ydata = np.array([i * random.randint(1, 10) for i in range(nb_element)])\n",
    "ydata2 = np.array([x * 2 for x in ydata])\n",
    "ydata3 = np.array([x * 5 for x in ydata])\n",
    "\n",
    "kwargs1 = {'shape': 'circle', 'size': '1'}\n",
    "kwargs2 = {'shape': 'cross', 'size': '10'}\n",
    "kwargs3 = {'shape': 'triangle-up', 'size': '100'}\n",
    "\n",
    "extra_serie = {\"tooltip\": {\"y_start\": \"\", \"y_end\": \" calls\"}}\n",
    "chart.add_serie(name=\"serie 1\", y=ydata, x=xdata, extra=extra_serie, **kwargs1)\n",
    "chart.add_serie(name=\"serie 2\", y=ydata2, x=xdata, extra=extra_serie, **kwargs2)\n",
    "chart.add_serie(name=\"serie 3\", y=ydata3, x=xdata, extra=extra_serie, **kwargs3)\n",
    "\n",
    "chart.buildhtml()\n",
    "chart"
   ]
  },
  {
   "cell_type": "code",
   "execution_count": null,
   "metadata": {
    "collapsed": true
   },
   "outputs": [],
   "source": []
  }
 ],
 "metadata": {
  "kernelspec": {
   "display_name": "Python 2",
   "language": "python",
   "name": "python2"
  },
  "language_info": {
   "codemirror_mode": {
    "name": "ipython",
    "version": 2
   },
   "file_extension": ".py",
   "mimetype": "text/x-python",
   "name": "python",
   "nbconvert_exporter": "python",
   "pygments_lexer": "ipython2",
   "version": "2.7.10"
  }
 },
 "nbformat": 4,
 "nbformat_minor": 0
}
