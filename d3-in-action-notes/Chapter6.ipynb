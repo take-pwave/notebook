{
 "cells": [
  {
   "cell_type": "markdown",
   "metadata": {},
   "source": [
    "## Chapter6\n",
    "D3.js in Actionの6章の勉強ノートです。"
   ]
  },
  {
   "cell_type": "code",
   "execution_count": 11,
   "metadata": {
    "collapsed": false
   },
   "outputs": [
    {
     "data": {
      "text/html": [
       "<link media=\"all\" href=\"https://cdnjs.cloudflare.com/ajax/libs/nvd3/1.7.0/nv.d3.min.css\" type=\"text/css\"\n",
       "                        rel=\"stylesheet\"/>"
      ],
      "text/plain": [
       "<IPython.core.display.HTML object>"
      ]
     },
     "metadata": {},
     "output_type": "display_data"
    },
    {
     "data": {
      "application/javascript": [
       "$.getScript(\"https://cdnjs.cloudflare.com/ajax/libs/nvd3/1.7.0/nv.d3.min.js\")"
      ],
      "text/plain": [
       "<IPython.core.display.Javascript object>"
      ]
     },
     "metadata": {},
     "output_type": "display_data"
    },
    {
     "data": {
      "application/javascript": [
       "$.getScript(\"https://cdnjs.cloudflare.com/ajax/libs/d3/3.5.5/d3.min.js\", function() {\n",
       "                              $.getScript(\"https://cdnjs.cloudflare.com/ajax/libs/nvd3/1.7.0/nv.d3.min.js\", function() {})});"
      ],
      "text/plain": [
       "<IPython.core.display.Javascript object>"
      ]
     },
     "metadata": {},
     "output_type": "display_data"
    },
    {
     "data": {
      "text/html": [
       "<script src=\"https://cdnjs.cloudflare.com/ajax/libs/d3/3.5.5/d3.min.js\"></script>"
      ],
      "text/plain": [
       "<IPython.core.display.HTML object>"
      ]
     },
     "metadata": {},
     "output_type": "display_data"
    },
    {
     "data": {
      "text/html": [
       "<script src=\"https://cdnjs.cloudflare.com/ajax/libs/nvd3/1.7.0/nv.d3.min.js\"></script>"
      ],
      "text/plain": [
       "<IPython.core.display.HTML object>"
      ]
     },
     "metadata": {},
     "output_type": "display_data"
    }
   ],
   "source": [
    "%load_ext sage\n",
    "from IPython.core.display import HTML\n",
    "from string import Template\n",
    "import json\n",
    "import nvd3\n",
    "nvd3.ipynb.initialize_javascript(use_remote=True)"
   ]
  },
  {
   "cell_type": "code",
   "execution_count": 12,
   "metadata": {
    "collapsed": false
   },
   "outputs": [
    {
     "name": "stdout",
     "output_type": "stream",
     "text": [
      "Overwriting css/network.css\n"
     ]
    }
   ],
   "source": [
    "%%writefile css/network.css\n",
    ".grid {\n",
    "              stroke: black;\n",
    "              stroke-width: 1px;\n",
    "fill: red; }\n",
    "        .arc {\n",
    "               stroke: black;\n",
    "fill: none;\n",
    "}\n",
    ".node {\n",
    "              fill: lightgray;\n",
    "              stroke: black;\n",
    "              stroke-width: 1px;\n",
    "        }\n",
    "        circle.active {\n",
    "fill: red;\n",
    "        }\n",
    "        path.active {\n",
    "stroke: red;\n",
    "}"
   ]
  },
  {
   "cell_type": "code",
   "execution_count": 13,
   "metadata": {
    "collapsed": false
   },
   "outputs": [
    {
     "name": "stdout",
     "output_type": "stream",
     "text": [
      "Overwriting data/edgelist.csv\n"
     ]
    }
   ],
   "source": [
    "%%writefile data/edgelist.csv\n",
    "source,target,weight\n",
    "sam,pris,1\n",
    "roy,pris,5\n",
    "roy,sam,1\n",
    "tully,pris,5\n",
    "tully,kim,3\n",
    "tully,pat,1\n",
    "tully,mo,3\n",
    "kim,pat,2\n",
    "kim,mo,1\n",
    "mo,tully,7\n",
    "mo,pat,1\n",
    "mo,pris,1\n",
    "pat,tully,1\n",
    "pat,kim,2\n",
    "pat,mo,5\n",
    "lee,al,3"
   ]
  },
  {
   "cell_type": "code",
   "execution_count": 14,
   "metadata": {
    "collapsed": false
   },
   "outputs": [
    {
     "name": "stdout",
     "output_type": "stream",
     "text": [
      "Overwriting data/nodelist.csv\n"
     ]
    }
   ],
   "source": [
    "%%writefile data/nodelist.csv\n",
    "id,followers,following\n",
    "sam,17,500\n",
    "roy,83,80\n",
    "pris,904,15\n",
    "tully,7,5\n",
    "kim,11,50\n",
    "mo,80,85\n",
    "pat,150,300\n",
    "lee,38,7\n",
    "al,12,12"
   ]
  },
  {
   "cell_type": "code",
   "execution_count": 36,
   "metadata": {
    "collapsed": false
   },
   "outputs": [
    {
     "data": {
      "text/html": [
       "<!-- CSSの読み込み　-->\n",
       "<link type=\"text/css\" rel=\"stylesheet\" href=\"css/network.css\" />\n",
       "<script src=\"js/d3.min.js\" type=\"text/javascript\"></script>\n",
       "\n",
       "<div id=\"viz\">\n",
       "  <svg style=\"width: 350px; height:350px; border:1px lightgray solid;\" >\n",
       "  </svg>\n",
       "</div>"
      ],
      "text/plain": [
       "<IPython.core.display.HTML object>"
      ]
     },
     "metadata": {},
     "output_type": "display_data"
    }
   ],
   "source": [
    "%%HTML\n",
    "<!-- CSSの読み込み　-->\n",
    "<link type=\"text/css\" rel=\"stylesheet\" href=\"css/network.css\" />\n",
    "<script src=\"js/d3.min.js\" type=\"text/javascript\"></script>\n",
    "\n",
    "<div id=\"viz\">\n",
    "  <svg style=\"width: 350px; height:350px; border:1px lightgray solid;\" >\n",
    "  </svg>\n",
    "</div>"
   ]
  },
  {
   "cell_type": "code",
   "execution_count": 39,
   "metadata": {
    "collapsed": false
   },
   "outputs": [
    {
     "data": {
      "application/javascript": [
       "var nodes;\n",
       "var edges;\n",
       "var target=\"#vis\";\n",
       "\n",
       "var marker = d3.select(\"svg\").append('defs')\n",
       "    .append('marker')\n",
       "    .attr(\"id\", \"Triangle\")\n",
       "    .attr(\"refX\", 12)\n",
       "    .attr(\"refY\", 6)\n",
       "    .attr(\"markerUnits\", 'userSpaceOnUse')\n",
       "    .attr(\"markerWidth\", 12)\n",
       "    .attr(\"markerHeight\", 18)\n",
       "    .attr(\"orient\", 'auto')\n",
       "    .append('path')\n",
       "    .attr(\"d\", 'M 0 0 12 6 0 12 3 6');\n",
       "\n",
       "/*\n",
       "queue()\n",
       ".defer(d3.csv, \"nodelist.csv\")\n",
       ".defer(d3.csv, \"edgelist.csv\")\n",
       ".await(function(error, file1, file2) { createForceLayout(file1, file2); });\n",
       "*/\n",
       "d3.csv(\"data/nodelist.csv\",function(error,data) { \n",
       "    nodes = data;\n",
       "    d3.csv(\"data/edgelist.csv\", function(error,data) {\n",
       "        edges = data;\n",
       "        createForceLayout(nodes,edges);\n",
       "    });\n",
       "});\n",
       "\n",
       "function createForceLayout(nodes,edges) {\n",
       "  var nodeHash = {};      \n",
       "  for (var x in nodes) {\n",
       "    nodeHash[nodes[x].id] = nodes[x];\n",
       "  }\n",
       "  for (var x in edges) {\n",
       "    edges[x].weight = parseInt(edges[x].weight);\n",
       "    edges[x].source = nodeHash[edges[x].source];\n",
       "    edges[x].target = nodeHash[edges[x].target];\n",
       "  }\n",
       "  var weightScale = d3.scale.linear().domain(d3.extent(edges, function(d) {return d.weight})).range([.1,1])\n",
       "  var force = d3.layout.force()\n",
       "  .charge(function (d) {return d.weight * -500})\n",
       "  .gravity(.3)\n",
       "  .size([500,500]).nodes(nodes)\n",
       "  .links(edges).on(\"tick\", forceTick);\n",
       "  console.log(force);\n",
       "    \n",
       "  d3.select(\"svg\").selectAll(\"line.link\").data(edges, function (d) {return d.source.id + \"-\" + d.target.id}).enter()\n",
       "  .append(\"line\")\n",
       "  .attr(\"class\", \"link\")\n",
       "  .style(\"stroke\", \"black\")\n",
       "  .style(\"opacity\", .5)\n",
       "  .style(\"stroke-width\", function(d) {return d.weight});\n",
       "\n",
       "  var nodeEnter = d3.select(\"svg\").selectAll(\"g.node\").data(nodes, function (d) {return d.id}).enter()\n",
       "  .append(\"g\")\n",
       "  .attr(\"class\", \"node\")\n",
       "  .call(force.drag())\n",
       "  .on(\"click\", fixNode);\n",
       "\n",
       "  function fixNode(d) {\n",
       "    d3.select(this).select(\"circle\").style(\"stroke-width\", 4);\n",
       "    d.fixed = true;\n",
       "  }\n",
       "\n",
       "  nodeEnter.append(\"circle\")\n",
       "  .attr(\"r\", 5)\n",
       "  .style(\"fill\", \"lightgray\")\n",
       "  .style(\"stroke\", \"black\")\n",
       "  .style(\"stroke-width\", \"1px\");\n",
       "\n",
       "  nodeEnter.append(\"text\")\n",
       "  .style(\"text-anchor\", \"middle\")\n",
       "  .attr(\"y\", 15)\n",
       "  .text(function(d) {return d.id})\n",
       "d3.selectAll(\"line\").attr(\"marker-end\", \"url(#Triangle)\");\n",
       "  force.start();\n",
       "\n",
       "  function forceTick() {\n",
       "  d3.selectAll(\"line.link\")\n",
       "  .attr(\"x1\", function (d) {return d.source.x})\n",
       "  .attr(\"x2\", function (d) {return d.target.x})\n",
       "  .attr(\"y1\", function (d) {return d.source.y})\n",
       "  .attr(\"y2\", function (d) {return d.target.y});\n",
       "\n",
       "  d3.selectAll(\"g.node\")\n",
       "  .attr(\"transform\", function (d) {return \"translate(\"+d.x+\",\"+d.y+\")\"})\n",
       "  }\n",
       "}"
      ],
      "text/plain": [
       "<IPython.core.display.Javascript object>"
      ]
     },
     "metadata": {},
     "output_type": "display_data"
    }
   ],
   "source": [
    "%%javascript\n",
    "var nodes;\n",
    "var edges;\n",
    "var target=\"#vis\";\n",
    "\n",
    "var marker = d3.select(\"svg\").append('defs')\n",
    "    .append('marker')\n",
    "    .attr(\"id\", \"Triangle\")\n",
    "    .attr(\"refX\", 12)\n",
    "    .attr(\"refY\", 6)\n",
    "    .attr(\"markerUnits\", 'userSpaceOnUse')\n",
    "    .attr(\"markerWidth\", 12)\n",
    "    .attr(\"markerHeight\", 18)\n",
    "    .attr(\"orient\", 'auto')\n",
    "    .append('path')\n",
    "    .attr(\"d\", 'M 0 0 12 6 0 12 3 6');\n",
    "\n",
    "d3.csv(\"data/nodelist.csv\",function(error,data) { \n",
    "    nodes = data;\n",
    "    d3.csv(\"data/edgelist.csv\", function(error,data) {\n",
    "        edges = data;\n",
    "        createForceLayout(nodes,edges);\n",
    "    });\n",
    "});\n",
    "\n",
    "function createForceLayout(nodes,edges) {\n",
    "  var nodeHash = {};      \n",
    "  for (var x in nodes) {\n",
    "    nodeHash[nodes[x].id] = nodes[x];\n",
    "  }\n",
    "  for (var x in edges) {\n",
    "    edges[x].weight = parseInt(edges[x].weight);\n",
    "    edges[x].source = nodeHash[edges[x].source];\n",
    "    edges[x].target = nodeHash[edges[x].target];\n",
    "  }\n",
    "  var weightScale = d3.scale.linear().domain(d3.extent(edges, function(d) {return d.weight})).range([.1,1])\n",
    "  var force = d3.layout.force()\n",
    "  .charge(function (d) {return d.weight * -500})\n",
    "  .gravity(.3)\n",
    "  .size([500,500]).nodes(nodes)\n",
    "  .links(edges).on(\"tick\", forceTick);\n",
    "    \n",
    "  d3.select(\"svg\").selectAll(\"line.link\").data(edges, function (d) {return d.source.id + \"-\" + d.target.id}).enter()\n",
    "  .append(\"line\")\n",
    "  .attr(\"class\", \"link\")\n",
    "  .style(\"stroke\", \"black\")\n",
    "  .style(\"opacity\", .5)\n",
    "  .style(\"stroke-width\", function(d) {return d.weight});\n",
    "\n",
    "  var nodeEnter = d3.select(\"svg\").selectAll(\"g.node\").data(nodes, function (d) {return d.id}).enter()\n",
    "  .append(\"g\")\n",
    "  .attr(\"class\", \"node\")\n",
    "  .call(force.drag())\n",
    "  .on(\"click\", fixNode);\n",
    "\n",
    "  function fixNode(d) {\n",
    "    d3.select(this).select(\"circle\").style(\"stroke-width\", 4);\n",
    "    d.fixed = true;\n",
    "  }\n",
    "\n",
    "  nodeEnter.append(\"circle\")\n",
    "  .attr(\"r\", 5)\n",
    "  .style(\"fill\", \"lightgray\")\n",
    "  .style(\"stroke\", \"black\")\n",
    "  .style(\"stroke-width\", \"1px\");\n",
    "\n",
    "  nodeEnter.append(\"text\")\n",
    "  .style(\"text-anchor\", \"middle\")\n",
    "  .attr(\"y\", 15)\n",
    "  .text(function(d) {return d.id})\n",
    "d3.selectAll(\"line\").attr(\"marker-end\", \"url(#Triangle)\");\n",
    "  force.start();\n",
    "\n",
    "  function forceTick() {\n",
    "  d3.selectAll(\"line.link\")\n",
    "  .attr(\"x1\", function (d) {return d.source.x})\n",
    "  .attr(\"x2\", function (d) {return d.target.x})\n",
    "  .attr(\"y1\", function (d) {return d.source.y})\n",
    "  .attr(\"y2\", function (d) {return d.target.y});\n",
    "\n",
    "  d3.selectAll(\"g.node\")\n",
    "  .attr(\"transform\", function (d) {return \"translate(\"+d.x+\",\"+d.y+\")\"})\n",
    "  }\n",
    "}"
   ]
  },
  {
   "cell_type": "code",
   "execution_count": null,
   "metadata": {
    "collapsed": true
   },
   "outputs": [],
   "source": []
  }
 ],
 "metadata": {
  "kernelspec": {
   "display_name": "Python 2",
   "language": "python",
   "name": "python2"
  },
  "language_info": {
   "codemirror_mode": {
    "name": "ipython",
    "version": 2
   },
   "file_extension": ".py",
   "mimetype": "text/x-python",
   "name": "python",
   "nbconvert_exporter": "python",
   "pygments_lexer": "ipython2",
   "version": "2.7.13"
  }
 },
 "nbformat": 4,
 "nbformat_minor": 0
}
