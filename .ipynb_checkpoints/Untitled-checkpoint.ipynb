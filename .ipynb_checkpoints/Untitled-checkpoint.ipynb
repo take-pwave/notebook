{
 "cells": [
  {
   "cell_type": "code",
   "execution_count": null,
   "metadata": {
    "collapsed": true
   },
   "outputs": [],
   "source": []
  }
 ],
 "metadata": {
  "kernelspec": {
   "display_name": "SageMath 7.2",
   "language": "",
   "name": "sagemath"
  }
 },
 "nbformat": 4,
 "nbformat_minor": 0
}
