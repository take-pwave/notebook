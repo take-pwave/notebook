{
 "cells": [
  {
   "cell_type": "markdown",
   "metadata": {},
   "source": [
    "# mbedオフライン開発環境の構築\n",
    "岡野さんのページを参考にmbedのオフライン開発環境を構築しました。\n",
    "- https://developer.mbed.org/users/okano/notebook/setup-mbed-cli-on-mac-os-x-JP/\n",
    "\n",
    "## 準備\n",
    "パッケージ管理ソフトHomebrewとXcodeをインストールします。\n",
    "\n",
    "App Storeを使ってXcodeをインストールした後、最新に更新してください。\n",
    "mbed cliではXcode Command line Toolsも必要になりますが、mbed cliがインストールを促してくれます。\n",
    "\n",
    "### Homebrewのインストール\n",
    "以下のコマンドでHomebewがインストールされます。\n",
    "\n",
    "```bash\n",
    "$ ruby -e \"$(curl -fsSL https://raw.githubusercontent.com/Homebrew/install/master/install)\"\n",
    "```\n",
    "\n",
    "brewコマンドでpythonとnpmをインストールします。\n",
    "\n",
    "```bash\n",
    "$ brew install npm\n",
    "$ brew install python \n",
    "```\n",
    "pythonのインストールで警告がでるので、以下のコマンドを実行します。\n",
    "```bash\n",
    "$ brew link --overwrite python\n",
    "```\n",
    "\n",
    "次にgit、Mercurial(hg)とGCCをインストールします。\n",
    "```bash\n",
    "$ brew tap PX4/homebrew-px4\n",
    "$ brew update\n",
    "$ brew install git hg gcc-arm-none-eabi\n",
    "```\n",
    "\n",
    "## mbedオフライン開発環境mbed cliのインストール\n",
    "mbed cliはpipコマンドを使ってインストールします。これでmbedオフライン開発環境が整いました。\n",
    "```bash\n",
    "$ pip install mbed-cli\n",
    "```\n"
   ]
  },
  {
   "cell_type": "markdown",
   "metadata": {},
   "source": [
    "## 動作確認\n",
    "動作確認のために、Lチカのサンプルを作成してみます。\n",
    "\n",
    "```bash\n",
    "$ $ mbed new blink --mbedlib\n",
    "[mbed] Creating new program \"blink\" (git)\n",
    "[mbed] Adding library \"mbed\" from \"https://mbed.org/users/mbed_official/code/mbed/builds\" at latest revision in the current branch\n",
    "[mbed] Updating reference \"mbed\" -> \"https://mbed.org/users/mbed_official/code/mbed/builds/tip\"\n",
    "[mbed] Couldn't find build tools in your program. Downloading the mbed 2.0 SDK tools...\n",
    "[mbed] Auto-installing missing Python modules...\n",
    "```"
   ]
  }
 ],
 "metadata": {
  "kernelspec": {
   "display_name": "Python 2",
   "language": "python",
   "name": "python2"
  },
  "language_info": {
   "codemirror_mode": {
    "name": "ipython",
    "version": 2
   },
   "file_extension": ".py",
   "mimetype": "text/x-python",
   "name": "python",
   "nbconvert_exporter": "python",
   "pygments_lexer": "ipython2",
   "version": "2.7.10"
  }
 },
 "nbformat": 4,
 "nbformat_minor": 0
}
