{
 "cells": [
  {
   "cell_type": "markdown",
   "metadata": {},
   "source": [
    "## 第５章　音声向きAE・・・自動で精度UPするノイズ・フィルタ\n"
   ]
  },
  {
   "cell_type": "code",
   "execution_count": 1,
   "metadata": {
    "collapsed": false
   },
   "outputs": [
    {
     "name": "stderr",
     "output_type": "stream",
     "text": [
      "Using TensorFlow backend.\n"
     ]
    }
   ],
   "source": [
    "from keras.layers import Input, Dense, BatchNormalization\n",
    "from keras.models import Model\n",
    "\n",
    "# this is our input placeholder\n",
    "input_wav = Input(shape=(514,))\n",
    "x = Dense(512, activation='relu')(input_wav)\n",
    "x = Dense(512, activation='relu')(x)\n",
    "x = Dense(512, activation='relu')(x)\n",
    "encoded = Dense(512, activation='relu')(x)\n",
    "\n",
    "x = Dense(512, activation='relu')(encoded)\n",
    "x = Dense(512, activation='relu')(x)\n",
    "x = Dense(512, activation='relu')(x)\n",
    "decoded = Dense(514)(x)\n"
   ]
  },
  {
   "cell_type": "code",
   "execution_count": 2,
   "metadata": {
    "collapsed": false
   },
   "outputs": [],
   "source": [
    "autoencoder = Model(input_wav, decoded)\n",
    "autoencoder.compile(optimizer='adam', loss='mse', metriics=['mae'])"
   ]
  },
  {
   "cell_type": "code",
   "execution_count": 3,
   "metadata": {
    "collapsed": false
   },
   "outputs": [
    {
     "name": "stdout",
     "output_type": "stream",
     "text": [
      "(300, 514) (74, 514) (300, 514) (74, 514)\n"
     ]
    }
   ],
   "source": [
    "import pandas as pd\n",
    "import numpy as np\n",
    "\n",
    "# 入力データ\n",
    "data = np.load('data/dae_train.npy')\n",
    "noisy, org = data\n",
    "\n",
    "train_noisy = noisy[:300]\n",
    "test_noisy = noisy[300:]\n",
    "train = org[:300]\n",
    "test = org[300:]\n",
    "\n",
    "print train.shape, test.shape, train_noisy.shape, test_noisy.shape"
   ]
  },
  {
   "cell_type": "code",
   "execution_count": 4,
   "metadata": {
    "collapsed": false
   },
   "outputs": [
    {
     "name": "stderr",
     "output_type": "stream",
     "text": [
      "/usr/lib/sagemath/local/lib/python2.7/site-packages/keras/backend/tensorflow_backend.py:2250: UserWarning: Expected no kwargs, you passed 1\n",
      "kwargs passed to function are ignored with Tensorflow backend\n",
      "  warnings.warn('\\n'.join(msg))\n"
     ]
    },
    {
     "name": "stdout",
     "output_type": "stream",
     "text": [
      "Train on 300 samples, validate on 74 samples\n",
      "Epoch 1/100\n",
      "300/300 [==============================] - 0s - loss: 0.6083 - val_loss: 0.0631\n",
      "Epoch 2/100\n",
      "300/300 [==============================] - 0s - loss: 0.5847 - val_loss: 0.0632\n",
      "Epoch 3/100\n",
      "300/300 [==============================] - 0s - loss: 0.5341 - val_loss: 0.0635\n",
      "Epoch 4/100\n",
      "300/300 [==============================] - 0s - loss: 0.4728 - val_loss: 0.0635\n",
      "Epoch 5/100\n",
      "300/300 [==============================] - 0s - loss: 0.4209 - val_loss: 0.0635\n",
      "Epoch 6/100\n",
      "300/300 [==============================] - 0s - loss: 0.3706 - val_loss: 0.0635\n",
      "Epoch 7/100\n",
      "300/300 [==============================] - 0s - loss: 0.3150 - val_loss: 0.0634\n",
      "Epoch 8/100\n",
      "300/300 [==============================] - 0s - loss: 0.2797 - val_loss: 0.0633\n",
      "Epoch 9/100\n",
      "300/300 [==============================] - 0s - loss: 0.2475 - val_loss: 0.0634\n",
      "Epoch 10/100\n",
      "300/300 [==============================] - 0s - loss: 0.2312 - val_loss: 0.0634\n",
      "Epoch 11/100\n",
      "300/300 [==============================] - 0s - loss: 0.2155 - val_loss: 0.0633\n",
      "Epoch 12/100\n",
      "300/300 [==============================] - 0s - loss: 0.2082 - val_loss: 0.0633\n",
      "Epoch 13/100\n",
      "300/300 [==============================] - 0s - loss: 0.1906 - val_loss: 0.0633\n",
      "Epoch 14/100\n",
      "300/300 [==============================] - 0s - loss: 0.1748 - val_loss: 0.0633\n",
      "Epoch 15/100\n",
      "300/300 [==============================] - 0s - loss: 0.1690 - val_loss: 0.0632\n",
      "Epoch 16/100\n",
      "300/300 [==============================] - 0s - loss: 0.1601 - val_loss: 0.0633\n",
      "Epoch 17/100\n",
      "300/300 [==============================] - 0s - loss: 0.1518 - val_loss: 0.0632\n",
      "Epoch 18/100\n",
      "300/300 [==============================] - 0s - loss: 0.1509 - val_loss: 0.0632\n",
      "Epoch 19/100\n",
      "300/300 [==============================] - 0s - loss: 0.1416 - val_loss: 0.0633\n",
      "Epoch 20/100\n",
      "300/300 [==============================] - 0s - loss: 0.1352 - val_loss: 0.0632\n",
      "Epoch 21/100\n",
      "300/300 [==============================] - 0s - loss: 0.1373 - val_loss: 0.0632\n",
      "Epoch 22/100\n",
      "300/300 [==============================] - 0s - loss: 0.1253 - val_loss: 0.0633\n",
      "Epoch 23/100\n",
      "300/300 [==============================] - 0s - loss: 0.1184 - val_loss: 0.0632\n",
      "Epoch 24/100\n",
      "300/300 [==============================] - 0s - loss: 0.1155 - val_loss: 0.0632\n",
      "Epoch 25/100\n",
      "300/300 [==============================] - 0s - loss: 0.1086 - val_loss: 0.0632\n",
      "Epoch 26/100\n",
      "300/300 [==============================] - 0s - loss: 0.1043 - val_loss: 0.0632\n",
      "Epoch 27/100\n",
      "300/300 [==============================] - 0s - loss: 0.1027 - val_loss: 0.0631\n",
      "Epoch 28/100\n",
      "300/300 [==============================] - 0s - loss: 0.1001 - val_loss: 0.0631\n",
      "Epoch 29/100\n",
      "300/300 [==============================] - 0s - loss: 0.0953 - val_loss: 0.0631\n",
      "Epoch 30/100\n",
      "300/300 [==============================] - 0s - loss: 0.0941 - val_loss: 0.0631\n",
      "Epoch 31/100\n",
      "300/300 [==============================] - 0s - loss: 0.0899 - val_loss: 0.0631\n",
      "Epoch 32/100\n",
      "300/300 [==============================] - 0s - loss: 0.0868 - val_loss: 0.0631\n",
      "Epoch 33/100\n",
      "300/300 [==============================] - 0s - loss: 0.0846 - val_loss: 0.0631\n",
      "Epoch 34/100\n",
      "300/300 [==============================] - 0s - loss: 0.0824 - val_loss: 0.0631\n",
      "Epoch 35/100\n",
      "300/300 [==============================] - 0s - loss: 0.0808 - val_loss: 0.0630\n",
      "Epoch 36/100\n",
      "300/300 [==============================] - 0s - loss: 0.0791 - val_loss: 0.0630\n",
      "Epoch 37/100\n",
      "300/300 [==============================] - 0s - loss: 0.0776 - val_loss: 0.0630\n",
      "Epoch 38/100\n",
      "300/300 [==============================] - 0s - loss: 0.0759 - val_loss: 0.0630\n",
      "Epoch 39/100\n",
      "300/300 [==============================] - 0s - loss: 0.0742 - val_loss: 0.0630\n",
      "Epoch 40/100\n",
      "300/300 [==============================] - 0s - loss: 0.0731 - val_loss: 0.0629\n",
      "Epoch 41/100\n",
      "300/300 [==============================] - 0s - loss: 0.0717 - val_loss: 0.0629\n",
      "Epoch 42/100\n",
      "300/300 [==============================] - 0s - loss: 0.0704 - val_loss: 0.0629\n",
      "Epoch 43/100\n",
      "300/300 [==============================] - 0s - loss: 0.0692 - val_loss: 0.0628\n",
      "Epoch 44/100\n",
      "300/300 [==============================] - 0s - loss: 0.0688 - val_loss: 0.0628\n",
      "Epoch 45/100\n",
      "300/300 [==============================] - 0s - loss: 0.0681 - val_loss: 0.0627\n",
      "Epoch 46/100\n",
      "300/300 [==============================] - 0s - loss: 0.0671 - val_loss: 0.0627\n",
      "Epoch 47/100\n",
      "300/300 [==============================] - 0s - loss: 0.0658 - val_loss: 0.0627\n",
      "Epoch 48/100\n",
      "300/300 [==============================] - 0s - loss: 0.0652 - val_loss: 0.0626\n",
      "Epoch 49/100\n",
      "300/300 [==============================] - 0s - loss: 0.0660 - val_loss: 0.0625\n",
      "Epoch 50/100\n",
      "300/300 [==============================] - 0s - loss: 0.0658 - val_loss: 0.0625\n",
      "Epoch 51/100\n",
      "300/300 [==============================] - 0s - loss: 0.0664 - val_loss: 0.0624\n",
      "Epoch 52/100\n",
      "300/300 [==============================] - 0s - loss: 0.0650 - val_loss: 0.0626\n",
      "Epoch 53/100\n",
      "300/300 [==============================] - 0s - loss: 0.0648 - val_loss: 0.0624\n",
      "Epoch 54/100\n",
      "300/300 [==============================] - 0s - loss: 0.0654 - val_loss: 0.0624\n",
      "Epoch 55/100\n",
      "300/300 [==============================] - 0s - loss: 0.0674 - val_loss: 0.0625\n",
      "Epoch 56/100\n",
      "300/300 [==============================] - 0s - loss: 0.0666 - val_loss: 0.0625\n",
      "Epoch 57/100\n",
      "300/300 [==============================] - 0s - loss: 0.0681 - val_loss: 0.0624\n",
      "Epoch 58/100\n",
      "300/300 [==============================] - 0s - loss: 0.0683 - val_loss: 0.0621\n",
      "Epoch 59/100\n",
      "300/300 [==============================] - 0s - loss: 0.0686 - val_loss: 0.0621\n",
      "Epoch 60/100\n",
      "300/300 [==============================] - 0s - loss: 0.0671 - val_loss: 0.0620\n",
      "Epoch 61/100\n",
      "300/300 [==============================] - 0s - loss: 0.0642 - val_loss: 0.0620\n",
      "Epoch 62/100\n",
      "300/300 [==============================] - 0s - loss: 0.0647 - val_loss: 0.0619\n",
      "Epoch 63/100\n",
      "300/300 [==============================] - 0s - loss: 0.0649 - val_loss: 0.0619\n",
      "Epoch 64/100\n",
      "300/300 [==============================] - 0s - loss: 0.0662 - val_loss: 0.0617\n",
      "Epoch 65/100\n",
      "300/300 [==============================] - 0s - loss: 0.0643 - val_loss: 0.0618\n",
      "Epoch 66/100\n",
      "300/300 [==============================] - 0s - loss: 0.0636 - val_loss: 0.0617\n",
      "Epoch 67/100\n",
      "300/300 [==============================] - 0s - loss: 0.0637 - val_loss: 0.0618\n",
      "Epoch 68/100\n",
      "300/300 [==============================] - 0s - loss: 0.0637 - val_loss: 0.0618\n",
      "Epoch 69/100\n",
      "300/300 [==============================] - 0s - loss: 0.0622 - val_loss: 0.0616\n",
      "Epoch 70/100\n",
      "300/300 [==============================] - 0s - loss: 0.0634 - val_loss: 0.0617\n",
      "Epoch 71/100\n",
      "300/300 [==============================] - 0s - loss: 0.0624 - val_loss: 0.0615\n",
      "Epoch 72/100\n",
      "300/300 [==============================] - 0s - loss: 0.0599 - val_loss: 0.0616\n",
      "Epoch 73/100\n",
      "300/300 [==============================] - 0s - loss: 0.0595 - val_loss: 0.0615\n",
      "Epoch 74/100\n",
      "300/300 [==============================] - 0s - loss: 0.0583 - val_loss: 0.0613\n",
      "Epoch 75/100\n",
      "300/300 [==============================] - 0s - loss: 0.0586 - val_loss: 0.0613\n",
      "Epoch 76/100\n",
      "300/300 [==============================] - 0s - loss: 0.0594 - val_loss: 0.0615\n",
      "Epoch 77/100\n",
      "300/300 [==============================] - 0s - loss: 0.0593 - val_loss: 0.0615\n",
      "Epoch 78/100\n",
      "300/300 [==============================] - 0s - loss: 0.0584 - val_loss: 0.0613\n",
      "Epoch 79/100\n",
      "300/300 [==============================] - 0s - loss: 0.0569 - val_loss: 0.0613\n",
      "Epoch 80/100\n",
      "300/300 [==============================] - 0s - loss: 0.0560 - val_loss: 0.0613\n",
      "Epoch 81/100\n",
      "300/300 [==============================] - 0s - loss: 0.0582 - val_loss: 0.0614\n",
      "Epoch 82/100\n",
      "300/300 [==============================] - 0s - loss: 0.0575 - val_loss: 0.0613\n",
      "Epoch 83/100\n",
      "300/300 [==============================] - 0s - loss: 0.0580 - val_loss: 0.0612\n",
      "Epoch 84/100\n",
      "300/300 [==============================] - 0s - loss: 0.0557 - val_loss: 0.0616\n",
      "Epoch 85/100\n",
      "300/300 [==============================] - 0s - loss: 0.0551 - val_loss: 0.0613\n",
      "Epoch 86/100\n",
      "300/300 [==============================] - 0s - loss: 0.0563 - val_loss: 0.0613\n",
      "Epoch 87/100\n",
      "300/300 [==============================] - 0s - loss: 0.0569 - val_loss: 0.0613\n",
      "Epoch 88/100\n",
      "300/300 [==============================] - 0s - loss: 0.0565 - val_loss: 0.0613\n",
      "Epoch 89/100\n",
      "300/300 [==============================] - 0s - loss: 0.0574 - val_loss: 0.0615\n",
      "Epoch 90/100\n",
      "300/300 [==============================] - 0s - loss: 0.0562 - val_loss: 0.0613\n",
      "Epoch 91/100\n",
      "300/300 [==============================] - 0s - loss: 0.0602 - val_loss: 0.0615\n",
      "Epoch 92/100\n",
      "300/300 [==============================] - 0s - loss: 0.0557 - val_loss: 0.0614\n",
      "Epoch 93/100\n",
      "300/300 [==============================] - 0s - loss: 0.0575 - val_loss: 0.0611\n",
      "Epoch 94/100\n",
      "300/300 [==============================] - 0s - loss: 0.0531 - val_loss: 0.0613\n",
      "Epoch 95/100\n",
      "300/300 [==============================] - 0s - loss: 0.0539 - val_loss: 0.0614\n",
      "Epoch 96/100\n",
      "300/300 [==============================] - 0s - loss: 0.0536 - val_loss: 0.0612\n",
      "Epoch 97/100\n",
      "300/300 [==============================] - 0s - loss: 0.0549 - val_loss: 0.0614\n",
      "Epoch 98/100\n",
      "300/300 [==============================] - 0s - loss: 0.0531 - val_loss: 0.0612\n",
      "Epoch 99/100\n",
      "300/300 [==============================] - 0s - loss: 0.0534 - val_loss: 0.0616\n",
      "Epoch 100/100\n",
      "300/300 [==============================] - 0s - loss: 0.0527 - val_loss: 0.0617\n"
     ]
    }
   ],
   "source": [
    "history = autoencoder.fit(train_noisy, train,\n",
    "                epochs=100,\n",
    "                batch_size=100,\n",
    "                shuffle=True,\n",
    "                validation_data=(test_noisy, test))"
   ]
  },
  {
   "cell_type": "code",
   "execution_count": 5,
   "metadata": {
    "collapsed": false
   },
   "outputs": [
    {
     "data": {
      "image/png": "[encoded data removed]",
      "text/plain": [
       "<matplotlib.figure.Figure at 0x7efd92945990>"
      ]
     },
     "metadata": {},
     "output_type": "display_data"
    }
   ],
   "source": [
    "# use Matplotlib (don't ask)\n",
    "import matplotlib.pyplot as plt\n",
    "import seaborn\n",
    "%matplotlib inline\n",
    "\n",
    "\n",
    "# history_dictをpandasnのデータフレームに変換\n",
    "d = pd.DataFrame(history.history)\n",
    "# loss, val_lossをプロット\n",
    "d[['loss', 'val_loss']].plot()\n",
    "plt.show()"
   ]
  },
  {
   "cell_type": "code",
   "execution_count": 6,
   "metadata": {
    "collapsed": true
   },
   "outputs": [],
   "source": [
    "from scipy import ceil, complex64, float32, float64, hamming, zeros\n",
    "from scipy.fftpack import fft\n",
    "from scipy import ifft\n",
    "import scipy.signal\n",
    "from scipy.io.wavfile import read\n",
    "from scipy.io.wavfile import write\n"
   ]
  },
  {
   "cell_type": "code",
   "execution_count": 7,
   "metadata": {
    "collapsed": true
   },
   "outputs": [],
   "source": [
    "# ================= #\n",
    "#  短時間フーリエ変換  #\n",
    "# ================= #\n",
    "# x: 入力波形，win: 窓関数，step: フレームシフト\n",
    "def STFT(x, win, step):\n",
    "    l = len(x) # 入力信号の長さ\n",
    "    N = len(win) # 窓幅、つまり切り出す幅\n",
    "    M = int(ceil(float(l - N + step) / step)) # スペクトログラムの時間フレーム数\n",
    "    new_x = zeros(N + ((M - 1) * step), dtype = float64)\n",
    "    new_x[: l] = x\n",
    "\n",
    "    X = zeros([M, N], dtype = complex64) # スペクトログラムの初期化(複素数型)\n",
    "    for m in xrange(M):\n",
    "        start = step * m\n",
    "        X[m, :] = fft(new_x[start : start + N] * win)\n",
    "\n",
    "    # 平均と標準偏差で正規化する（発話単位で正規化）\n",
    "    X = (X - np.mean(X)) / np.std(X)\n",
    "    return X\n",
    "\n",
    "# ============= #\n",
    "#  逆フーリエ変換 #\n",
    "# ============= #\n",
    "def iSTFT(X, win, step):\n",
    "    M, N = X.shape\n",
    "    l = (M - 1) * step + N\n",
    "    x = zeros(l, dtype=float64)\n",
    "    wsum = zeros(l, dtype=float64)\n",
    "    for m in xrange(M):\n",
    "        start = step * m        \n",
    "        x[start : start + N] = x[start : start + N] + ifft(X[m, :]).real * win\n",
    "        wsum[start : start + N] += win ** 2 \n",
    "    pos = (wsum != 0)\n",
    "    x_pre = x.copy()    \n",
    "    x[pos] /= wsum[pos]\n",
    "    return x\n"
   ]
  },
  {
   "cell_type": "code",
   "execution_count": 8,
   "metadata": {
    "collapsed": false
   },
   "outputs": [],
   "source": [
    "fftLen = 512 # FFTの点数\n",
    "shift = 10      # 窓関数のシフト幅（単位[ms]）\n",
    "\n",
    "# ノイズを含んだ音声データ\n",
    "fs, nwave = read('data/noise.wav')"
   ]
  },
  {
   "cell_type": "markdown",
   "metadata": {},
   "source": [
    "波形を表示"
   ]
  },
  {
   "cell_type": "code",
   "execution_count": 9,
   "metadata": {
    "collapsed": false
   },
   "outputs": [
    {
     "data": {
      "image/png": "[encoded data removed]",
      "text/plain": [
       "<matplotlib.figure.Figure at 0x7efd91365410>"
      ]
     },
     "metadata": {},
     "output_type": "display_data"
    }
   ],
   "source": [
    "plt.plot(nwave)\n",
    "plt.show()"
   ]
  },
  {
   "cell_type": "code",
   "execution_count": 10,
   "metadata": {
    "collapsed": false
   },
   "outputs": [],
   "source": [
    "step = int(fs * shift / 1000)     # シフト幅の設定\n",
    "win = hamming(fftLen)             # ハミング窓\n",
    "\n",
    "### STFT ###\n",
    "nspec = STFT(nwave, win, step) # ノイズ重畳音声のスペクトル\n",
    "length = len(nspec)\n",
    "dn_spec = zeros([length, 512], dtype=complex64) # 雑音除去後のスペクトル\n",
    "\n",
    "# クリーン音声のスペクトルをDAEの入力に合うように変換\n",
    "data = []\n",
    "for i in range(len(nspec)):\n",
    "    re = np.array(nspec[i].real[0:fftLen/2+1], dtype=np.float32)\n",
    "    im = np.array(nspec[i].imag[0:fftLen/2+1], dtype=np.float32)\n",
    "    data.append(np.hstack([re, im]))\n",
    "n_in = len(data[0])\n"
   ]
  },
  {
   "cell_type": "code",
   "execution_count": 11,
   "metadata": {
    "collapsed": false
   },
   "outputs": [],
   "source": [
    "x = np.array(data).astype(np.float32)\n",
    "y = autoencoder.predict(x)"
   ]
  },
  {
   "cell_type": "code",
   "execution_count": 12,
   "metadata": {
    "collapsed": false
   },
   "outputs": [],
   "source": [
    "# 雑音除去スペクトルを複素平面に戻す\n",
    "for i in xrange(0, len(y)):        \n",
    "    real = y[i, 0:257]\n",
    "    rev_real = real[1:257][::-1] # reverse\n",
    "    image = y[i, 257:514]\n",
    "    rev_image = image[1:257][::-1]\n",
    "    dn_spec[i].real[0:257] = real\n",
    "    dn_spec[i].real[256:512] = rev_real\n",
    "    dn_spec[i].imag[0:257] = image\n",
    "    dn_spec[i].imag[256:512] = rev_image\n",
    "\n",
    "dn_wav = iSTFT(dn_spec, win, step) # 逆フーリエ変換で波形に戻す\n",
    "write(\"data/keras_denoise.wav\", 16000, dn_wav) "
   ]
  },
  {
   "cell_type": "code",
   "execution_count": 13,
   "metadata": {
    "collapsed": false
   },
   "outputs": [
    {
     "data": {
      "image/png": "[encoded data removed]",
      "text/plain": [
       "<matplotlib.figure.Figure at 0x7efd88b7b090>"
      ]
     },
     "metadata": {},
     "output_type": "display_data"
    }
   ],
   "source": [
    "plt.plot(dn_wav)\n",
    "plt.show()"
   ]
  },
  {
   "cell_type": "code",
   "execution_count": 14,
   "metadata": {
    "collapsed": false
   },
   "outputs": [
    {
     "data": {
      "image/png": "[encoded data removed]",
      "text/plain": [
       "<matplotlib.figure.Figure at 0x7efd88b7b590>"
      ]
     },
     "metadata": {},
     "output_type": "display_data"
    }
   ],
   "source": [
    "# Interfaceのノイズ除去された音声データ\n",
    "fs, target_wave = read('data/denoise.wav')\n",
    "\n",
    "fig = plt.figure()\n",
    "fig.add_subplot(311)\n",
    "plt.plot(nwave)\n",
    "plt.xlim([0, len(nwave)])\n",
    "plt.title(\"noise mixed speech\", fontsize = 10)    \n",
    "fig.add_subplot(312)\n",
    "plt.plot(target_wave)\n",
    "plt.xlim([0, len(target_wave)])\n",
    "plt.title(\"Interface's denoised speech\", fontsize = 10)\n",
    "fig.add_subplot(313)\n",
    "plt.plot(dn_wav)\n",
    "plt.xlim([0, len(dn_wav)])\n",
    "plt.title(\"noise removed speech\", fontsize = 10)    \n",
    "plt.subplots_adjust(wspace=0.4, hspace=0.8)\n",
    "plt.show()"
   ]
  },
  {
   "cell_type": "code",
   "execution_count": null,
   "metadata": {
    "collapsed": true
   },
   "outputs": [],
   "source": []
  }
 ],
 "metadata": {
  "kernelspec": {
   "display_name": "Python 2",
   "language": "python",
   "name": "python2"
  },
  "language_info": {
   "codemirror_mode": {
    "name": "ipython",
    "version": 2
   },
   "file_extension": ".py",
   "mimetype": "text/x-python",
   "name": "python",
   "nbconvert_exporter": "python",
   "pygments_lexer": "ipython2",
   "version": "2.7.13"
  }
 },
 "nbformat": 4,
 "nbformat_minor": 0
}
