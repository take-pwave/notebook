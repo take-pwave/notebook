{
 "cells": [
  {
   "cell_type": "markdown",
   "metadata": {},
   "source": [
    "## 語単位のone-hotベクトル表現"
   ]
  },
  {
   "cell_type": "code",
   "execution_count": 1,
   "metadata": {
    "collapsed": false
   },
   "outputs": [],
   "source": [
    "import numpy as np\n",
    "# This is our initial data; one entry per \"sample\"\n",
    "# (in this toy example, a \"sample\" is just a sentence, but\n",
    "# it could be an entire document).\n",
    "samples = ['The cat sat on the mat.', 'The dog ate my homework.']\n",
    "# First, build an index of all tokens in the data.\n",
    "token_index = {}\n",
    "for sample in samples:\n",
    "    # We simply tokenize the samples via the `split` method.\n",
    "    # in real life, we would also strip punctuation and special characters\n",
    "    # from the samples.\n",
    "    for word in sample.split():\n",
    "        if word not in token_index:\n",
    "            # Assign a unique index to each unique word\n",
    "            token_index[word] = len(token_index) + 1\n",
    "            # Note that we don't attribute index 0 to anything.\n",
    "# Next, we vectorize our samples.\n",
    "# We will only consider the first `max_length` words in each sample.\n",
    "max_length = 10\n",
    "# This is where we store our results:\n",
    "results = np.zeros((len(samples), max_length, max(token_index.values()) + 1))\n",
    "for i, sample in enumerate(samples):\n",
    "    for j, word in enumerate(sample.split()):\n",
    "        index = token_index.get(word)\n",
    "        results[i, j, index] = 1."
   ]
  },
  {
   "cell_type": "code",
   "execution_count": 2,
   "metadata": {
    "collapsed": false
   },
   "outputs": [
    {
     "data": {
      "text/plain": [
       "array([[[ 0.,  1.,  0.,  0.,  0.,  0.,  0.,  0.,  0.,  0.,  0.],\n",
       "        [ 0.,  0.,  1.,  0.,  0.,  0.,  0.,  0.,  0.,  0.,  0.],\n",
       "        [ 0.,  0.,  0.,  1.,  0.,  0.,  0.,  0.,  0.,  0.,  0.],\n",
       "        [ 0.,  0.,  0.,  0.,  1.,  0.,  0.,  0.,  0.,  0.,  0.],\n",
       "        [ 0.,  0.,  0.,  0.,  0.,  1.,  0.,  0.,  0.,  0.,  0.],\n",
       "        [ 0.,  0.,  0.,  0.,  0.,  0.,  1.,  0.,  0.,  0.,  0.],\n",
       "        [ 0.,  0.,  0.,  0.,  0.,  0.,  0.,  0.,  0.,  0.,  0.],\n",
       "        [ 0.,  0.,  0.,  0.,  0.,  0.,  0.,  0.,  0.,  0.,  0.],\n",
       "        [ 0.,  0.,  0.,  0.,  0.,  0.,  0.,  0.,  0.,  0.,  0.],\n",
       "        [ 0.,  0.,  0.,  0.,  0.,  0.,  0.,  0.,  0.,  0.,  0.]],\n",
       "\n",
       "       [[ 0.,  1.,  0.,  0.,  0.,  0.,  0.,  0.,  0.,  0.,  0.],\n",
       "        [ 0.,  0.,  0.,  0.,  0.,  0.,  0.,  1.,  0.,  0.,  0.],\n",
       "        [ 0.,  0.,  0.,  0.,  0.,  0.,  0.,  0.,  1.,  0.,  0.],\n",
       "        [ 0.,  0.,  0.,  0.,  0.,  0.,  0.,  0.,  0.,  1.,  0.],\n",
       "        [ 0.,  0.,  0.,  0.,  0.,  0.,  0.,  0.,  0.,  0.,  1.],\n",
       "        [ 0.,  0.,  0.,  0.,  0.,  0.,  0.,  0.,  0.,  0.,  0.],\n",
       "        [ 0.,  0.,  0.,  0.,  0.,  0.,  0.,  0.,  0.,  0.,  0.],\n",
       "        [ 0.,  0.,  0.,  0.,  0.,  0.,  0.,  0.,  0.,  0.,  0.],\n",
       "        [ 0.,  0.,  0.,  0.,  0.,  0.,  0.,  0.,  0.,  0.,  0.],\n",
       "        [ 0.,  0.,  0.,  0.,  0.,  0.,  0.,  0.,  0.,  0.,  0.]]])"
      ]
     },
     "execution_count": 2,
     "metadata": {},
     "output_type": "execute_result"
    }
   ],
   "source": [
    "results"
   ]
  },
  {
   "cell_type": "code",
   "execution_count": 3,
   "metadata": {
    "collapsed": false
   },
   "outputs": [
    {
     "name": "stderr",
     "output_type": "stream",
     "text": [
      "Using TensorFlow backend.\n"
     ]
    },
    {
     "name": "stdout",
     "output_type": "stream",
     "text": [
      "Found 9 unique tokens.\n"
     ]
    }
   ],
   "source": [
    "from keras.preprocessing.text import Tokenizer\n",
    "\n",
    "samples = ['The cat sat on the mat.', 'The dog ate my homework.']\n",
    "# We create a tokenizer, configured to only take\n",
    "# into account the top-1000 most common on words\n",
    "tokenizer = Tokenizer(num_words=1000)\n",
    "# The builds the word index\n",
    "tokenizer.fit_on_texts(samples)\n",
    "# This turns strings into lists of integer indices.\n",
    "sequences = tokenizer.texts_to_sequences(samples)\n",
    "# You could also directly get the one-hot binary representations.\n",
    "# Note that other vectorization modes than one-hot encoding are supported!\n",
    "one_hot_results = tokenizer.texts_to_matrix(samples, mode='binary')\n",
    "# This is how you can recover the word index that was computed\n",
    "word_index = tokenizer.word_index\n",
    "print('Found %s unique tokens.' % len(word_index))"
   ]
  },
  {
   "cell_type": "code",
   "execution_count": 4,
   "metadata": {
    "collapsed": false
   },
   "outputs": [
    {
     "data": {
      "text/plain": [
       "array([[ 0.,  1.,  1., ...,  0.,  0.,  0.],\n",
       "       [ 0.,  1.,  0., ...,  0.,  0.,  0.]])"
      ]
     },
     "execution_count": 4,
     "metadata": {},
     "output_type": "execute_result"
    }
   ],
   "source": [
    "one_hot_results"
   ]
  },
  {
   "cell_type": "code",
   "execution_count": 5,
   "metadata": {
    "collapsed": false
   },
   "outputs": [
    {
     "data": {
      "text/plain": [
       "[[1, 6, 9, 2, 1, 4], [1, 5, 3, 7, 8]]"
      ]
     },
     "execution_count": 5,
     "metadata": {},
     "output_type": "execute_result"
    }
   ],
   "source": [
    "sequences"
   ]
  },
  {
   "cell_type": "markdown",
   "metadata": {},
   "source": [
    "## Word埋め込みベクトル（単語のIDをベクトル形式に変換）"
   ]
  },
  {
   "cell_type": "code",
   "execution_count": 6,
   "metadata": {
    "collapsed": true
   },
   "outputs": [],
   "source": [
    "from keras.layers import Embedding\n",
    "# The Embedding layer takes at least two arguments:\n",
    "# the number of possible tokens, here 1000 (1 + maximum word index),\n",
    "# and the dimensionality of the embeddings, here 64.\n",
    "embedding_layer = Embedding(1000, 64)"
   ]
  },
  {
   "cell_type": "code",
   "execution_count": 7,
   "metadata": {
    "collapsed": false
   },
   "outputs": [],
   "source": [
    "from keras.datasets import imdb\n",
    "from keras.preprocessing import sequence\n",
    "\n",
    "max_features = 10000  # number of words to consider as features\n",
    "maxlen = 20  # cut texts after this number of words (among top max_features most common words)\n",
    "\n",
    "# Load the data as lists of integers.\n",
    "(x_train, y_train), (x_test, y_test) = imdb.load_data(num_words=max_features)\n",
    "\n",
    "# This turns our lists of integers\n",
    "# into a 2D integer tensor of shape `(samples, maxlen)`\n",
    "x_train = sequence.pad_sequences(x_train, maxlen=maxlen)\n",
    "x_test = sequence.pad_sequences(x_test, maxlen=maxlen)"
   ]
  },
  {
   "cell_type": "code",
   "execution_count": 14,
   "metadata": {
    "collapsed": false
   },
   "outputs": [
    {
     "name": "stdout",
     "output_type": "stream",
     "text": [
      "_________________________________________________________________\n",
      "Layer (type)                 Output Shape              Param #   \n",
      "=================================================================\n",
      "embedding_2 (Embedding)      (None, 20, 8)             80000     \n",
      "_________________________________________________________________\n",
      "flatten_1 (Flatten)          (None, 160)               0         \n",
      "_________________________________________________________________\n",
      "dense_1 (Dense)              (None, 1)                 161       \n",
      "=================================================================\n",
      "Total params: 80,161\n",
      "Trainable params: 80,161\n",
      "Non-trainable params: 0\n",
      "_________________________________________________________________\n",
      "Train on 20000 samples, validate on 5000 samples\n",
      "Epoch 1/10\n",
      "20000/20000 [==============================] - 2s - loss: 0.6561 - acc: 0.6479 - val_loss: 0.5909 - val_acc: 0.7146\n",
      "Epoch 2/10\n",
      "20000/20000 [==============================] - 1s - loss: 0.5193 - acc: 0.7591 - val_loss: 0.5121 - val_acc: 0.7366\n",
      "Epoch 3/10\n",
      "20000/20000 [==============================] - 1s - loss: 0.4516 - acc: 0.7929 - val_loss: 0.4952 - val_acc: 0.7466\n",
      "Epoch 4/10\n",
      "20000/20000 [==============================] - 1s - loss: 0.4194 - acc: 0.8064 - val_loss: 0.4907 - val_acc: 0.7538\n",
      "Epoch 5/10\n",
      "20000/20000 [==============================] - 1s - loss: 0.3968 - acc: 0.8199 - val_loss: 0.4916 - val_acc: 0.7578\n",
      "Epoch 6/10\n",
      "20000/20000 [==============================] - 1s - loss: 0.3787 - acc: 0.8314 - val_loss: 0.4954 - val_acc: 0.7586\n",
      "Epoch 7/10\n",
      "20000/20000 [==============================] - 1s - loss: 0.3627 - acc: 0.8416 - val_loss: 0.5004 - val_acc: 0.7572\n",
      "Epoch 8/10\n",
      "20000/20000 [==============================] - 1s - loss: 0.3477 - acc: 0.8482 - val_loss: 0.5058 - val_acc: 0.7574\n",
      "Epoch 9/10\n",
      "20000/20000 [==============================] - 1s - loss: 0.3333 - acc: 0.8582 - val_loss: 0.5122 - val_acc: 0.7524\n",
      "Epoch 10/10\n",
      "20000/20000 [==============================] - 1s - loss: 0.3197 - acc: 0.8669 - val_loss: 0.5182 - val_acc: 0.7548\n"
     ]
    }
   ],
   "source": [
    "from keras.models import Sequential\n",
    "from keras.layers import Flatten, Dense\n",
    "model = Sequential()\n",
    "# We specify the maximum input length to our Embedding layer\n",
    "# so we can later flatten the embedded inputs\n",
    "model.add(Embedding(10000, 8, input_length=maxlen))\n",
    "# After the Embedding layer, our activations have shape `(samples, maxlen, 8)`\n",
    "# Flatten the 3D tensor of embeddings into a 2D tensor of shape `(samples, maxlen * 8)`\n",
    "model.add(Flatten())\n",
    "# Add the classifier on top\n",
    "model.add(Dense(1, activation='sigmoid'))\n",
    "model.compile(optimizer='rmsprop', loss='binary_crossentropy', metrics=['acc'])\n",
    "model.summary()\n",
    "history = model.fit(x_train, y_train,\n",
    "                    epochs=10,\n",
    "                    batch_size=32,\n",
    "                    validation_split=0.2)"
   ]
  },
  {
   "cell_type": "code",
   "execution_count": 20,
   "metadata": {
    "collapsed": false
   },
   "outputs": [
    {
     "name": "stdout",
     "output_type": "stream",
     "text": [
      "Loading data...\n",
      "(25000, 'train sequences')\n",
      "(25000, 'test sequences')\n",
      "Pad sequences (samples x time)\n",
      "('input_train shape:', (25000, 500))\n",
      "('input_test shape:', (25000, 500))\n"
     ]
    }
   ],
   "source": [
    "from  keras.layers import SimpleRNN\n",
    "from keras.models import Sequential\n",
    "\n",
    "max_features = 10000  # number of words to consider as features\n",
    "maxlen = 500  # cut texts after this number of words (among top max_features most common words)\n",
    "batch_size = 32\n",
    "\n",
    "print('Loading data...')\n",
    "(input_train, y_train), (input_test, y_test) = imdb.load_data(nb_words=max_features)\n",
    "print(len(input_train), 'train sequences')\n",
    "print(len(input_test), 'test sequences')\n",
    "print('Pad sequences (samples x time)')\n",
    "input_train = sequence.pad_sequences(input_train, maxlen=maxlen)\n",
    "input_test = sequence.pad_sequences(input_test, maxlen=maxlen)\n",
    "print('input_train shape:', input_train.shape)\n",
    "print('input_test shape:', input_test.shape)"
   ]
  },
  {
   "cell_type": "code",
   "execution_count": 21,
   "metadata": {
    "collapsed": false
   },
   "outputs": [
    {
     "name": "stdout",
     "output_type": "stream",
     "text": [
      "Train on 20000 samples, validate on 5000 samples\n",
      "Epoch 1/8\n",
      "20000/20000 [==============================] - 33s - loss: 0.6576 - acc: 0.6001 - val_loss: 0.7177 - val_acc: 0.5362\n",
      "Epoch 2/8\n",
      "20000/20000 [==============================] - 36s - loss: 0.4236 - acc: 0.8206 - val_loss: 0.4580 - val_acc: 0.7914\n",
      "Epoch 3/8\n",
      "20000/20000 [==============================] - 32s - loss: 0.2923 - acc: 0.8826 - val_loss: 0.3666 - val_acc: 0.8472\n",
      "Epoch 4/8\n",
      "20000/20000 [==============================] - 32s - loss: 0.2055 - acc: 0.9227 - val_loss: 0.4738 - val_acc: 0.7870\n",
      "Epoch 5/8\n",
      "20000/20000 [==============================] - 32s - loss: 0.1464 - acc: 0.9477 - val_loss: 0.4484 - val_acc: 0.8308\n",
      "Epoch 6/8\n",
      "20000/20000 [==============================] - 32s - loss: 0.0942 - acc: 0.9684 - val_loss: 1.7280 - val_acc: 0.5814\n",
      "Epoch 7/8\n",
      "20000/20000 [==============================] - 32s - loss: 0.0807 - acc: 0.9742 - val_loss: 0.6480 - val_acc: 0.7598\n",
      "Epoch 8/8\n",
      "20000/20000 [==============================] - 33s - loss: 0.0427 - acc: 0.9872 - val_loss: 0.5870 - val_acc: 0.7986\n"
     ]
    }
   ],
   "source": [
    "from keras.layers import Dense\n",
    "\n",
    "model = Sequential()\n",
    "model.add(Embedding(max_features, 32))\n",
    "model.add(SimpleRNN(32))\n",
    "model.add(Dense(1, activation='sigmoid'))\n",
    "model.compile(optimizer='rmsprop', loss='binary_crossentropy', metrics=['acc'])\n",
    "history = model.fit(input_train, y_train, nb_epoch=8, batch_size=128, validation_split=0.2)\n"
   ]
  },
  {
   "cell_type": "code",
   "execution_count": 22,
   "metadata": {
    "collapsed": false
   },
   "outputs": [
    {
     "data": {
      "image/png": "[encoded data removed]",
      "text/plain": [
       "<matplotlib.figure.Figure at 0x7fa486f69c90>"
      ]
     },
     "metadata": {},
     "output_type": "display_data"
    },
    {
     "data": {
      "image/png": "[encoded data removed]",
      "text/plain": [
       "<matplotlib.figure.Figure at 0x7fa486f93210>"
      ]
     },
     "metadata": {},
     "output_type": "display_data"
    }
   ],
   "source": [
    "import pandas as pd\n",
    "import matplotlib.pyplot as plt \n",
    "import seaborn\n",
    "\n",
    "%matplotlib inline\n",
    "\n",
    "history_dict = history.history\n",
    "\n",
    "# history_dictをpandasnのデータフレームに変換\n",
    "d = pd.DataFrame(history_dict)\n",
    "# loss, val_lossをプロット\n",
    "d[['loss', 'val_loss']].plot()\n",
    "plt.show()\n",
    "\n",
    "d[['acc', 'val_acc']].plot()\n",
    "plt.show()"
   ]
  },
  {
   "cell_type": "code",
   "execution_count": 24,
   "metadata": {
    "collapsed": false
   },
   "outputs": [
    {
     "name": "stdout",
     "output_type": "stream",
     "text": [
      "Train on 20000 samples, validate on 5000 samples\n",
      "Epoch 1/10\n",
      "20000/20000 [==============================] - 181s - loss: 0.5529 - acc: 0.7366 - val_loss: 0.3917 - val_acc: 0.8424\n",
      "Epoch 2/10\n",
      "20000/20000 [==============================] - 178s - loss: 0.3070 - acc: 0.8762 - val_loss: 0.3548 - val_acc: 0.8478\n",
      "Epoch 3/10\n",
      "20000/20000 [==============================] - 186s - loss: 0.2414 - acc: 0.9083 - val_loss: 0.3468 - val_acc: 0.8466\n",
      "Epoch 4/10\n",
      "20000/20000 [==============================] - 194s - loss: 0.2050 - acc: 0.9249 - val_loss: 0.3181 - val_acc: 0.8852\n",
      "Epoch 5/10\n",
      "20000/20000 [==============================] - 196s - loss: 0.1837 - acc: 0.9330 - val_loss: 0.2947 - val_acc: 0.8820\n",
      "Epoch 6/10\n",
      "20000/20000 [==============================] - 165s - loss: 0.1626 - acc: 0.9411 - val_loss: 0.3284 - val_acc: 0.8526\n",
      "Epoch 7/10\n",
      "20000/20000 [==============================] - 171s - loss: 0.1506 - acc: 0.9479 - val_loss: 0.3142 - val_acc: 0.8808\n",
      "Epoch 8/10\n",
      "20000/20000 [==============================] - 176s - loss: 0.1378 - acc: 0.9503 - val_loss: 0.3504 - val_acc: 0.8858\n",
      "Epoch 9/10\n",
      "20000/20000 [==============================] - 170s - loss: 0.1269 - acc: 0.9564 - val_loss: 0.3428 - val_acc: 0.8758\n",
      "Epoch 10/10\n",
      "20000/20000 [==============================] - 168s - loss: 0.1153 - acc: 0.9602 - val_loss: 0.3337 - val_acc: 0.8708\n"
     ]
    }
   ],
   "source": [
    "from  keras.layers import LSTM\n",
    "\n",
    "model = Sequential()\n",
    "model.add(Embedding(max_features, 32))\n",
    "model.add(LSTM(32))\n",
    "model.add(Dense(1, activation='sigmoid'))\n",
    "model.compile(optimizer='rmsprop', loss='binary_crossentropy', metrics=['acc'])\n",
    "history = model.fit(input_train, y_train, nb_epoch=10, batch_size=128, validation_split=0.2)"
   ]
  },
  {
   "cell_type": "code",
   "execution_count": 25,
   "metadata": {
    "collapsed": false
   },
   "outputs": [
    {
     "data": {
      "image/png": "[encoded data removed]",
      "text/plain": [
       "<matplotlib.figure.Figure at 0x7fa4ad7a3f10>"
      ]
     },
     "metadata": {},
     "output_type": "display_data"
    },
    {
     "data": {
      "image/png": "[encoded data removed]",
      "text/plain": [
       "<matplotlib.figure.Figure at 0x7fa4840b0750>"
      ]
     },
     "metadata": {},
     "output_type": "display_data"
    }
   ],
   "source": [
    "history_dict = history.history\n",
    "\n",
    "# history_dictをpandasnのデータフレームに変換\n",
    "d = pd.DataFrame(history_dict)\n",
    "# loss, val_lossをプロット\n",
    "d[['loss', 'val_loss']].plot()\n",
    "plt.show()\n",
    "\n",
    "d[['acc', 'val_acc']].plot()\n",
    "plt.show()"
   ]
  },
  {
   "cell_type": "code",
   "execution_count": 14,
   "metadata": {
    "collapsed": false
   },
   "outputs": [
    {
     "name": "stdout",
     "output_type": "stream",
     "text": [
      "Archive:  jena_climate_2009_2016.csv.zip\n",
      "  inflating: jena_climate_2009_2016.csv  \n"
     ]
    },
    {
     "name": "stderr",
     "output_type": "stream",
     "text": [
      "--2017-07-15 07:41:46--  https://s3.amazonaws.com/keras-datasets/jena_climate_2009_2016.csv.zip\n",
      "Resolving s3.amazonaws.com (s3.amazonaws.com)... 52.216.228.83\n",
      "Connecting to s3.amazonaws.com (s3.amazonaws.com)|52.216.228.83|:443... connected.\n",
      "HTTP request sent, awaiting response... 200 OK\n",
      "Length: 13568290 (13M) [application/zip]\n",
      "Saving to: 'jena_climate_2009_2016.csv.zip'\n",
      "\n",
      "     0K .......... .......... .......... .......... ..........  0% 72.7K 3m1s\n",
      "    50K .......... .......... .......... .......... ..........  0%  244K 1m57s\n",
      "   100K .......... .......... .......... .......... ..........  1%  256K 95s\n",
      "   150K .......... .......... .......... .......... ..........  1%  356K 80s\n",
      "   200K .......... .......... .......... .......... ..........  1%  567K 68s\n",
      "   250K .......... .......... .......... .......... ..........  2%  479K 61s\n",
      "   300K .......... .......... .......... .......... ..........  2%  544K 56s\n",
      "   350K .......... .......... .......... .......... ..........  3% 3.99M 49s\n",
      "   400K .......... .......... .......... .......... ..........  3%  503K 46s\n",
      "   450K .......... .......... .......... .......... ..........  3% 1.79M 42s\n",
      "   500K .......... .......... .......... .......... ..........  4%  527K 40s\n",
      "   550K .......... .......... .......... .......... ..........  4% 1.70M 37s\n",
      "   600K .......... .......... .......... .......... ..........  4%  810K 36s\n",
      "   650K .......... .......... .......... .......... ..........  5% 3.31M 33s\n",
      "   700K .......... .......... .......... .......... ..........  5% 1.43M 31s\n",
      "   750K .......... .......... .......... .......... ..........  6%  684K 30s\n",
      "   800K .......... .......... .......... .......... ..........  6% 3.70M 29s\n",
      "   850K .......... .......... .......... .......... ..........  6%  825K 28s\n",
      "   900K .......... .......... .......... .......... ..........  7% 3.95M 26s\n",
      "   950K .......... .......... .......... .......... ..........  7% 5.17M 25s\n",
      "  1000K .......... .......... .......... .......... ..........  7%  514K 25s\n",
      "  1050K .......... .......... .......... .......... ..........  8% 3.90M 24s\n",
      "  1100K .......... .......... .......... .......... ..........  8%  778K 23s\n",
      "  1150K .......... .......... .......... .......... ..........  9% 2.78M 23s\n",
      "  1200K .......... .......... .......... .......... ..........  9% 6.49M 22s\n",
      "  1250K .......... .......... .......... .......... ..........  9%  540K 22s\n",
      "  1300K .......... .......... .......... .......... .......... 10% 5.45M 21s\n",
      "  1350K .......... .......... .......... .......... .......... 10%  741K 21s\n",
      "  1400K .......... .......... .......... .......... .......... 10% 4.52M 20s\n",
      "  1450K .......... .......... .......... .......... .......... 11% 5.88M 19s\n",
      "  1500K .......... .......... .......... .......... .......... 11%  573K 19s\n",
      "  1550K .......... .......... .......... .......... .......... 12% 2.99M 19s\n",
      "  1600K .......... .......... .......... .......... .......... 12% 1.00M 18s\n",
      "  1650K .......... .......... .......... .......... .......... 12% 2.10M 18s\n",
      "  1700K .......... .......... .......... .......... .......... 13% 4.95M 17s\n",
      "  1750K .......... .......... .......... .......... .......... 13% 2.74M 17s\n",
      "  1800K .......... .......... .......... .......... .......... 13%  686K 17s\n",
      "  1850K .......... .......... .......... .......... .......... 14% 3.43M 16s\n",
      "  1900K .......... .......... .......... .......... .......... 14% 5.97M 16s\n",
      "  1950K .......... .......... .......... .......... .......... 15%  515K 16s\n",
      "  2000K .......... .......... .......... .......... .......... 15% 3.23M 16s\n",
      "  2050K .......... .......... .......... .......... .......... 15% 5.26M 15s\n",
      "  2100K .......... .......... .......... .......... .......... 16%  199K 16s\n",
      "  2150K .......... .......... .......... .......... .......... 16% 5.02M 16s\n",
      "  2200K .......... .......... .......... .......... .......... 16% 6.11M 15s\n",
      "  2250K .......... .......... .......... .......... .......... 17% 5.64M 15s\n",
      "  2300K .......... .......... .......... .......... .......... 17% 7.23M 15s\n",
      "  2350K .......... .......... .......... .......... .......... 18% 8.02M 14s\n",
      "  2400K .......... .......... .......... .......... .......... 18% 8.19M 14s\n",
      "  2450K .......... .......... .......... .......... .......... 18% 7.97M 14s\n",
      "  2500K .......... .......... .......... .......... .......... 19% 7.00M 13s\n",
      "  2550K .......... .......... .......... .......... .......... 19% 8.88M 13s\n",
      "  2600K .......... .......... .......... .......... .......... 19% 9.14M 13s\n",
      "  2650K .......... .......... .......... .......... .......... 20%  778K 13s\n",
      "  2700K .......... .......... .......... .......... .......... 20% 3.02M 12s\n",
      "  2750K .......... .......... .......... .......... .......... 21% 4.15M 12s\n",
      "  2800K .......... .......... .......... .......... .......... 21% 1.35M 12s\n",
      "  2850K .......... .......... .......... .......... .......... 21% 3.38M 12s\n",
      "  2900K .......... .......... .......... .......... .......... 22% 4.83M 12s\n",
      "  2950K .......... .......... .......... .......... .......... 22%  582K 12s\n",
      "  3000K .......... .......... .......... .......... .......... 23%  959K 12s\n",
      "  3050K .......... .......... .......... .......... .......... 23% 4.76M 11s\n",
      "  3100K .......... .......... .......... .......... .......... 23% 1.90M 11s\n",
      "  3150K .......... .......... .......... .......... .......... 24% 4.61M 11s\n",
      "  3200K .......... .......... .......... .......... .......... 24% 5.57M 11s\n",
      "  3250K .......... .......... .......... .......... .......... 24% 4.49M 11s\n",
      "  3300K .......... .......... .......... .......... .......... 25%  724K 11s\n",
      "  3350K .......... .......... .......... .......... .......... 25%  498K 11s\n",
      "  3400K .......... .......... .......... .......... .......... 26% 4.25M 11s\n",
      "  3450K .......... .......... .......... .......... .......... 26% 5.99M 10s\n",
      "  3500K .......... .......... .......... .......... .......... 26% 4.90M 10s\n",
      "  3550K .......... .......... .......... .......... .......... 27% 5.01M 10s\n",
      "  3600K .......... .......... .......... .......... .......... 27% 6.39M 10s\n",
      "  3650K .......... .......... .......... .......... .......... 27% 5.88M 10s\n",
      "  3700K .......... .......... .......... .......... .......... 28%  383K 10s\n",
      "  3750K .......... .......... .......... .......... .......... 28%  807K 10s\n",
      "  3800K .......... .......... .......... .......... .......... 29% 3.35M 10s\n",
      "  3850K .......... .......... .......... .......... .......... 29% 3.05M 10s\n",
      "  3900K .......... .......... .......... .......... .......... 29% 4.30M 9s\n",
      "  3950K .......... .......... .......... .......... .......... 30% 4.30M 9s\n",
      "  4000K .......... .......... .......... .......... .......... 30% 4.50M 9s\n",
      "  4050K .......... .......... .......... .......... .......... 30%  821K 9s\n",
      "  4100K .......... .......... .......... .......... .......... 31% 1.08M 9s\n",
      "  4150K .......... .......... .......... .......... .......... 31% 1.49M 9s\n",
      "  4200K .......... .......... .......... .......... .......... 32% 4.14M 9s\n",
      "  4250K .......... .......... .......... .......... .......... 32% 4.18M 9s\n",
      "  4300K .......... .......... .......... .......... .......... 32% 4.65M 9s\n",
      "  4350K .......... .......... .......... .......... .......... 33% 2.62M 8s\n",
      "  4400K .......... .......... .......... .......... .......... 33% 4.71M 8s\n",
      "  4450K .......... .......... .......... .......... .......... 33%  606K 8s\n",
      "  4500K .......... .......... .......... .......... .......... 34% 1.25M 8s\n",
      "  4550K .......... .......... .......... .......... .......... 34% 3.83M 8s\n",
      "  4600K .......... .......... .......... .......... .......... 35% 4.09M 8s\n",
      "  4650K .......... .......... .......... .......... .......... 35% 2.48M 8s\n",
      "  4700K .......... .......... .......... .......... .......... 35% 2.42M 8s\n",
      "  4750K .......... .......... .......... .......... .......... 36% 4.15M 8s\n",
      "  4800K .......... .......... .......... .......... .......... 36%  842K 8s\n",
      "  4850K .......... .......... .......... .......... .......... 36% 1.42M 8s\n",
      "  4900K .......... .......... .......... .......... .......... 37% 2.00M 8s\n",
      "  4950K .......... .......... .......... .......... .......... 37% 3.92M 8s\n",
      "  5000K .......... .......... .......... .......... .......... 38%  853K 7s\n",
      "  5050K .......... .......... .......... .......... .......... 38% 4.85M 7s\n",
      "  5100K .......... .......... .......... .......... .......... 38% 5.89M 7s\n",
      "  5150K .......... .......... .......... .......... .......... 39% 7.99M 7s\n",
      "  5200K .......... .......... .......... .......... .......... 39%  831K 7s\n",
      "  5250K .......... .......... .......... .......... .......... 39% 1.75M 7s\n",
      "  5300K .......... .......... .......... .......... .......... 40% 3.36M 7s\n",
      "  5350K .......... .......... .......... .......... .......... 40%  903K 7s\n",
      "  5400K .......... .......... .......... .......... .......... 41% 4.38M 7s\n",
      "  5450K .......... .......... .......... .......... .......... 41% 2.31M 7s\n",
      "  5500K .......... .......... .......... .......... .......... 41% 5.51M 7s\n",
      "  5550K .......... .......... .......... .......... .......... 42%  188K 7s\n",
      "  5600K .......... .......... .......... .......... .......... 42% 3.57M 7s\n",
      "  5650K .......... .......... .......... .......... .......... 43% 6.24M 7s\n",
      "  5700K .......... .......... .......... .......... .......... 43% 6.29M 7s\n",
      "  5750K .......... .......... .......... .......... .......... 43% 7.46M 7s\n",
      "  5800K .......... .......... .......... .......... .......... 44% 8.71M 7s\n",
      "  5850K .......... .......... .......... .......... .......... 44% 9.08M 6s\n",
      "  5900K .......... .......... .......... .......... .......... 44% 8.39M 6s\n",
      "  5950K .......... .......... .......... .......... .......... 45% 10.4M 6s\n",
      "  6000K .......... .......... .......... .......... .......... 45% 12.7M 6s\n",
      "  6050K .......... .......... .......... .......... .......... 46% 1.04M 6s\n",
      "  6100K .......... .......... .......... .......... .......... 46% 3.94M 6s\n",
      "  6150K .......... .......... .......... .......... .......... 46% 5.93M 6s\n",
      "  6200K .......... .......... .......... .......... .......... 47%  885K 6s\n",
      "  6250K .......... .......... .......... .......... .......... 47% 2.03M 6s\n",
      "  6300K .......... .......... .......... .......... .......... 47% 3.53M 6s\n",
      "  6350K .......... .......... .......... .......... .......... 48% 5.56M 6s\n",
      "  6400K .......... .......... .......... .......... .......... 48%  614K 6s\n",
      "  6450K .......... .......... .......... .......... .......... 49% 3.32M 6s\n",
      "  6500K .......... .......... .......... .......... .......... 49% 2.74M 6s\n",
      "  6550K .......... .......... .......... .......... .......... 49%  687K 6s\n",
      "  6600K .......... .......... .......... .......... .......... 50% 4.16M 5s\n",
      "  6650K .......... .......... .......... .......... .......... 50%  253K 6s\n",
      "  6700K .......... .......... .......... .......... .......... 50% 3.26M 6s\n",
      "  6750K .......... .......... .......... .......... .......... 51% 8.01M 5s\n",
      "  6800K .......... .......... .......... .......... .......... 51% 9.79M 5s\n",
      "  6850K .......... .......... .......... .......... .......... 52% 10.2M 5s\n",
      "  6900K .......... .......... .......... .......... .......... 52% 9.01M 5s\n",
      "  6950K .......... .......... .......... .......... .......... 52% 9.25M 5s\n",
      "  7000K .......... .......... .......... .......... .......... 53% 10.0M 5s\n",
      "  7050K .......... .......... .......... .......... .......... 53%  816K 5s\n",
      "  7100K .......... .......... .......... .......... .......... 53% 5.10M 5s\n",
      "  7150K .......... .......... .......... .......... .......... 54%  787K 5s\n",
      "  7200K .......... .......... .......... .......... .......... 54% 2.97M 5s\n",
      "  7250K .......... .......... .......... .......... .......... 55% 6.25M 5s\n",
      "  7300K .......... .......... .......... .......... .......... 55%  564K 5s\n",
      "  7350K .......... .......... .......... .......... .......... 55% 3.67M 5s\n",
      "  7400K .......... .......... .......... .......... .......... 56%  935K 5s\n",
      "  7450K .......... .......... .......... .......... .......... 56% 1.14M 5s\n",
      "  7500K .......... .......... .......... .......... .......... 56% 5.06M 5s\n",
      "  7550K .......... .......... .......... .......... .......... 57%  778K 5s\n",
      "  7600K .......... .......... .......... .......... .......... 57% 2.34M 5s\n",
      "  7650K .......... .......... .......... .......... .......... 58% 5.77M 4s\n",
      "  7700K .......... .......... .......... .......... .......... 58%  646K 4s\n",
      "  7750K .......... .......... .......... .......... .......... 58% 2.11M 4s\n",
      "  7800K .......... .......... .......... .......... .......... 59% 4.75M 4s\n",
      "  7850K .......... .......... .......... .......... .......... 59%  753K 4s\n",
      "  7900K .......... .......... .......... .......... .......... 59% 2.21M 4s\n",
      "  7950K .......... .......... .......... .......... .......... 60% 4.93M 4s\n",
      "  8000K .......... .......... .......... .......... .......... 60%  625K 4s\n",
      "  8050K .......... .......... .......... .......... .......... 61% 3.94M 4s\n",
      "  8100K .......... .......... .......... .......... .......... 61%  843K 4s\n",
      "  8150K .......... .......... .......... .......... .......... 61% 1.98M 4s\n",
      "  8200K .......... .......... .......... .......... .......... 62% 3.94M 4s\n",
      "  8250K .......... .......... .......... .......... .......... 62%  658K 4s\n",
      "  8300K .......... .......... .......... .......... .......... 63% 3.53M 4s\n",
      "  8350K .......... .......... .......... .......... .......... 63% 5.31M 4s\n",
      "  8400K .......... .......... .......... .......... .......... 63%  696K 4s\n",
      "  8450K .......... .......... .......... .......... .......... 64% 2.79M 4s\n",
      "  8500K .......... .......... .......... .......... .......... 64% 5.85M 4s\n",
      "  8550K .......... .......... .......... .......... .......... 64%  680K 4s\n",
      "  8600K .......... .......... .......... .......... .......... 65% 3.28M 4s\n",
      "  8650K .......... .......... .......... .......... .......... 65% 4.49M 4s\n",
      "  8700K .......... .......... .......... .......... .......... 66%  533K 4s\n",
      "  8750K .......... .......... .......... .......... .......... 66% 3.76M 4s\n",
      "  8800K .......... .......... .......... .......... .......... 66% 6.96M 4s\n",
      "  8850K .......... .......... .......... .......... .......... 67%  870K 3s\n",
      "  8900K .......... .......... .......... .......... .......... 67% 4.57M 3s\n",
      "  8950K .......... .......... .......... .......... .......... 67%  541K 3s\n",
      "  9000K .......... .......... .......... .......... .......... 68% 3.55M 3s\n",
      "  9050K .......... .......... .......... .......... .......... 68% 4.48M 3s\n",
      "  9100K .......... .......... .......... .......... .......... 69%  987K 3s\n",
      "  9150K .......... .......... .......... .......... .......... 69% 1.12M 3s\n",
      "  9200K .......... .......... .......... .......... .......... 69% 3.72M 3s\n",
      "  9250K .......... .......... .......... .......... .......... 70%  786K 3s\n",
      "  9300K .......... .......... .......... .......... .......... 70% 4.29M 3s\n",
      "  9350K .......... .......... .......... .......... .......... 70% 5.41M 3s\n",
      "  9400K .......... .......... .......... .......... .......... 71%  910K 3s\n",
      "  9450K .......... .......... .......... .......... .......... 71% 1.13M 3s\n",
      "  9500K .......... .......... .......... .......... .......... 72% 3.98M 3s\n",
      "  9550K .......... .......... .......... .......... .......... 72%  574K 3s\n",
      "  9600K .......... .......... .......... .......... .......... 72% 3.54M 3s\n",
      "  9650K .......... .......... .......... .......... .......... 73% 5.61M 3s\n",
      "  9700K .......... .......... .......... .......... .......... 73% 1.10M 3s\n",
      "  9750K .......... .......... .......... .......... .......... 73% 1.70M 3s\n",
      "  9800K .......... .......... .......... .......... .......... 74%  545K 3s\n",
      "  9850K .......... .......... .......... .......... .......... 74% 3.36M 3s\n",
      "  9900K .......... .......... .......... .......... .......... 75% 3.89M 3s\n",
      "  9950K .......... .......... .......... .......... .......... 75% 2.14M 3s\n",
      " 10000K .......... .......... .......... .......... .......... 75%  941K 3s\n",
      " 10050K .......... .......... .......... .......... .......... 76% 3.45M 2s\n",
      " 10100K .......... .......... .......... .......... .......... 76%  588K 2s\n",
      " 10150K .......... .......... .......... .......... .......... 76% 3.07M 2s\n",
      " 10200K .......... .......... .......... .......... .......... 77%  221K 2s\n",
      " 10250K .......... .......... .......... .......... .......... 77% 8.39M 2s\n",
      " 10300K .......... .......... .......... .......... .......... 78% 5.85M 2s\n",
      " 10350K .......... .......... .......... .......... .......... 78% 7.67M 2s\n",
      " 10400K .......... .......... .......... .......... .......... 78% 7.28M 2s\n",
      " 10450K .......... .......... .......... .......... .......... 79% 7.59M 2s\n",
      " 10500K .......... .......... .......... .......... .......... 79% 6.60M 2s\n",
      " 10550K .......... .......... .......... .......... .......... 79% 6.30M 2s\n",
      " 10600K .......... .......... .......... .......... .......... 80%  474K 2s\n",
      " 10650K .......... .......... .......... .......... .......... 80% 2.55M 2s\n",
      " 10700K .......... .......... .......... .......... .......... 81% 4.75M 2s\n",
      " 10750K .......... .......... .......... .......... .......... 81% 4.91M 2s\n",
      " 10800K .......... .......... .......... .......... .......... 81%  748K 2s\n",
      " 10850K .......... .......... .......... .......... .......... 82%  499K 2s\n",
      " 10900K .......... .......... .......... .......... .......... 82% 2.54M 2s\n",
      " 10950K .......... .......... .......... .......... .......... 83% 5.11M 2s\n",
      " 11000K .......... .......... .......... .......... .......... 83% 5.30M 2s\n",
      " 11050K .......... .......... .......... .......... .......... 83%  993K 2s\n",
      " 11100K .......... .......... .......... .......... .......... 84%  441K 2s\n",
      " 11150K .......... .......... .......... .......... .......... 84% 4.11M 2s\n",
      " 11200K .......... .......... .......... .......... .......... 84% 5.11M 2s\n",
      " 11250K .......... .......... .......... .......... .......... 85% 5.01M 2s\n",
      " 11300K .......... .......... .......... .......... .......... 85%  938K 1s\n",
      " 11350K .......... .......... .......... .......... .......... 86%  465K 1s\n",
      " 11400K .......... .......... .......... .......... .......... 86% 3.83M 1s\n",
      " 11450K .......... .......... .......... .......... .......... 86% 4.46M 1s\n",
      " 11500K .......... .......... .......... .......... .......... 87% 4.27M 1s\n",
      " 11550K .......... .......... .......... .......... .......... 87%  659K 1s\n",
      " 11600K .......... .......... .......... .......... .......... 87%  614K 1s\n",
      " 11650K .......... .......... .......... .......... .......... 88% 2.89M 1s\n",
      " 11700K .......... .......... .......... .......... .......... 88% 4.38M 1s\n",
      " 11750K .......... .......... .......... .......... .......... 89% 1.00M 1s\n",
      " 11800K .......... .......... .......... .......... .......... 89% 1.40M 1s\n",
      " 11850K .......... .......... .......... .......... .......... 89%  488K 1s\n",
      " 11900K .......... .......... .......... .......... .......... 90% 3.85M 1s\n",
      " 11950K .......... .......... .......... .......... .......... 90% 5.46M 1s\n",
      " 12000K .......... .......... .......... .......... .......... 90% 6.86M 1s\n",
      " 12050K .......... .......... .......... .......... .......... 91%  797K 1s\n",
      " 12100K .......... .......... .......... .......... .......... 91%  483K 1s\n",
      " 12150K .......... .......... .......... .......... .......... 92% 4.03M 1s\n",
      " 12200K .......... .......... .......... .......... .......... 92% 3.20M 1s\n",
      " 12250K .......... .......... .......... .......... .......... 92% 4.15M 1s\n",
      " 12300K .......... .......... .......... .......... .......... 93%  764K 1s\n",
      " 12350K .......... .......... .......... .......... .......... 93%  334K 1s\n",
      " 12400K .......... .......... .......... .......... .......... 93% 3.00M 1s\n",
      " 12450K .......... .......... .......... .......... .......... 94%  236K 1s\n",
      " 12500K .......... .......... .......... .......... .......... 94% 2.64M 1s\n",
      " 12550K .......... .......... .......... .......... .......... 95% 7.10M 1s\n",
      " 12600K .......... .......... .......... .......... .......... 95% 7.03M 0s\n",
      " 12650K .......... .......... .......... .......... .......... 95% 9.04M 0s\n",
      " 12700K .......... .......... .......... .......... .......... 96% 10.3M 0s\n",
      " 12750K .......... .......... .......... .......... .......... 96%  538K 0s\n",
      " 12800K .......... .......... .......... .......... .......... 96%  759K 0s\n",
      " 12850K .......... .......... .......... .......... .......... 97% 1.67M 0s\n",
      " 12900K .......... .......... .......... .......... .......... 97% 4.74M 0s\n",
      " 12950K .......... .......... .......... .......... .......... 98%  606K 0s\n",
      " 13000K .......... .......... .......... .......... .......... 98%  741K 0s\n",
      " 13050K .......... .......... .......... .......... .......... 98% 1.42M 0s\n",
      " 13100K .......... .......... .......... .......... .......... 99% 5.71M 0s\n",
      " 13150K .......... .......... .......... .......... .......... 99%  547K 0s\n",
      " 13200K .......... .......... .......... .......... .......... 99% 1.97M 0s\n",
      " 13250K                                                       100%  540G=11s\n",
      "\n",
      "2017-07-15 07:41:58 (1.22 MB/s) - 'jena_climate_2009_2016.csv.zip' saved [13568290/13568290]\n",
      "\n"
     ]
    }
   ],
   "source": [
    "%%bash\n",
    "cd Downloads\n",
    "mkdir jena_climate\n",
    "cd jena_climate\n",
    "wget https://s3.amazonaws.com/keras-datasets/jena_climate_2009_2016.csv.zip\n",
    "unzip jena_climate_2009_2016.csv.zip"
   ]
  },
  {
   "cell_type": "code",
   "execution_count": 1,
   "metadata": {
    "collapsed": false
   },
   "outputs": [
    {
     "name": "stdout",
     "output_type": "stream",
     "text": [
      "['\"Date Time\"', '\"p (mbar)\"', '\"T (degC)\"', '\"Tpot (K)\"', '\"Tdew (degC)\"', '\"rh (%)\"', '\"VPmax (mbar)\"', '\"VPact (mbar)\"', '\"VPdef (mbar)\"', '\"sh (g/kg)\"', '\"H2OC (mmol/mol)\"', '\"rho (g/m**3)\"', '\"wv (m/s)\"', '\"max. wv (m/s)\"', '\"wd (deg)\"']\n",
      "420551\n"
     ]
    }
   ],
   "source": [
    "import os\n",
    "data_dir = 'Downloads/jena_climate'\n",
    "fname = os.path.join(data_dir, 'jena_climate_2009_2016.csv')\n",
    "f = open(fname)\n",
    "data = f.read()\n",
    "f.close()\n",
    "lines = data.split('\\n')\n",
    "header = lines[0].split(',')\n",
    "lines = lines[1:]\n",
    "print(header)\n",
    "print(len(lines))"
   ]
  },
  {
   "cell_type": "code",
   "execution_count": 2,
   "metadata": {
    "collapsed": true
   },
   "outputs": [],
   "source": [
    "import numpy as np\n",
    "float_data = np.zeros((len(lines), len(header) - 1))\n",
    "for i, line in enumerate(lines):\n",
    "    values = [float(x) for x in line.split(',')[1:]]\n",
    "    float_data[i, :] = values"
   ]
  },
  {
   "cell_type": "code",
   "execution_count": 3,
   "metadata": {
    "collapsed": false
   },
   "outputs": [
    {
     "data": {
      "text/plain": [
       "[<matplotlib.lines.Line2D at 0x7f78d4d385d0>]"
      ]
     },
     "execution_count": 3,
     "metadata": {},
     "output_type": "execute_result"
    },
    {
     "data": {
      "image/png": "[encoded data removed]",
      "text/plain": [
       "<matplotlib.figure.Figure at 0x7f78d4ea4c50>"
      ]
     },
     "metadata": {},
     "output_type": "display_data"
    }
   ],
   "source": [
    "import pandas as pd\n",
    "import matplotlib.pyplot as plt \n",
    "import seaborn\n",
    "%matplotlib inline\n",
    "\n",
    "temp = float_data[:, 1]  # temperature (in degrees Celsius)\n",
    "plt.plot(range(len(temp)), temp)"
   ]
  },
  {
   "cell_type": "code",
   "execution_count": 4,
   "metadata": {
    "collapsed": false
   },
   "outputs": [
    {
     "data": {
      "text/plain": [
       "[<matplotlib.lines.Line2D at 0x7f78d3578cd0>]"
      ]
     },
     "execution_count": 4,
     "metadata": {},
     "output_type": "execute_result"
    },
    {
     "data": {
      "image/png": "[encoded data removed]",
      "text/plain": [
       "<matplotlib.figure.Figure at 0x7f7905301810>"
      ]
     },
     "metadata": {},
     "output_type": "display_data"
    }
   ],
   "source": [
    "plt.plot(range(1440), temp[:1440])"
   ]
  },
  {
   "cell_type": "markdown",
   "metadata": {},
   "source": [
    "データの正規化"
   ]
  },
  {
   "cell_type": "code",
   "execution_count": 5,
   "metadata": {
    "collapsed": true
   },
   "outputs": [],
   "source": [
    "mean = float_data[:200000].mean(axis=0)\n",
    "float_data -= mean\n",
    "std = float_data[:200000].std(axis=0)\n",
    "float_data /= std"
   ]
  },
  {
   "cell_type": "code",
   "execution_count": 6,
   "metadata": {
    "collapsed": true
   },
   "outputs": [],
   "source": [
    "def generator(data, lookback, delay, min_index, max_index,\n",
    "              shuffle=False, batch_size=128, step=6):\n",
    "    if max_index is None:\n",
    "        max_index = len(data) - delay - 1\n",
    "    i = min_index + lookback\n",
    "    while 1:\n",
    "        if shuffle:\n",
    "            rows = np.random.randint(min_index + lookback, max_index, size=batch_size)\n",
    "        else:\n",
    "            if i + batch_size >= max_index:\n",
    "                i = min_index + lookback\n",
    "            rows = np.arange(i, min(i + batch_size, max_index))\n",
    "            i += len(rows)\n",
    "        samples = np.zeros((len(rows), lookback // step, data.shape[-1]))\n",
    "        targets = np.zeros((len(rows),))\n",
    "        for j, row in enumerate(rows):\n",
    "            indices = range(rows[j] - lookback, rows[j], step)\n",
    "            samples[j] = data[indices]\n",
    "            targets[j] = data[rows[j] + delay][1]\n",
    "        yield samples, targets"
   ]
  },
  {
   "cell_type": "markdown",
   "metadata": {},
   "source": [
    "データは10分間隔で測定された温度データ\n",
    "- loopback = 720 : ５日分のデータ\n",
    "- steps = 6 : １時間の６データ数\n",
    "- delay = 144 : ２４時間後の温度を予測"
   ]
  },
  {
   "cell_type": "code",
   "execution_count": 14,
   "metadata": {
    "collapsed": true
   },
   "outputs": [],
   "source": [
    "lookback = 1440\n",
    "step = 6\n",
    "delay = 144\n",
    "batch_size = 128\n",
    "\n",
    "train_gen = generator(float_data, lookback=lookback, delay=delay,\n",
    "    min_index=0, max_index=200000, shuffle=True, step=step,\n",
    "batch_size=batch_size)\n",
    "val_gen = generator(float_data, lookback=lookback, delay=delay,\n",
    "    min_index=200001, max_index=300000, step=step, batch_size=batch_size)\n",
    "test_gen = generator(float_data, lookback=lookback, delay=delay,\n",
    "    min_index=300001, max_index=None, step=step, batch_size=batch_size)\n",
    "# This is how many steps to draw from `val_gen` in order to see the whole validation set:\n",
    "val_steps = (300000 - 200001 - lookback) // batch_size\n",
    "# This is how many steps to draw from `test_gen` in order to see the whole test set:\n",
    "test_steps = (len(float_data) - 300001 - lookback) // batch_size"
   ]
  },
  {
   "cell_type": "code",
   "execution_count": 15,
   "metadata": {
    "collapsed": false
   },
   "outputs": [
    {
     "name": "stdout",
     "output_type": "stream",
     "text": [
      "0.289735972991\n"
     ]
    }
   ],
   "source": [
    "def evaluate_naive_method():\n",
    "    batch_maes = []\n",
    "    for step in range(val_steps):\n",
    "        samples, targets = next(val_gen)\n",
    "        preds = samples[:, -1, 1]\n",
    "        mae = np.mean(np.abs(preds - targets))\n",
    "        batch_maes.append(mae)\n",
    "    print(np.mean(batch_maes))\n",
    "evaluate_naive_method()"
   ]
  },
  {
   "cell_type": "code",
   "execution_count": 16,
   "metadata": {
    "collapsed": true
   },
   "outputs": [],
   "source": [
    "celsius_mae = 0.29 * std[1]"
   ]
  },
  {
   "cell_type": "code",
   "execution_count": 17,
   "metadata": {
    "collapsed": false
   },
   "outputs": [
    {
     "data": {
      "text/plain": [
       "2.5672247338393395"
      ]
     },
     "execution_count": 17,
     "metadata": {},
     "output_type": "execute_result"
    }
   ],
   "source": [
    "celsius_mae"
   ]
  },
  {
   "cell_type": "markdown",
   "metadata": {},
   "source": [
    "単純なニューラルネットモデルで、どの程度予測できるか見てみる。\n",
    "\n",
    "以下の結果は図6.18とは大きく異なる結果となっている。"
   ]
  },
  {
   "cell_type": "code",
   "execution_count": 18,
   "metadata": {
    "collapsed": false
   },
   "outputs": [
    {
     "name": "stdout",
     "output_type": "stream",
     "text": [
      "Epoch 1/20\n",
      "500/500 [==============================] - 13s - loss: 1.8228 - val_loss: 1.1467\n",
      "Epoch 2/20\n",
      "500/500 [==============================] - 13s - loss: 1.4039 - val_loss: 2.0780\n",
      "Epoch 3/20\n",
      "500/500 [==============================] - 13s - loss: 3.1643 - val_loss: 4.6592\n",
      "Epoch 4/20\n",
      "500/500 [==============================] - 12s - loss: 6.5291 - val_loss: 5.9072\n",
      "Epoch 5/20\n",
      "500/500 [==============================] - 12s - loss: 10.6773 - val_loss: 15.8527\n",
      "Epoch 6/20\n",
      "500/500 [==============================] - 11s - loss: 15.3495 - val_loss: 18.8217\n",
      "Epoch 7/20\n",
      "500/500 [==============================] - 11s - loss: 20.0555 - val_loss: 29.2959\n",
      "Epoch 8/20\n",
      "500/500 [==============================] - 12s - loss: 24.8096 - val_loss: 19.2993\n",
      "Epoch 9/20\n",
      "500/500 [==============================] - 12s - loss: 29.8820 - val_loss: 26.0697\n",
      "Epoch 10/20\n",
      "500/500 [==============================] - 12s - loss: 34.9356 - val_loss: 30.9325\n",
      "Epoch 11/20\n",
      "500/500 [==============================] - 12s - loss: 39.6692 - val_loss: 54.1092\n",
      "Epoch 12/20\n",
      "500/500 [==============================] - 12s - loss: 44.7078 - val_loss: 53.9539\n",
      "Epoch 13/20\n",
      "500/500 [==============================] - 11s - loss: 49.5438 - val_loss: 29.9209\n",
      "Epoch 14/20\n",
      "500/500 [==============================] - 11s - loss: 54.2989 - val_loss: 86.8137\n",
      "Epoch 15/20\n",
      "500/500 [==============================] - 12s - loss: 59.0245 - val_loss: 73.1270\n",
      "Epoch 16/20\n",
      "500/500 [==============================] - 12s - loss: 63.8793 - val_loss: 96.4103\n",
      "Epoch 17/20\n",
      "500/500 [==============================] - 11s - loss: 68.6370 - val_loss: 6.3241\n",
      "Epoch 18/20\n",
      "500/500 [==============================] - 12s - loss: 74.3662 - val_loss: 51.7965\n",
      "Epoch 19/20\n",
      "500/500 [==============================] - 13s - loss: 78.8554 - val_loss: 102.2837\n",
      "Epoch 20/20\n",
      "500/500 [==============================] - 13s - loss: 84.1538 - val_loss: 45.6256\n"
     ]
    }
   ],
   "source": [
    "from keras.models import Sequential\n",
    "from keras import layers\n",
    "from keras.optimizers import RMSprop\n",
    "\n",
    "model = Sequential()\n",
    "model.add(layers.Flatten(input_shape=(lookback // step, float_data.shape[-1])))\n",
    "model.add(layers.Dense(32, activation='relu'))\n",
    "model.add(layers.Dense(1))\n",
    "model.compile(optimizer=RMSprop(), loss='mae')\n",
    "history = model.fit_generator(train_gen,\n",
    "                              steps_per_epoch=500,\n",
    "                              epochs=20,\n",
    "                              validation_data=val_gen,\n",
    "                              validation_steps=val_steps)"
   ]
  },
  {
   "cell_type": "code",
   "execution_count": 8,
   "metadata": {
    "collapsed": true
   },
   "outputs": [],
   "source": [
    "def plot_history(history):\n",
    "    loss = history.history['loss']\n",
    "    val_loss = history.history['val_loss']\n",
    "    epochs = range(len(loss))\n",
    "\n",
    "    dict = {'loss':loss,  'val_loss': val_loss}\n",
    "    d = pd.DataFrame(dict)\n",
    "\n",
    "    d.plot()\n",
    "    plt.title('Training and validation loss')\n",
    "    plt.show()"
   ]
  },
  {
   "cell_type": "code",
   "execution_count": 24,
   "metadata": {
    "collapsed": false
   },
   "outputs": [
    {
     "data": {
      "image/png": "[encoded data removed]",
      "text/plain": [
       "<matplotlib.figure.Figure at 0x7f57c34a6c90>"
      ]
     },
     "metadata": {},
     "output_type": "display_data"
    }
   ],
   "source": [
    "plot_history(history)"
   ]
  },
  {
   "cell_type": "markdown",
   "metadata": {},
   "source": [
    "リカレントモデルで解く"
   ]
  },
  {
   "cell_type": "code",
   "execution_count": 23,
   "metadata": {
    "collapsed": false
   },
   "outputs": [
    {
     "name": "stdout",
     "output_type": "stream",
     "text": [
      "Epoch 1/20\n",
      "500/500 [==============================] - 267s - loss: 0.3043 - val_loss: 0.2725\n",
      "Epoch 2/20\n",
      "500/500 [==============================] - 272s - loss: 0.2850 - val_loss: 0.2770\n",
      "Epoch 3/20\n",
      "500/500 [==============================] - 286s - loss: 0.2793 - val_loss: 0.2664\n",
      "Epoch 4/20\n",
      "500/500 [==============================] - 267s - loss: 0.2741 - val_loss: 0.2643\n",
      "Epoch 5/20\n",
      "500/500 [==============================] - 263s - loss: 0.2674 - val_loss: 0.2684\n",
      "Epoch 6/20\n",
      "500/500 [==============================] - 263s - loss: 0.2642 - val_loss: 0.2695\n",
      "Epoch 7/20\n",
      "500/500 [==============================] - 264s - loss: 0.2587 - val_loss: 0.2708\n",
      "Epoch 8/20\n",
      "500/500 [==============================] - 263s - loss: 0.2551 - val_loss: 0.2699\n",
      "Epoch 9/20\n",
      "500/500 [==============================] - 261s - loss: 0.2495 - val_loss: 0.2718\n",
      "Epoch 10/20\n",
      "500/500 [==============================] - 262s - loss: 0.2453 - val_loss: 0.2732\n",
      "Epoch 11/20\n",
      "500/500 [==============================] - 257s - loss: 0.2415 - val_loss: 0.2772\n",
      "Epoch 12/20\n",
      "500/500 [==============================] - 256s - loss: 0.2370 - val_loss: 0.2790\n",
      "Epoch 13/20\n",
      "500/500 [==============================] - 256s - loss: 0.2327 - val_loss: 0.2806\n",
      "Epoch 14/20\n",
      "500/500 [==============================] - 256s - loss: 0.2298 - val_loss: 0.2820\n",
      "Epoch 15/20\n",
      "500/500 [==============================] - 259s - loss: 0.2263 - val_loss: 0.2837\n",
      "Epoch 16/20\n",
      "500/500 [==============================] - 283s - loss: 0.2234 - val_loss: 0.2903\n",
      "Epoch 17/20\n",
      "500/500 [==============================] - 278s - loss: 0.2200 - val_loss: 0.2876\n",
      "Epoch 18/20\n",
      "500/500 [==============================] - 283s - loss: 0.2168 - val_loss: 0.2964\n",
      "Epoch 19/20\n",
      "500/500 [==============================] - 273s - loss: 0.2129 - val_loss: 0.2899\n",
      "Epoch 20/20\n",
      "500/500 [==============================] - 263s - loss: 0.2095 - val_loss: 0.3016\n"
     ]
    }
   ],
   "source": [
    "model = Sequential()\n",
    "model.add(layers.GRU(32, input_shape=(None, float_data.shape[-1])))\n",
    "model.add(layers.Dense(1))\n",
    "model.compile(optimizer=RMSprop(), loss='mae')\n",
    "history = model.fit_generator(train_gen,\n",
    "                              steps_per_epoch=500,\n",
    "                              epochs=20,\n",
    "                              validation_data=val_gen,\n",
    "                              validation_steps=val_steps)"
   ]
  },
  {
   "cell_type": "markdown",
   "metadata": {},
   "source": [
    "オーバーフィッティングの兆候として、トレーニングのlossは減少を続けているが、\n",
    "val_lossは、最初の数エポックで最小となり、その後val_lossはだんだんと増加する傾向が見られる。"
   ]
  },
  {
   "cell_type": "code",
   "execution_count": 25,
   "metadata": {
    "collapsed": false,
    "scrolled": true
   },
   "outputs": [
    {
     "data": {
      "image/png": "[encoded data removed]",
      "text/plain": [
       "<matplotlib.figure.Figure at 0x7f57c31cee10>"
      ]
     },
     "metadata": {},
     "output_type": "display_data"
    }
   ],
   "source": [
    "plot_history(history)"
   ]
  },
  {
   "cell_type": "code",
   "execution_count": 26,
   "metadata": {
    "collapsed": false
   },
   "outputs": [
    {
     "name": "stdout",
     "output_type": "stream",
     "text": [
      "Epoch 1/20\n",
      "500/500 [==============================] - 285s - loss: 0.3406 - val_loss: 0.2766\n",
      "Epoch 2/20\n",
      "500/500 [==============================] - 291s - loss: 0.3130 - val_loss: 0.2770\n",
      "Epoch 3/20\n",
      "500/500 [==============================] - 289s - loss: 0.3068 - val_loss: 0.2689\n",
      "Epoch 4/20\n",
      "500/500 [==============================] - 297s - loss: 0.3054 - val_loss: 0.2718\n",
      "Epoch 5/20\n",
      "500/500 [==============================] - 286s - loss: 0.3010 - val_loss: 0.2674\n",
      "Epoch 6/20\n",
      "500/500 [==============================] - 305s - loss: 0.2957 - val_loss: 0.2661\n",
      "Epoch 7/20\n",
      "500/500 [==============================] - 284s - loss: 0.2933 - val_loss: 0.2697\n",
      "Epoch 8/20\n",
      "500/500 [==============================] - 282s - loss: 0.2934 - val_loss: 0.2651\n",
      "Epoch 9/20\n",
      "500/500 [==============================] - 287s - loss: 0.2912 - val_loss: 0.2669\n",
      "Epoch 10/20\n",
      "500/500 [==============================] - 289s - loss: 0.2904 - val_loss: 0.2682\n",
      "Epoch 11/20\n",
      "500/500 [==============================] - 290s - loss: 0.2872 - val_loss: 0.2672\n",
      "Epoch 12/20\n",
      "500/500 [==============================] - 308s - loss: 0.2863 - val_loss: 0.2628\n",
      "Epoch 13/20\n",
      "500/500 [==============================] - 300s - loss: 0.2853 - val_loss: 0.2640\n",
      "Epoch 14/20\n",
      "500/500 [==============================] - 288s - loss: 0.2841 - val_loss: 0.2658\n",
      "Epoch 15/20\n",
      "500/500 [==============================] - 282s - loss: 0.2835 - val_loss: 0.2634\n",
      "Epoch 16/20\n",
      "500/500 [==============================] - 292s - loss: 0.2825 - val_loss: 0.2655\n",
      "Epoch 17/20\n",
      "500/500 [==============================] - 283s - loss: 0.2813 - val_loss: 0.2650\n",
      "Epoch 18/20\n",
      "500/500 [==============================] - 297s - loss: 0.2804 - val_loss: 0.2635\n",
      "Epoch 19/20\n",
      "500/500 [==============================] - 298s - loss: 0.2800 - val_loss: 0.2658\n",
      "Epoch 20/20\n",
      "500/500 [==============================] - 296s - loss: 0.2788 - val_loss: 0.2658\n"
     ]
    }
   ],
   "source": [
    "# epochsは20にした\n",
    "model = Sequential()\n",
    "model.add(layers.GRU(32,\n",
    "                     dropout=0.2,\n",
    "                     recurrent_dropout=0.2,\n",
    "                     input_shape=(None, float_data.shape[-1])))\n",
    "model.add(layers.Dense(1))\n",
    "model.compile(optimizer=RMSprop(), loss='mae')\n",
    "history_dp = model.fit_generator(train_gen,\n",
    "                              steps_per_epoch=500,\n",
    "                              epochs=20,\n",
    "                              validation_data=val_gen,\n",
    "                              validation_steps=val_steps)"
   ]
  },
  {
   "cell_type": "code",
   "execution_count": 29,
   "metadata": {
    "collapsed": false
   },
   "outputs": [
    {
     "data": {
      "image/png": "[encoded data removed]",
      "text/plain": [
       "<matplotlib.figure.Figure at 0x7f57c28e99d0>"
      ]
     },
     "metadata": {},
     "output_type": "display_data"
    }
   ],
   "source": [
    "plot_history(history_dp)"
   ]
  },
  {
   "cell_type": "markdown",
   "metadata": {},
   "source": [
    "### リカレント層のスタッキング\n",
    "\n",
    "kerasでリカレント層をスタックする場合、すべての内部状態を返す必要がある。このため、return_sequences=Trueオプションを指定する。"
   ]
  },
  {
   "cell_type": "code",
   "execution_count": 30,
   "metadata": {
    "collapsed": false
   },
   "outputs": [
    {
     "name": "stdout",
     "output_type": "stream",
     "text": [
      "Epoch 1/20\n",
      "500/500 [==============================] - 874s - loss: 0.3460 - val_loss: 0.2941\n",
      "Epoch 2/20\n",
      "500/500 [==============================] - 837s - loss: 0.3232 - val_loss: 0.2780\n",
      "Epoch 3/20\n",
      "500/500 [==============================] - 2138s - loss: 0.3144 - val_loss: 0.2765\n",
      "Epoch 4/20\n",
      "500/500 [==============================] - 847s - loss: 0.3107 - val_loss: 0.2841\n",
      "Epoch 5/20\n",
      "500/500 [==============================] - 815s - loss: 0.3040 - val_loss: 0.2700\n",
      "Epoch 6/20\n",
      "500/500 [==============================] - 809s - loss: 0.3001 - val_loss: 0.2799\n",
      "Epoch 7/20\n",
      "500/500 [==============================] - 813s - loss: 0.2958 - val_loss: 0.2796\n",
      "Epoch 8/20\n",
      "500/500 [==============================] - 819s - loss: 0.2918 - val_loss: 0.2779\n",
      "Epoch 9/20\n",
      "500/500 [==============================] - 811s - loss: 0.2906 - val_loss: 0.2711\n",
      "Epoch 10/20\n",
      "500/500 [==============================] - 910s - loss: 0.2867 - val_loss: 0.2899\n",
      "Epoch 11/20\n",
      "500/500 [==============================] - 900s - loss: 0.2853 - val_loss: 0.2808\n",
      "Epoch 12/20\n",
      "500/500 [==============================] - 937s - loss: 0.2822 - val_loss: 0.2901\n",
      "Epoch 13/20\n",
      "500/500 [==============================] - 877s - loss: 0.2827 - val_loss: 0.2857\n",
      "Epoch 14/20\n",
      "500/500 [==============================] - 857s - loss: 0.2806 - val_loss: 0.2702\n",
      "Epoch 15/20\n",
      "500/500 [==============================] - 817s - loss: 0.2794 - val_loss: 0.2952\n",
      "Epoch 16/20\n",
      "500/500 [==============================] - 907s - loss: 0.2747 - val_loss: 0.2737\n",
      "Epoch 17/20\n",
      "500/500 [==============================] - 889s - loss: 0.2734 - val_loss: 0.2696\n",
      "Epoch 18/20\n",
      "500/500 [==============================] - 873s - loss: 0.2725 - val_loss: 0.2680\n",
      "Epoch 19/20\n",
      "500/500 [==============================] - 852s - loss: 0.2720 - val_loss: 0.2937\n",
      "Epoch 20/20\n",
      "500/500 [==============================] - 846s - loss: 0.2708 - val_loss: 0.2745\n"
     ]
    }
   ],
   "source": [
    "# epochsは20にした\n",
    "# １層の場合との比較のため、dropout=0.2, recurrent_dropout=0.2に変更\n",
    "model = Sequential()\n",
    "model.add(layers.GRU(32,\n",
    "                     dropout=0.2,\n",
    "                     recurrent_dropout=0.2,\n",
    "                     return_sequences=True,\n",
    "                     input_shape=(None, float_data.shape[-1])))\n",
    "model.add(layers.GRU(64, activation='relu',\n",
    "                     dropout=0.2,\n",
    "                     recurrent_dropout=0.2))\n",
    "model.add(layers.Dense(1))\n",
    "model.compile(optimizer=RMSprop(), loss='mae')\n",
    "history_stacked_dp = model.fit_generator(train_gen,\n",
    "                              steps_per_epoch=500,\n",
    "                              epochs=20,\n",
    "                              validation_data=val_gen,\n",
    "                              validation_steps=val_steps)"
   ]
  },
  {
   "cell_type": "code",
   "execution_count": 31,
   "metadata": {
    "collapsed": false
   },
   "outputs": [
    {
     "data": {
      "image/png": "[encoded data removed]",
      "text/plain": [
       "<matplotlib.figure.Figure at 0x7f57c28e9950>"
      ]
     },
     "metadata": {},
     "output_type": "display_data"
    }
   ],
   "source": [
    "plot_history(history_dp)"
   ]
  },
  {
   "cell_type": "markdown",
   "metadata": {},
   "source": [
    "### bi-derectional RNN\n",
    "以下のコードはエラーとなった！"
   ]
  },
  {
   "cell_type": "code",
   "execution_count": 56,
   "metadata": {
    "collapsed": false
   },
   "outputs": [
    {
     "ename": "ValueError",
     "evalue": "The first layer in a Sequential model must get an `input_shape` or `batch_input_shape` argument.",
     "output_type": "error",
     "traceback": [
      "\u001b[0;31m\u001b[0m",
      "\u001b[0;31mValueError\u001b[0mTraceback (most recent call last)",
      "\u001b[0;32m<ipython-input-56-be7c7319eff1>\u001b[0m in \u001b[0;36m<module>\u001b[0;34m()\u001b[0m\n\u001b[1;32m      1\u001b[0m \u001b[0mmodel\u001b[0m \u001b[0;34m=\u001b[0m \u001b[0mSequential\u001b[0m\u001b[0;34m(\u001b[0m\u001b[0;34m)\u001b[0m\u001b[0;34m\u001b[0m\u001b[0m\n\u001b[1;32m      2\u001b[0m model.add(layers.Bidirectional(\n\u001b[0;32m----> 3\u001b[0;31m         layers.GRU(32, input_shape=(None, float_data.shape[-1]))))\n\u001b[0m\u001b[1;32m      4\u001b[0m \u001b[0mmodel\u001b[0m\u001b[0;34m.\u001b[0m\u001b[0madd\u001b[0m\u001b[0;34m(\u001b[0m\u001b[0mlayers\u001b[0m\u001b[0;34m.\u001b[0m\u001b[0mDense\u001b[0m\u001b[0;34m(\u001b[0m\u001b[0;36m1\u001b[0m\u001b[0;34m)\u001b[0m\u001b[0;34m)\u001b[0m\u001b[0;34m\u001b[0m\u001b[0m\n\u001b[1;32m      5\u001b[0m \u001b[0mmodel\u001b[0m\u001b[0;34m.\u001b[0m\u001b[0mcompile\u001b[0m\u001b[0;34m(\u001b[0m\u001b[0moptimizer\u001b[0m\u001b[0;34m=\u001b[0m\u001b[0mRMSprop\u001b[0m\u001b[0;34m(\u001b[0m\u001b[0;34m)\u001b[0m\u001b[0;34m,\u001b[0m \u001b[0mloss\u001b[0m\u001b[0;34m=\u001b[0m\u001b[0;34m'mae'\u001b[0m\u001b[0;34m)\u001b[0m\u001b[0;34m\u001b[0m\u001b[0m\n",
      "\u001b[0;32m/usr/lib/sagemath/local/lib/python2.7/site-packages/keras/models.pyc\u001b[0m in \u001b[0;36madd\u001b[0;34m(self, layer)\u001b[0m\n\u001b[1;32m    421\u001b[0m                 \u001b[0;31m# create an input layer\u001b[0m\u001b[0;34m\u001b[0m\u001b[0;34m\u001b[0m\u001b[0m\n\u001b[1;32m    422\u001b[0m                 \u001b[0;32mif\u001b[0m \u001b[0;32mnot\u001b[0m \u001b[0mhasattr\u001b[0m\u001b[0;34m(\u001b[0m\u001b[0mlayer\u001b[0m\u001b[0;34m,\u001b[0m \u001b[0;34m'batch_input_shape'\u001b[0m\u001b[0;34m)\u001b[0m\u001b[0;34m:\u001b[0m\u001b[0;34m\u001b[0m\u001b[0m\n\u001b[0;32m--> 423\u001b[0;31m                     raise ValueError('The first layer in a '\n\u001b[0m\u001b[1;32m    424\u001b[0m                                      \u001b[0;34m'Sequential model must '\u001b[0m\u001b[0;34m\u001b[0m\u001b[0m\n\u001b[1;32m    425\u001b[0m                                      \u001b[0;34m'get an `input_shape` or '\u001b[0m\u001b[0;34m\u001b[0m\u001b[0m\n",
      "\u001b[0;31mValueError\u001b[0m: The first layer in a Sequential model must get an `input_shape` or `batch_input_shape` argument."
     ]
    }
   ],
   "source": [
    "model = Sequential()\n",
    "model.add(layers.Bidirectional(\n",
    "        layers.GRU(32, input_shape=(None, float_data.shape[-1]))))\n",
    "model.add(layers.Dense(1))\n",
    "model.compile(optimizer=RMSprop(), loss='mae')\n",
    "history_dp = model.fit_generator(train_gen_rev,\n",
    "                              steps_per_epoch=500,\n",
    "                              epochs=20,\n",
    "                              validation_data=val_gen_rev,\n",
    "                              validation_steps=val_steps)"
   ]
  },
  {
   "cell_type": "markdown",
   "metadata": {
    "collapsed": true
   },
   "source": [
    "## 1D CNNとRNNの連携\n"
   ]
  },
  {
   "cell_type": "code",
   "execution_count": 7,
   "metadata": {
    "collapsed": true
   },
   "outputs": [],
   "source": [
    "# We reuse the `generator` function defined at the previous section.\n",
    "# This was previously set to 6 (one point per hour).\n",
    "# Now 3 (one point per 30 min).\n",
    "step = 3\n",
    "lookback = 720  # Unchanged\n",
    "delay = 144 # Unchanged\n",
    "train_gen = generator(float_data, lookback=lookback, delay=delay,\n",
    "    min_index=0, max_index=200000, shuffle=True, step=step)\n",
    "val_gen = generator(float_data, lookback=lookback, delay=delay,\n",
    "    min_index=200001, max_index=300000, step=step)\n",
    "test_gen = generator(float_data, lookback=lookback, delay=delay,\n",
    "    min_index=300001, max_index=None, step=step)\n",
    "val_steps = (300000 - 200001 - lookback) // 128\n",
    "test_steps = (len(float_data) - 300001 - lookback) // 128"
   ]
  },
  {
   "cell_type": "code",
   "execution_count": 10,
   "metadata": {
    "collapsed": false
   },
   "outputs": [
    {
     "name": "stdout",
     "output_type": "stream",
     "text": [
      "_________________________________________________________________\n",
      "Layer (type)                 Output Shape              Param #   \n",
      "=================================================================\n",
      "conv1d_3 (Conv1D)            (None, None, 32)          2272      \n",
      "_________________________________________________________________\n",
      "max_pooling1d_2 (MaxPooling1 (None, None, 32)          0         \n",
      "_________________________________________________________________\n",
      "conv1d_4 (Conv1D)            (None, None, 32)          5152      \n",
      "_________________________________________________________________\n",
      "gru_2 (GRU)                  (None, 32)                6240      \n",
      "_________________________________________________________________\n",
      "dense_2 (Dense)              (None, 1)                 33        \n",
      "=================================================================\n",
      "Total params: 13,697\n",
      "Trainable params: 13,697\n",
      "Non-trainable params: 0\n",
      "_________________________________________________________________\n",
      "Epoch 1/20\n",
      "500/500 [==============================] - 165s - loss: 0.3441 - val_loss: 0.2901\n",
      "Epoch 2/20\n",
      "500/500 [==============================] - 162s - loss: 0.3092 - val_loss: 0.2984\n",
      "Epoch 3/20\n",
      "500/500 [==============================] - 165s - loss: 0.3013 - val_loss: 0.2815\n",
      "Epoch 4/20\n",
      "500/500 [==============================] - 180s - loss: 0.2907 - val_loss: 0.2725\n",
      "Epoch 5/20\n",
      "500/500 [==============================] - 167s - loss: 0.2867 - val_loss: 0.2717\n",
      "Epoch 6/20\n",
      "500/500 [==============================] - 166s - loss: 0.2793 - val_loss: 0.2817\n",
      "Epoch 7/20\n",
      "500/500 [==============================] - 162s - loss: 0.2746 - val_loss: 0.2805\n",
      "Epoch 8/20\n",
      "500/500 [==============================] - 167s - loss: 0.2709 - val_loss: 0.2781\n",
      "Epoch 9/20\n",
      "500/500 [==============================] - 174s - loss: 0.2651 - val_loss: 0.2800\n",
      "Epoch 10/20\n",
      "500/500 [==============================] - 173s - loss: 0.2597 - val_loss: 0.2888\n",
      "Epoch 11/20\n",
      "500/500 [==============================] - 167s - loss: 0.2560 - val_loss: 0.2859\n",
      "Epoch 12/20\n",
      "500/500 [==============================] - 153s - loss: 0.2513 - val_loss: 0.2909\n",
      "Epoch 13/20\n",
      "500/500 [==============================] - 166s - loss: 0.2484 - val_loss: 0.2950\n",
      "Epoch 14/20\n",
      "500/500 [==============================] - 171s - loss: 0.2455 - val_loss: 0.2897\n",
      "Epoch 15/20\n",
      "500/500 [==============================] - 175s - loss: 0.2416 - val_loss: 0.2913\n",
      "Epoch 16/20\n",
      "500/500 [==============================] - 167s - loss: 0.2372 - val_loss: 0.2945\n",
      "Epoch 17/20\n",
      "500/500 [==============================] - 163s - loss: 0.2358 - val_loss: 0.3052\n",
      "Epoch 18/20\n",
      "500/500 [==============================] - 166s - loss: 0.2336 - val_loss: 0.3068\n",
      "Epoch 19/20\n",
      "500/500 [==============================] - 175s - loss: 0.2308 - val_loss: 0.3063\n",
      "Epoch 20/20\n",
      "500/500 [==============================] - 176s - loss: 0.2285 - val_loss: 0.3097\n"
     ]
    }
   ],
   "source": [
    "from keras.models import Sequential\n",
    "from keras import layers\n",
    "from keras.optimizers import RMSprop\n",
    "model = Sequential()\n",
    "model.add(layers.Conv1D(32, 5, activation='relu',\n",
    "                        input_shape=(None, float_data.shape[-1])))\n",
    "model.add(layers.MaxPooling1D(3))\n",
    "model.add(layers.Conv1D(32, 5, activation='relu'))\n",
    "model.add(layers.GRU(32, dropout=0.1, recurrent_dropout=0.5))\n",
    "model.add(layers.Dense(1))\n",
    "model.summary()\n",
    "model.compile(optimizer=RMSprop(), loss='mae')\n",
    "history = model.fit_generator(train_gen,\n",
    "                              steps_per_epoch=500,\n",
    "                              epochs=20,\n",
    "                              validation_data=val_gen,\n",
    "                              validation_steps=val_steps)"
   ]
  },
  {
   "cell_type": "code",
   "execution_count": 11,
   "metadata": {
    "collapsed": false
   },
   "outputs": [
    {
     "data": {
      "image/png": "[encoded data removed]",
      "text/plain": [
       "<matplotlib.figure.Figure at 0x7f78c5698a50>"
      ]
     },
     "metadata": {},
     "output_type": "display_data"
    }
   ],
   "source": [
    "plot_history(history)"
   ]
  },
  {
   "cell_type": "code",
   "execution_count": null,
   "metadata": {
    "collapsed": true
   },
   "outputs": [],
   "source": []
  }
 ],
 "metadata": {
  "kernelspec": {
   "display_name": "Python 2",
   "language": "python",
   "name": "python2"
  },
  "language_info": {
   "codemirror_mode": {
    "name": "ipython",
    "version": 2
   },
   "file_extension": ".py",
   "mimetype": "text/x-python",
   "name": "python",
   "nbconvert_exporter": "python",
   "pygments_lexer": "ipython2",
   "version": "2.7.13"
  }
 },
 "nbformat": 4,
 "nbformat_minor": 0
}
