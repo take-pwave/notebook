{
 "cells": [
  {
   "cell_type": "markdown",
   "metadata": {},
   "source": [
    "## Deep Learning with Python ３章勉強ノート（その２）\n",
    "ManningのMEAP（出版前の本のできた部分から読めるサービス）でTensorFlowとTheanoの両方に対応したラッパーツールkerasの作者Francois Chollet氏の「Deep Learning with Python」が発売されました。\n",
    "\n",
    "３章では、機械学習でよく使われる以下の手法をニューラルネットワークを使って実現する方法を紹介しています。\n",
    "- 二値分類（binary classification）\n",
    "- マルチクラス分類(multi-class classification)\n",
    "- 線形回帰(regression)\n",
    "\n",
    "ここでは、マルチクラス分類をSageのjupyterノートブックで試しながら、Deep Learningへの理解を深めたいと思います。"
   ]
  },
  {
   "cell_type": "markdown",
   "metadata": {},
   "source": [
    "### 前準備\n",
    "jupyterノートブックで使用するnumpy、pandas、seabornとmatplotlibをインポートします。"
   ]
  },
  {
   "cell_type": "code",
   "execution_count": 1,
   "metadata": {
    "collapsed": false
   },
   "outputs": [],
   "source": [
    "import numpy as np\n",
    "import pandas as pd\n",
    "import seaborn\n",
    "import matplotlib.pyplot as plt \n",
    "\n",
    "%matplotlib inline"
   ]
  },
  {
   "cell_type": "markdown",
   "metadata": {},
   "source": [
    "次に、kerasで使うパッケージをインポートします。"
   ]
  },
  {
   "cell_type": "code",
   "execution_count": 2,
   "metadata": {
    "collapsed": false
   },
   "outputs": [
    {
     "name": "stderr",
     "output_type": "stream",
     "text": [
      "Using TensorFlow backend.\n"
     ]
    }
   ],
   "source": [
    "from keras.models import Sequential\n",
    "from keras.layers import Dense\n",
    "from keras.utils.np_utils import to_categorical\n"
   ]
  },
  {
   "cell_type": "markdown",
   "metadata": {},
   "source": [
    "## 使用するデータについて\n",
    "kerasで用意されているロイター記事のデータセットを使用します。\n",
    "\n",
    "このデータセットは、11,228個のロイターのニュースワイヤーを46のトピックにラベル付けしたもので、内部表現形式はIMDMと同じです。"
   ]
  },
  {
   "cell_type": "code",
   "execution_count": 3,
   "metadata": {
    "collapsed": false
   },
   "outputs": [],
   "source": [
    "from keras.datasets import reuters\n",
    "(train_data, train_labels), (test_data, test_labels) = reuters.load_data(nb_words=10000)"
   ]
  },
  {
   "cell_type": "code",
   "execution_count": 4,
   "metadata": {
    "collapsed": false
   },
   "outputs": [
    {
     "name": "stdout",
     "output_type": "stream",
     "text": [
      "8982 2246\n"
     ]
    }
   ],
   "source": [
    "print len(train_data), len(test_data)"
   ]
  },
  {
   "cell_type": "code",
   "execution_count": 5,
   "metadata": {
    "collapsed": false
   },
   "outputs": [
    {
     "name": "stdout",
     "output_type": "stream",
     "text": [
      "[   1  245  273  207  156   53   74  160   26   14   46  296   26   39   74\n",
      " 2979 3554   14   46 4689 4329   86   61 3499 4795   14   61  451 4329   17\n",
      "   12]\n"
     ]
    }
   ],
   "source": [
    "print np.array(train_data[10]).flatten()"
   ]
  },
  {
   "cell_type": "code",
   "execution_count": 6,
   "metadata": {
    "collapsed": false
   },
   "outputs": [
    {
     "name": "stdout",
     "output_type": "stream",
     "text": [
      "[3, 4, 3, 4, 4, 4, 4, 3, 3, 16] 45\n"
     ]
    }
   ],
   "source": [
    "print train_labels[:10], max(train_labels)"
   ]
  },
  {
   "cell_type": "markdown",
   "metadata": {},
   "source": [
    "IMDB同様、元の単語を知るために辞書をロードします。"
   ]
  },
  {
   "cell_type": "code",
   "execution_count": 7,
   "metadata": {
    "collapsed": false
   },
   "outputs": [],
   "source": [
    "word_index = reuters.get_word_index()\n",
    "reverse_word_index = dict([(value, key) for (key, value) in word_index.items()])\n",
    "# note that our indices were offset by 3\n",
    "# because 0, 1 and 2 are reserved indices for \"padding\", \"start of sequence\", and \"unknown\".\n",
    "decoded_newswire = ' '.join([reverse_word_index.get(i - 3, '?') for i in train_data[0]])"
   ]
  },
  {
   "cell_type": "code",
   "execution_count": 8,
   "metadata": {
    "collapsed": false
   },
   "outputs": [
    {
     "name": "stdout",
     "output_type": "stream",
     "text": [
      "['the', 'federal', 'gain', 'only', 'growth', 'lt', 'they', 'meeting', 'year', 'reuter', 'company', 'did', 'year', 'an', 'they', 'ground', 'edouard', 'reuter', 'company', '608', '653', '1987', 'had', 'autumn', 'objectives', 'reuter', 'had', 'profits', '653', 'pct', 'dlrs']\n"
     ]
    }
   ],
   "source": [
    "print [reverse_word_index[idx] for idx in train_data[10]]"
   ]
  },
  {
   "cell_type": "markdown",
   "metadata": {},
   "source": [
    "### データのベクトル化\n",
    "IMDBと同様に、単語のインデックスを、インデックスが含まれている場合１、それ以外は０の長さ10000のベクトルに変えます。 それをすべてのニュースワイヤーに適応してニュースワイヤー数x１００００のマトリックスを作ります。\n",
    "\n",
    "ラベルも長さ４６のベクトルのインデックスに対応する箇所が１で他は０のone-hot形式に変換します。"
   ]
  },
  {
   "cell_type": "code",
   "execution_count": 9,
   "metadata": {
    "collapsed": true
   },
   "outputs": [],
   "source": [
    "def vectorize_sequences(sequences, dimension=10000):\n",
    "    results = np.zeros((len(sequences), dimension))\n",
    "    for i, sequence in enumerate(sequences):\n",
    "        results[i, sequence] = 1.\n",
    "    return results"
   ]
  },
  {
   "cell_type": "code",
   "execution_count": 10,
   "metadata": {
    "collapsed": true
   },
   "outputs": [],
   "source": [
    "# our vectorized training data\n",
    "x_train = vectorize_sequences(train_data)\n",
    "# our vectorized test data\n",
    "x_test = vectorize_sequences(test_data)"
   ]
  },
  {
   "cell_type": "code",
   "execution_count": 11,
   "metadata": {
    "collapsed": false
   },
   "outputs": [],
   "source": [
    "one_hot_train_labels = to_categorical(train_labels)\n",
    "one_hot_test_labels = to_categorical(test_labels)"
   ]
  },
  {
   "cell_type": "markdown",
   "metadata": {},
   "source": [
    "## モデルの作成\n",
    "隠しユニットを64持つ２層のニューラルネットの後に長さ46、活性化関数softmax（複数のカテゴリに属する確率）の層を追加します。\n",
    "\n",
    "IMDBとの違いは、損失関数loss=categorical_crossentropyを使っているところです。"
   ]
  },
  {
   "cell_type": "code",
   "execution_count": 12,
   "metadata": {
    "collapsed": false
   },
   "outputs": [],
   "source": [
    "model = Sequential()\n",
    "model.add(Dense(64, activation='relu', input_dim=10000))\n",
    "model.add(Dense(64, activation='relu'))\n",
    "model.add(Dense(46, activation='softmax'))"
   ]
  },
  {
   "cell_type": "code",
   "execution_count": 13,
   "metadata": {
    "collapsed": true
   },
   "outputs": [],
   "source": [
    "model.compile(optimizer='rmsprop', loss='categorical_crossentropy',\n",
    "              metrics=['accuracy'])"
   ]
  },
  {
   "cell_type": "code",
   "execution_count": 14,
   "metadata": {
    "collapsed": true
   },
   "outputs": [],
   "source": [
    "x_val = x_train[:1000]\n",
    "partial_x_train = x_train[1000:]\n",
    "y_val = one_hot_train_labels[:1000]\n",
    "partial_y_train = one_hot_train_labels[1000:]"
   ]
  },
  {
   "cell_type": "code",
   "execution_count": 15,
   "metadata": {
    "collapsed": false
   },
   "outputs": [
    {
     "name": "stdout",
     "output_type": "stream",
     "text": [
      "Train on 7982 samples, validate on 1000 samples\n",
      "Epoch 1/20\n",
      "7982/7982 [==============================] - 1s - loss: 2.6517 - acc: 0.4744 - val_loss: 1.7180 - val_acc: 0.6390\n",
      "Epoch 2/20\n",
      "7982/7982 [==============================] - 1s - loss: 1.4278 - acc: 0.7028 - val_loss: 1.2764 - val_acc: 0.7120\n",
      "Epoch 3/20\n",
      "7982/7982 [==============================] - 1s - loss: 1.0549 - acc: 0.7761 - val_loss: 1.1031 - val_acc: 0.7650\n",
      "Epoch 4/20\n",
      "7982/7982 [==============================] - 1s - loss: 0.8360 - acc: 0.8212 - val_loss: 1.0090 - val_acc: 0.7700\n",
      "Epoch 5/20\n",
      "7982/7982 [==============================] - 1s - loss: 0.6691 - acc: 0.8558 - val_loss: 0.9429 - val_acc: 0.8040\n",
      "Epoch 6/20\n",
      "7982/7982 [==============================] - 1s - loss: 0.5345 - acc: 0.8899 - val_loss: 0.9156 - val_acc: 0.8040\n",
      "Epoch 7/20\n",
      "7982/7982 [==============================] - 1s - loss: 0.4339 - acc: 0.9107 - val_loss: 0.8833 - val_acc: 0.8190\n",
      "Epoch 8/20\n",
      "7982/7982 [==============================] - 1s - loss: 0.3509 - acc: 0.9275 - val_loss: 0.9177 - val_acc: 0.8030\n",
      "Epoch 9/20\n",
      "7982/7982 [==============================] - 1s - loss: 0.2895 - acc: 0.9381 - val_loss: 0.8864 - val_acc: 0.8110\n",
      "Epoch 10/20\n",
      "7982/7982 [==============================] - 1s - loss: 0.2444 - acc: 0.9454 - val_loss: 0.9043 - val_acc: 0.8190\n",
      "Epoch 11/20\n",
      "7982/7982 [==============================] - 1s - loss: 0.2108 - acc: 0.9493 - val_loss: 0.9370 - val_acc: 0.8160\n",
      "Epoch 12/20\n",
      "7982/7982 [==============================] - 1s - loss: 0.1837 - acc: 0.9526 - val_loss: 0.9133 - val_acc: 0.8260\n",
      "Epoch 13/20\n",
      "7982/7982 [==============================] - 2s - loss: 0.1676 - acc: 0.9533 - val_loss: 0.9350 - val_acc: 0.8090\n",
      "Epoch 14/20\n",
      "7982/7982 [==============================] - 1s - loss: 0.1519 - acc: 0.9562 - val_loss: 0.9720 - val_acc: 0.8060\n",
      "Epoch 15/20\n",
      "7982/7982 [==============================] - 1s - loss: 0.1375 - acc: 0.9560 - val_loss: 0.9794 - val_acc: 0.8220\n",
      "Epoch 16/20\n",
      "7982/7982 [==============================] - 1s - loss: 0.1316 - acc: 0.9562 - val_loss: 1.0404 - val_acc: 0.8080\n",
      "Epoch 17/20\n",
      "7982/7982 [==============================] - 1s - loss: 0.1237 - acc: 0.9588 - val_loss: 1.0125 - val_acc: 0.8090\n",
      "Epoch 18/20\n",
      "7982/7982 [==============================] - 1s - loss: 0.1203 - acc: 0.9575 - val_loss: 1.0405 - val_acc: 0.8120\n",
      "Epoch 19/20\n",
      "7982/7982 [==============================] - 1s - loss: 0.1147 - acc: 0.9582 - val_loss: 1.1169 - val_acc: 0.7960\n",
      "Epoch 20/20\n",
      "7982/7982 [==============================] - 1s - loss: 0.1124 - acc: 0.9604 - val_loss: 1.0723 - val_acc: 0.8050\n"
     ]
    }
   ],
   "source": [
    "history = model.fit(partial_x_train, partial_y_train, nb_epoch=20, batch_size=512,\n",
    "                    validation_data=(x_val, y_val))"
   ]
  },
  {
   "cell_type": "markdown",
   "metadata": {},
   "source": [
    "## 収束の様子を可視化\n",
    "モデルの収束の様子をpandasのグラフ機能を使って可視化します。"
   ]
  },
  {
   "cell_type": "code",
   "execution_count": 16,
   "metadata": {
    "collapsed": false
   },
   "outputs": [
    {
     "data": {
      "image/png": "[encoded data removed]",
      "text/plain": [
       "<matplotlib.figure.Figure at 0x7f3939627110>"
      ]
     },
     "metadata": {},
     "output_type": "display_data"
    }
   ],
   "source": [
    "d = pd.DataFrame(history.history)\n",
    "ax = d[['loss', 'val_loss']].plot()\n",
    "ax.set_xlabel('Epochs')\n",
    "ax.set_ylabel('Loss')\n",
    "plt.show()"
   ]
  },
  {
   "cell_type": "code",
   "execution_count": 17,
   "metadata": {
    "collapsed": false
   },
   "outputs": [
    {
     "data": {
      "image/png": "[encoded data removed]",
      "text/plain": [
       "<matplotlib.figure.Figure at 0x7f396de53490>"
      ]
     },
     "metadata": {},
     "output_type": "display_data"
    }
   ],
   "source": [
    "d = pd.DataFrame(history.history)\n",
    "ax = d[['acc', 'val_acc']].plot()\n",
    "ax.set_xlabel('Epochs')\n",
    "ax.set_ylabel('Accuracy')\n",
    "plt.show()"
   ]
  },
  {
   "cell_type": "markdown",
   "metadata": {},
   "source": [
    "## テストデータの予測\n",
    "損失関数のグラフからエポック数=9を過ぎた時点から検証用の損失関数が増加するため、エポック数を9として、モデルを作り直します。\n",
    "\n",
    "求まったモデルを使ってテスト用データのトピックインデックスを求めてみましょう。"
   ]
  },
  {
   "cell_type": "code",
   "execution_count": 18,
   "metadata": {
    "collapsed": false
   },
   "outputs": [
    {
     "name": "stdout",
     "output_type": "stream",
     "text": [
      "Train on 8982 samples, validate on 2246 samples\n",
      "Epoch 1/9\n",
      "8982/8982 [==============================] - 2s - loss: 2.4271 - acc: 0.5480 - val_loss: 1.6239 - val_acc: 0.6687\n",
      "Epoch 2/9\n",
      "8982/8982 [==============================] - 1s - loss: 1.3094 - acc: 0.7239 - val_loss: 1.3306 - val_acc: 0.7070\n",
      "Epoch 3/9\n",
      "8982/8982 [==============================] - 1s - loss: 0.9930 - acc: 0.7828 - val_loss: 1.1544 - val_acc: 0.7551\n",
      "Epoch 4/9\n",
      "8982/8982 [==============================] - 1s - loss: 0.7817 - acc: 0.8369 - val_loss: 1.0513 - val_acc: 0.7711\n",
      "Epoch 5/9\n",
      "8982/8982 [==============================] - 1s - loss: 0.6183 - acc: 0.8705 - val_loss: 0.9927 - val_acc: 0.7747\n",
      "Epoch 6/9\n",
      "8982/8982 [==============================] - 1s - loss: 0.4919 - acc: 0.8984 - val_loss: 0.9587 - val_acc: 0.7912\n",
      "Epoch 7/9\n",
      "8982/8982 [==============================] - 1s - loss: 0.3928 - acc: 0.9159 - val_loss: 0.9594 - val_acc: 0.7858\n",
      "Epoch 8/9\n",
      "8982/8982 [==============================] - 1s - loss: 0.3225 - acc: 0.9305 - val_loss: 0.9449 - val_acc: 0.7930\n",
      "Epoch 9/9\n",
      "8982/8982 [==============================] - 1s - loss: 0.2693 - acc: 0.9398 - val_loss: 0.9552 - val_acc: 0.7907\n",
      "2208/2246 [============================>.] - ETA: 0s"
     ]
    }
   ],
   "source": [
    "model = Sequential()\n",
    "model.add(Dense(64, activation='relu', input_dim=10000))\n",
    "model.add(Dense(64, activation='relu'))\n",
    "model.add(Dense(46, activation='softmax'))\n",
    "model.compile(optimizer='rmsprop', loss='categorical_crossentropy',\n",
    "              metrics=['accuracy'])\n",
    "model.fit(x_train, one_hot_train_labels, nb_epoch=9, batch_size=512,\n",
    "          validation_data=(x_test, one_hot_test_labels))\n",
    "results = model.evaluate(x_test, one_hot_test_labels)"
   ]
  },
  {
   "cell_type": "code",
   "execution_count": 19,
   "metadata": {
    "collapsed": false
   },
   "outputs": [
    {
     "data": {
      "text/plain": [
       "[0.95519519149460963, 0.7907390917186109]"
      ]
     },
     "execution_count": 19,
     "metadata": {},
     "output_type": "execute_result"
    }
   ],
   "source": [
    "results"
   ]
  },
  {
   "cell_type": "markdown",
   "metadata": {},
   "source": [
    "### 予測結果\n",
    "精度は、79%となりました。各ニュースワイヤーのトピックはどのように求まったのか、ちょっと見てみましょう。\n",
    "\n",
    "predictionsは、行がニュースワイヤ数、列が４６のマトリックスとして返されます。\n",
    "softmaxによる最初のニュースワイヤの予測値をみると、トピック３が最大で、予測値のsumは１になっているのが分かります。"
   ]
  },
  {
   "cell_type": "code",
   "execution_count": 20,
   "metadata": {
    "collapsed": false
   },
   "outputs": [],
   "source": [
    "predictions = model.predict(x_test)"
   ]
  },
  {
   "cell_type": "code",
   "execution_count": 21,
   "metadata": {
    "collapsed": false
   },
   "outputs": [
    {
     "name": "stdout",
     "output_type": "stream",
     "text": [
      "(2246, 46)\n",
      "[  7.53664153e-06   1.34718081e-04   1.99637834e-05   9.55809236e-01\n",
      "   3.79515737e-02   4.32788420e-06   1.25317129e-05   5.83551855e-06\n",
      "   1.48489734e-03   2.70062424e-06   5.42695161e-05   1.51785876e-04\n",
      "   3.25456749e-05   3.89894194e-05   1.84202247e-04   3.13290002e-05\n",
      "   1.42355263e-03   1.32210203e-04   3.91197636e-06   9.60704172e-04\n",
      "   1.90850056e-04   2.45589297e-04   1.43316620e-05   2.46405107e-05\n",
      "   5.28965893e-06   1.81419455e-04   1.65399044e-07   8.30094723e-06\n",
      "   2.97593260e-06   4.39715586e-05   3.66236090e-05   7.43845594e-05\n",
      "   6.02972705e-06   2.41537691e-06   1.62834098e-04   1.14636341e-05\n",
      "   6.94813061e-05   4.69296392e-05   8.92769185e-06   3.87983251e-04\n",
      "   8.95249741e-07   1.60912987e-05   2.76358696e-06   6.82055486e-07\n",
      "   2.97098580e-07   7.81322615e-06]\n",
      "1.0\n",
      "3\n"
     ]
    }
   ],
   "source": [
    "# predictionsのshape\n",
    "print predictions.shape\n",
    "# 最初の予測結果\n",
    "print predictions[0]\n",
    "# 予測結果の合計（sum）\n",
    "print np.sum(predictions[0])\n",
    "# 最大値のインデックス\n",
    "print np.argmax(predictions[0])"
   ]
  },
  {
   "cell_type": "markdown",
   "metadata": {},
   "source": [
    "数値で見ると分かりづらいですが、グラフにプロットすると、３がダントツだと分かります。"
   ]
  },
  {
   "cell_type": "code",
   "execution_count": 22,
   "metadata": {
    "collapsed": false
   },
   "outputs": [
    {
     "data": {
      "image/png": "[encoded data removed]",
      "text/plain": [
       "<matplotlib.figure.Figure at 0x7f39017deb90>"
      ]
     },
     "metadata": {},
     "output_type": "display_data"
    }
   ],
   "source": [
    "plt.plot(predictions[0])\n",
    "plt.show()"
   ]
  },
  {
   "cell_type": "markdown",
   "metadata": {},
   "source": [
    "求まった精度がどの程度のものなのか、知るためにランダムに選択した場合の、精度を計算してみましょう。\n",
    "\n",
    "およそ18％となり、これに対して79%は結構いけてる言えるでしょう。"
   ]
  },
  {
   "cell_type": "code",
   "execution_count": 23,
   "metadata": {
    "collapsed": false
   },
   "outputs": [
    {
     "data": {
      "text/plain": [
       "0.18655387355298308"
      ]
     },
     "execution_count": 23,
     "metadata": {},
     "output_type": "execute_result"
    }
   ],
   "source": [
    "import copy\n",
    "\n",
    "test_labels_copy = copy.copy(test_labels)\n",
    "np.random.shuffle(test_labels_copy)\n",
    "float(np.sum(np.array(test_labels) == np.array(test_labels_copy))) / len(test_labels)\n",
    "0.18655387355298308"
   ]
  },
  {
   "cell_type": "markdown",
   "metadata": {},
   "source": [
    "## Scikit-LearnのSVCで試す\n",
    "Scikit-Learnのサポートベクターマシーン（SVM）のカテゴリ版SVCを使って、どの程度の精度が出るか試してみます。\n",
    "\n",
    "学習に要する時間は、MacBookAirのdocker（２GB,　２CPU）で３０分程度かかりました。時間をかけた割には精度は77%なのでちょっと残念でした。"
   ]
  },
  {
   "cell_type": "code",
   "execution_count": 12,
   "metadata": {
    "collapsed": false
   },
   "outputs": [],
   "source": [
    "from sklearn.datasets import load_digits\n",
    "from sklearn.multiclass import OneVsRestClassifier\n",
    "from sklearn.svm import SVC\n",
    "import sklearn.metrics as metrics"
   ]
  },
  {
   "cell_type": "code",
   "execution_count": 13,
   "metadata": {
    "collapsed": true
   },
   "outputs": [],
   "source": [
    "C = 1.\n",
    "kernel = 'rbf'\n",
    "gamma  = 0.01"
   ]
  },
  {
   "cell_type": "code",
   "execution_count": 23,
   "metadata": {
    "collapsed": false
   },
   "outputs": [
    {
     "data": {
      "text/plain": [
       "SVC(C=1.0, cache_size=200, class_weight=None, coef0=0.0,\n",
       "  decision_function_shape=None, degree=3, gamma=0.01, kernel='rbf',\n",
       "  max_iter=-1, probability=False, random_state=None, shrinking=True,\n",
       "  tol=0.001, verbose=False)"
      ]
     },
     "execution_count": 23,
     "metadata": {},
     "output_type": "execute_result"
    }
   ],
   "source": [
    "classifier = SVC(C=C, kernel=kernel, gamma=gamma)\n",
    "classifier.fit(x_train, train_labels)"
   ]
  },
  {
   "cell_type": "code",
   "execution_count": 25,
   "metadata": {
    "collapsed": true
   },
   "outputs": [],
   "source": [
    "predicted = classifier.predict(x_test)"
   ]
  },
  {
   "cell_type": "code",
   "execution_count": 26,
   "metadata": {
    "collapsed": false
   },
   "outputs": [
    {
     "name": "stdout",
     "output_type": "stream",
     "text": [
      "[ 3 16  1 16 13  3  3  3  3  3] [3, 10, 1, 4, 4, 3, 3, 3, 3, 3]\n"
     ]
    }
   ],
   "source": [
    "print predicted[:10], test_labels[:10]"
   ]
  },
  {
   "cell_type": "code",
   "execution_count": 27,
   "metadata": {
    "collapsed": false
   },
   "outputs": [
    {
     "name": "stdout",
     "output_type": "stream",
     "text": [
      "[[ 7  2  0 ...,  0  0  0]\n",
      " [ 0 86  0 ...,  0  0  0]\n",
      " [ 0  6  9 ...,  0  0  0]\n",
      " ..., \n",
      " [ 0  0  0 ...,  2  0  0]\n",
      " [ 0  1  0 ...,  0  4  0]\n",
      " [ 0  0  0 ...,  0  0  1]]\n",
      "0.773820124666\n"
     ]
    }
   ],
   "source": [
    "print metrics.confusion_matrix(test_labels, predicted)\n",
    "print metrics.accuracy_score(test_labels, predicted)"
   ]
  },
  {
   "cell_type": "code",
   "execution_count": null,
   "metadata": {
    "collapsed": true
   },
   "outputs": [],
   "source": []
  }
 ],
 "metadata": {
  "kernelspec": {
   "display_name": "Python 2",
   "language": "python",
   "name": "python2"
  },
  "language_info": {
   "codemirror_mode": {
    "name": "ipython",
    "version": 2
   },
   "file_extension": ".py",
   "mimetype": "text/x-python",
   "name": "python",
   "nbconvert_exporter": "python",
   "pygments_lexer": "ipython2",
   "version": "2.7.13"
  }
 },
 "nbformat": 4,
 "nbformat_minor": 0
}
