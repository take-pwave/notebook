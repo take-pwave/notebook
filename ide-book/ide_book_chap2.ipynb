{
 "cells": [
  {
   "cell_type": "markdown",
   "metadata": {},
   "source": [
    "<html>\n",
    "\t<author>Hiroshi TAKEMOTO</author>\n",
    "\t(<email>take.pwave@gmail.com</email>)\n",
    "\n",
    "\t<h1>入門機械学習による異常検出</h1>\n",
    "\t<p>\n",
    "\t\t井出　剛著の「入門機械学習による異常検出」(以降、井出本と記す)の例題をSageを使ってお復習いします。\n",
    "\t</p>\n",
    "</html>\n",
    "\n",
    "<html>\n",
    "\t<h2>2章　正規分布に従うデータからの異常検出</h2>\n",
    "\t<p>\n",
    "\t\t井出本の基本は、データに対するモデルを使って負の対数尤度を求め、それを異常検出関数として使うことです。\n",
    "\t</p>\n",
    "\t<h3>多変数正規分布に基づく異常検知</h3>\n",
    "\t<p>\n",
    "\t\tM次元、N個の観測データ$\\mathcal{D}$が以下の様な多次元正規分布に従っていると、仮定します。\n",
    "$$\n",
    "\t\\mathcal{N}(x|\\mu, \\Sigma) = \\frac{|\\Sigma|^{-1/2}}{(2 \\pi )^{M/2}} exp \\left \\{ -\\frac{1}{2}(x - \\mu)^T \\Sigma^{-1} (x - \\mu) \\right \\}\n",
    "$$\t\t\n",
    "\t</p>\n",
    "\t<p>\n",
    "\t\t対数尤度は、以下の様に計算されます。\n",
    "$$\n",
    "\tL(\\mu, \\Sigma | \\mathcal{D}) = ln \\prod_{n=1}^{N} \\mathcal{N} (x^{(n)} | \\mu, \\Sigma) = \\sum_{n=1}^N ln \\mathcal{N} (x^{(n)} | \\mu, \\Sigma)\n",
    "$$\t\t\n",
    "\t</p>\n",
    "\t<p>\n",
    "\t\tこれに多次元正規分布$\\mathcal{N}$の定義を代入すると、対数尤度Lは以下の様になります。\n",
    "$$\n",
    "\tL(\\mu, \\Sigma | \\mathcal{D}) = -\\frac{M N}{2}ln(2 \\pi) - \\frac{N}{2} ln | \\Sigma | \n",
    "\t\t-\\frac{1}{2} \\sum_{n=1}^N (x^{(n)} - \\mu)^T \\Sigma^{-1} (x^{(n)} - \\mu)\n",
    "$$\t\t\n",
    "\t\t\n",
    "\t</p>\n",
    "\t<p>\n",
    "\t\tこれを$\\mu, \\Sigma$で偏微分して、尤度Lを最大にする$\\mu, \\Sigma$を求めます。\n",
    "\t</p>\n",
    "\t<p>\n",
    "\t\t最初にLを$\\mu$で偏微分すると、以下の様になります。\n",
    "$$\n",
    "\t\\frac{\\partial L(\\mu, \\Sigma | \\mathcal{D})}{\\partial \\mu} = \\sum_{n=1}^N \\Sigma^{-1} (x^{(n)} - \\mu)\n",
    "$$\t\t\n",
    "\t</p>\n",
    "\t<p>\n",
    "\t\t上記の式が0になる$\\hat{\\mu}$は以下の様に求まります。\n",
    "$$\n",
    "\t\\hat{\\mu} = \\frac{1}{N} \\sum_{n=1}^N x^{(n)}\n",
    "$$\t\t\n",
    "\t</p>\n",
    "\t<p>\n",
    "\t\t次に、$\\Sigma$での偏微分です。これには、以下の関係式を使います。\n",
    "$$\n",
    "\t-ln | \\Sigma | = ln | \\Sigma^{-1} |\n",
    "$$\t\n",
    "\tと、\n",
    "$$\n",
    "\t(x^{(n)} - \\mu)^T \\Sigma^{-1} (x^{(n)} - \\mu) = Tr \\left \\{ \\Sigma^{-1} (x^{(n)} - \\mu) (x^{(n)} - \\mu)^T \\right \\}\n",
    "$$\t\n",
    "\tと、以下の公式を使います。\n",
    "$$\n",
    "\t\\frac{\\partial}{\\partial A} Tr(A B) = \\frac{\\partial}{\\partial A} Tr(B A) = B^T\n",
    "$$\t\n",
    "$$\n",
    "\t\\frac{\\partial}{\\partial A} ln |A| = (A^{-1})^T\n",
    "$$\n",
    "\t</p>\n",
    "\t<p>\n",
    "\t\t偏微分の結果は、以下の様になります。共分散行列$\\Sigma$が対象行列であるので、$\\Sigma = \\Sigma^T$を使っています。\n",
    "$$\n",
    "\\begin{eqnarray}\n",
    "\t\\frac{\\partial L(\\mu, \\Sigma | \\mathcal{D})}{\\partial (\\Sigma^{-1})} & = & \\frac{N}{2}ln | \\Sigma^{-1} |\n",
    "\t\t- \\frac{1}{2} \\Sigma^{-1} (x^{(n)} - \\mu) (x^{(n)} - \\mu)^T \\\\\n",
    "\t\t& = & \\frac{N}{2} \\Sigma^T - \\frac{1}{2}\\sum_{n=1}^N (x^{(n)} - \\mu) (x^{(n)} - \\mu)^T \\\\\n",
    "\t\t& = & \\frac{N}{2} \\Sigma - \\frac{1}{2}\\sum_{n=1}^N (x^{(n)} - \\mu) (x^{(n)} - \\mu)^T \n",
    "\\end{eqnarray}\t\t\n",
    "$$\t\t\n",
    "\t</p>\n",
    "\t<p>\n",
    "\t\tこの値が０になるような$\\hat{\\Sigma}$は、以下の様に求まります。\n",
    "$$\n",
    "\t\\hat{\\Sigma} = \\frac{1}{N} \\sum_{n=1}^N  (x^{(n)} - \\mu) (x^{(n)} - \\mu)^T \n",
    "$$\t\t\n",
    "\t</p>\n",
    "\t<p>\n",
    "\t\t負の対数尤度を基に、異常度$a(x')$を以下の様に定義します。これは、マハラノビス距離と呼ばれ、「ばらつきが大きい方向の変動は大目にみる」効果があるそうです。\n",
    "$$\n",
    "\ta(x') = ({x'} - \\mu)^T \\Sigma^{-1} ({x'} - \\mu)\n",
    "$$\t\t\n",
    "\t</p>\n",
    "\t<p>\n",
    "\t\tしかし、実際のRでのプログラムをみると、ちょっと違っています。実行例2.5（Davisに対する異常度の計算部分）は、以下の計算をしています。\n",
    "$$\n",
    "\ta(x') = \\sum_{m=1}^M ({x'} - \\mu)^2 \\Sigma^{-1}\n",
    "$$\t\t\n",
    "\t</p>\n",
    "\t<p>\n",
    "\t\t値としては、Wikipediaにある共分散行列が対角行列であるときの以下の式に近いと思われます。\n",
    "$$\n",
    "\td(\\vec{x}, \\vec{y}) = \\sqrt{\\sum_{i=1}^P \\frac{(x_i - y_i)^2}{\\sigma_i^2}}\n",
    "$$\t\t\n",
    "\t</p>\n",
    "</html>"
   ]
  },
  {
   "cell_type": "markdown",
   "metadata": {},
   "source": [
    "<html>\n",
    "\t<h2>前準備</h2>\n",
    "\t<p>\n",
    "\t\t最初に必要なライブラリーやパッケージをロードしておきます。jupyter用に新しくなったRUtil.pyも使います。\n",
    "\t</p>\n",
    "</html>"
   ]
  },
  {
   "cell_type": "code",
   "execution_count": 1,
   "metadata": {
    "collapsed": false
   },
   "outputs": [
    {
     "data": {
      "text/html": [
       "<link rel=\"stylesheet\" type=\"text/css\" href=\"css/sage_table_form.css\">"
      ],
      "text/plain": [
       "<IPython.core.display.HTML object>"
      ]
     },
     "metadata": {},
     "output_type": "display_data"
    }
   ],
   "source": [
    "%%HTML\n",
    "<link rel=\"stylesheet\" type=\"text/css\" href=\"css/sage_table_form.css\">"
   ]
  },
  {
   "cell_type": "code",
   "execution_count": 2,
   "metadata": {
    "collapsed": true
   },
   "outputs": [],
   "source": [
    "# RとPandasのデータフレームを相互に変換する関数を読み込む\n",
    "# Rの必要なライブラリ\n",
    "r('library(ggplot2)')\n",
    "r('library(jsonlite)')\n",
    "\n",
    "# python用のパッケージ\n",
    "import pandas as pd\n",
    "import numpy as np\n",
    "import matplotlib.pyplot as plt \n",
    "import seaborn as sns\n",
    "%matplotlib inline\n",
    "\n",
    "# jupyter用のdisplayメソッド\n",
    "from IPython.display import display, Latex, HTML, Math, JSON\n",
    "# sageユーティリティ\n",
    "load('script/sage_util.py')\n",
    "# Rユーティリティ\n",
    "load('script/RUtil.py')"
   ]
  },
  {
   "cell_type": "markdown",
   "metadata": {},
   "source": [
    "<html>\n",
    "\t<h2>データを使って異常度を計算する</h2>\n",
    "\t<p>\n",
    "\t\tRのcarパッケージに入っているデータDavisを使って、多次元データの異常度を求めてみましょう。\n",
    "\t</p>\n",
    "</html>"
   ]
  },
  {
   "cell_type": "code",
   "execution_count": 3,
   "metadata": {
    "collapsed": false
   },
   "outputs": [
    {
     "data": {
      "text/plain": [
       " [1] \"car\"       \"jsonlite\"  \"ggplot2\"   \"stats\"     \"graphics\"  \"grDevices\" \"utils\"     \"datasets\" \n",
       " [9] \"methods\"   \"base\"     "
      ]
     },
     "execution_count": 3,
     "metadata": {},
     "output_type": "execute_result"
    }
   ],
   "source": [
    "# 2.2 carパッケージのDavisを使って例題を試す\n",
    "# carパッケージのインストールには、時間が掛かりますので注意してください。\n",
    "r('library(car)')"
   ]
  },
  {
   "cell_type": "markdown",
   "metadata": {},
   "source": [
    "<html>\n",
    "\t<h3>データの性格を知る</h3>\n",
    "\t<p>\n",
    "\t\tRのデータをpandaのデータフレームに変換して、データの性格を調べます。\n",
    "\t\t最初にinfoとdescribeで個数や欠損値、平均、分散などの統計情報を求めます。\n",
    "\t</p>\n",
    "</html>"
   ]
  },
  {
   "cell_type": "code",
   "execution_count": 5,
   "metadata": {
    "collapsed": false
   },
   "outputs": [
    {
     "name": "stdout",
     "output_type": "stream",
     "text": [
      "<class 'pandas.core.frame.DataFrame'>\n",
      "Int64Index: 200 entries, 0 to 199\n",
      "Data columns (total 5 columns):\n",
      "height    200 non-null int64\n",
      "repht     183 non-null float64\n",
      "repwt     183 non-null float64\n",
      "sex       200 non-null object\n",
      "weight    200 non-null int64\n",
      "dtypes: float64(2), int64(2), object(1)\n",
      "memory usage: 9.4+ KB\n"
     ]
    }
   ],
   "source": [
    "# Rのデータをpandaのデータフレームに変換する\n",
    "davis = RDf2PandaDf(\"Davis\")\n",
    "# データの個数と欠損値の有無をみる\n",
    "davis.info()"
   ]
  },
  {
   "cell_type": "code",
   "execution_count": 7,
   "metadata": {
    "collapsed": false
   },
   "outputs": [
    {
     "data": {
      "text/html": [
       "<div>\n",
       "<table border=\"1\" class=\"dataframe\">\n",
       "  <thead>\n",
       "    <tr style=\"text-align: right;\">\n",
       "      <th></th>\n",
       "      <th>height</th>\n",
       "      <th>repht</th>\n",
       "      <th>repwt</th>\n",
       "      <th>weight</th>\n",
       "    </tr>\n",
       "  </thead>\n",
       "  <tbody>\n",
       "    <tr>\n",
       "      <th>count</th>\n",
       "      <td>200.000000</td>\n",
       "      <td>183.000000</td>\n",
       "      <td>183.000000</td>\n",
       "      <td>200.000000</td>\n",
       "    </tr>\n",
       "    <tr>\n",
       "      <th>mean</th>\n",
       "      <td>170.020000</td>\n",
       "      <td>168.497268</td>\n",
       "      <td>65.622951</td>\n",
       "      <td>65.800000</td>\n",
       "    </tr>\n",
       "    <tr>\n",
       "      <th>std</th>\n",
       "      <td>12.007937</td>\n",
       "      <td>9.467048</td>\n",
       "      <td>13.776669</td>\n",
       "      <td>15.095009</td>\n",
       "    </tr>\n",
       "    <tr>\n",
       "      <th>min</th>\n",
       "      <td>57.000000</td>\n",
       "      <td>148.000000</td>\n",
       "      <td>41.000000</td>\n",
       "      <td>39.000000</td>\n",
       "    </tr>\n",
       "    <tr>\n",
       "      <th>25%</th>\n",
       "      <td>164.000000</td>\n",
       "      <td>NaN</td>\n",
       "      <td>NaN</td>\n",
       "      <td>55.000000</td>\n",
       "    </tr>\n",
       "    <tr>\n",
       "      <th>50%</th>\n",
       "      <td>169.500000</td>\n",
       "      <td>NaN</td>\n",
       "      <td>NaN</td>\n",
       "      <td>63.000000</td>\n",
       "    </tr>\n",
       "    <tr>\n",
       "      <th>75%</th>\n",
       "      <td>177.250000</td>\n",
       "      <td>NaN</td>\n",
       "      <td>NaN</td>\n",
       "      <td>74.000000</td>\n",
       "    </tr>\n",
       "    <tr>\n",
       "      <th>max</th>\n",
       "      <td>197.000000</td>\n",
       "      <td>200.000000</td>\n",
       "      <td>124.000000</td>\n",
       "      <td>166.000000</td>\n",
       "    </tr>\n",
       "  </tbody>\n",
       "</table>\n",
       "</div>"
      ],
      "text/plain": [
       "           height       repht       repwt      weight\n",
       "count  200.000000  183.000000  183.000000  200.000000\n",
       "mean   170.020000  168.497268   65.622951   65.800000\n",
       "std     12.007937    9.467048   13.776669   15.095009\n",
       "min     57.000000  148.000000   41.000000   39.000000\n",
       "25%    164.000000         NaN         NaN   55.000000\n",
       "50%    169.500000         NaN         NaN   63.000000\n",
       "75%    177.250000         NaN         NaN   74.000000\n",
       "max    197.000000  200.000000  124.000000  166.000000"
      ]
     },
     "execution_count": 7,
     "metadata": {},
     "output_type": "execute_result"
    }
   ],
   "source": [
    "# データの情報を取り出す\n",
    "davis.describe()"
   ]
  },
  {
   "cell_type": "markdown",
   "metadata": {},
   "source": [
    "<html>\n",
    "\t<p>\n",
    "\t\t次にDavisの体重のヒストグラムと体重（weight）と身長（height）の散布図をプロットし、おおざっぱな性質を調べます。\n",
    "\t</p>\n",
    "</html>\n"
   ]
  },
  {
   "cell_type": "code",
   "execution_count": 10,
   "metadata": {
    "collapsed": false,
    "scrolled": true
   },
   "outputs": [
    {
     "data": {
      "image/png": "[encoded data removed]",
      "text/plain": [
       "<matplotlib.figure.Figure object at 0x7f9f3b4521d0>"
      ]
     },
     "metadata": {},
     "output_type": "display_data"
    }
   ],
   "source": [
    "# weightの分布をみる\n",
    "davis.weight.hist(bins=20)\n",
    "plt.show()"
   ]
  },
  {
   "cell_type": "code",
   "execution_count": 12,
   "metadata": {
    "collapsed": false
   },
   "outputs": [
    {
     "data": {
      "image/png": "[encoded data removed]",
      "text/plain": [
       "<matplotlib.figure.Figure object at 0x7f9fba433b10>"
      ]
     },
     "metadata": {},
     "output_type": "display_data"
    }
   ],
   "source": [
    "# 身長（height）と体重（weight）の関係をみる\n",
    "sns.lmplot('weight', 'height', data=davis, fit_reg=False )\n",
    "plt.show()"
   ]
  },
  {
   "cell_type": "markdown",
   "metadata": {},
   "source": [
    "<html>\n",
    "\t<h3>Sageとpandasの機能を使って共分散行列を求める</h3>\n",
    "\t<p>\n",
    "\t\tSageとpandas(numpy)の機能を使って共分散を求めみましょう。\n",
    "\t</p>\n",
    "\t<p>\n",
    "\t\t平均mxを求めてデータの平均からの差Xcを求めます。pandasではこれらをmeanとマイナス記号で処理することができます。\n",
    "\t</p>\n",
    "\t<p>\n",
    "\t\t数式では共分散行列$\\hat{\\Sigma}$は、以下の様に定義されていますが、\n",
    "$$\n",
    "\t\\hat{\\mu} = \\frac{1}{N}\\sum_{n=1}^N x^{(n)}, \n",
    "\t\\hat{\\Sigma} = \\frac{1}{N} \\sum_{n=1}^N (x^{(n)} - \\hat{\\mu})(x^{(n)} - \\hat{\\mu})^T\n",
    "$$\t\t\n",
    "\tXcが列ベクトルではなく、行ベクトルなので、以下の様に計算しています。\n",
    "$$\n",
    "\t\\hat{\\Sigma} = \\frac{1}{N} Xc^T Xc\n",
    "$$\t\t\n",
    "\t</p>\n",
    "</html>"
   ]
  },
  {
   "cell_type": "code",
   "execution_count": 13,
   "metadata": {
    "collapsed": true
   },
   "outputs": [],
   "source": [
    "# pandaデータフレームで、weightとheightの平均からのずれXcを計算する\n",
    "X = davis[['weight', 'height']]\n",
    "mx = X.mean()\n",
    "Xc = X - mx"
   ]
  },
  {
   "cell_type": "markdown",
   "metadata": {},
   "source": [
    "<html>\n",
    "\t<p>\n",
    "\t\tnumpyの固有の理由だと思いますが、マトリックスの積に.dot()関数を使います。この辺はちょっと違和感があります。\n",
    "\t</p>\n",
    "\t<p>\n",
    "\t\tPnadasの機能を使うと共分散行列は一発で計算できるのですが欠損値の影響なのか値が一致しません。\n",
    "\t</p>\n",
    "</html>"
   ]
  },
  {
   "cell_type": "code",
   "execution_count": 15,
   "metadata": {
    "collapsed": false
   },
   "outputs": [
    {
     "name": "stdout",
     "output_type": "stream",
     "text": [
      "         weight    height\n",
      "weight  226.720   34.2040\n",
      "height   34.204  143.4696\n",
      "            weight      height\n",
      "weight  227.859296   34.375879\n",
      "height   34.375879  144.190553\n"
     ]
    }
   ],
   "source": [
    "# Pandaで標本共分散行列を求めるには\n",
    "print Xc.T.dot(Xc) /len(Xc)\n",
    "# もっと簡単なのはcov関数を使う（でも値が微妙に異なるのは、欠損値があるからか？）\n",
    "print Xc.cov()"
   ]
  },
  {
   "cell_type": "markdown",
   "metadata": {},
   "source": [
    "<html>\n",
    "\t<h3>Sageのマトリックスを使った異常度の計算</h3>\n",
    "\t<p>\n",
    "\t\tSageのmatrixを使った異常度の計算方法を以下に示します。\n",
    "\t</p>\n",
    "\t<p>\n",
    "\t\t理論をベースとしているSageと実験値を処理するためのPandas, \n",
    "\t\tnumpyをどうやって融合するのかがSage使いの腕の見せ所です。\n",
    "\t</p>\n",
    "\t<p>\n",
    "\t\tと言ってもやっていることは簡単です。マトリックスの要素単位の処理をするには、\n",
    "\t\tSageのmatrixにnumpy()メソッドで、numpyのマトリックスに変換するだけです。\t\t\n",
    "\t</p>\n",
    "\t<p>\n",
    "\t\tRやnumpyでは多くのデータを一括して処理することが多く、要素単位の処理に四則演算子が\n",
    "\t\t使われますが、Sageではマトリックスやベクトルの定義に沿って計算が行われます。\n",
    "\t</p>\n",
    "</html>"
   ]
  },
  {
   "cell_type": "code",
   "execution_count": 16,
   "metadata": {
    "collapsed": true
   },
   "outputs": [],
   "source": [
    "# Sageのmatrixを使った計算\n",
    "# 中心化したデータをSageのマトリックスにする\n",
    "Xc =matrix((X - mx).values)"
   ]
  },
  {
   "cell_type": "code",
   "execution_count": 17,
   "metadata": {
    "collapsed": false
   },
   "outputs": [
    {
     "data": {
      "text/plain": [
       "[ 226.7199999999998 34.203999999999986]\n",
       "[34.203999999999986  143.4696000000001]"
      ]
     },
     "execution_count": 17,
     "metadata": {},
     "output_type": "execute_result"
    }
   ],
   "source": [
    "# 標本共分散行列を求める\n",
    "Sx = Xc.T*Xc/ Xc.nrows(); Sx"
   ]
  },
  {
   "cell_type": "code",
   "execution_count": 19,
   "metadata": {
    "collapsed": false
   },
   "outputs": [
    {
     "data": {
      "image/png": "[encoded data removed]",
      "text/plain": [
       "Graphics object consisting of 1 graphics primitive"
      ]
     },
     "execution_count": 19,
     "metadata": {},
     "output_type": "execute_result"
    }
   ],
   "source": [
    "# (XcとSxの逆行列の積)の各要素とXcの各要素を掛け合わせる\n",
    "# ここでのトリックは、numpyの*が要素毎の積であることを利用\n",
    "# numpy()関数を使ってマトリックスをnumpyのマトリックスに変換する\n",
    "a_prev = (Xc*Sx.inverse()).numpy() * Xc.numpy()\n",
    "# 行単位の和を求める\n",
    "a = [sum(x) for x in a_prev]\n",
    "# リストプロット\n",
    "list_plot(a, figsize=4)"
   ]
  },
  {
   "cell_type": "markdown",
   "metadata": {},
   "source": [
    "<html>\n",
    "\t<h3>Pandaを使った異常度の計算</h3>\n",
    "\t<p>\n",
    "\t\tpandaとnumpyの機能を使って異常値を計算します。ここでは、$\\Sigma^{-1} Xc$がsolveの解であることを\n",
    "\t\t使っています。また、次数の和には、pythonのsumを使っています。\n",
    "\t</p>\n",
    "\t<p>\n",
    "\t\t出力結果では、１つだけ突出した異常データが見つかります。\n",
    "\t</p>\n",
    "\t<p>\n",
    "\t\t全体的な処理から以降ではPandaを使った分散行列の方式を使います。\n",
    "\t</p>\n",
    "</html>"
   ]
  },
  {
   "cell_type": "code",
   "execution_count": 21,
   "metadata": {
    "collapsed": false
   },
   "outputs": [
    {
     "data": {
      "image/png": "[encoded data removed]",
      "text/plain": [
       "Graphics object consisting of 1 graphics primitive"
      ]
     },
     "execution_count": 21,
     "metadata": {},
     "output_type": "execute_result"
    }
   ],
   "source": [
    "# Pandaのみを使った計算\n",
    "# 中心化したデータの値をXcにセット\n",
    "Xc =(X - mx).values\n",
    "# 標本共分散行列を求める\n",
    "Sx = (X - mx).cov().values\n",
    "# 異常値aを求めるΣ^-1 * Xcは、solveの解を利用\n",
    "a_prev = np.linalg.solve(Sx, Xc.T).T * Xc\n",
    "# 行単位の和を求める\n",
    "a = [sum(x) for x in a_prev]\n",
    "# リストプロット\n",
    "list_plot(a, figsize=4)"
   ]
  },
  {
   "cell_type": "markdown",
   "metadata": {},
   "source": [
    "<html>\n",
    "\t<h2>マハラノビス=タグチ法</h2>\n",
    "\t<p>\n",
    "\t\t異常値の検出では、全体に対する個々の観測値の異常を検出するのに使用しましたが、\n",
    "\t\t個々の観測値の変数値の異常を検出するには、マハラノビス=タグチ法を使用します。\n",
    "\t</p>\n",
    "\t<p>\n",
    "\t\tM変数のなかからいくつかの変数を選び、1変数当たりの異常度を以下の様に検出します。\n",
    "\t\t\n",
    "$$\n",
    "\tSN_q = -10 log_{10} \\left \\{ \\frac{1}{N'} \\sum_{n=1}^{N'} \\frac{1}{a_q(x'^{(n)})/M_q} \\right \\}\n",
    "$$\t\t\n",
    "\t</p>\n",
    "\t<h3>MASSパッケージのroadデータで実験</h3>\n",
    "\t<p>\n",
    "\t\tマハラノビス=タグチ法の実行例2.6をSageを使って試してみましょう。\n",
    "\t</p>\n",
    "\t<p>\n",
    "\t\tMASSパッケージのroadデータには、アメリカ２６州の交通事故死亡者数deaths、運転者数drivers、\n",
    "\t\t人口密度popden、郊外地区の道路長rural、1月における1日の最高気温の平均値temp、1年度との燃料消費量\n",
    "\t\tfuelの６変数を記録しています。\n",
    "\t</p>\n",
    "\t<p>\n",
    "\t\tデータの前段階でroadをdriversで割って対数化する必要があるのですが、pandaで処理する方法が見つからず、\n",
    "\t\tRで前処理することにしました（残念）。\n",
    "\t</p>\n",
    "\t<p>\n",
    "\t\t取り込んだデータは、infoで個数と欠損値の有無を調べ、内容を調べます。\n",
    "\t\t$rowという変な名前が存在するので、stateに置き替えます。\n",
    "\t</p>\n",
    "</html>"
   ]
  },
  {
   "cell_type": "code",
   "execution_count": 23,
   "metadata": {
    "collapsed": false
   },
   "outputs": [
    {
     "name": "stdout",
     "output_type": "stream",
     "text": [
      "<class 'pandas.core.frame.DataFrame'>\n",
      "Int64Index: 26 entries, 0 to 25\n",
      "Data columns (total 6 columns):\n",
      "_row      26 non-null object\n",
      "deaths    26 non-null float64\n",
      "fuel      26 non-null float64\n",
      "popden    26 non-null float64\n",
      "rural     26 non-null float64\n",
      "temp      26 non-null float64\n",
      "dtypes: float64(5), object(1)\n",
      "memory usage: 1.4+ KB\n"
     ]
    }
   ],
   "source": [
    "# マハラノビス=タグチ法\n",
    "# MASSパッケージのroadデータを使って計算\n",
    "r('library(MASS)')\n",
    "# roadをPandaのデータフレームに変換\n",
    "# road / road$driversとlogを使った対数化がPandaで処理する方法がみつからない\n",
    "r('X <- road / road$drivers')\n",
    "r('X <-log(X[, -2] + 1)')\n",
    "road = RDf2PandaDf(\"X\")\n",
    "road.info()"
   ]
  },
  {
   "cell_type": "code",
   "execution_count": 24,
   "metadata": {
    "collapsed": false
   },
   "outputs": [
    {
     "data": {
      "text/html": [
       "<div>\n",
       "<table border=\"1\" class=\"dataframe\">\n",
       "  <thead>\n",
       "    <tr style=\"text-align: right;\">\n",
       "      <th></th>\n",
       "      <th>_row</th>\n",
       "      <th>deaths</th>\n",
       "      <th>fuel</th>\n",
       "      <th>popden</th>\n",
       "      <th>rural</th>\n",
       "      <th>temp</th>\n",
       "    </tr>\n",
       "  </thead>\n",
       "  <tbody>\n",
       "    <tr>\n",
       "      <th>0</th>\n",
       "      <td>Alabama</td>\n",
       "      <td>1.9638</td>\n",
       "      <td>0.5614</td>\n",
       "      <td>0.3401</td>\n",
       "      <td>0.3491</td>\n",
       "      <td>0.3310</td>\n",
       "    </tr>\n",
       "    <tr>\n",
       "      <th>1</th>\n",
       "      <td>Alaska</td>\n",
       "      <td>1.5911</td>\n",
       "      <td>0.4470</td>\n",
       "      <td>0.0357</td>\n",
       "      <td>0.4294</td>\n",
       "      <td>1.3157</td>\n",
       "    </tr>\n",
       "    <tr>\n",
       "      <th>2</th>\n",
       "      <td>Arizona</td>\n",
       "      <td>2.0098</td>\n",
       "      <td>0.5390</td>\n",
       "      <td>0.1239</td>\n",
       "      <td>0.3094</td>\n",
       "      <td>0.5326</td>\n",
       "    </tr>\n",
       "    <tr>\n",
       "      <th>3</th>\n",
       "      <td>Arkanas</td>\n",
       "      <td>2.0740</td>\n",
       "      <td>0.5902</td>\n",
       "      <td>0.3145</td>\n",
       "      <td>0.5842</td>\n",
       "      <td>0.4411</td>\n",
       "    </tr>\n",
       "    <tr>\n",
       "      <th>4</th>\n",
       "      <td>Calif</td>\n",
       "      <td>1.7888</td>\n",
       "      <td>0.1046</td>\n",
       "      <td>0.0999</td>\n",
       "      <td>0.1168</td>\n",
       "      <td>0.0660</td>\n",
       "    </tr>\n",
       "  </tbody>\n",
       "</table>\n",
       "</div>"
      ],
      "text/plain": [
       "      _row  deaths    fuel  popden   rural    temp\n",
       "0  Alabama  1.9638  0.5614  0.3401  0.3491  0.3310\n",
       "1   Alaska  1.5911  0.4470  0.0357  0.4294  1.3157\n",
       "2  Arizona  2.0098  0.5390  0.1239  0.3094  0.5326\n",
       "3  Arkanas  2.0740  0.5902  0.3145  0.5842  0.4411\n",
       "4    Calif  1.7888  0.1046  0.0999  0.1168  0.0660"
      ]
     },
     "execution_count": 24,
     "metadata": {},
     "output_type": "execute_result"
    }
   ],
   "source": [
    "# _rowという変な名前が存在するので、headで内容をチェック、_rowが州の名前だと判明\n",
    "road.head()"
   ]
  },
  {
   "cell_type": "code",
   "execution_count": 25,
   "metadata": {
    "collapsed": false
   },
   "outputs": [
    {
     "data": {
      "text/html": [
       "<div>\n",
       "<table border=\"1\" class=\"dataframe\">\n",
       "  <thead>\n",
       "    <tr style=\"text-align: right;\">\n",
       "      <th></th>\n",
       "      <th>state</th>\n",
       "      <th>deaths</th>\n",
       "      <th>fuel</th>\n",
       "      <th>popden</th>\n",
       "      <th>rural</th>\n",
       "      <th>temp</th>\n",
       "    </tr>\n",
       "  </thead>\n",
       "  <tbody>\n",
       "    <tr>\n",
       "      <th>4</th>\n",
       "      <td>Calif</td>\n",
       "      <td>1.7888</td>\n",
       "      <td>0.1046</td>\n",
       "      <td>0.0999</td>\n",
       "      <td>0.1168</td>\n",
       "      <td>0.066</td>\n",
       "    </tr>\n",
       "  </tbody>\n",
       "</table>\n",
       "</div>"
      ],
      "text/plain": [
       "   state  deaths    fuel  popden   rural   temp\n",
       "4  Calif  1.7888  0.1046  0.0999  0.1168  0.066"
      ]
     },
     "execution_count": 25,
     "metadata": {},
     "output_type": "execute_result"
    }
   ],
   "source": [
    "# 州のカラムにstateをセットする\n",
    "road.columns = ['state', 'deaths',  'fuel',  'popden',  'rural',  'temp']\n",
    "# Calif州のデータをピックアップする\n",
    "road[road.state == 'Calif']"
   ]
  },
  {
   "cell_type": "markdown",
   "metadata": {},
   "source": [
    "<html>\n",
    "\t<h3>1変数当たりの異常度とCalifのSN比を求める</h3>\n",
    "\t<p>\n",
    "\t\t異常度の計算と同様に異常度を求め、次元数で割って1変数当たりの異常度を求めます。\n",
    "\t</p>\n",
    "</html>"
   ]
  },
  {
   "cell_type": "code",
   "execution_count": 26,
   "metadata": {
    "collapsed": false
   },
   "outputs": [
    {
     "data": {
      "text/plain": [
       "5"
      ]
     },
     "execution_count": 26,
     "metadata": {},
     "output_type": "execute_result"
    }
   ],
   "source": [
    "# pandaデータフレームで、平均からのずれXcを計算する\n",
    "X = road[['deaths',  'fuel',  'popden',  'rural',  'temp']]\n",
    "mx = X.mean()\n",
    "Xc = X - mx\n",
    "Xc.shape[1]"
   ]
  },
  {
   "cell_type": "code",
   "execution_count": 27,
   "metadata": {
    "collapsed": false
   },
   "outputs": [
    {
     "data": {
      "image/png": "[encoded data removed]",
      "text/plain": [
       "Graphics object consisting of 1 graphics primitive"
      ]
     },
     "execution_count": 27,
     "metadata": {},
     "output_type": "execute_result"
    }
   ],
   "source": [
    "# Pandaのみを使った計算\n",
    "# 中心化したデータをnumpyのマトリックスにする\n",
    "Xc =(X - mx).values\n",
    "# 標本共分散行列を求める\n",
    "Sx = (X - mx).cov().values\n",
    "# 異常値aを求めるΣ^-1 * Xcは、solveの解を利用\n",
    "a_prev = np.linalg.solve(Sx, Xc.T).T * Xc\n",
    "# 行単位の和を求め、１変数当たりの異常度を計算する\n",
    "a = [sum(x)/Xc.shape[1] for x in a_prev]\n",
    "# リストプロット\n",
    "list_plot(a, figsize=4)"
   ]
  },
  {
   "cell_type": "markdown",
   "metadata": {},
   "source": [
    "<html>\n",
    "\t<p>\n",
    "\t\t最も異常度の大きい、CalifのデータをXcから取り出し、SN比を計算し、棒グラフで表示します。\t\t\n",
    "\t</p>\n",
    "\t<p>\n",
    "\t\t表示順はdeaths  fuel  popden  rural  tempで、図2.7(b)と並びが異なりますが、\n",
    "\t\t値は同じ結果になっています。\n",
    "\t</p>\n",
    "\t<p>\n",
    "\t\tこの結果から、異常に寄与している変数は、通事故死亡者数deaths、1年度との燃料消費量\n",
    "\t\tfuel、人口密度popdenであることが分かります。\n",
    "\t\tこの結果は、車が多く使用される過密な大都市で交通事故死亡者が増加するという一般的な\n",
    "\t\t常識と一致します。\n",
    "\t</p>\n",
    "</html>"
   ]
  },
  {
   "cell_type": "code",
   "execution_count": 28,
   "metadata": {
    "collapsed": false
   },
   "outputs": [
    {
     "name": "stdout",
     "output_type": "stream",
     "text": [
      "[-14.80328085  12.82597259  -6.26565335  -0.20576912   0.21784965]\n"
     ]
    }
   ],
   "source": [
    "# XcからCalifのデータを取得\n",
    "Xc_prime = Xc[4]\n",
    "# 要素毎の計算をしたいので、numpyの形式に変換\n",
    "SN1 = 10*np.log10(Xc_prime^2/Sx.diagonal())\n",
    "print SN1"
   ]
  },
  {
   "cell_type": "code",
   "execution_count": 29,
   "metadata": {
    "collapsed": false
   },
   "outputs": [
    {
     "data": {
      "image/png": "[encoded data removed]",
      "text/plain": [
       "Graphics object consisting of 1 graphics primitive"
      ]
     },
     "execution_count": 29,
     "metadata": {},
     "output_type": "execute_result"
    }
   ],
   "source": [
    "# 左からdeaths  fuel  popden  rural  tempで、図2.7(b)と並びが異なる\n",
    "bar_chart(SN1, figsize=4)"
   ]
  },
  {
   "cell_type": "code",
   "execution_count": null,
   "metadata": {
    "collapsed": true
   },
   "outputs": [],
   "source": []
  }
 ],
 "metadata": {
  "kernelspec": {
   "display_name": "SageMath 7.2",
   "language": "",
   "name": "sagemath"
  },
  "language_info": {
   "codemirror_mode": {
    "name": "ipython",
    "version": 2
   },
   "file_extension": ".py",
   "mimetype": "text/x-python",
   "name": "python",
   "nbconvert_exporter": "python",
   "pygments_lexer": "ipython2",
   "version": "2.7.10"
  }
 },
 "nbformat": 4,
 "nbformat_minor": 0
}
