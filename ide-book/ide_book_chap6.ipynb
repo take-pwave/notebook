{
 "cells": [
  {
   "cell_type": "markdown",
   "metadata": {
    "collapsed": true
   },
   "source": [
    "<html>\n",
    "\t<author>Hiroshi TAKEMOTO</author>\n",
    "\t(<email>take.pwave@gmail.com</email>)\n",
    "\t\n",
    "\t<h1>入門機械学習による異常検出</h1>\n",
    "\t<p>\n",
    "\t\t井出　剛著の「入門機械学習による異常検出」(以降、井出本と記す)の例題をSageを使ってお復習いします。\n",
    "\t</p>\n",
    "</html>\n",
    "\n",
    "<html>\n",
    "\t<h2>6章　線形回帰モデルによる異常検知</h2>\n",
    "\t<p>\n",
    "\t\tこの章でのポイントは、線形回帰モデルを使って、観測量(y', x')の負の対数尤度を異常度とする部分です。\n",
    "\t</p>\n",
    "</html>"
   ]
  },
  {
   "cell_type": "markdown",
   "metadata": {},
   "source": [
    "<html>\n",
    "\t<h3>最小二乗法の最尤推定</h3>\n",
    "\t<p>\n",
    "\t\t線形回帰では、関数fを以下のような1次関数で表現します。\n",
    "$$\n",
    "\tf(x) = \\alpha_0 + \\alpha^T x = \\alpha_0 + \\alpha_1 x_1 + \\cdots + \\alpha_M x_M\n",
    "$$\t\t\n",
    "\t</p>\n",
    "\t<p>\n",
    "\t\t係数αは、M+1個をもち、これをデータ$\\mathcal{D}$から以下の確立モデルを使って求めます。\n",
    "$$\n",
    "\\begin{eqnarray}\n",
    "\n",
    "\t\tp(y | x) & = & \\mathcal{N} (y | \\alpha_0 + \\alpha^T x, \\sigma^2) \\\\\n",
    "\t\t  & = & \\frac{1}{\\sqrt{2 \\pi \\sigma^2}} exp \\left [ - \\frac{1}{2\\sigma^2}(y - \\alpha_0 - \\alpha^T x)^2 \\right ]\n",
    "\\end{eqnarray}\t\t\n",
    "$$\t\t\n",
    "</p>\n",
    "<p>\n",
    "未知のパラメータ$\\alpha_0, \\alpha, \\sigma^2$ に対する尤度は、以下の様に定義されます。\n",
    "\n",
    "$$\n",
    "\tp(\\mathcal{D} | \\alpha_0, \\alpha, \\sigma^2) = \\prod_{n=1}^N \\mathcal{N}(y^{(n)} | \\alpha_0, \\alpha x^{(n)}, \\sigma^2)\n",
    "$$\n",
    "\n",
    "これの対数尤度は、以下の様になります。\n",
    "$$\n",
    "\tL(\\alpha_0, \\alpha, \\sigma^2 | \\mathcal{D}) = - \\frac{N}{2} ln(2\\pi\\sigma^2) - \\frac{1}{2\\sigma^2} \\sum_{n-=1}^N \\left [ y^{(n)} - \\alpha_0 - \\alpha^T x^{(n)} \\right ]^2\n",
    "$$\n",
    "</p>\n",
    "<p>\n",
    "最初に$\\alpha_0$で微分して、その値が0となる$\\hat{\\alpha_0}$を求めると、以下の様になります。\n",
    "$$\n",
    "\t\\hat{\\alpha_0} = \\frac{1}{N} \\left [ y^{(n)} - \\alpha^T x^{(n)} \\right ] = \\bar{y} - \\alpha^T \\bar{x}\n",
    "$$\n",
    "\n",
    "ここで、$\\bar{x}, \\bar{y}$は、変数xと観測値yの平均です。\n",
    "$$\n",
    "\t\\bar{y} = \\frac{1}{N} \\sum_{n=1}^N y^{(n)}, \\bar{x} = \\frac{1}{N} \\sum_{n=1}^N x^{(n)}\n",
    "$$\n",
    "</p>\n",
    "<p>\n",
    "求まった$\\alpha_0$を定数尤度の式に入れ、$\\alpha$で微分し0（勾配0）とすると、\n",
    "\n",
    "$$\n",
    "\t0 = \\frac{1}{2} \\frac{\\partial}{\\partial \\alpha} \\sum_{n=1}^N \\left [ y^{(n)} - \\bar{y} - \\alpha (x^{(n)} - \\bar{x}) \\right]^2\n",
    "$$\n",
    "\n",
    "ここで、変数xと観測値yと平均の差（中心化）を$\\tilde{X}, \\tilde{y}$で表すと、\n",
    "$$\n",
    "\t0 = \\frac{1}{2} \\frac{\\partial}{\\partial \\alpha} \\sum_{n=1}^N \\left [ \\tilde{y} - \\alpha \\tilde{X} \\right]^2 = \\sum_{n=1}^N \\left \\{ \\tilde{y} - \\alpha^T \\tilde{X} \\right \\} \\tilde{X}^T\n",
    "$$\n",
    "\t整理すると、\t\n",
    "$$\n",
    "\t0 = \\sum_{n=1}^N \\tilde{y} \\tilde{x}^T - \\alpha^T \\left ( \\sum_{n=1}^N \\tilde{X} \\tilde{X}^T \\right )\n",
    "$$\n",
    "\t\tこれを$\\alpha$について解くと\t、以下の様に求まります。\n",
    "$$\n",
    "\t\\hat{\\alpha} = \\left ( \\tilde{X}^T \\tilde{X} \\right )^{-1} \\tilde{X}^T \\tilde{y}\n",
    "$$\n",
    "</p>\n",
    "<p>\n",
    "\n",
    "同様に$\\sigma^{-2}$で微分すると、\n",
    "$$\n",
    "\t\\sigma^2 = \\frac{1}{N} \\sum_{n=1}^N \\left \\{ \\tilde{y} - \\hat{\\alpha}^T \\tilde{X} \\right \\} ^2\n",
    "$$\n",
    "</p>\n",
    "</html>"
   ]
  },
  {
   "cell_type": "markdown",
   "metadata": {},
   "source": [
    "<html>\n",
    "\t<h3>異常度の定義</h3>\n",
    "\t<p>\n",
    "\t\t観測量$(y', x')$についての異常度は、この観測量に対する負の対数尤度から、以下の様になります。\n",
    "$$\n",
    "\ta(y', x') = \\frac{1}{\\hat{\\sigma^2}} \\left [ y' - \\bar{y} - \\hat{\\alpha}^T (x' - \\bar{x}) \\right ] ^2\n",
    "$$\t\t\n",
    "\t</p>\n",
    "</html>\n",
    "\n",
    "<html>\n",
    "\t<h3>リッジ回帰を使って異常検出</h3>\n",
    "\t<p>\n",
    "\t\t実際の観測量では、すべて変数xが独立ではなく互いに関連があるため、行列のランクが不足して逆行列が求まりません。\n",
    "\t</p>\n",
    "\t<p>\n",
    "\t\tそこで、井出本ではリッジ回帰を使って$\\alpha, \\sigma^2$を求めています。リッジ回帰での$\\hat{\\alpha}_{ridge}$は、\n",
    "\t\t以下の様に求まります。\n",
    "$$\n",
    "\t\\hat{\\alpha}_{ridge} = \\left [ \\tilde{X}^T \\tilde{X} + \\lambda I_M \\right ]^{-1} \\tilde{X}^T \\tilde{y}\n",
    "$$\t\t\n",
    "\t</p>\n",
    "\t<p>\n",
    "\t\t分散$\\hat{\\sigma}^2_{ridge}$は、以下の様になります。\n",
    "$$\n",
    "\t\\hat{\\sigma}^2_{ridge} = \\frac{1}{N} \\left \\{ \\hat{\\lambda} \\hat{\\alpha}^T_{ridge} \\hat{\\alpha}_{ridge} + \\sum_{n=1}^N \\left [ \\tilde{y}^{(n)} - \\hat{\\alpha}^T_{ridge} \\tilde{x}^{(n)} \\right ] \\right \\}\n",
    "$$\t\t\n",
    "\t</p>\n",
    "</html>"
   ]
  },
  {
   "cell_type": "markdown",
   "metadata": {},
   "source": [
    "<html>\n",
    "\t<h3>準備</h3>\n",
    "\t<p>\n",
    "\t\tいつものように必要なライブラリを読み込み、テストデータとしてRのMASSパッケージに含まれているUScribeを使用します。\n",
    "\t</p>\n",
    "\t<p>\n",
    "\t\tUScribeは、都市の犯罪率yで、以下の表6.1のような変数を使って回帰分析します。\n",
    "\t</p>\n",
    "</html>"
   ]
  },
  {
   "cell_type": "code",
   "execution_count": 1,
   "metadata": {
    "collapsed": false
   },
   "outputs": [
    {
     "data": {
      "text/html": [
       "<link rel=\"stylesheet\" type=\"text/css\" href=\"css/sage_table_form.css\">"
      ],
      "text/plain": [
       "<IPython.core.display.HTML object>"
      ]
     },
     "metadata": {},
     "output_type": "display_data"
    }
   ],
   "source": [
    "%%HTML\n",
    "<link rel=\"stylesheet\" type=\"text/css\" href=\"css/sage_table_form.css\">"
   ]
  },
  {
   "cell_type": "code",
   "execution_count": 2,
   "metadata": {
    "collapsed": true
   },
   "outputs": [],
   "source": [
    "# RとPandasのデータフレームを相互に変換する関数を読み込む\n",
    "# Rの必要なライブラリ\n",
    "r('library(ggplot2)')\n",
    "r('library(jsonlite)')\n",
    "\n",
    "# python用のパッケージ\n",
    "import pandas as pd\n",
    "import numpy as np\n",
    "import matplotlib.pyplot as plt \n",
    "import seaborn as sns\n",
    "%matplotlib inline\n",
    "\n",
    "# jupyter用のdisplayメソッド\n",
    "from IPython.display import display, Latex, HTML, Math, JSON\n",
    "# sageユーティリティ\n",
    "load('script/sage_util.py')\n",
    "# Rユーティリティ\n",
    "load('script/RUtil.py')"
   ]
  },
  {
   "cell_type": "code",
   "execution_count": 3,
   "metadata": {
    "collapsed": false
   },
   "outputs": [
    {
     "name": "stdout",
     "output_type": "stream",
     "text": [
      "<class 'pandas.core.frame.DataFrame'>\n",
      "Int64Index: 47 entries, 0 to 46\n",
      "Data columns (total 16 columns):\n",
      "Ed      47 non-null int64\n",
      "GDP     47 non-null int64\n",
      "Ineq    47 non-null int64\n",
      "LF      47 non-null int64\n",
      "M       47 non-null int64\n",
      "M.F     47 non-null int64\n",
      "NW      47 non-null int64\n",
      "Po1     47 non-null int64\n",
      "Po2     47 non-null int64\n",
      "Pop     47 non-null int64\n",
      "Prob    47 non-null float64\n",
      "So      47 non-null int64\n",
      "Time    47 non-null float64\n",
      "U1      47 non-null int64\n",
      "U2      47 non-null int64\n",
      "y       47 non-null int64\n",
      "dtypes: float64(2), int64(14)\n",
      "memory usage: 6.2 KB\n"
     ]
    }
   ],
   "source": [
    "# RのテストデータMASSパッケージのUScribeをPandasのデータフレームに変換\n",
    "r('library(MASS)')\n",
    "uscrime = RDf2PandaDf('UScrime')\n",
    "uscrime.info()"
   ]
  },
  {
   "cell_type": "code",
   "execution_count": 4,
   "metadata": {
    "collapsed": true
   },
   "outputs": [],
   "source": [
    "# RでのUScrimeの並びを調べるために実行\n",
    "# r('UScrime')"
   ]
  },
  {
   "cell_type": "code",
   "execution_count": 5,
   "metadata": {
    "collapsed": false
   },
   "outputs": [
    {
     "data": {
      "text/html": [
       "<table class='table_form'><tbody><tr><th>記号</th><th>定義</th></tr><tr class='row-a'><td>M</td><td>14-24歳の男性の割合</td></tr><tr class='row-b'><td>Ed</td><td>平均就学期間</td></tr><tr class='row-a'><td>Po1</td><td>1960年における警察予算</td></tr><tr class='row-b'><td>Po2</td><td>1959年における警察予算</td></tr><tr class='row-a'><td>LF</td><td>労働力率</td></tr><tr class='row-b'><td>M.F</td><td>女性1000人当たりの男性の数</td></tr><tr class='row-a'><td>Pop</td><td>州の人口</td></tr><tr class='row-b'><td>NW</td><td>1000人当たりの非白人数</td></tr><tr class='row-a'><td>U1</td><td>都市部男性(14-24歳)の失業率</td></tr><tr class='row-b'><td>U2</td><td>都市部男性(35-39)の失業率</td></tr><tr class='row-a'><td>GDP</td><td>州の1人当たりGDP</td></tr><tr class='row-b'><td>Ineq</td><td>経済的不平等の度合い</td></tr><tr class='row-a'><td>Prob</td><td>収監率</td></tr><tr class='row-b'><td>Time</td><td>刑務所での平均収監期間</td></tr></tbody></table>"
      ],
      "text/plain": [
       "<__main__.Table2Html instance at 0x7f6a5868f2d8>"
      ]
     },
     "execution_count": 5,
     "metadata": {},
     "output_type": "execute_result"
    }
   ],
   "source": [
    "# UScrimeの説明を表6.1から転記\n",
    "vars = ['M', 'Ed', 'Po1', 'Po2', 'LF', 'M.F', 'Pop', 'NW', 'U1', 'U2', 'GDP', 'Ineq', 'Prob', 'Time']\n",
    "abbr = ['14-24歳の男性の割合', '平均就学期間', '1960年における警察予算', '1959年における警察予算', '労働力率', '女性1000人当たりの男性の数', '州の人口', '1000人当たりの非白人数', '都市部男性(14-24歳)の失業率', '都市部男性(35-39)の失業率', '州の1人当たりGDP', '経済的不平等の度合い', '収監率', '刑務所での平均収監期間']\n",
    "Table2Html(zip(vars, abbr), header=['記号', '定義'])"
   ]
  },
  {
   "cell_type": "markdown",
   "metadata": {},
   "source": [
    "<html>\n",
    "\t<h3>sklearnのRidge回帰を使った最適解</h3>\n",
    "\t<p>\n",
    "\t\tリッジ回帰は、sklearnのlinear_modelパッケージのRidgeを使用しました。\n",
    "\t\tsklearnのパッケージはRと比べて使い方が統一されています。\n",
    "\t</p>\n",
    "\t<p>\n",
    "\t\t回帰分析の結果求まった予測値(pred)と観測値(y)がどの程度分散しているか\n",
    "\t\tプロットしてみます。\n",
    "\t</p>\n",
    "</html>"
   ]
  },
  {
   "cell_type": "code",
   "execution_count": 6,
   "metadata": {
    "collapsed": true
   },
   "outputs": [],
   "source": [
    "# データを変数にセット\n",
    "X = uscrime[vars].values\n",
    "y = uscrime['y'].values\n",
    "N = len(y)\n",
    "M = len(vars)"
   ]
  },
  {
   "cell_type": "code",
   "execution_count": 7,
   "metadata": {
    "collapsed": false
   },
   "outputs": [
    {
     "data": {
      "image/png": "[encoded data removed]",
      "text/plain": [
       "Graphics object consisting of 1 graphics primitive"
      ]
     },
     "execution_count": 7,
     "metadata": {},
     "output_type": "execute_result"
    }
   ],
   "source": [
    "# sklearnのRidge回帰を使って最適解を見つける\n",
    "from sklearn.linear_model import Ridge\n",
    "clf = Ridge(alpha=1.0)\n",
    "clf.fit(X, y) \n",
    "pred = clf.predict(X)\n",
    "list_plot(zip(y, pred), figsize=4, zorder=2)"
   ]
  },
  {
   "cell_type": "markdown",
   "metadata": {},
   "source": [
    "<html>\n",
    "\t<h3>異常度の計算</h3>\n",
    "\t<p>\n",
    "\t\t井出本では、リッジ回帰のλについても最適な値を求めていますが、\n",
    "\t\tここではλ=1.0で計算した結果を使って異常度を計算します。\n",
    "\t</p>\n",
    "\t<p>\n",
    "\t\t観測値と回帰結果との残差の自乗は、score関数で求まります。\n",
    "\t\tあとは、係数α（coefs）を使って$\\hat{\\sigma}^2_{ridge}$を求め、\n",
    "\t\t観測値yと変数xの中心値を使って異常度を計算します。\n",
    "\t</p>\n",
    "</html>"
   ]
  },
  {
   "cell_type": "code",
   "execution_count": 8,
   "metadata": {
    "collapsed": false
   },
   "outputs": [
    {
     "data": {
      "image/png": "[encoded data removed]",
      "text/plain": [
       "Graphics object consisting of 1 graphics primitive"
      ]
     },
     "execution_count": 8,
     "metadata": {},
     "output_type": "execute_result"
    }
   ],
   "source": [
    "# 異常度aを求める\n",
    "lam = 1.0\n",
    "coefs = clf.coef_\n",
    "score = clf.score(X, y)\n",
    "sig2 = (lam*sum(coefs^2) + score)/N\n",
    "y_bar = uscrime['y'].mean()\n",
    "X_bar = uscrime[vars].mean().values\n",
    "a = (y - y_bar - coefs.dot((X - X_bar).T))^2/sig2 \n",
    "list_plot(a, figsize=4, zorder=2)"
   ]
  },
  {
   "cell_type": "markdown",
   "metadata": {},
   "source": [
    "<html>\n",
    "\t<p>\n",
    "\t\t計算結果は、井出本とは若干異なりますが、概ねデータの特徴を捉えていると思われます。\n",
    "\t</p>\n",
    "</html>\n"
   ]
  },
  {
   "cell_type": "code",
   "execution_count": 9,
   "metadata": {
    "collapsed": false
   },
   "outputs": [
    {
     "data": {
      "text/html": [
       "<table class='table_form'><tbody><tr><th>M</th><th>Ed</th><th>Po1</th><th>Po2</th><th>LF</th><th>M.F</th><th>Pop</th><th>NW</th><th>U1</th><th>U2</th><th>GDP</th><th>Ineq</th><th>Prob</th><th>Time</th></tr><tr class='row-a'><td>151.0</td><td>91.0</td><td>58.0</td><td>56.0</td><td>510.0</td><td>950.0</td><td>33.0</td><td>301.0</td><td>108.0</td><td>41.0</td><td>394.0</td><td>261.0</td><td>0.0846</td><td>26.2011</td></tr><tr class='row-b'><td>140.0</td><td>93.0</td><td>55.0</td><td>54.0</td><td>535.0</td><td>1045.0</td><td>6.0</td><td>20.0</td><td>135.0</td><td>40.0</td><td>453.0</td><td>200.0</td><td>0.042</td><td>21.7998</td></tr><tr class='row-a'><td>125.0</td><td>108.0</td><td>113.0</td><td>105.0</td><td>567.0</td><td>985.0</td><td>78.0</td><td>94.0</td><td>130.0</td><td>58.0</td><td>626.0</td><td>166.0</td><td>0.0348</td><td>26.401</td></tr><tr class='row-b'><td>131.0</td><td>121.0</td><td>160.0</td><td>143.0</td><td>631.0</td><td>1071.0</td><td>3.0</td><td>77.0</td><td>102.0</td><td>41.0</td><td>674.0</td><td>152.0</td><td>0.0417</td><td>22.1005</td></tr><tr class='row-a'><td>152.0</td><td>112.0</td><td>82.0</td><td>76.0</td><td>571.0</td><td>1018.0</td><td>10.0</td><td>79.0</td><td>103.0</td><td>28.0</td><td>537.0</td><td>215.0</td><td>0.0382</td><td>25.8006</td></tr></tbody></table>"
      ],
      "text/plain": [
       "<__main__.Table2Html instance at 0x7f6a50f62758>"
      ]
     },
     "execution_count": 9,
     "metadata": {},
     "output_type": "execute_result"
    }
   ],
   "source": [
    "uscrime['a1'] = a\n",
    "out = uscrime.sort_values(by=['a1'])[vars].head()\n",
    "#html(out.to_html(classes =\"table_form\")) \n",
    "Table2Html(out.values.tolist(), header= vars)"
   ]
  },
  {
   "cell_type": "markdown",
   "metadata": {},
   "source": [
    "<html>\n",
    "\t<p>\n",
    "\t\t参考のために、λを0から5まで0.1刻みで計算したscoreの値をプロットしてみました。\n",
    "\t\t1.0でも概ね収束しているようにみえます。\n",
    "\t</p>\n",
    "</html>"
   ]
  },
  {
   "cell_type": "code",
   "execution_count": 10,
   "metadata": {
    "collapsed": false
   },
   "outputs": [
    {
     "data": {
      "image/png": "[encoded data removed]",
      "text/plain": [
       "Graphics object consisting of 1 graphics primitive"
      ]
     },
     "execution_count": 10,
     "metadata": {},
     "output_type": "execute_result"
    }
   ],
   "source": [
    "# alphaの値を変えてみる => alpha=1.0で十分よい値が求まっていることが分かる\n",
    "lams = np.arange(0, 5, 5/50)\n",
    "Res = []\n",
    "for lam in lams:\n",
    "    clf = Ridge(alpha=lam)\n",
    "    clf.fit(X,y)\n",
    "    Res += [clf.score(X, y)]\n",
    "list_plot(Res, figsize=4, zorder=2)"
   ]
  },
  {
   "cell_type": "code",
   "execution_count": null,
   "metadata": {
    "collapsed": true
   },
   "outputs": [],
   "source": []
  }
 ],
 "metadata": {
  "kernelspec": {
   "display_name": "SageMath 7.2",
   "language": "",
   "name": "sagemath"
  },
  "language_info": {
   "codemirror_mode": {
    "name": "ipython",
    "version": 2
   },
   "file_extension": ".py",
   "mimetype": "text/x-python",
   "name": "python",
   "nbconvert_exporter": "python",
   "pygments_lexer": "ipython2",
   "version": "2.7.10"
  }
 },
 "nbformat": 4,
 "nbformat_minor": 0
}
