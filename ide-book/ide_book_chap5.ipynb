{
 "cells": [
  {
   "cell_type": "markdown",
   "metadata": {},
   "source": [
    "<html>\n",
    "\t<author>Hiroshi TAKEMOTO</author>\n",
    "\t(<email>take.pwave@gmail.com</email>)\n",
    "\t\n",
    "\t<h1>入門機械学習による異常検出</h1>\n",
    "\t<p>\n",
    "\t\t井出　剛著の「入門機械学習による異常検出」(以降、井出本と記す)の例題をSageを使ってお復習いします。\n",
    "\t</p>\n",
    "</html>"
   ]
  },
  {
   "cell_type": "markdown",
   "metadata": {},
   "source": [
    "<html>\n",
    "\t<h2>5章　不要な次元を含むデータからの異常検知</h2>\n",
    "\t<p>\n",
    "\t\tこの章でのポイントは、主成分分析で求めた正常な空間からのずれの距離を異常度とする\n",
    "\t\t再構成誤差と思われます。\n",
    "\t</p>\n",
    "</html>\n",
    "\n",
    "<html>\n",
    "\t<h3>分散最大化による定式化</h3>\n",
    "\t<p>\n",
    "\t\t井出本のラグランジュ乗数の説明が私が習った方法と違うので、ここではPRMLの12章の定式化を元に\n",
    "\t\t式を整理します。\n",
    "\t</p>\n",
    "\t<p>\n",
    "\t\tPRMLの図12.2から1次元に投影されたD次元ベクトル$u_1$を使って、分散最大化による定式化の\n",
    "\t\t様子をまとめます。\n",
    "\t\t<p align=\"left\">\n",
    "\t\t\t<img src=\"images/Figure12.2.png\" width=\"30%\"></img>\n",
    "\t\t</p>\n",
    "\t\t$u_1$は、単位ベクトルであり、$u_1^T u_1 = 1$であり、各データ点は$x_n$は、$u_1^T x_n$として投影されます。（$\\tilde{x}_n$の点）\n",
    "\t\t投影されたデータの平均値は、$u_1^T \\bar{x}$であり、$\\bar{x}$はサンプルデータの平均です。\n",
    "$$\n",
    "\t\t\\bar{x} = \\frac{1}{N} \\sum_{n=1}^N x_n\n",
    "$$\t\t\n",
    "\t\tまた、投影されたデータの分散は、以下の様に求まります。\n",
    "$$\n",
    "\t\t\\frac{1}{N} \\sum_{n=1}^N \\left \\{ u_1^T x_n - u_1^T \\bar{x} \\right \\} = u_1^T S u_1\n",
    "$$\t\t\n",
    "\t\tここで、Sはデータの共分散行列であり、以下の様に定義されます。\n",
    "$$\n",
    "\t\tS = \\frac{1}{N} \\sum_{n=1}^N (x_n - \\bar{x})(x_n - \\bar{x})^T\n",
    "$$\t\t\n",
    "\t\t投影された分散Sの最大値を求めます。ここで$u_1^T u_1 = 1$の制約が加わり、これをラグランジュ乗数を導入して、\n",
    "\t\t以下の様な式を$u_1$で微分し、０となる値を求めます。\n",
    "$$\n",
    "\t\tu_1^T S u_1 + (\\lambda_1 - u_1^T u_1)\n",
    "$$\n",
    "\t\t以下の公式にSが対象行列であることを使うと、第1項の偏微分は以下のようになります。\n",
    "$$\n",
    "\t\t\\frac{\\partial u_1^T S u_1}{\\partial u_1} = (S + S^T)u_1 = 2 S u_1\n",
    "$$\t\t\n",
    "\t\t右辺をまとめると、\n",
    "$$\n",
    "\\begin{eqnarray}\n",
    "\n",
    "\t\t0 & = & \\frac{\\partial}{\\partial u_1} \\left [ u_1^T S u_1 - \\lambda_1(1 - u_1^T u_1) \\right] \\\\\n",
    "\t\t  & = & ( 2S u_1 - 2 \\lambda_1 u_1 )\n",
    "\\end{eqnarray}\t\t\n",
    "$$\n",
    "\t\t固有値の定義から、u_1が固有値$\\lambda_1$の固有ベクトルであることが分かります。\n",
    "$$\n",
    "\t\tS u_1 = \\lambda_1 u_1\n",
    "$$\t\n",
    "\t\t上記の式に左から$u_1^T$を掛け、$u_1^T u_1 = 1 $から、分散$\\lambda_1$（固有値）は以下の様に求まります。\n",
    "$$\n",
    "\t\tu_1^T S u_1 = \\lambda_1\n",
    "$$\t\t\n",
    "\t</p>\n",
    "</html>"
   ]
  },
  {
   "cell_type": "markdown",
   "metadata": {},
   "source": [
    "<html>\n",
    "\t<h3>準備</h3>\n",
    "\t<p>\n",
    "\t\tいつものように必要なライブラリを読み込み、テストデータとしてRのMASSパッケージに含まれているCars93を使用します。\n",
    "\t</p>\n",
    "</html>"
   ]
  },
  {
   "cell_type": "code",
   "execution_count": 1,
   "metadata": {
    "collapsed": false
   },
   "outputs": [
    {
     "data": {
      "text/html": [
       "<link rel=\"stylesheet\" type=\"text/css\" href=\"css/sage_table_form.css\">"
      ],
      "text/plain": [
       "<IPython.core.display.HTML object>"
      ]
     },
     "metadata": {},
     "output_type": "display_data"
    }
   ],
   "source": [
    "%%HTML\n",
    "<link rel=\"stylesheet\" type=\"text/css\" href=\"css/sage_table_form.css\">"
   ]
  },
  {
   "cell_type": "code",
   "execution_count": 2,
   "metadata": {
    "collapsed": false
   },
   "outputs": [],
   "source": [
    "# RとPandasのデータフレームを相互に変換する関数を読み込む\n",
    "# Rの必要なライブラリ\n",
    "r('library(ggplot2)')\n",
    "r('library(jsonlite)')\n",
    "\n",
    "# python用のパッケージ\n",
    "import pandas as pd\n",
    "import numpy as np\n",
    "import matplotlib.pyplot as plt \n",
    "import seaborn as sns\n",
    "%matplotlib inline\n",
    "\n",
    "# jupyter用のdisplayメソッド\n",
    "from IPython.display import display, Latex, HTML, Math, JSON\n",
    "# sageユーティリティ\n",
    "load('script/sage_util.py')\n",
    "# Rユーティリティ\n",
    "load('script/RUtil.py')"
   ]
  },
  {
   "cell_type": "code",
   "execution_count": 3,
   "metadata": {
    "collapsed": true
   },
   "outputs": [],
   "source": [
    "# RのテストデータCars93をPandasのデータフレームに変換\n",
    "r('library(MASS)')\n",
    "cars93 = RDf2PandaDf('Cars93')"
   ]
  },
  {
   "cell_type": "markdown",
   "metadata": {},
   "source": [
    "<html>\n",
    "\t<h3>データ選択</h3>\n",
    "\t<p>\n",
    "\t\tCars93は、９３年のアメリカの車の指標と集めたもので、価格（Min.Price, Price, Max.Price）と燃費（MPG.city, MPG.highway）、\n",
    "\t\tエンジンサイズ、馬力など、１５項目を使用します。\n",
    "\t</p>\n",
    "</html>"
   ]
  },
  {
   "cell_type": "code",
   "execution_count": 4,
   "metadata": {
    "collapsed": false
   },
   "outputs": [
    {
     "name": "stdout",
     "output_type": "stream",
     "text": [
      "<class 'pandas.core.frame.DataFrame'>\n",
      "Index: 93 entries, Acura Integra to Volvo 850\n",
      "Data columns (total 15 columns):\n",
      "Min.Price             93 non-null float64\n",
      "Price                 93 non-null float64\n",
      "Max.Price             93 non-null float64\n",
      "MPG.city              93 non-null int64\n",
      "MPG.highway           93 non-null int64\n",
      "EngineSize            93 non-null float64\n",
      "Horsepower            93 non-null int64\n",
      "RPM                   93 non-null int64\n",
      "Rev.per.mile          93 non-null int64\n",
      "Fuel.tank.capacity    93 non-null float64\n",
      "Length                93 non-null int64\n",
      "Wheelbase             93 non-null int64\n",
      "Width                 93 non-null int64\n",
      "Turn.circle           93 non-null int64\n",
      "Weight                93 non-null int64\n",
      "dtypes: float64(5), int64(10)\n",
      "memory usage: 11.6+ KB\n"
     ]
    }
   ],
   "source": [
    "# 以下の15変数を選択し、Make（製品名）をインデックスとする\n",
    "cc = ['Min.Price', 'Price', 'Max.Price', 'MPG.city', 'MPG.highway', 'EngineSize', 'Horsepower', 'RPM', 'Rev.per.mile', 'Fuel.tank.capacity', 'Length', 'Wheelbase', 'Width', 'Turn.circle', 'Weight', 'Make']\n",
    "X = cars93[cc]\n",
    "X = X.set_index(['Make'])\n",
    "X.info()"
   ]
  },
  {
   "cell_type": "markdown",
   "metadata": {},
   "source": [
    "<html>\n",
    "\t<h3>データのスケーリング</h3>\n",
    "\t<p>\n",
    "\t\tデータを平均と分散でスケーリングし、データ個数Nをセットします。\n",
    "\t</p>\n",
    "</html>"
   ]
  },
  {
   "cell_type": "code",
   "execution_count": 5,
   "metadata": {
    "collapsed": true
   },
   "outputs": [],
   "source": [
    "# 中心にスケーリングしたデータ\n",
    "Xc = (X - X.mean())/X.std()\n",
    "N = Xc.shape[0]"
   ]
  },
  {
   "cell_type": "markdown",
   "metadata": {},
   "source": [
    "<html>\n",
    "\t<p>\n",
    "\t\tPandasの関数で共分散行列を求めます。これとSageで定義に従って計算した共分散行列Sigの値を比較し、\n",
    "\t\t正しく計算できていることを確認しました。\n",
    "\t</p>\n",
    "</html>"
   ]
  },
  {
   "cell_type": "code",
   "execution_count": 6,
   "metadata": {
    "collapsed": true
   },
   "outputs": [],
   "source": [
    "# Pandasで共分散行列Sigを求める\n",
    "Sig = matrix(Xc.cov().values)\n",
    "# show(Sig)"
   ]
  },
  {
   "cell_type": "code",
   "execution_count": 7,
   "metadata": {
    "collapsed": true
   },
   "outputs": [],
   "source": [
    "# 定義に基づきSageで散布行列Sを計算し、正規化して共分散行列Sigを表示して上記と一致することを確認\n",
    "Xcm = matrix(Xc.values).T\n",
    "S = Xcm*Xcm.T\n",
    "Sig = S/(N-1)\n",
    "# show(Sig)"
   ]
  },
  {
   "cell_type": "markdown",
   "metadata": {},
   "source": [
    "<html>\n",
    "\t<h3>固有値と固有ベクトル</h3>\n",
    "\t<p>\n",
    "\t\tSageのeigenmatrix_leftを使って散布行列Sの固有値と固有ベクトルを求めます。\n",
    "\t</p>\n",
    "\t<p>\n",
    "\t\t固有値の値を大きい順にプロットしてみます。２〜３成分程度で十分表現できることが分かります。\n",
    "\t</p>\n",
    "</html>"
   ]
  },
  {
   "cell_type": "code",
   "execution_count": 8,
   "metadata": {
    "collapsed": false
   },
   "outputs": [
    {
     "data": {
      "image/png": "[encoded data removed]",
      "text/plain": [
       "Graphics object consisting of 1 graphics primitive"
      ]
     },
     "execution_count": 8,
     "metadata": {},
     "output_type": "execute_result"
    }
   ],
   "source": [
    "# 固有値Lamと固有ベクトルUを求める\n",
    "(Lam, U) = S.eigenmatrix_left()\n",
    "# 固有ベクトルのプロット\n",
    "list_plot(Lam.diagonal(), figsize=4, zorder=2)"
   ]
  },
  {
   "cell_type": "markdown",
   "metadata": {},
   "source": [
    "<html>\n",
    "\t<h3>第１と第２固有ベクトル</h3>\n",
    "\t<p>\n",
    "\t\t各点を第１と第２固有ベクトルに投影します。\n",
    "\t</p>\n",
    "</html>"
   ]
  },
  {
   "cell_type": "code",
   "execution_count": 9,
   "metadata": {
    "collapsed": false
   },
   "outputs": [
    {
     "data": {
      "text/plain": [
       "93 x 2 dense matrix over Real Double Field (use the '.str()' method to see the entries)"
      ]
     },
     "execution_count": 9,
     "metadata": {},
     "output_type": "execute_result"
    }
   ],
   "source": [
    "# 固有ベクトルの第1成分と第2成分上にプロットする\n",
    "U12 = U.submatrix(0, 0, 2, 15)\n",
    "Z = Xcm.T*(U12.T); Z"
   ]
  },
  {
   "cell_type": "markdown",
   "metadata": {},
   "source": [
    "<html>\n",
    "\t<h3>第１と第２固有ベクトル空間での分布</h3>\n",
    "\t<p>\n",
    "\t\t観測値を第１と第２固有ベクトル空間での分布をプロットしてみます。井出本の分布と比べると第１成分が正負逆になって\n",
    "\t\tいますが、分布は同じように思われます。\n",
    "\t</p>\n",
    "</html>"
   ]
  },
  {
   "cell_type": "code",
   "execution_count": 10,
   "metadata": {
    "collapsed": false
   },
   "outputs": [
    {
     "data": {
      "image/png": "[encoded data removed]",
      "text/plain": [
       "Graphics object consisting of 1 graphics primitive"
      ]
     },
     "execution_count": 10,
     "metadata": {},
     "output_type": "execute_result"
    }
   ],
   "source": [
    "list_plot(Z.numpy(), figsize=4, zorder=2)"
   ]
  },
  {
   "cell_type": "markdown",
   "metadata": {},
   "source": [
    "<html>\n",
    "\t<h2>異常値の検出</h2>\n",
    "\t<p>\n",
    "\t\t異常値は、主成分分析を行った固有値ベクトルに投影した値と観測値の残差と井出本では定義しています。\n",
    "\t\tこれを再構成残差と呼んでいます。\n",
    "$$\n",
    "\t\ta_1(x') = (x' - \\hat{\\mu})^T \\left [ I_M -U_m U_m^T \\right ] (x' -\\hat{\\mu})\n",
    "$$\t\t\n",
    "\t</p>\n",
    "\t<p>\n",
    "\t\tSageでの計算では、numpyのarrayにした後、カラムの和(Rのcolsumsの代わり)を求めるため、sum(1)を使っています。\n",
    "\t</p>\n",
    "</html>"
   ]
  },
  {
   "cell_type": "code",
   "execution_count": 11,
   "metadata": {
    "collapsed": true
   },
   "outputs": [],
   "source": [
    "# 要素毎の積を計算するためnumpyデータに変換する\n",
    "xcm = Xcm.T.numpy()\n",
    "x2 = (Xcm.T*(U12.T)).numpy()\n",
    "# 要素の二乗を計算し、カラムの和を取り異常度a1を求める\n",
    "a1 = (xcm*xcm).sum(1) - (x2*x2).sum(1)"
   ]
  },
  {
   "cell_type": "code",
   "execution_count": 12,
   "metadata": {
    "collapsed": false
   },
   "outputs": [
    {
     "data": {
      "image/png": "[encoded data removed]",
      "text/plain": [
       "Graphics object consisting of 1 graphics primitive"
      ]
     },
     "execution_count": 12,
     "metadata": {},
     "output_type": "execute_result"
    }
   ],
   "source": [
    "list_plot(a1, figsize=4, zorder=2)"
   ]
  },
  {
   "cell_type": "markdown",
   "metadata": {},
   "source": [
    "<html>\n",
    "\t<h3>異常度の高い車種</h3>\n",
    "\t<p>\n",
    "\t\t異常度a1をXに追加して、異常度の高い順にソートしてトップ5を取ってみると、\n",
    "\t\t井出本の通りの結果となりました。\n",
    "\t</p>\n",
    "</html>"
   ]
  },
  {
   "cell_type": "code",
   "execution_count": 13,
   "metadata": {
    "collapsed": true
   },
   "outputs": [],
   "source": [
    "# 異常度をXに追加\n",
    "X['a1'] = a1"
   ]
  },
  {
   "cell_type": "code",
   "execution_count": 14,
   "metadata": {
    "collapsed": false
   },
   "outputs": [
    {
     "data": {
      "text/html": [
       "<div>\n",
       "<table border=\"1\" class=\"dataframe\">\n",
       "  <thead>\n",
       "    <tr style=\"text-align: right;\">\n",
       "      <th></th>\n",
       "      <th>a1</th>\n",
       "      <th>Price</th>\n",
       "      <th>MPG.city</th>\n",
       "      <th>Horsepower</th>\n",
       "      <th>Length</th>\n",
       "    </tr>\n",
       "    <tr>\n",
       "      <th>Make</th>\n",
       "      <th></th>\n",
       "      <th></th>\n",
       "      <th></th>\n",
       "      <th></th>\n",
       "      <th></th>\n",
       "    </tr>\n",
       "  </thead>\n",
       "  <tbody>\n",
       "    <tr>\n",
       "      <th>Chevrolet Corvette</th>\n",
       "      <td>13.595830</td>\n",
       "      <td>38.0</td>\n",
       "      <td>17</td>\n",
       "      <td>300</td>\n",
       "      <td>179</td>\n",
       "    </tr>\n",
       "    <tr>\n",
       "      <th>Honda Civic</th>\n",
       "      <td>11.829742</td>\n",
       "      <td>12.1</td>\n",
       "      <td>42</td>\n",
       "      <td>102</td>\n",
       "      <td>173</td>\n",
       "    </tr>\n",
       "    <tr>\n",
       "      <th>Geo Metro</th>\n",
       "      <td>11.156367</td>\n",
       "      <td>8.4</td>\n",
       "      <td>46</td>\n",
       "      <td>55</td>\n",
       "      <td>151</td>\n",
       "    </tr>\n",
       "    <tr>\n",
       "      <th>Mercedes-Benz 300E</th>\n",
       "      <td>10.586025</td>\n",
       "      <td>61.9</td>\n",
       "      <td>19</td>\n",
       "      <td>217</td>\n",
       "      <td>187</td>\n",
       "    </tr>\n",
       "    <tr>\n",
       "      <th>Volkswagen Eurovan</th>\n",
       "      <td>9.971148</td>\n",
       "      <td>19.7</td>\n",
       "      <td>17</td>\n",
       "      <td>109</td>\n",
       "      <td>187</td>\n",
       "    </tr>\n",
       "  </tbody>\n",
       "</table>\n",
       "</div>"
      ],
      "text/plain": [
       "                           a1  Price  MPG.city  Horsepower  Length\n",
       "Make                                                              \n",
       "Chevrolet Corvette  13.595830   38.0        17         300     179\n",
       "Honda Civic         11.829742   12.1        42         102     173\n",
       "Geo Metro           11.156367    8.4        46          55     151\n",
       "Mercedes-Benz 300E  10.586025   61.9        19         217     187\n",
       "Volkswagen Eurovan   9.971148   19.7        17         109     187"
      ]
     },
     "execution_count": 14,
     "metadata": {},
     "output_type": "execute_result"
    }
   ],
   "source": [
    "# 異常度の高い順に6個出力\n",
    "cols = ['a1',  'Price', 'MPG.city', 'Horsepower', 'Length']\n",
    "a5 = X.sort_values(by=['a1'], ascending=False)[cols]\n",
    "a5.head()"
   ]
  },
  {
   "cell_type": "markdown",
   "metadata": {},
   "source": [
    "<html>\n",
    "\t<h2>カーネル主成分分析</h2>\n",
    "\t<p>\n",
    "\t\t井出本では、カーネル主成分分析の式の導出をしていますが、潜在変数の導入理由や考え方は、\n",
    "\t\tPRMLの説明の方が分かりやすいのでここでは省略します。\n",
    "\t</p>\n",
    "\t<p>\n",
    "\t\t井出本ではRのkernlabパッケージを使っていますが、ここではsklearnのKernelPCAを使って\n",
    "\t\t計算してみます。\n",
    "\t</p>\n",
    "\t<p>\n",
    "\t\t最初にsklearnのPCAを使って第１主成分と第２主成分にXcをプロットしてみます。\n",
    "\t\t結果は、先ほど求めた結果と同じになりました。\n",
    "\t</p>\n",
    "</html>"
   ]
  },
  {
   "cell_type": "code",
   "execution_count": 15,
   "metadata": {
    "collapsed": false
   },
   "outputs": [
    {
     "data": {
      "image/png": "[encoded data removed]",
      "text/plain": [
       "Graphics object consisting of 1 graphics primitive"
      ]
     },
     "execution_count": 15,
     "metadata": {},
     "output_type": "execute_result"
    }
   ],
   "source": [
    "# sklearnのPCAを使ってみる\n",
    "from sklearn.decomposition import PCA, KernelPCA\n",
    "pca = PCA()\n",
    "X_pca = pca.fit_transform(Xc)\n",
    "list_plot(X_pca[:, 0:2], figsize=4, zorder=2)"
   ]
  },
  {
   "cell_type": "markdown",
   "metadata": {},
   "source": [
    "<html>\n",
    "\t<h3>KernelPCAを使ってみる</h3>\n",
    "\t<p>\n",
    "\t\tsklearnのPCAの使い方が分かったので、今度はKernelPCAで同様の計算をしてみます。\n",
    "\t\tカーネルにはrbfを使いgamma=0.001と0.1の結果を出力してみます。\n",
    "\t</p>\n",
    "\t<p>\n",
    "\t\t今度は、井出本と同様の結果が求まりました。KernelPCAは、計算に使用する固有値が少ない場合、\n",
    "\t\tPCAよりも速く計算することができるので、データ数が多い場合には有効です。\n",
    "\t</p>\n",
    "</html>"
   ]
  },
  {
   "cell_type": "code",
   "execution_count": 16,
   "metadata": {
    "collapsed": true
   },
   "outputs": [],
   "source": [
    "# sklearnのKernelPCAを使ってみる\n",
    "# σ=0.001（通常のPCAに近い）、σ=0.1の違いをみる\n",
    "kpca = KernelPCA(kernel=\"rbf\", gamma=0.001)\n",
    "X_kpca = kpca.fit_transform(Xc)\n",
    "g0_001 = list_plot(X_kpca[:, 0:2], figsize=4, zorder=2)"
   ]
  },
  {
   "cell_type": "code",
   "execution_count": 17,
   "metadata": {
    "collapsed": false
   },
   "outputs": [
    {
     "data": {
      "text/html": [
       "<table class='table_form'><tbody><tr><th>σ=0.001</th><th>σ=0.1</th></tr><tr class='row-a'><td><img src='data:image/png;base64,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'/></td><td><img src='data:image/png;base64,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'/></td></tr></tbody></table>"
      ],
      "text/plain": [
       "<__main__.Table2Html instance at 0x7fcd74c10908>"
      ]
     },
     "execution_count": 17,
     "metadata": {},
     "output_type": "execute_result"
    }
   ],
   "source": [
    "kpca = KernelPCA(kernel=\"rbf\", gamma=0.1)\n",
    "X_kpca = kpca.fit_transform(Xc)\n",
    "g0_1 = list_plot(X_kpca[:, 0:2], figsize=4, zorder=2)\n",
    "Table2Html([[_to_png(g0_001), _to_png(g0_1)]], header=['σ=0.001', 'σ=0.1'])"
   ]
  },
  {
   "cell_type": "code",
   "execution_count": null,
   "metadata": {
    "collapsed": true
   },
   "outputs": [],
   "source": []
  }
 ],
 "metadata": {
  "kernelspec": {
   "display_name": "SageMath 7.2",
   "language": "",
   "name": "sagemath"
  },
  "language_info": {
   "codemirror_mode": {
    "name": "ipython",
    "version": 2
   },
   "file_extension": ".py",
   "mimetype": "text/x-python",
   "name": "python",
   "nbconvert_exporter": "python",
   "pygments_lexer": "ipython2",
   "version": "2.7.10"
  }
 },
 "nbformat": 4,
 "nbformat_minor": 0
}
