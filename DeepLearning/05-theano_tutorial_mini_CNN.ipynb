{
 "cells": [
  {
   "cell_type": "markdown",
   "metadata": {},
   "source": [
    "オリジナルの作成: "
   ]
  },
  {
   "cell_type": "markdown",
   "metadata": {},
   "source": [
    "<html>\n",
    "\t<author>Hiroshi TAKEMOTO</author>\n",
    "\t(<email>take.pwave@gmail.com</email>)\n",
    "\t\n",
    "\t<h1>SageでTheanoの畳み込みニューラルネットを体験する</h1>\n",
    "\t<h2>参考サイト</h2>\n",
    "\t<p>\t\n",
    "\t\tここでは、\n",
    "\t\t <a href=\"http://aidiary.hatenablog.com/\">人工知能に関する断創録</a>\n",
    "\t\t のTheanoに関連する記事をSageのノートブックで実装し、Thenoの修得を試みます。\t\n",
    "\t</p>\n",
    "\t<p>\n",
    "\t\t今回は、TheanoのTutorialから畳み込みニューラルネット（CNN）を使った手書き数字認識を以下のページを参考にSageのノートブックで試してみます。\n",
    "\t\t前半は、人工知能に関する断創録から参照されている「StatsFragments」さんのページを参考に畳み込みとMaxPoolingをSageで動かしてみました（ほぼ引用ですみません）。\n",
    "\t\t<ul>\n",
    "\t\t\t<li>\n",
    "\t\t\t\t<a href=\"http://sinhrks.hatenablog.com/entry/2014/12/07/203048\">Theano で Deep Learning ＜3＞ : 畳み込みニューラルネットワーク</a>\n",
    "\t\t\t</li>\n",
    "\t\t\t<li>\n",
    "\t\t\t\t<a href=\"http://aidiary.hatenablog.com/entry/20150626/1435329581\">Theanoによる畳み込みニューラルネットワークの実装 (1)</a>\n",
    "\t\t\t</li>\n",
    "\t\t</ul>\t\t\n",
    "\t</p>\n",
    "</html>"
   ]
  },
  {
   "cell_type": "markdown",
   "metadata": {},
   "source": [
    "<html>\n",
    "\t<h2>前準備</h2>\n",
    "\t<h3>処理系をSageからPythonに変更</h3>\n",
    "\t<p>\n",
    "\t\tSageでTheanoのtutorialのCNNを実行すると、DimShuffleでエラーになるため、今回もPythonを使用します。\t\n",
    "\t</p>\n",
    "\t<p>\n",
    "\t\tそこで、ノートブックの処理系をSageからPythonに切り替えます。上部の左から4つめのプルダウンメニューから\n",
    "\t\t「python」を選択してください。\n",
    "\t</p>\n",
    "\t<p>\n",
    "\t\t<img src=\"images/theano_setup.png\"/>\n",
    "\t</p>\n",
    "</html>"
   ]
  },
  {
   "cell_type": "markdown",
   "metadata": {},
   "source": [
    "<html>\n",
    "\t<h3>必要なライブラリのimport</h3>\n",
    "\t<p>\n",
    "\t\t最初に、theanoを使うのに必要なライブラリをインポートします。\n",
    "\t</p>\n",
    "</html>"
   ]
  },
  {
   "cell_type": "code",
   "execution_count": 1,
   "metadata": {
    "collapsed": false
   },
   "outputs": [],
   "source": [
    "# 必要なライブラリのインポート\n",
    "import six.moves.cPickle as pickle\n",
    "import gzip\n",
    "import os\n",
    "import sys\n",
    "import timeit\n",
    "import time\n",
    "import urllib\n",
    "\n",
    "import numpy as np\n",
    "import matplotlib.pyplot as plt \n",
    "%matplotlib inline\n",
    "\n",
    "import theano\n",
    "import theano.tensor as T\n",
    "from theano.tensor.nnet import conv\n",
    "# 変更され、パッケージが移動\n",
    "# from theano.tensor.signal import downsample\n",
    "from theano.tensor.signal import pool\n",
    "\n",
    "# これまで確認したlogistic_sgd.pyのLogisticRegression, mlpのHiddenLayerをインポートする\n",
    "from logistic_sgd import LogisticRegression, load_data\n",
    "from mlp import HiddenLayer"
   ]
  },
  {
   "cell_type": "markdown",
   "metadata": {},
   "source": [
    "<html>\n",
    "\t<h2>畳み込みニューラルネットワークの構成</h2>\n",
    "\t<p>\n",
    "\t\t「Theanoによる畳み込みニューラルネットワークの実装 (1)」から\n",
    "\t\tニューラルネットワーク（CNN）の構成図を引用します。\n",
    "\t</p>\n",
    "\t<p>\n",
    "\t\t<img width=\"60%\" height=\"60%\" src=\"http://cdn-ak.f.st-hatena.com/images/fotolife/a/aidiary/20150626/20150626203849.png\"/>\n",
    "\t</p>\n",
    "\t<p>\n",
    "\t\t最初に畳み込み（convolutionの矢印部）とプーリング（maxpoolingの矢印部）を持つLeNetConvPoolLayerが2層あり、\n",
    "\t\tその後に多層パーセプトロン（HiddenLayer）と最後のロジスティック（LogisticRegression）から構成されています。\n",
    "\t</p>\n",
    "\t<p>\n",
    "\t\t前半の畳み込みでは画像の特徴を際立たせるためのフィルタリングを行い、Max Poolingでは画像のずれを吸収し、\n",
    "\t\t疎な結合を構成しています。\n",
    "\t</p>\n",
    "</html>"
   ]
  },
  {
   "cell_type": "markdown",
   "metadata": {},
   "source": [
    "<html>\n",
    "\t<h3>畳み込み演算</h3>\n",
    "\t<p>\n",
    "\t\t<a href=\"http://sinhrks.hatenablog.com/entry/2014/12/07/203048\">Theano で Deep Learning ＜3＞ : 畳み込みニューラルネットワーク</a>\n",
    "\t\tの例題をSageで動かしながら、畳み込み演算の効果をみてみましょう。\n",
    "\t</p>\n",
    "\t<p>\n",
    "\t\tTheanoでは、畳み込みの処理がパッケージtheano.tensor.nnet.convのconv2dで提供されています。\n",
    "\t</p>\n",
    "\t<p>\n",
    "\t\tconv2dへの入力テンソルは、以下の様な次元を持ちます。\n",
    "\t\t<ul>\n",
    "\t\t\t<li>Minibatchのサイズ: 以下の例では入力が1個なので1としています</li>\n",
    "\t\t\t<li>入力の特徴マップ数: 例ではRGBの3つを特徴マップとしているので、3としています</li>\n",
    "\t\t\t<li>W: 重みテンソル、次元は（出力特徴マップ数、入力特徴マップ数、フィルタの縦幅、フィルタの横幅）</li>\n",
    "\t\t\t<li>b: バイアスベクトル、長さは出力の特徴マップ数</li>\n",
    "\t\t</ul>\n",
    "\t</p>\n",
    "\t<p>\n",
    "\t\t入力テンソルinputを4次元のテンソルとして定義します。\n",
    "\t</p>\n",
    "</html>"
   ]
  },
  {
   "cell_type": "code",
   "execution_count": 2,
   "metadata": {
    "collapsed": true
   },
   "outputs": [],
   "source": [
    "rng = np.random.RandomState(23455)\n",
    "# 入力画像を受けとるシンボルを作成\n",
    "input = T.tensor4(name='input')"
   ]
  },
  {
   "cell_type": "markdown",
   "metadata": {},
   "source": [
    "<html>\n",
    "\t<p>\n",
    "\t\t重みテンソルWの次元は、（2, 3, 9, 9）で、フィルタは9x9で、2x3（出力の特徴マップ数x入力の特徴マップ数）=6種類のフィルタが使われます。\n",
    "\t</p>\n",
    "\t<p>\n",
    "\t\t以下の例では、重みの値は一様乱数を使って生成した意味のないものです。実際にはこのWが学習によって画像の特徴をより抽出できる形になります。\n",
    "\t</p>\n",
    "</html>"
   ]
  },
  {
   "cell_type": "code",
   "execution_count": 3,
   "metadata": {
    "collapsed": false
   },
   "outputs": [
    {
     "data": {
      "text/plain": [
       "(-0.064150029909958411, 0.064150029909958411)"
      ]
     },
     "execution_count": 3,
     "metadata": {},
     "output_type": "execute_result"
    }
   ],
   "source": [
    "# 重みテンソル \n",
    "# W の次元を指定 ( 出力の特徴マップ数, 入力の特徴マップ数, 畳み込み(フィルタ)の縦幅, 畳み込み(フィルタ)の横幅)\n",
    "w_shp = (2, 3, 9, 9)\n",
    "\n",
    "# 発生させる一様乱数の範囲を指定\n",
    "w_bound = np.sqrt(3 * 9 * 9)\n",
    "-1.0 / w_bound, 1.0 / w_bound"
   ]
  },
  {
   "cell_type": "markdown",
   "metadata": {},
   "source": [
    "<html>\n",
    "\t<p>\n",
    "\t\tバイアスベクトルは、出力の特徴マップ数の長さを持ち、フィルタリングの後に各画像に加えられます。\n",
    "\t</p>\n",
    "\t<p>\n",
    "\t\tそのため、4次元のテンソルと足し合わせられるようにdimshuffleで次元を調整します。\n",
    "\t\tここでは、conv_outの２つ目の次元と合うようにします。\n",
    "\t</p>\n",
    "</html>"
   ]
  },
  {
   "cell_type": "code",
   "execution_count": 4,
   "metadata": {
    "collapsed": false
   },
   "outputs": [
    {
     "data": {
      "text/plain": [
       "array([-0.3943425 ,  0.16818965])"
      ]
     },
     "execution_count": 4,
     "metadata": {},
     "output_type": "execute_result"
    }
   ],
   "source": [
    "# 重みテンソルを初期化\n",
    "W = theano.shared( np.asarray(\n",
    "            rng.uniform(\n",
    "                low=-1.0 / w_bound,\n",
    "                high=1.0 / w_bound,\n",
    "                size=w_shp),\n",
    "            dtype=input.dtype), name ='W')\n",
    "\n",
    "# バイアスベクトルを初期化\n",
    "b_shp = (2,)\n",
    "b = theano.shared(np.asarray(\n",
    "            rng.uniform(low=-.5, high=.5, size=b_shp),\n",
    "            dtype=input.dtype), name ='b')\n",
    "b.get_value()"
   ]
  },
  {
   "cell_type": "code",
   "execution_count": 5,
   "metadata": {
    "collapsed": false
   },
   "outputs": [
    {
     "data": {
      "text/plain": [
       "array([[[[-0.3943425 ]],\n",
       "\n",
       "        [[ 0.16818965]]]])"
      ]
     },
     "execution_count": 5,
     "metadata": {},
     "output_type": "execute_result"
    }
   ],
   "source": [
    "b.dimshuffle('x', 0, 'x', 'x').eval()"
   ]
  },
  {
   "cell_type": "code",
   "execution_count": 6,
   "metadata": {
    "collapsed": true
   },
   "outputs": [],
   "source": [
    "# 畳み込み とバイアスの足し合わせの定義\n",
    "conv_out = conv.conv2d(input, W)\n",
    "output = T.nnet.sigmoid(conv_out + b.dimshuffle('x', 0, 'x', 'x'))\n",
    "f = theano.function([input], output)"
   ]
  },
  {
   "cell_type": "markdown",
   "metadata": {},
   "source": [
    "<html>\n",
    "\t<h3>畳み込みの画像</h3>\n",
    "\t<p>\n",
    "\t\t通常の画像をどのようにしてTheanoで解析可能な形式にするのか、\n",
    "\t\t<a href=\"http://sinhrks.hatenablog.com/entry/2014/12/07/203048\">Theano で Deep Learning ＜3＞ : 畳み込みニューラルネットワーク</a>\n",
    "\t\tの例がとても分かりやすく参考になりました。\n",
    "\t</p>\n",
    "\t<p>\n",
    "\t\t入力画像は、縦130px * 横120pxのRGBのJPEGファイルです。\n",
    "\t</p>\n",
    "\t<p>\n",
    "\t\tこれをswapaxesを使ってTheanoの入力にあった形式に変換していきます。\n",
    "\t</p>\n",
    "</html>"
   ]
  },
  {
   "cell_type": "code",
   "execution_count": 7,
   "metadata": {
    "collapsed": false
   },
   "outputs": [
    {
     "data": {
      "text/plain": [
       "(130, 120, 3)"
      ]
     },
     "execution_count": 7,
     "metadata": {},
     "output_type": "execute_result"
    }
   ],
   "source": [
    "# 画像の読み込み\n",
    "from scipy.misc import imread\n",
    "\n",
    "# 読み込むファイル名を指定\n",
    "# PILでjpegのdecodeができないため、pngに変換して使用\n",
    "# img = imread(\"images/01.jpg\")\n",
    "img = imread(\"images/01.png\")\n",
    "img = img / 256.\n",
    "# 元画像の次元 (縦幅, 横幅, RGB)\n",
    "img.shape"
   ]
  },
  {
   "cell_type": "code",
   "execution_count": 8,
   "metadata": {
    "collapsed": false
   },
   "outputs": [
    {
     "data": {
      "text/plain": [
       "(3, 120, 130)"
      ]
     },
     "execution_count": 8,
     "metadata": {},
     "output_type": "execute_result"
    }
   ],
   "source": [
    "# 1軸目と3軸目を入替 (RGB, 横幅, 縦幅)\n",
    "img.swapaxes(0, 2).shape"
   ]
  },
  {
   "cell_type": "code",
   "execution_count": 9,
   "metadata": {
    "collapsed": false
   },
   "outputs": [
    {
     "data": {
      "text/plain": [
       "(3, 130, 120)"
      ]
     },
     "execution_count": 9,
     "metadata": {},
     "output_type": "execute_result"
    }
   ],
   "source": [
    "# 2軸目と3軸目を入替 (RGB, 縦幅, 横幅)\n",
    "img.swapaxes(0, 2).swapaxes(1, 2).shape"
   ]
  },
  {
   "cell_type": "code",
   "execution_count": 10,
   "metadata": {
    "collapsed": false
   },
   "outputs": [
    {
     "data": {
      "text/plain": [
       "(1, 3, 130, 120)"
      ]
     },
     "execution_count": 10,
     "metadata": {},
     "output_type": "execute_result"
    }
   ],
   "source": [
    "# 1軸目にダミーの軸を追加 (dummy, RGB, 縦幅, 横幅)\n",
    "img.swapaxes(0, 2).swapaxes(1, 2).reshape(1, 3, img.shape[0], img.shape[1]).shape"
   ]
  },
  {
   "cell_type": "code",
   "execution_count": 11,
   "metadata": {
    "collapsed": true
   },
   "outputs": [],
   "source": [
    "img_ = img.swapaxes(0, 2).swapaxes(1, 2).reshape(1, 3, img.shape[0], img.shape[1])"
   ]
  },
  {
   "cell_type": "markdown",
   "metadata": {},
   "source": [
    "<html>\n",
    "\t<h3>サンプル画像へのたたき込み</h3>\n",
    "\t<p>\n",
    "\t\tサンプル画像のRGBのそれぞれの画像にフィルタを使って畳み込みを施すと以下の様になります。\n",
    "\t</p>\n",
    "\t<p>\n",
    "\t\tフィルタによる畳み込みで2つの特徴マップ（画像）は、異なる表情を示します。\n",
    "\t\tこれがフィルタによる特徴抽出の効果です。\n",
    "\t</p>\n",
    "</html>"
   ]
  },
  {
   "cell_type": "code",
   "execution_count": 12,
   "metadata": {
    "collapsed": false
   },
   "outputs": [
    {
     "data": {
      "text/plain": [
       "(1, 2, 122, 112)"
      ]
     },
     "execution_count": 12,
     "metadata": {},
     "output_type": "execute_result"
    }
   ],
   "source": [
    "# 係数テンソル + バイアスベクトルを適用\n",
    "filtered_img = f(img_)\n",
    "filtered_img.shape"
   ]
  },
  {
   "cell_type": "markdown",
   "metadata": {},
   "source": [
    "オリジナルの画像\n",
    "<img src='images/01.png'/>"
   ]
  },
  {
   "cell_type": "code",
   "execution_count": 13,
   "metadata": {
    "collapsed": false
   },
   "outputs": [
    {
     "data": {
      "image/png": "[encoded data removed]",
      "text/plain": [
       "<matplotlib.figure.Figure at 0x7f7220d87050>"
      ]
     },
     "metadata": {},
     "output_type": "display_data"
    }
   ],
   "source": [
    "# RGBの画像\n",
    "plt.figure()\n",
    "for index in range(3):\n",
    "    plt.subplot(1, 3, index + 1)\n",
    "    plt.axis('off')\n",
    "    plt.imshow(img_[0][index], cmap=plt.cm.gray, interpolation='nearest')"
   ]
  },
  {
   "cell_type": "code",
   "execution_count": 14,
   "metadata": {
    "collapsed": false
   },
   "outputs": [
    {
     "data": {
      "image/png": "[encoded data removed]",
      "text/plain": [
       "<matplotlib.figure.Figure at 0x7f721eb71a10>"
      ]
     },
     "metadata": {},
     "output_type": "display_data"
    }
   ],
   "source": [
    "# フィルタ後の画像\n",
    "plt.figure()\n",
    "for index in range(2):\n",
    "    plt.subplot(1, 2, index + 1)\n",
    "    plt.axis('off')\n",
    "    plt.imshow(filtered_img[0][index], cmap=plt.cm.gray, interpolation='nearest')"
   ]
  },
  {
   "cell_type": "markdown",
   "metadata": {},
   "source": [
    "<html>\n",
    "\t<h3>フィルタの形</h3>\n",
    "\t<p>\n",
    "\t\t畳み込みに使用されたフィルタの形を表示してみると訳の分からないランダムな模様に見えます。\n",
    "\t\t畳み込みニューラルネットの学習によってこのランダムなフィルタに少しずつ特徴的な形がでてきます。\n",
    "\t</p>\n",
    "</html>"
   ]
  },
  {
   "cell_type": "code",
   "execution_count": 15,
   "metadata": {
    "collapsed": false
   },
   "outputs": [
    {
     "data": {
      "image/png": "[encoded data removed]",
      "text/plain": [
       "<matplotlib.figure.Figure at 0x7f721d1f2490>"
      ]
     },
     "metadata": {},
     "output_type": "display_data"
    }
   ],
   "source": [
    "#フィルタの形\n",
    "w = W.get_value()\n",
    "plt.figure()\n",
    "pos = 1\n",
    "for i in range(2):\n",
    "    for j in range(3):\n",
    "        plt.subplot(2, 3, pos)\n",
    "        plt.axis('off')\n",
    "        plt.imshow(w[i][j], cmap=plt.cm.gray, interpolation='nearest')\n",
    "        pos += 1"
   ]
  },
  {
   "cell_type": "markdown",
   "metadata": {},
   "source": [
    "<html>\n",
    "\t<h3>Max Pooling</h3>\n",
    "\t<p>\n",
    "\t\tMax Pooling 法とは、あるウィンドウサイズの中で 最大の値を代表値としてサンプリングする方法です。\n",
    "\t</p>\n",
    "\t<p>\n",
    "\t\tTheanoのtheano.tensor.signal.downsampleパッケージのmax_pool_2dでMax Poolingを提供しています。\n",
    "\t</p>\n",
    "</html>"
   ]
  },
  {
   "cell_type": "code",
   "execution_count": 16,
   "metadata": {
    "collapsed": false
   },
   "outputs": [],
   "source": [
    "# Max Pooling のウィンドウサイズ\n",
    "maxpool_shape = (2, 2)\n",
    "# downsampleのパッケージが移動\n",
    "# pool_out = downsample.max_pool_2d(input, maxpool_shape, ignore_border=True)\n",
    "pool_out = pool.pool_2d(input, maxpool_shape, ignore_border=True)\n",
    "f = theano.function([input],pool_out)"
   ]
  },
  {
   "cell_type": "code",
   "execution_count": 17,
   "metadata": {
    "collapsed": false
   },
   "outputs": [
    {
     "name": "stdout",
     "output_type": "stream",
     "text": [
      "invals[0, 0, :, :] =\n",
      "[[  4.17022005e-01   7.20324493e-01   1.14374817e-04   3.02332573e-01\n",
      "    1.46755891e-01]\n",
      " [  9.23385948e-02   1.86260211e-01   3.45560727e-01   3.96767474e-01\n",
      "    5.38816734e-01]\n",
      " [  4.19194514e-01   6.85219500e-01   2.04452250e-01   8.78117436e-01\n",
      "    2.73875932e-02]\n",
      " [  6.70467510e-01   4.17304802e-01   5.58689828e-01   1.40386939e-01\n",
      "    1.98101489e-01]\n",
      " [  8.00744569e-01   9.68261576e-01   3.13424178e-01   6.92322616e-01\n",
      "    8.76389152e-01]]\n",
      "output[0, 0, :, :] =\n",
      "[[ 0.72032449  0.39676747]\n",
      " [ 0.6852195   0.87811744]]\n"
     ]
    }
   ],
   "source": [
    "# Max Poolingの動作確認\n",
    "invals = np.random.RandomState(1).rand(3, 2, 5, 5)\n",
    "print 'invals[0, 0, :, :] =\\n', invals[0, 0, :, :]\n",
    "print 'output[0, 0, :, :] =\\n', f(invals)[0, 0, :, :]"
   ]
  },
  {
   "cell_type": "markdown",
   "metadata": {
    "collapsed": true
   },
   "source": [
    "<html>\n",
    "\t<p>\n",
    "\t\t以下の例では、2x2のマトリックスからその最大の要素（0.7203）が抽出されていることが確認できます。\n",
    "\t</p>\t\n",
    "</html>"
   ]
  },
  {
   "cell_type": "code",
   "execution_count": 18,
   "metadata": {
    "collapsed": false
   },
   "outputs": [
    {
     "name": "stdout",
     "output_type": "stream",
     "text": [
      "[[ 0.417022    0.72032449]\n",
      " [ 0.09233859  0.18626021]]\n",
      "0.720324493442\n"
     ]
    }
   ],
   "source": [
    "print invals[0, 0, 0:2, 0:2]\n",
    "print invals[0, 0, 0:2, 0:2].max()"
   ]
  },
  {
   "cell_type": "markdown",
   "metadata": {},
   "source": [
    "<html>\n",
    "\t<h3>Max Poolingの結果</h3>\n",
    "\t<p>\n",
    "\t\tサンプル画像のMax Pooling後の画像を表示してみると、左の画像は瞳の白い部分が強調され、右の部分はまぶたの部分が強調されているように見えます。\n",
    "\t</p>\n",
    "</html>"
   ]
  },
  {
   "cell_type": "code",
   "execution_count": 19,
   "metadata": {
    "collapsed": false
   },
   "outputs": [
    {
     "data": {
      "text/plain": [
       "(1, 2, 61, 56)"
      ]
     },
     "execution_count": 19,
     "metadata": {},
     "output_type": "execute_result"
    }
   ],
   "source": [
    "# フィルタ後の画像にMax Poolingを施す\n",
    "pool_img = f(filtered_img)\n",
    "pool_img.shape"
   ]
  },
  {
   "cell_type": "code",
   "execution_count": 20,
   "metadata": {
    "collapsed": false
   },
   "outputs": [
    {
     "data": {
      "image/png": "[encoded data removed]",
      "text/plain": [
       "<matplotlib.figure.Figure at 0x7f721d22fb50>"
      ]
     },
     "metadata": {},
     "output_type": "display_data"
    }
   ],
   "source": [
    "# Max Pooling後の画像\n",
    "for index in range(2):\n",
    "    plt.subplot(1, 2, index + 1)\n",
    "    plt.axis('off')\n",
    "    plt.imshow(pool_img[0][index], cmap=plt.cm.gray, interpolation='nearest')"
   ]
  },
  {
   "cell_type": "markdown",
   "metadata": {},
   "source": [
    "<html>\n",
    "\t<h3>LeNetモデル</h3>\n",
    "\t<p>\n",
    "\t\tLeNetに関する\n",
    "\t\t<a href=\"http://sinhrks.hatenablog.com/entry/2014/12/07/203048\">Theano で Deep Learning ＜3＞ : 畳み込みニューラルネットワーク</a>\n",
    "\t\tの説明（図を引用）も分かりやすいです。\n",
    "\t</p>\n",
    "\t<p>\n",
    "\t\t<img width=\"60%\" height=\"60%\" src=\"http://cdn-ak.f.st-hatena.com/images/fotolife/s/sinhrks/20141214/20141214220532.png\"/>\n",
    "\t</p>\n",
    "\t<p>\n",
    "\t\t特徴マップに畳み込みを実行し、Max Poolingで疎な結合とし、これを複数層連結して最後に、多層パーセプトロンと目的の活性化関数を施す、\n",
    "\t\t一連の流れが、とても分かりやすいです。\n",
    "\t</p>\n",
    "\t<p>\n",
    "\t\tLeNetというのは、畳み込みニューラルネットを発明したLeCunの最初のニューラルネットの名前に由来するのだそうです。\n",
    "\t</p>\n",
    "</html>"
   ]
  },
  {
   "cell_type": "markdown",
   "metadata": {},
   "source": [
    "<html>\n",
    "\t<h3>LeNetConvPoolLayerクラス</h3>\n",
    "\t<p>\n",
    "\t\tDeep Learning TutorialのLeNetConvPoolLayerクラスは、畳み込み層とプーリング層のペアを実装しています。\n",
    "\t</p>\n",
    "\t<p>\n",
    "\t\t重みWの初期値に、$[ - \\sqrt{\\frac{6}{in + out}},\\sqrt{\\frac{6}{in + out}}]$を与えるのは、 \n",
    "\t\t<a href=\"http://aidiary.hatenablog.com/entry/20150618/1434628272\">Theanoによる多層パーセプトロンの実装</a>\n",
    "\t\tで紹介されている、活性化関数にtanhを使う時の収束の良いWの初期値です。\n",
    "\t</p>\n",
    "</html>"
   ]
  },
  {
   "cell_type": "code",
   "execution_count": 21,
   "metadata": {
    "collapsed": true
   },
   "outputs": [],
   "source": [
    "class LeNetConvPoolLayer(object):\n",
    "    \"\"\"畳み込みニューラルネットの畳み込み層＋プーリング層\"\"\"\n",
    "    def __init__(self, rng, input, image_shape, filter_shape, poolsize=(2, 2)):\n",
    "        # 入力の特徴マップ数は一致する必要がある\n",
    "        assert image_shape[1] == filter_shape[1]\n",
    "\n",
    "        fan_in = np.prod(filter_shape[1:])\n",
    "        fan_out = filter_shape[0] * np.prod(filter_shape[2:]) / np.prod(poolsize)\n",
    "\n",
    "        W_bound = np.sqrt(6.0 / (fan_in + fan_out))\n",
    "        self.W = theano.shared(\n",
    "            np.asarray(rng.uniform(low=-W_bound, high=W_bound, size=filter_shape),\n",
    "                       dtype=theano.config.floatX),  # @UndefinedVariable\n",
    "            borrow=True)\n",
    "\n",
    "        b_values = np.zeros((filter_shape[0],), dtype=theano.config.floatX)  # @UndefinedVariable\n",
    "        self.b = theano.shared(value=b_values, borrow=T)\n",
    "\n",
    "        # 入力の特徴マップとフィルタの畳み込み\n",
    "        conv_out = conv.conv2d(\n",
    "            input=input,\n",
    "            filters=self.W,\n",
    "            filter_shape=filter_shape,\n",
    "            image_shape=image_shape)\n",
    "\n",
    "        # Max-poolingを用いて各特徴マップをダウンサンプリング\n",
    "        pooled_out = pool.pool_2d(\n",
    "            input=conv_out,\n",
    "            ds=poolsize,\n",
    "            ignore_border=True)\n",
    "\n",
    "        # バイアスを加える\n",
    "        self.output = T.tanh(pooled_out + self.b.dimshuffle('x', 0, 'x', 'x'))\n",
    "\n",
    "        self.params = [self.W, self.b]"
   ]
  },
  {
   "cell_type": "markdown",
   "metadata": {},
   "source": [
    "<html>\n",
    "\t<h2>畳み込みニューラルネットワークを使った数字認識</h2>\n",
    "\t<p>\n",
    "\t\t２つのLeNetConvPoolLayerと全結合したHiddenLayerとLogisticRegressionを組み合わせて、\n",
    "\t\tMNISTの数字文字認識のMini版を試してみます。\n",
    "\t</p>\n",
    "\t<p>\n",
    "\t\t<a href=\"http://aidiary.hatenablog.com/entry/20150626/1435329581\">Theanoによる畳み込みニューラルネットワークの実装 (1)</a>\n",
    "\t\tとの違いは、最後に収束したモデルを以下の様に保存しているところです。\n",
    "\t\t<pre>\n",
    "    # dump layers\n",
    "    with gzip.open('data/model.pkl.gz', 'wb') as f:\n",
    "        pickle.dump([layer0_input, layer0, layer1, layer2_input, layer2, layer3], f)\t\t\t\n",
    "\t\t</pre>\n",
    "\t</p>\n",
    "</html>"
   ]
  },
  {
   "cell_type": "code",
   "execution_count": 24,
   "metadata": {
    "collapsed": true
   },
   "outputs": [],
   "source": [
    "def evaluate_lenet5(learning_rate=0.1, n_epochs=200,\n",
    "                    dataset='mnist.pkl.gz', batch_size=500):\n",
    "    rng = np.random.RandomState(23455)\n",
    "\n",
    "    # 学習データのロード\n",
    "    datasets = load_data(dataset)\n",
    "    train_set_x, train_set_y = datasets[0]\n",
    "    valid_set_x, valid_set_y = datasets[1]\n",
    "    test_set_x, test_set_y = datasets[2]\n",
    "\n",
    "    # ミニバッチの数\n",
    "    n_train_batches = train_set_x.get_value(borrow=True).shape[0] / batch_size\n",
    "    n_valid_batches = valid_set_x.get_value(borrow=True).shape[0] / batch_size\n",
    "    n_test_batches = test_set_x.get_value(borrow=True).shape[0] / batch_size\n",
    "\n",
    "    print \"building the model ...\"\n",
    "\n",
    "    # ミニバッチのインデックスを表すシンボル\n",
    "    index = T.lscalar()\n",
    "\n",
    "    # ミニバッチの学習データとラベルを表すシンボル\n",
    "    x = T.matrix('x')\n",
    "    y = T.ivector('y')\n",
    "\n",
    "    # 入力\n",
    "    # 入力のサイズを4Dテンソルに変換\n",
    "    # batch_sizeは訓練画像の枚数\n",
    "    # チャンネル数は1\n",
    "    # (28, 28)はMNISTの画像サイズ\n",
    "    layer0_input = x.reshape((batch_size, 1, 28, 28))\n",
    "\n",
    "    # 最初の畳み込み層+プーリング層\n",
    "    # 畳み込みに使用するフィルタサイズは5x5ピクセル\n",
    "    # 畳み込みによって画像サイズは28x28ピクセルから24x24ピクセルに落ちる\n",
    "    # プーリングによって画像サイズはさらに12x12ピクセルに落ちる\n",
    "    # 特徴マップ数は20枚でそれぞれの特徴マップのサイズは12x12ピクセル\n",
    "    # 最終的にこの層の出力のサイズは (batch_size, 20, 12, 12) になる\n",
    "    layer0 = LeNetConvPoolLayer(rng,\n",
    "                input=layer0_input,\n",
    "                image_shape=(batch_size, 1, 28, 28),  # 入力画像のサイズを4Dテンソルで指定\n",
    "                filter_shape=(20, 1, 5, 5),           # フィルタのサイズを4Dテンソルで指定\n",
    "                poolsize=(2, 2))\n",
    "\n",
    "    # layer0の出力がlayer1への入力となる\n",
    "    # layer0の出力画像のサイズは (batch_size, 20, 12, 12)\n",
    "    # 12x12ピクセルの画像が特徴マップ数分（20枚）ある\n",
    "    # 畳み込みによって画像サイズは12x12ピクセルから8x8ピクセルに落ちる\n",
    "    # プーリングによって画像サイズはさらに4x4ピクセルに落ちる\n",
    "    # 特徴マップ数は50枚でそれぞれの特徴マップのサイズは4x4ピクセル\n",
    "    # 最終的にこの層の出力のサイズは (batch_size, 50, 4, 4) になる\n",
    "    layer1 = LeNetConvPoolLayer(rng,\n",
    "                input=layer0.output,\n",
    "                image_shape=(batch_size, 20, 12, 12), # 入力画像のサイズを4Dテンソルで指定\n",
    "                filter_shape=(50, 20, 5, 5),          # フィルタのサイズを4Dテンソルで指定\n",
    "                poolsize=(2, 2))\n",
    "\n",
    "    # 隠れ層への入力\n",
    "    # 画像のピクセルをフラット化する\n",
    "    # layer1の出力のサイズは (batch_size, 50, 4, 4) なのでflatten()によって\n",
    "    # (batch_size, 50*4*4) = (batch_size, 800) になる\n",
    "    layer2_input = layer1.output.flatten(2)\n",
    "\n",
    "    # 全結合された隠れ層\n",
    "    # 入力が800ユニット、出力が500ユニット\n",
    "    layer2 = HiddenLayer(rng,\n",
    "        input=layer2_input,\n",
    "        n_in=50 * 4 * 4,\n",
    "        n_out=500,\n",
    "        activation=T.tanh)\n",
    "\n",
    "    # 最終的な数字分類を行うsoftmax層\n",
    "    layer3 = LogisticRegression(input=layer2.output, n_in=500, n_out=10)\n",
    "\n",
    "    # コスト関数を計算するシンボル\n",
    "    cost = layer3.negative_log_likelihood(y)\n",
    "\n",
    "    # index番目のテスト用ミニバッチを入力してエラー率を返す関数を定義\n",
    "    test_model = theano.function(\n",
    "        [index],\n",
    "        layer3.errors(y),\n",
    "        givens={\n",
    "            x: test_set_x[index * batch_size: (index + 1) * batch_size],\n",
    "            y: test_set_y[index * batch_size: (index + 1) * batch_size]\n",
    "        })\n",
    "\n",
    "    # index番目のバリデーション用ミニバッチを入力してエラー率を返す関数を定義\n",
    "    validate_model = theano.function(\n",
    "        [index],\n",
    "        layer3.errors(y),\n",
    "        givens={\n",
    "            x: valid_set_x[index * batch_size: (index + 1) * batch_size],\n",
    "            y: valid_set_y[index * batch_size: (index + 1) * batch_size]\n",
    "        })\n",
    "\n",
    "    # パラメータ\n",
    "    params = layer3.params + layer2.params + layer1.params + layer0.params\n",
    "\n",
    "    # コスト関数の微分\n",
    "    grads = T.grad(cost, params)\n",
    "\n",
    "    # パラメータ更新式\n",
    "    updates = [(param_i, param_i - learning_rate * grad_i) for param_i, grad_i in zip(params, grads)]\n",
    "\n",
    "    # index番目の訓練バッチを入力し、パラメータを更新する関数を定義\n",
    "    train_model = theano.function(\n",
    "        [index],\n",
    "        cost,\n",
    "        updates=updates,\n",
    "        givens={\n",
    "            x: train_set_x[index * batch_size: (index + 1) * batch_size],\n",
    "            y: train_set_y[index * batch_size: (index + 1) * batch_size]\n",
    "        })\n",
    "\n",
    "    print \"train model ...\"\n",
    "\n",
    "    # eary-stoppingのパラメータ\n",
    "    patience = 10000\n",
    "    patience_increase = 2\n",
    "    improvement_threshold = 0.995\n",
    "    validation_frequency = min(n_train_batches, patience / 2)\n",
    "\n",
    "    best_validation_loss = np.inf\n",
    "    best_iter = 0\n",
    "    test_score = 0\n",
    "    start_time = time.clock()\n",
    "\n",
    "    epoch = 0\n",
    "    done_looping = False\n",
    "\n",
    "    fp1 = open(\"validation_error.txt\", \"w\")\n",
    "    fp2 = open(\"test_error.txt\", \"w\")\n",
    "\n",
    "    while (epoch < n_epochs) and (not done_looping):\n",
    "        epoch = epoch + 1\n",
    "        for minibatch_index in xrange(n_train_batches):\n",
    "            iter = (epoch - 1) * n_train_batches + minibatch_index\n",
    "            cost_ij = train_model(minibatch_index)\n",
    "\n",
    "            if (iter + 1) % validation_frequency == 0:\n",
    "                validation_losses = [validate_model(i) for i in xrange(n_valid_batches)]\n",
    "                this_validation_loss = np.mean(validation_losses)\n",
    "                print \"epoch %i, minibatch %i/%i, validation error %f %%\" % (epoch, minibatch_index + 1, n_train_batches, this_validation_loss * 100)\n",
    "                fp1.write(\"%d\\t%f\\n\" % (epoch, this_validation_loss * 100))\n",
    "\n",
    "                if this_validation_loss < best_validation_loss:\n",
    "                    if this_validation_loss < best_validation_loss * improvement_threshold:\n",
    "                        # 十分改善したならまだ改善の余地があるためpatienceを上げてより多くループを回せるようにする\n",
    "                        patience = max(patience, iter * patience_increase)\n",
    "                        print \"*** iter %d / patience %d\" % (iter, patience)\n",
    "                    best_validation_loss = this_validation_loss\n",
    "                    best_iter = iter\n",
    "\n",
    "                    # テストデータのエラー率も計算\n",
    "                    test_losses = [test_model(i) for i in xrange(n_test_batches)]\n",
    "                    test_score = np.mean(test_losses)\n",
    "                    print \"    epoch %i, minibatch %i/%i, test error of best model %f %%\" % (epoch, minibatch_index + 1, n_train_batches, test_score * 100)\n",
    "                    fp2.write(\"%d\\t%f\\n\" % (epoch, test_score * 100))\n",
    "\n",
    "            # patienceを超えたらループを終了\n",
    "            if patience <= iter:\n",
    "                done_looping = True\n",
    "                break\n",
    "\n",
    "    fp1.close()\n",
    "    fp2.close()\n",
    "\n",
    "    end_time = time.clock()\n",
    "    print \"Optimization complete.\"\n",
    "    print \"Best validation score of %f %% obtained at iteration %i, with test performance %f %%\" % (best_validation_loss * 100.0, best_iter + 1, test_score * 100.0)\n",
    "    print \"Ran for %.2fm\" % ((end_time - start_time) / 60.0)\n",
    "\n",
    "    # dump layers\n",
    "    with gzip.open('data/model.pkl.gz', 'wb') as f:\n",
    "        pickle.dump([layer0_input, layer0, layer1, layer2_input, layer2, layer3], f)"
   ]
  },
  {
   "cell_type": "markdown",
   "metadata": {},
   "source": [
    "<html>\n",
    "\t<h3>CNNの計算</h3>\n",
    "\t<p>\n",
    "\t\tさくらのVPSでこの計算をすると約2時間CPUを占有してしまいますので、以下の処理は実行しないでください。\n",
    "\t</p>\n",
    "\t<p>\n",
    "\t\tまたは、このノートブックをダウンロードして、ローカルのSageで試してみてください。\n",
    "\t</p>\n",
    "</html>"
   ]
  },
  {
   "cell_type": "code",
   "execution_count": 25,
   "metadata": {
    "collapsed": false
   },
   "outputs": [
    {
     "name": "stdout",
     "output_type": "stream",
     "text": [
      "... loading data\n",
      "building the model ...\n",
      "train model ...\n",
      "epoch 1, minibatch 10/10, validation error 37.200000 %\n",
      "*** iter 9 / patience 10000\n",
      "    epoch 1, minibatch 10/10, test error of best model 40.400000 %\n",
      "epoch 2, minibatch 10/10, validation error 34.200000 %\n",
      "*** iter 19 / patience 10000\n",
      "    epoch 2, minibatch 10/10, test error of best model 34.400000 %\n",
      "epoch 3, minibatch 10/10, validation error 22.400000 %\n",
      "*** iter 29 / patience 10000\n",
      "    epoch 3, minibatch 10/10, test error of best model 22.400000 %\n",
      "epoch 4, minibatch 10/10, validation error 18.400000 %\n",
      "*** iter 39 / patience 10000\n",
      "    epoch 4, minibatch 10/10, test error of best model 17.200000 %\n",
      "epoch 5, minibatch 10/10, validation error 16.800000 %\n",
      "*** iter 49 / patience 10000\n",
      "    epoch 5, minibatch 10/10, test error of best model 15.000000 %\n",
      "epoch 6, minibatch 10/10, validation error 16.000000 %\n",
      "*** iter 59 / patience 10000\n",
      "    epoch 6, minibatch 10/10, test error of best model 13.800000 %\n",
      "epoch 7, minibatch 10/10, validation error 13.800000 %\n",
      "*** iter 69 / patience 10000\n",
      "    epoch 7, minibatch 10/10, test error of best model 12.400000 %\n",
      "epoch 8, minibatch 10/10, validation error 13.400000 %\n",
      "*** iter 79 / patience 10000\n",
      "    epoch 8, minibatch 10/10, test error of best model 12.000000 %\n",
      "epoch 9, minibatch 10/10, validation error 13.000000 %\n",
      "*** iter 89 / patience 10000\n",
      "    epoch 9, minibatch 10/10, test error of best model 11.200000 %\n",
      "epoch 10, minibatch 10/10, validation error 12.200000 %\n",
      "*** iter 99 / patience 10000\n",
      "    epoch 10, minibatch 10/10, test error of best model 11.200000 %\n",
      "epoch 11, minibatch 10/10, validation error 12.000000 %\n",
      "*** iter 109 / patience 10000\n",
      "    epoch 11, minibatch 10/10, test error of best model 11.000000 %\n",
      "epoch 12, minibatch 10/10, validation error 11.800000 %\n",
      "*** iter 119 / patience 10000\n",
      "    epoch 12, minibatch 10/10, test error of best model 10.600000 %\n",
      "epoch 13, minibatch 10/10, validation error 11.600000 %\n",
      "*** iter 129 / patience 10000\n",
      "    epoch 13, minibatch 10/10, test error of best model 10.400000 %\n",
      "epoch 14, minibatch 10/10, validation error 11.000000 %\n",
      "*** iter 139 / patience 10000\n",
      "    epoch 14, minibatch 10/10, test error of best model 10.000000 %\n",
      "epoch 15, minibatch 10/10, validation error 10.800000 %\n",
      "*** iter 149 / patience 10000\n",
      "    epoch 15, minibatch 10/10, test error of best model 9.600000 %\n",
      "epoch 16, minibatch 10/10, validation error 10.000000 %\n",
      "*** iter 159 / patience 10000\n",
      "    epoch 16, minibatch 10/10, test error of best model 9.200000 %\n",
      "epoch 17, minibatch 10/10, validation error 10.000000 %\n",
      "epoch 18, minibatch 10/10, validation error 9.600000 %\n",
      "*** iter 179 / patience 10000\n",
      "    epoch 18, minibatch 10/10, test error of best model 8.800000 %\n",
      "epoch 19, minibatch 10/10, validation error 9.200000 %\n",
      "*** iter 189 / patience 10000\n",
      "    epoch 19, minibatch 10/10, test error of best model 8.800000 %\n",
      "epoch 20, minibatch 10/10, validation error 8.600000 %\n",
      "*** iter 199 / patience 10000\n",
      "    epoch 20, minibatch 10/10, test error of best model 7.800000 %\n",
      "epoch 21, minibatch 10/10, validation error 8.400000 %\n",
      "*** iter 209 / patience 10000\n",
      "    epoch 21, minibatch 10/10, test error of best model 7.600000 %\n",
      "epoch 22, minibatch 10/10, validation error 8.200000 %\n",
      "*** iter 219 / patience 10000\n",
      "    epoch 22, minibatch 10/10, test error of best model 7.600000 %\n",
      "epoch 23, minibatch 10/10, validation error 8.200000 %\n",
      "epoch 24, minibatch 10/10, validation error 7.800000 %\n",
      "*** iter 239 / patience 10000\n",
      "    epoch 24, minibatch 10/10, test error of best model 7.000000 %\n",
      "epoch 25, minibatch 10/10, validation error 7.800000 %\n",
      "epoch 26, minibatch 10/10, validation error 7.600000 %\n",
      "*** iter 259 / patience 10000\n",
      "    epoch 26, minibatch 10/10, test error of best model 6.200000 %\n",
      "epoch 27, minibatch 10/10, validation error 7.600000 %\n",
      "epoch 28, minibatch 10/10, validation error 7.400000 %\n",
      "*** iter 279 / patience 10000\n",
      "    epoch 28, minibatch 10/10, test error of best model 6.000000 %\n",
      "epoch 29, minibatch 10/10, validation error 7.200000 %\n",
      "*** iter 289 / patience 10000\n",
      "    epoch 29, minibatch 10/10, test error of best model 6.000000 %\n",
      "epoch 30, minibatch 10/10, validation error 7.000000 %\n",
      "*** iter 299 / patience 10000\n",
      "    epoch 30, minibatch 10/10, test error of best model 5.600000 %\n",
      "epoch 31, minibatch 10/10, validation error 6.600000 %\n",
      "*** iter 309 / patience 10000\n",
      "    epoch 31, minibatch 10/10, test error of best model 5.400000 %\n",
      "epoch 32, minibatch 10/10, validation error 6.600000 %\n",
      "epoch 33, minibatch 10/10, validation error 6.600000 %\n",
      "epoch 34, minibatch 10/10, validation error 6.600000 %\n",
      "epoch 35, minibatch 10/10, validation error 6.600000 %\n",
      "epoch 36, minibatch 10/10, validation error 6.600000 %\n",
      "epoch 37, minibatch 10/10, validation error 6.600000 %\n",
      "epoch 38, minibatch 10/10, validation error 6.400000 %\n",
      "*** iter 379 / patience 10000\n",
      "    epoch 38, minibatch 10/10, test error of best model 4.400000 %\n",
      "epoch 39, minibatch 10/10, validation error 6.400000 %\n",
      "epoch 40, minibatch 10/10, validation error 6.400000 %\n",
      "epoch 41, minibatch 10/10, validation error 6.200000 %\n",
      "*** iter 409 / patience 10000\n",
      "    epoch 41, minibatch 10/10, test error of best model 4.400000 %\n",
      "epoch 42, minibatch 10/10, validation error 6.000000 %\n",
      "*** iter 419 / patience 10000\n",
      "    epoch 42, minibatch 10/10, test error of best model 4.400000 %\n",
      "epoch 43, minibatch 10/10, validation error 6.000000 %\n",
      "epoch 44, minibatch 10/10, validation error 6.000000 %\n",
      "epoch 45, minibatch 10/10, validation error 6.000000 %\n",
      "epoch 46, minibatch 10/10, validation error 6.000000 %\n",
      "epoch 47, minibatch 10/10, validation error 6.000000 %\n",
      "epoch 48, minibatch 10/10, validation error 5.800000 %\n",
      "*** iter 479 / patience 10000\n",
      "    epoch 48, minibatch 10/10, test error of best model 3.800000 %\n",
      "epoch 49, minibatch 10/10, validation error 5.800000 %\n",
      "epoch 50, minibatch 10/10, validation error 6.000000 %\n",
      "epoch 51, minibatch 10/10, validation error 6.000000 %\n",
      "epoch 52, minibatch 10/10, validation error 5.800000 %\n",
      "epoch 53, minibatch 10/10, validation error 5.800000 %\n",
      "epoch 54, minibatch 10/10, validation error 5.800000 %\n",
      "epoch 55, minibatch 10/10, validation error 5.800000 %\n",
      "epoch 56, minibatch 10/10, validation error 5.800000 %\n",
      "epoch 57, minibatch 10/10, validation error 5.600000 %\n",
      "*** iter 569 / patience 10000\n",
      "    epoch 57, minibatch 10/10, test error of best model 3.800000 %\n",
      "epoch 58, minibatch 10/10, validation error 5.600000 %\n",
      "epoch 59, minibatch 10/10, validation error 5.600000 %\n",
      "epoch 60, minibatch 10/10, validation error 5.400000 %\n",
      "*** iter 599 / patience 10000\n",
      "    epoch 60, minibatch 10/10, test error of best model 3.600000 %\n",
      "epoch 61, minibatch 10/10, validation error 5.400000 %\n",
      "epoch 62, minibatch 10/10, validation error 5.400000 %\n",
      "epoch 63, minibatch 10/10, validation error 5.400000 %\n",
      "epoch 64, minibatch 10/10, validation error 5.400000 %\n",
      "epoch 65, minibatch 10/10, validation error 5.400000 %\n",
      "epoch 66, minibatch 10/10, validation error 5.200000 %\n",
      "*** iter 659 / patience 10000\n",
      "    epoch 66, minibatch 10/10, test error of best model 3.600000 %\n",
      "epoch 67, minibatch 10/10, validation error 5.200000 %\n",
      "epoch 68, minibatch 10/10, validation error 5.200000 %\n",
      "epoch 69, minibatch 10/10, validation error 5.200000 %\n",
      "epoch 70, minibatch 10/10, validation error 5.200000 %\n",
      "epoch 71, minibatch 10/10, validation error 5.000000 %\n",
      "*** iter 709 / patience 10000\n",
      "    epoch 71, minibatch 10/10, test error of best model 3.200000 %\n",
      "epoch 72, minibatch 10/10, validation error 5.000000 %\n",
      "epoch 73, minibatch 10/10, validation error 5.000000 %\n",
      "epoch 74, minibatch 10/10, validation error 5.000000 %\n",
      "epoch 75, minibatch 10/10, validation error 5.200000 %\n",
      "epoch 76, minibatch 10/10, validation error 5.200000 %\n",
      "epoch 77, minibatch 10/10, validation error 5.200000 %\n",
      "epoch 78, minibatch 10/10, validation error 5.200000 %\n",
      "epoch 79, minibatch 10/10, validation error 5.200000 %\n",
      "epoch 80, minibatch 10/10, validation error 4.800000 %\n",
      "*** iter 799 / patience 10000\n",
      "    epoch 80, minibatch 10/10, test error of best model 3.200000 %\n",
      "epoch 81, minibatch 10/10, validation error 4.800000 %\n",
      "epoch 82, minibatch 10/10, validation error 4.600000 %\n",
      "*** iter 819 / patience 10000\n",
      "    epoch 82, minibatch 10/10, test error of best model 3.200000 %\n",
      "epoch 83, minibatch 10/10, validation error 4.600000 %\n",
      "epoch 84, minibatch 10/10, validation error 4.600000 %\n",
      "epoch 85, minibatch 10/10, validation error 4.600000 %\n",
      "epoch 86, minibatch 10/10, validation error 4.600000 %\n",
      "epoch 87, minibatch 10/10, validation error 4.600000 %\n",
      "epoch 88, minibatch 10/10, validation error 4.600000 %\n",
      "epoch 89, minibatch 10/10, validation error 4.600000 %\n",
      "epoch 90, minibatch 10/10, validation error 4.600000 %\n",
      "epoch 91, minibatch 10/10, validation error 4.600000 %\n",
      "epoch 92, minibatch 10/10, validation error 4.600000 %\n",
      "epoch 93, minibatch 10/10, validation error 4.600000 %\n",
      "epoch 94, minibatch 10/10, validation error 4.400000 %\n",
      "*** iter 939 / patience 10000\n",
      "    epoch 94, minibatch 10/10, test error of best model 2.800000 %\n",
      "epoch 95, minibatch 10/10, validation error 4.400000 %\n",
      "epoch 96, minibatch 10/10, validation error 4.400000 %\n",
      "epoch 97, minibatch 10/10, validation error 4.400000 %\n",
      "epoch 98, minibatch 10/10, validation error 4.400000 %\n",
      "epoch 99, minibatch 10/10, validation error 4.400000 %\n",
      "epoch 100, minibatch 10/10, validation error 4.400000 %\n",
      "epoch 101, minibatch 10/10, validation error 4.400000 %\n",
      "epoch 102, minibatch 10/10, validation error 4.400000 %\n",
      "epoch 103, minibatch 10/10, validation error 4.400000 %\n",
      "epoch 104, minibatch 10/10, validation error 4.400000 %\n",
      "epoch 105, minibatch 10/10, validation error 4.400000 %\n",
      "epoch 106, minibatch 10/10, validation error 4.400000 %\n",
      "epoch 107, minibatch 10/10, validation error 4.200000 %\n",
      "*** iter 1069 / patience 10000\n",
      "    epoch 107, minibatch 10/10, test error of best model 2.400000 %\n",
      "epoch 108, minibatch 10/10, validation error 4.200000 %\n",
      "epoch 109, minibatch 10/10, validation error 4.200000 %\n",
      "epoch 110, minibatch 10/10, validation error 4.200000 %\n",
      "epoch 111, minibatch 10/10, validation error 4.200000 %\n",
      "epoch 112, minibatch 10/10, validation error 4.200000 %\n",
      "epoch 113, minibatch 10/10, validation error 4.200000 %\n",
      "epoch 114, minibatch 10/10, validation error 4.200000 %\n",
      "epoch 115, minibatch 10/10, validation error 4.200000 %\n",
      "epoch 116, minibatch 10/10, validation error 4.200000 %\n",
      "epoch 117, minibatch 10/10, validation error 4.200000 %\n",
      "epoch 118, minibatch 10/10, validation error 4.200000 %\n",
      "epoch 119, minibatch 10/10, validation error 4.200000 %\n",
      "epoch 120, minibatch 10/10, validation error 4.200000 %\n",
      "epoch 121, minibatch 10/10, validation error 4.200000 %\n",
      "epoch 122, minibatch 10/10, validation error 4.200000 %\n",
      "epoch 123, minibatch 10/10, validation error 4.200000 %\n",
      "epoch 124, minibatch 10/10, validation error 4.200000 %\n",
      "epoch 125, minibatch 10/10, validation error 4.200000 %\n",
      "epoch 126, minibatch 10/10, validation error 4.200000 %\n",
      "epoch 127, minibatch 10/10, validation error 4.200000 %\n",
      "epoch 128, minibatch 10/10, validation error 4.200000 %\n",
      "epoch 129, minibatch 10/10, validation error 4.200000 %\n",
      "epoch 130, minibatch 10/10, validation error 4.000000 %\n",
      "*** iter 1299 / patience 10000\n",
      "    epoch 130, minibatch 10/10, test error of best model 2.200000 %\n",
      "epoch 131, minibatch 10/10, validation error 4.000000 %\n",
      "epoch 132, minibatch 10/10, validation error 4.000000 %\n",
      "epoch 133, minibatch 10/10, validation error 4.000000 %\n",
      "epoch 134, minibatch 10/10, validation error 4.000000 %\n",
      "epoch 135, minibatch 10/10, validation error 4.000000 %\n",
      "epoch 136, minibatch 10/10, validation error 4.000000 %\n",
      "epoch 137, minibatch 10/10, validation error 4.000000 %\n",
      "epoch 138, minibatch 10/10, validation error 4.000000 %\n",
      "epoch 139, minibatch 10/10, validation error 4.000000 %\n",
      "epoch 140, minibatch 10/10, validation error 4.000000 %\n",
      "epoch 141, minibatch 10/10, validation error 4.000000 %\n",
      "epoch 142, minibatch 10/10, validation error 4.000000 %\n",
      "epoch 143, minibatch 10/10, validation error 4.000000 %\n",
      "epoch 144, minibatch 10/10, validation error 4.000000 %\n",
      "epoch 145, minibatch 10/10, validation error 4.000000 %\n",
      "epoch 146, minibatch 10/10, validation error 4.000000 %\n",
      "epoch 147, minibatch 10/10, validation error 4.000000 %\n",
      "epoch 148, minibatch 10/10, validation error 4.000000 %\n",
      "epoch 149, minibatch 10/10, validation error 4.000000 %\n",
      "epoch 150, minibatch 10/10, validation error 4.000000 %\n",
      "epoch 151, minibatch 10/10, validation error 4.000000 %\n",
      "epoch 152, minibatch 10/10, validation error 4.000000 %\n",
      "epoch 153, minibatch 10/10, validation error 3.800000 %\n",
      "*** iter 1529 / patience 10000\n",
      "    epoch 153, minibatch 10/10, test error of best model 2.000000 %\n",
      "epoch 154, minibatch 10/10, validation error 3.800000 %\n",
      "epoch 155, minibatch 10/10, validation error 3.800000 %\n",
      "epoch 156, minibatch 10/10, validation error 3.800000 %\n",
      "epoch 157, minibatch 10/10, validation error 3.800000 %\n",
      "epoch 158, minibatch 10/10, validation error 3.800000 %\n",
      "epoch 159, minibatch 10/10, validation error 3.800000 %\n",
      "epoch 160, minibatch 10/10, validation error 3.800000 %\n",
      "epoch 161, minibatch 10/10, validation error 3.800000 %\n",
      "epoch 162, minibatch 10/10, validation error 3.800000 %\n",
      "epoch 163, minibatch 10/10, validation error 3.800000 %\n",
      "epoch 164, minibatch 10/10, validation error 3.800000 %\n",
      "epoch 165, minibatch 10/10, validation error 3.800000 %\n",
      "epoch 166, minibatch 10/10, validation error 3.800000 %\n",
      "epoch 167, minibatch 10/10, validation error 3.800000 %\n",
      "epoch 168, minibatch 10/10, validation error 3.800000 %\n",
      "epoch 169, minibatch 10/10, validation error 3.800000 %\n",
      "epoch 170, minibatch 10/10, validation error 3.800000 %\n",
      "epoch 171, minibatch 10/10, validation error 3.800000 %\n",
      "epoch 172, minibatch 10/10, validation error 3.800000 %\n",
      "epoch 173, minibatch 10/10, validation error 3.800000 %\n",
      "epoch 174, minibatch 10/10, validation error 3.800000 %\n",
      "epoch 175, minibatch 10/10, validation error 3.800000 %\n",
      "epoch 176, minibatch 10/10, validation error 3.800000 %\n",
      "epoch 177, minibatch 10/10, validation error 3.800000 %\n",
      "epoch 178, minibatch 10/10, validation error 3.800000 %\n",
      "epoch 179, minibatch 10/10, validation error 3.800000 %\n",
      "epoch 180, minibatch 10/10, validation error 3.800000 %\n",
      "epoch 181, minibatch 10/10, validation error 3.800000 %\n",
      "epoch 182, minibatch 10/10, validation error 3.800000 %\n",
      "epoch 183, minibatch 10/10, validation error 3.800000 %\n",
      "epoch 184, minibatch 10/10, validation error 3.800000 %\n",
      "epoch 185, minibatch 10/10, validation error 3.800000 %\n",
      "epoch 186, minibatch 10/10, validation error 3.800000 %\n",
      "epoch 187, minibatch 10/10, validation error 3.800000 %\n",
      "epoch 188, minibatch 10/10, validation error 3.800000 %\n",
      "epoch 189, minibatch 10/10, validation error 3.800000 %\n",
      "epoch 190, minibatch 10/10, validation error 3.600000 %\n",
      "*** iter 1899 / patience 10000\n",
      "    epoch 190, minibatch 10/10, test error of best model 2.000000 %\n",
      "epoch 191, minibatch 10/10, validation error 3.600000 %\n",
      "epoch 192, minibatch 10/10, validation error 3.600000 %\n",
      "epoch 193, minibatch 10/10, validation error 3.600000 %\n",
      "epoch 194, minibatch 10/10, validation error 3.600000 %\n",
      "epoch 195, minibatch 10/10, validation error 3.600000 %\n",
      "epoch 196, minibatch 10/10, validation error 3.600000 %\n",
      "epoch 197, minibatch 10/10, validation error 3.600000 %\n",
      "epoch 198, minibatch 10/10, validation error 3.600000 %\n",
      "epoch 199, minibatch 10/10, validation error 3.600000 %\n",
      "epoch 200, minibatch 10/10, validation error 3.600000 %\n",
      "Optimization complete.\n",
      "Best validation score of 3.600000 % obtained at iteration 1900, with test performance 2.000000 %\n",
      "Ran for 41.04m\n"
     ]
    }
   ],
   "source": [
    "# 以下を実行するとCNNを計算します。1/10のmini_mnist.pkl.gzデータで約2時間かかりました。\n",
    "# さくらのVPSではこの計算を解放できないので、計算結果で読みすすめてください。\n",
    "evaluate_lenet5(dataset=\"data/mini_mnist.pkl.gz\")"
   ]
  },
  {
   "cell_type": "markdown",
   "metadata": {},
   "source": [
    "<html>\n",
    "\t<h3>フィルタの可視化</h3>\n",
    "\t<p>\n",
    "\t\t<a href=\"http://aidiary.hatenablog.com/entry/20150626/1435329581\">Theanoによる畳み込みニューラルネットワークの実装 (1)</a>\n",
    "\t\tのフィルタの可視化を使って最初のフィルタを可視化してみました。\t\t\n",
    "\t</p>\n",
    "\t<p>\n",
    "\t\t当たり前かもしれませんが、\n",
    "\t\t<a href=\"http://aidiary.hatenablog.com/entry/20150626/1435329581\">Theanoによる畳み込みニューラルネットワークの実装 (1)</a>\n",
    "\t\tと同じ結果が得られました。\n",
    "\t</p>\n",
    "\t<p>\n",
    "\t\t各フィルタの形を見ると数字を特徴付ける形の断片のようにも思われますが、ややシャープさに欠けるように思います。\n",
    "\t</p>\n",
    "</html>"
   ]
  },
  {
   "cell_type": "code",
   "execution_count": 29,
   "metadata": {
    "collapsed": true
   },
   "outputs": [],
   "source": [
    "def visualize_filter(layer):\n",
    "    \"\"\"引数に指定されたLeNetConvPoolLayerのフィルタを描画する\"\"\"\n",
    "    W = layer.W.get_value()\n",
    "    n_filters, n_channels, h, w = W.shape\n",
    "    plt.figure()\n",
    "    pos = 1\n",
    "    for f in range(n_filters):\n",
    "        for c in range(n_channels):\n",
    "            plt.subplot(n_channels, n_filters, pos)\n",
    "            plt.subplots_adjust(wspace=0.1, hspace=0.1)\n",
    "            plt.imshow(W[f, c], cmap=plt.cm.gray_r)\n",
    "            plt.axis('off')\n",
    "            pos += 1"
   ]
  },
  {
   "cell_type": "code",
   "execution_count": 27,
   "metadata": {
    "collapsed": true
   },
   "outputs": [],
   "source": [
    "# 保存したモデルのロード\n",
    "classifiers = pickle.load(gzip.open(\"data/model.pkl.gz\"))\n",
    "(layer0_input, layer0, layer1, layer2_input, layer2, layer3) = classifiers"
   ]
  },
  {
   "cell_type": "code",
   "execution_count": 30,
   "metadata": {
    "collapsed": false
   },
   "outputs": [
    {
     "data": {
      "image/png": "[encoded data removed]",
      "text/plain": [
       "<matplotlib.figure.Figure at 0x7f720bcc0b10>"
      ]
     },
     "metadata": {},
     "output_type": "display_data"
    }
   ],
   "source": [
    "# 最初の畳み込み層のフィルタの可視化\n",
    "# layer0のフィルタの可視化\n",
    "visualize_filter(layer0)"
   ]
  },
  {
   "cell_type": "markdown",
   "metadata": {},
   "source": [
    "<html>\n",
    "\t<h2>テストデータの予測</h2>\n",
    "\t<p>\n",
    "\t\t畳み込みニューラルネットの練習用データから求まったモデルを使って、\n",
    "\t\tテスト用データを予測してみましょう。\n",
    "\t</p>\n",
    "\t<p>\n",
    "\t\tmini_mnist.pkl.gzからテスト用の画像データを読み込み、batch_sizeはCNNの計算と同じ500として、\n",
    "\t\tモデルの入力layer0_inputとLogisticRegressionの０〜９の数字に対する確率p_y_given_xを返す\n",
    "\t\t関数predict_modelを定義し、テストデータの最初の500サンプルに対して結果を求めます。\n",
    "\t\t<pre>\n",
    "predict_model = theano.function(\n",
    "    [layer0_input],\n",
    "    layer3.p_y_given_x,\n",
    ")\t\t\t\n",
    "\t\t</pre>\n",
    "\t</p>\n",
    "</html>"
   ]
  },
  {
   "cell_type": "code",
   "execution_count": 31,
   "metadata": {
    "collapsed": true
   },
   "outputs": [],
   "source": [
    "# テストデータの読み込み\n",
    "f = gzip.open(\"data/mini_mnist.pkl.gz\", 'rb')\n",
    "(_, _, test_set) = pickle.load(f)\n",
    "f.close() \n",
    "test_set_x = test_set[0]"
   ]
  },
  {
   "cell_type": "code",
   "execution_count": 32,
   "metadata": {
    "collapsed": true
   },
   "outputs": [],
   "source": [
    "# テストデータを使って求まったモデルの認識率を試す\n",
    "# 分析に使ったのと同じbatch_sizeで計算する必要がある\n",
    "batch_size = 500\n",
    "# compile a predictor function\n",
    "index = T.lscalar()\n",
    "\n",
    "predict_model = theano.function(\n",
    "    [layer0_input],\n",
    "    layer3.p_y_given_x,\n",
    ")\n",
    "\n",
    "predicted_values = predict_model(\n",
    "  test_set_x[:batch_size].reshape((batch_size, 1, 28, 28))\n",
    ")"
   ]
  },
  {
   "cell_type": "markdown",
   "metadata": {},
   "source": [
    "<html>\n",
    "\t<p>\n",
    "\t\tロジスティック回帰の結果は、\n",
    "\t\t<pre>\n",
    "['(7, 0.988)', '(2, 0.733)', '(1, 0.951)', '(0, 0.995)', '(4, 0.936)',\n",
    "'(1, 0.979)', '(4, 0.957)', '(9, 0.912)', '(6, 0.912)', '(9, 0.844)',\n",
    "'(0, 0.904)', '(6, 0.668)', '(9, 0.917)', '(0, 0.983)', '(1, 0.991)',\n",
    "'(5, 0.832)', '(9, 0.790)', '(7, 0.986)', '(3, 0.659)', '(4, 0.979)',\n",
    "'(9, 0.775)', '(6, 0.952)', '(6, 0.801)', '(5, 0.955)', '(4, 0.862)']\t\t\t\n",
    "\t\t</pre>\n",
    "\t\t多層回帰の結果は、\n",
    "\t\t<pre>\n",
    "['(7, 0.999)', '(2, 0.780)', '(1, 0.991)', '(0, 0.999)', '(4, 0.993)',\n",
    "'(1, 0.998)', '(4, 0.995)', '(9, 0.999)', '(6, 0.995)', '(9, 0.982)',\n",
    "'(0, 0.996)', '(6, 0.994)', '(9, 0.996)', '(0, 0.993)', '(1, 1.000)',\n",
    "'(5, 0.974)', '(9, 0.995)', '(7, 0.998)', '(3, 0.980)', '(4, 1.000)',\n",
    "'(9, 0.911)', '(6, 0.905)', '(6, 0.933)', '(5, 1.000)', '(4, 0.994)']\t\t\t\n",
    "\t\t</pre>\n",
    "\t\tであることから、CNNではかなり認識率が良くなっているように思えます。\n",
    "\t</p>\n",
    "</html>"
   ]
  },
  {
   "cell_type": "code",
   "execution_count": 33,
   "metadata": {
    "collapsed": false
   },
   "outputs": [
    {
     "name": "stdout",
     "output_type": "stream",
     "text": [
      "予測計算終了\n",
      "['(7, 1.000)', '(2, 0.999)', '(1, 1.000)', '(0, 0.998)', '(4, 1.000)', '(1, 1.000)', '(4, 1.000)', '(9, 0.999)', '(5, 0.985)', '(9, 0.995)', '(0, 1.000)', '(6, 1.000)', '(9, 1.000)', '(0, 1.000)', '(1, 1.000)', '(5, 0.997)', '(9, 0.999)', '(7, 1.000)', '(3, 0.976)', '(4, 1.000)', '(9, 0.995)', '(6, 0.992)', '(6, 0.999)', '(5, 1.000)', '(4, 1.000)']\n"
     ]
    }
   ],
   "source": [
    "print('予測計算終了')\n",
    "print([\"(%d, %.3f)\" % (np.argmax(vals), max(vals)) for vals in predicted_values[0:25]])"
   ]
  },
  {
   "cell_type": "markdown",
   "metadata": {},
   "source": [
    "<html>\n",
    "\t<p>\n",
    "\t\t同様にlayer0の出力画像も求めることができます。\n",
    "\t</p>\n",
    "</html>"
   ]
  },
  {
   "cell_type": "code",
   "execution_count": 34,
   "metadata": {
    "collapsed": true
   },
   "outputs": [],
   "source": [
    "# テストデータのlayer0の出力画像を計算する\n",
    "filter0_model =  theano.function(\n",
    "    [layer0_input],\n",
    "    layer0.output,\n",
    ")\n",
    "\n",
    "filter0_images = filter0_model(\n",
    "  test_set_x[:batch_size].reshape((batch_size, 1, 28, 28))\n",
    ")"
   ]
  },
  {
   "cell_type": "markdown",
   "metadata": {},
   "source": [
    "<html>\n",
    "\t<p>\n",
    "\t\tテストデータの最初の7をフィルタリングした結果は、以下の様になりました。\n",
    "\t</p>\n",
    "</html>"
   ]
  },
  {
   "cell_type": "code",
   "execution_count": 35,
   "metadata": {
    "collapsed": false
   },
   "outputs": [
    {
     "name": "stdout",
     "output_type": "stream",
     "text": [
      "(500, 20, 12, 12)\n"
     ]
    },
    {
     "data": {
      "image/png": "[encoded data removed]",
      "text/plain": [
       "<matplotlib.figure.Figure at 0x7f720bb883d0>"
      ]
     },
     "metadata": {},
     "output_type": "display_data"
    }
   ],
   "source": [
    "# LeNetConvPoolLayerの出力画像を可視化\n",
    "# layer0\n",
    "print filter0_images.shape\n",
    "plt.figure()\n",
    "for i in range(20):\n",
    "    plt.subplot(4, 5, i + 1)\n",
    "    plt.axis('off')\n",
    "    plt.imshow(filter0_images[0, i], cmap=plt.cm.gray_r)"
   ]
  },
  {
   "cell_type": "code",
   "execution_count": null,
   "metadata": {
    "collapsed": true
   },
   "outputs": [],
   "source": []
  }
 ],
 "metadata": {
  "kernelspec": {
   "display_name": "Python 2",
   "language": "python",
   "name": "python2"
  },
  "language_info": {
   "codemirror_mode": {
    "name": "ipython",
    "version": 2
   },
   "file_extension": ".py",
   "mimetype": "text/x-python",
   "name": "python",
   "nbconvert_exporter": "python",
   "pygments_lexer": "ipython2",
   "version": "2.7.13"
  }
 },
 "nbformat": 4,
 "nbformat_minor": 0
}
