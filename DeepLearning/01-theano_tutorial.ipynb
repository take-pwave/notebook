{
 "cells": [
  {
   "cell_type": "markdown",
   "metadata": {},
   "source": [
    "オリジナルの作成: 2016/04/30"
   ]
  },
  {
   "cell_type": "markdown",
   "metadata": {
    "collapsed": true
   },
   "source": [
    "<html>\n",
    "\t<author>Hiroshi TAKEMOTO</author>\n",
    "\t(<email>take.pwave@gmail.com</email>)\n",
    "\t\n",
    "\t<h1>Sageノートブックを使ったTheano入門</h1>\n",
    "\t<h2>theanoの参考サイト</h2>\n",
    "\t<p>\n",
    "\t\tTheanoに限らず機械学習の分野では \n",
    "\t\t<a href=\"http://aidiary.hatenablog.com/\">人工知能に関する断創録</a>\n",
    "\t\tの素晴らしさがが突出しています。\n",
    "\t</p>\n",
    "\t<p>\t\n",
    "\t\tここでは、\n",
    "\t\t <a href=\"http://aidiary.hatenablog.com/\">人工知能に関する断創録</a>\n",
    "\t\t のTheanoに関連する記事をSageのノートブックで実装し、Thenoの修得を試みます。\t\n",
    "\t</p>\n",
    "\t<p>\n",
    "\t\t最近では、誰でも簡単にDeeepLearningを体験できるtensorflowが注目されていますが、\n",
    "\t\t「人工知能に関する断創録」の作者が言われているように\n",
    "\t\t「TheanoはDeep Learning Tutorialをはじめ、実装例が豊富にあり、絶妙な粒度で小回りもきくので手法の勉強にちょうどよいんだよね。」\n",
    "\t\tというのがとても納得できます。\t\t\n",
    "\t</p>\n",
    "\t<p>\n",
    "\t\t今回は、\n",
    "\t\t<a href=\"http://www.amazon.co.jp/dp/4061529021/\">深層学習 (機械学習プロフェッショナルシリーズ)</a>\n",
    "\t\tをベースに以下の内容をSageのノートブックで試します。\n",
    "\t\t<ul>\n",
    "\t\t\t<li>\n",
    "\t\t\t\t<a href=\"http://aidiary.hatenablog.com/archive/category/Theano\">人工知能に関する断創録のtheano関連記事</a>\n",
    "\t\t\t</li>\n",
    "\t\t</ul>\t\t\n",
    "\t</p>\n",
    "</html>"
   ]
  },
  {
   "cell_type": "markdown",
   "metadata": {},
   "source": [
    "<html>\n",
    "\t<h2>theanoのインストール</h2>\n",
    "\t<p>\n",
    "\t\tSageでtheanoを使うには、以下の手順でtheanoのインストールが必要です。\n",
    "\t\t<pre>\n",
    "$ sage -sh\n",
    "(sage-sh)  $ easy_install theano\n",
    "Searching for theano\n",
    "Reading https://pypi.python.org/simple/theano/\n",
    "Best match: Theano 0.8.2\n",
    "\n",
    "途中省略\n",
    "Installed /Users/take/local/sage-6.9/local/lib/python2.7/site-packages/Theano-0.8.2-py2.7.egg\n",
    "Processing dependencies for theano\n",
    "Finished processing dependencies for theano\n",
    "\n",
    "(sage-sh)  $ exit\t\t\t\n",
    "\t\t</pre>\n",
    "\t\t\n",
    "\t\t<ul>\n",
    "\t\t\t<li>\n",
    "\t\t\t\t私の公開している\n",
    "\t\t\t\t<a href=\"http://www15191ue.sakura.ne.jp:8000/\">Sageサーバ</a>\n",
    "\t\t\t\tにもtheano 0.8.2をインストールしました\n",
    "\t\t\t</li>\n",
    "\t\t</ul>\n",
    "\t</p>\n",
    "</html>"
   ]
  },
  {
   "cell_type": "markdown",
   "metadata": {},
   "source": [
    "<html>\n",
    "\t<h2>Theanoの使い方</h2>\n",
    "\t<h3>必要なライブラリのimport</h3>\n",
    "\t<p>\n",
    "\t\t最初に、theanoを使うのに必要なライブラリをインポートします。\n",
    "\t</p>\n",
    "</html>"
   ]
  },
  {
   "cell_type": "code",
   "execution_count": 1,
   "metadata": {
    "collapsed": true
   },
   "outputs": [],
   "source": [
    "import numpy as np\n",
    "import theano\n",
    "import theano.tensor as T"
   ]
  },
  {
   "cell_type": "markdown",
   "metadata": {},
   "source": [
    "<html>\n",
    "\t<h3>変数宣言</h3>\n",
    "\t<p>\n",
    "\t\tSageと同様にTheanoも関数を定義するために、\n",
    "\t\t変数（Theanoではシンボル: TensorVariableと呼ぶらしい）を宣言します。\n",
    "\t</p>\n",
    "\t<p>\n",
    "\t\tTheanoの変数宣言は以下の様なルールになっています。\n",
    "\t\t<pre>\n",
    "変数 = T.型タイプ()\t\t\t\n",
    "\t\t</pre>\n",
    "\t\t型には、d: Double、f: Float、l: Longが指定され、\n",
    "\t\tタイプには、scalar: 値、vector: ベクトル、matrix: 行列が指定されます。\n",
    "\t</p>\n",
    "\t<p>\n",
    "\t\tTheanoでは、シンボルで定義した関数を実行時にコンパイルします。\n",
    "\t</p>\n",
    "\t<p>\n",
    "\t\tそれでは、人工知能に関する断創録の例題に沿って、変数の宣言、関数の定義、関数のコンパイルを実行してみましょう。\n",
    "\t</p>\n",
    "</html>"
   ]
  },
  {
   "cell_type": "code",
   "execution_count": 2,
   "metadata": {
    "collapsed": false
   },
   "outputs": [
    {
     "name": "stdout",
     "output_type": "stream",
     "text": [
      "<class 'theano.tensor.var.TensorVariable'>\n"
     ]
    }
   ],
   "source": [
    "# シンボルの生成\n",
    "# xはdoubleのスカラー型\n",
    "x = T.dscalar('x')\n",
    "print type(x)"
   ]
  },
  {
   "cell_type": "code",
   "execution_count": 3,
   "metadata": {
    "collapsed": false
   },
   "outputs": [
    {
     "name": "stdout",
     "output_type": "stream",
     "text": [
      "<class 'theano.tensor.var.TensorVariable'>\n"
     ]
    }
   ],
   "source": [
    "# シンボルを組み立てて数式を定義（これもまたシンボル）\n",
    "y = x ** 2\n",
    "print type(y)"
   ]
  },
  {
   "cell_type": "code",
   "execution_count": 4,
   "metadata": {
    "collapsed": false
   },
   "outputs": [
    {
     "name": "stdout",
     "output_type": "stream",
     "text": [
      "<class 'theano.compile.function_module.Function'>\n"
     ]
    }
   ],
   "source": [
    "# シンボルを使って関数を定義\n",
    "# ここでコンパイルされる\n",
    "f = theano.function(inputs=[x], outputs=y)\n",
    "print type(f)"
   ]
  },
  {
   "cell_type": "code",
   "execution_count": 5,
   "metadata": {
    "collapsed": false
   },
   "outputs": [
    {
     "name": "stdout",
     "output_type": "stream",
     "text": [
      "1.0\n",
      "4.0\n",
      "9.0\n",
      "16.0\n"
     ]
    }
   ],
   "source": [
    "# 関数を使ってxに具体的な値を入れてyを計算\n",
    "print f(1)\n",
    "print f(2)\n",
    "print f(3)\n",
    "print f(4)"
   ]
  },
  {
   "cell_type": "markdown",
   "metadata": {},
   "source": [
    "<html>\n",
    "\t<h3>テンソル</h3>\n",
    "\t<p>\n",
    "\t\tTheanoでは、スカラー、ベクトル、行列などを抽象化した概念テンソル（Tensor）を導入し、\n",
    "\t\ttheano.tensorで定義されており、インポート部でこれをTと宣言し、同じ関数定義を\n",
    "\t\tベクトルや行列に簡単に拡張することができます。\n",
    "\t</p>\n",
    "</html>"
   ]
  },
  {
   "cell_type": "code",
   "execution_count": 6,
   "metadata": {
    "collapsed": false
   },
   "outputs": [
    {
     "name": "stdout",
     "output_type": "stream",
     "text": [
      "[ 1.  4.  9.]\n"
     ]
    }
   ],
   "source": [
    "x = T.dvector('x')\n",
    "y = x ** 2\n",
    "f = theano.function(inputs=[x], outputs=y)\n",
    "print f([1,2,3])"
   ]
  },
  {
   "cell_type": "code",
   "execution_count": 7,
   "metadata": {
    "collapsed": false
   },
   "outputs": [
    {
     "name": "stdout",
     "output_type": "stream",
     "text": [
      "[[  1.   4.   9.]\n",
      " [ 16.  25.  36.]]\n"
     ]
    }
   ],
   "source": [
    "x = T.dmatrix('x')\n",
    "y = x ** 2\n",
    "f = theano.function(inputs=[x], outputs=y)\n",
    "print f([[1,2,3], [4,5,6]])"
   ]
  },
  {
   "cell_type": "markdown",
   "metadata": {},
   "source": [
    "<html>\n",
    "\t<h3>シグモイド関数の例</h3>\n",
    "\t<p>\n",
    "\t\tニューラルネットの活性化関数で使われているシグモイド関数、\n",
    "$$ \n",
    "\ts(x) = \\frac{1}{1 - e^{-x}}\n",
    "$$\t\t\n",
    "\t\tをTheanoで実装します。\n",
    "\t</p>\n",
    "\t<p>\n",
    "\t\tその前に、Sageのplot関数を使ってシグモイド関数の形を見てみましょう。\n",
    "\t</p>\n",
    "</html>"
   ]
  },
  {
   "cell_type": "code",
   "execution_count": 8,
   "metadata": {
    "collapsed": false
   },
   "outputs": [
    {
     "data": {
      "image/png": "[encoded data removed]",
      "text/plain": [
       "Graphics object consisting of 1 graphics primitive"
      ]
     },
     "execution_count": 8,
     "metadata": {},
     "output_type": "execute_result"
    }
   ],
   "source": [
    "# シグモイド関数をSageでプロット\n",
    "x = var('x')\n",
    "s(x) = 1/(1 + exp(-x))\n",
    "plot(s(x), [x, -5, 5], figsize=4)"
   ]
  },
  {
   "cell_type": "markdown",
   "metadata": {},
   "source": [
    "<html>\n",
    "\t<p>\n",
    "\t\tTheanoでの実装は以下の様になります。\n",
    "\t</p>\n",
    "\t<p>\n",
    "\t\t入力を行列の形式で与えているので、結果も各入力値に対するシグモイド関数の値が行列として返されます。\n",
    "\t</p>\n",
    "</html>"
   ]
  },
  {
   "cell_type": "code",
   "execution_count": 9,
   "metadata": {
    "collapsed": false
   },
   "outputs": [
    {
     "name": "stdout",
     "output_type": "stream",
     "text": [
      "[[ 0.5         0.73105858]\n",
      " [ 0.26894142  0.11920292]]\n"
     ]
    }
   ],
   "source": [
    "# Theanoでシグモイド関数を定義\n",
    "## シンボルを定義\n",
    "x = T.dmatrix('x')\n",
    "## シンボルを組み合わせて数式を定義\n",
    "s = 1 / (1 + T.exp(-x))\n",
    "## シンボルを使って関数化\n",
    "sigmoid = theano.function(inputs=[x], outputs=s)\n",
    "\n",
    "# 実際の値を使って計算\n",
    "print sigmoid([[0, 1], [-1, -2]])"
   ]
  },
  {
   "cell_type": "markdown",
   "metadata": {},
   "source": [
    "<html>\n",
    "\t<h3>共有変数</h3>\n",
    "\t<p>\n",
    "\t\tTheanoの共有変数がGPUのメモリと密接に関係しているという説明を読んで、GPUのメモリに合わせてfloat型\n",
    "\t\t(theano.config.floatX)にしたり、値の取得にget_value()というメソッドを使っていることが納得できました。\n",
    "\t</p>\n",
    "\t<p>\n",
    "\t\t私の環境ではGPUが使えないため、type(X)の型は、theano.tensor.sharedvar.TensorSharedVariableでした。\n",
    "\t</p>\n",
    "\t\n",
    "</html>"
   ]
  },
  {
   "cell_type": "code",
   "execution_count": 10,
   "metadata": {
    "collapsed": false
   },
   "outputs": [
    {
     "name": "stdout",
     "output_type": "stream",
     "text": [
      "<class 'theano.tensor.sharedvar.TensorSharedVariable'>\n",
      "[[ 1.  2.  3.]\n",
      " [ 4.  5.  6.]]\n"
     ]
    }
   ],
   "source": [
    "# データを共有変数に読み込む\n",
    "data = np.array([[1,2,3], [4,5,6]], dtype=theano.config.floatX)\n",
    "X = theano.shared(data, name='X', borrow=True)\n",
    "print type(X)\n",
    "print X.get_value()"
   ]
  },
  {
   "cell_type": "markdown",
   "metadata": {},
   "source": [
    "<html>\n",
    "\t<h3>線形回帰モデルの例</h3>\n",
    "\t<p>\n",
    "\t\t共有変数の例として、線形回帰のモデル式が使われています。\n",
    "\t\t回帰モデルは以下の式で、Wとbが共有変数としてyを求めてみます。\n",
    "$$\n",
    "y = W x + b\n",
    "$$\t\t\t\n",
    "\t</p>\n",
    "\t<p>\n",
    "\t\t共有変数は値を取得するときにはget_valueが必要ですが、関数を表す式を定義するときにはシンボルと同様に\n",
    "\t\t使えるのは良く出来ているとなぁと思いました。\n",
    "\t</p>\n",
    "</html>"
   ]
  },
  {
   "cell_type": "code",
   "execution_count": 11,
   "metadata": {
    "collapsed": true
   },
   "outputs": [],
   "source": [
    "# 共有変数の定義\n",
    "# 具体的な数値で初期化\n",
    "W = theano.shared(np.array([[1,2,3], [4,5,6]], dtype=theano.config.floatX),\n",
    "                  name='W',\n",
    "                  borrow=True)\n",
    "b = theano.shared(np.array([1, 1], dtype=theano.config.floatX),\n",
    "                  name='b',\n",
    "                  borrow=True)"
   ]
  },
  {
   "cell_type": "code",
   "execution_count": 12,
   "metadata": {
    "collapsed": false
   },
   "outputs": [
    {
     "name": "stdout",
     "output_type": "stream",
     "text": [
      "[[ 1.  2.  3.]\n",
      " [ 4.  5.  6.]]\n",
      "[ 1.  1.]\n"
     ]
    }
   ],
   "source": [
    "# 共有変数の値の取得\n",
    "print W.get_value()\n",
    "print b.get_value()"
   ]
  },
  {
   "cell_type": "code",
   "execution_count": 13,
   "metadata": {
    "collapsed": false
   },
   "outputs": [
    {
     "name": "stdout",
     "output_type": "stream",
     "text": [
      "<class 'theano.tensor.var.TensorVariable'>\n"
     ]
    }
   ],
   "source": [
    "# シンボルの生成\n",
    "x = T.vector('x')\n",
    "# シンボルと共有変数を組み立てて数式を定義\n",
    "y = T.dot(W, x) + b\n",
    "print type(y)\n",
    "# 関数を定義\n",
    "f = theano.function([x], y)"
   ]
  },
  {
   "cell_type": "code",
   "execution_count": 14,
   "metadata": {
    "collapsed": false
   },
   "outputs": [
    {
     "name": "stdout",
     "output_type": "stream",
     "text": [
      "[  7.  16.]\n"
     ]
    }
   ],
   "source": [
    "# 関数の使用\n",
    "print f([1, 1, 1])"
   ]
  },
  {
   "cell_type": "markdown",
   "metadata": {},
   "source": [
    "<html>\n",
    "\t<h2>Theanoの自動微分</h2>\n",
    "\t<p>\n",
    "\t\tTheanoの特徴の一つに自動微分があります。ニューラルネットの計算で、入力値から予測値を計算するフィードフォワードに対し、\n",
    "\t\t予測結果と正解のずれを誤差関数Eとして表し、重みWの値を更新するバックプロパゲーションでは、誤差関数Eの微分が必要になります。\n",
    "$$\n",
    "\tw^{\\tau+1)} = w^{(\\tau)} - \\mu \\Delta E(w^{\\tau})\n",
    "$$\t\t\n",
    "\t</p>\n",
    "\t<p>\n",
    "\t\tPRMLの第5章にある多層パーセプトロン関数近似をSageで試した\n",
    "\t\t<a href=\"http://www.pwv.co.jp/~take/TakeWiki/index.php?sage%2FPRML-%20%E5%A4%9A%E5%B1%A4%E3%83%91%E3%83%BC%E3%82%BB%E3%83%97%E3%83%88%E3%83%AD%E3%83%B3%E9%96%A2%E6%95%B0%E8%BF%91%E4%BC%BC\">sage/PRML- 多層パーセプトロン関数近似</a>\n",
    "\t\tでは、PRMLの式の変換を手でお復習いして、確認しました。\n",
    "\t\tこの作業はとても手間が掛かり、ミスも多くなります。\n",
    "\t</p>\t\n",
    "\t<p>\n",
    "\t\t(注 特にニューラルネットの計算はとても時間が掛かるため、実務でニューラルネットを使った場合、式のミスをリカバリすのはとても大変です。)\t\t\n",
    "\t</p>\n",
    "</html>"
   ]
  },
  {
   "cell_type": "markdown",
   "metadata": {},
   "source": [
    "<html>\n",
    "\t<h3>例1　2次関数</h3>\n",
    "\t<p>\n",
    "\t\t以下のような2次関数の微分をTheanoの自動微分を使って計算してみましょう。\n",
    "$$\n",
    "\ty = x^2\n",
    "$$\t\t\n",
    "\t\t高校で習った微分の公式から、以下の様になりますね。\n",
    "$$\n",
    "\t\\frac{dy}{dx} = 2 x\n",
    "$$\t\t\n",
    "\t</p>\n",
    "</html>"
   ]
  },
  {
   "cell_type": "markdown",
   "metadata": {},
   "source": [
    "<html>\n",
    "\t<p>\n",
    "\t\tこれをTheanoの自動微分を使って解いてみましょう。\n",
    "\t</p>\n",
    "\t<p>\n",
    "\t\t微分は、T.grad()のcostに微分される式のシンボル（ｙ）、wrtに微分する変数のシンボルを与えて計算します。\n",
    "\t</p>\n",
    "</html>"
   ]
  },
  {
   "cell_type": "code",
   "execution_count": 15,
   "metadata": {
    "collapsed": true
   },
   "outputs": [],
   "source": [
    "# シンボルxを宣言する\n",
    "x = T.dscalar('x')\n",
    "\n",
    "# 微分される数式のシンボルを定義\n",
    "y = x ** 2\n",
    "\n",
    "# yをxに関して微分\n",
    "gy = T.grad(cost=y, wrt=x)"
   ]
  },
  {
   "cell_type": "markdown",
   "metadata": {},
   "source": [
    "<html>\n",
    "\t<p>\n",
    "\t\t微分結果のシンボル（gy）は、そのままでは使えないので、function()で関数かしてから使用します。\n",
    "\t</p>\n",
    "\t<p>\n",
    "\t\t微分の結果を表示するには、theano.pp()を使って表示します。\n",
    "\t</p>\n",
    "</html>"
   ]
  },
  {
   "cell_type": "code",
   "execution_count": 16,
   "metadata": {
    "collapsed": false
   },
   "outputs": [
    {
     "name": "stdout",
     "output_type": "stream",
     "text": [
      "(TensorConstant{2.0} * x)\n"
     ]
    }
   ],
   "source": [
    "# 微分係数を求める関数を定義\n",
    "f = theano.function(inputs=[x], outputs=gy)\n",
    "print theano.pp(f.maker.fgraph.outputs[0])"
   ]
  },
  {
   "cell_type": "code",
   "execution_count": 17,
   "metadata": {
    "collapsed": false
   },
   "outputs": [
    {
     "name": "stdout",
     "output_type": "stream",
     "text": [
      "4.0\n",
      "6.0\n",
      "8.0\n"
     ]
    }
   ],
   "source": [
    "# 具体的なxを与えて微分係数を求める\n",
    "print f(2)\n",
    "print f(3)\n",
    "print f(4)"
   ]
  },
  {
   "cell_type": "markdown",
   "metadata": {},
   "source": [
    "<html>\n",
    "   <h3>Sageの微分を使う</h3>\n",
    "\t<p>\n",
    "\t\tどんな時も代替手段を持っておくことが大切です。ある方法で上手く行かないとき、\n",
    "\t\tなぜ正しく動かないのかを別の方法の結果と比較することで修正することができます。\n",
    "\t</p>\n",
    "\t<p>\n",
    "\t\tSageの計算は、numpyやTheanoのように速くありませんが、比較的数式に近い形式で計算することができます。\n",
    "\t</p>\n",
    "\t<p>\n",
    "\t\tSageの数式処理を使って上記の2次関数の微分を試してみましょう。diffが数式の微分を行う関数です。\n",
    "\t</p>\n",
    "</html>"
   ]
  },
  {
   "cell_type": "code",
   "execution_count": 18,
   "metadata": {
    "collapsed": false
   },
   "outputs": [
    {
     "name": "stdout",
     "output_type": "stream",
     "text": [
      "2*x\n"
     ]
    }
   ],
   "source": [
    "# sageの微分を使って同じ処理を試してみる\n",
    "# 変数xを宣言\n",
    "x = var('x')\n",
    "\n",
    "# yを表す数式を定義\n",
    "y = x^2\n",
    "\n",
    "# yをxで微分し、その結果をf(x)に代入する\n",
    "f(x) = diff(y, x)\n",
    "print f(x)"
   ]
  },
  {
   "cell_type": "code",
   "execution_count": 19,
   "metadata": {
    "collapsed": false
   },
   "outputs": [
    {
     "name": "stdout",
     "output_type": "stream",
     "text": [
      "4\n",
      "6\n",
      "8\n"
     ]
    }
   ],
   "source": [
    "# 具体的なxを与えて微分係数を求める\n",
    "print f(2)\n",
    "print f(3)\n",
    "print f(4)"
   ]
  },
  {
   "cell_type": "markdown",
   "metadata": {},
   "source": [
    "<html>\n",
    "\t<h3>例３　指数関数</h3>\n",
    "\t<p>\n",
    "\t\t例２の指数関数を省略して、例３のsin(x)を計算します。\n",
    "$$\n",
    "y = sin(x)\n",
    "$$\t\t\n",
    "$$\n",
    "\\frac{dy}{dx} = cos(x)\n",
    "$$\n",
    "\t\tを計算します。\n",
    "\t</p>\n",
    "</html>"
   ]
  },
  {
   "cell_type": "code",
   "execution_count": 20,
   "metadata": {
    "collapsed": false
   },
   "outputs": [
    {
     "name": "stdout",
     "output_type": "stream",
     "text": [
      "cos(x)\n"
     ]
    }
   ],
   "source": [
    "# シンボルxを宣言する\n",
    "x = T.dscalar('x')\n",
    "\n",
    "# 微分される数式のシンボルを定義\n",
    "y = T.sin(x)\n",
    "\n",
    "# yをxに関して微分\n",
    "gy = T.grad(cost=y, wrt=x)\n",
    "\n",
    "# 微分係数を求める関数を定義\n",
    "f = theano.function(inputs=[x], outputs=gy)\n",
    "print theano.pp(f.maker.fgraph.outputs[0])"
   ]
  },
  {
   "cell_type": "code",
   "execution_count": 21,
   "metadata": {
    "collapsed": false
   },
   "outputs": [
    {
     "name": "stdout",
     "output_type": "stream",
     "text": [
      "1.0\n",
      "6.12323399574e-17\n",
      "-1.0\n"
     ]
    }
   ],
   "source": [
    "# 具体的なxを与えて微分係数を求める\n",
    "print f(0)\n",
    "print f(np.pi / 2)\n",
    "print f(np.pi)"
   ]
  },
  {
   "cell_type": "markdown",
   "metadata": {},
   "source": [
    "<html>\n",
    "\t<h3>例4　多項式</h3>\n",
    "\t<p>\n",
    "\t\t今度は、例4の多項式です。\n",
    "$$\n",
    "\ty = (x - 4)(x^2 + 6)\n",
    "$$\t\t\n",
    "$$\n",
    "\t\\frac{dy}{dx} = 3 x^2 - 8x + 6\n",
    "$$\n",
    "\t</p>\n",
    "</html>"
   ]
  },
  {
   "cell_type": "code",
   "execution_count": 22,
   "metadata": {
    "collapsed": false
   },
   "outputs": [
    {
     "name": "stdout",
     "output_type": "stream",
     "text": [
      "Elemwise{Composite{(i0 + sqr(i1) + (i2 * (i3 + i1) * i1))}}(TensorConstant{6.0}, x, TensorConstant{2.0}, TensorConstant{-4.0})\n"
     ]
    }
   ],
   "source": [
    "# シンボルxを宣言する\n",
    "x = T.dscalar('x')\n",
    "\n",
    "# 微分される数式のシンボルを定義\n",
    "y = (x - 4) * (x ** 2 + 6)\n",
    "\n",
    "# yをxに関して微分\n",
    "gy = T.grad(cost=y, wrt=x)\n",
    "\n",
    "# 微分係数を求める関数を定義\n",
    "f = theano.function(inputs=[x], outputs=gy)\n",
    "print theano.pp(f.maker.fgraph.outputs[0])"
   ]
  },
  {
   "cell_type": "code",
   "execution_count": 23,
   "metadata": {
    "collapsed": false
   },
   "outputs": [
    {
     "name": "stdout",
     "output_type": "stream",
     "text": [
      "6.0\n",
      "1.0\n",
      "2.0\n"
     ]
    }
   ],
   "source": [
    "# 具体的なxを与えて微分係数を求める\n",
    "print f(0)\n",
    "print f(1)\n",
    "print f(2)"
   ]
  },
  {
   "cell_type": "markdown",
   "metadata": {},
   "source": [
    "<html>\n",
    "\t<p>\n",
    "\t\t結果の式のi0, i1, i2, i3は、次の括弧のTensorConstant{6.0}, x, TensorConstant{2.0}, TensorConstant{-4.0}に対応します。\n",
    "\t\tこれをxの式に書き直すと以下の様になります。\n",
    "\t\t<pre>\n",
    "6 + x**2 + (2*(-4+x)*x)\t\t\t\n",
    "\t\t</pre>\n",
    "\t</p>\n",
    "\t<p>\n",
    "\t\tこの式を手計算で整理する代わりにSageで確認してみましょう。dyに上記の式を代入し、expand()関数で展開してshow()で表示するだけです。\n",
    "\t\tこのように簡単に結果を確認できますよ。 \n",
    "\t</p>\n",
    "</html>"
   ]
  },
  {
   "cell_type": "code",
   "execution_count": 24,
   "metadata": {
    "collapsed": false
   },
   "outputs": [
    {
     "data": {
      "text/html": [
       "<html><script type=\"math/tex; mode=display\">\\newcommand{\\Bold}[1]{\\mathbf{#1}}3 \\, x^{2} - 8 \\, x + 6</script></html>"
      ],
      "text/plain": [
       "3*x^2 - 8*x + 6"
      ]
     },
     "metadata": {},
     "output_type": "display_data"
    }
   ],
   "source": [
    "x = var('x')\n",
    "dy = 6 + x**2 + (2*(-4+x)*x)\n",
    "show(dy.expand())"
   ]
  },
  {
   "cell_type": "markdown",
   "metadata": {},
   "source": [
    "<html>\n",
    "\t<h3>例６　偏微分</h3>\n",
    "\t<p>\n",
    "\t\t例５を省略して、例６の偏微分を試してみます。\n",
    "\t</p>\n",
    "\t<p>\n",
    "\t\t以下の式zをx, yでそれぞれ偏微分します。\n",
    "$$\n",
    "z = (x + 2y)^2\n",
    "$$\t\t\n",
    "$$\n",
    "\\frac{\\partial{z}}{\\partial{x}} = 2(x + 2y) \n",
    "$$\n",
    "$$\n",
    "\\frac{\\partial{z}}{\\partial{y}} = 4(x + 2y) \n",
    "$$\n",
    "\t</p>\n",
    "</html>"
   ]
  },
  {
   "cell_type": "code",
   "execution_count": 25,
   "metadata": {
    "collapsed": false
   },
   "outputs": [
    {
     "name": "stdout",
     "output_type": "stream",
     "text": [
      "Elemwise{Composite{(i0 * (i1 + (i2 * i3)))}}(TensorConstant{2.0}, x, TensorConstant{2.0}, y)\n",
      "Elemwise{Composite{(i0 * (i1 + (i2 * i3)))}}(TensorConstant{4.0}, x, TensorConstant{2.0}, y)\n"
     ]
    }
   ],
   "source": [
    "# シンボルxを宣言する\n",
    "x = T.dscalar('x')\n",
    "y = T.dscalar('y')\n",
    "\n",
    "# 微分される数式のシンボルを定義\n",
    "z = (x + 2 * y) ** 2\n",
    "\n",
    "# zをxに関して偏微分\n",
    "gx = T.grad(cost=z, wrt=x)\n",
    "\n",
    "# zをyに関して偏微分\n",
    "gy = T.grad(cost=z, wrt=y)\n",
    "\n",
    "# 微分係数を求める関数を定義\n",
    "fgx = theano.function(inputs=[x, y], outputs=gx)\n",
    "fgy = theano.function(inputs=[x, y], outputs=gy)\n",
    "print theano.pp(fgx.maker.fgraph.outputs[0])\n",
    "print theano.pp(fgy.maker.fgraph.outputs[0])"
   ]
  },
  {
   "cell_type": "code",
   "execution_count": 26,
   "metadata": {
    "collapsed": false
   },
   "outputs": [
    {
     "name": "stdout",
     "output_type": "stream",
     "text": [
      "10.0\n",
      "12.0\n",
      "20.0\n",
      "24.0\n"
     ]
    }
   ],
   "source": [
    "# 具体的な値を与えて偏微分係数を求める\n",
    "print fgx(1, 2)\n",
    "print fgx(2, 2)\n",
    "print fgy(1, 2)\n",
    "print fgy(2, 2)"
   ]
  },
  {
   "cell_type": "markdown",
   "metadata": {},
   "source": [
    "<html>\n",
    "\t<p>\n",
    "\t\t最後にSageで偏微分を試してみましょう。\n",
    "\t</p>\n",
    "\t<p>\n",
    "\t\tx, yの変数をvar関数で定義し、zの数式を定義します。偏微分はdiff関数の微分変数を変えるだけです。\n",
    "\t</p>\n",
    "\t<p>\n",
    "\t\t非常に簡単にfgx, fgyを計算できるのがお分かり頂けると思います。\n",
    "\t</p>\n",
    "</html>"
   ]
  },
  {
   "cell_type": "code",
   "execution_count": 27,
   "metadata": {
    "collapsed": false
   },
   "outputs": [
    {
     "name": "stdout",
     "output_type": "stream",
     "text": [
      "(x, y) |--> 2*x + 4*y\n",
      "(x, y) |--> 4*x + 8*y\n"
     ]
    }
   ],
   "source": [
    "# sageの微分を使って同じ処理を試してみる\n",
    "# 変数xを宣言\n",
    "x, y = var('x y')\n",
    "\n",
    "# yを表す数式を定義\n",
    "z = (x + 2 * y) ** 2\n",
    "\n",
    "# yをxで微分し、その結果をfgx, fgyに代入する\n",
    "fgx(x, y) = diff(z, x)\n",
    "fgy(x, y) = diff(z, y)\n",
    "print fgx\n",
    "print fgy"
   ]
  },
  {
   "cell_type": "code",
   "execution_count": 28,
   "metadata": {
    "collapsed": false
   },
   "outputs": [
    {
     "name": "stdout",
     "output_type": "stream",
     "text": [
      "10\n",
      "12\n",
      "20\n",
      "24\n"
     ]
    }
   ],
   "source": [
    "print fgx(1, 2)\n",
    "print fgx(2, 2)\n",
    "print fgy(1, 2)\n",
    "print fgy(2, 2)"
   ]
  },
  {
   "cell_type": "code",
   "execution_count": null,
   "metadata": {
    "collapsed": true
   },
   "outputs": [],
   "source": []
  }
 ],
 "metadata": {
  "kernelspec": {
   "display_name": "SageMath 7.5.1",
   "language": "",
   "name": "sagemath"
  },
  "language_info": {
   "codemirror_mode": {
    "name": "ipython",
    "version": 2
   },
   "file_extension": ".py",
   "mimetype": "text/x-python",
   "name": "python",
   "nbconvert_exporter": "python",
   "pygments_lexer": "ipython2",
   "version": "2.7.13"
  }
 },
 "nbformat": 4,
 "nbformat_minor": 0
}
