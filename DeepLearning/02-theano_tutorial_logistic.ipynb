{
 "cells": [
  {
   "cell_type": "markdown",
   "metadata": {},
   "source": [
    "オリジナルの作成: 2016/05/03"
   ]
  },
  {
   "cell_type": "markdown",
   "metadata": {},
   "source": [
    "<html>\n",
    "\t<author>Hiroshi TAKEMOTO</author>\n",
    "\t(<email>take.pwave@gmail.com</email>)\n",
    "\t\n",
    "\t<h1>SageでTheanoのロジスティック回帰を試す</h1>\n",
    "\t<h2>参考サイト</h2>\n",
    "\t<p>\t\n",
    "\t\tここでは、\n",
    "\t\t <a href=\"http://aidiary.hatenablog.com/\">人工知能に関する断創録</a>\n",
    "\t\t のTheanoに関連する記事をSageのノートブックで実装し、Thenoの修得を試みます。\t\n",
    "\t</p>\n",
    "\t<p>\n",
    "\t\t今回は、Theanoのロジスティック回帰を以下のページを参考にSageのノートブックで試してみます。\n",
    "\t\t<ul>\n",
    "\t\t\t<li>\n",
    "\t\t\t\t<a href=\"http://aidiary.hatenablog.com/entry/20150519/1432038633\">Theanoによる2クラスロジスティック回帰の実装</a>\n",
    "\t\t\t</li>\n",
    "\t\t</ul>\t\t\n",
    "\t</p>\n",
    "</html>"
   ]
  },
  {
   "cell_type": "markdown",
   "metadata": {},
   "source": [
    "<html>\n",
    "\t<h2>２値分類</h2>\n",
    "\t<p>\n",
    "\t\t２値分類とは、入力xの値によって2種類に区別する問題です。２値の変数$y \\in {0, 1}$で表現した場合、\n",
    "\t\t入力xからyの値を推定します。\n",
    "\t</p>\n",
    "\t<p>\n",
    "\t\t入力xを指定したとき、y=1となる事後確率$p(y=1|x)$をニューラルネットを使ってモデル化します。活性化関数gにはロジスティック関数を使用します。\n",
    "$$\n",
    "\th(x) = p(y=1|x) \\approx g(x; w)\n",
    "$$\t\t\n",
    "$$\n",
    "\tg(z) = \\frac{1}{1 + e^{-z}}\n",
    "$$\n",
    "\t</p>\n",
    "\t<p>\n",
    "\t\tべき乗の性質を使ったトリックを使うと事後分布$p(y|x; w)$をy=1とy=0の分布を使って\n",
    "$$\n",
    "\t\tp(y|x) = p(y=1|x)^y p(y=0|x)^{1-y}\n",
    "$$\t\t\n",
    "\t\tと表すことができます。ここで$p(y=0|x) = 1 - h(x)$であることを使うとwの尤度は、\n",
    "$$\n",
    "\t\tL(w) = \\prod_{n=1}^N p(y_n | x_n; w) = \\prod_{n=1}^N \\{ h(x_n)\\}^{y_n} \\{1 - h(x_n) \\}^{1-y_n}\n",
    "$$\t\t\n",
    "\t\tで与えられ、負の対数尤度は、以下のようになります。\n",
    "$$\n",
    "\t\tE(w) = - \\sum_{n=1}^N [y_n log\\, h(x_n) + (1-y_n) log\\{1 - h(x_n)\\}]\n",
    "$$\t\t\n",
    "\t</p>\n",
    "</html>"
   ]
  },
  {
   "cell_type": "markdown",
   "metadata": {},
   "source": [
    "<html>\n",
    "\t<h3>必要なライブラリをインポート</h3>\n",
    "\t<p>\n",
    "\t\t最初に使用するライブラリをインポートします。\n",
    "\t</p>\n",
    "</html>"
   ]
  },
  {
   "cell_type": "code",
   "execution_count": 1,
   "metadata": {
    "collapsed": true
   },
   "outputs": [],
   "source": [
    "import numpy as np\n",
    "import matplotlib.pyplot as plt\n",
    "import theano\n",
    "import theano.tensor as T"
   ]
  },
  {
   "cell_type": "markdown",
   "metadata": {},
   "source": [
    "<html>\n",
    "\t<h3>訓練データのロード</h3>\n",
    "\t<p>\n",
    "\t\t訓練データex2data1.txtをdataディレクトリから読み込みます。\n",
    "\t</p>\n",
    "</html>"
   ]
  },
  {
   "cell_type": "code",
   "execution_count": 2,
   "metadata": {
    "collapsed": false
   },
   "outputs": [],
   "source": [
    "# 訓練データをロード\n",
    "data = np.genfromtxt(\"data/ex2data1.txt\", delimiter=\",\")\n",
    "data_x = data[:, (0, 1)]\n",
    "data_y = data[:, 2]\n",
    "\n",
    "# 訓練データ数\n",
    "m = len(data_y)"
   ]
  },
  {
   "cell_type": "markdown",
   "metadata": {
    "collapsed": true
   },
   "source": [
    "<html>\n",
    "\t<h3>データの分布</h3>\n",
    "\t<p>\n",
    "\t\ty=1を赤、y=0を青の●(point)でプロットし、データの分布をみます。\n",
    "\t</p>\n",
    "\t<p>\n",
    "\t\tSageのGraphicsとpointを使うと簡単にデータの分布が可視化することができます。\n",
    "\t</p>\n",
    "</html>"
   ]
  },
  {
   "cell_type": "code",
   "execution_count": 3,
   "metadata": {
    "collapsed": false
   },
   "outputs": [
    {
     "data": {
      "image/png": "[encoded data removed]",
      "text/plain": [
       "Graphics object consisting of 100 graphics primitives"
      ]
     },
     "metadata": {},
     "output_type": "display_data"
    }
   ],
   "source": [
    "# データのプロット\n",
    "data_plt = Graphics()\n",
    "for i in range(m):\n",
    "    if data_y[i] == 1:\n",
    "        data_plt += point(data_x[i], rgbcolor='red')\n",
    "    else:\n",
    "        data_plt += point(data_x[i], rgbcolor='blue')\n",
    "show(data_plt, figsize=4)"
   ]
  },
  {
   "cell_type": "markdown",
   "metadata": {},
   "source": [
    "<html>\n",
    "\t<h3>コスト関数の自動微分</h3>\n",
    "\t<p>\n",
    "\t\tバイアス項もwに追加するために、入力データxの1列目に1の列を追加します。\n",
    "\t</p>\n",
    "\t<p>\n",
    "\t\t従って重みwは、$ w = [w_0, w_1, w_2]$となります。\n",
    "\t</p>\n",
    "\t<p>\n",
    "\t\tTheanoでコスト関数で定義します。\n",
    "\t\t<ul>\n",
    "\t\t\t<li>X: 訓練データを表す共有変数</li>\n",
    "\t\t\t<li>y: 訓練データの正解ラベルを表す共有変数</li>\n",
    "\t\t\t<li>w: 重み（パラメータ）を表す共有変数</li>\n",
    "\t\t</ul>\n",
    "\t\t人工知能に関する断創録のコメントは鋭く、T.dot(X, w)のXとwの順序が式と逆ではないかと指摘しており、\n",
    "\t\tこれはXの行がサンプル、列が特徴をデータをまとめた行列なので、この順番になるのだそうです。\n",
    "\t</p>\n",
    "\t<p>\n",
    "\t\tg_wは、コスト関数をパラメータwで微分した数式を表している。\n",
    "\t\tこのようにとても簡単に微分を定義することができるのがTheanoの特徴です。\n",
    "</html>"
   ]
  },
  {
   "cell_type": "code",
   "execution_count": 4,
   "metadata": {
    "collapsed": false
   },
   "outputs": [],
   "source": [
    "# 訓練データの1列目に1を追加\n",
    "data_x = np.hstack((np.ones((m, 1)), data_x))\n",
    "\n",
    "# 訓練データを共有変数にする\n",
    "X = theano.shared(np.asarray(data_x, dtype=theano.config.floatX), borrow=True)\n",
    "y = theano.shared(np.asarray(data_y, dtype=theano.config.floatX), borrow=True)"
   ]
  },
  {
   "cell_type": "code",
   "execution_count": 5,
   "metadata": {
    "collapsed": false
   },
   "outputs": [],
   "source": [
    "# パラメータを共有変数にし、0で初期化\n",
    "# 訓練データに1を加えたのでバイアスもwに含めてしまう\n",
    "w = theano.shared(np.zeros(3, dtype=theano.config.floatX), name='w', borrow=True)\n",
    "# コスト関数として負の対数尤度を定義\n",
    "h = T.nnet.sigmoid(T.dot(X, w))\n",
    "# 通常のコスト関数とは異なり1/mがファクターとして掛けてある。これがないと計算がすぐにnanとなり求まらない\n",
    "cost = - (1.0/m)*T.sum(y * T.log(h) + (1 - y) * T.log(1 - h))\n",
    "\n",
    "# コスト関数の微分\n",
    "g_w = T.grad(cost=cost, wrt=w)"
   ]
  },
  {
   "cell_type": "markdown",
   "metadata": {},
   "source": [
    "<html>\n",
    "\t<h2>Theanoによる勾配降下法の実装</h2>\n",
    "\t<p>\n",
    "\t\t学習率learning_rateと更新updatesにwの更新を定義し、theanoのfunctionとしてtran_modelを定義して、\n",
    "\t\tこれを繰り返し実行するだけで勾配降下法が実現できてしまうところが本当にすごいです。\n",
    "\t\t<pre>\n",
    "\t# 訓練用の関数を定義\n",
    "\ttrain_model = theano.function(inputs=[], outputs=cost, updates=updates)\n",
    "\t\t</pre>\t\n",
    "\t\tfunctionで指定したupdatesは、関数の実行後に指定された更新が自動的に行われる仕組みになっており、\n",
    "\t\tupdatesには（共有変数, 更新式のシンボル）のペアが並ぶリストを指定します。\t\n",
    "\t</p>\n",
    "\t<p>\n",
    "\t\ttrain_modelの戻り値には、cost関数の戻り値が返されます、これを収束の判定に使うことができます。\n",
    "\t</p>\n",
    "\t<p>\n",
    "\t\t今回は収束判定はしないで、30万回パラメータの更新を繰り返します。\n",
    "\t</p>\n",
    "</html>"
   ]
  },
  {
   "cell_type": "code",
   "execution_count": 6,
   "metadata": {
    "collapsed": true
   },
   "outputs": [],
   "source": [
    "# モデルでnanが返された時に、以下のdetect_nanを使うことで、エラーになったデータの場所が特定できます！\n",
    "# train_model = theano.function(inputs=[], outputs=cost, updates=updates, mode=theano.compile.MonitorMode(post_func=detect_nan))\n",
    "# \n",
    "def detect_nan(i, node, fn):\n",
    "    for output in fn.outputs:\n",
    "        if (not isinstance(output[0], np.random.RandomState) and\n",
    "            np.isnan(output[0]).any()):\n",
    "            print '*** NaN detected ***'\n",
    "            theano.printing.debugprint(node)\n",
    "            print 'Inputs : %s' % [input[0] for input in fn.inputs]\n",
    "            print 'Outputs: %s' % [output[0] for output in fn.outputs]\n",
    "            break"
   ]
  },
  {
   "cell_type": "code",
   "execution_count": 7,
   "metadata": {
    "collapsed": false
   },
   "outputs": [],
   "source": [
    "# 勾配降下法\n",
    "# パラメータ更新式\n",
    "learning_rate = 0.001\n",
    "updates = [(w, w - learning_rate * g_w)]\n",
    "\n",
    "# 訓練用の関数を定義\n",
    "train_model = theano.function(inputs=[], outputs=cost, updates=updates)"
   ]
  },
  {
   "cell_type": "code",
   "execution_count": 8,
   "metadata": {
    "collapsed": false
   },
   "outputs": [
    {
     "name": "stdout",
     "output_type": "stream",
     "text": [
      "0 0.69314718056\n",
      "20000 0.547295463694\n",
      "40000 0.488295709188\n",
      "60000 0.445118809496\n",
      "80000 0.41259440171\n",
      "100000 0.387389522711\n",
      "120000 0.367353248365\n",
      "140000 0.351070505109\n",
      "160000 0.337586093857\n",
      "180000 0.326237734121\n",
      "200000 0.316554335209\n",
      "220000 0.308192817261\n",
      "240000 0.300897944917\n",
      "260000 0.294476164256\n",
      "280000 0.288778154733\n"
     ]
    }
   ],
   "source": [
    "# 高度な収束判定はせずにiterations回だけ繰り返す\n",
    "iterations = 300000\n",
    "for iter in range(iterations):\n",
    "    current_cost = train_model()\n",
    "    if iter%20000 == 0:\n",
    "        print iter, current_cost"
   ]
  },
  {
   "cell_type": "markdown",
   "metadata": {},
   "source": [
    "<html>\n",
    "\t<h3>結果をプロット</h3>\n",
    "\t<p>\n",
    "\t\t求められた重みwからy=0とy=1の境界を求めます。\n",
    "$$\n",
    "\tw_0 + w_1 x_1 + w_2 x_2 = 0\n",
    "$$\t\n",
    "\t\tから\n",
    "$$\n",
    "\tx_2 = -w_0/w_2 - w_1/w_2 x_1\n",
    "$$\t\t\n",
    "\t\tとなります。これをSageのPlot関数を使って表示してみましょう。\n",
    "\t</p>\n",
    "</html>"
   ]
  },
  {
   "cell_type": "code",
   "execution_count": 9,
   "metadata": {
    "collapsed": false
   },
   "outputs": [
    {
     "name": "stdout",
     "output_type": "stream",
     "text": [
      "w: [-9.25573205  0.07960975  0.07329322]\n"
     ]
    }
   ],
   "source": [
    "# 更新されたパラメータを表示\n",
    "t = w.get_value()\n",
    "print \"w:\", t"
   ]
  },
  {
   "cell_type": "code",
   "execution_count": 10,
   "metadata": {
    "collapsed": false
   },
   "outputs": [
    {
     "data": {
      "image/png": "[encoded data removed]",
      "text/plain": [
       "Graphics object consisting of 101 graphics primitives"
      ]
     },
     "metadata": {},
     "output_type": "display_data"
    }
   ],
   "source": [
    "# 決定境界を描画\n",
    "xmin, xmax = min(data_x[:,1]), max(data_x[:,1])\n",
    "x1 = var('x1')\n",
    "x2 = -t[0]/t[2] - t[1]/t[2]*x1\n",
    "line_plt = plot(x2, [x1, xmin, xmax])\n",
    "(data_plt + line_plt).show(figsize=4)"
   ]
  },
  {
   "cell_type": "markdown",
   "metadata": {
    "collapsed": false
   },
   "source": [
    "<html>\n",
    "\t<h3>Theanoによる確率的勾配降下法の実装</h3>\n",
    "\t<p>\n",
    "\t\t上記の勾配降下法は、誤差関数に各サンプルの誤差$E_n(w)$の和を求めています。この方法をバッチ学習（batch leaning）と呼びます。\n",
    "$$\n",
    "\tE(w) = \\sum_{n=1}^N E_n(w)\n",
    "$$\t\t\n",
    "\t</p>\n",
    "\t<p>\n",
    "\t\tこれに対してサンプルからランダムに1個を抽出し、パラメータの更新を行う方式を確率的勾配降下法（stochastic gradient descent）\n",
    "\t\tと呼び、SGDと略します。SGDでのwの更新は以下のように行われます。\n",
    "$$\n",
    "\tw^{(t+1)} = w^{(t)} - \\epsilon \\Delta E_n\n",
    "$$\t\t\t\t\n",
    "\t</p>\n",
    "\t<p>\n",
    "\t\tTheanoでSGDを実装するには、更新式を少し書き替えるだけで実現できます。\n",
    "\t\t<pre>\n",
    "\t# 訓練データのインデックスを表すシンボルを定義\n",
    "\tindex = T.lscalar()\t\t\t\n",
    "\t# コスト関数の微分をindex番目のデータのみ使うように修正\n",
    "\th = T.nnet.sigmoid(T.dot(w, X[index,:]))\n",
    "\tcost = -y[index] * T.log(h) - (1 - y[index]) * T.log(1 - h)\n",
    "\t# 訓練用の関数の定義で、inputにindexを指定し、index番目の訓練データのみを使ってパラメータ更新する\n",
    "\ttrain_model = theano.function(inputs=[index], outputs=cost, updates=updates)\n",
    "\t\t</pre>\t\t\n",
    "\t</p>\n",
    "\t<p>\n",
    "\t\t人工知能に関する断創録では、5000で計算していましたが、解がばらばなので、10000に増やして計算してみました。\n",
    "\t</p>\n",
    "</html>"
   ]
  },
  {
   "cell_type": "code",
   "execution_count": 11,
   "metadata": {
    "collapsed": true
   },
   "outputs": [],
   "source": [
    "# 確率的勾配降下法\n",
    "# 訓練データを再度設定\n",
    "data_x = data[:, (0, 1)]\n",
    "data_y = data[:, 2]\n",
    "\n",
    "# 訓練データの1列目に1を追加\n",
    "data_x = np.hstack((np.ones((m, 1)), data_x))\n",
    "\n",
    "# データをシャッフル\n",
    "p = np.random.permutation(m)\n",
    "data_x = data_x[p, :]\n",
    "data_y = data_y[p]"
   ]
  },
  {
   "cell_type": "code",
   "execution_count": 12,
   "metadata": {
    "collapsed": true
   },
   "outputs": [],
   "source": [
    "# 訓練データを共有変数にする\n",
    "X = theano.shared(np.asarray(data_x, dtype=theano.config.floatX), borrow=True)\n",
    "y = theano.shared(np.asarray(data_y, dtype=theano.config.floatX), borrow=True)\n",
    "\n",
    "# パラメータを共有変数にし、0で初期化\n",
    "# 訓練データに1を加えたのでバイアスもwに含めてしまう\n",
    "w = theano.shared(np.zeros(3, dtype=theano.config.floatX), name='w', borrow=True)\n",
    "\n",
    "# 訓練データのインデックスを表すシンボルを定義\n",
    "index = T.lscalar()"
   ]
  },
  {
   "cell_type": "code",
   "execution_count": 13,
   "metadata": {
    "collapsed": true
   },
   "outputs": [],
   "source": [
    "# コスト関数の微分を構築\n",
    "# 確率的勾配降下法なので全データの和ではなく、index番目のデータのみ使う\n",
    "h = T.nnet.sigmoid(T.dot(w, X[index,:]))\n",
    "cost = -y[index] * T.log(h) - (1 - y[index]) * T.log(1 - h)\n",
    "\n",
    "# コスト関数の微分\n",
    "g_w = T.grad(cost=cost, wrt=w)\n",
    "\n",
    "# 更新式\n",
    "learning_rate = 0.0005\n",
    "updates = [(w, w - learning_rate * g_w)]\n",
    "\n",
    "# 訓練用の関数を定義\n",
    "# index番目の訓練データを使ってパラメータ更新\n",
    "train_model = theano.function(inputs=[index], outputs=cost, updates=updates)"
   ]
  },
  {
   "cell_type": "code",
   "execution_count": 14,
   "metadata": {
    "collapsed": false
   },
   "outputs": [
    {
     "name": "stdout",
     "output_type": "stream",
     "text": [
      "0 0.0516469108332\n",
      "500 0.0511148075267\n",
      "1000 0.0420380848334\n",
      "1500 0.0324276124006\n",
      "2000 0.0249896127378\n",
      "2500 0.0196073042107\n",
      "3000 0.0156910643233\n",
      "3500 0.0127780559225\n",
      "4000 0.0105645722052\n",
      "4500 0.00885267037499\n",
      "5000 0.00750901336009\n",
      "5500 0.00644070000985\n",
      "6000 0.00558131061815\n",
      "6500 0.00488244644119\n",
      "7000 0.00430831303458\n",
      "7500 0.00383210612443\n",
      "8000 0.0034335309684\n",
      "8500 0.00309706548768\n",
      "9000 0.00281072555632\n",
      "9500 0.00256517615274\n",
      "w: [-13.86585403   0.11494973   0.13224085]\n"
     ]
    }
   ],
   "source": [
    "# 確率的勾配降下法\n",
    "# 5000だと解がばらばらなので、10000に増やしてみた\n",
    "max_epoch = 10000\n",
    "for epoch in range(max_epoch):\n",
    "    for i in range(m):\n",
    "        current_cost = train_model(i)\n",
    "    if epoch%500 == 0:\n",
    "        print epoch, current_cost\n",
    "\n",
    "# 更新されたパラメータを表示\n",
    "t = w.get_value()\n",
    "print \"w:\", t"
   ]
  },
  {
   "cell_type": "markdown",
   "metadata": {},
   "source": [
    "<html>\n",
    "\t<h3>決定境界の表示</h3>\n",
    "\t<p>\n",
    "\t\t解は勾配降下法の線の当たりをばらつきます。\n",
    "\t</p>\n",
    "</html>"
   ]
  },
  {
   "cell_type": "code",
   "execution_count": 15,
   "metadata": {
    "collapsed": false
   },
   "outputs": [
    {
     "data": {
      "image/png": "[encoded data removed]",
      "text/plain": [
       "Graphics object consisting of 101 graphics primitives"
      ]
     },
     "metadata": {},
     "output_type": "display_data"
    }
   ],
   "source": [
    "# 決定境界を描画\n",
    "xmin, xmax = min(data_x[:,1]), max(data_x[:,1])\n",
    "x1 = var('x1')\n",
    "x2 = -t[0]/t[2] - t[1]/t[2]*x1\n",
    "line_plt = plot(x2, [x1, xmin, xmax])\n",
    "(data_plt + line_plt).show(figsize=4)"
   ]
  },
  {
   "cell_type": "code",
   "execution_count": null,
   "metadata": {
    "collapsed": true
   },
   "outputs": [],
   "source": []
  }
 ],
 "metadata": {
  "kernelspec": {
   "display_name": "SageMath 7.5.1",
   "language": "",
   "name": "sagemath"
  },
  "language_info": {
   "codemirror_mode": {
    "name": "ipython",
    "version": 2
   },
   "file_extension": ".py",
   "mimetype": "text/x-python",
   "name": "python",
   "nbconvert_exporter": "python",
   "pygments_lexer": "ipython2",
   "version": "2.7.13"
  }
 },
 "nbformat": 4,
 "nbformat_minor": 0
}
