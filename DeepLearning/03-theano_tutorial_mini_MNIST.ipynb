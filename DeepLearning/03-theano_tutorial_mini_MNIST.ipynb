{
 "cells": [
  {
   "cell_type": "markdown",
   "metadata": {},
   "source": [
    "オリジナルの作成: 2016/05/03"
   ]
  },
  {
   "cell_type": "markdown",
   "metadata": {},
   "source": [
    "<html>\n",
    "\t<author>Hiroshi TAKEMOTO</author>\n",
    "\t(<email>take.pwave@gmail.com</email>)\n",
    "\t\n",
    "\t<h1>SageでTheanoの手書き数字認識（MNIST）を試す</h1>\n",
    "\t<h2>参考サイト</h2>\n",
    "\t<p>\t\n",
    "\t\tここでは、\n",
    "\t\t <a href=\"http://aidiary.hatenablog.com/\">人工知能に関する断創録</a>\n",
    "\t\t のTheanoに関連する記事をSageのノートブックで実装し、Thenoの修得を試みます。\t\n",
    "\t</p>\n",
    "\t<p>\n",
    "\t\t今回は、TheanoのTutorialからMNISTの手書き数字認識を以下のページを参考にSageのノートブックで試してみます。\n",
    "\t\t<ul>\n",
    "\t\t\t<li>\n",
    "\t\t\t\t<a href=\"http://aidiary.hatenablog.com/entry/20150526/1432648414\">Theanoによるロジスティック回帰の実装</a>\n",
    "\t\t\t</li>\n",
    "\t\t</ul>\t\t\n",
    "\t</p>\n",
    "</html>"
   ]
  },
  {
   "cell_type": "markdown",
   "metadata": {},
   "source": [
    "<html>\n",
    "\t<h2>処理系をSageからPythonに変更</h2>\n",
    "\t<p>\n",
    "\t\tSageでTheanoのtutorialのMNISTを実行すると、以下のy_predがベクトルではなくスカラーになり、うまく処理できません。\n",
    "\t\t<pre>\n",
    "\tself.y_pred = T.argmax(self.p_y_given_x, axis=1)\t\t\t\n",
    "\t\t</pre>\t\t\n",
    "\t</p>\n",
    "\t<p>\n",
    "\t\tそこで、ノートブックの処理系をSageからPythonに切り替えます。上部の左から4つめのプルダウンメニューから\n",
    "\t\t「python」を選択してください。\n",
    "\t</p>\n",
    "\t<p>\n",
    "\t\t<img src=\"images/theano_setup.png\"/>\n",
    "\t</p>\n",
    "</html>"
   ]
  },
  {
   "cell_type": "markdown",
   "metadata": {},
   "source": [
    "<html>\n",
    "\t<h2>必要なライブラリをインポート</h2>\n",
    "\t<p>\n",
    "\t\t今回は、ちょっと多くのライブラリを使用します。\n",
    "\t</p>\n",
    "</html>"
   ]
  },
  {
   "cell_type": "code",
   "execution_count": 1,
   "metadata": {
    "collapsed": true
   },
   "outputs": [],
   "source": [
    "# 必要なライブラリのインポート\n",
    "import six.moves.cPickle as pickle\n",
    "import gzip\n",
    "import os\n",
    "import sys\n",
    "import timeit\n",
    "import urllib\n",
    "\n",
    "import numpy as np\n",
    "import matplotlib.pyplot as plt \n",
    "%matplotlib inline\n",
    "\n",
    "import theano\n",
    "import theano.tensor as T"
   ]
  },
  {
   "cell_type": "markdown",
   "metadata": {},
   "source": [
    "<html>\n",
    "\t<h2>データのセットアップ</h2>\n",
    "\t<h3>データのダウンロード</h3>\n",
    "\t<p>\n",
    "\t\tTheanoのTutorialで使用しているMNISTは手書き数字の画像データセットは、\n",
    "\t\tcPickleモジュールでロードできる形式に圧縮したmnist.pkl.gzが以下のサイトから\n",
    "\t\tダウンロードできます。\n",
    "\t\t<ul>\n",
    "\t\t\t<li>http://deeplearning.net/data/mnist/mnist.pkl.gz</li>\n",
    "\t\t</ul>\n",
    "\t</p>\n",
    "\t<p>\n",
    "\t\tMNISTのデータには、70000の手書き数字データが収録されおり、それを以下の様に分割して使用します。\n",
    "\t\t<ul>\n",
    "\t\t\t<li>50000の訓練セット</li>\n",
    "\t\t\t<li>10000のバリデーションセット</li>\n",
    "\t\t\t<li>10000のテストセット</li>\n",
    "\t\t</ul>\n",
    "\t\t\n",
    "\t\t各サンプル画像は、28x28=784個の配列に格納され、データの値は0.0から1.0に正規化されています。\n",
    "\t</p>\n",
    "\t<p>\n",
    "\t\tTensorFlowのMNIST for ML BeginnersのMNISTデータの説明が分かりやすいので、引用します。\n",
    "\t</p>\n",
    "\t<p>\n",
    "\t\t<img width=\"50%\" height=\"50%\" src=\"https://www.tensorflow.org/versions/r0.7/images/MNIST-Matrix.png\"/>\n",
    "\t</p>\n",
    "</html>"
   ]
  },
  {
   "cell_type": "code",
   "execution_count": 2,
   "metadata": {
    "collapsed": true
   },
   "outputs": [],
   "source": [
    "# データのダウンロード(最初１回だけ実行)\n",
    "# urllib.urlretrieve(\"http://deeplearning.net/data/mnist/mnist.pkl.gz\", \"data/mnist.pkl.gz\")\n",
    "# Sageサーバではメモリ不足のため、1/10のmini_mnist_pkl.gzを作成してこれで計算することにした"
   ]
  },
  {
   "cell_type": "code",
   "execution_count": 3,
   "metadata": {
    "collapsed": true
   },
   "outputs": [],
   "source": [
    "# 以下の手順でmini_mnist.pk.gzを作成（コメントを外す）\n",
    "#mini_train_set = (train_set[0][0:5000], train_set[1][0:5000])\n",
    "#mini_valid_set = (valid_set[0][0:500], valid_set[1][0:500])\n",
    "#mini_test_set = (test_set[0][0:500], test_set[1][0:500])\n",
    "#f = gzip.open(DATA+\"mini_mnist.pkl.gz\", 'wb')\n",
    "#pickle.dump((mini_train_set, mini_valid_set, mini_test_set), f)\n",
    "#f.close()"
   ]
  },
  {
   "cell_type": "markdown",
   "metadata": {},
   "source": [
    "<html>\n",
    "\t<h3>1/10のサブセットを作成</h3>\n",
    "\t<p>\n",
    "\t\tSageサーバのメモリは1Gと少ないため、MNISTのデータをそのまま使用するとメモリ不足になります。\n",
    "\t\tそこで、1/10のサイズのサブセットデータmini_mnist.pkl.gzを作成し、これを使用して数字を認識することにします。\n",
    "\t</p>\n",
    "</html>"
   ]
  },
  {
   "cell_type": "code",
   "execution_count": 4,
   "metadata": {
    "collapsed": true
   },
   "outputs": [],
   "source": [
    "# データセットをロードする\n",
    "#f = gzip.open(\"data/mnist.pkl.gz\", 'rb')\n",
    "f = gzip.open(\"data/mini_mnist.pkl.gz\", 'rb')\n",
    "train_set, valid_set, test_set = pickle.load(f)\n",
    "f.close()"
   ]
  },
  {
   "cell_type": "code",
   "execution_count": 5,
   "metadata": {
    "collapsed": false
   },
   "outputs": [
    {
     "name": "stdout",
     "output_type": "stream",
     "text": [
      "2 (5000, 784) (5000,) <type 'numpy.int64'>\n"
     ]
    }
   ],
   "source": [
    "# データは、(画像データとラベル）のタプルで、画像データは5000サンプルで、各画像データは28x28=784、ラベルはint64の型\n",
    "print len(train_set), train_set[0].shape, train_set[1].shape, type(train_set[1][0])"
   ]
  },
  {
   "cell_type": "markdown",
   "metadata": {},
   "source": [
    "<html>\n",
    "\t<h3>サンプルデータについて</h3>\n",
    "\t<p>\n",
    "\t\tどのような画像データが入っているのか、訓練用データ（train_set）の最初の100個を表示してみましょう。\n",
    "\t</p>\n",
    "</html>"
   ]
  },
  {
   "cell_type": "code",
   "execution_count": 6,
   "metadata": {
    "collapsed": false
   },
   "outputs": [
    {
     "data": {
      "image/png": "[encoded data removed]",
      "text/plain": [
       "<matplotlib.figure.Figure at 0x7f9886852d50>"
      ]
     },
     "metadata": {},
     "output_type": "display_data"
    }
   ],
   "source": [
    "# 訓練用データを100個表示\n",
    "for index in range(100):\n",
    "    plt.subplot(10, 10, index + 1)\n",
    "    plt.axis('off')\n",
    "    plt.imshow(train_set[0][index].reshape(28, 28), cmap=plt.cm.gray_r, interpolation='nearest')"
   ]
  },
  {
   "cell_type": "markdown",
   "metadata": {},
   "source": [
    "<html>\n",
    "\t<h3>データをTheanoの共有変数に格納</h3>\n",
    "\t<p>\n",
    "\t\tTheanoの共有変数を使用すると、GPUのメモリ領域に保存され、学習時（update）に高速に読み書きできます。\n",
    "\t\t共有変数の値を取り出すときに、get_value()を使用するのは、GPUにセットされたデータをCPUのメモリにコピー\n",
    "\t\tするためと考えられます。\n",
    "\t</p>\n",
    "\t<p>\n",
    "\t\tまた、GPUで使用するデータは必ずfloat型で格納しなければなりません。\n",
    "\t\tそのため、ラベルshared_yは、T.cast(shared_y, 'int32')でキャストして返しています。\n",
    "\t</p>\n",
    "\t<p>\n",
    "\t\tこれでdatasets変数に訓練用、検証用、テスト用のデータがセットされました。\n",
    "\t</p>\n",
    "</html>"
   ]
  },
  {
   "cell_type": "code",
   "execution_count": 7,
   "metadata": {
    "collapsed": true
   },
   "outputs": [],
   "source": [
    "# データセットをGPUの共有変数に格納\n",
    "def shared_dataset(data_xy, borrow=True):\n",
    "    data_x, data_y = data_xy\n",
    "\n",
    "    # 共有変数には必ずfloat型で格納\n",
    "    shared_x = theano.shared(\n",
    "        np.asarray(data_x, dtype=theano.config.floatX), borrow=borrow)\n",
    "    shared_y = theano.shared(\n",
    "        np.asarray(data_y, dtype=theano.config.floatX), borrow=borrow)\n",
    "\n",
    "    # ラベルはint型なのでキャストして返す\n",
    "    return shared_x, T.cast(shared_y, 'int32')\n",
    "\n",
    "test_set_x, test_set_y = shared_dataset(test_set)\n",
    "valid_set_x, valid_set_y = shared_dataset(valid_set)\n",
    "train_set_x, train_set_y = shared_dataset(train_set)\n",
    "\n",
    "datasets = [(train_set_x, train_set_y),\n",
    "        (valid_set_x, valid_set_y),\n",
    "        (test_set_x, test_set_y)]"
   ]
  },
  {
   "cell_type": "markdown",
   "metadata": {},
   "source": [
    "<html>\n",
    "\t<h2>多クラス分類</h2>\n",
    "\t<p>\n",
    "\t\tニューラルネットの入力$x_i$と出力$u_i$の関係は、重み$W_i$とバイアス$b_i$を使って以下の関係になります。\n",
    "$$\n",
    "\tu_i = \\sum_j W_{i,j} x_j + b_i\n",
    "$$\t\t\n",
    "\t</p>\n",
    "\t<p>\n",
    "\t\tこれを分かりやすく説明した図を再度、TensorFlowのMNIST for ML Beginnersから引用します。\n",
    "\t</p>\n",
    "\t<p>\n",
    "\t\t<img width=\"50%\" height=\"50%\" src=\"https://www.tensorflow.org/versions/r0.7/images/softmax-regression-scalargraph.png\"/>\n",
    "\t</p>\n",
    "\t<p>\n",
    "\t\tこの重みWとバイアスbをTheanoの共有変数でセットしているのが、以下の箇所です。\n",
    "\t\t<pre>\n",
    "        # 重み行列を初期化\n",
    "        self.W = theano.shared(value=np.zeros((n_in, n_out),\n",
    "                                              dtype=theano.config.floatX),\n",
    "                               name='W',\n",
    "                               borrow=True)\n",
    "\n",
    "        # バイアスベクトルを初期化\n",
    "        self.b = theano.shared(value=np.zeros((n_out,),\n",
    "                                              dtype=theano.config.floatX),\n",
    "                               name='b',\n",
    "                               borrow=True)\t\t\t\n",
    "\t\t</pre>\t\t\n",
    "\t</p>\n",
    "</html>"
   ]
  },
  {
   "cell_type": "markdown",
   "metadata": {},
   "source": [
    "<html>\n",
    "\t<h3>ソフトマック関数</h3>\n",
    "\t<p>\n",
    "\t\t多クラス分類の活性化関数として使用されるのが、ソフトマック関数（Softmax）で、出力層のクラスiに分類される確率は、以下の様に表されます。\n",
    "$$\n",
    "\ty_i = \\frac{exp(u_i)}{\\sum_j exp(u_j)}\n",
    "$$\t\t\n",
    "\t</p>\n",
    "\t<p>\n",
    "\t\t<img width=\"50%\" height=\"50%\" src=\"https://www.tensorflow.org/versions/r0.7/images/softmax-regression-vectorequation.png\"/>\n",
    "\t</p>\n",
    "\t<p>\n",
    "\t\tこの部分をTheanoのシンボルで表現している箇所が以下の部分です。\n",
    "\t\t<pre>\n",
    "        # 各サンプルが各クラスに分類される確率を計算するシンボル\n",
    "        # 全データを行列化してまとめて計算している\n",
    "        # 出力は(n_samples, n_out)の行列\n",
    "        self.p_y_given_x = T.nnet.softmax(T.dot(input, self.W) + self.b)\t\t\t\n",
    "\t\t</pre>\n",
    "\t</p>\n",
    "\t<p>\n",
    "\t\t人工知能に関する断創録の貴重なコメントがあります。\n",
    "\t\t<ul>\n",
    "\t\t\t<li>T.dot(self.W, input)+ self.bは、サンプルxを1つだけ与えたときの確率を計算している</li>\n",
    "\t\t\t<li>T.dot(input, self.W)+ self.bは、複数のサンプル（ミニバッチ単位）を行列化してinputに与え、それらのサンプルの確率をまとめて計算している</li>\n",
    "\t\t</ul>\n",
    "\t</p>\n",
    "\t<p>\n",
    "\t\t確率が求まったら最終的に一番高い確率が得られるクラスをy_predにセットします。\n",
    "$$\n",
    "\t\ty_{pred} = argmax(y)\n",
    "$$\t\t\n",
    "\t\tTheanoではT.argmax()にaxis=1を指定することでp_y_given_xの各行（サンプルに相当）において一番確率が高いインデックス（クラスに相当）がまとめて取得できるそうです。\n",
    "\t\t<pre>\n",
    "        # 確率が最大のクラスのインデックスを計算\n",
    "        # 出力は(n_samples,)のベクトル\n",
    "        self.y_pred = T.argmax(self.p_y_given_x, axis=1)\t\t\t\n",
    "\t\t</pre>\n",
    "\t</p>\t\n",
    "</html>"
   ]
  },
  {
   "cell_type": "markdown",
   "metadata": {},
   "source": [
    "<html>\n",
    "\t<h3>コスト関数</h3>\n",
    "\t<p>\n",
    "\t\t分類されたクラスkだけ１で、他は0のベクトルを$d_n$とすると、事後分布は、以下の様になります。\n",
    "$$\n",
    "\tp(d | x) = \\prod_{k=1}^K p(C_k | x)^{d_k}\n",
    "$$\n",
    "\t\t訓練データ${ (x_n, d_n)}(n=1,...,N)$に対するwの尤度は、以下の様になります。\n",
    "$$\n",
    "\tL(W) = \\prod_{n=1}^N p(d_n | x_n; W) = \\prod_{n=1}^N \\prod_{k=1}^K p(c_k|x_n)^{d_{nk}} = \\prod_{n=1}^N \\prod_{k=1}^K (y_k(x; W))^{d_{nk}}\n",
    "$$\t\t\n",
    "\t</p>\n",
    "\t<p>\n",
    "\t\t負の対数尤度を誤差関数とすると\n",
    "$$\n",
    "\tE(W) =  - \\sum_{n=1}^N \\sum_{k=1}^K d_{nk} log y_k(x_n; W)\n",
    "$$\t\t\n",
    "\t</p>\n",
    "\t<p>\n",
    "\t\t人工知能に関する断創録では、Sumの代わりに平均meanを使っていることに注意！\n",
    "\t\t<pre>\n",
    "        # 式通りに計算するとsumだがmeanの方がよい\n",
    "        return -T.mean(T.log(self.p_y_given_x)[T.arange(y.shape[0]), y])\t\t\t\n",
    "\t\t</pre>\n",
    "\t</p>\n",
    "</html>"
   ]
  },
  {
   "cell_type": "code",
   "execution_count": 8,
   "metadata": {
    "collapsed": true
   },
   "outputs": [],
   "source": [
    "class LogisticRegression(object):\n",
    "\n",
    "    def __init__(self, input, n_in, n_out):\n",
    "        \"\"\"ロジスティック回帰モデルの初期化\n",
    "        input: ミニバッチ単位のデータ行列（n_samples, n_in）\n",
    "        n_in : 入力の次元数\n",
    "        n_out: 出力の次元数\n",
    "        \"\"\"\n",
    "        # 重み行列を初期化\n",
    "        self.W = theano.shared(value=np.zeros((n_in, n_out),\n",
    "                                              dtype=theano.config.floatX),\n",
    "                               name='W',\n",
    "                               borrow=True)\n",
    "\n",
    "        # バイアスベクトルを初期化\n",
    "        self.b = theano.shared(value=np.zeros((n_out,),\n",
    "                                              dtype=theano.config.floatX),\n",
    "                               name='b',\n",
    "                               borrow=True)\n",
    "\n",
    "        # 各サンプルが各クラスに分類される確率を計算するシンボル\n",
    "        # 全データを行列化してまとめて計算している\n",
    "        # 出力は(n_samples, n_out)の行列\n",
    "        self.p_y_given_x = T.nnet.softmax(T.dot(input, self.W) + self.b)\n",
    "\n",
    "        # 確率が最大のクラスのインデックスを計算\n",
    "        # 出力は(n_samples,)のベクトル\n",
    "        self.y_pred = T.argmax(self.p_y_given_x, axis=1)\n",
    "\n",
    "        # ロジスティック回帰モデルのパラメータ\n",
    "        self.params = [self.W, self.b]\n",
    "\n",
    "        # モデルの入力値を保持\n",
    "        self.input = input\n",
    "        \n",
    "    def negative_log_likelihood(self, y):\n",
    "        \"\"\"誤差関数である負の対数尤度を計算するシンボルを返す\n",
    "        yにはinputに対応する正解クラスを渡す\n",
    "        \"\"\"\n",
    "        # 式通りに計算するとsumだがmeanの方がよい\n",
    "        return -T.mean(T.log(self.p_y_given_x)[T.arange(y.shape[0]), y])\n",
    "\n",
    "    def errors(self, y):\n",
    "        \"\"\"分類の誤差率を計算するシンボルを返す\n",
    "        yにはinputに対応する正解クラスを渡す\"\"\"\n",
    "        if y.ndim != self.y_pred.ndim:\n",
    "            raise TypeError('y should have the same shape as self.y_pred',\n",
    "                            ('y', y.type, 'y_pred', self.y_pred.type))\n",
    "\n",
    "        if y.dtype.startswith('int'):\n",
    "            return T.mean(T.neq(self.y_pred, y))\n",
    "        else:\n",
    "            raise NotImplementedError()"
   ]
  },
  {
   "cell_type": "markdown",
   "metadata": {},
   "source": [
    "<html>\n",
    "\t<h2>モデルの訓練</h2>\n",
    "\t<p>\n",
    "\t\tモデルの訓練には、ミニバッチ確率的勾配降下法（MSGD）を使用しています。\n",
    "\t\t確率的勾配降下法（SGD）はただ1つのサンプルで1回だけパラメータを更新するのに対し、\n",
    "\t\t少数のサンプルをひとまとめにしてその単位で重みを更新します。\n",
    "\t\tこのひとまとめにしたサンプル集合をミニバッチ（minbatch）と呼びます。\n",
    "\t</p>\n",
    "\t<p>\n",
    "\t\t何番目のミニバッチを使用するかを示すのがシンボルindexです。\n",
    "\t\tコードのfunction()のgivensで定義されている部分がミニバッチの設定箇所です。\n",
    "\t\t<pre>\n",
    "        givens={\n",
    "            x: train_set_x[index * batch_size: (index + 1) * batch_size],\n",
    "            y: train_set_y[index * batch_size: (index + 1) * batch_size]\n",
    "        }\t\t\t\n",
    "\t\t</pre>\n",
    "\t</p>\n",
    "\t<p>\n",
    "\t\t確率的勾配降下法で使用するコスト関数とその微分は、負の対数尤度を計算する\n",
    "\t\tnegative_log_likelihood関数とT.gradの箇所で計算しています。\n",
    "\t\t<pre>\n",
    "    # 誤差（コスト）を計算 => 最小化したい\n",
    "    cost = classifier.negative_log_likelihood(y)\n",
    "    # コスト関数のtheta = (W,b)の微分を計算\n",
    "    g_W = T.grad(cost=cost, wrt=classifier.W)\n",
    "    g_b = T.grad(cost=cost, wrt=classifier.b)\t\t\t\n",
    "\t\t</pre>\n",
    "\t</p>\n",
    "\t<p>\n",
    "\t\tパラメータの更新式は、Wとbの2個をタプルとして指定します。\n",
    "\t\t<pre>\n",
    "    # パラメータ更新式\n",
    "    updates = [(classifier.W, classifier.W - learning_rate * g_W),\n",
    "               (classifier.b,  classifier.b - learning_rate * g_b)]\t\t\t\n",
    "\t\t</pre>\n",
    "\t</p>\n",
    "\t<p>\n",
    "\t\t関数の定義は以下の通りです。\n",
    "\t\t<ul>\n",
    "\t\t\t<li>inputs：何番目のミニバッチかを示すインデックスをindexで与え</li>\n",
    "\t\t\t<li>outputs：負の対数尤度を計算するcostを渡す</li>\n",
    "\t\t\t<li>updates：update式を渡す</li>\n",
    "\t\t\t<li>givens：関数を実行する際にシンボルを置き替えるオプションで、ここではじめてxとyに値をセットしています</li>\n",
    "\t\t</ul>\n",
    "\t</p>\n",
    "</html>"
   ]
  },
  {
   "cell_type": "markdown",
   "metadata": {},
   "source": [
    "<html>\n",
    "\t<h3>モデルの評価</h3>\n",
    "\t<p>\n",
    "\t\tモデルの当てはまりの良さをエラー率で評価しています。LogisticRegressionのerrors関数で計算します。\n",
    "\t\t<pre>\n",
    "    def errors(self, y):\n",
    "        \"\"\"分類の誤差率を計算するシンボルを返す\n",
    "        yにはinputに対応する正解クラスを渡す\"\"\"\n",
    "        return T.mean(T.neq(self.y_pred, y))\n",
    "\t\t</pre>\n",
    "\t\tT.neq(self.y_pred, y)で予測クラスと正解クラスが異なる要素の数を求め、\n",
    "\t\tその平均を取ることでエラー率を計算しています。\n",
    "\t</p>\n",
    "</html>"
   ]
  },
  {
   "cell_type": "markdown",
   "metadata": {},
   "source": [
    "<html>\n",
    "\t<h3>Early-Stoppingによる収束判定</h3>\n",
    "\t<p>\n",
    "\t\t検証用データvalid_setのエラー率と訓練用データtrain_setのエラー率から適合（overfitting）を防ぐために、\n",
    "\t\t検証用データのエラー率が増加した時点で学習を打ち切る早期終了（Early-Stopping）というテクニックを使用します。\n",
    "\t</p>\n",
    "\t<p>\n",
    "\t\t人工知能に関する断創録に解説されているEarly-Stoppingの説明を引用します。\n",
    "\t\t<ul>\n",
    "\t\t\t<li>モデルの訓練は訓練データのミニバッチ単位で行う。</li>\n",
    "\t\t\t<li>エポック epoch は訓練データのミニバッチを使い切ったら+1される。\n",
    "\t\t\t\t訓練データを一通り使いきっても収束していなければまた最初のミニバッチに戻って同じデータを繰り返し使ってパラメータ更新する。</li>\n",
    "\t\t\t<li>最初の while ループは、最大n_epochs 回エポックを繰り返されたら更新を終えることを意味する。\n",
    "\t\t\t\tこれによりたとえ収束しなくてもプログラムはいつかは終わることが保証される。</li>\n",
    "\t\t\t<li>iterはこれまで訓練に使用したミニバッチの数が入る。つまり、パラメータ更新回数を意味する。</li>\n",
    "\t\t\t<li>パラメータ更新回数がpatienceを超えたらもうこれ以上更新してもモデルは改善しないと判断されてループを抜ける。\n",
    "\t\t\t\t逆に言うと、patienceの値が上がるとまだまだパラメータ更新によるモデル改善の余地があると判断されてことになる。</li>\n",
    "\t\t\t<li>patienceを上げるかどうかの判断はバリデーションセットを用いて決められる。</li>\n",
    "\t\t\t<li>validation_frequency回更新されるたびにモデルの検証が行われる。</li>\n",
    "\t\t\t<li>バリデーションセットを用いて平均エラー率が計算され、\n",
    "\t\t\t\tこの平均エラー率がこれまでの最良の平均エラー率より十分な程度下がっていればまだまだモデル改善の余地ありと判断してpatienceを引き上げる。\n",
    "\t\t\t\t十分かどうかはimprovement_thresholdで調整できる。</li>\n",
    "\t\t\t<li>この検証の際にテストセットを用いたモデルのエラー率の評価も合わせて行う。</li>\n",
    "\t\t</ul>\n",
    "\t</p>\n",
    "</html>"
   ]
  },
  {
   "cell_type": "code",
   "execution_count": 9,
   "metadata": {
    "collapsed": true
   },
   "outputs": [],
   "source": [
    "def sgd_optimization_mnist(learning_rate=0.13, n_epochs=100,\n",
    "                           dataset='mnist.pkl.gz',\n",
    "                           batch_size=60):\n",
    "    # 先にセットした学習データを利用\n",
    "    # datasets = load_data(dataset)\n",
    "\n",
    "    train_set_x, train_set_y = datasets[0]\n",
    "    valid_set_x, valid_set_y = datasets[1]\n",
    "    test_set_x, test_set_y = datasets[2]\n",
    "\n",
    "    # ミニバッチの数\n",
    "    n_train_batches = train_set_x.get_value(borrow=True).shape[0] // batch_size\n",
    "    n_valid_batches = valid_set_x.get_value(borrow=True).shape[0] // batch_size\n",
    "    n_test_batches = test_set_x.get_value(borrow=True).shape[0] // batch_size\n",
    "\n",
    "    print('... building the model')\n",
    "\n",
    "    # シンボルの割り当て\n",
    "    # ミニバッチのインデックスを表すシンボル    \n",
    "    index = T.lscalar()  # index to a [mini]batch\n",
    "    \n",
    "    # ミニバッチの学習データとラベルを表すシンボル\n",
    "    x = T.matrix('x')  # data, presented as rasterized images\n",
    "    y = T.ivector('y')  # labels, presented as 1D vector of [int] labels\n",
    "\n",
    "    # MNISTの手書き数字を分類する多クラス分類モデル\n",
    "    # 入力は28ピクセルx28ピクセルの画像、出力は0から9のラベル\n",
    "    # 入力はシンボルxを割り当てておいてあとで具体的なデータに置換する\n",
    "    classifier = LogisticRegression(input=x, n_in=28 * 28, n_out=10)\n",
    "\n",
    "    # 誤差（コスト）を計算 => 最小化したい\n",
    "    cost = classifier.negative_log_likelihood(y)\n",
    "\n",
    "    # index番目のテスト用ミニバッチを入力してエラー率を返す関数を定義\n",
    "    test_model = theano.function(\n",
    "        inputs=[index],\n",
    "        outputs=classifier.errors(y),\n",
    "        givens={    # ここで初めてシンボル x, y を具体的な値で置き換える\n",
    "            x: test_set_x[index * batch_size: (index + 1) * batch_size],\n",
    "            y: test_set_y[index * batch_size: (index + 1) * batch_size]\n",
    "        }\n",
    "    )\n",
    "    \n",
    "    # index番目のバリデーション用ミニバッチを入力してエラー率を返す関数を定義\n",
    "    validate_model = theano.function(\n",
    "        inputs=[index],\n",
    "        outputs=classifier.errors(y),\n",
    "        givens={\n",
    "            x: valid_set_x[index * batch_size: (index + 1) * batch_size],\n",
    "            y: valid_set_y[index * batch_size: (index + 1) * batch_size]\n",
    "        }\n",
    "    )\n",
    "\n",
    "    # コスト関数のtheta = (W,b)の微分を計算\n",
    "    g_W = T.grad(cost=cost, wrt=classifier.W)\n",
    "    g_b = T.grad(cost=cost, wrt=classifier.b)\n",
    "\n",
    "    # パラメータ更新式\n",
    "    updates = [(classifier.W, classifier.W - learning_rate * g_W),\n",
    "                        (classifier.b,  classifier.b - learning_rate * g_b)]\n",
    "\n",
    "    # index番目の訓練バッチを入力し、パラメータを更新する関数を定義\n",
    "    # 戻り値としてコストが返される\n",
    "    # この関数の呼び出し時にindexに具体的な値が初めて渡される\n",
    "    train_model = theano.function(\n",
    "        inputs=[index],\n",
    "        outputs=cost,\n",
    "        updates=updates,\n",
    "        givens={\n",
    "            x: train_set_x[index * batch_size: (index + 1) * batch_size],\n",
    "            y: train_set_y[index * batch_size: (index + 1) * batch_size]\n",
    "        }\n",
    "    )\n",
    "\n",
    "    print('... training the model')\n",
    "    \n",
    "    # eary-stoppingのパラメータ\n",
    "    # patience = 5000  \n",
    "    patience = 500\n",
    "    patience_increase = 2 \n",
    "    improvement_threshold = 0.995 \n",
    "    validation_frequency = min(n_train_batches, patience // 2)\n",
    "\n",
    "    best_validation_loss = np.inf\n",
    "    test_score = 0.\n",
    "    start_time = timeit.default_timer()\n",
    "\n",
    "    done_looping = False\n",
    "    epoch = 0\n",
    "    while (epoch < n_epochs) and (not done_looping):\n",
    "        epoch = epoch + 1\n",
    "        for minibatch_index in range(n_train_batches):\n",
    "            # minibatch_index番目の訓練データのミニバッチを用いてパラメータ更新\n",
    "            minibatch_avg_cost = train_model(minibatch_index)\n",
    "            \n",
    "            # validation_frequency回の更新ごとにバリデーションセットによるモデル検証が入る\n",
    "            iter = (epoch - 1) * n_train_batches + minibatch_index\n",
    "\n",
    "            if (iter + 1) % validation_frequency == 0:\n",
    "                # バリデーションセットの平均エラー率を計算\n",
    "                validation_losses = [validate_model(i)\n",
    "                                     for i in range(n_valid_batches)]\n",
    "                this_validation_loss = np.mean(validation_losses)\n",
    "\n",
    "                print(\n",
    "                    'epoch %i, minibatch %i/%i, validation error %f %%' %\n",
    "                    (\n",
    "                        epoch,\n",
    "                        minibatch_index + 1,\n",
    "                        n_train_batches,\n",
    "                        this_validation_loss * 100.\n",
    "                    )\n",
    "                )\n",
    "\n",
    "                # エラー率が十分改善したならまだモデル改善の余地があるため\n",
    "                # patienceを上げてより多くループを回せるようにする\n",
    "                if this_validation_loss < best_validation_loss:\n",
    "                    #improve patience if loss improvement is good enough\n",
    "                    if this_validation_loss < best_validation_loss *  \\\n",
    "                       improvement_threshold:\n",
    "                        patience = max(patience, iter * patience_increase)\n",
    "\n",
    "                    best_validation_loss = this_validation_loss\n",
    "                    \n",
    "                    # テストセットを用いたエラー率も求めておく\n",
    "                    test_losses = [test_model(i)\n",
    "                                   for i in range(n_test_batches)]\n",
    "                    test_score = np.mean(test_losses)\n",
    "\n",
    "                    print(\n",
    "                        (\n",
    "                            '     epoch %i, minibatch %i/%i, test error of'\n",
    "                            ' best model %f %%'\n",
    "                        ) %\n",
    "                        (\n",
    "                            epoch,\n",
    "                            minibatch_index + 1,\n",
    "                            n_train_batches,\n",
    "                            test_score * 100.\n",
    "                        )\n",
    "                    )\n",
    "\n",
    "                    # save the best model\n",
    "                    with open('data/best_model.pkl', 'wb') as f:\n",
    "                        pickle.dump(classifier, f)\n",
    "                        \n",
    "            # patienceを超えたらループを終了\n",
    "            if patience <= iter:\n",
    "                done_looping = True\n",
    "                break\n",
    "\n",
    "    end_time = timeit.default_timer()\n",
    "    print(\n",
    "        (\n",
    "            'Optimization complete with best validation score of %f %%,'\n",
    "            'with test performance %f %%'\n",
    "        )\n",
    "        % (best_validation_loss * 100., test_score * 100.)\n",
    "    )\n",
    "    print('The code run for %d epochs, with %f epochs/sec' % (\n",
    "        epoch, 1. * epoch / (end_time - start_time)))\n",
    "    print('Ran for %.1fs' % ((end_time - start_time)))"
   ]
  },
  {
   "cell_type": "code",
   "execution_count": 10,
   "metadata": {
    "collapsed": false
   },
   "outputs": [
    {
     "name": "stdout",
     "output_type": "stream",
     "text": [
      "... building the model\n",
      "... training the model\n",
      "epoch 1, minibatch 83/83, validation error 16.458333 %\n",
      "     epoch 1, minibatch 83/83, test error of best model 15.833333 %\n",
      "epoch 2, minibatch 83/83, validation error 14.375000 %\n",
      "     epoch 2, minibatch 83/83, test error of best model 12.916667 %\n",
      "epoch 3, minibatch 83/83, validation error 13.333333 %\n",
      "     epoch 3, minibatch 83/83, test error of best model 11.666667 %\n",
      "epoch 4, minibatch 83/83, validation error 13.541667 %\n",
      "epoch 5, minibatch 83/83, validation error 13.750000 %\n",
      "epoch 6, minibatch 83/83, validation error 13.125000 %\n",
      "     epoch 6, minibatch 83/83, test error of best model 10.833333 %\n",
      "epoch 7, minibatch 83/83, validation error 12.916667 %\n",
      "     epoch 7, minibatch 83/83, test error of best model 10.208333 %\n",
      "epoch 8, minibatch 83/83, validation error 13.125000 %\n",
      "epoch 9, minibatch 83/83, validation error 13.125000 %\n",
      "epoch 10, minibatch 83/83, validation error 12.916667 %\n",
      "epoch 11, minibatch 83/83, validation error 12.916667 %\n",
      "epoch 12, minibatch 83/83, validation error 12.291667 %\n",
      "     epoch 12, minibatch 83/83, test error of best model 8.750000 %\n",
      "epoch 13, minibatch 83/83, validation error 12.291667 %\n",
      "epoch 14, minibatch 83/83, validation error 12.500000 %\n",
      "epoch 15, minibatch 83/83, validation error 12.500000 %\n",
      "epoch 16, minibatch 83/83, validation error 12.500000 %\n",
      "epoch 17, minibatch 83/83, validation error 12.500000 %\n",
      "epoch 18, minibatch 83/83, validation error 12.500000 %\n",
      "epoch 19, minibatch 83/83, validation error 12.708333 %\n",
      "epoch 20, minibatch 83/83, validation error 12.708333 %\n",
      "epoch 21, minibatch 83/83, validation error 12.708333 %\n",
      "epoch 22, minibatch 83/83, validation error 12.708333 %\n",
      "epoch 23, minibatch 83/83, validation error 13.125000 %\n",
      "Optimization complete with best validation score of 12.291667 %,with test performance 8.750000 %\n",
      "The code run for 24 epochs, with 28.264020 epochs/sec\n",
      "Ran for 0.8s\n"
     ]
    }
   ],
   "source": [
    "sgd_optimization_mnist()"
   ]
  },
  {
   "cell_type": "markdown",
   "metadata": {},
   "source": [
    "<html>\n",
    "\t<h2>学習結果を使った予測</h2>\n",
    "\t<p>\n",
    "\t\tテスト用データtest_setの最初の25個に対して認識を行い、予測結果と画像を合わせて表示してみます。\n",
    "\t</p>\n",
    "\t<p>\n",
    "\t\t1/10の学習データでもそこそこ良い結果が得られています。\n",
    "\t</p>\n",
    "</html>"
   ]
  },
  {
   "cell_type": "code",
   "execution_count": 11,
   "metadata": {
    "collapsed": false
   },
   "outputs": [
    {
     "name": "stdout",
     "output_type": "stream",
     "text": [
      "Predicted values for the first 10 examples in test set:\n",
      "['(7, 0.988)', '(2, 0.733)', '(1, 0.951)', '(0, 0.995)', '(4, 0.936)', '(1, 0.979)', '(4, 0.957)', '(9, 0.912)', '(6, 0.912)', '(9, 0.844)', '(0, 0.904)', '(6, 0.668)', '(9, 0.917)', '(0, 0.983)', '(1, 0.991)', '(5, 0.832)', '(9, 0.790)', '(7, 0.986)', '(3, 0.659)', '(4, 0.979)', '(9, 0.775)', '(6, 0.952)', '(6, 0.801)', '(5, 0.955)', '(4, 0.862)']\n"
     ]
    }
   ],
   "source": [
    "# 学習結果をテスト用データで確かめる\n",
    "classifier = pickle.load(open('data/best_model.pkl'))\n",
    "test_set_x, test_set_y = datasets[2]\n",
    "test_set_x = test_set_x.get_value()\n",
    "\n",
    "# compile a predictor function\n",
    "predict_model = theano.function(\n",
    "        inputs=[classifier.input],\n",
    "        outputs=classifier.p_y_given_x\n",
    "   )\n",
    "    \n",
    "predicted_values = predict_model(test_set_x[:25])\n",
    "print(\"Predicted values for the first 10 examples in test set:\")\n",
    "print([\"(%d, %.3f)\" % (np.argmax(value), max(value)) for  value in predicted_values])"
   ]
  },
  {
   "cell_type": "code",
   "execution_count": 12,
   "metadata": {
    "collapsed": false
   },
   "outputs": [
    {
     "data": {
      "image/png": "[encoded data removed]",
      "text/plain": [
       "<matplotlib.figure.Figure at 0x7f987910c110>"
      ]
     },
     "metadata": {},
     "output_type": "display_data"
    }
   ],
   "source": [
    "# 画像と認識結果を一緒に表示\n",
    "for index in range(25):\n",
    "    plt.subplot(5, 5, index + 1)\n",
    "    plt.axis('off')\n",
    "    plt.imshow(test_set_x[index].reshape(28, 28), cmap=plt.cm.gray_r, interpolation='nearest')\n",
    "    plt.title('%i' % predicted_values[index].argmax())"
   ]
  },
  {
   "cell_type": "markdown",
   "metadata": {},
   "source": [
    "<html>\n",
    "\t<h3>重みWのパターン</h3>\n",
    "\t<p>\n",
    "\t\t最後に各クラスを識別した重みWがどのように形に求まったのかみてみましょう。\n",
    "\t</p>\n",
    "\t<p>\n",
    "\t\t赤い部分で正で、葵部分が負の値です。各数字の特徴的な部分に赤の部分が見られることが分かります。\n",
    "\t</p>\n",
    "</html>"
   ]
  },
  {
   "cell_type": "code",
   "execution_count": 13,
   "metadata": {
    "collapsed": false
   },
   "outputs": [
    {
     "data": {
      "image/png": "[encoded data removed]",
      "text/plain": [
       "<matplotlib.figure.Figure at 0x7f988146c650>"
      ]
     },
     "metadata": {},
     "output_type": "display_data"
    }
   ],
   "source": [
    "# Wにどのような値がセットされたか表示する\n",
    "w = classifier.W.get_value()\n",
    "for index in range(10):\n",
    "    plt.subplot(2, 5, index + 1)\n",
    "    plt.axis('off')\n",
    "    plt.imshow(w[:, index].reshape(28, 28), cmap=plt.cm. spectral, interpolation='nearest')\n",
    "    plt.title('%i' % index)"
   ]
  },
  {
   "cell_type": "code",
   "execution_count": null,
   "metadata": {
    "collapsed": true
   },
   "outputs": [],
   "source": []
  }
 ],
 "metadata": {
  "kernelspec": {
   "display_name": "Python 2",
   "language": "python",
   "name": "python2"
  },
  "language_info": {
   "codemirror_mode": {
    "name": "ipython",
    "version": 2
   },
   "file_extension": ".py",
   "mimetype": "text/x-python",
   "name": "python",
   "nbconvert_exporter": "python",
   "pygments_lexer": "ipython2",
   "version": "2.7.13"
  }
 },
 "nbformat": 4,
 "nbformat_minor": 0
}
