{
 "cells": [
  {
   "cell_type": "code",
   "execution_count": 1,
   "metadata": {
    "collapsed": true
   },
   "outputs": [],
   "source": [
    "# python用のパッケージ\n",
    "import pandas as pd\n",
    "import numpy as np\n",
    "from IPython.display import Image\n",
    "import matplotlib.pyplot as plt\n",
    "%matplotlib inline"
   ]
  },
  {
   "cell_type": "markdown",
   "metadata": {},
   "source": [
    "## Chapter2\n",
    "２章では、この本で重要な役割を持つ、String Diagramについて説明されています。\n",
    "\n",
    "String Diagramをきれいに書くために、GraphVizのdot記述を練習します。\n",
    "\n",
    "nベクトルをニューラルネットワークに入力してmベクトルを出力として得るString Diagramは、以下のように作成します。"
   ]
  },
  {
   "cell_type": "code",
   "execution_count": 2,
   "metadata": {
    "collapsed": false
   },
   "outputs": [
    {
     "name": "stdout",
     "output_type": "stream",
     "text": [
      "Overwriting models/ex_1.dot\n"
     ]
    }
   ],
   "source": [
    "%%writefile models/ex_1.dot\n",
    "digraph ex_1 {\n",
    "    graph [rankdir=LR];\n",
    "    // node\n",
    "    start [label=\"\", shape=none];\n",
    "    end [label=\"\", shape=none];\n",
    "    NN [label=\"Newral Network\\nLayer\", shape=\"box\", style=\"rounded,filled\"];\n",
    "    // edge\n",
    "    start -> NN [label=\"n\", arrowhead=none];\n",
    "    NN -> end [label=\"m\", arrowhead=none];\n",
    "}"
   ]
  },
  {
   "cell_type": "code",
   "execution_count": 3,
   "metadata": {
    "collapsed": false
   },
   "outputs": [],
   "source": [
    "%%bash\n",
    "dot -Tpng -Gdpi=200 models/ex_1.dot > images/ex_1.png"
   ]
  },
  {
   "cell_type": "code",
   "execution_count": 4,
   "metadata": {
    "collapsed": false
   },
   "outputs": [
    {
     "data": {
      "image/png": "[encoded data removed]",
      "text/plain": [
       "<IPython.core.display.Image object>"
      ]
     },
     "execution_count": 4,
     "metadata": {},
     "output_type": "execute_result"
    }
   ],
   "source": [
    "Image(\"images/ex_1.png\")"
   ]
  },
  {
   "cell_type": "code",
   "execution_count": 5,
   "metadata": {
    "collapsed": false
   },
   "outputs": [
    {
     "name": "stdout",
     "output_type": "stream",
     "text": [
      "Overwriting models/ex_2.dot\n"
     ]
    }
   ],
   "source": [
    "%%writefile models/ex_2.dot\n",
    "digraph ex_2 {\n",
    "    graph [rankdir=LR];\n",
    "    // node\n",
    "    start [label=\"\", shape=none];\n",
    "    end [label=\"\", shape=none];\n",
    "    NN [label=\"Newral Network\\nLayer\", shape=\"box\", style=\"rounded,filled\"];\n",
    "    // edge\n",
    "    start -> NN [label=\"R^n\", texlbl=\"$R^n$\", lblstyle=\"auto\", arrowhead=none];\n",
    "    NN -> end [label=\"R^m\", texlbl=\"$R^m$\", lblstyle=\"auto\", arrowhead=none];\n",
    "}"
   ]
  },
  {
   "cell_type": "code",
   "execution_count": 6,
   "metadata": {
    "collapsed": true
   },
   "outputs": [],
   "source": [
    "%%bash\n",
    "dot -Tpng -Gdpi=200 models/ex_2.dot > images/ex_2.png"
   ]
  },
  {
   "cell_type": "code",
   "execution_count": 7,
   "metadata": {
    "collapsed": false
   },
   "outputs": [
    {
     "data": {
      "image/png": "[encoded data removed]",
      "text/plain": [
       "<IPython.core.display.Image object>"
      ]
     },
     "execution_count": 7,
     "metadata": {},
     "output_type": "execute_result"
    }
   ],
   "source": [
    "Image(\"images/ex_2.png\")"
   ]
  },
  {
   "cell_type": "code",
   "execution_count": 8,
   "metadata": {
    "collapsed": false
   },
   "outputs": [
    {
     "name": "stdout",
     "output_type": "stream",
     "text": [
      "Overwriting models/ex_3.dot\n"
     ]
    }
   ],
   "source": [
    "%%writefile models/ex_3.dot\n",
    "digraph ex_3 {\n",
    "    graph [rankdir=LR];\n",
    "    // グラフ名はcluster_で始める\n",
    "    subgraph cluster_0 {\n",
    "        label = \"Newral Network Layer\";\n",
    "        style= \"rounded\"\n",
    "        \n",
    "        WRnm [label=\"W:R^nXm\", shape=\"box\", style=\"rounded,filled\"];\n",
    "        ReLU [ label=\"ReLU\", shape=\"box\", style=\"rounded,filled\"];\n",
    "        \n",
    "        WRnm -> ReLU  [label=\"R^m\", lblstyle=\"auto\", arrowhead=none];\n",
    "        \n",
    "    };\n",
    "\n",
    "    // node\n",
    "    start [label=\"\", shape=none];\n",
    "    end [label=\"\", shape=none];   \n",
    "\n",
    "    // edge\n",
    "    start -> WRnm [label=\"R^n\", texlbl=\"$R^n$\", lblstyle=\"auto\", arrowhead=none];\n",
    "    ReLU -> end [label=\"R^m\", texlbl=\"$R^m$\", lblstyle=\"auto\", arrowhead=none];\n",
    "}"
   ]
  },
  {
   "cell_type": "code",
   "execution_count": 9,
   "metadata": {
    "collapsed": false
   },
   "outputs": [],
   "source": [
    "%%bash\n",
    "dot -Tpng -Gdpi=200 models/ex_3.dot > images/ex_3.png"
   ]
  },
  {
   "cell_type": "code",
   "execution_count": 10,
   "metadata": {
    "collapsed": false
   },
   "outputs": [
    {
     "data": {
      "image/png": "[encoded data removed]",
      "text/plain": [
       "<IPython.core.display.Image object>"
      ]
     },
     "execution_count": 10,
     "metadata": {},
     "output_type": "execute_result"
    }
   ],
   "source": [
    "Image(\"images/ex_3.png\")"
   ]
  },
  {
   "cell_type": "code",
   "execution_count": 11,
   "metadata": {
    "collapsed": false
   },
   "outputs": [
    {
     "name": "stdout",
     "output_type": "stream",
     "text": [
      "Overwriting models/ex_4.dot\n"
     ]
    }
   ],
   "source": [
    "%%writefile models/ex_4.dot\n",
    "digraph ex_4 {\n",
    "    graph [rankdir=LR];\n",
    "    // グラフ名はcluster_で始める\n",
    "    subgraph cluster_0 {\n",
    "        label = \"Recurrent Neural Network\";\n",
    "        style= \"rounded\";\n",
    "        \n",
    "        Layer1 [shape=\"box\", style=\"rounded,filled\"];\n",
    "        Layer2 [shape=\"box\", style=\"rounded,filled\"];\n",
    "        \n",
    "        Layer1 -> Layer2  [label=\"y_1:R^r\", lblstyle=\"auto\", arrowhead=none];\n",
    "        Layer1 -> Layer1 [label=\"y_1:R^r\", lblstyle=\"auto\", arrowhead=none];\n",
    "        Layer2 -> Layer2 [label=\"y_2:R^s\", lblstyle=\"auto\", arrowhead=none];\n",
    "        \n",
    "    };\n",
    "\n",
    "    // node\n",
    "    start [label=\"\", shape=none];\n",
    "    end [label=\"\", shape=none];   \n",
    "\n",
    "    // edge\n",
    "    start -> Layer1 [label=\"x_1:R^q\", lblstyle=\"auto\", arrowhead=none];\n",
    "    Layer2 -> end [label=\"y_2:R^s\", lblstyle=\"auto\", arrowhead=none];\n",
    "}"
   ]
  },
  {
   "cell_type": "code",
   "execution_count": 12,
   "metadata": {
    "collapsed": false
   },
   "outputs": [],
   "source": [
    "%%bash\n",
    "dot -Tpng -Gdpi=200 models/ex_4.dot > images/ex_4.png"
   ]
  },
  {
   "cell_type": "code",
   "execution_count": 13,
   "metadata": {
    "collapsed": false
   },
   "outputs": [
    {
     "data": {
      "image/png": "[encoded data removed]",
      "text/plain": [
       "<IPython.core.display.Image object>"
      ]
     },
     "execution_count": 13,
     "metadata": {},
     "output_type": "execute_result"
    }
   ],
   "source": [
    "Image(\"images/ex_4.png\")"
   ]
  },
  {
   "cell_type": "code",
   "execution_count": 1,
   "metadata": {
    "collapsed": false
   },
   "outputs": [
    {
     "name": "stdout",
     "output_type": "stream",
     "text": [
      "Overwriting models/ex_5.dot\n"
     ]
    }
   ],
   "source": [
    "%%writefile models/ex_5.dot\n",
    "digraph ex_5 {\n",
    "    graph [rankdir=LR];\n",
    "    // グラフ名はcluster_で始める\n",
    "    // node\n",
    "    env_get_state [label=\"env.get_state()\", shape=\"box\", style=\"rounded,filled\"];\n",
    "    one_hot_encode [label=\"One-Hot\\nEncode\", shape=\"box\", style=\"rounded,filled\"];\n",
    "        \n",
    "    subgraph cluster_1 {\n",
    "        label = \"Layer1\";\n",
    "        style= \"rounded\";\n",
    "        \n",
    "        theta1 [label=\"θ_1:10x100\", shape=\"box\", style=\"rounded,filled\"];\n",
    "        ReLU1 [label=\"ReLU\", shape=\"box\", style=\"rounded,filled\"];\n",
    "        \n",
    "        theta1 -> ReLU1 [arrowhead=none];\n",
    "    };\n",
    "\n",
    "    env_get_state -> one_hot_encode [label=\"N\", lblstyle=\"auto\", arrowhead=none];\n",
    "    one_hot_encode -> theta1 [label=\"R^10\", lblstyle=\"auto\", arrowhead=none];\n",
    "\n",
    "    sample_action [label=\"Sample Action\", shape=\"box\", style=\"rounded,filled\"];\n",
    "    softmax [label=\"Softmax\", shape=\"box\", style=\"rounded,filled\"];\n",
    "\n",
    "    subgraph cluster_2 {\n",
    "        label = \"Layer2\";\n",
    "        style= \"rounded\";\n",
    "        \n",
    "        ReLU2 [label=\"ReLU\", shape=\"box\", style=\"rounded,filled\"];\n",
    "        theta2 [label=\"θ_2:100x10\", shape=\"box\", style=\"rounded,filled\"];\n",
    "        \n",
    "        ReLU2 -> theta2  [arrowhead=none];        \n",
    "    };\n",
    "    \n",
    "    ReLU1 -> theta2  [arrowhead=none, topath=\"bend left\"]; \n",
    "    \n",
    "    sample_action -> softmax [label=\"P^10\", lblstyle=\"auto\", arrowhead=none];\n",
    "    softmax -> ReLU2  [label=\"R^10\", lblstyle=\"auto\", arrowhead=none];\n",
    "    \n",
    "    // node\n",
    "    env_choose_arm [label=\"env.choose_arm()\", shape=\"box\", style=\"rounded,filled\"];\n",
    "    loss_function [label=\"Loss Function\", shape=\"box\", style=\"rounded,filled\"];\n",
    "    Optimizer [shape=\"box\", style=\"rounded,filled\"];\n",
    "    \n",
    "    env_choose_arm -> loss_function [label=\"Reward:N\", lblstyle=\"auto\", arrowhead=none];\n",
    "    loss_function -> Optimizer [arrowhead=none];\n",
    "    \n",
    "    sample_action -> env_choose_arm [label=\"N\", lblstyle=\"auto\", arrowhead=none];\n",
    "\n",
    "    newrank=true;\n",
    "    {rank=same; ReLU1, theta2}\n",
    "    {rank=same; env_get_state, sample_action, env_choose_arm}\n",
    "    {rank=same; one_hot_encode, softmax, loss_function}\n",
    "}"
   ]
  },
  {
   "cell_type": "code",
   "execution_count": 2,
   "metadata": {
    "collapsed": false
   },
   "outputs": [],
   "source": [
    "%%bash\n",
    "dot -Tpng -Gdpi=200 models/ex_5.dot > images/ex_5.png"
   ]
  },
  {
   "cell_type": "code",
   "execution_count": 3,
   "metadata": {
    "collapsed": false
   },
   "outputs": [
    {
     "ename": "NameError",
     "evalue": "name 'Image' is not defined",
     "output_type": "error",
     "traceback": [
      "\u001b[0;31m\u001b[0m",
      "\u001b[0;31mNameError\u001b[0mTraceback (most recent call last)",
      "\u001b[0;32m<ipython-input-3-ce1c1c3daab7>\u001b[0m in \u001b[0;36m<module>\u001b[0;34m()\u001b[0m\n\u001b[0;32m----> 1\u001b[0;31m \u001b[0mImage\u001b[0m\u001b[0;34m(\u001b[0m\u001b[0;34m\"images/ex_5.png\"\u001b[0m\u001b[0;34m)\u001b[0m\u001b[0;34m\u001b[0m\u001b[0m\n\u001b[0m",
      "\u001b[0;31mNameError\u001b[0m: name 'Image' is not defined"
     ]
    }
   ],
   "source": [
    "Image(\"images/ex_5.png\")"
   ]
  },
  {
   "cell_type": "markdown",
   "metadata": {},
   "source": [
    "### dot2tex\n",
    "dot2texで数式を表示してみたが、roundedやfillのスタイルがきかないため、使わないことにした。"
   ]
  },
  {
   "cell_type": "code",
   "execution_count": 17,
   "metadata": {
    "collapsed": false
   },
   "outputs": [
    {
     "name": "stdout",
     "output_type": "stream",
     "text": [
      "Overwriting models/ex_2a.dot\n"
     ]
    }
   ],
   "source": [
    "%%writefile models/ex_2a.dot\n",
    "digraph ex_2 {\n",
    "    graph [rankdir=LR];\n",
    "    // node\n",
    "    start [label=\"\", shape=none];\n",
    "    end [label=\"\", shape=none];\n",
    "    NN [label=\"Newral Network\\nLayer\", shape=\"box\"];\n",
    "    // edge\n",
    "    start -> NN [label=\"R^n\", texlbl=\"$R^n$\", lblstyle=\"auto\", arrowhead=none];\n",
    "    NN -> end [label=\"R^m\", texlbl=\"$R^m$\", lblstyle=\"auto\", arrowhead=none];\n",
    "}"
   ]
  },
  {
   "cell_type": "code",
   "execution_count": 18,
   "metadata": {
    "collapsed": false
   },
   "outputs": [
    {
     "name": "stdout",
     "output_type": "stream",
     "text": [
      "This is pdfTeX, Version 3.1415926-2.5-1.40.14 (TeX Live 2013/Debian)\n",
      " restricted \\write18 enabled.\n",
      "entering extended mode\n",
      "(./models/ex_2a.tex\n",
      "LaTeX2e <2011/06/27>\n",
      "Babel <3.9h> and hyphenation patterns for 2 languages loaded.\n",
      "(/usr/share/texlive/texmf-dist/tex/latex/base/article.cls\n",
      "Document Class: article 2007/10/19 v1.4h Standard LaTeX document class\n",
      "(/usr/share/texlive/texmf-dist/tex/latex/base/size10.clo))\n",
      "(/usr/share/texmf/tex/latex/xcolor/xcolor.sty\n",
      "(/usr/share/texlive/texmf-dist/tex/latex/latexconfig/color.cfg)\n",
      "(/usr/share/texlive/texmf-dist/tex/latex/graphics/dvips.def)\n",
      "(/usr/share/texmf/tex/latex/xcolor/x11nam.def))\n",
      "(/usr/share/texlive/texmf-dist/tex/latex/base/inputenc.sty\n",
      "(/usr/share/texlive/texmf-dist/tex/latex/base/utf8.def\n",
      "(/usr/share/texlive/texmf-dist/tex/latex/base/t1enc.dfu)\n",
      "(/usr/share/texlive/texmf-dist/tex/latex/base/ot1enc.dfu)\n",
      "(/usr/share/texlive/texmf-dist/tex/latex/base/omsenc.dfu)))\n",
      "(/usr/share/texmf/tex/latex/pgf/frontendlayer/tikz.sty\n",
      "(/usr/share/texmf/tex/latex/pgf/basiclayer/pgf.sty\n",
      "(/usr/share/texmf/tex/latex/pgf/utilities/pgfrcs.sty\n",
      "(/usr/share/texmf/tex/generic/pgf/utilities/pgfutil-common.tex)\n",
      "(/usr/share/texmf/tex/generic/pgf/utilities/pgfutil-latex.def\n",
      "(/usr/share/texlive/texmf-dist/tex/latex/ms/everyshi.sty))\n",
      "(/usr/share/texmf/tex/generic/pgf/utilities/pgfrcs.code.tex))\n",
      "(/usr/share/texmf/tex/latex/pgf/basiclayer/pgfcore.sty\n",
      "(/usr/share/texlive/texmf-dist/tex/latex/graphics/graphicx.sty\n",
      "(/usr/share/texlive/texmf-dist/tex/latex/graphics/keyval.sty)\n",
      "(/usr/share/texlive/texmf-dist/tex/latex/graphics/graphics.sty\n",
      "(/usr/share/texlive/texmf-dist/tex/latex/graphics/trig.sty)\n",
      "(/usr/share/texlive/texmf-dist/tex/latex/latexconfig/graphics.cfg)))\n",
      "(/usr/share/texmf/tex/latex/pgf/systemlayer/pgfsys.sty\n",
      "(/usr/share/texmf/tex/generic/pgf/systemlayer/pgfsys.code.tex\n",
      "(/usr/share/texmf/tex/generic/pgf/utilities/pgfkeys.code.tex\n",
      "(/usr/share/texmf/tex/generic/pgf/utilities/pgfkeysfiltered.code.tex))\n",
      "(/usr/share/texmf/tex/generic/pgf/systemlayer/pgf.cfg)\n",
      "(/usr/share/texmf/tex/generic/pgf/systemlayer/pgfsys-dvips.def\n",
      "(/usr/share/texmf/tex/generic/pgf/systemlayer/pgfsys-common-postscript.def)))\n",
      "(/usr/share/texmf/tex/generic/pgf/systemlayer/pgfsyssoftpath.code.tex)\n",
      "(/usr/share/texmf/tex/generic/pgf/systemlayer/pgfsysprotocol.code.tex))\n",
      "(/usr/share/texmf/tex/generic/pgf/basiclayer/pgfcore.code.tex\n",
      "(/usr/share/texmf/tex/generic/pgf/math/pgfmath.code.tex\n",
      "(/usr/share/texmf/tex/generic/pgf/math/pgfmathcalc.code.tex\n",
      "(/usr/share/texmf/tex/generic/pgf/math/pgfmathutil.code.tex)\n",
      "(/usr/share/texmf/tex/generic/pgf/math/pgfmathparser.code.tex)\n",
      "(/usr/share/texmf/tex/generic/pgf/math/pgfmathfunctions.code.tex\n",
      "(/usr/share/texmf/tex/generic/pgf/math/pgfmathfunctions.basic.code.tex)\n",
      "(/usr/share/texmf/tex/generic/pgf/math/pgfmathfunctions.trigonometric.code.tex)\n",
      "(/usr/share/texmf/tex/generic/pgf/math/pgfmathfunctions.random.code.tex)\n",
      "(/usr/share/texmf/tex/generic/pgf/math/pgfmathfunctions.comparison.code.tex)\n",
      "(/usr/share/texmf/tex/generic/pgf/math/pgfmathfunctions.base.code.tex)\n",
      "(/usr/share/texmf/tex/generic/pgf/math/pgfmathfunctions.round.code.tex)\n",
      "(/usr/share/texmf/tex/generic/pgf/math/pgfmathfunctions.misc.code.tex)))\n",
      "(/usr/share/texmf/tex/generic/pgf/math/pgfmathfloat.code.tex))\n",
      "(/usr/share/texmf/tex/generic/pgf/basiclayer/pgfcorepoints.code.tex)\n",
      "(/usr/share/texmf/tex/generic/pgf/basiclayer/pgfcorepathconstruct.code.tex)\n",
      "(/usr/share/texmf/tex/generic/pgf/basiclayer/pgfcorepathusage.code.tex)\n",
      "(/usr/share/texmf/tex/generic/pgf/basiclayer/pgfcorescopes.code.tex)\n",
      "(/usr/share/texmf/tex/generic/pgf/basiclayer/pgfcoregraphicstate.code.tex)\n",
      "(/usr/share/texmf/tex/generic/pgf/basiclayer/pgfcoretransformations.code.tex)\n",
      "(/usr/share/texmf/tex/generic/pgf/basiclayer/pgfcorequick.code.tex)\n",
      "(/usr/share/texmf/tex/generic/pgf/basiclayer/pgfcoreobjects.code.tex)\n",
      "(/usr/share/texmf/tex/generic/pgf/basiclayer/pgfcorepathprocessing.code.tex)\n",
      "(/usr/share/texmf/tex/generic/pgf/basiclayer/pgfcorearrows.code.tex)\n",
      "(/usr/share/texmf/tex/generic/pgf/basiclayer/pgfcoreshade.code.tex)\n",
      "(/usr/share/texmf/tex/generic/pgf/basiclayer/pgfcoreimage.code.tex\n",
      "(/usr/share/texmf/tex/generic/pgf/basiclayer/pgfcoreexternal.code.tex))\n",
      "(/usr/share/texmf/tex/generic/pgf/basiclayer/pgfcorelayers.code.tex)\n",
      "(/usr/share/texmf/tex/generic/pgf/basiclayer/pgfcoretransparency.code.tex)\n",
      "(/usr/share/texmf/tex/generic/pgf/basiclayer/pgfcorepatterns.code.tex)))\n",
      "(/usr/share/texmf/tex/generic/pgf/modules/pgfmoduleshapes.code.tex)\n",
      "(/usr/share/texmf/tex/generic/pgf/modules/pgfmoduleplot.code.tex)\n",
      "(/usr/share/texmf/tex/latex/pgf/compatibility/pgfcomp-version-0-65.sty)\n",
      "(/usr/share/texmf/tex/latex/pgf/compatibility/pgfcomp-version-1-18.sty))\n",
      "(/usr/share/texmf/tex/latex/pgf/utilities/pgffor.sty\n",
      "(/usr/share/texmf/tex/latex/pgf/utilities/pgfkeys.sty\n",
      "(/usr/share/texmf/tex/generic/pgf/utilities/pgfkeys.code.tex))\n",
      "(/usr/share/texmf/tex/generic/pgf/utilities/pgffor.code.tex))\n",
      "(/usr/share/texmf/tex/generic/pgf/frontendlayer/tikz/tikz.code.tex\n",
      "(/usr/share/texmf/tex/generic/pgf/libraries/pgflibraryplothandlers.code.tex)\n",
      "(/usr/share/texmf/tex/generic/pgf/modules/pgfmodulematrix.code.tex)\n",
      "(/usr/share/texmf/tex/generic/pgf/frontendlayer/tikz/libraries/tikzlibrarytopat\n",
      "hs.code.tex)))\n",
      "(/usr/share/texmf/tex/generic/pgf/frontendlayer/tikz/libraries/tikzlibrarysnake\n",
      "s.code.tex\n",
      "\n",
      "Package tikz Warning: Snakes have been superseded by decorations. Please use th\n",
      "e decoration libraries instead of the snakes library on input line 14.\n",
      "\n",
      "\n",
      "(/usr/share/texmf/tex/generic/pgf/frontendlayer/tikz/libraries/tikzlibrarydecor\n",
      "ations.pathmorphing.code.tex\n",
      "(/usr/share/texmf/tex/generic/pgf/frontendlayer/tikz/libraries/tikzlibrarydecor\n",
      "ations.code.tex\n",
      "(/usr/share/texmf/tex/generic/pgf/modules/pgfmoduledecorations.code.tex))\n",
      "(/usr/share/texmf/tex/generic/pgf/libraries/decorations/pgflibrarydecorations.p\n",
      "athmorphing.code.tex))\n",
      "(/usr/share/texmf/tex/generic/pgf/frontendlayer/tikz/libraries/tikzlibrarydecor\n",
      "ations.pathreplacing.code.tex\n",
      "(/usr/share/texmf/tex/generic/pgf/libraries/decorations/pgflibrarydecorations.p\n",
      "athreplacing.code.tex))\n",
      "(/usr/share/texmf/tex/generic/pgf/frontendlayer/tikz/libraries/tikzlibrarydecor\n",
      "ations.shapes.code.tex\n",
      "(/usr/share/texmf/tex/generic/pgf/libraries/decorations/pgflibrarydecorations.s\n",
      "hapes.code.tex)))\n",
      "(/usr/share/texmf/tex/generic/pgf/frontendlayer/tikz/libraries/tikzlibraryarrow\n",
      "s.code.tex\n",
      "(/usr/share/texmf/tex/generic/pgf/libraries/pgflibraryarrows.code.tex))\n",
      "(/usr/share/texmf/tex/generic/pgf/frontendlayer/tikz/libraries/tikzlibraryshape\n",
      "s.code.tex\n",
      "(/usr/share/texmf/tex/generic/pgf/frontendlayer/tikz/libraries/tikzlibraryshape\n",
      "s.geometric.code.tex\n",
      "(/usr/share/texmf/tex/generic/pgf/libraries/shapes/pgflibraryshapes.geometric.c\n",
      "ode.tex))\n",
      "(/usr/share/texmf/tex/generic/pgf/frontendlayer/tikz/libraries/tikzlibraryshape\n",
      "s.misc.code.tex\n",
      "(/usr/share/texmf/tex/generic/pgf/libraries/shapes/pgflibraryshapes.misc.code.t\n",
      "ex))\n",
      "(/usr/share/texmf/tex/generic/pgf/frontendlayer/tikz/libraries/tikzlibraryshape\n",
      "s.symbols.code.tex\n",
      "(/usr/share/texmf/tex/generic/pgf/libraries/shapes/pgflibraryshapes.symbols.cod\n",
      "e.tex))\n",
      "(/usr/share/texmf/tex/generic/pgf/frontendlayer/tikz/libraries/tikzlibraryshape\n",
      "s.arrows.code.tex\n",
      "(/usr/share/texmf/tex/generic/pgf/libraries/shapes/pgflibraryshapes.arrows.code\n",
      ".tex))\n",
      "(/usr/share/texmf/tex/generic/pgf/frontendlayer/tikz/libraries/tikzlibraryshape\n",
      "s.callouts.code.tex\n",
      "(/usr/share/texmf/tex/generic/pgf/libraries/shapes/pgflibraryshapes.callouts.co\n",
      "de.tex))\n",
      "(/usr/share/texmf/tex/generic/pgf/frontendlayer/tikz/libraries/tikzlibraryshape\n",
      "s.multipart.code.tex\n",
      "(/usr/share/texmf/tex/generic/pgf/libraries/shapes/pgflibraryshapes.multipart.c\n",
      "ode.tex))) (/usr/share/texlive/texmf-dist/tex/latex/amsmath/amsmath.sty\n",
      "For additional information on amsmath, use the `?' option.\n",
      "(/usr/share/texlive/texmf-dist/tex/latex/amsmath/amstext.sty\n",
      "(/usr/share/texlive/texmf-dist/tex/latex/amsmath/amsgen.sty))\n",
      "(/usr/share/texlive/texmf-dist/tex/latex/amsmath/amsbsy.sty)\n",
      "(/usr/share/texlive/texmf-dist/tex/latex/amsmath/amsopn.sty))\n",
      "(/usr/share/texmf/tex/generic/pgf/frontendlayer/tikz/libraries/tikzlibraryautom\n",
      "ata.code.tex)\n",
      "No file ex_2a.aux.\n",
      "ABD: EveryShipout initializing macros [1] (./ex_2a.aux) )\n",
      "(see the transcript file for additional information)\n",
      "Output written on ex_2a.dvi (1 page, 6664 bytes).\n",
      "Transcript written on ex_2a.log.\n"
     ]
    },
    {
     "name": "stderr",
     "output_type": "stream",
     "text": [
      "This is dvips(k) 5.993 Copyright 2013 Radical Eye Software (www.radicaleye.com)\n",
      "' TeX output 2018.09.24:0407' -> ex_2a.ps\n",
      "</usr/share/texlive/texmf-dist/dvips/base/tex.pro>\n",
      "</usr/share/texlive/texmf-dist/dvips/base/texps.pro>\n",
      "</usr/share/texlive/texmf-dist/dvips/base/special.pro>\n",
      "</usr/share/texlive/texmf-dist/dvips/base/color.pro>. \n",
      "</usr/share/texlive/texmf-dist/fonts/type1/public/amsfonts/cm/cmmi7.pfb>\n",
      "</usr/share/texlive/texmf-dist/fonts/type1/public/amsfonts/cm/cmmi10.pfb>[1] \n"
     ]
    }
   ],
   "source": [
    "%%bash\n",
    "circo -Txdot models/ex_2a.dot | dot2tex -tmath --tikzedgelabels --docpreamble '\\usetikzlibrary{automata}' \\\n",
    "    -s  > models/ex_2a.tex\n",
    "latex models/ex_2a.tex\n",
    "dvips ex_2a.dvi\n",
    "ps2epsi ex_2a.ps\n",
    "convert ex_2a.epsi images/ex_2a.png\n",
    "rm *.dvi  *.ps *.epsi *.log *.aux"
   ]
  },
  {
   "cell_type": "code",
   "execution_count": 19,
   "metadata": {
    "collapsed": false
   },
   "outputs": [
    {
     "data": {
      "image/png": "[encoded data removed]",
      "text/plain": [
       "<IPython.core.display.Image object>"
      ]
     },
     "execution_count": 19,
     "metadata": {},
     "output_type": "execute_result"
    }
   ],
   "source": [
    "Image(\"images/ex_2a.png\")"
   ]
  },
  {
   "cell_type": "markdown",
   "metadata": {
    "collapsed": true
   },
   "source": [
    "## Multi-Arm Bandit（多椀バンディット問題）を解く\n",
    "強化学習では有名な例題みたい。\n",
    "- http://ibisml.org/archive/ibis2014/ibis2014_bandit.pdf\n",
    "\n",
    "前提条件\n",
    "- 複数台のスロットマシンをプレイするギャンブラーのモデル \n",
    "- 得られる報酬の確率分布は台によって異なる\n",
    "- なるべく期待値の高い台をプレイしたい\n",
    "\n",
    "問題点\n",
    "- ある程度の回数プレイしないと台の良し悪しが分からない\n",
    "- 報酬の期待値の低い台を何度もプレイすると損\n",
    "\n",
    "ここでは、最高$10まででるスロットルマシーンが題材となっている。\n",
    "\n",
    "- 報酬: $R_k$（k回目の報酬）\n",
    "- 報酬の期待値: $Q_k(a)$（アクションaに対するk回目までの期待値）\n",
    "\n",
    "$$\n",
    "Q_k(a) = \\frac{R_1 + R_2 + ... + R_k}{k_a}\n",
    "$$\n",
    "\n",
    "アクションaの最尤値は、以下のように定義される。\n",
    "\n",
    "$$\n",
    "a = argmax_a (Q_k(a))\n",
    "$$"
   ]
  },
  {
   "cell_type": "markdown",
   "metadata": {
    "collapsed": true
   },
   "source": [
    "## Epsilon-Greedy法\n",
    "確率$\\epsilon$でランダムに選択し、残りの$(1-\\epsilon)$は、過去のプレイを元にベストのアクションを使用する。"
   ]
  },
  {
   "cell_type": "code",
   "execution_count": 97,
   "metadata": {
    "collapsed": false
   },
   "outputs": [],
   "source": [
    "from scipy import stats\n",
    "import random\n",
    "\n",
    "n = 10\n",
    "arms = np.random.rand(n)  # 各アームの潜在確率\n",
    "eps = 0.2\n",
    "actions = np.zeros(n)"
   ]
  },
  {
   "cell_type": "markdown",
   "metadata": {},
   "source": [
    "報酬は次のように実装します。"
   ]
  },
  {
   "cell_type": "code",
   "execution_count": 98,
   "metadata": {
    "collapsed": true
   },
   "outputs": [],
   "source": [
    "def reward(prob, n=10):\n",
    "    reward = 0\n",
    "    for i in range(n):\n",
    "        if random.random() < prob:\n",
    "            reward += 1\n",
    "    return reward"
   ]
  },
  {
   "cell_type": "markdown",
   "metadata": {},
   "source": [
    "過去の履歴historyはアクションaと報酬rewardのタプルで表します。"
   ]
  },
  {
   "cell_type": "code",
   "execution_count": 99,
   "metadata": {
    "collapsed": false
   },
   "outputs": [
    {
     "data": {
      "text/plain": [
       "array([[1, 8],\n",
       "       [2, 4],\n",
       "       [1, 7]])"
      ]
     },
     "execution_count": 99,
     "metadata": {},
     "output_type": "execute_result"
    }
   ],
   "source": [
    "history = np.array([(1,8), (2,4), (1,7)])\n",
    "history"
   ]
  },
  {
   "cell_type": "markdown",
   "metadata": {},
   "source": [
    "この例では、３つのサンプル、アーム１で\\$8、アーム２で\\$4、アーム1で\\$7を獲得したことを表します。\n",
    "この例ではアーム1が(8+7)/2=7.5で一番報酬が多い"
   ]
  },
  {
   "cell_type": "code",
   "execution_count": 100,
   "metadata": {
    "collapsed": true
   },
   "outputs": [],
   "source": [
    "def get_best_arm(pastRewards, actions):\n",
    "    bestArm = 0 #just default to 0\n",
    "    bestMean = 0\n",
    "    for action in actions:\n",
    "        avg = np.mean(pastRewards[np.where(pastRewards[:,0] == action)][:, 1])\n",
    "        if avg > bestMean:\n",
    "            bestMean = avg\n",
    "            bestArm = action\n",
    "    return bestArm"
   ]
  },
  {
   "cell_type": "markdown",
   "metadata": {},
   "source": [
    "結果のグラフは、乱数に依存し、私が試したところeps=0.2で何度か試行して以下の結果を得た！"
   ]
  },
  {
   "cell_type": "code",
   "execution_count": 101,
   "metadata": {
    "collapsed": false
   },
   "outputs": [
    {
     "name": "stderr",
     "output_type": "stream",
     "text": [
      "/usr/lib/sagemath/local/lib/python2.7/site-packages/ipykernel/__main__.py:11: VisibleDeprecationWarning: using a non-integer number instead of an integer will result in an error in the future\n"
     ]
    },
    {
     "data": {
      "image/png": "[encoded data removed]",
      "text/plain": [
       "<matplotlib.figure.Figure at 0x7fbf1f401a10>"
      ]
     },
     "metadata": {},
     "output_type": "display_data"
    }
   ],
   "source": [
    "# avに３回の実施結果を入れて初期値とする\n",
    "# avの初期値はnp.arrayにしないとダメだった\n",
    "av = np.array([(1,8), (2,4), (1,7)])\n",
    "plt.xlabel(\"Plays\")\n",
    "plt.ylabel(\"Avg Reward\")\n",
    "for i in  range(500):\n",
    "    if random.random() > eps:\n",
    "        choice = get_best_arm(av, actions)\n",
    "    else:\n",
    "        choice = np.where(arms == np.random.choice(arms))[0][0]\n",
    "    thisAv = np.array([[choice, reward(arms[choice])]])\n",
    "    av = np.vstack((av, thisAv))\n",
    "    runningMean = np.mean(av[:,1])\n",
    "    plt.scatter(i, runningMean)"
   ]
  },
  {
   "cell_type": "markdown",
   "metadata": {},
   "source": [
    "## Softmax選択ポリシー\n",
    "ボルツマン分布を使う\n",
    "\n",
    "$$\n",
    "Pr(A) = \\frac{e^{Q_k(A)/\\tau}}{\\Sigma_{i=1}^n e^{Q_k(i)/\\tau}}\n",
    "$$\n",
    "\n",
    "- $\\tau$は温度パラメータで、大きくなるほどすべての行動が選択される確率は同程度になる\n",
    "- $\\tau$が小さくなるほど価値推定値が大きい行動が選択されやすくなる"
   ]
  },
  {
   "cell_type": "code",
   "execution_count": 25,
   "metadata": {
    "collapsed": false
   },
   "outputs": [],
   "source": [
    "n = 10\n",
    "arms = np.random.rand(n)\n",
    "av = np.ones(n)\n",
    "counts = np.zeros(n)\n",
    "av_softmax = np.zeros(n)\n",
    "av_softmax[:] = 1.0/n"
   ]
  },
  {
   "cell_type": "code",
   "execution_count": 26,
   "metadata": {
    "collapsed": true
   },
   "outputs": [],
   "source": [
    "def softmax(av, tau=1.12):\n",
    "    softm = ( np.exp(av/tau)/np.sum(np.exp(av/tau)) )\n",
    "    return softm"
   ]
  },
  {
   "cell_type": "code",
   "execution_count": 27,
   "metadata": {
    "collapsed": false,
    "scrolled": true
   },
   "outputs": [
    {
     "data": {
      "image/png": "[encoded data removed]",
      "text/plain": [
       "<matplotlib.figure.Figure at 0x7fbf1fb73dd0>"
      ]
     },
     "metadata": {},
     "output_type": "display_data"
    }
   ],
   "source": [
    "rwds = []\n",
    "plt.xlabel(\"Plays\")\n",
    "plt.ylabel(\"Avg Reward\")\n",
    "for i in range(500):\n",
    "    choice = np.where(arms == np.random.choice(arms, p=av_softmax))[0][0]\n",
    "    counts[choice] += 1\n",
    "    k = counts[choice]\n",
    "    rwd = reward(arms[choice])\n",
    "    rwds.append(rwd)\n",
    "    old_avg = av[choice]\n",
    "    new_avg = old_avg + (1/k)*(rwd - old_avg)\n",
    "    av[choice] = new_avg\n",
    "    av_softmax = softmax(av)\n",
    "    runningMean = np.mean(rwds)\n",
    "    plt.scatter(i, runningMean)"
   ]
  },
  {
   "cell_type": "markdown",
   "metadata": {},
   "source": [
    "## torchでgradationを計算する\n"
   ]
  },
  {
   "cell_type": "code",
   "execution_count": 28,
   "metadata": {
    "collapsed": false
   },
   "outputs": [
    {
     "data": {
      "text/plain": [
       "tensor([[ 1.,  2.,  3.],\n",
       "        [ 4.,  5.,  6.]])"
      ]
     },
     "execution_count": 28,
     "metadata": {},
     "output_type": "execute_result"
    }
   ],
   "source": [
    "import torch\n",
    "\n",
    "torch.Tensor([[1, 2, 3], [4, 5, 6]])"
   ]
  },
  {
   "cell_type": "markdown",
   "metadata": {},
   "source": [
    "\n",
    "$$\n",
    "y = \\frac{1}{2}x - 1\n",
    "$$"
   ]
  },
  {
   "cell_type": "code",
   "execution_count": 29,
   "metadata": {
    "collapsed": false
   },
   "outputs": [
    {
     "name": "stdout",
     "output_type": "stream",
     "text": [
      "tensor([-0.9101,  0.0229])\n",
      "tensor([ 0.2651])\n"
     ]
    }
   ],
   "source": [
    "x = torch.Tensor([2, 4])\n",
    "y_known = torch.Tensor([0, 1])\n",
    "m = torch.randn(2, requires_grad=True)\n",
    "b = torch.randn(1, requires_grad=True)\n",
    "y =  m*x + b\n",
    "print m \n",
    "print b"
   ]
  },
  {
   "cell_type": "code",
   "execution_count": 30,
   "metadata": {
    "collapsed": false
   },
   "outputs": [
    {
     "name": "stdout",
     "output_type": "stream",
     "text": [
      "tensor([ -8.7934, -17.5867])\n",
      "tensor([-8.7934])\n"
     ]
    }
   ],
   "source": [
    "loss = (torch.sum(y_known - y))**2\n",
    "loss.backward()\n",
    "print(m.grad)\n",
    "print(b.grad)"
   ]
  },
  {
   "cell_type": "code",
   "execution_count": 35,
   "metadata": {
    "collapsed": false
   },
   "outputs": [],
   "source": [
    "import numpy as np\n",
    "import torch as th\n",
    "from torch.autograd import Variable\n",
    "from matplotlib import pyplot as plt\n",
    "import random\n",
    "%matplotlib inline"
   ]
  },
  {
   "cell_type": "code",
   "execution_count": 36,
   "metadata": {
    "collapsed": true
   },
   "outputs": [],
   "source": [
    "class ContextBandit:\n",
    "    def __init__(self, arms=10):\n",
    "        self.arms = arms\n",
    "        self.init_distribution(arms)\n",
    "        self.update_state()\n",
    "        \n",
    "    def init_distribution(self, arms):\n",
    "        # Num states = Num Arms to keep things simple\n",
    "        self.bandit_matrix = np.random.rand(arms,arms)\n",
    "        #each row represents a state, each column an arm\n",
    "        \n",
    "    def reward(self, prob):\n",
    "        reward = 0\n",
    "        for i in range(self.arms):\n",
    "            if random.random() < prob:\n",
    "                reward += 1\n",
    "        return reward\n",
    "        \n",
    "    def get_state(self):\n",
    "        return self.state\n",
    "    \n",
    "    def update_state(self):\n",
    "        self.state = np.random.randint(0,self.arms)\n",
    "        \n",
    "    def get_reward(self,arm):\n",
    "        return self.reward(self.bandit_matrix[self.get_state()][arm])\n",
    "        \n",
    "    def choose_arm(self, arm):\n",
    "        reward = self.get_reward(arm)\n",
    "        self.update_state()\n",
    "        return reward\n"
   ]
  },
  {
   "cell_type": "code",
   "execution_count": 37,
   "metadata": {
    "collapsed": true
   },
   "outputs": [],
   "source": [
    "def softmax(av, tau=1.12):\n",
    "    n = len(av)\n",
    "    probs = np.zeros(n)\n",
    "    for i in range(n):\n",
    "        softm = ( np.exp(av[i] / tau) / np.sum( np.exp(av[:] / tau) ) )\n",
    "        probs[i] = softm\n",
    "    return probs\n",
    "\n",
    "def one_hot(N, pos, val=1):\n",
    "    one_hot_vec = np.zeros(N)\n",
    "    one_hot_vec[pos] = val\n",
    "    return one_hot_vec\n",
    "\n",
    "arms = 10\n",
    "# N is batch size; D_in is input dimension;\n",
    "# H is hidden dimension; D_out is output dimension.\n",
    "N, D_in, H, D_out = 1, arms, 100, arms\n",
    "\n",
    "model = th.nn.Sequential(\n",
    "    th.nn.Linear(D_in, H),\n",
    "    th.nn.ReLU(),\n",
    "    th.nn.Linear(H, D_out),\n",
    "    th.nn.ReLU(),\n",
    ")\n",
    "\n",
    "loss_fn = th.nn.MSELoss(size_average=False)\n",
    "\n",
    "env = ContextBandit(arms)"
   ]
  },
  {
   "cell_type": "code",
   "execution_count": 38,
   "metadata": {
    "collapsed": true
   },
   "outputs": [],
   "source": [
    "def train(env):\n",
    "    epochs = 5000\n",
    "    #one-hot encode current state\n",
    "    cur_state = Variable(th.Tensor(one_hot(arms,env.get_state())))\n",
    "    reward_hist = np.zeros(50)\n",
    "    reward_hist[:] = 5\n",
    "    runningMean = np.average(reward_hist)\n",
    "    learning_rate = 1e-2\n",
    "    optimizer = th.optim.Adam(model.parameters(), lr=learning_rate)\n",
    "    plt.xlabel(\"Plays\")\n",
    "    plt.ylabel(\"Mean Reward\")\n",
    "    for i in range(epochs):\n",
    "        y_pred = model(cur_state) #produce reward predictions\n",
    "        av_softmax = softmax(y_pred.data.numpy(), tau=2.0) #turn reward distribution into probability distribution\n",
    "        av_softmax /= av_softmax.sum() #make sure total prob adds to 1\n",
    "        choice = np.random.choice(arms, p=av_softmax) #sample an action\n",
    "        cur_reward = env.choose_arm(choice)\n",
    "        one_hot_reward = y_pred.data.numpy().copy()\n",
    "        one_hot_reward[choice] = cur_reward\n",
    "        reward = Variable(th.Tensor(one_hot_reward))\n",
    "        loss = loss_fn(y_pred, reward)\n",
    "        if i % 50 == 0:\n",
    "            runningMean = np.average(reward_hist)\n",
    "            reward_hist[:] = 0\n",
    "            plt.scatter(i, runningMean)\n",
    "        reward_hist[i % 50] = cur_reward\n",
    "        optimizer.zero_grad()\n",
    "\n",
    "        # Backward pass: compute gradient of the loss with respect to model\n",
    "        # parameters\n",
    "        loss.backward()\n",
    "\n",
    "        # Calling the step function on an Optimizer makes an update to its\n",
    "        # parameters\n",
    "        optimizer.step()\n",
    "        cur_state = Variable(th.Tensor(one_hot(arms,env.get_state())))"
   ]
  },
  {
   "cell_type": "code",
   "execution_count": 39,
   "metadata": {
    "collapsed": false
   },
   "outputs": [
    {
     "data": {
      "image/png": "[encoded data removed]",
      "text/plain": [
       "<matplotlib.figure.Figure at 0x7fbf2030d210>"
      ]
     },
     "metadata": {},
     "output_type": "display_data"
    }
   ],
   "source": [
    "train(env)"
   ]
  },
  {
   "cell_type": "code",
   "execution_count": null,
   "metadata": {
    "collapsed": true
   },
   "outputs": [],
   "source": []
  }
 ],
 "metadata": {
  "kernelspec": {
   "display_name": "Python 2",
   "language": "python",
   "name": "python2"
  },
  "language_info": {
   "codemirror_mode": {
    "name": "ipython",
    "version": 2
   },
   "file_extension": ".py",
   "mimetype": "text/x-python",
   "name": "python",
   "nbconvert_exporter": "python",
   "pygments_lexer": "ipython2",
   "version": "2.7.13"
  }
 },
 "nbformat": 4,
 "nbformat_minor": 0
}
