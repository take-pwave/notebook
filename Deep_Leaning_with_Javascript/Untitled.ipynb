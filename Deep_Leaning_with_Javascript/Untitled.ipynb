{
 "cells": [
  {
   "cell_type": "markdown",
   "metadata": {},
   "source": [
    "## Chapter 2\n",
    "勉強ノート"
   ]
  },
  {
   "cell_type": "code",
   "execution_count": 28,
   "metadata": {},
   "outputs": [
    {
     "data": {
      "text/html": [
       "<head>\n",
       "  <meta charset=\"UTF-8\">\n",
       "  <meta name=\"viewport\" content=\"width=device-width, initial-scale=1.0\">\n",
       "  <meta http-equiv=\"X-UA-Compatible\" content=\"ie=edge\">\n",
       "  <!-- load Tensorflow.js -->\n",
       "  <script src=\"https://cdn.jsdelivr.net/npm/@tensorflow/tfjs@1.0.0/dist/tf.min.js\"></script>\n",
       "</head>\n"
      ],
      "text/plain": [
       "<IPython.core.display.HTML object>"
      ]
     },
     "metadata": {},
     "output_type": "display_data"
    }
   ],
   "source": [
    "%%HTML\n",
    "<head>\n",
    "  <meta charset=\"UTF-8\">\n",
    "  <meta name=\"viewport\" content=\"width=device-width, initial-scale=1.0\">\n",
    "  <meta http-equiv=\"X-UA-Compatible\" content=\"ie=edge\">\n",
    "  <!-- load Tensorflow.js -->\n",
    "  <script src=\"https://cdn.jsdelivr.net/npm/@tensorflow/tfjs@1.0.0/dist/tf.min.js\"></script>\n",
    "</head>"
   ]
  },
  {
   "cell_type": "code",
   "execution_count": 19,
   "metadata": {},
   "outputs": [],
   "source": [
    "# 以下のような記述がある\n",
    "junk = \"\"\"\n",
    "%%javascript\n",
    "require.config({\n",
    "  paths: {\n",
    "      tf: 'https://cdn.jsdelivr.net/npm/@tensorflow/tfjs@1.0.0/dist/tf.min.js'\n",
    "  }\n",
    "});\n",
    "\"\"\""
   ]
  },
  {
   "cell_type": "code",
   "execution_count": 11,
   "metadata": {},
   "outputs": [
    {
     "data": {
      "application/javascript": [
       "let a = ['hello', 'world', 2 * 1009];\n",
       "console.log(a);\n"
      ],
      "text/plain": [
       "<IPython.core.display.Javascript object>"
      ]
     },
     "metadata": {},
     "output_type": "display_data"
    }
   ],
   "source": [
    "%%javascript\n",
    "let a = ['hello', 'world', 2 * 1009];\n",
    "console.log(a);"
   ]
  },
  {
   "cell_type": "code",
   "execution_count": 29,
   "metadata": {},
   "outputs": [
    {
     "data": {
      "application/javascript": [
       "const trainData = {\n",
       "    sizeMB:  [0.080, 9.000, 0.001, 0.100, 8.000, 5.000, 0.100, 6.000, 0.050, 0.500,\n",
       "            0.002, 2.000, 0.005, 10.00, 0.010, 7.000, 6.000, 5.000, 1.000, 1.000],\n",
       "    timeSec: [0.135, 0.739, 0.067, 0.126, 0.646, 0.435, 0.069, 0.497, 0.068, 0.116,\n",
       "            0.070, 0.289, 0.076, 0.744, 0.083, 0.560, 0.480, 0.399, 0.153, 0.149]\n",
       "};\n",
       "const testData = {\n",
       "    sizeMB:  [5.000, 0.200, 0.001, 9.000, 0.002, 0.020, 0.008, 4.000, 0.001, 1.000,\n",
       "            0.005, 0.080, 0.800, 0.200, 0.050, 7.000, 0.005, 0.002, 8.000, 0.008],\n",
       "    timeSec: [0.425, 0.098, 0.052, 0.686, 0.066, 0.078, 0.070, 0.375, 0.058, 0.136,\n",
       "            0.052, 0.063, 0.183, 0.087, 0.066, 0.558, 0.066, 0.068, 0.610, 0.057]\n",
       "};\n",
       "\n",
       "const trainTensors = {\n",
       "    sizeMB: tf.tensor2d(trainData.sizeMB, [20, 1]),  \n",
       "    timeSec: tf.tensor2d(trainData.timeSec, [20, 1])\n",
       "};\n",
       "const testTensors = {\n",
       "    sizeMB: tf.tensor2d(testData.sizeMB, [20, 1]),\n",
       "    timeSec: tf.tensor2d(testData.timeSec, [20, 1])\n",
       "};\n"
      ],
      "text/plain": [
       "<IPython.core.display.Javascript object>"
      ]
     },
     "metadata": {},
     "output_type": "display_data"
    }
   ],
   "source": [
    "%%javascript\n",
    "const trainData = {\n",
    "    sizeMB:  [0.080, 9.000, 0.001, 0.100, 8.000, 5.000, 0.100, 6.000, 0.050, 0.500,\n",
    "            0.002, 2.000, 0.005, 10.00, 0.010, 7.000, 6.000, 5.000, 1.000, 1.000],\n",
    "    timeSec: [0.135, 0.739, 0.067, 0.126, 0.646, 0.435, 0.069, 0.497, 0.068, 0.116,\n",
    "            0.070, 0.289, 0.076, 0.744, 0.083, 0.560, 0.480, 0.399, 0.153, 0.149]\n",
    "};\n",
    "const testData = {\n",
    "    sizeMB:  [5.000, 0.200, 0.001, 9.000, 0.002, 0.020, 0.008, 4.000, 0.001, 1.000,\n",
    "            0.005, 0.080, 0.800, 0.200, 0.050, 7.000, 0.005, 0.002, 8.000, 0.008],\n",
    "    timeSec: [0.425, 0.098, 0.052, 0.686, 0.066, 0.078, 0.070, 0.375, 0.058, 0.136,\n",
    "            0.052, 0.063, 0.183, 0.087, 0.066, 0.558, 0.066, 0.068, 0.610, 0.057]\n",
    "};\n",
    "\n",
    "const trainTensors = {\n",
    "    sizeMB: tf.tensor2d(trainData.sizeMB, [20, 1]),  \n",
    "    timeSec: tf.tensor2d(trainData.timeSec, [20, 1])\n",
    "};\n",
    "const testTensors = {\n",
    "    sizeMB: tf.tensor2d(testData.sizeMB, [20, 1]),\n",
    "    timeSec: tf.tensor2d(testData.timeSec, [20, 1])\n",
    "};\n"
   ]
  },
  {
   "cell_type": "code",
   "execution_count": 15,
   "metadata": {
    "scrolled": true
   },
   "outputs": [
    {
     "data": {
      "application/javascript": [
       "const tf = require('@tensorflow/tfjs')\n"
      ],
      "text/plain": [
       "<IPython.core.display.Javascript object>"
      ]
     },
     "metadata": {},
     "output_type": "display_data"
    }
   ],
   "source": [
    "%%javascript\n",
    "const tf = require('@tensorflow/tfjs')"
   ]
  },
  {
   "cell_type": "code",
   "execution_count": 17,
   "metadata": {},
   "outputs": [
    {
     "data": {
      "application/javascript": [
       "alert('Hello, world!')"
      ],
      "text/plain": [
       "<IPython.core.display.Javascript object>"
      ]
     },
     "execution_count": 17,
     "metadata": {},
     "output_type": "execute_result"
    }
   ],
   "source": [
    "from IPython.core.display import Javascript\n",
    "Javascript(\"alert('Hello, world!')\")"
   ]
  },
  {
   "cell_type": "markdown",
   "metadata": {},
   "source": [
    "## JavascriptからPythonの変数にアクセス\n"
   ]
  },
  {
   "cell_type": "code",
   "execution_count": 31,
   "metadata": {},
   "outputs": [],
   "source": [
    "from IPython.core.display import HTML"
   ]
  },
  {
   "cell_type": "code",
   "execution_count": 32,
   "metadata": {},
   "outputs": [
    {
     "data": {
      "application/javascript": [
       "var kernel = IPython.notebook.kernel;\n",
       "kernel.execute(\"hoge = 2\")\n"
      ],
      "text/plain": [
       "<IPython.core.display.Javascript object>"
      ]
     },
     "metadata": {},
     "output_type": "display_data"
    }
   ],
   "source": [
    "%%javascript\n",
    "var kernel = IPython.notebook.kernel;\n",
    "kernel.execute(\"hoge = 2\")"
   ]
  },
  {
   "cell_type": "code",
   "execution_count": 33,
   "metadata": {},
   "outputs": [
    {
     "name": "stdout",
     "output_type": "stream",
     "text": [
      "2\n"
     ]
    }
   ],
   "source": [
    "print(hoge)"
   ]
  },
  {
   "cell_type": "code",
   "execution_count": 34,
   "metadata": {},
   "outputs": [
    {
     "data": {
      "text/html": [
       "\n",
       "<head>\n",
       "  <script src=\"https://cdn.jsdelivr.net/npm/@tensorflow/tfjs@1.0.0/dist/tf.min.js\"></script>\n",
       "</head>\n",
       "<javascript>\n",
       "const trainData = {\n",
       "    sizeMB:  [0.080, 9.000, 0.001, 0.100, 8.000, 5.000, 0.100, 6.000, 0.050, 0.500,\n",
       "            0.002, 2.000, 0.005, 10.00, 0.010, 7.000, 6.000, 5.000, 1.000, 1.000],\n",
       "    timeSec: [0.135, 0.739, 0.067, 0.126, 0.646, 0.435, 0.069, 0.497, 0.068, 0.116,\n",
       "            0.070, 0.289, 0.076, 0.744, 0.083, 0.560, 0.480, 0.399, 0.153, 0.149]\n",
       "};\n",
       "const testData = {\n",
       "    sizeMB:  [5.000, 0.200, 0.001, 9.000, 0.002, 0.020, 0.008, 4.000, 0.001, 1.000,\n",
       "            0.005, 0.080, 0.800, 0.200, 0.050, 7.000, 0.005, 0.002, 8.000, 0.008],\n",
       "    timeSec: [0.425, 0.098, 0.052, 0.686, 0.066, 0.078, 0.070, 0.375, 0.058, 0.136,\n",
       "            0.052, 0.063, 0.183, 0.087, 0.066, 0.558, 0.066, 0.068, 0.610, 0.057]\n",
       "};\n",
       "\n",
       "const trainTensors = {\n",
       "    sizeMB: tf.tensor2d(trainData.sizeMB, [20, 1]),  \n",
       "    timeSec: tf.tensor2d(trainData.timeSec, [20, 1])\n",
       "};\n",
       "const testTensors = {\n",
       "    sizeMB: tf.tensor2d(testData.sizeMB, [20, 1]),\n",
       "    timeSec: tf.tensor2d(testData.timeSec, [20, 1])\n",
       "};\n",
       "console.log(testTensors)\n",
       "</javascript>\n"
      ],
      "text/plain": [
       "<IPython.core.display.HTML object>"
      ]
     },
     "execution_count": 34,
     "metadata": {},
     "output_type": "execute_result"
    }
   ],
   "source": [
    "javascript = '''\n",
    "<head>\n",
    "  <script src=\"https://cdn.jsdelivr.net/npm/@tensorflow/tfjs@1.0.0/dist/tf.min.js\"></script>\n",
    "</head>\n",
    "<javascript>\n",
    "const trainData = {\n",
    "    sizeMB:  [0.080, 9.000, 0.001, 0.100, 8.000, 5.000, 0.100, 6.000, 0.050, 0.500,\n",
    "            0.002, 2.000, 0.005, 10.00, 0.010, 7.000, 6.000, 5.000, 1.000, 1.000],\n",
    "    timeSec: [0.135, 0.739, 0.067, 0.126, 0.646, 0.435, 0.069, 0.497, 0.068, 0.116,\n",
    "            0.070, 0.289, 0.076, 0.744, 0.083, 0.560, 0.480, 0.399, 0.153, 0.149]\n",
    "};\n",
    "const testData = {\n",
    "    sizeMB:  [5.000, 0.200, 0.001, 9.000, 0.002, 0.020, 0.008, 4.000, 0.001, 1.000,\n",
    "            0.005, 0.080, 0.800, 0.200, 0.050, 7.000, 0.005, 0.002, 8.000, 0.008],\n",
    "    timeSec: [0.425, 0.098, 0.052, 0.686, 0.066, 0.078, 0.070, 0.375, 0.058, 0.136,\n",
    "            0.052, 0.063, 0.183, 0.087, 0.066, 0.558, 0.066, 0.068, 0.610, 0.057]\n",
    "};\n",
    "\n",
    "const trainTensors = {\n",
    "    sizeMB: tf.tensor2d(trainData.sizeMB, [20, 1]),  \n",
    "    timeSec: tf.tensor2d(trainData.timeSec, [20, 1])\n",
    "};\n",
    "const testTensors = {\n",
    "    sizeMB: tf.tensor2d(testData.sizeMB, [20, 1]),\n",
    "    timeSec: tf.tensor2d(testData.timeSec, [20, 1])\n",
    "};\n",
    "console.log(testTensors)\n",
    "</javascript>\n",
    "'''\n",
    "HTML(javascript)"
   ]
  },
  {
   "cell_type": "code",
   "execution_count": 35,
   "metadata": {},
   "outputs": [
    {
     "data": {
      "application/javascript": [
       "console.log(\"hello\")\n"
      ],
      "text/plain": [
       "<IPython.core.display.Javascript object>"
      ]
     },
     "metadata": {},
     "output_type": "display_data"
    }
   ],
   "source": [
    "%%javascript\n",
    "console.log(\"hello\")"
   ]
  },
  {
   "cell_type": "code",
   "execution_count": null,
   "metadata": {},
   "outputs": [],
   "source": []
  }
 ],
 "metadata": {
  "kernelspec": {
   "display_name": "Python 3",
   "language": "python",
   "name": "python3"
  },
  "language_info": {
   "codemirror_mode": {
    "name": "ipython",
    "version": 3
   },
   "file_extension": ".py",
   "mimetype": "text/x-python",
   "name": "python",
   "nbconvert_exporter": "python",
   "pygments_lexer": "ipython3",
   "version": "3.7.3"
  }
 },
 "nbformat": 4,
 "nbformat_minor": 2
}
